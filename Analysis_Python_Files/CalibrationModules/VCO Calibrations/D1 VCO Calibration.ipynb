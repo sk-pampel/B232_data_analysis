version https://git-lfs.github.com/spec/v1
oid sha256:ac8187f873e2851d7542ab1228bea6b2a0f7f99512e55d17293472308bb7eb02
size 56199
