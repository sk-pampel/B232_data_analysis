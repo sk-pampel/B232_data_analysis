version https://git-lfs.github.com/spec/v1
oid sha256:62098491fb7e458806c4fcc430fe76bf1d930e727c357195498cdd6833ae22c7
size 109622
