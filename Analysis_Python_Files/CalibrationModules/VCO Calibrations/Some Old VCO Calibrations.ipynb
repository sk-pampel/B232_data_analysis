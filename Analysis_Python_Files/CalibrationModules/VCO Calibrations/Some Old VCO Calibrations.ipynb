{
 "cells": [
  {
   "cell_type": "markdown",
   "metadata": {
    "heading_collapsed": true,
    "run_control": {
     "frozen": false,
     "read_only": false
    },
    "toc": "true"
   },
   "source": [
    "# Table of Contents\n",
    " <p><div class=\"lev1 toc-item\"><a href=\"#Title\" data-toc-modified-id=\"Title-1\"><span class=\"toc-item-num\">1&nbsp;&nbsp;</span>Title</a></div><div class=\"lev2 toc-item\"><a href=\"#Goals\" data-toc-modified-id=\"Goals-1.1\"><span class=\"toc-item-num\">1.1&nbsp;&nbsp;</span>Goals</a></div><div class=\"lev1 toc-item\"><a href=\"#Setup\" data-toc-modified-id=\"Setup-2\"><span class=\"toc-item-num\">2&nbsp;&nbsp;</span>Setup</a></div><div class=\"lev2 toc-item\"><a href=\"#Imports-and-Settings\" data-toc-modified-id=\"Imports-and-Settings-2.1\"><span class=\"toc-item-num\">2.1&nbsp;&nbsp;</span>Imports and Settings</a></div><div class=\"lev3 toc-item\"><a href=\"#Miscellaneous-Imports\" data-toc-modified-id=\"Miscellaneous-Imports-2.1.1\"><span class=\"toc-item-num\">2.1.1&nbsp;&nbsp;</span>Miscellaneous Imports</a></div><div class=\"lev3 toc-item\"><a href=\"#Matplotlib-Settings\" data-toc-modified-id=\"Matplotlib-Settings-2.1.2\"><span class=\"toc-item-num\">2.1.2&nbsp;&nbsp;</span>Matplotlib Settings</a></div><div class=\"lev3 toc-item\"><a href=\"#SymPy\" data-toc-modified-id=\"SymPy-2.1.3\"><span class=\"toc-item-num\">2.1.3&nbsp;&nbsp;</span>SymPy</a></div><div class=\"lev3 toc-item\"><a href=\"#Javascript-Settings\" data-toc-modified-id=\"Javascript-Settings-2.1.4\"><span class=\"toc-item-num\">2.1.4&nbsp;&nbsp;</span>Javascript Settings</a></div><div class=\"lev2 toc-item\"><a href=\"#Constants\" data-toc-modified-id=\"Constants-2.2\"><span class=\"toc-item-num\">2.2&nbsp;&nbsp;</span>Constants</a></div><div class=\"lev3 toc-item\"><a href=\"#Physics-&amp;-Math-Constants\" data-toc-modified-id=\"Physics-&amp;-Math-Constants-2.2.1\"><span class=\"toc-item-num\">2.2.1&nbsp;&nbsp;</span>Physics &amp; Math Constants</a></div><div class=\"lev3 toc-item\"><a href=\"#Lab-Constants\" data-toc-modified-id=\"Lab-Constants-2.2.2\"><span class=\"toc-item-num\">2.2.2&nbsp;&nbsp;</span>Lab Constants</a></div><div class=\"lev3 toc-item\"><a href=\"#Lab-Volatile-Constants\" data-toc-modified-id=\"Lab-Volatile-Constants-2.2.3\"><span class=\"toc-item-num\">2.2.3&nbsp;&nbsp;</span>Lab Volatile Constants</a></div><div class=\"lev3 toc-item\"><a href=\"#Sympy-Constants\" data-toc-modified-id=\"Sympy-Constants-2.2.4\"><span class=\"toc-item-num\">2.2.4&nbsp;&nbsp;</span>Sympy Constants</a></div><div class=\"lev2 toc-item\"><a href=\"#Miscellaneous-Small-Functions\" data-toc-modified-id=\"Miscellaneous-Small-Functions-2.3\"><span class=\"toc-item-num\">2.3&nbsp;&nbsp;</span>Miscellaneous Small Functions</a></div><div class=\"lev3 toc-item\"><a href=\"#Loading-Functions\" data-toc-modified-id=\"Loading-Functions-2.3.1\"><span class=\"toc-item-num\">2.3.1&nbsp;&nbsp;</span>Loading Functions</a></div><div class=\"lev3 toc-item\"><a href=\"#Random-Useful-Functions\" data-toc-modified-id=\"Random-Useful-Functions-2.3.2\"><span class=\"toc-item-num\">2.3.2&nbsp;&nbsp;</span>Random Useful Functions</a></div><div class=\"lev3 toc-item\"><a href=\"#Generic-functions-for-fits\" data-toc-modified-id=\"Generic-functions-for-fits-2.3.3\"><span class=\"toc-item-num\">2.3.3&nbsp;&nbsp;</span>Generic functions for fits</a></div><div class=\"lev3 toc-item\"><a href=\"#Specialty-functions-for-fits\" data-toc-modified-id=\"Specialty-functions-for-fits-2.3.4\"><span class=\"toc-item-num\">2.3.4&nbsp;&nbsp;</span>Specialty functions for fits</a></div><div class=\"lev3 toc-item\"><a href=\"#Fitting-Functions\" data-toc-modified-id=\"Fitting-Functions-2.3.5\"><span class=\"toc-item-num\">2.3.5&nbsp;&nbsp;</span>Fitting Functions</a></div><div class=\"lev2 toc-item\"><a href=\"#Analysis-&amp;-Plotting\" data-toc-modified-id=\"Analysis-&amp;-Plotting-2.4\"><span class=\"toc-item-num\">2.4&nbsp;&nbsp;</span>Analysis &amp; Plotting</a></div><div class=\"lev3 toc-item\"><a href=\"#Plotters\" data-toc-modified-id=\"Plotters-2.4.1\"><span class=\"toc-item-num\">2.4.1&nbsp;&nbsp;</span>Plotters</a></div><div class=\"lev3 toc-item\"><a href=\"#Crunchers\" data-toc-modified-id=\"Crunchers-2.4.2\"><span class=\"toc-item-num\">2.4.2&nbsp;&nbsp;</span>Crunchers</a></div><div class=\"lev3 toc-item\"><a href=\"#Picture-Handling\" data-toc-modified-id=\"Picture-Handling-2.4.3\"><span class=\"toc-item-num\">2.4.3&nbsp;&nbsp;</span>Picture Handling</a></div><div class=\"lev3 toc-item\"><a href=\"#MOT-Analysis\" data-toc-modified-id=\"MOT-Analysis-2.4.4\"><span class=\"toc-item-num\">2.4.4&nbsp;&nbsp;</span>MOT Analysis</a></div><div class=\"lev2 toc-item\"><a href=\"#Packages\" data-toc-modified-id=\"Packages-2.5\"><span class=\"toc-item-num\">2.5&nbsp;&nbsp;</span>Packages</a></div><div class=\"lev3 toc-item\"><a href=\"#Standard-Basler\" data-toc-modified-id=\"Standard-Basler-2.5.1\"><span class=\"toc-item-num\">2.5.1&nbsp;&nbsp;</span>Standard Basler</a></div><div class=\"lev3 toc-item\"><a href=\"#Basler-Temperature\" data-toc-modified-id=\"Basler-Temperature-2.5.2\"><span class=\"toc-item-num\">2.5.2&nbsp;&nbsp;</span>Basler Temperature</a></div><div class=\"lev3 toc-item\"><a href=\"#Standard-Fits\" data-toc-modified-id=\"Standard-Fits-2.5.3\"><span class=\"toc-item-num\">2.5.3&nbsp;&nbsp;</span>Standard Fits</a></div><div class=\"lev3 toc-item\"><a href=\"#Histogram\" data-toc-modified-id=\"Histogram-2.5.4\"><span class=\"toc-item-num\">2.5.4&nbsp;&nbsp;</span>Histogram</a></div><div class=\"lev1 toc-item\"><a href=\"#Work\" data-toc-modified-id=\"Work-3\"><span class=\"toc-item-num\">3&nbsp;&nbsp;</span>Work</a></div>"
   ]
  },
  {
   "cell_type": "markdown",
   "metadata": {
    "heading_collapsed": true,
    "run_control": {
     "frozen": false,
     "read_only": false
    }
   },
   "source": [
    "# Title"
   ]
  },
  {
   "cell_type": "markdown",
   "metadata": {
    "hidden": true,
    "run_control": {
     "frozen": false,
     "read_only": false
    }
   },
   "source": [
    "Mark Brown  \n",
    "Notebook Base Version 1.0"
   ]
  },
  {
   "cell_type": "code",
   "execution_count": 2,
   "metadata": {
    "ExecuteTime": {
     "end_time": "2017-04-28T09:36:21.601040",
     "start_time": "2017-04-28T09:36:21.593043"
    },
    "collapsed": true,
    "hidden": true,
    "run_control": {
     "frozen": false,
     "read_only": false
    }
   },
   "outputs": [],
   "source": [
    "date = \"17????\""
   ]
  },
  {
   "cell_type": "markdown",
   "metadata": {
    "hidden": true,
    "run_control": {
     "frozen": false,
     "read_only": false
    }
   },
   "source": [
    "## Goals"
   ]
  },
  {
   "cell_type": "markdown",
   "metadata": {
    "heading_collapsed": true,
    "run_control": {
     "frozen": false,
     "read_only": false
    }
   },
   "source": [
    "# Setup"
   ]
  },
  {
   "cell_type": "markdown",
   "metadata": {
    "hidden": true,
    "run_control": {
     "frozen": false,
     "read_only": false
    }
   },
   "source": [
    "## Imports and Settings"
   ]
  },
  {
   "cell_type": "markdown",
   "metadata": {
    "heading_collapsed": true,
    "hidden": true,
    "run_control": {
     "frozen": false,
     "read_only": false
    }
   },
   "source": [
    "### Miscellaneous Imports"
   ]
  },
  {
   "cell_type": "code",
   "execution_count": 3,
   "metadata": {
    "ExecuteTime": {
     "end_time": "2017-04-28T09:36:50.868691",
     "start_time": "2017-04-28T09:36:22.409098"
    },
    "collapsed": true,
    "hidden": true,
    "run_control": {
     "frozen": false,
     "read_only": false
    }
   },
   "outputs": [],
   "source": [
    "import numpy as np\n",
    "from numpy import array as arr\n",
    "import pandas as pd\n",
    "import collections\n",
    "from mpl_toolkits.mplot3d import axes3d\n",
    "from scipy.optimize import curve_fit as fit\n",
    "from astropy.io import fits\n",
    "import math as m\n",
    "import sys"
   ]
  },
  {
   "cell_type": "markdown",
   "metadata": {
    "hidden": true,
    "run_control": {
     "frozen": false,
     "read_only": false
    }
   },
   "source": [
    "### Matplotlib Settings"
   ]
  },
  {
   "cell_type": "code",
   "execution_count": 4,
   "metadata": {
    "ExecuteTime": {
     "end_time": "2017-04-28T13:02:24.150277",
     "start_time": "2017-04-28T13:02:24.135247"
    },
    "collapsed": true,
    "hidden": true,
    "run_control": {
     "frozen": false,
     "read_only": false
    }
   },
   "outputs": [],
   "source": [
    "import matplotlib as mpl\n",
    "from matplotlib.pyplot import *\n",
    "### set matplotlib plot defaults :D\n",
    "%matplotlib inline\n",
    "# Style controls many default colors in matplotlib plots.\n",
    "# Change the following if you don't like dark backgrounds. Many other options.\n",
    "style.use(['dark_background'])\n",
    "mpl.rcParams['axes.facecolor'] = '#0a0a0a'\n",
    "# the default cycling of colors in this mode isn't very good.\n",
    "mpl.rcParams['axes.prop_cycle'] = cycler('color', ['r','c','g','#FFFFFF','y','m','b'])\n",
    "mpl.rcParams['figure.figsize'] = (18.0, 8.0)\n",
    "mpl.rcParams['axes.grid'] = True\n",
    "mpl.rcParams['axes.formatter.useoffset'] = False\n",
    "mpl.rcParams['grid.alpha'] = 0.3\n",
    "mpl.rcParams['axes.formatter.limits'] = (0,1)\n",
    "# jet is awful.\n",
    "mpl.rcParams['image.cmap'] = 'inferno'\n",
    "# to see all available options, decomment this line.\n",
    "#print(mpl.rcParams)\n",
    "mpl.rcParams['font.size'] = 14"
   ]
  },
  {
   "cell_type": "markdown",
   "metadata": {
    "heading_collapsed": true,
    "hidden": true,
    "run_control": {
     "frozen": false,
     "read_only": false
    }
   },
   "source": [
    "### SymPy"
   ]
  },
  {
   "cell_type": "code",
   "execution_count": 5,
   "metadata": {
    "ExecuteTime": {
     "end_time": "2017-04-28T09:37:05.857173",
     "start_time": "2017-04-28T09:36:53.269674"
    },
    "collapsed": true,
    "hidden": true,
    "run_control": {
     "frozen": false,
     "read_only": false
    }
   },
   "outputs": [],
   "source": [
    "import sympy as sp\n",
    "sp.init_printing(use_latex=True)\n",
    "# see the constants section for some constants set in sympy"
   ]
  },
  {
   "cell_type": "markdown",
   "metadata": {
    "heading_collapsed": true,
    "hidden": true,
    "hide_input": false,
    "run_control": {
     "frozen": false,
     "read_only": false
    }
   },
   "source": [
    "### Javascript Settings"
   ]
  },
  {
   "cell_type": "code",
   "execution_count": 6,
   "metadata": {
    "ExecuteTime": {
     "end_time": "2017-04-28T09:37:05.867116",
     "start_time": "2017-04-28T09:37:05.857173"
    },
    "collapsed": false,
    "hidden": true,
    "run_control": {
     "frozen": false,
     "read_only": false
    }
   },
   "outputs": [
    {
     "data": {
      "application/javascript": [
       "// the above line makes this entire cell run javascript commands.\n",
       "// this gets rid of scroll bars on the output by default. It's in javascript because javascript is used \n",
       "// by Jupyter to actually render the notebook display.\n",
       "IPython.OutputArea.auto_scroll_threshold = 9999;"
      ],
      "text/plain": [
       "<IPython.core.display.Javascript object>"
      ]
     },
     "metadata": {},
     "output_type": "display_data"
    }
   ],
   "source": [
    "    %%javascript\n",
    "    // the above line makes this entire cell run javascript commands.\n",
    "    // this gets rid of scroll bars on the output by default. It's in javascript because javascript is used \n",
    "    // by Jupyter to actually render the notebook display.\n",
    "    IPython.OutputArea.auto_scroll_threshold = 9999;"
   ]
  },
  {
   "cell_type": "markdown",
   "metadata": {
    "heading_collapsed": true,
    "hidden": true,
    "run_control": {
     "frozen": false,
     "read_only": false
    }
   },
   "source": [
    "## Constants"
   ]
  },
  {
   "cell_type": "markdown",
   "metadata": {
    "heading_collapsed": true,
    "hidden": true,
    "run_control": {
     "frozen": false,
     "read_only": false
    }
   },
   "source": [
    "### Physics & Math Constants"
   ]
  },
  {
   "cell_type": "code",
   "execution_count": 7,
   "metadata": {
    "ExecuteTime": {
     "end_time": "2017-04-28T09:37:06.017149",
     "start_time": "2017-04-28T09:37:05.867116"
    },
    "collapsed": true,
    "hidden": true,
    "run_control": {
     "frozen": false,
     "read_only": false
    }
   },
   "outputs": [],
   "source": [
    "# all in mks\n",
    "H = 6.6260700e-34\n",
    "# reduced planck's constant\n",
    "HBAR = 1.0545718e-34\n",
    "# boltzman's constant\n",
    "K_B = 1.380649e-23\n",
    "# speed of light (exact)\n",
    "c = 299792458\n",
    "# Stephan-Boltzman constant\n",
    "sigma = 5.6704e-8\n",
    "# atomic mass unit\n",
    "amu = 1.6605390e-27\n",
    "# rubidium 87 mass\n",
    "m_Rb87 = 86.909180527 * amu\n",
    "# use numpy\n",
    "pi = np.pi\n",
    "# gravity\n",
    "g = 9.80665\n",
    "\n",
    "rb87Gamma = 38.1*10**6\n",
    "rb87I_Sat = 3.576\n",
    "# should refine...\n",
    "rbD2LineWavelength = 780*10**-9\n",
    "rbD1LineWavelength = 795*10**-9"
   ]
  },
  {
   "cell_type": "markdown",
   "metadata": {
    "heading_collapsed": true,
    "hidden": true,
    "run_control": {
     "frozen": false,
     "read_only": false
    }
   },
   "source": [
    "### Lab Constants"
   ]
  },
  {
   "cell_type": "code",
   "execution_count": 8,
   "metadata": {
    "ExecuteTime": {
     "end_time": "2017-04-28T09:37:06.207208",
     "start_time": "2017-04-28T09:37:06.017149"
    },
    "collapsed": true,
    "hidden": true,
    "run_control": {
     "frozen": false,
     "read_only": false
    }
   },
   "outputs": [],
   "source": [
    "andorDataRepository = \"\\\\\\\\andor\\\\share\\\\Data and documents\\\\Data repository\\\\\"\n",
    "rawDataLoc = date + \"\\\\Raw Data\\\\\"\n",
    "opBeamDacToVoltageConversion = [8.5, -22.532, -1.9323, -0.35142]\n",
    "# 7.4 x 7.4 micron mixel size\n",
    "baslerCcdPixelSize = 7.4e-6\n",
    "# 16 micron pixels\n",
    "andorPixelSize = 16e-6\n",
    "# basler conversion... joules per greyscale count.\n",
    "# number from theory of camera operation\n",
    "C = 117*10**-18 \n",
    "#number from measurement. I suspect this is a little high because I think I underestimated the attenuation \n",
    "# of the signal by the 780nm filter.\n",
    "# C = 161*10**-18 "
   ]
  },
  {
   "cell_type": "markdown",
   "metadata": {
    "heading_collapsed": true,
    "hidden": true,
    "run_control": {
     "frozen": false,
     "read_only": false
    }
   },
   "source": [
    "### Lab Volatile Constants"
   ]
  },
  {
   "cell_type": "markdown",
   "metadata": {
    "hidden": true,
    "run_control": {
     "frozen": false,
     "read_only": false
    }
   },
   "source": [
    "Constants that can easily change day to day depending on drifts, etc."
   ]
  },
  {
   "cell_type": "code",
   "execution_count": 9,
   "metadata": {
    "ExecuteTime": {
     "end_time": "2017-04-28T09:37:06.337494",
     "start_time": "2017-04-28T09:37:06.207208"
    },
    "collapsed": true,
    "hidden": true,
    "run_control": {
     "frozen": false,
     "read_only": false
    }
   },
   "outputs": [],
   "source": [
    "# this changes when the imaging system for the basler changes. there's a notebook for calculating this. \n",
    "baslerMetersPer4x4Pixel = 61.7818944758e-6\n",
    "baslerMetersPerPixel = baslerMetersPer4x4Pixel / 4\n",
    "# in mW\n",
    "sidemotPower = 0.75\n",
    "# in mW\n",
    "diagonalMPower = 9.3\n",
    "# in cm\n",
    "motRadius = 5 * baslerMetersPer4x4Pixel * 100\n",
    "# in hertz\n",
    "imagingDetuning = 10*10**6\n",
    "baslerRawGain = 260\n",
    "# in cm\n",
    "axialImagingLensDiameter = 2.54\n",
    "# in cm\n",
    "axialImagingLensFocalLength = 10"
   ]
  },
  {
   "cell_type": "markdown",
   "metadata": {
    "heading_collapsed": true,
    "hidden": true,
    "run_control": {
     "frozen": false,
     "read_only": false
    }
   },
   "source": [
    "### Sympy Constants"
   ]
  },
  {
   "cell_type": "code",
   "execution_count": 10,
   "metadata": {
    "ExecuteTime": {
     "end_time": "2017-04-28T09:37:06.504425",
     "start_time": "2017-04-28T09:37:06.339510"
    },
    "collapsed": true,
    "hidden": true,
    "run_control": {
     "frozen": false,
     "read_only": false
    }
   },
   "outputs": [],
   "source": [
    "# Pauli Matrices\n",
    "X = sigma_x = sp.Matrix([[0,1],[1,0]])\n",
    "Y = sigma_y = sp.Matrix([[0,-1j],[1j,0]])\n",
    "Z = sigma_z = sp.Matrix([[1,0],[0,-1]])\n",
    "# Hadamard\n",
    "H = hadamard = sp.Matrix([[1,1],[1,-1]])\n",
    "# Phase Gate\n",
    "S = phaseGate = sp.Matrix([[1,0],[0,1j]])\n",
    "# Phase Shift gate\n",
    "def phaseShiftGate(phi):\n",
    "    return sp.Matrix([[1,0],[[0,sp.exp(1j*phi)]]])\n"
   ]
  },
  {
   "cell_type": "markdown",
   "metadata": {
    "heading_collapsed": true,
    "hidden": true,
    "run_control": {
     "frozen": false,
     "read_only": false
    }
   },
   "source": [
    "## Miscellaneous Small Functions"
   ]
  },
  {
   "cell_type": "markdown",
   "metadata": {
    "ExecuteTime": {
     "end_time": "2017-03-31T10:55:52.589000Z",
     "start_time": "2017-03-31T10:55:52.579474"
    },
    "heading_collapsed": true,
    "hidden": true,
    "run_control": {
     "frozen": false,
     "read_only": false
    }
   },
   "source": [
    "### Loading Functions"
   ]
  },
  {
   "cell_type": "code",
   "execution_count": 11,
   "metadata": {
    "ExecuteTime": {
     "end_time": "2017-04-28T09:37:06.688986",
     "start_time": "2017-04-28T09:37:06.504425"
    },
    "collapsed": true,
    "hidden": true,
    "run_control": {
     "frozen": false,
     "read_only": false
    }
   },
   "outputs": [],
   "source": [
    "def loadBasler(num):\n",
    "    path = andorDataRepository + rawDataLoc + \"Run\" + str(num) + \".txt\"\n",
    "    return pd.read_csv(path, sep='\\t', header=None).as_matrix()"
   ]
  },
  {
   "cell_type": "code",
   "execution_count": 12,
   "metadata": {
    "ExecuteTime": {
     "end_time": "2017-04-28T09:37:06.868634",
     "start_time": "2017-04-28T09:37:06.688986"
    },
    "collapsed": true,
    "hidden": true,
    "run_control": {
     "frozen": false,
     "read_only": false
    }
   },
   "outputs": [],
   "source": [
    "def loadFits(num):\n",
    "    # Get the array from the fits file. That's all I care about.\n",
    "    path = andorDataRepository + rawDataLoc + \"data_\" + str(num) + \".fits\"\n",
    "    with fits.open(path, \"append\") as fitsInfo:\n",
    "        rawData = np.array(fitsInfo[0].data);\n",
    "    return rawData"
   ]
  },
  {
   "cell_type": "code",
   "execution_count": 13,
   "metadata": {
    "ExecuteTime": {
     "end_time": "2017-04-28T09:37:07.008602",
     "start_time": "2017-04-28T09:37:06.868634"
    },
    "collapsed": true,
    "hidden": true,
    "run_control": {
     "frozen": false,
     "read_only": false
    }
   },
   "outputs": [],
   "source": [
    "def loadKey(num):\n",
    "    key = np.array([]);\n",
    "    path = andorDataRepository + rawDataLoc + \"key_\" + str(num) + \".txt\"\n",
    "    with open(path) as keyFile:\n",
    "        for line in keyFile:\n",
    "            key = np.append(key, float(line.strip('\\n')))\n",
    "        keyFile.close()            \n",
    "    return key"
   ]
  },
  {
   "cell_type": "markdown",
   "metadata": {
    "heading_collapsed": true,
    "hidden": true,
    "run_control": {
     "frozen": false,
     "read_only": false
    }
   },
   "source": [
    "### Random Useful Functions"
   ]
  },
  {
   "cell_type": "code",
   "execution_count": 14,
   "metadata": {
    "ExecuteTime": {
     "end_time": "2017-04-28T09:37:07.156271",
     "start_time": "2017-04-28T09:37:07.008602"
    },
    "collapsed": true,
    "hidden": true,
    "run_control": {
     "frozen": false,
     "read_only": false
    }
   },
   "outputs": [],
   "source": [
    "def round_sig(x, sig=3):\n",
    "    return round(x, sig-int(m.floor(m.log10(abs(x)+np.finfo(float).eps)))-1)"
   ]
  },
  {
   "cell_type": "code",
   "execution_count": 15,
   "metadata": {
    "ExecuteTime": {
     "end_time": "2017-04-28T09:37:07.296267",
     "start_time": "2017-04-28T09:37:07.156271"
    },
    "collapsed": true,
    "hidden": true,
    "run_control": {
     "frozen": false,
     "read_only": false
    }
   },
   "outputs": [],
   "source": [
    "def orderData(data, key):\n",
    "    key, data = zip(*sorted(zip(key, data)))\n",
    "    return arr(data), arr(key)"
   ]
  },
  {
   "cell_type": "code",
   "execution_count": 16,
   "metadata": {
    "ExecuteTime": {
     "end_time": "2017-04-28T09:37:07.419934",
     "start_time": "2017-04-28T09:37:07.296267"
    },
    "collapsed": true,
    "hidden": true,
    "run_control": {
     "frozen": false,
     "read_only": false
    }
   },
   "outputs": [],
   "source": [
    "def getLabels(plotType):\n",
    "    if plotType == \"Detuning\":\n",
    "        xlabel = \"Detuning (dac value)\"\n",
    "        title = \"Detuning Scan\"\n",
    "    elif plotType == \"Field\":\n",
    "        xlabel = \"Differential Field Change / 2 (dac value)\"\n",
    "        title = \"Differential Magnetic Field Scan\"\n",
    "    elif plotType == \"Time(ms)\":\n",
    "        xlabel =\"Time(ms)\"\n",
    "        title = \"Time Scan\"\n",
    "    elif plotType == \"Power\":\n",
    "        xlabel =\"Power (dac units)\"\n",
    "        title = \"Power Scan\"\n",
    "    else:\n",
    "        xlabel =\"Key Value\"\n",
    "        title = \"\"\n",
    "    return xlabel, title"
   ]
  },
  {
   "cell_type": "code",
   "execution_count": 17,
   "metadata": {
    "ExecuteTime": {
     "end_time": "2017-04-28T09:37:07.555261",
     "start_time": "2017-04-28T09:37:07.419934"
    },
    "collapsed": true,
    "hidden": true,
    "run_control": {
     "frozen": false,
     "read_only": false
    }
   },
   "outputs": [],
   "source": [
    "def combineData(data, key):\n",
    "    \"\"\"\n",
    "    combines similar key value data entries. data will be in order that unique key items appear in key. \n",
    "    For example, if key = [1,3,5,3,7,1], returned key and corresponding data will be newKey = [1, 3, 5, 7]\n",
    "    \"\"\"\n",
    "    items = {}\n",
    "    newKey = []\n",
    "    newData = []\n",
    "    for elem in key:\n",
    "        #print(elem)\n",
    "        if str(elem) not in items:\n",
    "            indexes = [i for i, x in enumerate(key) if x == elem]\n",
    "            # don't get it again\n",
    "            items[str(elem)] = \"!\"\n",
    "            newKey.append(elem)\n",
    "            newItem = np.zeros((data.shape[1], data.shape[2]))\n",
    "            # average together the corresponding data.\n",
    "            for index in indexes:\n",
    "                newItem += data[index]\n",
    "            newItem /= len(indexes)\n",
    "            newData.append(newItem)\n",
    "    return arr(newData), arr(newKey)\n"
   ]
  },
  {
   "cell_type": "markdown",
   "metadata": {
    "heading_collapsed": true,
    "hidden": true,
    "run_control": {
     "frozen": false,
     "read_only": false
    }
   },
   "source": [
    "### Generic functions for fits"
   ]
  },
  {
   "cell_type": "code",
   "execution_count": 18,
   "metadata": {
    "ExecuteTime": {
     "end_time": "2017-04-28T09:37:07.689339",
     "start_time": "2017-04-28T09:37:07.557523"
    },
    "collapsed": true,
    "hidden": true,
    "run_control": {
     "frozen": false,
     "read_only": false
    }
   },
   "outputs": [],
   "source": [
    "# Fits \n",
    "def quadratic(x,a,b,x0):\n",
    "    # This assumes downward facing. Best to write another function for upward facing if need be, I think.\n",
    "    if a < 0:\n",
    "        return 10**10\n",
    "    if b > 0:\n",
    "        return 10**10\n",
    "    return a + b*(x-x0)**2\n",
    "\n",
    "\n",
    "def gaussian(x, A1, x01, sig1, offset):\n",
    "    if (offset < 0):\n",
    "        return 10**10\n",
    "    return offset + A1 * np.exp(-(x-x01)**2/(2*sig1**2))\n",
    "\n",
    "\n",
    "def doubleGaussian(x, A1, x01, sig1, A2, x02, sig2, offset):\n",
    "    if (A1 < 0 or A2 < 0):\n",
    "        # Penalize negative fits.\n",
    "        return 10**10\n",
    "    if (offset < 0):\n",
    "        return 10**10\n",
    "    return offset + A1 * np.exp(-(x-x01)**2/(2*sig1**2)) + A2 * np.exp(-(x-x02)**2/(2*sig2**2))\n",
    "\n",
    "\n",
    "def tripleGaussian(x, A1, x01, sig1, A2, x02, sig2, A3, x03, sig3, offset ):\n",
    "    if (A1 < 0 or A2 < 0 or A3 < 0):\n",
    "        # Penalize negative fits.\n",
    "        return 10**10\n",
    "    if (offset < 0):\n",
    "        return 10**10\n",
    "    return (offset + A1 * np.exp(-(x-x01)**2/(2*sig1**2)) + A2 * np.exp(-(x-x02)**2/(2*sig2**2)) \n",
    "            + A3 * np.exp(-(x-x03)**2/(2*sig3**2)))\n",
    "# Stolen from http://stackoverflow.com/questions/21566379/fitting-a-2d-gaussian-function-using-scipy-optimize-curve-fit-valueerror-and-m\n",
    "def gaussian_2D(coordinates, amplitude, xo, yo, sigma_x, sigma_y, theta, offset):\n",
    "    x = coordinates[0]\n",
    "    y = coordinates[1]\n",
    "    xo = float(xo)\n",
    "    yo = float(yo)    \n",
    "    a = (np.cos(theta)**2)/(2*sigma_x**2) + (np.sin(theta)**2)/(2*sigma_y**2)\n",
    "    b = -(np.sin(2*theta))/(4*sigma_x**2) + (np.sin(2*theta))/(4*sigma_y**2)\n",
    "    c = (np.sin(theta)**2)/(2*sigma_x**2) + (np.cos(theta)**2)/(2*sigma_y**2)\n",
    "    g = offset + amplitude*np.exp( - (a*((x-xo)**2) + 2*b*(x-xo)*(y-yo) + c*((y-yo)**2)))\n",
    "    return g.ravel()\n",
    "\n",
    "def decayingCos(x, A, tau, f, phi, offset):\n",
    "    # Just for sanity. Keep some numbers positive.\n",
    "    if (A < 0):\n",
    "        return x * 10**10\n",
    "    if (phi < 0):\n",
    "        return x * 10**10\n",
    "    if (offset < 0):\n",
    "        return x * 10**10\n",
    "    # no growing fits.\n",
    "    if (tau > 0):\n",
    "        return x * 10**10\n",
    "    return offset + (1 - A/2 * np.exp(-x/tau) * np.cos(2 * np.pi * f * x + phi))\n",
    "\n",
    "def sinc2(x, A, center, scale, offset):\n",
    "    \"\"\"\n",
    "    The 2 here referes to squared!\n",
    "    \"\"\"\n",
    "    if (offset < 0):\n",
    "        return x * 10**10\n",
    "    if (A < 0):\n",
    "        return x * 10**10\n",
    "    return (A * np.sinc((x - center)/scale)**2 + offset)\n",
    "\n",
    "\n",
    "def lorentzian(x, A, center, width, offset):\n",
    "    if (offset < 0):\n",
    "        return x * 10**10\n",
    "    if (A < 0):\n",
    "        return x * 10**10\n",
    "    return (A /((x - center)**2 + (width/2)**2))\n",
    "\n",
    "\n",
    "def poissonian(x, k, weight):    \n",
    "    \"\"\"\n",
    "    This function calculates p_k{x} = weight * e^(-k) * k^x / x!.\n",
    "    :param x: argument of the poissonian\n",
    "    :param k: order or (approximate) mean of the poissonian.\n",
    "    :param weight: a weight factor, related to the maximum data this is supposed to be fitted to, but typically over-\n",
    "    weighted for the purposes of this function.\n",
    "    :return: the poissonian evaluated at x given the parametes.\n",
    "    \"\"\"\n",
    "    import numpy as np\n",
    "    term = 1\n",
    "    # calculate the term k^x / x!. Can't do this directly, x! is too large.\n",
    "    for n in range(0, int(x)):\n",
    "        term *= k / (x - n)\n",
    "    return np.exp(-k) * term * weight"
   ]
  },
  {
   "cell_type": "markdown",
   "metadata": {
    "heading_collapsed": true,
    "hidden": true,
    "run_control": {
     "frozen": false,
     "read_only": false
    }
   },
   "source": [
    "### Specialty functions for fits"
   ]
  },
  {
   "cell_type": "markdown",
   "metadata": {
    "hidden": true,
    "run_control": {
     "frozen": false,
     "read_only": false
    }
   },
   "source": [
    "Coming from various theoretical calculations"
   ]
  },
  {
   "cell_type": "code",
   "execution_count": 19,
   "metadata": {
    "ExecuteTime": {
     "end_time": "2017-04-28T09:37:07.879012",
     "start_time": "2017-04-28T09:37:07.689339"
    },
    "collapsed": true,
    "hidden": true,
    "run_control": {
     "frozen": false,
     "read_only": false
    }
   },
   "outputs": [],
   "source": [
    "def ballisticMotExpansion(t, sigma_y0, sigma_vy, sigma_I):\n",
    "    \"\"\"\n",
    "    You can see a derivation of this in a different notebook for temperature calculations. I don't know why, but\n",
    "    this function seems mildly unstable as a fitting function. It doesn't always work very sensibly.\n",
    "    \"\"\"\n",
    "    return sigma_I*np.sqrt((sigma_y0**2 + sigma_vy**2 * t**2)/(sigma_y0**2+sigma_vy**2*t**2+sigma_I**2))\n",
    "\n",
    "def simpleMotExpansion(t, sigma_y0, sigma_vy):\n",
    "    \"\"\"\n",
    "    this simpler version ignores the size of the beam waist of the atoms. \n",
    "    It should generally behave better with noisy data.\n",
    "    \"\"\"\n",
    "    return sigma_y0 + sigma_vy * t\n",
    "\n",
    "\n",
    "def beamWaistExpansion(z, w0, wavelength):\n",
    "    \"\"\" assuming gaussian intensity profile of I~exp{-2z^2/w{z}^2} \"\"\"\n",
    "    return w0 * np.sqrt(1+(wavelength*z/(Pi*w0**3))**2)"
   ]
  },
  {
   "cell_type": "markdown",
   "metadata": {
    "heading_collapsed": true,
    "hidden": true,
    "run_control": {
     "frozen": false,
     "read_only": false
    }
   },
   "source": [
    "### Fitting Functions"
   ]
  },
  {
   "cell_type": "code",
   "execution_count": 20,
   "metadata": {
    "ExecuteTime": {
     "end_time": "2017-04-28T09:37:08.033124",
     "start_time": "2017-04-28T09:37:07.879012"
    },
    "collapsed": true,
    "hidden": true,
    "run_control": {
     "frozen": false,
     "read_only": false
    }
   },
   "outputs": [],
   "source": [
    "def fitPic(picture, show=True):\n",
    "    pos = np.unravel_index(np.argmax(picture), picture.shape)\n",
    "    pic = picture.flatten()\n",
    "    x = np.linspace(1, picture.shape[1], picture.shape[1])\n",
    "    y = np.linspace(1, picture.shape[0], picture.shape[0])\n",
    "    x, y = np.meshgrid(x, y)\n",
    "    initial_guess = (np.max(pic) - np.min(pic),pos[1], pos[0],5,5,0,np.min(pic))\n",
    "    try:        \n",
    "        popt, pcov = fit(gaussian_2D, (x, y), pic, p0=initial_guess)\n",
    "    except RuntimeError:\n",
    "        popt = np.zeros(len(initial_guess))\n",
    "        pcov = np.zeros((len(initial_guess), len(initial_guess)))\n",
    "        raise RuntimeError('Fit Failed!')\n",
    "    if show:\n",
    "        data_fitted = gaussian_2D((x, y), *popt)\n",
    "        fig, ax = subplots(1, 1)\n",
    "        im = ax.imshow(picture, origin='bottom', extent=(x.min(), x.max(), y.min(), y.max()))\n",
    "        ax.contour(x, y, data_fitted.reshape(picture.shape[0],picture.shape[1]), 8, colors='w')\n",
    "        fig.colorbar(im)\n",
    "    return popt, np.sqrt(np.diag(pcov))\n",
    "\n",
    "\n",
    "def fitPictures(pictures, dataRange, show=True):\n",
    "    fitParameters = []\n",
    "    fitErrors = []\n",
    "    count = 0\n",
    "    warningHasBeenThrown = False\n",
    "    for picture in pictures:\n",
    "        if count not in dataRange:\n",
    "            count += 1\n",
    "            fitParameters.append(np.zeros(7))\n",
    "            fitErrors.append(np.zeros(7))\n",
    "        try:\n",
    "            parameters, errors = fitPic(picture, show=False)\n",
    "        except RuntimeError:\n",
    "            if not warningHasBeenThrown:\n",
    "                print(\"Warning! Not all picture fits were able to fit the picture signal to a 2D Gaussian.\\n\"\n",
    "                      \"When the fit fails, the fit parameters are all set to zero.\")\n",
    "                warningHasBeenThrown = True\n",
    "            parameters = np.zeros(7)\n",
    "            errors = np.zeros(7)\n",
    "        # append things regardless of whether the fit succeeds or not in order to keep things the right length.\n",
    "        fitParameters.append(parameters)\n",
    "        fitErrors.append(errors)\n",
    "        count += 1\n",
    "    return np.array(fitParameters), np.array(fitErrors)\n",
    "\n",
    "# expects waists as inputs.\n",
    "# beamWaistExpansion(z, w0, wavelength)\n",
    "def fitBeamWaist(data, key, wavelength):\n",
    "    initial_guess = min(data)\n",
    "    try:        \n",
    "        # fix the wavelength\n",
    "        popt, pcov = fit(lambda x, a: beamWaistExpansion(x, a, wavelength), key, data, p0=initial_guess)\n",
    "    except RuntimeError:\n",
    "        popt = 0\n",
    "        pcov = 0\n",
    "        raise RuntimeError('Fit Failed!')\n",
    "    return popt, pcov"
   ]
  },
  {
   "cell_type": "markdown",
   "metadata": {
    "heading_collapsed": true,
    "hidden": true,
    "run_control": {
     "frozen": false,
     "read_only": false
    }
   },
   "source": [
    "## Analysis & Plotting"
   ]
  },
  {
   "cell_type": "markdown",
   "metadata": {
    "heading_collapsed": true,
    "hidden": true,
    "run_control": {
     "frozen": false,
     "read_only": false
    }
   },
   "source": [
    "### Plotters"
   ]
  },
  {
   "cell_type": "code",
   "execution_count": 21,
   "metadata": {
    "ExecuteTime": {
     "end_time": "2017-04-28T09:37:08.404743",
     "start_time": "2017-04-28T09:37:08.033124"
    },
    "collapsed": true,
    "hidden": true,
    "run_control": {
     "frozen": false,
     "read_only": false
    }
   },
   "outputs": [],
   "source": [
    "def plotPoints(key, majorPlot, minorPlot={}, circleLoc=(-1,-1), picture = arr([[]]), picTitle=\"\"):\n",
    "    \"\"\"\n",
    "    This plotter plots a scatter plot on the main axis from majorPlot,\n",
    "    a scatter on the minor axis using minorPlot, and a picture using picture.\n",
    "    \n",
    "    Parameters:\n",
    "    key: this is used for the x values of both the major plot and the minor plot.\n",
    "    majorPlot: a dictionary with the following elements containing info for the main plot of the figure (REQUIRED):\n",
    "        - \"ax1\": A dictionary containing info for plotting on the first axis (main axis) \n",
    "            with the following elements (REQUIRED):\n",
    "            - \"data\": a 1 or 2-dimensional array with data to be plotted with key (REQUIRED)\n",
    "            - \"ylabel\": label for axis 1 (on the left)\n",
    "            - \"legendLabels\": an array with labels for each data set\n",
    "        - \"ax2\": An optional dictionary containing info for plotting on the second axis, elements similar to ax1\n",
    "        - \"xlabel\": label for the x axis\n",
    "        - \"title\": title\n",
    "        - \"altKey\": another key to plot on the other x-axis (above the plot).\n",
    "    minorPlot: a dictionary with info for the minor plot. Same structure as majorPlotData, but optional.    \n",
    "    \"\"\"\n",
    "    # Setup grid\n",
    "    figure()\n",
    "    grid1 = mpl.gridspec.GridSpec(12, 16)\n",
    "    grid1.update(left=0.05, right=0.95, wspace=1.2, hspace=1000)   \n",
    "    # ### Main Plot\n",
    "    fillPlotDataDefaults(majorPlot)\n",
    "    majorAx1 = subplot(grid1[:, :11])\n",
    "    colors = ['r','c','g','#FFFFFF','y','m','b']\n",
    "    majorLineCount = 0\n",
    "    lines = []\n",
    "    if majorPlot['ax1']['data'].ndim == 1:\n",
    "        lines += majorAx1.plot(key, majorPlot['ax1']['data'], 'o', label=majorPlot['ax1']['legendLabels'], \n",
    "                               color=colors[majorLineCount])\n",
    "        majorLineCount += 1\n",
    "    else:\n",
    "        count = 0\n",
    "        for data in majorPlot['ax1']['data']:\n",
    "            lines += majorAx1.plot(key, data, 'o', label=majorPlot['ax1']['legendLabels'][count], \n",
    "                                   color=colors[majorLineCount])\n",
    "            count += 1\n",
    "            majorLineCount += 1\n",
    "    majorAx1.set_ylabel(majorPlot['ax1']['ylabel'])\n",
    "    \n",
    "    if 'ax2' in majorPlot:\n",
    "        majorAx2 = majorAx1.twinx()\n",
    "        if majorPlot['ax1']['data'].ndim == 1:\n",
    "            lines += majorAx2.plot(key, majorPlot['ax2']['data'], 'o', label=majorPlot['ax2']['legendLabels'], \n",
    "                                   color=colors[majorLineCount])\n",
    "            majorLineCount += 1\n",
    "        else:\n",
    "            count = 0\n",
    "            for data in majorPlot['ax2']['data']:\n",
    "                lines += majorAx2.plot(key, data, 'o', label=majorPlot['ax2']['legendLabels'][count],\n",
    "                                       color=colors[majorLineCount])\n",
    "                count += 1\n",
    "                majorLineCount += 1\n",
    "        majorAx2.set_ylabel(majorPlot['ax2']['ylabel'])\n",
    "        majorAx2.spines['right'].set_color('m')\n",
    "        majorAx2.spines['top'].set_color('m')\n",
    "        majorAx2.yaxis.label.set_color('m')\n",
    "        majorAx2.tick_params(axis='y', colors='m')\n",
    "        majorAx2.grid(color='m')\n",
    "        #majorAx2.set_yticklabels([round_sig(tick) for tick in arr(majorAx2.get_yticks().tolist())], rotation=70)\n",
    "    \n",
    "    majorAx1.legend(lines, [l.get_label() for l in lines], loc='best', fancybox=True, framealpha=0.4)\n",
    "    majorAx1.set_xlabel(majorPlot['xlabel'])\n",
    "    majorAx1.set_title(majorPlot['title'])\n",
    "    #majorAx1.set_yticklabels([round_sig(tick) for tick in arr(majorAx1.get_yticks().tolist())], rotation=70)\n",
    "    \n",
    "    #print(majorAx1.xaxis.get_majorticklabels())\n",
    "    #todo, maybe modify this if I want to use it in the future.\n",
    "    if 'majorAltKey' in majorPlot:\n",
    "        ax2 = majorAx1.twiny()\n",
    "        ticks = majorAx1.get_xticks()\n",
    "        ax2.plot(majorPlot['majorAltKey'], majorPlot['ax1']['data'], 'o')\n",
    "        ax2.grid(color='c')\n",
    "        ax2.spines['top'].set_color('c')\n",
    "        ax2.xaxis.label.set_color('c')\n",
    "        ax2.tick_params(axis='x', colors='c')\n",
    "        ax2.set_xlabel(\"DAC Values\")\n",
    "        ax2.set_xlim(reversed(ax2.get_xlim()))\n",
    "    \n",
    "    # Minor Data Plot\n",
    "    lines = []\n",
    "    if 'ax1' in minorPlot:\n",
    "        fillPlotDataDefaults(minorPlot)\n",
    "        minorAx1 = subplot(grid1[0:6, 12:16])\n",
    "        minorLineCount = 0\n",
    "        if minorPlot['ax1']['data'].ndim == 1:\n",
    "            lines += minorAx1.plot(key, minorPlot['ax1']['data'], 'o', label=minorPlot['ax1']['legendLabels'],\n",
    "                                   color=colors[minorLineCount])\n",
    "            minorLineCount += 1\n",
    "        else:\n",
    "            count = 0\n",
    "            for data in minorPlot['ax1']['data']:\n",
    "                lines += minorAx1.plot(key, data, 'o', label=minorPlot['ax1']['legendLabels'][count], \n",
    "                                       color=colors[minorLineCount])\n",
    "                count += 1\n",
    "                minorLineCount += 1\n",
    "        minorAx1.set_ylabel(minorPlot['ax1']['ylabel'])\n",
    "        \n",
    "\n",
    "        if 'ax2' in minorPlot:\n",
    "            minorAx2 = twinx(minorAx1)\n",
    "            if minorPlot['ax1']['data'].ndim == 1:\n",
    "                lines += minorAx2.plot(key, minorPlot['ax2']['data'], 'o', label=minorPlot['ax2']['legendLabels'],\n",
    "                                       color=colors[minorLineCount])\n",
    "                minorLineCount += 1\n",
    "            else:\n",
    "                count = 0\n",
    "                for data in minorPlot['ax2']['data']:\n",
    "                    lines += minorAx2.plot(key, data, 'o', label=minorPlot['ax2']['legendLabels'][count], \n",
    "                                           color=colors[minorLineCount])\n",
    "                    count += 1\n",
    "                    minorLineCount += 1\n",
    "            minorAx2.set_ylabel(minorPlot['ax2']['ylabel'])\n",
    "            minorAx2.spines['right'].set_color('m')\n",
    "            minorAx2.spines['top'].set_color('m')\n",
    "            minorAx2.yaxis.label.set_color('m')\n",
    "            minorAx2.tick_params(axis='y', colors='m')\n",
    "            minorAx2.grid(color='m')\n",
    "            #minorAx2.set_yticklabels([round_sig(tick) for tick in arr(minorAx2.get_yticks().tolist())], rotation=70)\n",
    "        minorAx1.legend(lines, [l.get_label() for l in lines], loc='best', fancybox=True, framealpha=0.4)\n",
    "        minorAx1.set_xlabel(minorPlot['xlabel'])\n",
    "        minorAx1.set_title(minorPlot['title'])\n",
    "        #minorAx1.set_yticklabels([round_sig(tick) for tick in arr(minorAx1.get_yticks().tolist())], rotation=70)\n",
    "        \n",
    "        \n",
    "    # Image\n",
    "    if picture.size!=0:\n",
    "        image = subplot(grid1[7:12, 12:16])\n",
    "        im = image.imshow(picture)\n",
    "        image.grid(0)\n",
    "        image.axis('off')\n",
    "        image.set_title(picTitle)\n",
    "        colorbar(im, ax=image)\n",
    "        if (circleLoc!=(-1,-1)):\n",
    "            circ = Circle(circleLoc, 0.2, color='r')\n",
    "            image.add_artist(circ)\n",
    "\n",
    "        \n",
    "def plotHist(picture, data, xLabel=\"?\", circLoc=(-1,-1), plotTitle='Histogram Data', binCount=100):\n",
    "    # Setup grid\n",
    "    grid1 = mpl.gridspec.GridSpec(12, 16)\n",
    "    grid1.update(left=0.05, right=0.95, wspace=1.2, hspace=1000)\n",
    "    gridLeft = mpl.gridspec.GridSpec(12, 16)\n",
    "    gridLeft.update(left=0.001, right=0.95, hspace=1000)\n",
    "    gridRight = mpl.gridspec.GridSpec(12, 16)\n",
    "    gridRight.update(left=0.2, right=0.946, wspace=0, hspace=1000)\n",
    "    # ### Main Plot\n",
    "    mainPlot = subplot(grid1[:, :12])\n",
    "    # the bins should be of integer width, because poisson is an integer distribution\n",
    "    mainPlot.hist(data, bins=binCount)\n",
    "    mainPlot.set_xlabel(xLabel)\n",
    "    mainPlot.set_ylabel('Occurances')\n",
    "    title(plotTitle)\n",
    "    image = subplot(grid1[6:12, 12:16])\n",
    "    im = image.imshow(picture)\n",
    "    image.grid(0)\n",
    "    image.axis('off')\n",
    "    colorbar(im, ax=image);\n",
    "    if (circLoc!=(-1,-1)):\n",
    "        circ = Circle(circLoc, 0.2, color='r')\n",
    "        image.add_artist(circ)\n"
   ]
  },
  {
   "cell_type": "markdown",
   "metadata": {
    "heading_collapsed": true,
    "hidden": true,
    "run_control": {
     "frozen": false,
     "read_only": false
    }
   },
   "source": [
    "### Crunchers"
   ]
  },
  {
   "cell_type": "code",
   "execution_count": 22,
   "metadata": {
    "ExecuteTime": {
     "end_time": "2017-04-28T09:37:08.546334",
     "start_time": "2017-04-28T09:37:08.404743"
    },
    "collapsed": true,
    "hidden": true,
    "run_control": {
     "frozen": false,
     "read_only": false
    }
   },
   "outputs": [],
   "source": [
    "def integrateData(pictures):\n",
    "    if len(pictures.shape) == 3:\n",
    "        integratedData=np.zeros(pictures.shape[0])\n",
    "        picNum=0\n",
    "        for pic in pictures:\n",
    "            for row in pic:\n",
    "                for elem in row:\n",
    "                    integratedData[picNum] += elem\n",
    "            picNum+=1\n",
    "    else:\n",
    "        integratedData=0\n",
    "        for row in pictures:\n",
    "            for elem in row:\n",
    "                integratedData += elem\n",
    "    return integratedData"
   ]
  },
  {
   "cell_type": "code",
   "execution_count": 23,
   "metadata": {
    "ExecuteTime": {
     "end_time": "2017-04-28T09:37:08.685118",
     "start_time": "2017-04-28T09:37:08.546334"
    },
    "collapsed": true,
    "hidden": true,
    "run_control": {
     "frozen": false,
     "read_only": false
    }
   },
   "outputs": [],
   "source": [
    "def fillPlotDataDefaults(plotData):\n",
    "    if 'ax1' not in plotData:\n",
    "        raise RuntimeError('plot data must have ax1 defined!')\n",
    "    else:\n",
    "        if 'data' not in plotData['ax1']:\n",
    "            raise RuntimeError('ax1 of plot data must contain data!')        \n",
    "        if 'ylabel' not in plotData['ax1']:\n",
    "            plotData['ax1']['ylabel'] = ''\n",
    "        if 'legendLabels' not in plotData['ax1']:\n",
    "            if plotData['ax1']['data'].ndim == 2:\n",
    "                # create empty labels\n",
    "                plotData['ax1']['legendLabels'] = ['' for x in range(plotData['ax1']['data'].shape[0])]\n",
    "            else:\n",
    "                plotData['ax1']['legendLabels'] = ''\n",
    "    if 'ax2' in plotData:\n",
    "        if 'data' not in plotData['ax2']:\n",
    "            raise RuntimeError('if ax2 is defined, it must contain data!')\n",
    "        if 'ylabel' not in plotData['ax2']:\n",
    "            plotData['ax2']['ylabel'] = ''\n",
    "        if 'legendLabels' not in plotData['ax2']:\n",
    "            if plotData['ax2']['data'].ndim == 2:\n",
    "                # create empty labels\n",
    "                plotData['ax2']['legendLabels'] = ['' for x in range(plotData['ax2']['data'].shape[0])]\n",
    "            else:\n",
    "                plotData['ax2']['legendLabels'] = ''\n",
    "    if 'xlabel' not in plotData:\n",
    "        plotData['xlabel']=\"\"\n",
    "    if 'title' not in plotData:\n",
    "        plotData['title']=\"\""
   ]
  },
  {
   "cell_type": "markdown",
   "metadata": {
    "heading_collapsed": true,
    "hidden": true,
    "run_control": {
     "frozen": false,
     "read_only": false
    }
   },
   "source": [
    "### Picture Handling"
   ]
  },
  {
   "cell_type": "code",
   "execution_count": 24,
   "metadata": {
    "ExecuteTime": {
     "end_time": "2017-04-28T09:37:08.908873",
     "start_time": "2017-04-28T09:37:08.687619"
    },
    "collapsed": true,
    "hidden": true,
    "run_control": {
     "frozen": false,
     "read_only": false
    }
   },
   "outputs": [],
   "source": [
    "def showPics(data, key, fitParameters=np.array([]), individualPics=False):  \n",
    "    if individualPics:\n",
    "        # expects structure:\n",
    "        # data[key value number][raw, -background, -average][2d pic]\n",
    "        if data.ndim != 4:\n",
    "            raise ValueError(\"Incorrect dimensions for data input to show pics if you want individual pics.\")\n",
    "        titles = ['Raw Picture', 'Background Subtracted', 'Average Subtracted']\n",
    "        for inc in range(len(data)):\n",
    "            figure()\n",
    "            fig, plts = subplots(1, len(data[inc]), figsize=(15,6))\n",
    "            count = 0\n",
    "            for pic in data[inc]:\n",
    "                x = np.linspace(1, pic.shape[1], pic.shape[1])\n",
    "                y = np.linspace(1, pic.shape[0], pic.shape[0])\n",
    "                x, y = np.meshgrid(x, y)\n",
    "                im = plts[count].imshow(pic, origin='bottom', extent=(x.min(), x.max(), y.min(), y.max()))\n",
    "                fig.colorbar(im, ax=plts[count], fraction=0.046, pad=0.04)\n",
    "                plts[count].set_title(titles[count])\n",
    "                plts[count].axis('off')\n",
    "                if fitParameters.size!=0:\n",
    "                    if (fitParameters[count] != np.zeros(len(fitParameters[count]))).all():\n",
    "                        data_fitted = gaussian_2D((x, y), *fitParameters[count])\n",
    "                        try:\n",
    "                            plts[count].contour(x, y, data_fitted.reshape(picture.shape[0],picture.shape[1]), \n",
    "                                            2, colors='w', alpha=0.35, linestyles=\"dashed\")\n",
    "                        except ValueError:\n",
    "                            pass\n",
    "                count += 1\n",
    "            fig.suptitle(str(key[inc]))\n",
    "    else:\n",
    "        if data.ndim != 3:\n",
    "            raise ValueError(\"Incorrect dimensions for data input to show pics if you don't want individual pics.\")\n",
    "        num = len(data)\n",
    "        gridsize1 = 0\n",
    "        gridsize2 = 0\n",
    "        for i in range(100):\n",
    "            if i*i >= num:\n",
    "                gridsize1 = i;\n",
    "                if i*(i-1) >= num:\n",
    "                    gridsize2 = i-1\n",
    "                else:\n",
    "                    gridsize2 = i\n",
    "                break\n",
    "        fig, plts = subplots(gridsize2, gridsize1, figsize=(15,10))\n",
    "        count = 0\n",
    "        rowCount = 0\n",
    "        picCount = 0\n",
    "        # get picture fits & plots\n",
    "        for row in plts:\n",
    "            for pic in row:\n",
    "                plts[rowCount, picCount].grid(0)\n",
    "                if count >= len(data):\n",
    "                    count += 1\n",
    "                    picCount += 1\n",
    "                    continue\n",
    "                picture = data[count]\n",
    "                x = np.linspace(1, picture.shape[1], picture.shape[1])\n",
    "                y = np.linspace(1, picture.shape[0], picture.shape[0])\n",
    "                x, y = np.meshgrid(x, y)\n",
    "                im = plts[rowCount, picCount].imshow(picture, origin='bottom', extent=(x.min(), x.max(), y.min(), \n",
    "                                                                                       y.max()))\n",
    "                                     #vmin = minimum, vmax=maximum)\n",
    "                plts[rowCount, picCount].axis('off')\n",
    "                plts[rowCount, picCount].set_title(str(round_sig(key[count], 4)), fontsize=8)\n",
    "                if fitParameters.size!=0:\n",
    "                    if (fitParameters[count] != np.zeros(len(fitParameters[count]))).all():\n",
    "                        data_fitted = gaussian_2D((x, y), *fitParameters[count])\n",
    "                        try:\n",
    "                            plts[rowCount, picCount].contour(x, y, \n",
    "                                                             data_fitted.reshape(picture.shape[0], picture.shape[1]), \n",
    "                                                             2, colors='w', alpha=0.35, linestyles=\"dashed\")\n",
    "                        except ValueError:\n",
    "                            pass\n",
    "\n",
    "\n",
    "                count += 1\n",
    "                picCount += 1                \n",
    "            picCount = 0\n",
    "            rowCount += 1\n",
    "        # final touches\n",
    "        fitParameters = np.array(fitParameters)\n",
    "        cax = fig.add_axes([0.95, 0.1, 0.03, 0.8])\n",
    "        fig.colorbar(im, cax=cax)"
   ]
  },
  {
   "cell_type": "markdown",
   "metadata": {
    "heading_collapsed": true,
    "hidden": true,
    "run_control": {
     "frozen": false,
     "read_only": false
    }
   },
   "source": [
    "### MOT Analysis"
   ]
  },
  {
   "cell_type": "code",
   "execution_count": 25,
   "metadata": {
    "ExecuteTime": {
     "end_time": "2017-04-28T09:37:09.043032",
     "start_time": "2017-04-28T09:37:08.908873"
    },
    "collapsed": true,
    "hidden": true,
    "run_control": {
     "frozen": false,
     "read_only": false
    }
   },
   "outputs": [],
   "source": [
    "def beamIntensity(power, waist, radiusOfInterest):\n",
    "    return power * (1 - np.exp(-2*radiusOfInterest**2/waist**2)) / (np.pi*radiusOfInterest**2);\n",
    "# Gain (NOT currently used in fluorescence calc...)\n",
    "def computeBaslerGainDB(rawGain):\n",
    "    G_c = 20 * np.log10((658 + rawGain)/(658 - rawGain))\n",
    "    if rawGain>= 110 and rawGain <= 511:\n",
    "        gainDB = 20 * np.log10((658 + rawGain)/(658 - rawGain)) - G_c\n",
    "    elif rawgain >= 511 and rawGain <= 1023:\n",
    "        gainDB = 0.0354 * rawGain - G_c\n",
    "    return gainDB\n",
    "\n",
    "def computeScatterRate(totalIntensity, Detuning):\n",
    "    rate = (rb87Gamma/2) * (totalIntensity / rb87I_Sat) / (1 + 4 * (Detuning / rb87Gamma)**2 + totalIntensity / rb87I_Sat)\n",
    "    return rate\n",
    "\n",
    "# TODO: incorporate gain into the calculation, currently assumes gain = X1... need to check proper conversion \n",
    "# from basler software. I'd expect a power conversion so a factor of 20,\n",
    "# Fluorescence\n",
    "def computeFlorescence(greyscaleReading, rbD2LineWavelength, imagingLoss, imagingLensDiameter, imagingLensFocalLength, exposure):\n",
    "    fluorescence = ((greyscaleReading * C / (H * c / rbD2LineWavelength))\n",
    "                /(1 * imagingLoss * (imagingLensDiameter**2 / (16 * imagingLensFocalLength**2)) * exposure))\n",
    "    return fluorescence\n",
    "\n",
    "# mot radius is in cm\n",
    "def computeMotNumber(sidemotPower, diagonalPower, motRadius, exposure, imagingLoss, greyscaleReading):    \n",
    "    # in cm\n",
    "    sidemotWaist = .33 / (2*np.sqrt(2))\n",
    "    # in cm\n",
    "    diagonalWaist = 2.54 / 2\n",
    "\n",
    "    #intensities\n",
    "    sidemotIntensity = beamIntensity(sidemotPower, sidemotWaist, motRadius)\n",
    "    diagonalIntensity = beamIntensity(diagonalPower, diagonalWaist, motRadius)\n",
    "    totalIntensity = sidemotIntensity + 2 * diagonalIntensity\n",
    "    detuning = 10e6\n",
    "    rate = computeScatterRate(totalIntensity, detuning) \n",
    "    imagingLensDiameter = 2.54\n",
    "    imagingLensFocalLength = 10\n",
    "    fluorescence = computeFlorescence(greyscaleReading, rbD2LineWavelength, imagingLoss, imagingLensDiameter, \n",
    "                                      imagingLensFocalLength, exposure)\n",
    "    motNumber = fluorescence / rate\n",
    "    return motNumber\n",
    "\n",
    "# TODO: for some reason this fitting si currently very finicky with respect to sigma_I. Don't understand why. should\n",
    "# fix this.\n",
    "def calcMotTemperature(times, sigmas, show=True):\n",
    "    guess = [0.001, 0.1]\n",
    "    # in cm\n",
    "    #sidemotWaist = .33 / (2*np.sqrt(2))\n",
    "    sidemotWaist = 8 / (2*np.sqrt(2))\n",
    "    # sidemotWaist^2/2 = 2 sigma_sidemot^2\n",
    "    # different gaussian definitions\n",
    "    sigma_I = sidemotWaist / 2\n",
    "    # convert to m\n",
    "    sigma_I /= 100\n",
    "    # modify roughly for angle of beam\n",
    "    #sigma_I /= np.cos(2*pi/3)\n",
    "    sigma_I /= np.cos(pi/4)\n",
    "    sigma_I = 100\n",
    "    fitVals, fitCovariances = fit(lambda x, a, b: ballisticMotExpansion(x, a, b, sigma_I), times, sigmas, p0=guess )\n",
    "    simpleVals, simpleCovariances = fit(simpleMotExpansion, times, sigmas, p0=guess )\n",
    "    temperature = m_Rb87 / K_B * fitVals[1]**2\n",
    "    tempFromSimple = m_Rb87 / K_B * simpleVals[1]**2\n",
    "    return temperature, tempFromSimple, fitVals, fitCovariances, simpleVals, simpleCovariances\n"
   ]
  },
  {
   "cell_type": "markdown",
   "metadata": {
    "heading_collapsed": true,
    "hidden": true,
    "run_control": {
     "frozen": false,
     "read_only": false
    }
   },
   "source": [
    "## Packages"
   ]
  },
  {
   "cell_type": "markdown",
   "metadata": {
    "heading_collapsed": true,
    "hidden": true,
    "run_control": {
     "frozen": false,
     "read_only": false
    }
   },
   "source": [
    "### Standard Basler"
   ]
  },
  {
   "cell_type": "code",
   "execution_count": 26,
   "metadata": {
    "ExecuteTime": {
     "end_time": "2017-04-28T09:37:09.234671",
     "start_time": "2017-04-28T09:37:09.043032"
    },
    "collapsed": true,
    "hidden": true,
    "run_control": {
     "frozen": false,
     "read_only": false
    }
   },
   "outputs": [],
   "source": [
    "def baslerPackage(keyNum, initDataNum, repetitions, scanType=\"\", key=np.array([]), show=True, background=0):\n",
    "    majorPlotData = {}\n",
    "    majorPlotData['xlabel'], majorPlotData['title'] = getLabels(scanType)\n",
    "    \n",
    "    if key.size == 0:\n",
    "        key = loadKey(keyNum)\n",
    "    data = [ [ [] for y in range(repetitions) ] for x in range(len(key))]\n",
    "    dataInc = 0\n",
    "    for keyInc in range(len(key)):\n",
    "        for repInc in range(repetitions):                    \n",
    "            data[keyInc][repInc] = loadBasler(initDataNum + dataInc)\n",
    "            dataInc += 1\n",
    "    data = arr(data)\n",
    "    # average all the pics for a given key value\n",
    "    avgData = [ [] for x in range(len(key))]\n",
    "    variationInc = 0\n",
    "    singleAvgPic = 0\n",
    "    for variationPics in data:\n",
    "        avgPic = 0;\n",
    "        for pic in variationPics:\n",
    "            avgPic += pic\n",
    "        avgPic /= repetitions\n",
    "        avgData[variationInc] = avgPic\n",
    "        singleAvgPic += avgPic\n",
    "        variationInc += 1\n",
    "\n",
    "    avgData = arr(avgData)\n",
    "    singleAvgPic /= variationInc\n",
    "    \n",
    "    for pic in avgData:\n",
    "        pic -= background\n",
    "    singleAvgPic -= background\n",
    "    \n",
    "    avgData, key = orderData(avgData, key)\n",
    "    \n",
    "    pictureFitParams, pictureFitErrors = fitPictures(avgData, range(len(key)))\n",
    "    \n",
    "    if show:\n",
    "        showPics(avgData, key, fitParameters=pictureFitParams)\n",
    "        \n",
    "    integratedData = integrateData(avgData)\n",
    "    \n",
    "    # convert to normal optics convention. the equation uses gaussian as exp(x^2/2sigma^2), I want the waist, \n",
    "    # which is defined as exp(2x^2/waist^2):    \n",
    "    waists = 2 * arr([pictureFitParams[:,3], pictureFitParams[:,4]])\n",
    "    positions = arr([pictureFitParams[:,1],pictureFitParams[:,2] ])    \n",
    "    minorPlotData = {}\n",
    "    ax1 = {}\n",
    "    ax1['data'] = waists\n",
    "    ax1['ylabel'] = \"Waist (pixels)\"\n",
    "    ax1['legendLabels'] = [\"fit $\\sigma_x$\", \"fit $\\sigma_y$\"]\n",
    "    minorPlotData['ax1'] = ax1\n",
    "    ax2 = {}\n",
    "    ax2['data'] = positions\n",
    "    ax2['ylabel'] = \"position (pixels)\"\n",
    "    ax2['legendLabels'] = [\"Center x\", \"Center y\"]   \n",
    "    minorPlotData['ax2'] = ax2\n",
    "    minorPlotData['title'] = \"Fit Information\"\n",
    "    minorPlotData['xlabel'] = majorPlotData['xlabel']\n",
    "    \n",
    "    ax1 = {}\n",
    "    ax1['data'] = integratedData\n",
    "    ax1['ylabel'] = 'Integrated Camera Counts'\n",
    "    majorPlotData['ax1'] = ax1\n",
    "    \n",
    "    \n",
    "    plotPoints(key, majorPlotData, minorPlot=minorPlotData, picture=singleAvgPic, picTitle=\"Average Picture\")\n",
    "    # sometimes used for normalizing the andor camera signal.\n",
    "    return integratedData"
   ]
  },
  {
   "cell_type": "markdown",
   "metadata": {
    "heading_collapsed": true,
    "hidden": true,
    "run_control": {
     "frozen": false,
     "read_only": false
    }
   },
   "source": [
    "### Basler Temperature"
   ]
  },
  {
   "cell_type": "code",
   "execution_count": 27,
   "metadata": {
    "ExecuteTime": {
     "end_time": "2017-04-28T09:37:09.389216",
     "start_time": "2017-04-28T09:37:09.234671"
    },
    "collapsed": true,
    "hidden": true,
    "run_control": {
     "frozen": false,
     "read_only": false
    }
   },
   "outputs": [],
   "source": [
    "def baslerTemperaturePackage(keyNum, initDataNum, repetitions, xmin=0, xmax=0, ymin=0, ymax=0, dataRange=np.array([])):\n",
    "    key = loadKey(keyNum)\n",
    "    if dataRange.size == 0:\n",
    "        dataRange = np.array(range(key.size))\n",
    "    data = [ [ [] for y in range(repetitions) ] for x in range(len(key))]\n",
    "    dataInc = 0\n",
    "    for keyInc in range(len(key)):\n",
    "        for repInc in range(repetitions):                    \n",
    "            data[keyInc][repInc] = loadBasler(initDataNum + dataInc)\n",
    "            dataInc += 1\n",
    "    data = np.array(data)\n",
    "    # average all the pics for a given key value\n",
    "    avgData = [ [] for x in range(len(key))]\n",
    "    variationInc = 0\n",
    "    singleAvgPic = 0\n",
    "    for variationPics in data:\n",
    "        avgPic = 0;\n",
    "        for pic in variationPics:\n",
    "            avgPic += pic\n",
    "        avgPic /= repetitions\n",
    "        avgData[variationInc] = avgPic\n",
    "        singleAvgPic += avgPic\n",
    "        variationInc += 1\n",
    "    singleAvgPic /= variationInc\n",
    "    avgData = np.array(avgData)\n",
    "    avgData, key = orderData(avgData, key)\n",
    "    \n",
    "    if xmax==0:\n",
    "        xmax=avgData.shape[1]\n",
    "    if ymax==0:\n",
    "        ymax=avgData.shape[2]   \n",
    "    \n",
    "    windowedData = []\n",
    "    dataForAnalysis = []\n",
    "    keyForAnalysis = []\n",
    "    for pic in range(len(avgData)):\n",
    "        windowedData.append(avgData[pic,xmin:xmax,ymin:ymax])\n",
    "        if pic in dataRange:\n",
    "            dataForAnalysis.append(avgData[pic,xmin:xmax,ymin:ymax])\n",
    "            keyForAnalysis.append(key[pic])\n",
    "    windowedData = arr(windowedData)\n",
    "    dataForAnalysis = arr(dataForAnalysis)\n",
    "    keyForAnalysis = arr(keyForAnalysis)\n",
    "    \n",
    "    pictureFitParams, pictureFitErrors = fitPictures(windowedData, range(len(key)))\n",
    "    analyzedPictureFitParams = []\n",
    "    for params in range(len(pictureFitParams)):\n",
    "        if params in dataRange:\n",
    "            analyzedPictureFitParams.append(pictureFitParams[params])\n",
    "    analyzedPictureFitParams = arr(analyzedPictureFitParams)\n",
    "    # convert to meters\n",
    "    sigmas = baslerMetersPer4x4Pixel*analyzedPictureFitParams[:,3]\n",
    "    # convert to s\n",
    "    times = keyForAnalysis / 1000\n",
    "    temp, simpleTemp, fitVals, fitCov, simpleFitVals, simpleFitCov = calcMotTemperature(times, sigmas)\n",
    "    figure()\n",
    "    #plot(times, ballisticMotExpansion(times, *guess, sigma_I))\n",
    "    plot(times, sigmas, 'o', label='Raw Data')\n",
    "    plot(times, ballisticMotExpansion(times, *fitVals, 100), label='balistic expansion Fit')\n",
    "    plot(times, simpleMotExpansion(times, *simpleFitVals), label='balistic expansion Fit')\n",
    "    title('Measured atom cloud size over time')\n",
    "    xlabel('time (s)')\n",
    "    ylabel('gaussian fit sigma (m)')\n",
    "    \n",
    "    showPics(windowedData, key, fitParameters=pictureFitParams)\n",
    "    \n",
    "    print(\"MOT Temperture (full ballistic):\", temp*1e6, 'uK')\n",
    "    print(\"MOT Temperature (simple):\", simpleTemp*1e6, 'uK')"
   ]
  },
  {
   "cell_type": "markdown",
   "metadata": {
    "heading_collapsed": true,
    "hidden": true,
    "run_control": {
     "frozen": false,
     "read_only": false
    }
   },
   "source": [
    "### Standard Fits"
   ]
  },
  {
   "cell_type": "code",
   "execution_count": 28,
   "metadata": {
    "ExecuteTime": {
     "end_time": "2017-04-28T09:37:09.653405",
     "start_time": "2017-04-28T09:37:09.389216"
    },
    "collapsed": true,
    "hidden": true,
    "run_control": {
     "frozen": false,
     "read_only": false
    }
   },
   "outputs": [],
   "source": [
    "def fitsSignalPackage(num, scanType=\"\", bg=arr(0), xMin=0, xMax=0, yMin=0, yMax=0, \n",
    "                      accumulations=1, location=(-1,-1), key=arr([]), \n",
    "                      showPictures=True, convertKey=False, normData=np.array([]), \n",
    "                      fitBeamWaist=False, gaussianFitPics=False, allThePics=False, plottedData={\"raw\":\"!\"}):\n",
    "    \"\"\"\n",
    "    This function analyzes and plots fits pictures. It does not know anything about atoms, \n",
    "    it just looks at pixels or integrates regions of the picture.\n",
    "    \n",
    "    :param num: the number of the fits file and (by default) the number of the key file. The function knows where to look\n",
    "        for the file with the corresponding name.\n",
    "    :param scanType: a string which characterizes what was scanned during the run. Depending on this string, axis names\n",
    "        are assigned to the axis of the plots produced by this function. This parameter, if it is to do anything, must\n",
    "        be one of a defined list of types, which can be looked up in the getLabels function.\n",
    "    :param bg:\n",
    "    \n",
    "    \"\"\"\n",
    "    \n",
    "    # the key\n",
    "    if key.size == 0:\n",
    "        origKey = loadKey(num)\n",
    "    else:\n",
    "        origKey = key\n",
    "    \n",
    "    if convertKey:\n",
    "        a = opBeamDacToVoltageConversion\n",
    "        key = [a[0] + x*a[1] + x**2 * a[2] + x**3 * a[3] for x in origKey]\n",
    "    else:\n",
    "        # both keys the same. \n",
    "        key = origKey\n",
    "        \n",
    "    \"\"\" ### Handle data ### \n",
    "    If the corresponding inputs are given, all data gets...\n",
    "    - normalized for accumulations\n",
    "    - normalized using the normData array\n",
    "    - like values in the key & data are averaged\n",
    "    - key and data is ordered in ascending order.\n",
    "    - windowed.\n",
    "    \"\"\"\n",
    "\n",
    "    rawData = loadFits(num)\n",
    "    # aside\n",
    "    if xMax == 0:\n",
    "        xMax = len(rawData[0])\n",
    "    if yMax == 0:\n",
    "        yMax = len(rawData[0][0])\n",
    "\n",
    "    accumulationNormalizedData = rawData / accumulations    \n",
    "    # used for normalizing the camera signal based on another set of pictures, e.g. basler pictures of the MOT, \n",
    "    # which is the primary use for this input.\n",
    "    normalizedRawData = []\n",
    "    if normData.size != 0:\n",
    "        for picNum in range(len(accumulationNormalizedData)):\n",
    "            normalizedRawData.append(accumulationNormalizedData[picNum] / normData[picNum])\n",
    "        normalizedRawData = arr(normalizedRawData)\n",
    "    else:\n",
    "        normalizedRawData = arr(accumulationNormalizedData)\n",
    "    \n",
    "    normalizedRawData, key = combineData(normalizedRawData, key)\n",
    "    normalizedRawData, key = orderData(normalizedRawData, key)\n",
    "    windowedRawData = np.copy(arr(normalizedRawData[:,yMin:yMax, xMin:xMax]))\n",
    "    dataWithoutBg = np.copy(windowedRawData)\n",
    "    for pic in dataWithoutBg:\n",
    "        pic -= bg\n",
    "    \n",
    "    # make a picture which is an average of all pictures over the run.\n",
    "    avgPic = 0;\n",
    "    for pic in windowedRawData:\n",
    "        avgPic += pic\n",
    "    avgPic /= len(windowedRawData)\n",
    "\n",
    "    dataWithoutAverage = np.copy(windowedRawData)\n",
    "    for pic in dataWithoutAverage:\n",
    "        pic -= avgPic\n",
    "        \n",
    "    if gaussianFitPics:\n",
    "        pictureFitParams, pictureFitErrors = fitPictures(windowedRawData, range(len(key)))\n",
    "    else:\n",
    "        pictureFitParams, pictureFitErrors = np.zeros((len(key), 7)), np.zeros((len(key), 7))\n",
    "    \n",
    "    # convert to normal optics convention. the equation uses gaussian as exp(x^2/2sigma^2), I want the waist, \n",
    "    # which is defined as exp(2x^2/waist^2):    \n",
    "    waists = 2 * arr([pictureFitParams[:,3], pictureFitParams[:,4]])\n",
    "    positions = arr([pictureFitParams[:,1],pictureFitParams[:,2] ])\n",
    "    #gaussianWaistX, = fitBeamWaist()\n",
    "    majorPlotData = {}\n",
    "    majorPlotData['xlabel'], majorPlotData['title'] = getLabels(scanType)\n",
    "    ax1 = {}\n",
    "    if (location==(-1,-1)):\n",
    "        data = []\n",
    "        if \"raw\" in plottedData:\n",
    "            data.append([integrateData(windowedRawData)])\n",
    "            ax1['legendLabels'].append(['Int(Raw Data)'])\n",
    "        if \"-bg\" in plottedData:\n",
    "            data.append(integrateData(dataWithoutBg))\n",
    "            ax1['legendLabels'].append('Int(Data Without Background)')\n",
    "        if \"-avg\":\n",
    "            data.append(integrateData(dataWithoutAverage))\n",
    "            ax1['legendLabels'].append('Int(Data Without Average)')\n",
    "        ax1['data'] = arr(data)\n",
    "        ax1['ylabel'] = 'Camera Counts (Integrated over Picture)'        \n",
    "        ax2 = {}\n",
    "        data = []\n",
    "        ax2['legendLabels'] = []\n",
    "        if \"raw\" in plottedData:\n",
    "            data.append([np.max(pic, axis=(1,0)) for pic in windowedRawData])\n",
    "            ax2['legendLabels'].append(['Max Value in Raw Data'])\n",
    "        if \"-bg\" in plottedData:\n",
    "            data.append([np.max(pic, axis=(1,0)) for pic in dataWithoutBg])\n",
    "            ax2['legendLabels'].append('Max Value in Data Without Background')\n",
    "        if \"-avg\" in plottedData:\n",
    "            data.append([np.max(pic, axis=(1,0)) for pic in dataWithoutAverage])\n",
    "            ax2['legendLabels'].append('Max Value in Data Without Average')\n",
    "        ax2['data'] = arr(data)\n",
    "        ax2['ylabel'] = 'Maximum count in picture'\n",
    "        majorPlotData['ax2'] = ax2\n",
    "    else:\n",
    "        ax1['data'] = arr([windowedRawData[:,location[0], location[1]]])\n",
    "        ax1['ylabel'] = 'Camera Counts (single pixel)'\n",
    "    majorPlotData['ax1'] = ax1\n",
    "    \n",
    "    minorPlotData = {}\n",
    "    ax1 = {}\n",
    "    ax1['data'] = waists\n",
    "    ax1['ylabel'] = \"Waist (pixels)\"\n",
    "    ax1['legendLabels'] = [\"fit $\\sigma_x$\", \"fit $\\sigma_y$\"]\n",
    "    minorPlotData['ax1'] = ax1\n",
    "    ax2 = {}\n",
    "    ax2['data'] = positions\n",
    "    ax2['ylabel'] = \"position (pixels)\"\n",
    "    ax2['legendLabels'] = [\"Center x\", \"Center y\"]   \n",
    "    minorPlotData['ax2'] = ax2\n",
    "    minorPlotData['title'] = \"Fit Information\"\n",
    "    minorPlotData['xlabel'] = majorPlotData['xlabel']\n",
    "\n",
    "    plotPoints(key, majorPlotData, minorPlot=minorPlotData, picture=avgPic, picTitle=\"Average Picture\")\n",
    "    \n",
    "    if show:\n",
    "        if allThePics:\n",
    "            data = []\n",
    "            for inc in range(len(windowedRawData)):\n",
    "                data.append([windowedRawData[inc], dataWithoutBg[inc], dataWithoutAverage[inc]])\n",
    "            showPics(arr(data), key, fitParameters=pictureFitParams, individualPics=True)\n",
    "        else:\n",
    "            if \"raw\" in plottedData:\n",
    "                showPics(windowedRawData, key, fitParameters=pictureFitParams)\n",
    "            if \"-bg\" in plottedData:\n",
    "                showPics(dataWithoutBg, key, fitParameters=pictureFitParams)\n",
    "            if \"-avg\" in plottedData:\n",
    "                showPics(dataWithoutAverages, key, fitParameters=pictureFitParams)                \n"
   ]
  },
  {
   "cell_type": "markdown",
   "metadata": {
    "heading_collapsed": true,
    "hidden": true,
    "run_control": {
     "frozen": false,
     "read_only": false
    }
   },
   "source": [
    "### Histogram"
   ]
  },
  {
   "cell_type": "code",
   "execution_count": 29,
   "metadata": {
    "ExecuteTime": {
     "end_time": "2017-04-28T09:37:09.826906",
     "start_time": "2017-04-28T09:37:09.653405"
    },
    "collapsed": true,
    "hidden": true,
    "run_control": {
     "frozen": false,
     "read_only": false
    }
   },
   "outputs": [],
   "source": [
    "def countHistPackage(num, background=0, location=(-1,-1), accumulations=1):\n",
    "    rawData = loadFits(num)\n",
    "    rawData /= accumulations\n",
    "    for pic in rawData:\n",
    "        pic -= background\n",
    "    \n",
    "    avgPic = 0;\n",
    "    for pic in rawData:\n",
    "        avgPic += pic\n",
    "    avgPic /= len(rawData)\n",
    "    \n",
    "    if location==(-1,-1):\n",
    "        integratedData = integrateData(rawData)\n",
    "        plotHist(avgPic, integratedData, xLabel=\"Counts (Integrated)\")\n",
    "    else:\n",
    "        plotHist(avgPic, rawData[:,location[0], location[1]], circLoc=location, xLabel=\"Counts (1 location)\")\n",
    "    return avgPic"
   ]
  },
  {
   "cell_type": "code",
   "execution_count": 30,
   "metadata": {
    "ExecuteTime": {
     "end_time": "2017-04-28T09:37:09.972717",
     "start_time": "2017-04-28T09:37:09.826906"
    },
    "collapsed": true,
    "hidden": true,
    "run_control": {
     "frozen": false,
     "read_only": false
    }
   },
   "outputs": [],
   "source": [
    "def countHistPackage(num, background=0, location=(-1,-1), accumulations=1):\n",
    "    rawData = loadFits(num)\n",
    "    rawData /= accumulations\n",
    "    for pic in rawData:\n",
    "        pic -= background\n",
    "    \n",
    "    avgPic = 0;\n",
    "    for pic in rawData:\n",
    "        avgPic += pic\n",
    "    avgPic /= len(rawData)\n",
    "    \n",
    "    if location==(-1,-1):\n",
    "        integratedData = integrateData(rawData)\n",
    "        plotHist(avgPic, integratedData, xLabel=\"Counts (Integrated)\")\n",
    "    else:\n",
    "        plotHist(avgPic, rawData[:,location[0], location[1]], circLoc=location, xLabel=\"Counts (1 location)\")\n",
    "    return avgPic"
   ]
  },
  {
   "cell_type": "markdown",
   "metadata": {
    "run_control": {
     "frozen": false,
     "read_only": false
    }
   },
   "source": [
    "# Work"
   ]
  },
  {
   "cell_type": "code",
   "execution_count": 32,
   "metadata": {
    "collapsed": false
   },
   "outputs": [
    {
     "data": {
      "text/plain": [
       "<matplotlib.text.Text at 0x1f58bf74ba8>"
      ]
     },
     "execution_count": 32,
     "metadata": {},
     "output_type": "execute_result"
    },
    {
     "data": {
      "image/png": "[encoded data removed]",
      "text/plain": [
       "<matplotlib.figure.Figure at 0x1f58b5e35f8>"
      ]
     },
     "metadata": {},
     "output_type": "display_data"
    }
   ],
   "source": [
    "dacValue = [0, 0.1, 0.2, 0.3, 0.4, 0.05, 0.15, 0.25, 0.35]\n",
    "# after the Amp, just before the AOM.\n",
    "# in dBm.\n",
    "rfPowerOutputed = arr([-31.1, -19.4, -14.2, -10.9, -8.7, -23.9, -16.4, -12.4, -9.8]) + 40\n",
    "plot(dacValue, rfPowerOutputed, 'o')\n",
    "xlabel('DAC Voltage (V)')\n",
    "ylabel('RF Power Outputted (dBm)')\n",
    "title('Using 795 VCO for Slave AOM')"
   ]
  },
  {
   "cell_type": "code",
   "execution_count": 36,
   "metadata": {
    "collapsed": false
   },
   "outputs": [
    {
     "data": {
      "text/plain": [
       "<matplotlib.text.Text at 0x1f58c1b4748>"
      ]
     },
     "execution_count": 36,
     "metadata": {},
     "output_type": "execute_result"
    },
    {
     "data": {
      "image/png": "[encoded data removed]",
      "text/plain": [
       "<matplotlib.figure.Figure at 0x1f58c17f1d0>"
      ]
     },
     "metadata": {},
     "output_type": "display_data"
    }
   ],
   "source": [
    "dacValue = [0, 0.05, 0.1, 0.15, 0.2, 0.25, 0.29, 0.3, 0.31, 0.32, 0.33, 0.34, 0.35]\n",
    "# in mw\n",
    "laserPowerDeflected = arr([0.471, 2.08, 6.55, 13.05, 20.3, 27.4, 32.2, 33.2, 34.2, 35.0, 35.8, 36.5, 37.1])\n",
    "plot(dacValue, laserPowerDeflected, 'o')\n",
    "xlabel('DAC Voltage (V)')\n",
    "ylabel('Laser Power Deflected(mW)')\n",
    "title('Using 795 VCO for Slave AOM')"
   ]
  },
  {
   "cell_type": "code",
   "execution_count": null,
   "metadata": {
    "collapsed": true
   },
   "outputs": [],
   "source": []
  }
 ],
 "metadata": {
  "anaconda-cloud": {},
  "hide_input": false,
  "kernelspec": {
   "display_name": "Python 3",
   "language": "python",
   "name": "python3"
  },
  "language_info": {
   "codemirror_mode": {
    "name": "ipython",
    "version": 3
   },
   "file_extension": ".py",
   "mimetype": "text/x-python",
   "name": "python",
   "nbconvert_exporter": "python",
   "pygments_lexer": "ipython3",
   "version": "3.6.0"
  },
  "nav_menu": {},
  "toc": {
   "navigate_menu": true,
   "number_sections": true,
   "sideBar": true,
   "threshold": 6,
   "toc_cell": true,
   "toc_section_display": "block",
   "toc_window_display": false
  }
 },
 "nbformat": 4,
 "nbformat_minor": 1
}
