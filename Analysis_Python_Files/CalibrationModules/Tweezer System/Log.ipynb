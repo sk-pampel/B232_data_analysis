{
 "cells": [
  {
   "cell_type": "markdown",
   "metadata": {
    "Collapsed": "false"
   },
   "source": [
    "# Tweezer System Calibrations & Efficiencies"
   ]
  },
  {
   "cell_type": "markdown",
   "metadata": {
    "Collapsed": "false"
   },
   "source": [
    "## July 24th 2019"
   ]
  },
  {
   "cell_type": "markdown",
   "metadata": {
    "Collapsed": "false"
   },
   "source": [
    "Today I'm dealing with a variety of issues with the tweezer system. It seems that the Intraaction AOMs are not deflecting very efficiently, and neither is the intensity AOM"
   ]
  },
  {
   "cell_type": "markdown",
   "metadata": {
    "Collapsed": "false"
   },
   "source": [
    "The issue with the intensity aom was a reduced rf power getting to the AOM, reaching the limit of the HP generator. I solved this by adding a pre-amplifier for the system. "
   ]
  },
  {
   "cell_type": "markdown",
   "metadata": {
    "Collapsed": "false"
   },
   "source": [
    "- The Ti-Saph itself is outputting around 0.990 W\n",
    "- The AOM is Deflecting at around 70% efficiency.\n",
    "- The Fiber Coupling is around 70% Efficient. \n",
    "- This results in about 500mW out of the high power fiber on the tweezer side. \n",
    "- The Deflection AOMs are deflecting at around 40% net efficiency for a single tone, giving about a total of 200 mW for a single tweezer."
   ]
  },
  {
   "cell_type": "markdown",
   "metadata": {
    "Collapsed": "false"
   },
   "source": [
    "## August 20th 2019"
   ]
  },
  {
   "cell_type": "markdown",
   "metadata": {
    "Collapsed": "false"
   },
   "source": [
    "recalibrating tweezer power calibration before working on grey loading a bit"
   ]
  },
  {
   "cell_type": "code",
   "execution_count": 24,
   "metadata": {
    "Collapsed": "false"
   },
   "outputs": [],
   "source": [
    "import numpy as np\n",
    "import matplotlib.pyplot as plt\n",
    "import matplotlib.style as mplstyle\n",
    "import scipy.optimize as opt\n",
    "mplstyle.use('dark_background')\n",
    "from fitters import linear"
   ]
  },
  {
   "cell_type": "code",
   "execution_count": 4,
   "metadata": {
    "Collapsed": "false"
   },
   "outputs": [],
   "source": [
    "data = [-0,\t\t18.99e-3,\n",
    "-1,\t\t62.5e-3,\n",
    "-3,\t\t0.1557,\n",
    "-10,\t\t0.4824,\n",
    "-30,\t\t1.415,\n",
    "-100,\t\t4.677,\n",
    "-200,\t\t9.338,\n",
    "-300,\t\t14.00,\n",
    "-400,\t\t18.66,\n",
    "-500,\t\t23.32,\n",
    "-600,\t\t27.97,\n",
    "-700,\t\t32.59,\n",
    "-800,\t\t37.25,\n",
    "-900,\t\t41.91,\n",
    "-1000,\t\t46.56,\n",
    "-1100,\t\t51.22,\n",
    "-1200,\t\t55.89,\n",
    "-1300,\t\t60.55,\n",
    "-1400,\t\t65.20,\n",
    "-1500,\t\t69.86,\n",
    "-1600,\t\t74.50,\n",
    "-1700,\t\t79.15,\n",
    "-1800,\t\t83.81,\n",
    "-1900,\t\t88.45,\n",
    "-2000,\t\t93.12,\n",
    "-2100,\t\t97.77,\n",
    "-2200,\t\t102.40,\n",
    "-2300,\t\t107.05,\n",
    "-2400,\t\t111.71,\n",
    "-2500,\t\t116.29,\n",
    "-2600,\t\t120.95,\n",
    "-2700,\t\t125.60,\n",
    "-2800,\t\t130.25,\n",
    "-2900,\t\t134.9,\n",
    "-3000,\t\t139.5,\n",
    "-3100,\t\t144.2,\n",
    "-3200,\t\t146.0,\n",
    "-3300,\t\t146.0]"
   ]
  },
  {
   "cell_type": "code",
   "execution_count": 85,
   "metadata": {
    "Collapsed": "false"
   },
   "outputs": [],
   "source": [
    "# convert from mV to V\n",
    "volts = np.array(data[::2])/1000\n",
    "volts = volts[:-2]\n",
    "# in mW\n",
    "powers = np.array(data[1::2])\n",
    "powers = powers[:-2]"
   ]
  },
  {
   "cell_type": "code",
   "execution_count": 86,
   "metadata": {
    "Collapsed": "false"
   },
   "outputs": [
    {
     "name": "stdout",
     "output_type": "stream",
     "text": [
      "[-0.02149967  0.00102751]\n"
     ]
    }
   ],
   "source": [
    "xpts = np.linspace( min(powers), max(powers), 1000 )\n",
    "params, cov = opt.curve_fit(linear.f, powers, volts, p0=[0,-10])\n",
    "ypts = linear.f(xpts,*params)\n",
    "print(params)"
   ]
  },
  {
   "cell_type": "code",
   "execution_count": 87,
   "metadata": {
    "Collapsed": "false"
   },
   "outputs": [
    {
     "data": {
      "image/png": "[encoded data removed]",
      "text/plain": [
       "<Figure size 432x288 with 1 Axes>"
      ]
     },
     "metadata": {},
     "output_type": "display_data"
    }
   ],
   "source": [
    "plt.plot(powers, volts,'.')\n",
    "plt.grid(alpha=0.1)\n",
    "plt.plot(xpts,ypts)\n",
    "plt.ylabel('Volts (V)')\n",
    "plt.xlabel('Power (W)');"
   ]
  },
  {
   "cell_type": "markdown",
   "metadata": {
    "Collapsed": "false"
   },
   "source": [
    "## February 17th 2020"
   ]
  },
  {
   "cell_type": "markdown",
   "metadata": {
    "Collapsed": "false"
   },
   "source": [
    "Today I decided to take a look at the tweezer power through the system since I had noticed that it seemed to be struggling earlier. it seems like most of the issue is coming from the Ti-Saph.   \n",
    "init:  \n",
    "95 mw max tweezer  \n",
    "~0.23W out of dm pbs  \n",
    "0.36 after intensity aom telescope  \n",
    "0.54W out of Ti-Saph! sadness.  \n",
    "tweak ti-saph -> 0.68 out, still pretty bad  \n",
    "after realignment (only small tweaks) get 130mW single tweezer in big tele\n",
    "\n"
   ]
  },
  {
   "cell_type": "code",
   "execution_count": null,
   "metadata": {
    "Collapsed": "false"
   },
   "outputs": [],
   "source": []
  }
 ],
 "metadata": {
  "kernelspec": {
   "display_name": "Python 3",
   "language": "python",
   "name": "python3"
  },
  "language_info": {
   "codemirror_mode": {
    "name": "ipython",
    "version": 3
   },
   "file_extension": ".py",
   "mimetype": "text/x-python",
   "name": "python",
   "nbconvert_exporter": "python",
   "pygments_lexer": "ipython3",
   "version": "3.6.9"
  }
 },
 "nbformat": 4,
 "nbformat_minor": 4
}
