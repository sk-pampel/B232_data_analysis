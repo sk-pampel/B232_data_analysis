version https://git-lfs.github.com/spec/v1
oid sha256:f97c03c02871b405bc471d173a1f75cbcc53e88d4c8766465684d372cbe12716
size 28271
