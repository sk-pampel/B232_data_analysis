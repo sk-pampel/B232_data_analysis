version https://git-lfs.github.com/spec/v1
oid sha256:bd664dba369f0b2de259d10ac9dea446f8b8418d7978de68d0f65587beb3c611
size 779496
