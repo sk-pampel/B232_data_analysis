version https://git-lfs.github.com/spec/v1
oid sha256:d51699c9b540b9f8e77d63890eb5a7006438576102968f1a0d4eae1c8f05f6d9
size 66362
