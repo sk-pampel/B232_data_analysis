version https://git-lfs.github.com/spec/v1
oid sha256:92098a761a9c2e9fcaa8588e2aea07f46d00976e5acc9fc699bf3c8fa6c92867
size 2072598
