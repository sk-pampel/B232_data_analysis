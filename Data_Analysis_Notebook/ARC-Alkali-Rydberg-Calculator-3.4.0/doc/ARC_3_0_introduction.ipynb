version https://git-lfs.github.com/spec/v1
oid sha256:d560d4a594d16e18be4a2f4fe8bb2cf77260b7e79cd138a64eea4f60ceca7c3f
size 1930465
