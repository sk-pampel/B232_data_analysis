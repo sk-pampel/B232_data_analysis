version https://git-lfs.github.com/spec/v1
oid sha256:a96a926640e332f7a3d366f9013682a0d3df98b3e7bfedc1cc4f10c95a8fef35
size 12579417
