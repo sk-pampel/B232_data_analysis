version https://git-lfs.github.com/spec/v1
oid sha256:524ada39e6e82f931236aeeda5a93d1e40f1c2b285326442e4f946a471918981
size 247433
