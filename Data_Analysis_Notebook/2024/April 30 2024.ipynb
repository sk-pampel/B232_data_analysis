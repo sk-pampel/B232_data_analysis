version https://git-lfs.github.com/spec/v1
oid sha256:0c2b52dd4af0e51862ac6b7cd43088a495f5c50d314e42a1dad8911120729390
size 1770856
