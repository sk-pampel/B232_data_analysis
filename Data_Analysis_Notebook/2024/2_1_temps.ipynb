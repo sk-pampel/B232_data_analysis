version https://git-lfs.github.com/spec/v1
oid sha256:7b02d764728e57a3372194704b236fb0da686aec4d1924d09ae62d9333dd9544
size 1494075
