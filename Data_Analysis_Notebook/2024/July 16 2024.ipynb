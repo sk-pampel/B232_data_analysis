version https://git-lfs.github.com/spec/v1
oid sha256:237823330ab4ac9e977fed9afd61fca591598b4082877e3d9114ad0b64cebb51
size 1921942
