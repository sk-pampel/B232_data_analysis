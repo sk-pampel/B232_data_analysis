version https://git-lfs.github.com/spec/v1
oid sha256:fe761066e9bd637066b91fa42937737bacd2c62bfded771e9188200e0cfacb8f
size 1579746
