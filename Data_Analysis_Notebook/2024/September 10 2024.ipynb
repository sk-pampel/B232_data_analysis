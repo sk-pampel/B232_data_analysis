version https://git-lfs.github.com/spec/v1
oid sha256:c78d48542944a90bf589c5f3c4596af9db889741b02236a13e14626998c854df
size 1708826
