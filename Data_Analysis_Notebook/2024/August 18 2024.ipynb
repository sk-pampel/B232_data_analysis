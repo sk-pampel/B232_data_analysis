version https://git-lfs.github.com/spec/v1
oid sha256:971103415c32e04c5a284c3db59d5f74ae1e264229bda98749736bc7be2a9b04
size 130336
