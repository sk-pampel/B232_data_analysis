version https://git-lfs.github.com/spec/v1
oid sha256:7676fd2734f03df48fb9ccac6dfea97eb65247ce54d66b2bbf397df09d01de24
size 2742265
