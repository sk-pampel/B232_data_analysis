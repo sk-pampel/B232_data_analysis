version https://git-lfs.github.com/spec/v1
oid sha256:f69eed599143dfbe677da511917c2121fc857b04ea1a419a0fc1afd6ba063b85
size 1771347
