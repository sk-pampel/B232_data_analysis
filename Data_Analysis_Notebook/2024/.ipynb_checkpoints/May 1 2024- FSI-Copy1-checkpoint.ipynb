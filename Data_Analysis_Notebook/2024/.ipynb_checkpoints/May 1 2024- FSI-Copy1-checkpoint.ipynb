version https://git-lfs.github.com/spec/v1
oid sha256:b652f5a8c0e032caee39782ef3f1f33d332989be265ca37021dc674791f9f840
size 1692768
