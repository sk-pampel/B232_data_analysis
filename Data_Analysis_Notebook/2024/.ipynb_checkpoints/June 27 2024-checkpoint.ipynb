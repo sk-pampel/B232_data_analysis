version https://git-lfs.github.com/spec/v1
oid sha256:7c69d264133e2dc459dadb878a593f35b373453d2f07d1775d787648cdc59030
size 2483172
