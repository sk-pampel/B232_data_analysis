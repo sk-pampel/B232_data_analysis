version https://git-lfs.github.com/spec/v1
oid sha256:70fc5dd39f6aba9fdb4b1fbe242a776ae3fe00d27172b920316ecaafdd957150
size 726192
