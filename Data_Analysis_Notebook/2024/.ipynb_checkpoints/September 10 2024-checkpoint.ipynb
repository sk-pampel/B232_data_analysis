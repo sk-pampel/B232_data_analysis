version https://git-lfs.github.com/spec/v1
oid sha256:f014d5bd91e04a5665611497ef6438df1b177c7080c89b94f99d7048dcdbdbb1
size 2280086
