version https://git-lfs.github.com/spec/v1
oid sha256:cc8ea831fece7eff3bc69cb6d77ba75bef226f4baf29173f8eaa29596faade16
size 1303697
