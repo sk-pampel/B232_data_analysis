version https://git-lfs.github.com/spec/v1
oid sha256:0a2b80e3b68a803022d2593c7f827a5e80b5a70c7b009654d29cc74dfb0bb054
size 1921942
