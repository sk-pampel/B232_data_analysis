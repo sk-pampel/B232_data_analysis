version https://git-lfs.github.com/spec/v1
oid sha256:3ca55b4cb0d714f604fbaf7cf8a0341ddcad8ee6fa395285eedd60f477fe61e7
size 1103163
