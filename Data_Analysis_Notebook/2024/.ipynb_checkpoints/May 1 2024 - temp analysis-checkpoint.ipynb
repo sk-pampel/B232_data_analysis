version https://git-lfs.github.com/spec/v1
oid sha256:d003e4a6d4cf2d9d9a627fa257b0a14f1edd49f23dbb24482bca61140459ac8d
size 1484327
