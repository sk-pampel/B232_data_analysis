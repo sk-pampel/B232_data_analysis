version https://git-lfs.github.com/spec/v1
oid sha256:b5e42832713f09d3195e489d3b9f9d0f2ea4059d484cff9dee3a8623df193724
size 1089940
