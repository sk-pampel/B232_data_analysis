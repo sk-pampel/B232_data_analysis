version https://git-lfs.github.com/spec/v1
oid sha256:80e9dd7797b68401a39b78eb18d60f4303745ed2fdb35112e8f47e001643ddf8
size 990403
