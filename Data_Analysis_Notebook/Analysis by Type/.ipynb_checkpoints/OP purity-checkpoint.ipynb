version https://git-lfs.github.com/spec/v1
oid sha256:340ee611bba20cf037f5cc7059d31a4b8a24e3dc71297c44ad6a6c5883138b71
size 137231
