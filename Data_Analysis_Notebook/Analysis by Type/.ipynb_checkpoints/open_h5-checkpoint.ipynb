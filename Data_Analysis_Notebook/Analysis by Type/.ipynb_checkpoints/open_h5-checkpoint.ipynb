{
 "cells": [
  {
   "cell_type": "code",
   "execution_count": 1,
   "metadata": {
    "ExecuteTime": {
     "end_time": "2018-02-28T17:05:43.686529Z",
     "start_time": "2018-02-28T17:05:43.682527Z"
    },
    "tags": []
   },
   "outputs": [],
   "source": [
    "# current date, for retrieving data from proper location.\n",
    "year = \"2021\"\n",
    "month = \"October\"\n",
    "day = \"1\""
   ]
  },
  {
   "cell_type": "code",
   "execution_count": 2,
   "metadata": {
    "ExecuteTime": {
     "end_time": "2018-02-28T17:06:46.067900Z",
     "start_time": "2018-02-28T17:06:31.753411Z"
    },
    "hidden": true,
    "tags": []
   },
   "outputs": [
    {
     "name": "stdout",
     "output_type": "stream",
     "text": [
      "['/Users/stevenpampel/Documents/B232_data_analysis/Data-Analysis-Code-new/Data Analysis Notebook/Analysis by Type', '/Library/Frameworks/Python.framework/Versions/3.10/lib/python310.zip', '/Library/Frameworks/Python.framework/Versions/3.10/lib/python3.10', '/Library/Frameworks/Python.framework/Versions/3.10/lib/python3.10/lib-dynload', '', '/Library/Frameworks/Python.framework/Versions/3.10/lib/python3.10/site-packages', '/Users/stevenpampel/Documents/Python/Data-Analysis-Code-new']\n"
     ]
    }
   ],
   "source": [
    "import sys\n",
    "sys.path.append('/Users/stevenpampel/Documents/Python/Data-Analysis-Code-new')\n",
    "from Analysis_Python_Files.fitters.Gaussian import dip, double_dip, bump, bump2, bump3, bump2r, gaussian, bump3_Sym, gaussian_2d\n",
    "from Analysis_Python_Files.fitters.Sinc_Squared import sinc_sq3_Sym, sinc_sq\n",
    "from Analysis_Python_Files.fitters import decaying_cos, exponential_decay_fixed_limit as decay, linear, LargeBeamMotExpansion, n1State\n",
    "import Analysis_Python_Files.PictureWindow as pw\n",
    "import Analysis_Python_Files.ExpFile as exp\n",
    "exp.setPath(day, month, year)\n",
    "import Analysis_Python_Files.PlotlyPlotters as pp\n",
    "import Analysis_Python_Files.MatplotlibPlotters as mp\n",
    "import Analysis_Python_Files.MainAnalysis as ma\n",
    "import Analysis_Python_Files.AnalysisHelpers as ah\n",
    "import Analysis_Python_Files.Miscellaneous as misc\n",
    "import Analysis_Python_Files.PopulationAnalysis as pa\n",
    "import Analysis_Python_Files.MarksConstants as mc\n",
    "import Analysis_Python_Files.fitters as fitters\n",
    "import Analysis_Python_Files.LoadingFunctions as lf\n",
    "import Analysis_Python_Files.FreeSpaceImaging as fsi\n",
    "import Analysis_Python_Files.TransferAnalysis as ta\n",
    "import Analysis_Python_Files.LightShiftCalculations as lsc\n",
    "import Analysis_Python_Files.CalibrationAnalysis as ca\n",
    "# It's important to explicitly import calPoint here or else pickling doesn't work.\n",
    "from Analysis_Python_Files.CalibrationAnalysis import calPoint \n",
    "from Analysis_Python_Files.TransferAnalysisOptions import TransferAnalysisOptions as ao\n",
    "import Analysis_Python_Files.ThresholdOptions as to\n",
    "import Analysis_Python_Files.TransferAnalysisOptions as tao\n",
    "from scipy.optimize import curve_fit\n",
    "print(sys.path)"
   ]
  },
  {
   "cell_type": "code",
   "execution_count": 38,
   "metadata": {
    "tags": []
   },
   "outputs": [
    {
     "name": "stdout",
     "output_type": "stream",
     "text": [
      "('Bottom', <HDF5 dataset \"Bottom\": shape (1,), type \"<u4\">)\n",
      "('Camera-Mode', <HDF5 dataset \"Camera-Mode\": shape (1,), type \"<i4\">)\n",
      "('EM-Gain-Mode-On', <HDF5 dataset \"EM-Gain-Mode-On\": shape (1,), type \"|u1\">)\n",
      "('Exposure-Times', <HDF5 dataset \"Exposure-Times\": shape (2,), type \"<f4\">)\n",
      "('Horizontal-Binning', <HDF5 dataset \"Horizontal-Binning\": shape (1,), type \"<u4\">)\n",
      "('Image-Dimensions', <HDF5 group \"/Andor/Image-Dimensions\" (0 members)>)\n",
      "('Left', <HDF5 dataset \"Left\": shape (1,), type \"<u4\">)\n",
      "('NA:EM-Gain-Level', <HDF5 dataset \"NA:EM-Gain-Level\": shape (1,), type \"<i4\">)\n",
      "('Pictures', <HDF5 dataset \"Pictures\": shape (1200, 24, 5), type \"<i4\">)\n",
      "('Pictures-Per-Repetition', <HDF5 dataset \"Pictures-Per-Repetition\": shape (1,), type \"<u4\">)\n",
      "('Repetitions-Per-Variation', <HDF5 dataset \"Repetitions-Per-Variation\": shape (1,), type \"<u8\">)\n",
      "('Right', <HDF5 dataset \"Right\": shape (1,), type \"<u4\">)\n",
      "('Temperature-Setting', <HDF5 dataset \"Temperature-Setting\": shape (1,), type \"<i4\">)\n",
      "('Top', <HDF5 dataset \"Top\": shape (1,), type \"<u4\">)\n",
      "('Total-Variation-Number', <HDF5 dataset \"Total-Variation-Number\": shape (1,), type \"<u8\">)\n",
      "('Trigger-Mode', <HDF5 dataset \"Trigger-Mode\": shape (16,), type \"|S1\">)\n",
      "('Vertical-Binning', <HDF5 dataset \"Vertical-Binning\": shape (1,), type \"<u4\">)\n",
      "[[ 99 100  99 111  99]\n",
      " [116  97 120  92  74]\n",
      " [ 96 112  84  92  85]\n",
      " [ 95 118 108 111 102]\n",
      " [111 118 103 106 128]\n",
      " [117 110  94 117 139]\n",
      " [132  91 119  99  91]\n",
      " [ 96 116 104 101 111]\n",
      " [101  91  99 110 101]\n",
      " [ 82  92  87 108  91]\n",
      " [103 158 163 233 153]\n",
      " [134 106 112 111 111]\n",
      " [110 111 101  94  85]\n",
      " [ 94  99 102 106  78]\n",
      " [103  98 102 102 100]\n",
      " [117 115 101 122 141]\n",
      " [115 124 110  85  93]\n",
      " [ 97  87  98  89 106]\n",
      " [ 85  96 100  92 105]\n",
      " [120 113 100  94  89]\n",
      " [ 92  94 118 111  97]\n",
      " [ 85  82  89 102 119]\n",
      " [ 80  90 104  91  94]\n",
      " [107  82 114 119 113]]\n"
     ]
    }
   ],
   "source": [
    "import h5py as h5\n",
    "import numpy as np\n",
    "import matplotlib.pyplot as plt\n",
    "#\n",
    "# filename = \"\\\\\\\\REGALB232EXP\\\\Local_Data_Repository\\\\2021\\\\October\\\\October 1\\\\Raw Data\\\\data_13.h5\"\n",
    "filename = '/Volumes/Local_Data_Repository/2023/February/February 24/Raw Data/data_7.h5'\n",
    "\n",
    "with h5.File(filename, \"r\") as hdf:\n",
    "    G1 = hdf.get('Andor')\n",
    "    G1_items = list(G1.items())\n",
    "    for i in G1_items:\n",
    "        print(i)\n",
    "    # print(G1_items)\n",
    "    # binning = G1.get('Horizontal-Binning')\n",
    "    # print(type(binning))\n",
    "    pictures = np.array(G1.get('Pictures'))\n",
    "    print(pictures[99])\n",
    "    # pic1=pictures[0]\n",
    "    # plt.imshow(pic1)"
   ]
  },
  {
   "cell_type": "code",
   "execution_count": 46,
   "metadata": {},
   "outputs": [
    {
     "name": "stdout",
     "output_type": "stream",
     "text": [
      "('Mako G-503B (169.254.238.226)-50-0536981726(DEV_000F315D3D5E)', <HDF5 group \"/Mako/Mako G-503B (169.254.238.226)-50-0536981726(DEV_000F315D3D5E)\" (6 members)>)\n",
      "Pictures\n",
      "<class 'numpy.str_'>\n"
     ]
    }
   ],
   "source": [
    "filename = '/Volumes/Local_Data_Repository/2023/February/February 24/Raw Data/x-155um.h5'\n",
    "with h5.File(filename, \"r\") as hdf:\n",
    "    G1 = hdf.get('Mako')\n",
    "    G1_items = list(G1.items())\n",
    "    for i in G1_items:\n",
    "        print(i)\n",
    "    Mako_items = np.array(G1.get('Mako G-503B (169.254.238.226)-50-0536981726(DEV_000F315D3D5E)'))\n",
    "    print(Mako_items[3])\n",
    "    pic = Mako_items[3]\n",
    "    print(type(pic))"
   ]
  },
  {
   "cell_type": "code",
   "execution_count": 6,
   "metadata": {
    "collapsed": true,
    "jupyter": {
     "outputs_hidden": true
    },
    "tags": []
   },
   "outputs": [
    {
     "name": "stdout",
     "output_type": "stream",
     "text": [
      "[[1104 1198 1261]\n",
      " [2192 1790 2695]\n",
      " [1728 2269 2910]\n",
      " [3120 4308 1331]\n",
      " [1031 2375  551]\n",
      " [1803 5753 1095]\n",
      " [1289 2147 1428]\n",
      " [ 791  779  370]\n",
      " [ 764 1164  891]]\n",
      "(2000, 9, 3)\n",
      "[13822 21783 12532]\n",
      "1782.851851851852\n"
     ]
    },
    {
     "data": {
      "image/png": "[encoded data removed]",
      "text/plain": [
       "<Figure size 432x288 with 2 Axes>"
      ]
     },
     "metadata": {
      "needs_background": "light"
     },
     "output_type": "display_data"
    }
   ],
   "source": [
    "from astropy.io import fits\n",
    "file = \"\\\\\\\\REGALB232EXP\\\\Local_Data_Repository\\\\2021\\\\160913\\\\Raw Data\\\\data_2.fits\"\n",
    "fitfile = fits.open(file)\n",
    "fitdata = fitfile[0].data\n",
    "\n",
    "print(fitdata[0])\n",
    "print(fitdata.shape)\n",
    "plt.imshow(fitdata[0])\n",
    "plt.colorbar()\n",
    "clmsum = sum(fitdata[0])\n",
    "ttlsum = sum(np.transpose(clmsum))\n",
    "avg = ttlsum/27\n",
    "print(sum(fitdata[0]))\n",
    "print(avg)"
   ]
  },
  {
   "cell_type": "code",
   "execution_count": 9,
   "metadata": {
    "jupyter": {
     "source_hidden": true
    },
    "tags": []
   },
   "outputs": [],
   "source": [
    "def analyzeSinglePicture(date, firstRun, lastRun, printProgress=True):\n",
    "    \"\"\"\n",
    "    This function is for calculating averages of pictures, finding the average pixel signal and variance\n",
    "    of all pixel signals on the pictures.\n",
    "    \n",
    "    :return: This function returns an array of the averages and an array of the variances of the pictures\n",
    "    taken.\n",
    "    \"\"\"\n",
    "    allPictures = []\n",
    "    allAverages = []\n",
    "    allVariances = []\n",
    "    dataRepositoryPath = \"\\\\\\\\REGALB232EXP\\\\Local_Data_Repository\\\\2021\\\\\"\n",
    "    for runInc in range(firstRun, lastRun + 1 , 1):\n",
    "        dataPath = dataRepositoryPath + date + \"\\\\Raw Data\\\\data_\" + str(runInc) + \".fits\"\n",
    "        #for repInc in range(0, 1000):\n",
    "        if printProgress:\n",
    "            print('analyzing Run #' + str(runInc))    \n",
    "        allPictures.append(fits.open(dataPath, \"append\")[0].data)\n",
    "#         print(allPictures)\n",
    "        # concatenate the data twice, collapsing all pictures into one 2D array, and then all rows within\n",
    "        # said 2D array into a single array. This is for calculating the mean and std of all of the data.\n",
    "        allPictures[-1] = [item for sublist in list(allPictures[-1]) for item in sublist]\n",
    "#         print(allPictures[-1])\n",
    "        allPictures[-1] = [item for sublist in allPictures[-1] for item in sublist]\n",
    "#         print(allPictures[-1])\n",
    "        allAverages.append(np.mean(allPictures[-1]))\n",
    "        allVariances.append(np.std(allPictures[-1])**2)\n",
    "    return allAverages, allVariances"
   ]
  },
  {
   "cell_type": "code",
   "execution_count": 11,
   "metadata": {
    "collapsed": true,
    "jupyter": {
     "outputs_hidden": true,
     "source_hidden": true
    },
    "tags": []
   },
   "outputs": [
    {
     "name": "stdout",
     "output_type": "stream",
     "text": [
      "analyzing Run #2\n"
     ]
    },
    {
     "data": {
      "text/plain": [
       "([996.9360555555555], [1023639.5657814784])"
      ]
     },
     "execution_count": 11,
     "metadata": {},
     "output_type": "execute_result"
    }
   ],
   "source": [
    "analyzeSinglePicture(\"160913\",2,2)"
   ]
  },
  {
   "cell_type": "code",
   "execution_count": 12,
   "metadata": {
    "jupyter": {
     "source_hidden": true
    },
    "tags": []
   },
   "outputs": [],
   "source": [
    "import h5py as h5\n",
    "import numpy as np\n",
    "import matplotlib.pyplot as plt\n",
    "\n",
    "def analyzeSinglePicture(cal_type, firstRun, lastRun, printProgress=True):\n",
    "    \"\"\"\n",
    "    This function is for calculating averages of pictures, finding the average pixel signal and variance\n",
    "    of all pixel signals on the pictures.\n",
    "    \n",
    "    :return: This function returns an array of the averages and an array of the variances of the pictures\n",
    "    taken.\n",
    "    \"\"\"\n",
    "    allPictures = []\n",
    "    allAverages = []\n",
    "    allVariances = []\n",
    "    dataRepositoryPath = \"\\\\\\\\REGALB232EXP\\\\Local_Data_Repository\\\\2021\\\\andor_cal\\\\\"\n",
    "    for runInc in range(firstRun, lastRun + 1, 1):\n",
    "        dataPath = dataRepositoryPath + cal_type + \"\\\\data_\" + str(runInc) + \".h5\"\n",
    "        if printProgress:\n",
    "            print('analyzing Run #' + str(runInc))\n",
    "        with h5.File(dataPath, \"r\") as hdf:\n",
    "            \n",
    "            andor = hdf.get('Andor')\n",
    "            andor_items = list(andor.items())\n",
    "            pictures = np.array(andor.get('Pictures'))\n",
    "            allPictures.append(pictures[0])\n",
    "            #print(allPictures)\n",
    "        allPictures[-1] = [item for sublist in list(allPictures[-1]) for item in sublist]\n",
    "#         print(allPictures[-1])\n",
    "        allAverages.append(np.mean(allPictures[-1]))\n",
    "        allVariances.append(np.std(allPictures[-1])**2)\n",
    "    return allAverages, allVariances"
   ]
  },
  {
   "cell_type": "code",
   "execution_count": 14,
   "metadata": {
    "collapsed": true,
    "jupyter": {
     "outputs_hidden": true,
     "source_hidden": true
    },
    "tags": []
   },
   "outputs": [
    {
     "name": "stdout",
     "output_type": "stream",
     "text": [
      "analyzing Run #13\n"
     ]
    },
    {
     "data": {
      "text/plain": [
       "([838.1846466064453], [1839.6509260775053])"
      ]
     },
     "execution_count": 14,
     "metadata": {},
     "output_type": "execute_result"
    }
   ],
   "source": [
    "analyzeSinglePicture(\"conv_gain\",13,13)"
   ]
  },
  {
   "cell_type": "markdown",
   "metadata": {},
   "source": [
    "# HDF5 Single Location "
   ]
  },
  {
   "cell_type": "code",
   "execution_count": 48,
   "metadata": {},
   "outputs": [],
   "source": [
    "def line(x, a, b):\n",
    "    return a * x + b\n",
    "\n",
    "\n",
    "def analyzeSingleLocation(cal_type, firstRun, lastRun, location, printStatus=False, plot=False):\n",
    "    \"\"\"\n",
    "    Analyzes a single location, averaging over many pictures.\n",
    "    The function assumes that there is a data file for all runs in between firstrun and lastrun.\n",
    "    \n",
    "    :return: The function returns the fit object (i.e. an array of [a, b] for the linear fit y = a x + b) \n",
    "    and the covariance of said fit.\n",
    "    \"\"\"\n",
    "    allAverages = []\n",
    "    allVariances = []\n",
    "    dataRepositoryPath = \"\\\\\\\\REGALB232EXP\\\\Local_Data_Repository\\\\2021\\\\andor_cal\\\\\"\n",
    "\n",
    "    # concatenate the data twice.\n",
    "    for runInc in range(firstRun, lastRun + 1, 1):\n",
    "        allPoints = []\n",
    "        if (printStatus):\n",
    "            print(\"Analyzing run # \" + str(runInc))\n",
    "        dataPath = dataRepositoryPath + cal_type + \"\\\\data_\" + str(runInc) + \".h5\"\n",
    "        with h5.File(dataPath, \"r\") as hdf:\n",
    "            andor = hdf.get('Andor')\n",
    "            andor_items = list(andor.items())\n",
    "            dataFile = np.array(andor.get('Pictures')) \n",
    "        for repInc in range(0, 512):\n",
    "            allPoints.append(dataFile[0][repInc][location[0]][location[1]])\n",
    "        allAverages.append(np.mean(allPoints))\n",
    "        allVariances.append(np.std(allPoints)**2)\n",
    "        \n",
    "    param, cov = curve_fit(line, allVariances, allAverages, [1, 0])\n",
    "    \n",
    "    return param, cov, param[0], allAverages, allVariances\n"
   ]
  },
  {
   "cell_type": "code",
   "execution_count": 49,
   "metadata": {},
   "outputs": [
    {
     "data": {
      "text/plain": [
       "(array([ 0.4906909 , 74.37850191]),\n",
       " array([[ 7.35304272e-04, -5.05720729e-01],\n",
       "        [-5.05720729e-01,  6.38574260e+02]]),\n",
       " 0.4906909018791866,\n",
       " [110.984375, 836.8056640625, 287.7939453125],\n",
       " [112.05639648437501, 1562.6077413558958, 388.6479711532592])"
      ]
     },
     "execution_count": 49,
     "metadata": {},
     "output_type": "execute_result"
    }
   ],
   "source": [
    "location = ([0, 1], [-1, 0], [0, -1], [-1, -1])\n",
    "analyzeSingleLocation(\"conv_gain\",12,14,location)"
   ]
  },
  {
   "cell_type": "markdown",
   "metadata": {},
   "source": [
    "## FITS Single Location "
   ]
  },
  {
   "cell_type": "code",
   "execution_count": 44,
   "metadata": {},
   "outputs": [],
   "source": [
    "def line(x, a, b):\n",
    "    return a * x + b\n",
    "\n",
    "def analyzeSingleLocation(date, firstRun, lastRun, location, printStatus=False, plot=False):\n",
    "    \"\"\"\n",
    "    Analyzes a single location, averaging over many pictures.\n",
    "    The function assumes that there is a data file for all runs in between firstrun and lastrun.\n",
    "    \n",
    "    :return: The function returns the fit object (i.e. an array of [a, b] for the linear fit y = a x + b) \n",
    "    and the covariance of said fit.\n",
    "    \"\"\"\n",
    "    allAverages = []\n",
    "    allVariances = []\n",
    "    dataRepositoryPath = \"\\\\\\\\REGALB232EXP\\\\Local_Data_Repository\\\\2021\\\\\"\n",
    "\n",
    "    # concatenate the data twice.\n",
    "    for runInc in range(firstRun, lastRun + 1, 1):\n",
    "        allPoints = []\n",
    "        if (printStatus):\n",
    "            print(\"Analyzing run # \" + str(runInc))\n",
    "        todaysDataPath = dataRepositoryPath + date + \"\\\\Raw Data\\\\data_\" + str(runInc) + \".fits\"\n",
    "        dataFile = fits.open(todaysDataPath, \"append\")\n",
    "        \n",
    "        for repInc in range(0, 1000):\n",
    "            allPoints.append(dataFile[0].data[repInc][location[0]][location[1]])\n",
    "#         print(allPoints)\n",
    "        allAverages.append(np.mean(allPoints))\n",
    "        allVariances.append(np.std(allPoints)**2)\n",
    "        \n",
    "    # average on y, variance on x, slope is average/variance = 1/counts\n",
    "    param, cov = curve_fit(line, allVariances, allAverages, [1, 0])\n",
    "    \n",
    "    return param, cov, param[0], allAverages, allVariances\n"
   ]
  },
  {
   "cell_type": "code",
   "execution_count": 47,
   "metadata": {},
   "outputs": [
    {
     "data": {
      "text/plain": [
       "(array([8.93454574e-04, 3.85292178e+02]),\n",
       " array([[ 6.35540974e-10, -2.18312324e-04],\n",
       "        [-2.18312324e-04,  7.88226766e+01]]),\n",
       " 0.0008934545743235408,\n",
       " [769.0373333333333, 706.6533333333333, 600.9076666666666],\n",
       " [431365.327272889, 356607.8244888889, 242545.7178078889])"
      ]
     },
     "execution_count": 47,
     "metadata": {},
     "output_type": "execute_result"
    }
   ],
   "source": [
    "location = ([0,0], [-1, 0], [0, 1], [-1, -1])\n",
    "analyzeSingleLocation(\"160913\",2,4,location)"
   ]
  },
  {
   "cell_type": "code",
   "execution_count": 50,
   "metadata": {},
   "outputs": [],
   "source": [
    "emptylist = [[\"\" for _ in range(5)] for _ in range(5)]\n",
    "for a in range(5):\n",
    "    for b in range(5):\n",
    "        emptylist[a][b]=str(a)+','+str(b)"
   ]
  },
  {
   "cell_type": "code",
   "execution_count": 51,
   "metadata": {},
   "outputs": [
    {
     "data": {
      "text/plain": [
       "[['0,0', '0,1', '0,2', '0,3', '0,4'],\n",
       " ['1,0', '1,1', '1,2', '1,3', '1,4'],\n",
       " ['2,0', '2,1', '2,2', '2,3', '2,4'],\n",
       " ['3,0', '3,1', '3,2', '3,3', '3,4'],\n",
       " ['4,0', '4,1', '4,2', '4,3', '4,4']]"
      ]
     },
     "execution_count": 51,
     "metadata": {},
     "output_type": "execute_result"
    }
   ],
   "source": [
    "emptylist"
   ]
  },
  {
   "cell_type": "code",
   "execution_count": 53,
   "metadata": {},
   "outputs": [
    {
     "data": {
      "text/plain": [
       "['4,0', '4,1', '4,2', '4,3', '4,4']"
      ]
     },
     "execution_count": 53,
     "metadata": {},
     "output_type": "execute_result"
    }
   ],
   "source": [
    "emptylist[-1]"
   ]
  },
  {
   "cell_type": "code",
   "execution_count": 26,
   "metadata": {},
   "outputs": [
    {
     "ename": "TypeError",
     "evalue": "list indices must be integers or slices, not tuple",
     "output_type": "error",
     "traceback": [
      "\u001b[1;31m---------------------------------------------------------------------------\u001b[0m",
      "\u001b[1;31mTypeError\u001b[0m                                 Traceback (most recent call last)",
      "\u001b[1;32mC:\\Users\\REGALL~1\\AppData\\Local\\Temp/ipykernel_9488/3657348263.py\u001b[0m in \u001b[0;36m<module>\u001b[1;34m\u001b[0m\n\u001b[1;32m----> 1\u001b[1;33m \u001b[0memptylist\u001b[0m\u001b[1;33m[\u001b[0m\u001b[1;33m-\u001b[0m\u001b[1;36m1\u001b[0m\u001b[1;33m,\u001b[0m\u001b[1;36m1\u001b[0m\u001b[1;33m]\u001b[0m\u001b[1;33m\u001b[0m\u001b[1;33m\u001b[0m\u001b[0m\n\u001b[0m",
      "\u001b[1;31mTypeError\u001b[0m: list indices must be integers or slices, not tuple"
     ]
    }
   ],
   "source": [
    "emptylist[-1,1]"
   ]
  },
  {
   "cell_type": "code",
   "execution_count": null,
   "metadata": {},
   "outputs": [],
   "source": []
  }
 ],
 "metadata": {
  "anaconda-cloud": {},
  "hide_input": false,
  "kernelspec": {
   "display_name": "Python 3 (ipykernel)",
   "language": "python",
   "name": "python3"
  },
  "language_info": {
   "codemirror_mode": {
    "name": "ipython",
    "version": 3
   },
   "file_extension": ".py",
   "mimetype": "text/x-python",
   "name": "python",
   "nbconvert_exporter": "python",
   "pygments_lexer": "ipython3",
   "version": "3.10.5"
  },
  "nav_menu": {},
  "notify_time": "10",
  "record_timing": true,
  "toc": {
   "nav_menu": {},
   "number_sections": true,
   "sideBar": true,
   "skip_h1_title": false,
   "toc_cell": true,
   "toc_position": {
    "height": "780px",
    "left": "0px",
    "right": "1329.33px",
    "top": "107px",
    "width": "277px"
   },
   "toc_section_display": "none",
   "toc_window_display": false
  },
  "toc-autonumbering": true,
  "toc-showcode": false,
  "toc-showmarkdowntxt": false,
  "toc-showtags": false,
  "varInspector": {
   "cols": {
    "lenName": 16,
    "lenType": 16,
    "lenVar": 40
   },
   "kernels_config": {
    "python": {
     "delete_cmd_postfix": "",
     "delete_cmd_prefix": "del ",
     "library": "var_list.py",
     "varRefreshCmd": "print(var_dic_list())"
    },
    "r": {
     "delete_cmd_postfix": ") ",
     "delete_cmd_prefix": "rm(",
     "library": "var_list.r",
     "varRefreshCmd": "cat(var_dic_list()) "
    }
   },
   "types_to_exclude": [
    "module",
    "function",
    "builtin_function_or_method",
    "instance",
    "_Feature"
   ],
   "window_display": false
  }
 },
 "nbformat": 4,
 "nbformat_minor": 4
}
