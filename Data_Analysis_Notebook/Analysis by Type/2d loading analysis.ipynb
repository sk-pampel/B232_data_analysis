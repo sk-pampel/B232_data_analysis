{
 "cells": [
  {
   "cell_type": "markdown",
   "metadata": {
    "toc-hr-collapsed": false
   },
   "source": [
    "# 2D analysis"
   ]
  },
  {
   "cell_type": "code",
   "execution_count": null,
   "metadata": {},
   "outputs": [],
   "source": [
    "tares = ta.standardTransferAnalysis(13, tao.getStandardLoadingOptions([2,2,3,7,1]));\n",
    "(tferAtomsVarAvg, tferAtomsVarErrs, loadAtomsVarAvg, initPicCounts, keyName, key, repetitions, initThresholds, \n",
    "            fits, avgTferData, avgTferErr, avgFit, avgPics, genAvgs, genErrs, tferVarAvg, tferVarErr, initAtomImages, \n",
    "            tferAtomImages, tferPicCounts, tferThresholds, fitModules, basicInfoStr, ensembleHits, tOptions, analysisOpts,\n",
    "            tferAtomsPs, tferAtomsPs, tferList, isAnnotated) = tares\n",
    "key1 = list(sorted(set(key[:,0])))\n",
    "key2 = list(sorted(set(key[:,1])))\n",
    "datam = np.zeros((len(key2),len(key1)))\n",
    "errsm = np.zeros((len(key2),len(key1),2))\n",
    "for kv, dp, errs in zip(key, avgTferData, avgTferErr):\n",
    "    i1 = key1.index(kv[0])\n",
    "    i2 = key2.index(kv[1])\n",
    "    datam[i2,i1] = dp\n",
    "    errsm[i2,i1] = errs\n",
    "k1sp = np.array(key1[1])-np.array(key1[0])\n",
    "key1Pl = np.append(key1 - k1sp/2, [key1[-1]+k1sp])\n",
    "k2sp = np.array(key2[1])-np.array(key2[0])\n",
    "key2Pl = np.append(key2 - k2sp/2, [key2[-1]+k2sp])\n",
    "# \n",
    "fig, ax = plt.subplots(figsize=(12,7))\n",
    "#plt.pcolormesh(key1Pl, key2Pl, datam_ram, vmin=0, vmax=0.85)\n",
    "im=ax.pcolormesh(935-key1Pl*8, key2Pl/21, datam, vmin=0)\n",
    "ax.set_xlabel('Approx LGM Detuning (zero set by hand) (MHz)')\n",
    "ax.set_ylabel('Trap Depth (mK)')\n",
    "ax.invert_yaxis()\n",
    "cb, cax = mp.addAxColorbar(fig,ax,im)\n",
    "cax.set_title('Loading Fraction')"
   ]
  },
  {
   "cell_type": "markdown",
   "metadata": {},
   "source": [
    "### colormesh plot for 2-1 collisions "
   ]
  },
  {
   "cell_type": "code",
   "execution_count": 1,
   "metadata": {
    "tags": []
   },
   "outputs": [
    {
     "ename": "NameError",
     "evalue": "name 'ta' is not defined",
     "output_type": "error",
     "traceback": [
      "\u001b[1;31m---------------------------------------------------------------------------\u001b[0m",
      "\u001b[1;31mNameError\u001b[0m                                 Traceback (most recent call last)",
      "\u001b[1;32mC:\\Users\\REGALL~1\\AppData\\Local\\Temp/ipykernel_6848/2746243101.py\u001b[0m in \u001b[0;36m<module>\u001b[1;34m\u001b[0m\n\u001b[1;32m----> 1\u001b[1;33m \u001b[0mtares\u001b[0m \u001b[1;33m=\u001b[0m \u001b[0mta\u001b[0m\u001b[1;33m.\u001b[0m\u001b[0mstandardTransferAnalysis\u001b[0m\u001b[1;33m(\u001b[0m\u001b[1;36m17\u001b[0m\u001b[1;33m,\u001b[0m \u001b[0mloadTwoOpt\u001b[0m\u001b[1;33m,\u001b[0m \u001b[0mtOptions\u001b[0m \u001b[1;33m=\u001b[0m \u001b[1;33m[\u001b[0m\u001b[0mto\u001b[0m\u001b[1;33m.\u001b[0m\u001b[0mThresholdOptions\u001b[0m\u001b[1;33m(\u001b[0m\u001b[0mmanualThreshold\u001b[0m \u001b[1;33m=\u001b[0m \u001b[1;32mTrue\u001b[0m\u001b[1;33m,\u001b[0m \u001b[0mmanualThresholdValue\u001b[0m \u001b[1;33m=\u001b[0m \u001b[1;36m80\u001b[0m\u001b[1;33m)\u001b[0m\u001b[1;33m]\u001b[0m\u001b[1;33m)\u001b[0m\u001b[1;33m;\u001b[0m\u001b[1;33m\u001b[0m\u001b[1;33m\u001b[0m\u001b[0m\n\u001b[0m\u001b[0;32m      2\u001b[0m (tferAtomsVarAvg, tferAtomsVarErrs, loadAtomsVarAvg, initPicCounts, keyName, key, repetitions, initThresholds,\n\u001b[0;32m      3\u001b[0m             \u001b[0mfits\u001b[0m\u001b[1;33m,\u001b[0m \u001b[0mavgTferData\u001b[0m\u001b[1;33m,\u001b[0m \u001b[0mavgTferErr\u001b[0m\u001b[1;33m,\u001b[0m \u001b[0mavgFit\u001b[0m\u001b[1;33m,\u001b[0m \u001b[0mavgPics\u001b[0m\u001b[1;33m,\u001b[0m \u001b[0mgenAvgs\u001b[0m\u001b[1;33m,\u001b[0m \u001b[0mgenErrs\u001b[0m\u001b[1;33m,\u001b[0m \u001b[0mtferVarAvg\u001b[0m\u001b[1;33m,\u001b[0m \u001b[0mtferVarErr\u001b[0m\u001b[1;33m,\u001b[0m \u001b[0minitAtomImages\u001b[0m\u001b[1;33m,\u001b[0m\u001b[1;33m\u001b[0m\u001b[1;33m\u001b[0m\u001b[0m\n\u001b[0;32m      4\u001b[0m             \u001b[0mtferAtomImages\u001b[0m\u001b[1;33m,\u001b[0m \u001b[0mtferPicCounts\u001b[0m\u001b[1;33m,\u001b[0m \u001b[0mtferThresholds\u001b[0m\u001b[1;33m,\u001b[0m \u001b[0mfitModules\u001b[0m\u001b[1;33m,\u001b[0m \u001b[0mbasicInfoStr\u001b[0m\u001b[1;33m,\u001b[0m \u001b[0mensembleHits\u001b[0m\u001b[1;33m,\u001b[0m \u001b[0mtOptions\u001b[0m\u001b[1;33m,\u001b[0m \u001b[0manalysisOpts\u001b[0m\u001b[1;33m,\u001b[0m\u001b[1;33m\u001b[0m\u001b[1;33m\u001b[0m\u001b[0m\n\u001b[0;32m      5\u001b[0m             tferAtomsPs, tferAtomsPs, tferList, isAnnotated, condHitList) = tares\n",
      "\u001b[1;31mNameError\u001b[0m: name 'ta' is not defined"
     ]
    }
   ],
   "source": [
    "tares = ta.standardTransferAnalysis(15, loadTwoOpt, tOptions = [to.ThresholdOptions(manualThreshold = True, manualThresholdValue = 80)]);\n",
    "(tferAtomsVarAvg, tferAtomsVarErrs, loadAtomsVarAvg, initPicCounts, keyName, key, repetitions, initThresholds,\n",
    "            fits, avgTferData, avgTferErr, avgFit, avgPics, genAvgs, genErrs, tferVarAvg, tferVarErr, initAtomImages,\n",
    "            tferAtomImages, tferPicCounts, tferThresholds, fitModules, basicInfoStr, ensembleHits, tOptions, analysisOpts,\n",
    "            tferAtomsPs, tferAtomsPs, tferList, isAnnotated, condHitList) = tares\n",
    "key1 = list(sorted(set(key[:,0])))\n",
    "key2 = list(sorted(set(key[:,1])))\n",
    "datam = np.zeros((len(key2),len(key1)))\n",
    "errsm = np.zeros((len(key2),len(key1),2))\n",
    "for kv, dp, errs in zip(key, avgTferData, avgTferErr):\n",
    "    i1 = key1.index(kv[0])\n",
    "    i2 = key2.index(kv[1])\n",
    "    datam[i2,i1] = dp\n",
    "    errsm[i2,i1] = errs\n",
    "k1sp = np.array(key1[1])-np.array(key1[0])\n",
    "key1Pl = np.append(key1 - k1sp/2, [key1[-1]+k1sp])\n",
    "\n",
    "k2sp = np.array(key2[1])-np.array(key2[0])\n",
    "key2Pl = np.append(key2 - k2sp/2, [key2[-1]+k2sp])\n",
    "zeroed_freqs = []\n",
    "for i in key2Pl:\n",
    "    freq = (max(key2Pl)-i)*8\n",
    "    zeroed_freqs.append(freq)\n",
    "depth_conv = []\n",
    "for i in key1Pl:\n",
    "    depth = i/3.2/3\n",
    "    depth_conv.append(depth)\n",
    "fig, ax = plt.subplots(figsize=(12,7))\n",
    "# plt.pcolormesh(key2Pl,key1Pl,  datam, vmin=0, vmax=0.85)\n",
    "im=ax.pcolormesh(depth_conv, zeroed_freqs, datam, vmin=0)\n",
    "ax.set_xlabel('Trap Depth (mK)')\n",
    "ax.set_ylabel('Collisional Light Detuning (MHz)')\n",
    "# ax.invert_yaxis()\n",
    "cb, cax = mp.addAxColorbar(fig,ax,im)\n",
    "cax.set_title('survival')"
   ]
  },
  {
   "cell_type": "markdown",
   "metadata": {},
   "source": [
    "### 2d plot for survival"
   ]
  },
  {
   "cell_type": "code",
   "execution_count": null,
   "metadata": {},
   "outputs": [],
   "source": [
    "plt.ylim(0,1)\n",
    "for i in range(len(key1)):\n",
    "    colorindex=255/len(key1)*i\n",
    "    plt.plot(key1,datam[i],color=plt.cm.inferno(int(colorindex)),label=key2[i])\n",
    "plt.legend()    \n"
   ]
  }
 ],
 "metadata": {
  "anaconda-cloud": {},
  "hide_input": false,
  "kernelspec": {
   "display_name": "Python 3 (ipykernel)",
   "language": "python",
   "name": "python3"
  },
  "language_info": {
   "codemirror_mode": {
    "name": "ipython",
    "version": 3
   },
   "file_extension": ".py",
   "mimetype": "text/x-python",
   "name": "python",
   "nbconvert_exporter": "python",
   "pygments_lexer": "ipython3",
   "version": "3.10.5"
  },
  "nav_menu": {},
  "notify_time": "10",
  "record_timing": true,
  "toc": {
   "nav_menu": {},
   "number_sections": true,
   "sideBar": true,
   "skip_h1_title": false,
   "toc_cell": true,
   "toc_position": {
    "height": "780px",
    "left": "0px",
    "right": "1329.33px",
    "top": "107px",
    "width": "277px"
   },
   "toc_section_display": "none",
   "toc_window_display": false
  },
  "toc-autonumbering": true,
  "toc-showcode": false,
  "toc-showmarkdowntxt": false,
  "toc-showtags": false,
  "varInspector": {
   "cols": {
    "lenName": 16,
    "lenType": 16,
    "lenVar": 40
   },
   "kernels_config": {
    "python": {
     "delete_cmd_postfix": "",
     "delete_cmd_prefix": "del ",
     "library": "var_list.py",
     "varRefreshCmd": "print(var_dic_list())"
    },
    "r": {
     "delete_cmd_postfix": ") ",
     "delete_cmd_prefix": "rm(",
     "library": "var_list.r",
     "varRefreshCmd": "cat(var_dic_list()) "
    }
   },
   "types_to_exclude": [
    "module",
    "function",
    "builtin_function_or_method",
    "instance",
    "_Feature"
   ],
   "window_display": false
  }
 },
 "nbformat": 4,
 "nbformat_minor": 4
}
