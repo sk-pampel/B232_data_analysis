version https://git-lfs.github.com/spec/v1
oid sha256:e9a6482a8a77849280d40d7c80c929f4b941acbae8b1ba180de841c85d15b9e9
size 362426
