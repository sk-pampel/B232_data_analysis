{
 "cells": [
  {
   "cell_type": "code",
   "execution_count": 2,
   "metadata": {
    "ExecuteTime": {
     "end_time": "2018-02-28T17:06:46.067900Z",
     "start_time": "2018-02-28T17:06:31.753411Z"
    },
    "hidden": true,
    "tags": []
   },
   "outputs": [],
   "source": [
    "from scipy.optimize import curve_fit\n",
    "import matplotlib.pyplot as plt\n",
    "import numpy as np"
   ]
  },
  {
   "cell_type": "code",
   "execution_count": 3,
   "metadata": {},
   "outputs": [],
   "source": [
    "%matplotlib inline\n",
    "from matplotlib import rcParams\n",
    "rcParams['font.family'] = 'sans-serif';\n",
    "rcParams['axes.linewidth'] = 1.5;\n",
    "rcParams['axes.titlesize'] = 20\n",
    "rcParams['axes.labelsize'] = 20\n",
    "rcParams['xtick.labelsize'] = 15\n",
    "rcParams['xtick.major.width'] = 2\n",
    "rcParams['ytick.major.width'] = 2\n",
    "rcParams['ytick.labelsize'] = 15\n",
    "rcParams['lines.linewidth'] = 2.5\n",
    "rcParams['lines.color'] = 'k'\n",
    "plot_width = 8;\n",
    "plot_height = 5;"
   ]
  },
  {
   "cell_type": "markdown",
   "metadata": {},
   "source": [
    "## Slope of Shutter Response"
   ]
  },
  {
   "cell_type": "code",
   "execution_count": 14,
   "metadata": {},
   "outputs": [
    {
     "name": "stderr",
     "output_type": "stream",
     "text": [
      "C:\\Users\\REGALL~1\\AppData\\Local\\Temp/ipykernel_15168/1627358675.py:33: MatplotlibDeprecationWarning: Adding an axes using the same arguments as a previous axes currently reuses the earlier instance.  In a future version, a new instance will always be created and returned.  Meanwhile, this warning can be suppressed, and the future behavior ensured, by passing a unique label to each axes instance.\n",
      "  ax = plt.subplot()\n"
     ]
    },
    {
     "data": {
      "image/png": "[encoded data removed]",
      "text/plain": [
       "<Figure size 576x360 with 1 Axes>"
      ]
     },
     "metadata": {
      "needs_background": "light"
     },
     "output_type": "display_data"
    }
   ],
   "source": [
    "aged_shutter_slope = 'C:\\\\Users\\\\Regal Lab\\\\Desktop\\\\shutters\\\\Oscilliscope Data\\\\aged_shutter_slope.csv'\n",
    "new_shutter_slope = 'C:\\\\Users\\\\Regal Lab\\\\Desktop\\\\shutters\\\\Oscilliscope Data\\\\new_shutter_slope.csv'\n",
    "MEMS_shutter_slope = 'C:\\\\Users\\\\Regal Lab\\\\Desktop\\\\shutters\\\\Oscilliscope Data\\\\mems_profile.csv'\n",
    "\n",
    "from numpy import genfromtxt\n",
    "oss = genfromtxt(aged_shutter_slope, delimiter=',')\n",
    "nss = genfromtxt(new_shutter_slope, delimiter=',')\n",
    "mems = genfromtxt(MEMS_shutter_slope, delimiter=',')\n",
    "oss_xttl = oss[:,3] \n",
    "oss_yttl = oss[:,4] # ttl signal old shutter\n",
    "nss_xttl = nss[:,3]\n",
    "nss_yttl = nss[:,4] # ttl signal new shutter\n",
    "oss_xshut = oss[:,9]\n",
    "oss_yshut = oss[:,10] # scope signal old shutter\n",
    "nss_xshut = nss[:,9]\n",
    "nss_yshut = nss[:,10] # scope signal old shutter\n",
    "mems_xttl = mems[:,3]\n",
    "mems_yttl = mems[:,4] # ttl signal mems\n",
    "mems_xshut = mems[:,9]\n",
    "mems_yshut = mems[:,10] # scope signal mems shutter\n",
    "\n",
    "# plt.plot(oss_xttl*1e3+.08,nss_yttl,label='TTL')\n",
    "# plt.plot(oss_xttl*1e3+.1,oss_yshut,label='Aged Shutter')\n",
    "# plt.plot(oss_xttl*1e3+.1,nss_yshut,label='New Shutter')\n",
    "plt.plot(mems_xttl,mems_yttl/1.5,label='TTL')\n",
    "plt.plot(mems_xttl,mems_yshut,label='MEMS Shutter')\n",
    "plt.legend()\n",
    "# plt.xlabel('\\u03BCs')\n",
    "plt.ylabel('volts')\n",
    "fig = plt.gcf();\n",
    "fig.set_size_inches(plot_width, plot_height);\n",
    "plt.grid(True)\n",
    "ax = plt.subplot()\n",
    "# plt.xlim([-.01, .02])\n",
    "ax.tick_params(direction='in')\n",
    "ax.tick_params(bottom=True, top=True, left=True, right=True)"
   ]
  },
  {
   "cell_type": "markdown",
   "metadata": {
    "tags": []
   },
   "source": [
    "## Profile of Shutter"
   ]
  },
  {
   "cell_type": "code",
   "execution_count": 11,
   "metadata": {},
   "outputs": [
    {
     "ename": "OSError",
     "evalue": "C:\\Users\\Regal Lab\\Desktop\\shutters\\Oscilliscope Data\\whole profile - shutter.csv not found.",
     "output_type": "error",
     "traceback": [
      "\u001b[1;31m---------------------------------------------------------------------------\u001b[0m",
      "\u001b[1;31mOSError\u001b[0m                                   Traceback (most recent call last)",
      "\u001b[1;32mC:\\Users\\REGALL~1\\AppData\\Local\\Temp/ipykernel_15168/3763619959.py\u001b[0m in \u001b[0;36m<module>\u001b[1;34m\u001b[0m\n\u001b[0;32m      3\u001b[0m \u001b[1;33m\u001b[0m\u001b[0m\n\u001b[0;32m      4\u001b[0m \u001b[1;32mfrom\u001b[0m \u001b[0mnumpy\u001b[0m \u001b[1;32mimport\u001b[0m \u001b[0mgenfromtxt\u001b[0m\u001b[1;33m\u001b[0m\u001b[1;33m\u001b[0m\u001b[0m\n\u001b[1;32m----> 5\u001b[1;33m \u001b[0mosp\u001b[0m \u001b[1;33m=\u001b[0m \u001b[0mgenfromtxt\u001b[0m\u001b[1;33m(\u001b[0m\u001b[0mold_shutter_slope\u001b[0m\u001b[1;33m,\u001b[0m \u001b[0mdelimiter\u001b[0m\u001b[1;33m=\u001b[0m\u001b[1;34m','\u001b[0m\u001b[1;33m)\u001b[0m\u001b[1;33m\u001b[0m\u001b[1;33m\u001b[0m\u001b[0m\n\u001b[0m\u001b[0;32m      6\u001b[0m \u001b[0mnsp\u001b[0m \u001b[1;33m=\u001b[0m \u001b[0mgenfromtxt\u001b[0m\u001b[1;33m(\u001b[0m\u001b[0mnew_shutter_slope\u001b[0m\u001b[1;33m,\u001b[0m \u001b[0mdelimiter\u001b[0m\u001b[1;33m=\u001b[0m\u001b[1;34m','\u001b[0m\u001b[1;33m)\u001b[0m\u001b[1;33m\u001b[0m\u001b[1;33m\u001b[0m\u001b[0m\n\u001b[0;32m      7\u001b[0m \u001b[0mosp_xttl\u001b[0m \u001b[1;33m=\u001b[0m \u001b[0mosp\u001b[0m\u001b[1;33m[\u001b[0m\u001b[1;33m:\u001b[0m\u001b[1;33m,\u001b[0m\u001b[1;36m3\u001b[0m\u001b[1;33m]\u001b[0m\u001b[1;33m\u001b[0m\u001b[1;33m\u001b[0m\u001b[0m\n",
      "\u001b[1;32mC:\\ProgramData\\Anaconda3\\lib\\site-packages\\numpy\\lib\\npyio.py\u001b[0m in \u001b[0;36mgenfromtxt\u001b[1;34m(fname, dtype, comments, delimiter, skip_header, skip_footer, converters, missing_values, filling_values, usecols, names, excludelist, deletechars, replace_space, autostrip, case_sensitive, defaultfmt, unpack, usemask, loose, invalid_raise, max_rows, encoding, like)\u001b[0m\n\u001b[0;32m   1789\u001b[0m             \u001b[0mfname\u001b[0m \u001b[1;33m=\u001b[0m \u001b[0mos_fspath\u001b[0m\u001b[1;33m(\u001b[0m\u001b[0mfname\u001b[0m\u001b[1;33m)\u001b[0m\u001b[1;33m\u001b[0m\u001b[1;33m\u001b[0m\u001b[0m\n\u001b[0;32m   1790\u001b[0m         \u001b[1;32mif\u001b[0m \u001b[0misinstance\u001b[0m\u001b[1;33m(\u001b[0m\u001b[0mfname\u001b[0m\u001b[1;33m,\u001b[0m \u001b[0mstr\u001b[0m\u001b[1;33m)\u001b[0m\u001b[1;33m:\u001b[0m\u001b[1;33m\u001b[0m\u001b[1;33m\u001b[0m\u001b[0m\n\u001b[1;32m-> 1791\u001b[1;33m             \u001b[0mfid\u001b[0m \u001b[1;33m=\u001b[0m \u001b[0mnp\u001b[0m\u001b[1;33m.\u001b[0m\u001b[0mlib\u001b[0m\u001b[1;33m.\u001b[0m\u001b[0m_datasource\u001b[0m\u001b[1;33m.\u001b[0m\u001b[0mopen\u001b[0m\u001b[1;33m(\u001b[0m\u001b[0mfname\u001b[0m\u001b[1;33m,\u001b[0m \u001b[1;34m'rt'\u001b[0m\u001b[1;33m,\u001b[0m \u001b[0mencoding\u001b[0m\u001b[1;33m=\u001b[0m\u001b[0mencoding\u001b[0m\u001b[1;33m)\u001b[0m\u001b[1;33m\u001b[0m\u001b[1;33m\u001b[0m\u001b[0m\n\u001b[0m\u001b[0;32m   1792\u001b[0m             \u001b[0mfid_ctx\u001b[0m \u001b[1;33m=\u001b[0m \u001b[0mcontextlib\u001b[0m\u001b[1;33m.\u001b[0m\u001b[0mclosing\u001b[0m\u001b[1;33m(\u001b[0m\u001b[0mfid\u001b[0m\u001b[1;33m)\u001b[0m\u001b[1;33m\u001b[0m\u001b[1;33m\u001b[0m\u001b[0m\n\u001b[0;32m   1793\u001b[0m         \u001b[1;32melse\u001b[0m\u001b[1;33m:\u001b[0m\u001b[1;33m\u001b[0m\u001b[1;33m\u001b[0m\u001b[0m\n",
      "\u001b[1;32mC:\\ProgramData\\Anaconda3\\lib\\site-packages\\numpy\\lib\\_datasource.py\u001b[0m in \u001b[0;36mopen\u001b[1;34m(path, mode, destpath, encoding, newline)\u001b[0m\n\u001b[0;32m    192\u001b[0m \u001b[1;33m\u001b[0m\u001b[0m\n\u001b[0;32m    193\u001b[0m     \u001b[0mds\u001b[0m \u001b[1;33m=\u001b[0m \u001b[0mDataSource\u001b[0m\u001b[1;33m(\u001b[0m\u001b[0mdestpath\u001b[0m\u001b[1;33m)\u001b[0m\u001b[1;33m\u001b[0m\u001b[1;33m\u001b[0m\u001b[0m\n\u001b[1;32m--> 194\u001b[1;33m     \u001b[1;32mreturn\u001b[0m \u001b[0mds\u001b[0m\u001b[1;33m.\u001b[0m\u001b[0mopen\u001b[0m\u001b[1;33m(\u001b[0m\u001b[0mpath\u001b[0m\u001b[1;33m,\u001b[0m \u001b[0mmode\u001b[0m\u001b[1;33m,\u001b[0m \u001b[0mencoding\u001b[0m\u001b[1;33m=\u001b[0m\u001b[0mencoding\u001b[0m\u001b[1;33m,\u001b[0m \u001b[0mnewline\u001b[0m\u001b[1;33m=\u001b[0m\u001b[0mnewline\u001b[0m\u001b[1;33m)\u001b[0m\u001b[1;33m\u001b[0m\u001b[1;33m\u001b[0m\u001b[0m\n\u001b[0m\u001b[0;32m    195\u001b[0m \u001b[1;33m\u001b[0m\u001b[0m\n\u001b[0;32m    196\u001b[0m \u001b[1;33m\u001b[0m\u001b[0m\n",
      "\u001b[1;32mC:\\ProgramData\\Anaconda3\\lib\\site-packages\\numpy\\lib\\_datasource.py\u001b[0m in \u001b[0;36mopen\u001b[1;34m(self, path, mode, encoding, newline)\u001b[0m\n\u001b[0;32m    529\u001b[0m                                       encoding=encoding, newline=newline)\n\u001b[0;32m    530\u001b[0m         \u001b[1;32melse\u001b[0m\u001b[1;33m:\u001b[0m\u001b[1;33m\u001b[0m\u001b[1;33m\u001b[0m\u001b[0m\n\u001b[1;32m--> 531\u001b[1;33m             \u001b[1;32mraise\u001b[0m \u001b[0mIOError\u001b[0m\u001b[1;33m(\u001b[0m\u001b[1;34m\"%s not found.\"\u001b[0m \u001b[1;33m%\u001b[0m \u001b[0mpath\u001b[0m\u001b[1;33m)\u001b[0m\u001b[1;33m\u001b[0m\u001b[1;33m\u001b[0m\u001b[0m\n\u001b[0m\u001b[0;32m    532\u001b[0m \u001b[1;33m\u001b[0m\u001b[0m\n\u001b[0;32m    533\u001b[0m \u001b[1;33m\u001b[0m\u001b[0m\n",
      "\u001b[1;31mOSError\u001b[0m: C:\\Users\\Regal Lab\\Desktop\\shutters\\Oscilliscope Data\\whole profile - shutter.csv not found."
     ]
    }
   ],
   "source": [
    "old_shutter_slope = 'C:\\\\Users\\\\Regal Lab\\\\Desktop\\\\shutters\\\\Oscilliscope Data\\\\whole profile - shutter.csv'\n",
    "new_shutter_slope = 'C:\\\\Users\\\\Regal Lab\\\\Desktop\\\\shutters\\\\Oscilliscope Data\\\\whole profile - new shutter.csv'\n",
    "\n",
    "from numpy import genfromtxt\n",
    "osp = genfromtxt(old_shutter_slope, delimiter=',')\n",
    "nsp = genfromtxt(new_shutter_slope, delimiter=',')\n",
    "osp_xttl = osp[:,3] \n",
    "osp_yttl = osp[:,4] # ttl signal old shutter\n",
    "nsp_xttl = nsp[:,3]\n",
    "nsp_yttl = nsp[:,4] # ttl signal new shutter\n",
    "osp_xshut = osp[:,9]\n",
    "osp_yshut = osp[:,10] # scope signal old shutter\n",
    "nsp_xshut = nsp[:,9]\n",
    "nsp_yshut = nsp[:,10] # scope signal old shutter\n",
    "plt.plot(osp_xttl*1e3,nsp_yttl,label='TTL')\n",
    "plt.plot(osp_xttl*1e3,osp_yshut,label='Aged Shutter')\n",
    "plt.plot(osp_xttl*1e3,nsp_yshut,label='New Shutter')\n",
    "plt.legend()\n",
    "plt.xlabel('ms')\n",
    "plt.ylabel('volts')\n",
    "plt.xlim(0, 14)\n",
    "fig = plt.gcf();\n",
    "fig.set_size_inches(plot_width, plot_height);\n",
    "plt.grid(True)\n",
    "ax = plt.subplot()\n",
    "ax.tick_params(direction='in')\n",
    "ax.tick_params(bottom=True, top=True, left=True, right=True)"
   ]
  },
  {
   "cell_type": "code",
   "execution_count": null,
   "metadata": {},
   "outputs": [],
   "source": []
  }
 ],
 "metadata": {
  "anaconda-cloud": {},
  "hide_input": false,
  "kernelspec": {
   "display_name": "Python 3 (ipykernel)",
   "language": "python",
   "name": "python3"
  },
  "language_info": {
   "codemirror_mode": {
    "name": "ipython",
    "version": 3
   },
   "file_extension": ".py",
   "mimetype": "text/x-python",
   "name": "python",
   "nbconvert_exporter": "python",
   "pygments_lexer": "ipython3",
   "version": "3.8.8"
  },
  "nav_menu": {},
  "notify_time": "10",
  "record_timing": true,
  "toc": {
   "nav_menu": {},
   "number_sections": true,
   "sideBar": true,
   "skip_h1_title": false,
   "toc_cell": true,
   "toc_position": {
    "height": "780px",
    "left": "0px",
    "right": "1329.33px",
    "top": "107px",
    "width": "277px"
   },
   "toc_section_display": "none",
   "toc_window_display": false
  },
  "toc-autonumbering": true,
  "toc-showcode": false,
  "toc-showmarkdowntxt": false,
  "toc-showtags": false,
  "varInspector": {
   "cols": {
    "lenName": 16,
    "lenType": 16,
    "lenVar": 40
   },
   "kernels_config": {
    "python": {
     "delete_cmd_postfix": "",
     "delete_cmd_prefix": "del ",
     "library": "var_list.py",
     "varRefreshCmd": "print(var_dic_list())"
    },
    "r": {
     "delete_cmd_postfix": ") ",
     "delete_cmd_prefix": "rm(",
     "library": "var_list.r",
     "varRefreshCmd": "cat(var_dic_list()) "
    }
   },
   "types_to_exclude": [
    "module",
    "function",
    "builtin_function_or_method",
    "instance",
    "_Feature"
   ],
   "window_display": false
  }
 },
 "nbformat": 4,
 "nbformat_minor": 4
}
