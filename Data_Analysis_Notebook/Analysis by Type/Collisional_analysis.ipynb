version https://git-lfs.github.com/spec/v1
oid sha256:41bbbe5210692bd4c5cf95469c04d4cd9314dc148c4d9f5a53463dd244ed4d70
size 874208
