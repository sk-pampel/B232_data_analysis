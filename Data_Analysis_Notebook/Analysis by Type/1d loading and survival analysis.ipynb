{
 "cells": [
  {
   "cell_type": "markdown",
   "metadata": {
    "toc-hr-collapsed": false
   },
   "source": [
    "# 1D analysis"
   ]
  },
  {
   "cell_type": "code",
   "execution_count": null,
   "metadata": {},
   "outputs": [],
   "source": [
    "#### loading\n",
    "dataset1 = ta.standardTransferAnalysis(7,tao.getStandardLoadingOptions([2,2,3,3,1]));\n",
    "(tferAtomsVarAvg, tferAtomsVarErrs, loadAtomsVarAvg, initPicCounts, keyName, key1, repetitions, initThresholds, \n",
    "            fits, avgTferData1, avgTferErr1, avgFit, avgPics, genAvgs, genErrs, tferVarAvg, tferVarErr, initAtomImages, \n",
    "            tferAtomImages, tferPicCounts, tferThresholds, fitModules, basicInfoStr, ensembleHits, tOptions, analysisOpts,\n",
    "            tferAtomsPs, tferAtomsPs, tferList, isAnnotated, hmm) = dataset1\n",
    "\n",
    "color1 = 'tab:green'\n",
    "upperbound = []\n",
    "lowerbound = []\n",
    "for i in np.arange(0,len(avgTferErr1)):\n",
    "    up = avgTferErr1[i][0]/1.5\n",
    "    lo = avgTferErr1[i][1]/1.5\n",
    "    upperbound.append(up)  \n",
    "    lowerbound.append(lo)\n",
    "err1= [upperbound,lowerbound]\n",
    "\n",
    "\n",
    "plt.figure(dpi=1200)\n",
    "font = {'family' : 'normal',\n",
    "        'weight' : 'normal',\n",
    "        'size'   : 22}\n",
    "\n",
    "matplotlib.rc('font', **font)\n",
    "zeroed_freqs = []\n",
    "for i in key1:\n",
    "    freq = (max(key1)-i)*16\n",
    "    zeroed_freqs.append(freq)\n",
    "fig, ax = plt.subplots(figsize=(15, 6))\n",
    "t = np.linspace(key1[0], max(key1), len(key1))\n",
    "ax.errorbar(zeroed_freqs,avgTferData1, yerr=err1,ls='none',ecolor=color1,marker = 'o',markersize = 10,markerfacecolor=color1,markeredgecolor='k',capsize=5)\n",
    "\n",
    "\n",
    "plt.legend(bbox_to_anchor=(.6, 1.001), ncol = 2,prop={'size': 15},frameon=False)\n",
    "# plt.legend(loc=4, ncol = 2,prop={'size': 10})\n",
    "plt.ylim(0,1)\n",
    "plt.ylabel('survival')\n",
    "plt.xlabel(r'$ \\Delta_{\\mathrm{LGM}} \\  \\mathrm{(MHz)}$')\n",
    "plt.rcParams[\"axes.linewidth\"] = 1.5\n"
   ]
  }
 ],
 "metadata": {
  "anaconda-cloud": {},
  "hide_input": false,
  "kernelspec": {
   "display_name": "Python 3 (ipykernel)",
   "language": "python",
   "name": "python3"
  },
  "language_info": {
   "codemirror_mode": {
    "name": "ipython",
    "version": 3
   },
   "file_extension": ".py",
   "mimetype": "text/x-python",
   "name": "python",
   "nbconvert_exporter": "python",
   "pygments_lexer": "ipython3",
   "version": "3.10.5"
  },
  "nav_menu": {},
  "notify_time": "10",
  "record_timing": true,
  "toc": {
   "nav_menu": {},
   "number_sections": true,
   "sideBar": true,
   "skip_h1_title": false,
   "toc_cell": true,
   "toc_position": {
    "height": "780px",
    "left": "0px",
    "right": "1329.33px",
    "top": "107px",
    "width": "277px"
   },
   "toc_section_display": "none",
   "toc_window_display": false
  },
  "toc-autonumbering": true,
  "toc-showcode": false,
  "toc-showmarkdowntxt": false,
  "toc-showtags": false,
  "varInspector": {
   "cols": {
    "lenName": 16,
    "lenType": 16,
    "lenVar": 40
   },
   "kernels_config": {
    "python": {
     "delete_cmd_postfix": "",
     "delete_cmd_prefix": "del ",
     "library": "var_list.py",
     "varRefreshCmd": "print(var_dic_list())"
    },
    "r": {
     "delete_cmd_postfix": ") ",
     "delete_cmd_prefix": "rm(",
     "library": "var_list.r",
     "varRefreshCmd": "cat(var_dic_list()) "
    }
   },
   "types_to_exclude": [
    "module",
    "function",
    "builtin_function_or_method",
    "instance",
    "_Feature"
   ],
   "window_display": false
  }
 },
 "nbformat": 4,
 "nbformat_minor": 4
}
