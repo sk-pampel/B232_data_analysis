version https://git-lfs.github.com/spec/v1
oid sha256:eb98102e30070ee3495bb8a249fb11af42dd7a673b8da57157a646d23ad4d003
size 1086881
