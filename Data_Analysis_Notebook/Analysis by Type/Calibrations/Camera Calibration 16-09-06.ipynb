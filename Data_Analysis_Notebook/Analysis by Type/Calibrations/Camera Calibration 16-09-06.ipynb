{
 "cells": [
  {
   "cell_type": "markdown",
   "metadata": {},
   "source": [
    "# Camera Calibrations 16-09-06"
   ]
  },
  {
   "cell_type": "markdown",
   "metadata": {},
   "source": [
    "This notebook is based on the camera calibrations template notebook.\n",
    "\n",
    "This notebook analyzes a series of pictures and from them derives the photons/count rate of the camera for the given mode.\n",
    "\n",
    "It can do either averaging all pixels over a large picture (where we worry about spatial inhomogeneity) or averaging a single location over many pictures."
   ]
  },
  {
   "cell_type": "markdown",
   "metadata": {
    "heading_collapsed": true
   },
   "source": [
    "## Imports and Defines"
   ]
  },
  {
   "cell_type": "code",
   "execution_count": 34,
   "metadata": {
    "ExecuteTime": {
     "end_time": "2016-09-08T02:11:05.098439",
     "start_time": "2016-09-08T02:11:04.697878"
    },
    "hidden": true,
    "tags": []
   },
   "outputs": [],
   "source": [
    "import numpy as np\n",
    "import matplotlib.pyplot as plt\n",
    "from astropy.io import fits\n",
    "from scipy.optimize import curve_fit\n",
    "import winsound\n",
    "import matplotlib as mpl\n",
    "import h5py as h5\n",
    "%matplotlib inline"
   ]
  },
  {
   "cell_type": "markdown",
   "metadata": {
    "heading_collapsed": true
   },
   "source": [
    "## Set Matplotlib Defaults"
   ]
  },
  {
   "cell_type": "code",
   "execution_count": 31,
   "metadata": {
    "ExecuteTime": {
     "end_time": "2016-09-08T02:11:06.768348",
     "start_time": "2016-09-08T02:11:06.710306"
    },
    "hidden": true,
    "tags": []
   },
   "outputs": [],
   "source": [
    "# set matplotlib plot defaults :D\n",
    "# These values are nice for a dark theme.\n",
    "mpl.rcParams.update(mpl.rcParamsDefault)\n",
    "mpl.rcParams['text.color'] = '#ffffff'\n",
    "mpl.rcParams['figure.edgecolor'] = '#ffffff'\n",
    "mpl.rcParams['xtick.color'] = '#ffffff'\n",
    "mpl.rcParams['ytick.color'] = '#ffffff'\n",
    "mpl.rcParams['figure.facecolor'] = '#000000'\n",
    "mpl.rcParams['axes.facecolor'] = '#0a0a0a'\n",
    "mpl.rcParams['figure.figsize'] = (18.0, 8.0)\n",
    "mpl.rcParams['axes.labelcolor'] = '#ffffff'\n",
    "mpl.rcParams['grid.color'] = '#aaaaff'\n",
    "mpl.rcParams['axes.edgecolor'] = '#ffffff'\n",
    "mpl.rcParams['legend.facecolor'] = '#0a0a0a'\n",
    "mpl.rcParams['axes.grid'] = True\n",
    "mpl.rcParams['axes.formatter.useoffset'] = False"
   ]
  },
  {
   "cell_type": "markdown",
   "metadata": {
    "heading_collapsed": true
   },
   "source": [
    "## Function Definitions"
   ]
  },
  {
   "cell_type": "code",
   "execution_count": null,
   "metadata": {
    "tags": []
   },
   "outputs": [],
   "source": [
    "def analyzeSinglePicture(date, firstRun, lastRun, printProgress=True):\n",
    "    \"\"\"\n",
    "    This function is for calculating averages of pictures, finding the average pixel signal and variance\n",
    "    of all pixel signals on the pictures.\n",
    "    \n",
    "    :return: This function returns an array of the averages and an array of the variances of the pictures\n",
    "    taken.\n",
    "    \"\"\"\n",
    "    allPictures = []\n",
    "    allAverages = []\n",
    "    allVariances = []\n",
    "    dataRepositoryPath = \"\\\\\\\\REGALB232EXP\\\\Local_Data_Repository\\\\2021\\\\\"\n",
    "    for runInc in range(firstRun, lastRun + 1, 1):\n",
    "        dataPath = dataRepositoryPath + date + \"\\\\Raw Data\\\\data_\" + str(runInc) + \".fits\"\n",
    "        #for repInc in range(0, 1000):\n",
    "        if printProgress:\n",
    "            print('analyzing Run #' + str(runInc))    \n",
    "        allPictures.append(fits.open(dataPath, \"append\")[0].data)\n",
    "        # concatenate the data twice, collapsing all pictures into one 2D array, and then all rows within\n",
    "        # said 2D array into a single array. This is for calculating the mean and std of all of the data.\n",
    "        allPictures[-1] = [item for sublist in list(allPictures[-1]) for item in sublist]\n",
    "        allPictures[-1] = [item for sublist in allPictures[-1] for item in sublist]\n",
    "        allAverages.append(np.mean(allPictures[-1]))\n",
    "        allVariances.append(np.std(allPictures[-1])**2)\n",
    "    return allAverages, allVariances\n",
    "    "
   ]
  },
  {
   "cell_type": "code",
   "execution_count": 35,
   "metadata": {
    "ExecuteTime": {
     "end_time": "2016-09-08T03:35:23.443264",
     "start_time": "2016-09-08T03:35:23.358204"
    },
    "code_folding": [],
    "hidden": true,
    "tags": []
   },
   "outputs": [],
   "source": [
    "def line(x, a, b):\n",
    "    return a * x + b\n",
    "\n",
    "def analyzeSingleLocation(date, firstRun, lastRun, location, printStatus=False, plot=False):\n",
    "    \"\"\"\n",
    "    Analyzes a single location, averaging over many pictures.\n",
    "    The function assumes that there is a data file for all runs in between firstrun and lastrun.\n",
    "    \n",
    "    :return: The function returns the fit object (i.e. an array of [a, b] for the linear fit y = a x + b) \n",
    "    and the covariance of said fit.\n",
    "    \"\"\"\n",
    "    allAverages = []\n",
    "    allVariances = []\n",
    "    dataRepositoryPath = \"\\\\\\\\REGALB232EXP\\\\Local_Data_Repository\\\\2021\\\\\"\n",
    "\n",
    "    # concatenate the data twice.\n",
    "    for runInc in range(firstRun, lastRun + 1, 1):\n",
    "        allPoints = []\n",
    "        if (printStatus):\n",
    "            print(\"Analyzing run # \" + str(runInc))\n",
    "        todaysDataPath = dataRepositoryPath + date + \"\\\\Raw Data\\\\data_\" + str(runInc) + \".fits\"\n",
    "        dataFile = fits.open(todaysDataPath, \"append\")\n",
    "        for repInc in range(0, 1000):\n",
    "            allPoints.append(dataFile[0].data[repInc][location[0]][location[1]])\n",
    "        allAverages.append(np.mean(allPoints))\n",
    "        allVariances.append(np.std(allPoints)**2)\n",
    "        \n",
    "    # average on y, variance on x, slope is average/variance = 1/counts\n",
    "    param, cov = curve_fit(line, allVariances, allAverages, [1, 0])\n",
    "    \n",
    "    return param, cov, param[0], allAverages, allVariances\n"
   ]
  },
  {
   "cell_type": "markdown",
   "metadata": {},
   "source": [
    "# Photons per AD Count & per EM Count Calibration"
   ]
  },
  {
   "cell_type": "markdown",
   "metadata": {},
   "source": [
    "## Discussion of Normalization Factor"
   ]
  },
  {
   "cell_type": "markdown",
   "metadata": {},
   "source": [
    "Now I have the data, I need to normalize properly for the EM Gain mode. Consider that the EM Gain setting effectively multiplies each count by some number. So, since mean is defined as\n",
    "$$ \\bar n = \\frac{\\sum_{i=1}^{N}{n_i}}{N}$$\n",
    "Multiplying counts by the em Gain means\n",
    "$$\\bar n_{\\text{measured}} = \\frac{\\sum_{i=1}^{N}{G n_i}}{N} = G \\bar n$$ \n",
    "However, for the variance, since the variance is defined as\n",
    "$$ \\sigma_n^2 = \\frac{\\sum_{i=1}^N{(n_i-\\bar n)^2}}{N}$$\n",
    "In addition, however, For significant EM gains, there is noise due to the EM gain process. For EMCCD cameras this corresponds to a variance of the signal of $\\sqrt{2}$. See the Andor hardware guide (page 27?) for a few more details. The combined effect of this the EM Gain is\n",
    "$$ \\sigma_{n, \\text{observed}}^2 = \\frac{\\sum_{i=1}^N{(\\sqrt{2}(G n_i-G\\times\\bar n))^2}}{N} = 2G^2 \\sigma_n$$\n",
    "\n",
    "\n",
    "Therefore If I observe some slope\n",
    "$$ s_\\text{obs} = \\frac{\\bar n_\\text{obs}}{\\sigma_{n,\\text{obs}}} = \\frac{G\\bar n}{2G^2\\sigma_n} = \\frac{\\bar n}{2G \\sigma_n} = \\frac{1}{2G} s$$ \n",
    "It's off by a factor of $(2G)^{-1}$.\n",
    "\n",
    "This slope gives me photons per AD Counts (modifying for the EM Gain) which is the number quoted by Andor (that's the only reason we care about taking it into account)."
   ]
  },
  {
   "cell_type": "markdown",
   "metadata": {},
   "source": [
    "## Data Analysis"
   ]
  },
  {
   "cell_type": "markdown",
   "metadata": {
    "heading_collapsed": true
   },
   "source": [
    "### Load EM Gain Data"
   ]
  },
  {
   "cell_type": "code",
   "execution_count": 22,
   "metadata": {
    "ExecuteTime": {
     "end_time": "2016-09-08T01:36:10.051417",
     "start_time": "2016-09-08T01:21:44.883631"
    },
    "hidden": true,
    "scrolled": true,
    "tags": []
   },
   "outputs": [
    {
     "name": "stdout",
     "output_type": "stream",
     "text": [
      "[0, 0]\n",
      "Analyzing run # 2\n",
      "Analyzing run # 3\n",
      "Analyzing run # 4\n",
      "Analyzing run # 5\n",
      "Analyzing run # 6\n",
      "[477937.828111 383394.068871 186935.438496 262618.136591 407535.562959]\n",
      "finished 1\n",
      "[-1, 0]\n",
      "Analyzing run # 2\n",
      "Analyzing run # 3\n",
      "Analyzing run # 4\n",
      "Analyzing run # 5\n",
      "Analyzing run # 6\n",
      "[477937.828111 383394.068871 186935.438496 262618.136591 407535.562959\n",
      " 357430.582975 430428.803456 255466.382559 210997.714375 471871.958311]\n",
      "finished 1\n",
      "[0, -1]\n",
      "Analyzing run # 2\n",
      "Analyzing run # 3\n",
      "Analyzing run # 4\n",
      "Analyzing run # 5\n",
      "Analyzing run # 6\n",
      "[477937.828111 383394.068871 186935.438496 262618.136591 407535.562959\n",
      " 357430.582975 430428.803456 255466.382559 210997.714375 471871.958311\n",
      " 392696.7744   375253.059111 280537.669359 274867.370351 403247.672556]\n",
      "finished 1\n",
      "[-1, -1]\n",
      "Analyzing run # 2\n",
      "Analyzing run # 3\n",
      "Analyzing run # 4\n",
      "Analyzing run # 5\n",
      "Analyzing run # 6\n",
      "[477937.828111 383394.068871 186935.438496 262618.136591 407535.562959\n",
      " 357430.582975 430428.803456 255466.382559 210997.714375 471871.958311\n",
      " 392696.7744   375253.059111 280537.669359 274867.370351 403247.672556\n",
      " 527638.114839 352522.843136 307302.858975 235593.971216 292939.180716]\n",
      "finished 1\n",
      "COMPLETE!\n"
     ]
    }
   ],
   "source": [
    "# Initialize some arrays\n",
    "em200_1x1Fits = []\n",
    "em200_1x1Covs = []\n",
    "em200_1x1PhotonPerCounts = []\n",
    "em200_1x1Averages = []\n",
    "em200_1x1Variances = []\n",
    "\n",
    "em200_3x3Fits = []\n",
    "em200_3x3Covs = []\n",
    "em200_3x3PhotonPerCounts = []\n",
    "em200_3x3Averages = []\n",
    "em200_3x3Variances = []\n",
    "\n",
    "em50_1x1Fits = []\n",
    "em50_1x1Covs = []\n",
    "em50_1x1PhotonPerCounts = []\n",
    "em50_1x1Averages = []\n",
    "em50_1x1Variances = []\n",
    "\n",
    "em50_3x3Fits = []\n",
    "em50_3x3Covs = []\n",
    "em50_3x3PhotonPerCounts = []\n",
    "em50_3x3Averages = []\n",
    "em50_3x3Variances = []\n",
    "\n",
    "# Some of the details about individual data sets here are in the onenote.\n",
    "# Average over all the corners.\n",
    "for location in [[0, 0], [-1, 0], [0, -1], [-1, -1]]:\n",
    "    print(location)\n",
    "    fit, cov, fit1, averages, variances = analyzeSingleLocation('160913', 2, 6, location, True)\n",
    "    em200_1x1Fits = np.append(em200_1x1Fits, fit)\n",
    "    em200_1x1Covs = np.append(em200_1x1Covs, cov)\n",
    "    em200_1x1PhotonPerCounts = np.append(em200_1x1PhotonPerCounts, fit1)\n",
    "    em200_1x1Averages = np.append(em200_1x1Averages, averages)\n",
    "    em200_1x1Variances = np.append(em200_1x1Variances, variances)\n",
    "    print(em200_1x1Variances)\n",
    "    print('finished 1')\n",
    "    winsound.Beep(2500,100)\n",
    "#     fit, cov, fit1, averages, variances = analyzeSingleLocation('160913', 2, 6, location, True)\n",
    "#     em200_3x3Fits = np.append(em200_3x3Fits, fit)\n",
    "#     em200_3x3Covs = np.append(em200_3x3Covs, cov)\n",
    "#     em200_3x3PhotonPerCounts = np.append(em200_3x3PhotonPerCounts, fit1)\n",
    "#     em200_3x3Averages = np.append(em200_3x3Averages, averages)\n",
    "#     em200_3x3Variances = np.append(em200_3x3Variances, variances)\n",
    "\n",
    "#     print('finished 2')\n",
    "#     winsound.Beep(2500, 100)\n",
    "#     fit, cov, fit1, averages, variances = analyzeSingleLocation('160913', 2, 6, location, True)\n",
    "#     em50_3x3Fits = np.append(em50_3x3Fits, fit)\n",
    "#     em50_3x3Covs = np.append(em50_3x3Covs, cov)\n",
    "#     em50_3x3PhotonPerCounts = np.append(em50_3x3PhotonPerCounts, fit1)\n",
    "#     em50_3x3Averages = np.append(em50_3x3Averages, averages)\n",
    "#     em50_3x3Variances = np.append(em50_3x3Variances, variances)\n",
    "\n",
    "#     print('finished 3')\n",
    "#     winsound.Beep(2500,100)\n",
    "#     fit, cov, fit1, averages, variances = analyzeSingleLocation('160913', 2, 6, location, True)\n",
    "#     em50_1x1Fits = np.append(em50_1x1Fits, fit)\n",
    "#     em50_1x1Covs = np.append(em50_1x1Covs, cov)\n",
    "#     em50_1x1PhotonPerCounts = np.append(em50_1x1PhotonPerCounts, fit1)\n",
    "#     em50_1x1Averages = np.append(em50_1x1Averages, averages)\n",
    "#     em50_1x1Variances = np.append(em50_1x1Variances, variances)\n",
    "#     print('finished 4')\n",
    "print('COMPLETE!')\n",
    "# winsound.Beep(2500,500)"
   ]
  },
  {
   "cell_type": "markdown",
   "metadata": {
    "heading_collapsed": true
   },
   "source": [
    "### Load Conventional Gain Data"
   ]
  },
  {
   "cell_type": "code",
   "execution_count": 28,
   "metadata": {
    "ExecuteTime": {
     "end_time": "2016-09-08T02:00:24.264372",
     "start_time": "2016-09-08T01:53:03.524798"
    },
    "hidden": true,
    "tags": []
   },
   "outputs": [
    {
     "name": "stdout",
     "output_type": "stream",
     "text": [
      "[0, 0]\n",
      "Analyzing run # 2\n",
      "Analyzing run # 3\n",
      "Analyzing run # 4\n",
      "Analyzing run # 5\n",
      "Analyzing run # 6\n",
      "finished 1\n",
      "[-1, 0]\n",
      "Analyzing run # 2\n",
      "Analyzing run # 3\n",
      "Analyzing run # 4\n",
      "Analyzing run # 5\n",
      "Analyzing run # 6\n",
      "finished 1\n",
      "[0, -1]\n",
      "Analyzing run # 2\n",
      "Analyzing run # 3\n",
      "Analyzing run # 4\n",
      "Analyzing run # 5\n",
      "Analyzing run # 6\n",
      "finished 1\n",
      "[-1, -1]\n",
      "Analyzing run # 2\n",
      "Analyzing run # 3\n",
      "Analyzing run # 4\n",
      "Analyzing run # 5\n",
      "Analyzing run # 6\n",
      "finished 1\n",
      "COMPLETE!\n"
     ]
    }
   ],
   "source": [
    "# initialize some arrays\n",
    "conv_1x1Fits = []\n",
    "conv_1x1Covs = []\n",
    "conv_1x1PhotonPerCounts = []\n",
    "conv_1x1Averages = []\n",
    "conv_1x1Variances = []\n",
    "\n",
    "conv_3x2Fits = []\n",
    "conv_3x2Covs = []\n",
    "conv_3x2PhotonPerCounts = []\n",
    "conv_3x2Averages = []\n",
    "conv_3x2Variances = []\n",
    "\n",
    "# Some of the details about individual data sets here are in the onenote.\n",
    "# average over the four corners.\n",
    "for location in [[0, 0], [-1, 0], [0, -1], [-1, -1]]:\n",
    "    print(location)\n",
    "    fit, cov, fit1, averages, variances = analyzeSingleLocation(\"160913\", 2, 6, location, True)\n",
    "    conv_1x1Fits = np.append(conv_1x1Fits, fit)\n",
    "    conv_1x1Covs = np.append(conv_1x1Covs, cov)\n",
    "    conv_1x1PhotonPerCounts = np.append(conv_1x1PhotonPerCounts, fit1)\n",
    "    conv_1x1Averages = np.append(conv_1x1Averages, averages)\n",
    "    conv_1x1Variances = np.append(conv_1x1Variances, variances)\n",
    "    print('finished 1')\n",
    "    winsound.Beep(2500,100)\n",
    "    # Note: 55 and 56 exist, but 55 ended badly somehow and the data shouldn't be analyzed.\n",
    "#     fit, cov, fit1, averages, variances = analyzeSingleLocation(\"160913\", 5, 6, location, True)\n",
    "#     conv_3x2Fits = np.append(conv_3x2Fits, fit)\n",
    "#     conv_3x2Covs = np.append(conv_3x2Covs, cov)\n",
    "#     conv_3x2PhotonPerCounts = np.append(conv_3x2PhotonPerCounts, fit1)\n",
    "#     conv_3x2Averages = np.append(conv_3x2Averages, averages)\n",
    "#     conv_3x2Variances = np.append(conv_3x2Variances, variances)\n",
    "\n",
    "#     print('finished 2')\n",
    "#     winsound.Beep(2500, 100)\n",
    "print('COMPLETE!')\n",
    "winsound.Beep(2500,500)"
   ]
  },
  {
   "cell_type": "markdown",
   "metadata": {
    "heading_collapsed": true
   },
   "source": [
    "### Extract Meaningful data from raw data."
   ]
  },
  {
   "cell_type": "code",
   "execution_count": 25,
   "metadata": {
    "ExecuteTime": {
     "end_time": "2016-09-08T02:11:24.480449",
     "start_time": "2016-09-08T02:11:24.440414"
    },
    "collapsed": false,
    "hidden": true,
    "jupyter": {
     "outputs_hidden": false
    }
   },
   "outputs": [],
   "source": [
    "# no scaling required.\n",
    "conv_1x1PhotonPerADCount = np.mean(conv_1x1PhotonPerCounts)\n",
    "conv_3x2PhotonPerADCount = np.mean(conv_3x2PhotonPerCounts)\n",
    "\n",
    "# # Scale the photon per count data. See discussion above.\n",
    "em200_1x1PhotonPerEMCount = np.mean(em200_1x1PhotonPerCounts) * 2\n",
    "em50_1x1PhotonPerEMCount = np.mean(em50_1x1PhotonPerCounts) * 2\n",
    "em200_3x3PhotonPerEMCount = np.mean(em200_3x3PhotonPerCounts) * 2\n",
    "em50_3x3PhotonPerEMCount = np.mean(em50_3x3PhotonPerCounts) * 2\n",
    "# Scale the photon per count data. See discussion above.\n",
    "em200_1x1PhotonPerADCount = np.mean(em200_1x1PhotonPerCounts) * 2 * 200\n",
    "em50_1x1PhotonPerADCount = np.mean(em50_1x1PhotonPerCounts) * 2 * 50\n",
    "em200_3x3PhotonPerADCount = np.mean(em200_3x3PhotonPerCounts) * 2 * 200\n",
    "em50_3x3PhotonPerADCount = np.mean(em50_3x3PhotonPerCounts) * 2 * 50\n"
   ]
  },
  {
   "cell_type": "markdown",
   "metadata": {},
   "source": [
    "### Output All Data"
   ]
  },
  {
   "cell_type": "markdown",
   "metadata": {
    "variables": {
     "conv_1x1PhotonPerADCount": "0.65090494306349556",
     "conv_3x2PhotonPerADCount": "0.69779820150366423",
     "em200_1x1PhotonPerADCount": "3.7374758950397808",
     "em200_1x1PhotonPerEMCount": "0.018687379475198905",
     "em200_3x3PhotonPerADCount": "3.7154885565786269",
     "em200_3x3PhotonPerEMCount": "0.018577442782893135",
     "em50_1x1PhotonPerADCount": "3.527683630992537",
     "em50_1x1PhotonPerEMCount": "0.070553672619850738",
     "em50_3x3PhotonPerADCount": "3.6336482684712692",
     "em50_3x3PhotonPerEMCount": "0.072672965369425385"
    }
   },
   "source": [
    "#### Photons Per EM Count (To use directly)\n",
    "|      | **1x1 Bin** | **3x3 Bin** |\n",
    "| :--- | --- | --- |\n",
    "| **X50**  | {{em50_1x1PhotonPerEMCount}} | {{em50_3x3PhotonPerEMCount}}  | \n",
    "| **x200** | {{em200_1x1PhotonPerEMCount}} | {{em200_3x3PhotonPerEMCount}}  | \n",
    "\n",
    "#### Photons Per AD Count (Compare to Andor #s)\n",
    "|      | **1x1 Bin** | **3x3 Bin** |\n",
    "| :--- | --- | --- |\n",
    "| **X50**  | {{em50_1x1PhotonPerADCount}} | {{em50_3x3PhotonPerADCount}}  | \n",
    "| **x200** | {{em200_1x1PhotonPerADCount}} | {{em200_3x3PhotonPerADCount}}  | \n",
    "\n",
    "**Andor's Value (EM gain): ** 3.97\n",
    "\n",
    "| | **1x1 Bin** | **3x2 Bin** |\n",
    "| --- | --- | --- |\n",
    "| Conventional | {{conv_1x1PhotonPerADCount}} | {{conv_3x2PhotonPerADCount}} |\n",
    "\n",
    "**Andor's Value (conventional gain): ** 0.68\n"
   ]
  },
  {
   "cell_type": "code",
   "execution_count": 29,
   "metadata": {
    "ExecuteTime": {
     "end_time": "2016-09-08T03:01:26.149464",
     "start_time": "2016-09-08T03:01:10.369261"
    },
    "code_folding": [
     0
    ],
    "collapsed": false,
    "jupyter": {
     "outputs_hidden": false
    }
   },
   "outputs": [
    {
     "name": "stderr",
     "output_type": "stream",
     "text": [
      "C:\\Users\\REGALL~1\\AppData\\Local\\Temp/ipykernel_14392/2638206774.py:4: MatplotlibDeprecationWarning: Adding an axes using the same arguments as a previous axes currently reuses the earlier instance.  In a future version, a new instance will always be created and returned.  Meanwhile, this warning can be suppressed, and the future behavior ensured, by passing a unique label to each axes instance.\n",
      "  axls.append(plt.subplot(4, 4, 1))\n",
      "C:\\Users\\REGALL~1\\AppData\\Local\\Temp/ipykernel_14392/2638206774.py:5: MatplotlibDeprecationWarning: Adding an axes using the same arguments as a previous axes currently reuses the earlier instance.  In a future version, a new instance will always be created and returned.  Meanwhile, this warning can be suppressed, and the future behavior ensured, by passing a unique label to each axes instance.\n",
      "  axls.append(plt.subplot(4, 4, 5))\n",
      "C:\\Users\\REGALL~1\\AppData\\Local\\Temp/ipykernel_14392/2638206774.py:6: MatplotlibDeprecationWarning: Adding an axes using the same arguments as a previous axes currently reuses the earlier instance.  In a future version, a new instance will always be created and returned.  Meanwhile, this warning can be suppressed, and the future behavior ensured, by passing a unique label to each axes instance.\n",
      "  axls.append(plt.subplot(4, 4, 9))\n",
      "C:\\Users\\REGALL~1\\AppData\\Local\\Temp/ipykernel_14392/2638206774.py:7: MatplotlibDeprecationWarning: Adding an axes using the same arguments as a previous axes currently reuses the earlier instance.  In a future version, a new instance will always be created and returned.  Meanwhile, this warning can be suppressed, and the future behavior ensured, by passing a unique label to each axes instance.\n",
      "  axls.append(plt.subplot(4, 4, 13))\n",
      "C:\\Users\\REGALL~1\\AppData\\Local\\Temp/ipykernel_14392/2638206774.py:9: MatplotlibDeprecationWarning: Adding an axes using the same arguments as a previous axes currently reuses the earlier instance.  In a future version, a new instance will always be created and returned.  Meanwhile, this warning can be suppressed, and the future behavior ensured, by passing a unique label to each axes instance.\n",
      "  axb1 = plt.subplot(4, 4, 13)\n",
      "C:\\Users\\REGALL~1\\AppData\\Local\\Temp/ipykernel_14392/2638206774.py:10: MatplotlibDeprecationWarning: Adding an axes using the same arguments as a previous axes currently reuses the earlier instance.  In a future version, a new instance will always be created and returned.  Meanwhile, this warning can be suppressed, and the future behavior ensured, by passing a unique label to each axes instance.\n",
      "  axb2 = plt.subplot(4, 4, 14)\n",
      "C:\\Users\\REGALL~1\\AppData\\Local\\Temp/ipykernel_14392/2638206774.py:11: MatplotlibDeprecationWarning: Adding an axes using the same arguments as a previous axes currently reuses the earlier instance.  In a future version, a new instance will always be created and returned.  Meanwhile, this warning can be suppressed, and the future behavior ensured, by passing a unique label to each axes instance.\n",
      "  axb3 = plt.subplot(4, 4, 15)\n",
      "C:\\Users\\REGALL~1\\AppData\\Local\\Temp/ipykernel_14392/2638206774.py:12: MatplotlibDeprecationWarning: Adding an axes using the same arguments as a previous axes currently reuses the earlier instance.  In a future version, a new instance will always be created and returned.  Meanwhile, this warning can be suppressed, and the future behavior ensured, by passing a unique label to each axes instance.\n",
      "  axb4 = plt.subplot(4, 4, 16)\n"
     ]
    },
    {
     "ename": "AttributeError",
     "evalue": "'NoneType' object has no attribute 'dpi'",
     "output_type": "error",
     "traceback": [
      "\u001b[1;31m---------------------------------------------------------------------------\u001b[0m",
      "\u001b[1;31mAttributeError\u001b[0m                            Traceback (most recent call last)",
      "\u001b[1;32mC:\\Users\\REGALL~1\\AppData\\Local\\Temp/ipykernel_14392/2638206774.py\u001b[0m in \u001b[0;36m<module>\u001b[1;34m\u001b[0m\n\u001b[0;32m     75\u001b[0m \u001b[1;31m#     plt.title('Gain = 200, Bin = 3x3, loc ' + str(posInc + 1))\u001b[0m\u001b[1;33m\u001b[0m\u001b[1;33m\u001b[0m\u001b[1;33m\u001b[0m\u001b[0m\n\u001b[0;32m     76\u001b[0m \u001b[1;33m\u001b[0m\u001b[0m\n\u001b[1;32m---> 77\u001b[1;33m \u001b[0mplt\u001b[0m\u001b[1;33m.\u001b[0m\u001b[0mtight_layout\u001b[0m\u001b[1;33m(\u001b[0m\u001b[1;33m)\u001b[0m\u001b[1;33m\u001b[0m\u001b[1;33m\u001b[0m\u001b[0m\n\u001b[0m\u001b[0;32m     78\u001b[0m \u001b[0mplt\u001b[0m\u001b[1;33m.\u001b[0m\u001b[0mfigure\u001b[0m\u001b[1;33m(\u001b[0m\u001b[1;36m2\u001b[0m\u001b[1;33m)\u001b[0m\u001b[1;33m\u001b[0m\u001b[1;33m\u001b[0m\u001b[0m\n\u001b[0;32m     79\u001b[0m \u001b[0maxls\u001b[0m \u001b[1;33m=\u001b[0m \u001b[1;33m[\u001b[0m\u001b[1;33m]\u001b[0m\u001b[1;33m\u001b[0m\u001b[1;33m\u001b[0m\u001b[0m\n",
      "\u001b[1;32mC:\\ProgramData\\Anaconda3\\lib\\site-packages\\matplotlib\\cbook\\deprecation.py\u001b[0m in \u001b[0;36mwrapper\u001b[1;34m(*args, **kwargs)\u001b[0m\n\u001b[0;32m    449\u001b[0m                 \u001b[1;34m\"parameter will become keyword-only %(removal)s.\"\u001b[0m\u001b[1;33m,\u001b[0m\u001b[1;33m\u001b[0m\u001b[1;33m\u001b[0m\u001b[0m\n\u001b[0;32m    450\u001b[0m                 name=name, obj_type=f\"parameter of {func.__name__}()\")\n\u001b[1;32m--> 451\u001b[1;33m         \u001b[1;32mreturn\u001b[0m \u001b[0mfunc\u001b[0m\u001b[1;33m(\u001b[0m\u001b[1;33m*\u001b[0m\u001b[0margs\u001b[0m\u001b[1;33m,\u001b[0m \u001b[1;33m**\u001b[0m\u001b[0mkwargs\u001b[0m\u001b[1;33m)\u001b[0m\u001b[1;33m\u001b[0m\u001b[1;33m\u001b[0m\u001b[0m\n\u001b[0m\u001b[0;32m    452\u001b[0m \u001b[1;33m\u001b[0m\u001b[0m\n\u001b[0;32m    453\u001b[0m     \u001b[1;32mreturn\u001b[0m \u001b[0mwrapper\u001b[0m\u001b[1;33m\u001b[0m\u001b[1;33m\u001b[0m\u001b[0m\n",
      "\u001b[1;32mC:\\ProgramData\\Anaconda3\\lib\\site-packages\\matplotlib\\pyplot.py\u001b[0m in \u001b[0;36mtight_layout\u001b[1;34m(pad, h_pad, w_pad, rect)\u001b[0m\n\u001b[0;32m   1504\u001b[0m         \u001b[0msubplots\u001b[0m \u001b[0marea\u001b[0m \u001b[1;33m(\u001b[0m\u001b[0mincluding\u001b[0m \u001b[0mlabels\u001b[0m\u001b[1;33m)\u001b[0m \u001b[0mwill\u001b[0m \u001b[0mfit\u001b[0m\u001b[1;33m.\u001b[0m\u001b[1;33m\u001b[0m\u001b[1;33m\u001b[0m\u001b[0m\n\u001b[0;32m   1505\u001b[0m     \"\"\"\n\u001b[1;32m-> 1506\u001b[1;33m     \u001b[0mgcf\u001b[0m\u001b[1;33m(\u001b[0m\u001b[1;33m)\u001b[0m\u001b[1;33m.\u001b[0m\u001b[0mtight_layout\u001b[0m\u001b[1;33m(\u001b[0m\u001b[0mpad\u001b[0m\u001b[1;33m=\u001b[0m\u001b[0mpad\u001b[0m\u001b[1;33m,\u001b[0m \u001b[0mh_pad\u001b[0m\u001b[1;33m=\u001b[0m\u001b[0mh_pad\u001b[0m\u001b[1;33m,\u001b[0m \u001b[0mw_pad\u001b[0m\u001b[1;33m=\u001b[0m\u001b[0mw_pad\u001b[0m\u001b[1;33m,\u001b[0m \u001b[0mrect\u001b[0m\u001b[1;33m=\u001b[0m\u001b[0mrect\u001b[0m\u001b[1;33m)\u001b[0m\u001b[1;33m\u001b[0m\u001b[1;33m\u001b[0m\u001b[0m\n\u001b[0m\u001b[0;32m   1507\u001b[0m \u001b[1;33m\u001b[0m\u001b[0m\n\u001b[0;32m   1508\u001b[0m \u001b[1;33m\u001b[0m\u001b[0m\n",
      "\u001b[1;32mC:\\ProgramData\\Anaconda3\\lib\\site-packages\\matplotlib\\cbook\\deprecation.py\u001b[0m in \u001b[0;36mwrapper\u001b[1;34m(*inner_args, **inner_kwargs)\u001b[0m\n\u001b[0;32m    409\u001b[0m                          \u001b[1;32melse\u001b[0m \u001b[0mdeprecation_addendum\u001b[0m\u001b[1;33m,\u001b[0m\u001b[1;33m\u001b[0m\u001b[1;33m\u001b[0m\u001b[0m\n\u001b[0;32m    410\u001b[0m                 **kwargs)\n\u001b[1;32m--> 411\u001b[1;33m         \u001b[1;32mreturn\u001b[0m \u001b[0mfunc\u001b[0m\u001b[1;33m(\u001b[0m\u001b[1;33m*\u001b[0m\u001b[0minner_args\u001b[0m\u001b[1;33m,\u001b[0m \u001b[1;33m**\u001b[0m\u001b[0minner_kwargs\u001b[0m\u001b[1;33m)\u001b[0m\u001b[1;33m\u001b[0m\u001b[1;33m\u001b[0m\u001b[0m\n\u001b[0m\u001b[0;32m    412\u001b[0m \u001b[1;33m\u001b[0m\u001b[0m\n\u001b[0;32m    413\u001b[0m     \u001b[1;32mreturn\u001b[0m \u001b[0mwrapper\u001b[0m\u001b[1;33m\u001b[0m\u001b[1;33m\u001b[0m\u001b[0m\n",
      "\u001b[1;32mC:\\ProgramData\\Anaconda3\\lib\\site-packages\\matplotlib\\figure.py\u001b[0m in \u001b[0;36mtight_layout\u001b[1;34m(self, renderer, pad, h_pad, w_pad, rect)\u001b[0m\n\u001b[0;32m   2611\u001b[0m                else suppress())\n\u001b[0;32m   2612\u001b[0m         \u001b[1;32mwith\u001b[0m \u001b[0mctx\u001b[0m\u001b[1;33m:\u001b[0m\u001b[1;33m\u001b[0m\u001b[1;33m\u001b[0m\u001b[0m\n\u001b[1;32m-> 2613\u001b[1;33m             kwargs = get_tight_layout_figure(\n\u001b[0m\u001b[0;32m   2614\u001b[0m                 \u001b[0mself\u001b[0m\u001b[1;33m,\u001b[0m \u001b[0mself\u001b[0m\u001b[1;33m.\u001b[0m\u001b[0maxes\u001b[0m\u001b[1;33m,\u001b[0m \u001b[0msubplotspec_list\u001b[0m\u001b[1;33m,\u001b[0m \u001b[0mrenderer\u001b[0m\u001b[1;33m,\u001b[0m\u001b[1;33m\u001b[0m\u001b[1;33m\u001b[0m\u001b[0m\n\u001b[0;32m   2615\u001b[0m                 pad=pad, h_pad=h_pad, w_pad=w_pad, rect=rect)\n",
      "\u001b[1;32mC:\\ProgramData\\Anaconda3\\lib\\site-packages\\matplotlib\\tight_layout.py\u001b[0m in \u001b[0;36mget_tight_layout_figure\u001b[1;34m(fig, axes_list, subplotspec_list, renderer, pad, h_pad, w_pad, rect)\u001b[0m\n\u001b[0;32m    301\u001b[0m                               (colNum2 + 1) * div_col - 1))\n\u001b[0;32m    302\u001b[0m \u001b[1;33m\u001b[0m\u001b[0m\n\u001b[1;32m--> 303\u001b[1;33m     kwargs = auto_adjust_subplotpars(fig, renderer,\n\u001b[0m\u001b[0;32m    304\u001b[0m                                      \u001b[0mnrows_ncols\u001b[0m\u001b[1;33m=\u001b[0m\u001b[1;33m(\u001b[0m\u001b[0mmax_nrows\u001b[0m\u001b[1;33m,\u001b[0m \u001b[0mmax_ncols\u001b[0m\u001b[1;33m)\u001b[0m\u001b[1;33m,\u001b[0m\u001b[1;33m\u001b[0m\u001b[1;33m\u001b[0m\u001b[0m\n\u001b[0;32m    305\u001b[0m                                      \u001b[0mnum1num2_list\u001b[0m\u001b[1;33m=\u001b[0m\u001b[0mnum1num2_list\u001b[0m\u001b[1;33m,\u001b[0m\u001b[1;33m\u001b[0m\u001b[1;33m\u001b[0m\u001b[0m\n",
      "\u001b[1;32mC:\\ProgramData\\Anaconda3\\lib\\site-packages\\matplotlib\\tight_layout.py\u001b[0m in \u001b[0;36mauto_adjust_subplotpars\u001b[1;34m(fig, renderer, nrows_ncols, num1num2_list, subplot_list, ax_bbox_list, pad, h_pad, w_pad, rect)\u001b[0m\n\u001b[0;32m     82\u001b[0m             \u001b[1;32mif\u001b[0m \u001b[0max\u001b[0m\u001b[1;33m.\u001b[0m\u001b[0mget_visible\u001b[0m\u001b[1;33m(\u001b[0m\u001b[1;33m)\u001b[0m\u001b[1;33m:\u001b[0m\u001b[1;33m\u001b[0m\u001b[1;33m\u001b[0m\u001b[0m\n\u001b[0;32m     83\u001b[0m                 \u001b[1;32mtry\u001b[0m\u001b[1;33m:\u001b[0m\u001b[1;33m\u001b[0m\u001b[1;33m\u001b[0m\u001b[0m\n\u001b[1;32m---> 84\u001b[1;33m                     \u001b[0mbb\u001b[0m \u001b[1;33m+=\u001b[0m \u001b[1;33m[\u001b[0m\u001b[0max\u001b[0m\u001b[1;33m.\u001b[0m\u001b[0mget_tightbbox\u001b[0m\u001b[1;33m(\u001b[0m\u001b[0mrenderer\u001b[0m\u001b[1;33m,\u001b[0m \u001b[0mfor_layout_only\u001b[0m\u001b[1;33m=\u001b[0m\u001b[1;32mTrue\u001b[0m\u001b[1;33m)\u001b[0m\u001b[1;33m]\u001b[0m\u001b[1;33m\u001b[0m\u001b[1;33m\u001b[0m\u001b[0m\n\u001b[0m\u001b[0;32m     85\u001b[0m                 \u001b[1;32mexcept\u001b[0m \u001b[0mTypeError\u001b[0m\u001b[1;33m:\u001b[0m\u001b[1;33m\u001b[0m\u001b[1;33m\u001b[0m\u001b[0m\n\u001b[0;32m     86\u001b[0m                     \u001b[0mbb\u001b[0m \u001b[1;33m+=\u001b[0m \u001b[1;33m[\u001b[0m\u001b[0max\u001b[0m\u001b[1;33m.\u001b[0m\u001b[0mget_tightbbox\u001b[0m\u001b[1;33m(\u001b[0m\u001b[0mrenderer\u001b[0m\u001b[1;33m)\u001b[0m\u001b[1;33m]\u001b[0m\u001b[1;33m\u001b[0m\u001b[1;33m\u001b[0m\u001b[0m\n",
      "\u001b[1;32mC:\\ProgramData\\Anaconda3\\lib\\site-packages\\matplotlib\\axes\\_base.py\u001b[0m in \u001b[0;36mget_tightbbox\u001b[1;34m(self, renderer, call_axes_locator, bbox_extra_artists, for_layout_only)\u001b[0m\n\u001b[0;32m   4160\u001b[0m             \u001b[1;32mif\u001b[0m \u001b[0mself\u001b[0m\u001b[1;33m.\u001b[0m\u001b[0myaxis\u001b[0m\u001b[1;33m.\u001b[0m\u001b[0mget_visible\u001b[0m\u001b[1;33m(\u001b[0m\u001b[1;33m)\u001b[0m\u001b[1;33m:\u001b[0m\u001b[1;33m\u001b[0m\u001b[1;33m\u001b[0m\u001b[0m\n\u001b[0;32m   4161\u001b[0m                 \u001b[1;32mtry\u001b[0m\u001b[1;33m:\u001b[0m\u001b[1;33m\u001b[0m\u001b[1;33m\u001b[0m\u001b[0m\n\u001b[1;32m-> 4162\u001b[1;33m                     bb_yaxis = self.yaxis.get_tightbbox(\n\u001b[0m\u001b[0;32m   4163\u001b[0m                         renderer, for_layout_only=for_layout_only)\n\u001b[0;32m   4164\u001b[0m                 \u001b[1;32mexcept\u001b[0m \u001b[0mTypeError\u001b[0m\u001b[1;33m:\u001b[0m\u001b[1;33m\u001b[0m\u001b[1;33m\u001b[0m\u001b[0m\n",
      "\u001b[1;32mC:\\ProgramData\\Anaconda3\\lib\\site-packages\\matplotlib\\axis.py\u001b[0m in \u001b[0;36mget_tightbbox\u001b[1;34m(self, renderer, for_layout_only)\u001b[0m\n\u001b[0;32m   1107\u001b[0m             \u001b[1;32mreturn\u001b[0m\u001b[1;33m\u001b[0m\u001b[1;33m\u001b[0m\u001b[0m\n\u001b[0;32m   1108\u001b[0m \u001b[1;33m\u001b[0m\u001b[0m\n\u001b[1;32m-> 1109\u001b[1;33m         \u001b[0mticks_to_draw\u001b[0m \u001b[1;33m=\u001b[0m \u001b[0mself\u001b[0m\u001b[1;33m.\u001b[0m\u001b[0m_update_ticks\u001b[0m\u001b[1;33m(\u001b[0m\u001b[1;33m)\u001b[0m\u001b[1;33m\u001b[0m\u001b[1;33m\u001b[0m\u001b[0m\n\u001b[0m\u001b[0;32m   1110\u001b[0m \u001b[1;33m\u001b[0m\u001b[0m\n\u001b[0;32m   1111\u001b[0m         \u001b[0mself\u001b[0m\u001b[1;33m.\u001b[0m\u001b[0m_update_label_position\u001b[0m\u001b[1;33m(\u001b[0m\u001b[0mrenderer\u001b[0m\u001b[1;33m)\u001b[0m\u001b[1;33m\u001b[0m\u001b[1;33m\u001b[0m\u001b[0m\n",
      "\u001b[1;32mC:\\ProgramData\\Anaconda3\\lib\\site-packages\\matplotlib\\axis.py\u001b[0m in \u001b[0;36m_update_ticks\u001b[1;34m(self)\u001b[0m\n\u001b[0;32m   1019\u001b[0m         \u001b[0mthe\u001b[0m \u001b[0maxes\u001b[0m\u001b[1;33m.\u001b[0m  \u001b[0mReturn\u001b[0m \u001b[0mthe\u001b[0m \u001b[0mlist\u001b[0m \u001b[0mof\u001b[0m \u001b[0mticks\u001b[0m \u001b[0mthat\u001b[0m \u001b[0mwill\u001b[0m \u001b[0mbe\u001b[0m \u001b[0mdrawn\u001b[0m\u001b[1;33m.\u001b[0m\u001b[1;33m\u001b[0m\u001b[1;33m\u001b[0m\u001b[0m\n\u001b[0;32m   1020\u001b[0m         \"\"\"\n\u001b[1;32m-> 1021\u001b[1;33m         \u001b[0mmajor_locs\u001b[0m \u001b[1;33m=\u001b[0m \u001b[0mself\u001b[0m\u001b[1;33m.\u001b[0m\u001b[0mget_majorticklocs\u001b[0m\u001b[1;33m(\u001b[0m\u001b[1;33m)\u001b[0m\u001b[1;33m\u001b[0m\u001b[1;33m\u001b[0m\u001b[0m\n\u001b[0m\u001b[0;32m   1022\u001b[0m         \u001b[0mmajor_labels\u001b[0m \u001b[1;33m=\u001b[0m \u001b[0mself\u001b[0m\u001b[1;33m.\u001b[0m\u001b[0mmajor\u001b[0m\u001b[1;33m.\u001b[0m\u001b[0mformatter\u001b[0m\u001b[1;33m.\u001b[0m\u001b[0mformat_ticks\u001b[0m\u001b[1;33m(\u001b[0m\u001b[0mmajor_locs\u001b[0m\u001b[1;33m)\u001b[0m\u001b[1;33m\u001b[0m\u001b[1;33m\u001b[0m\u001b[0m\n\u001b[0;32m   1023\u001b[0m         \u001b[0mmajor_ticks\u001b[0m \u001b[1;33m=\u001b[0m \u001b[0mself\u001b[0m\u001b[1;33m.\u001b[0m\u001b[0mget_major_ticks\u001b[0m\u001b[1;33m(\u001b[0m\u001b[0mlen\u001b[0m\u001b[1;33m(\u001b[0m\u001b[0mmajor_locs\u001b[0m\u001b[1;33m)\u001b[0m\u001b[1;33m)\u001b[0m\u001b[1;33m\u001b[0m\u001b[1;33m\u001b[0m\u001b[0m\n",
      "\u001b[1;32mC:\\ProgramData\\Anaconda3\\lib\\site-packages\\matplotlib\\axis.py\u001b[0m in \u001b[0;36mget_majorticklocs\u001b[1;34m(self)\u001b[0m\n\u001b[0;32m   1281\u001b[0m     \u001b[1;32mdef\u001b[0m \u001b[0mget_majorticklocs\u001b[0m\u001b[1;33m(\u001b[0m\u001b[0mself\u001b[0m\u001b[1;33m)\u001b[0m\u001b[1;33m:\u001b[0m\u001b[1;33m\u001b[0m\u001b[1;33m\u001b[0m\u001b[0m\n\u001b[0;32m   1282\u001b[0m         \u001b[1;34m\"\"\"Return this Axis' major tick locations in data coordinates.\"\"\"\u001b[0m\u001b[1;33m\u001b[0m\u001b[1;33m\u001b[0m\u001b[0m\n\u001b[1;32m-> 1283\u001b[1;33m         \u001b[1;32mreturn\u001b[0m \u001b[0mself\u001b[0m\u001b[1;33m.\u001b[0m\u001b[0mmajor\u001b[0m\u001b[1;33m.\u001b[0m\u001b[0mlocator\u001b[0m\u001b[1;33m(\u001b[0m\u001b[1;33m)\u001b[0m\u001b[1;33m\u001b[0m\u001b[1;33m\u001b[0m\u001b[0m\n\u001b[0m\u001b[0;32m   1284\u001b[0m \u001b[1;33m\u001b[0m\u001b[0m\n\u001b[0;32m   1285\u001b[0m     \u001b[1;32mdef\u001b[0m \u001b[0mget_minorticklocs\u001b[0m\u001b[1;33m(\u001b[0m\u001b[0mself\u001b[0m\u001b[1;33m)\u001b[0m\u001b[1;33m:\u001b[0m\u001b[1;33m\u001b[0m\u001b[1;33m\u001b[0m\u001b[0m\n",
      "\u001b[1;32mC:\\ProgramData\\Anaconda3\\lib\\site-packages\\matplotlib\\ticker.py\u001b[0m in \u001b[0;36m__call__\u001b[1;34m(self)\u001b[0m\n\u001b[0;32m   2287\u001b[0m     \u001b[1;32mdef\u001b[0m \u001b[0m__call__\u001b[0m\u001b[1;33m(\u001b[0m\u001b[0mself\u001b[0m\u001b[1;33m)\u001b[0m\u001b[1;33m:\u001b[0m\u001b[1;33m\u001b[0m\u001b[1;33m\u001b[0m\u001b[0m\n\u001b[0;32m   2288\u001b[0m         \u001b[0mvmin\u001b[0m\u001b[1;33m,\u001b[0m \u001b[0mvmax\u001b[0m \u001b[1;33m=\u001b[0m \u001b[0mself\u001b[0m\u001b[1;33m.\u001b[0m\u001b[0maxis\u001b[0m\u001b[1;33m.\u001b[0m\u001b[0mget_view_interval\u001b[0m\u001b[1;33m(\u001b[0m\u001b[1;33m)\u001b[0m\u001b[1;33m\u001b[0m\u001b[1;33m\u001b[0m\u001b[0m\n\u001b[1;32m-> 2289\u001b[1;33m         \u001b[1;32mreturn\u001b[0m \u001b[0mself\u001b[0m\u001b[1;33m.\u001b[0m\u001b[0mtick_values\u001b[0m\u001b[1;33m(\u001b[0m\u001b[0mvmin\u001b[0m\u001b[1;33m,\u001b[0m \u001b[0mvmax\u001b[0m\u001b[1;33m)\u001b[0m\u001b[1;33m\u001b[0m\u001b[1;33m\u001b[0m\u001b[0m\n\u001b[0m\u001b[0;32m   2290\u001b[0m \u001b[1;33m\u001b[0m\u001b[0m\n\u001b[0;32m   2291\u001b[0m     \u001b[1;32mdef\u001b[0m \u001b[0mtick_values\u001b[0m\u001b[1;33m(\u001b[0m\u001b[0mself\u001b[0m\u001b[1;33m,\u001b[0m \u001b[0mvmin\u001b[0m\u001b[1;33m,\u001b[0m \u001b[0mvmax\u001b[0m\u001b[1;33m)\u001b[0m\u001b[1;33m:\u001b[0m\u001b[1;33m\u001b[0m\u001b[1;33m\u001b[0m\u001b[0m\n",
      "\u001b[1;32mC:\\ProgramData\\Anaconda3\\lib\\site-packages\\matplotlib\\ticker.py\u001b[0m in \u001b[0;36mtick_values\u001b[1;34m(self, vmin, vmax)\u001b[0m\n\u001b[0;32m   2295\u001b[0m         vmin, vmax = mtransforms.nonsingular(\n\u001b[0;32m   2296\u001b[0m             vmin, vmax, expander=1e-13, tiny=1e-14)\n\u001b[1;32m-> 2297\u001b[1;33m         \u001b[0mlocs\u001b[0m \u001b[1;33m=\u001b[0m \u001b[0mself\u001b[0m\u001b[1;33m.\u001b[0m\u001b[0m_raw_ticks\u001b[0m\u001b[1;33m(\u001b[0m\u001b[0mvmin\u001b[0m\u001b[1;33m,\u001b[0m \u001b[0mvmax\u001b[0m\u001b[1;33m)\u001b[0m\u001b[1;33m\u001b[0m\u001b[1;33m\u001b[0m\u001b[0m\n\u001b[0m\u001b[0;32m   2298\u001b[0m \u001b[1;33m\u001b[0m\u001b[0m\n\u001b[0;32m   2299\u001b[0m         \u001b[0mprune\u001b[0m \u001b[1;33m=\u001b[0m \u001b[0mself\u001b[0m\u001b[1;33m.\u001b[0m\u001b[0m_prune\u001b[0m\u001b[1;33m\u001b[0m\u001b[1;33m\u001b[0m\u001b[0m\n",
      "\u001b[1;32mC:\\ProgramData\\Anaconda3\\lib\\site-packages\\matplotlib\\ticker.py\u001b[0m in \u001b[0;36m_raw_ticks\u001b[1;34m(self, vmin, vmax)\u001b[0m\n\u001b[0;32m   2234\u001b[0m         \u001b[1;32mif\u001b[0m \u001b[0mself\u001b[0m\u001b[1;33m.\u001b[0m\u001b[0m_nbins\u001b[0m \u001b[1;33m==\u001b[0m \u001b[1;34m'auto'\u001b[0m\u001b[1;33m:\u001b[0m\u001b[1;33m\u001b[0m\u001b[1;33m\u001b[0m\u001b[0m\n\u001b[0;32m   2235\u001b[0m             \u001b[1;32mif\u001b[0m \u001b[0mself\u001b[0m\u001b[1;33m.\u001b[0m\u001b[0maxis\u001b[0m \u001b[1;32mis\u001b[0m \u001b[1;32mnot\u001b[0m \u001b[1;32mNone\u001b[0m\u001b[1;33m:\u001b[0m\u001b[1;33m\u001b[0m\u001b[1;33m\u001b[0m\u001b[0m\n\u001b[1;32m-> 2236\u001b[1;33m                 nbins = np.clip(self.axis.get_tick_space(),\n\u001b[0m\u001b[0;32m   2237\u001b[0m                                 max(1, self._min_n_ticks - 1), 9)\n\u001b[0;32m   2238\u001b[0m             \u001b[1;32melse\u001b[0m\u001b[1;33m:\u001b[0m\u001b[1;33m\u001b[0m\u001b[1;33m\u001b[0m\u001b[0m\n",
      "\u001b[1;32mC:\\ProgramData\\Anaconda3\\lib\\site-packages\\matplotlib\\axis.py\u001b[0m in \u001b[0;36mget_tick_space\u001b[1;34m(self)\u001b[0m\n\u001b[0;32m   2529\u001b[0m     \u001b[1;32mdef\u001b[0m \u001b[0mget_tick_space\u001b[0m\u001b[1;33m(\u001b[0m\u001b[0mself\u001b[0m\u001b[1;33m)\u001b[0m\u001b[1;33m:\u001b[0m\u001b[1;33m\u001b[0m\u001b[1;33m\u001b[0m\u001b[0m\n\u001b[0;32m   2530\u001b[0m         \u001b[0mends\u001b[0m \u001b[1;33m=\u001b[0m \u001b[0mself\u001b[0m\u001b[1;33m.\u001b[0m\u001b[0maxes\u001b[0m\u001b[1;33m.\u001b[0m\u001b[0mtransAxes\u001b[0m\u001b[1;33m.\u001b[0m\u001b[0mtransform\u001b[0m\u001b[1;33m(\u001b[0m\u001b[1;33m[\u001b[0m\u001b[1;33m[\u001b[0m\u001b[1;36m0\u001b[0m\u001b[1;33m,\u001b[0m \u001b[1;36m0\u001b[0m\u001b[1;33m]\u001b[0m\u001b[1;33m,\u001b[0m \u001b[1;33m[\u001b[0m\u001b[1;36m0\u001b[0m\u001b[1;33m,\u001b[0m \u001b[1;36m1\u001b[0m\u001b[1;33m]\u001b[0m\u001b[1;33m]\u001b[0m\u001b[1;33m)\u001b[0m\u001b[1;33m\u001b[0m\u001b[1;33m\u001b[0m\u001b[0m\n\u001b[1;32m-> 2531\u001b[1;33m         \u001b[0mlength\u001b[0m \u001b[1;33m=\u001b[0m \u001b[1;33m(\u001b[0m\u001b[1;33m(\u001b[0m\u001b[0mends\u001b[0m\u001b[1;33m[\u001b[0m\u001b[1;36m1\u001b[0m\u001b[1;33m]\u001b[0m\u001b[1;33m[\u001b[0m\u001b[1;36m1\u001b[0m\u001b[1;33m]\u001b[0m \u001b[1;33m-\u001b[0m \u001b[0mends\u001b[0m\u001b[1;33m[\u001b[0m\u001b[1;36m0\u001b[0m\u001b[1;33m]\u001b[0m\u001b[1;33m[\u001b[0m\u001b[1;36m1\u001b[0m\u001b[1;33m]\u001b[0m\u001b[1;33m)\u001b[0m \u001b[1;33m/\u001b[0m \u001b[0mself\u001b[0m\u001b[1;33m.\u001b[0m\u001b[0maxes\u001b[0m\u001b[1;33m.\u001b[0m\u001b[0mfigure\u001b[0m\u001b[1;33m.\u001b[0m\u001b[0mdpi\u001b[0m\u001b[1;33m)\u001b[0m \u001b[1;33m*\u001b[0m \u001b[1;36m72\u001b[0m\u001b[1;33m\u001b[0m\u001b[1;33m\u001b[0m\u001b[0m\n\u001b[0m\u001b[0;32m   2532\u001b[0m         \u001b[1;31m# Having a spacing of at least 2 just looks good.\u001b[0m\u001b[1;33m\u001b[0m\u001b[1;33m\u001b[0m\u001b[1;33m\u001b[0m\u001b[0m\n\u001b[0;32m   2533\u001b[0m         \u001b[0msize\u001b[0m \u001b[1;33m=\u001b[0m \u001b[0mself\u001b[0m\u001b[1;33m.\u001b[0m\u001b[0m_get_tick_label_size\u001b[0m\u001b[1;33m(\u001b[0m\u001b[1;34m'y'\u001b[0m\u001b[1;33m)\u001b[0m \u001b[1;33m*\u001b[0m \u001b[1;36m2\u001b[0m\u001b[1;33m\u001b[0m\u001b[1;33m\u001b[0m\u001b[0m\n",
      "\u001b[1;31mAttributeError\u001b[0m: 'NoneType' object has no attribute 'dpi'"
     ]
    }
   ],
   "source": [
    "# Plot things. All the fits on 2 big plots.\n",
    "plt.figure(1)\n",
    "axls = []\n",
    "axls.append(plt.subplot(4, 4, 1))\n",
    "axls.append(plt.subplot(4, 4, 5))\n",
    "axls.append(plt.subplot(4, 4, 9))\n",
    "axls.append(plt.subplot(4, 4, 13))\n",
    "axls[3].set_xlabel('Variances')\n",
    "axb1 = plt.subplot(4, 4, 13)\n",
    "axb2 = plt.subplot(4, 4, 14)\n",
    "axb3 = plt.subplot(4, 4, 15)\n",
    "axb4 = plt.subplot(4, 4, 16)\n",
    "axb1.set_ylabel('Means')\n",
    "#size of a single data set... they got concatenated together so I need to separate them.\n",
    "ds1 = int(len(em200_1x1Variances) / 4)\n",
    "ds2 = int(len(em50_1x1Variances) / 4)\n",
    "ds3 = int(len(em50_3x3Variances) / 4)\n",
    "ds4 = int(len(em200_3x3Variances) / 4)\n",
    "# # Locations order reminder:\n",
    "# # [[0, 0], [-1, 0], [0, -1], [-1, -1]]:\n",
    "# for posInc in range(0,4):\n",
    "#     xData = np.linspace(0, max(em200_1x1Variances), 25000)\n",
    "#     fitData = line(xData, em200_1x1Fits[2 * posInc], em200_1x1Fits[2 * posInc + 1])\n",
    "#     axTemp = plt.subplot(4, 4, posInc * 4 + 1, sharey=axls[posInc], sharex=axb1)\n",
    "#     plt.plot(xData, fitData)\n",
    "#     plt.plot(em200_1x1Variances[posInc*ds1 : (posInc+1)*ds1], \n",
    "#              em200_1x1Averages[posInc*ds1 : (posInc+1)*ds1],\n",
    "#              linestyle='none', marker='o')\n",
    "#     plt.setp(axTemp.get_xticklabels(), fontsize=6)\n",
    "#     if not posInc == 3:\n",
    "#         plt.setp(axTemp.get_xticklabels(), visible=False)\n",
    "#     else:\n",
    "#         plt.xlabel('Variance')\n",
    "#         plt.ylabel('Mean')\n",
    "#     plt.setp(axTemp.get_yticklabels(), fontsize=6)\n",
    "#     plt.title('Gain = 200, Bin = 1x1, loc ' + str(posInc + 1))\n",
    "#     #\n",
    "#     xData = np.linspace(0, max(em50_1x1Variances), 25000)\n",
    "#     fitData = line(xData, em50_1x1Fits[2 * posInc], em50_1x1Fits[2 * posInc + 1])\n",
    "#     axTemp = plt.subplot(4, 4, posInc * 4 + 2, sharey=axls[posInc], sharex=axb2)\n",
    "#     plt.plot(xData, fitData)\n",
    "#     plt.plot(em50_1x1Variances[posInc*ds2 : (posInc+1)*ds2], \n",
    "#              em50_1x1Averages[posInc*ds2 : (posInc+1)*ds2], linestyle='none', marker='o')\n",
    "#     plt.setp(axTemp.get_xticklabels(), fontsize=6)\n",
    "#     plt.setp(axTemp.get_yticklabels(), visible=False)\n",
    "#     if not posInc == 3:\n",
    "#         plt.setp(axTemp.get_xticklabels(), visible=False)\n",
    "#     plt.title('Gain = 50, Bin = 1x1, loc ' + str(posInc + 1))\n",
    "#     #\n",
    "#     xData = np.linspace(0, max(em50_3x3Variances), 25000)\n",
    "#     fitData = line(xData, em50_3x3Fits[2 * posInc], em50_3x3Fits[2 * posInc + 1])\n",
    "#     axTemp = plt.subplot(4, 4, posInc * 4 + 3, sharey=axls[posInc], sharex=axb3)\n",
    "#     plt.plot(xData, fitData)\n",
    "#     plt.plot(em50_3x3Variances[posInc*ds3 : (posInc+1)*ds3], \n",
    "#              em50_3x3Averages[posInc*ds3 : (posInc+1)*ds3],linestyle='none', marker='o')\n",
    "#     plt.setp(axTemp.get_xticklabels(), fontsize=6)\n",
    "#     plt.setp(axTemp.get_yticklabels(), visible=False)\n",
    "#     if not posInc == 3:\n",
    "#         plt.setp(axTemp.get_xticklabels(), visible=False)\n",
    "#     plt.setp(axTemp.get_yticklabels(), fontsize=6)\n",
    "#     plt.title('Gain = 50, Bin = 3x3, loc ' + str(posInc + 1))\n",
    "#     #\n",
    "#     xData = np.linspace(0, max(em200_3x3Variances), 25000)\n",
    "#     fitData = line(xData, em200_3x3Fits[2 * posInc], em200_3x3Fits[2 * posInc + 1])\n",
    "#     axTemp = plt.subplot(4, 4, posInc * 4 + 4, sharey=axls[posInc], sharex=axb4)\n",
    "#     plt.plot(xData, fitData)\n",
    "#     plt.plot(em200_3x3Variances[posInc*ds4 : (posInc+1)*ds4], \n",
    "#              em200_3x3Averages[posInc*ds4 : (posInc+1)*ds4], linestyle='none', marker='o')\n",
    "#     plt.setp(axTemp.get_xticklabels(), fontsize=6)\n",
    "#     plt.setp(axTemp.get_yticklabels(), visible=False)\n",
    "#     if not posInc == 3:\n",
    "#         plt.setp(axTemp.get_xticklabels(), visible=False)\n",
    "        \n",
    "#     plt.setp(axTemp.get_yticklabels(), fontsize=6)\n",
    "#     plt.title('Gain = 200, Bin = 3x3, loc ' + str(posInc + 1))\n",
    "\n",
    "plt.tight_layout() \n",
    "plt.figure(2)\n",
    "axls = []\n",
    "axls.append(plt.subplot(4, 2, 1))\n",
    "axls.append(plt.subplot(4, 2, 3))\n",
    "axls.append(plt.subplot(4, 2, 5))\n",
    "axls.append(plt.subplot(4, 2, 7))\n",
    "axls[3].set_xlabel('Variances')\n",
    "axb1 = plt.subplot(4, 2, 7)\n",
    "axb2 = plt.subplot(4, 2, 8)\n",
    "axb1.set_ylabel('Means')\n",
    "#size of a single data set... they got concatenated together so I need to separate them.\n",
    "ds1 = int(len(conv_1x1Variances) / 4)\n",
    "ds2 = int(len(conv_3x2Variances) / 4)\n",
    "# Locations order reminder:\n",
    "# [[0, 0], [-1, 0], [0, -1], [-1, -1]]:\n",
    "for posInc in range(0,4):\n",
    "    xData = np.linspace(0, max(conv_1x1Variances), 25000)\n",
    "    fitData = line(xData, conv_1x1Fits[2 * posInc], conv_1x1Fits[2 * posInc + 1])\n",
    "    axTemp = plt.subplot(4, 2, posInc * 2 + 1, sharey=axls[posInc], sharex=axb1)\n",
    "    plt.plot(xData, fitData)\n",
    "    plt.plot(conv_1x1Variances[posInc*ds1 : (posInc+1)*ds1], \n",
    "             conv_1x1Averages[posInc*ds1 : (posInc+1)*ds1],\n",
    "             linestyle='none', marker='o')\n",
    "    plt.setp(axTemp.get_xticklabels(), fontsize=6)\n",
    "    if not posInc == 3:\n",
    "        plt.setp(axTemp.get_xticklabels(), visible=False)\n",
    "    else:\n",
    "        plt.xlabel('Variance')\n",
    "        plt.ylabel('Mean')\n",
    "    plt.setp(axTemp.get_yticklabels(), fontsize=6)\n",
    "    plt.title('Conventional Gain, Bin = 1x1, loc ' + str(posInc + 1))\n",
    "    #\n",
    "    xData = np.linspace(0, max(conv_3x2Variances), 25000)\n",
    "    fitData = line(xData, conv_3x2Fits[2 * posInc], conv_3x2Fits[2 * posInc + 1])\n",
    "    axTemp = plt.subplot(4, 2, posInc * 2 + 2, sharey=axls[posInc], sharex=axb2)\n",
    "    plt.plot(xData, fitData)\n",
    "    plt.plot(conv_3x2Variances[posInc*ds2 : (posInc+1)*ds2], \n",
    "             conv_3x2Averages[posInc*ds2 : (posInc+1)*ds2], linestyle='none', marker='o')\n",
    "    plt.setp(axTemp.get_xticklabels(), fontsize=6)\n",
    "    plt.setp(axTemp.get_yticklabels(), visible=False)\n",
    "    if not posInc == 3:\n",
    "        plt.setp(axTemp.get_xticklabels(), visible=False)\n",
    "    plt.title('Conventional Gain, Bin = 3x2, loc ' + str(posInc + 1))\n",
    "\n",
    "\n",
    "plt.tight_layout() \n",
    "plt.show()\n"
   ]
  },
  {
   "cell_type": "markdown",
   "metadata": {},
   "source": [
    "Things look pretty normal. The points match up to the Andor values pretty nicely although a bit low, and the fits all look quite linear."
   ]
  },
  {
   "cell_type": "markdown",
   "metadata": {},
   "source": [
    "# Dark Counts Calibration"
   ]
  },
  {
   "cell_type": "markdown",
   "metadata": {
    "heading_collapsed": true
   },
   "source": [
    "## Analyze the Data"
   ]
  },
  {
   "cell_type": "code",
   "execution_count": 87,
   "metadata": {
    "ExecuteTime": {
     "end_time": "2016-09-08T03:52:00.367876",
     "start_time": "2016-09-08T03:47:59.822486"
    },
    "collapsed": true,
    "hidden": true,
    "jupyter": {
     "outputs_hidden": true
    }
   },
   "outputs": [
    {
     "name": "stdout",
     "output_type": "stream",
     "text": [
      "analyzing Run #60\n",
      "analyzing Run #61\n",
      "analyzing Run #62\n",
      "analyzing Run #63\n",
      "analyzing Run #64\n",
      "analyzing Run #65\n",
      "analyzing Run #66\n",
      "analyzing Run #67\n",
      "analyzing Run #68\n",
      "analyzing Run #69\n",
      "analyzing Run #70\n",
      "analyzing Run #71\n",
      "analyzing Run #72\n",
      "analyzing Run #73\n",
      "analyzing Run #74\n",
      "analyzing Run #75\n",
      "analyzing Run #76\n",
      "analyzing Run #77\n",
      "Finished conventional...\n",
      "analyzing Run #1\n",
      "analyzing Run #2\n",
      "analyzing Run #3\n",
      "analyzing Run #4\n",
      "analyzing Run #5\n",
      "analyzing Run #6\n",
      "analyzing Run #7\n",
      "analyzing Run #8\n",
      "analyzing Run #9\n",
      "analyzing Run #10\n",
      "analyzing Run #11\n",
      "analyzing Run #12\n",
      "analyzing Run #13\n",
      "analyzing Run #14\n",
      "analyzing Run #15\n",
      "analyzing Run #16\n",
      "analyzing Run #17\n",
      "Finished all!\n"
     ]
    }
   ],
   "source": [
    "# This data analysis is much simpler than the data analysis above because my function averages the pictures \n",
    "# and therefore don't have to loop through different locations to get a good feel for things.\n",
    "\n",
    "em200Avgs, em200Vars = analyzeSinglePicture('160906', 60, 77)\n",
    "print('Finished conventional...')\n",
    "convAvgs, convVars = analyzeSinglePicture('160907', 1, 17)\n",
    "print('Finished all!')"
   ]
  },
  {
   "cell_type": "code",
   "execution_count": 88,
   "metadata": {
    "ExecuteTime": {
     "end_time": "2016-09-08T03:52:05.272809",
     "start_time": "2016-09-08T03:52:05.255777"
    },
    "collapsed": false,
    "hidden": true,
    "jupyter": {
     "outputs_hidden": false
    }
   },
   "outputs": [],
   "source": [
    "# there was a bad fits file in the first data set I took.\n",
    "del em200Avgs[1]\n",
    "\n",
    "# Define the array of all exposure times. This was consistent and in-order for both the\n",
    "# conventional en EM Gain mode measurements.\n",
    "\n",
    "# In miliseconds...\n",
    "#print(convAvgs)\n",
    "exposures = [0.01, 0.02, 0.04, 0.08, 0.16, 0.32, 0.64, 1.28, 2.56, 5, 10, 20, 40, 80, 160, 320, 640]\n",
    "\n",
    "# Fit the data.\n",
    "convFit, convCov = curve_fit(line, exposures, convAvgs, p0=[0, 0])\n",
    "em200Fit, em200Cov = curve_fit(line, exposures, em200Avgs, p0=[0, 0])\n",
    "xData = np.linspace(0, 640, 10000)\n",
    "convFitData = line(xData, *convFit)\n",
    "em200FitData = line(xData, *em200Fit)\n",
    "\n",
    "\n"
   ]
  },
  {
   "cell_type": "markdown",
   "metadata": {},
   "source": [
    "## Plot & Display Results"
   ]
  },
  {
   "cell_type": "code",
   "execution_count": 118,
   "metadata": {
    "ExecuteTime": {
     "end_time": "2016-09-08T04:15:56.870839",
     "start_time": "2016-09-08T04:15:55.714020"
    },
    "code_folding": [
     0
    ],
    "collapsed": false,
    "jupyter": {
     "outputs_hidden": false
    }
   },
   "outputs": [
    {
     "data": {
      "image/png": "[encoded data removed]",
      "text/plain": [
       "<matplotlib.figure.Figure at 0x20c8d2d4358>"
      ]
     },
     "metadata": {},
     "output_type": "display_data"
    },
    {
     "name": "stdout",
     "output_type": "stream",
     "text": [
      "Conventional Gain Slope = -0.000455042297441 +- 9.26507925333e-15\n",
      "EM Gain Slope = -0.00866639933096 +- 5.21550507725e-07\n"
     ]
    }
   ],
   "source": [
    "# \n",
    "fig = plt.figure(1)\n",
    "splt = fig.add_subplot(211)\n",
    "splt.plot(xData, convFitData, label='Linear Fit')\n",
    "splt.plot(exposures, convAvgs, linestyle='', marker='o', label='Data')\n",
    "splt.set_xscale(\"log\", nonposx='clip')\n",
    "splt.set_title('Conventional Gain')\n",
    "splt.legend()\n",
    "\n",
    "splt = plt.subplot(212, sharex=splt)\n",
    "splt.plot(xData, em200FitData)\n",
    "splt.plot(exposures, em200Avgs, linestyle='', marker='o')\n",
    "splt.set_xscale(\"log\", nonposx='clip')\n",
    "splt.set_title('EM Gain = X200')\n",
    "splt.set_xlim([8*10**-3, 1000])\n",
    "\n",
    "ax = fig.add_subplot(111, frameon=False)\n",
    "ax.spines['top'].set_color('none')\n",
    "ax.spines['bottom'].set_color('none')\n",
    "ax.spines['left'].set_color('none')\n",
    "ax.spines['right'].set_color('none')\n",
    "ax.tick_params(labelcolor='w', top='off', bottom='off', left='off', right='off')\n",
    "ax.grid(False)\n",
    "plt.yticks([], [])\n",
    "plt.xticks([], [])\n",
    "ax.set_ylabel('Average Count', labelpad=35)\n",
    "ax.set_xlabel('Exposure Time (ms)', labelpad=25)\n",
    "ax.set_title('Dark Counts Vs. Exposure',y=1.04)\n",
    "plt.show()\n",
    "print('Conventional Gain Slope = ' + str(convFit[0]) + \" +- \" + str(convCov[0][0]**2))\n",
    "print('EM Gain Slope = ' + str(em200Fit[0]) + \" +- \" + str(em200Cov[0][0]**2))"
   ]
  },
  {
   "cell_type": "markdown",
   "metadata": {},
   "source": [
    "This looks very strange! There appears to be very negligible actual dark photon count, but there appears to be something happening at low exposure times (more so for conventional gain!) that causes the background count to rise. Thankfully I don't think this should affect our measurements... the effect appears to pretty clearly be gone by 2ms or so for conventional gain. I have no idea what could cause this. The only thing that I can think of is that there is some extra electronic noise involved in very short exposure times."
   ]
  },
  {
   "cell_type": "code",
   "execution_count": null,
   "metadata": {
    "collapsed": true,
    "jupyter": {
     "outputs_hidden": true
    }
   },
   "outputs": [],
   "source": []
  }
 ],
 "metadata": {
  "hide_input": false,
  "kernelspec": {
   "display_name": "Python 3 (ipykernel)",
   "language": "python",
   "name": "python3"
  },
  "language_info": {
   "codemirror_mode": {
    "name": "ipython",
    "version": 3
   },
   "file_extension": ".py",
   "mimetype": "text/x-python",
   "name": "python",
   "nbconvert_exporter": "python",
   "pygments_lexer": "ipython3",
   "version": "3.8.8"
  },
  "nav_menu": {},
  "toc": {
   "navigate_menu": true,
   "number_sections": true,
   "sideBar": true,
   "threshold": 6,
   "toc_cell": false,
   "toc_section_display": "block",
   "toc_window_display": false
  },
  "toc_position": {
   "height": "566px",
   "left": "0px",
   "right": "auto",
   "top": "67px",
   "width": "131px"
  }
 },
 "nbformat": 4,
 "nbformat_minor": 4
}
