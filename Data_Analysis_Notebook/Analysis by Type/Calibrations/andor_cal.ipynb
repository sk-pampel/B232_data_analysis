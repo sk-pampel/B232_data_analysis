{
 "cells": [
  {
   "cell_type": "markdown",
   "metadata": {},
   "source": [
    "# Camera Calibrations 10/1/21"
   ]
  },
  {
   "cell_type": "markdown",
   "metadata": {
    "tags": []
   },
   "source": [
    "This notebook is based on the camera calibrations template notebook.\n",
    "\n",
    "This notebook analyzes a series of pictures and from them derives the photons/count rate of the camera for the given mode.\n",
    "\n",
    "It can do either averaging all pixels over a large picture (where we worry about spatial inhomogeneity) or averaging a single location over many pictures."
   ]
  },
  {
   "cell_type": "markdown",
   "metadata": {
    "heading_collapsed": true
   },
   "source": [
    "## Imports and Defines"
   ]
  },
  {
   "cell_type": "code",
   "execution_count": 9,
   "metadata": {
    "ExecuteTime": {
     "end_time": "2018-02-28T17:06:30.493587Z",
     "start_time": "2018-02-28T17:06:23.025745Z"
    },
    "hidden": true,
    "tags": []
   },
   "outputs": [],
   "source": [
    "import numpy as np\n",
    "import matplotlib.pyplot as plt\n",
    "import matplotlib as mpl\n",
    "import h5py as h5\n",
    "from scipy.optimize import curve_fit\n",
    "from scipy.stats import linregress\n",
    "%matplotlib inline\n",
    "from matplotlib import rcParams\n",
    "from tqdm import tqdm\n",
    "import time"
   ]
  },
  {
   "cell_type": "code",
   "execution_count": 2,
   "metadata": {
    "tags": []
   },
   "outputs": [],
   "source": [
    "# current date, for retrieving data from proper location.\n",
    "year = \"2024\"\n",
    "month = \"May\"\n",
    "day = \"15\""
   ]
  },
  {
   "cell_type": "code",
   "execution_count": 3,
   "metadata": {
    "ExecuteTime": {
     "end_time": "2018-02-28T17:06:46.067900Z",
     "start_time": "2018-02-28T17:06:31.753411Z"
    },
    "hidden": true,
    "tags": []
   },
   "outputs": [],
   "source": [
    "import sys\n",
    "sys.path.append(\"../../..\")\n",
    "from Analysis_Python_Files.fitters.Gaussian import dip, double_dip, bump, bump2, bump3, bump2r, gaussian, bump3_Sym, gaussian_2d\n",
    "from Analysis_Python_Files.fitters.Sinc_Squared import sinc_sq3_Sym, sinc_sq\n",
    "from Analysis_Python_Files.fitters import decaying_cos, exponential_decay_fixed_limit as decay, linear, LargeBeamMotExpansion, n1State\n",
    "import Analysis_Python_Files.PictureWindow as pw\n",
    "import Analysis_Python_Files.ExpFile as exp\n",
    "exp.setPath(day, month, year)\n",
    "import Analysis_Python_Files.PlotlyPlotters as pp\n",
    "import Analysis_Python_Files.MatplotlibPlotters as mp\n",
    "import Analysis_Python_Files.MainAnalysis as ma\n",
    "import Analysis_Python_Files.AnalysisHelpers as ah\n",
    "import Analysis_Python_Files.Miscellaneous as misc\n",
    "import Analysis_Python_Files.PopulationAnalysis as pa\n",
    "import Analysis_Python_Files.MarksConstants as mc\n",
    "import Analysis_Python_Files.fitters as fitters\n",
    "import Analysis_Python_Files.LoadingFunctions as lf\n",
    "import Analysis_Python_Files.FreeSpaceImaging as fsi\n",
    "import Analysis_Python_Files.TransferAnalysis as ta\n",
    "import Analysis_Python_Files.LightShiftCalculations as lsc\n",
    "import Analysis_Python_Files.CalibrationAnalysis as ca\n",
    "# It's important to explicitly import calPoint here or else pickling doesn't work.\n",
    "from Analysis_Python_Files.CalibrationAnalysis import calPoint \n",
    "from Analysis_Python_Files.TransferAnalysisOptions import TransferAnalysisOptions as ao\n",
    "import Analysis_Python_Files.ThresholdOptions as to\n",
    "import Analysis_Python_Files.TransferAnalysisOptions as tao\n",
    "from scipy.optimize import curve_fit\n",
    "import matplotlib.pyplot as plt\n",
    "import numpy as np\n",
    "from Analysis_Python_Files.AnalysisHelpers import fitManyGaussianImage"
   ]
  },
  {
   "cell_type": "code",
   "execution_count": 4,
   "metadata": {},
   "outputs": [],
   "source": [
    "rcParams['font.family'] = 'sans-serif';\n",
    "rcParams['axes.linewidth'] = 1.5;\n",
    "rcParams['axes.titlesize'] = 20\n",
    "rcParams['axes.labelsize'] = 20\n",
    "rcParams['xtick.labelsize'] = 15\n",
    "rcParams['xtick.major.width'] = 2\n",
    "rcParams['ytick.major.width'] = 2\n",
    "rcParams['ytick.labelsize'] = 15\n",
    "rcParams['lines.linewidth'] = 2.5\n",
    "rcParams['lines.color'] = 'k'\n",
    "plot_width = 8;\n",
    "plot_height = 5;\n",
    "# plt.grid(False);"
   ]
  },
  {
   "cell_type": "markdown",
   "metadata": {
    "heading_collapsed": true,
    "jupyter": {
     "source_hidden": true
    },
    "tags": []
   },
   "source": [
    "## Analyze Single Picture"
   ]
  },
  {
   "cell_type": "code",
   "execution_count": 2,
   "metadata": {
    "jupyter": {
     "source_hidden": true
    },
    "tags": []
   },
   "outputs": [],
   "source": [
    "def analyzeSinglePicture(cal_type, firstRun, lastRun, printProgress=True):\n",
    "    \"\"\"\n",
    "    This function is for calculating averages of pictures, finding the average pixel signal and variance\n",
    "    of all pixel signals on the pictures.\n",
    "    \n",
    "    :return: This function returns the counts/photon\n",
    "\n",
    "    \"\"\"\n",
    "    allPictures = []\n",
    "    allAverages = []\n",
    "    allVariances = []\n",
    "    dataRepositoryPath = \"\\\\\\\\REGALB232EXP\\\\Local_Data_Repository\\\\2021\\\\andor_cal\\\\\"\n",
    "    for runInc in range(firstRun, lastRun + 1, 1):\n",
    "        dataPath = dataRepositoryPath + cal_type + \"\\\\data_\" + str(runInc) + \".h5\"\n",
    "        with h5.File(dataPath, \"r\") as hdf:\n",
    "            andor = hdf.get('Andor')\n",
    "            andor_items = list(andor.items())\n",
    "            allPictures = np.array(andor.get('Pictures'))\n",
    "        allPictures = [item for sublist in list(allPictures[0]) for item in sublist];\n",
    "        allAverages.append(np.mean(allPictures))\n",
    "        allVariances.append(np.std(allPictures)**2)\n",
    "        totalAverage = np.mean(allAverages)\n",
    "        totalVariance = np.mean(allVariances)\n",
    "        photonCount = totalAverage/totalVariance\n",
    "    return 'counts/photon =', photonCount\n",
    "    "
   ]
  },
  {
   "cell_type": "code",
   "execution_count": 3,
   "metadata": {
    "collapsed": true,
    "jupyter": {
     "outputs_hidden": true,
     "source_hidden": true
    },
    "tags": []
   },
   "outputs": [
    {
     "data": {
      "text/plain": [
       "('counts/photon =', 0.4955704939296838)"
      ]
     },
     "execution_count": 3,
     "metadata": {},
     "output_type": "execute_result"
    }
   ],
   "source": [
    "analyzeSinglePicture(\"conv_gain\",3,7)"
   ]
  },
  {
   "cell_type": "markdown",
   "metadata": {
    "jupyter": {
     "source_hidden": true
    },
    "tags": []
   },
   "source": [
    "# Analyze Single Location"
   ]
  },
  {
   "cell_type": "code",
   "execution_count": 10,
   "metadata": {
    "ExecuteTime": {
     "end_time": "2016-09-08T03:35:23.443264",
     "start_time": "2016-09-08T03:35:23.358204"
    },
    "code_folding": [],
    "hidden": true,
    "jupyter": {
     "source_hidden": true
    },
    "tags": []
   },
   "outputs": [],
   "source": [
    "def line(x, a, b):\n",
    "    return a * x + b\n",
    "\n",
    "def analyzeSingleLocation(cal_type, firstRun, lastRun, location, printStatus=False, plot=False):\n",
    "    \"\"\"\n",
    "    Analyzes a single location, averaging over many pictures.\n",
    "    The function assumes that there is a data file for all runs in between firstrun and lastrun.\n",
    "    \n",
    "    :return: The function returns the fit object (i.e. an array of [a, b] for the linear fit y = a x + b) \n",
    "    and the covariance of said fit.\n",
    "    \"\"\"\n",
    "    allAverages = []\n",
    "    allVariances = []\n",
    "    dataRepositoryPath = \"\\\\\\\\REGALB232EXP\\\\Local_Data_Repository\\\\2021\\\\andor_cal\\\\\"\n",
    "\n",
    "    for runInc in range(firstRun, lastRun + 1, 1):\n",
    "        allPoints = []\n",
    "        dataPath = dataRepositoryPath + cal_type + \"\\\\data_\" + str(runInc) + \".h5\"\n",
    "        with h5.File(dataPath, \"r\") as hdf:\n",
    "            andor = hdf.get('Andor')\n",
    "            andor_items = list(andor.items())\n",
    "            dataFile = np.array(andor.get('Pictures'))   \n",
    "        for repInc in range(0, 2000):\n",
    "            allPoints.append(dataFile[repInc][location[0]][location[1]]) \n",
    "            # print(allPoints)\n",
    "        allAverages.append(np.mean(allPoints))\n",
    "        allVariances.append(np.std(allPoints)**2)\n",
    "        \n",
    "    param, cov = curve_fit(line, allVariances, allAverages, [1, 0]) \n",
    "    return param, cov, param[0], allAverages, allVariances; "
   ]
  },
  {
   "cell_type": "markdown",
   "metadata": {
    "heading_collapsed": true,
    "jupyter": {
     "source_hidden": true
    },
    "tags": []
   },
   "source": [
    "### Load Conventional Gain Data"
   ]
  },
  {
   "cell_type": "code",
   "execution_count": 83,
   "metadata": {
    "ExecuteTime": {
     "end_time": "2016-09-08T02:00:24.264372",
     "start_time": "2016-09-08T01:53:03.524798"
    },
    "hidden": true,
    "jupyter": {
     "source_hidden": true
    },
    "tags": []
   },
   "outputs": [],
   "source": [
    "# initialize some arrays\n",
    "conv_1x1Fits = []\n",
    "conv_1x1Covs = []\n",
    "conv_1x1PhotonPerCounts = []\n",
    "conv_1x1Averages = []\n",
    "conv_1x1Variances = []\n",
    "\n",
    "# average over the four corners.\n",
    "for location in [[0, 0],[-1, 0], [0, -1], [-1, -1]]:\n",
    "#     print(location)\n",
    "    fit, cov, fit1, averages, variances = analyzeSingleLocation(\"conv_gain\", 3, 7, location, True)\n",
    "    conv_1x1Fits = np.append(conv_1x1Fits, fit)\n",
    "    conv_1x1Covs = np.append(conv_1x1Covs, cov)\n",
    "    conv_1x1PhotonPerCounts = np.append(conv_1x1PhotonPerCounts, fit1) # generate list of slopes for each pixel as defined in location\n",
    "    conv_1x1Averages = np.append(conv_1x1Averages, averages)\n",
    "    conv_1x1Variances = np.append(conv_1x1Variances, variances)"
   ]
  },
  {
   "cell_type": "code",
   "execution_count": 84,
   "metadata": {
    "tags": []
   },
   "outputs": [
    {
     "name": "stdout",
     "output_type": "stream",
     "text": [
      "counts/photon = 0.6367330158458274\n",
      "std dev = 0.01303050551334851\n"
     ]
    }
   ],
   "source": [
    "conv_1x1PhotonPerADCount = np.mean(conv_1x1PhotonPerCounts) # average slopes\n",
    "conv_1x1PhotonPerADstd = np.std(conv_1x1PhotonPerCounts)\n",
    "print('counts/photon =', conv_1x1PhotonPerADCount)\n",
    "print('std dev =', conv_1x1PhotonPerADstd)"
   ]
  },
  {
   "cell_type": "code",
   "execution_count": 129,
   "metadata": {
    "jupyter": {
     "source_hidden": true
    },
    "tags": []
   },
   "outputs": [
    {
     "name": "stdout",
     "output_type": "stream",
     "text": [
      "r_value = 0.9985549912778052\n",
      "slope =  0.6349928295292211\n"
     ]
    },
    {
     "name": "stderr",
     "output_type": "stream",
     "text": [
      "C:\\Users\\REGALL~1\\AppData\\Local\\Temp/ipykernel_1856/2825264123.py:12: MatplotlibDeprecationWarning: Adding an axes using the same arguments as a previous axes currently reuses the earlier instance.  In a future version, a new instance will always be created and returned.  Meanwhile, this warning can be suppressed, and the future behavior ensured, by passing a unique label to each axes instance.\n",
      "  ax = plt.subplot()\n"
     ]
    },
    {
     "data": {
      "image/png": "[encoded data removed]",
      "text/plain": [
       "<Figure size 576x360 with 1 Axes>"
      ]
     },
     "metadata": {
      "needs_background": "light"
     },
     "output_type": "display_data"
    }
   ],
   "source": [
    "x = conv_1x1Variances\n",
    "y = conv_1x1Averages\n",
    "plt.scatter(x,y,s=100,c='0.8',edgecolors='k')\n",
    "plt.plot(np.unique(x), np.poly1d(np.polyfit(x, y, 1))(np.unique(x)),color='tab:blue');\n",
    "m, b = np.polyfit(x, y, 1)\n",
    "# plt.title('Andor - Conventional Gain',fontsize = title_font_size)\n",
    "plt.xlabel('Variance')\n",
    "plt.ylabel('Average Counts')\n",
    "fig = plt.gcf();\n",
    "fig.set_size_inches(plot_width, plot_height);\n",
    "plt.grid(False)\n",
    "ax = plt.subplot()\n",
    "ax.tick_params(direction='in')\n",
    "ax.tick_params(bottom=True, top=True, left=True, right=True)\n",
    "\n",
    "\n",
    "# plt.savefig('conv_gain.png',dpi=1000)\n",
    "# slope, intercept, r_value, p_value, std_err = linregress(x, y)\n",
    "print('r_value =',r_value)\n",
    "print('slope = ',slope)"
   ]
  },
  {
   "cell_type": "code",
   "execution_count": 39,
   "metadata": {
    "ExecuteTime": {
     "end_time": "2016-09-08T02:00:24.264372",
     "start_time": "2016-09-08T01:53:03.524798"
    },
    "hidden": true,
    "jupyter": {
     "source_hidden": true
    },
    "tags": []
   },
   "outputs": [],
   "source": [
    "# initialize some arrays\n",
    "EM_100_1x1Fits = []\n",
    "EM_100_1x1Covs = []\n",
    "EM_100_1x1PhotonPerCounts = []\n",
    "EM_100_1x1Averages = []\n",
    "EM_100_1x1Variances = []\n",
    "\n",
    "# average over the four corners.\n",
    "for location in [[0, 0],[-1, 0], [0, -1], [-1, -1]]:\n",
    "#     print(location)\n",
    "    fit, cov, fit1, averages, variances = analyzeSingleLocation(\"EM_100\", 3, 7, location, True)\n",
    "    EM_100_1x1Fits = np.append(EM_100_1x1Fits, fit)\n",
    "    EM_100_1x1Covs = np.append(EM_100_1x1Covs, cov)\n",
    "    EM_100_1x1PhotonPerCounts = np.append(EM_100_1x1PhotonPerCounts, fit1) # generate list of slopes for each pixel as defined in location\n",
    "    EM_100_1x1Averages = np.append(EM_100_1x1Averages, averages)\n",
    "    EM_100_1x1Variances = np.append(EM_100_1x1Variances, variances)"
   ]
  },
  {
   "cell_type": "code",
   "execution_count": 120,
   "metadata": {
    "collapsed": true,
    "jupyter": {
     "outputs_hidden": true,
     "source_hidden": true
    },
    "tags": []
   },
   "outputs": [
    {
     "name": "stdout",
     "output_type": "stream",
     "text": [
      "counts/photon = 0.04064535581518338\n",
      "std dev = 0.003826935144717846\n",
      "counts/photon scaled = 4.064535581518338\n"
     ]
    }
   ],
   "source": [
    "EM_100_1x1PhotonPerADCount = np.mean(EM_100_1x1PhotonPerCounts)*2 # average slopes\n",
    "EM_100_1x1PhotonPerADstd = np.std(EM_100_1x1PhotonPerCounts)*2\n",
    "EM_100_1x1PhotonPerADCount_scaled = np.mean(EM_100_1x1PhotonPerCounts)*2*100 \n",
    "print('counts/photon =', EM_100_1x1PhotonPerADCount)\n",
    "print('std dev =', EM_100_1x1PhotonPerADstd*2)\n",
    "print('counts/photon scaled =', EM_100_1x1PhotonPerADCount_scaled)"
   ]
  },
  {
   "cell_type": "code",
   "execution_count": 133,
   "metadata": {
    "jupyter": {
     "source_hidden": true
    },
    "tags": []
   },
   "outputs": [
    {
     "name": "stderr",
     "output_type": "stream",
     "text": [
      "C:\\Users\\REGALL~1\\AppData\\Local\\Temp/ipykernel_1856/2166503226.py:12: MatplotlibDeprecationWarning: Adding an axes using the same arguments as a previous axes currently reuses the earlier instance.  In a future version, a new instance will always be created and returned.  Meanwhile, this warning can be suppressed, and the future behavior ensured, by passing a unique label to each axes instance.\n",
      "  ax = plt.subplot()\n"
     ]
    },
    {
     "name": "stdout",
     "output_type": "stream",
     "text": [
      "slope =  0.020154439195143807\n"
     ]
    },
    {
     "data": {
      "image/png": "[encoded data removed]",
      "text/plain": [
       "<Figure size 576x360 with 1 Axes>"
      ]
     },
     "metadata": {
      "needs_background": "light"
     },
     "output_type": "display_data"
    }
   ],
   "source": [
    "x = EM_100_1x1Variances\n",
    "y = EM_100_1x1Averages\n",
    "plt.scatter(x,y,s=100,c='0.8',edgecolors='k')\n",
    "plt.plot(np.unique(x), np.poly1d(np.polyfit(x, y, 1))(np.unique(x)),color='tab:blue');\n",
    "m, b = np.polyfit(x, y, 1)\n",
    "# plt.title('Andor - Conventional Gain',fontsize = title_font_size)\n",
    "plt.xlabel('Variance')\n",
    "plt.ylabel('Average Counts')\n",
    "fig = plt.gcf();\n",
    "fig.set_size_inches(plot_width, plot_height);\n",
    "plt.grid(False)\n",
    "ax = plt.subplot()\n",
    "ax.tick_params(direction='in')\n",
    "ax.tick_params(bottom=True, top=True, left=True, right=True)\n",
    "plt.ticklabel_format(style='sci', axis='x', scilimits=(0,0))\n",
    "# plt.ticklabel_format(style='sci', axis='y', scilimits=(0,0))\n",
    "\n",
    "plt.savefig('EM100_gain.png',dpi=1000)\n",
    "print('slope = ',m)"
   ]
  },
  {
   "cell_type": "code",
   "execution_count": 44,
   "metadata": {
    "ExecuteTime": {
     "end_time": "2016-09-08T02:00:24.264372",
     "start_time": "2016-09-08T01:53:03.524798"
    },
    "hidden": true,
    "jupyter": {
     "source_hidden": true
    },
    "tags": []
   },
   "outputs": [],
   "source": [
    "# initialize some arrays\n",
    "EM_300_1x1Fits = []\n",
    "EM_300_1x1Covs = []\n",
    "EM_300_1x1PhotonPerCounts = []\n",
    "EM_300_1x1Averages = []\n",
    "EM_300_1x1Variances = []\n",
    "\n",
    "# average over the four corners.\n",
    "for location in [[0, 0],[-1, 0], [0, -1], [-1, -1]]:\n",
    "#     print(location)\n",
    "    fit, cov, fit1, averages, variances = analyzeSingleLocation(\"EM_300\", 9, 13, location, True)\n",
    "    EM_300_1x1Fits = np.append(EM_300_1x1Fits, fit)\n",
    "    EM_300_1x1Covs = np.append(EM_300_1x1Covs, cov)\n",
    "    EM_300_1x1PhotonPerCounts = np.append(EM_300_1x1PhotonPerCounts, fit1) # generate list of slopes for each pixel as defined in location\n",
    "    EM_300_1x1Averages = np.append(EM_300_1x1Averages, averages)\n",
    "    EM_300_1x1Variances = np.append(EM_300_1x1Variances, variances)"
   ]
  },
  {
   "cell_type": "code",
   "execution_count": null,
   "metadata": {},
   "outputs": [],
   "source": []
  },
  {
   "cell_type": "code",
   "execution_count": 137,
   "metadata": {
    "jupyter": {
     "source_hidden": true
    },
    "tags": []
   },
   "outputs": [
    {
     "name": "stdout",
     "output_type": "stream",
     "text": [
      "counts/photon = 0.013629068269407966\n",
      "std dev = 0.0002638596372574341\n",
      "counts/photon Scaled = 4.088720480822389\n"
     ]
    }
   ],
   "source": [
    "EM_300_1x1PhotonPerADCount = np.mean(EM_300_1x1PhotonPerCounts)*2 # average slopes\n",
    "EM_300_1x1PhotonPerADstd = np.std(EM_300_1x1PhotonPerCounts)*2\n",
    "EM_300_1x1PhotonPerADCount_scaled = np.mean(EM_300_1x1PhotonPerCounts)*2*300\n",
    "print('counts/photon =', EM_300_1x1PhotonPerADCount)\n",
    "print('std dev =', EM_300_1x1PhotonPerADstd)\n",
    "print('counts/photon Scaled =', EM_300_1x1PhotonPerADCount_scaled)"
   ]
  },
  {
   "cell_type": "code",
   "execution_count": 135,
   "metadata": {
    "jupyter": {
     "source_hidden": true
    },
    "tags": []
   },
   "outputs": [
    {
     "name": "stderr",
     "output_type": "stream",
     "text": [
      "C:\\Users\\REGALL~1\\AppData\\Local\\Temp/ipykernel_1856/2716981000.py:12: MatplotlibDeprecationWarning: Adding an axes using the same arguments as a previous axes currently reuses the earlier instance.  In a future version, a new instance will always be created and returned.  Meanwhile, this warning can be suppressed, and the future behavior ensured, by passing a unique label to each axes instance.\n",
      "  ax = plt.subplot()\n"
     ]
    },
    {
     "name": "stdout",
     "output_type": "stream",
     "text": [
      "slope =  0.006808344261676491\n"
     ]
    },
    {
     "data": {
      "image/png": "[encoded data removed]",
      "text/plain": [
       "<Figure size 576x360 with 1 Axes>"
      ]
     },
     "metadata": {
      "needs_background": "light"
     },
     "output_type": "display_data"
    }
   ],
   "source": [
    "x = EM_300_1x1Variances\n",
    "y = EM_300_1x1Averages\n",
    "plt.scatter(x,y,s=100,c='0.8',edgecolors='k')\n",
    "plt.plot(np.unique(x), np.poly1d(np.polyfit(x, y, 1))(np.unique(x)),color='tab:blue');\n",
    "m, b = np.polyfit(x, y, 1)\n",
    "# plt.title('Andor - Conventional Gain',fontsize = title_font_size)\n",
    "plt.xlabel('Variance')\n",
    "plt.ylabel('Average Counts')\n",
    "fig = plt.gcf();\n",
    "fig.set_size_inches(plot_width, plot_height);\n",
    "plt.grid(False)\n",
    "ax = plt.subplot()\n",
    "ax.tick_params(direction='in')\n",
    "ax.tick_params(bottom=True, top=True, left=True, right=True)\n",
    "plt.ticklabel_format(style='sci', axis='x', scilimits=(0,0))\n",
    "# plt.ticklabel_format(style='sci', axis='y', scilimits=(0,0))\n",
    "plt.savefig('EM300_gain.png',dpi=1000)\n",
    "print('slope = ',m)"
   ]
  },
  {
   "cell_type": "markdown",
   "metadata": {},
   "source": [
    "# Photons per AD Count & per EM Count Calibration"
   ]
  },
  {
   "cell_type": "markdown",
   "metadata": {},
   "source": [
    "## Discussion of Normalization Factor"
   ]
  },
  {
   "cell_type": "markdown",
   "metadata": {},
   "source": [
    "Now I have the data, I need to normalize properly for the EM Gain mode. Consider that the EM Gain setting effectively multiplies each count by some number. So, since mean is defined as\n",
    "$$ \\bar n = \\frac{\\sum_{i=1}^{N}{n_i}}{N}$$\n",
    "Multiplying counts by the em Gain means\n",
    "$$\\bar n_{\\text{measured}} = \\frac{\\sum_{i=1}^{N}{G n_i}}{N} = G \\bar n$$ \n",
    "However, for the variance, since the variance is defined as\n",
    "$$ \\sigma_n^2 = \\frac{\\sum_{i=1}^N{(n_i-\\bar n)^2}}{N}$$\n",
    "In addition, however, For significant EM gains, there is noise due to the EM gain process. For EMCCD cameras this corresponds to a variance of the signal of $\\sqrt{2}$. See the Andor hardware guide (page 27?) for a few more details. The combined effect of this the EM Gain is\n",
    "$$ \\sigma_{n, \\text{observed}}^2 = \\frac{\\sum_{i=1}^N{(\\sqrt{2}(G n_i-G\\times\\bar n))^2}}{N} = 2G^2 \\sigma_n$$\n",
    "\n",
    "\n",
    "Therefore If I observe some slope\n",
    "$$ s_\\text{obs} = \\frac{\\bar n_\\text{obs}}{\\sigma_{n,\\text{obs}}} = \\frac{G\\bar n}{2G^2\\sigma_n} = \\frac{\\bar n}{2G \\sigma_n} = \\frac{1}{2G} s$$ \n",
    "It's off by a factor of $(2G)^{-1}$.\n",
    "\n",
    "This slope gives me photons per AD Counts (modifying for the EM Gain) which is the number quoted by Andor (that's the only reason we care about taking it into account)."
   ]
  },
  {
   "cell_type": "markdown",
   "metadata": {},
   "source": [
    "# Camera Calibrations 5/15/24"
   ]
  },
  {
   "cell_type": "markdown",
   "metadata": {},
   "source": [
    "## Analyze Single Location"
   ]
  },
  {
   "cell_type": "code",
   "execution_count": null,
   "metadata": {},
   "outputs": [],
   "source": []
  },
  {
   "cell_type": "code",
   "execution_count": 13,
   "metadata": {
    "tags": []
   },
   "outputs": [],
   "source": [
    "def analyzeSinglePicture(cal_type, firstRun, lastRun, printProgress=True):\n",
    "    \"\"\"\n",
    "    This function is for calculating averages of pictures, finding the average pixel signal and variance\n",
    "    of all pixel signals on the pictures.\n",
    "    \n",
    "    :return: This function returns the counts/photon\n",
    "\n",
    "    \"\"\"\n",
    "    allPictures = []\n",
    "    allAverages = []\n",
    "    allVariances = []\n",
    "    dataRepositoryPath = \"/Volumes/Local_Data_Repository/2024/May/May 15/Raw Data/\"\n",
    "    for runInc in range(firstRun, lastRun + 1, 1):\n",
    "        dataPath = dataRepositoryPath + cal_type + \"/data_\" + str(runInc) + \".h5\"\n",
    "        with h5.File(dataPath, \"r\") as hdf:\n",
    "            andor = hdf.get('Andor')\n",
    "            andor_items = list(andor.items())\n",
    "            allPictures = np.array(andor.get('Pictures'))\n",
    "            allPictures=allPictures[:, 225:275,275:325]\n",
    "            print(np.shape(allPictures))\n",
    "        allPictures = [item for sublist in list(allPictures[0]) for item in sublist];\n",
    "        allAverages.append(np.mean(allPictures))\n",
    "        allVariances.append(np.std(allPictures)**2)\n",
    "        totalAverage = np.mean(allAverages)\n",
    "        totalVariance = np.mean(allVariances)\n",
    "        photonCount = totalAverage/totalVariance\n",
    "    return photonCount,\n",
    "    "
   ]
  },
  {
   "cell_type": "code",
   "execution_count": 14,
   "metadata": {
    "tags": []
   },
   "outputs": [
    {
     "name": "stdout",
     "output_type": "stream",
     "text": [
      "(1000, 50, 50)\n",
      "(1000, 50, 50)\n"
     ]
    },
    {
     "data": {
      "text/plain": [
       "('counts/photon =', 0.48425268559552276)"
      ]
     },
     "execution_count": 14,
     "metadata": {},
     "output_type": "execute_result"
    }
   ],
   "source": [
    "analyzeSinglePicture(\"conv_gain\",1,2)\n",
    "conv_1x1PhotonPerADCount = np.mean(conv_1x1PhotonPerCounts) # average slopes\n",
    "conv_1x1PhotonPerADstd = np.std(conv_1x1PhotonPerCounts)"
   ]
  },
  {
   "cell_type": "code",
   "execution_count": null,
   "metadata": {},
   "outputs": [],
   "source": []
  },
  {
   "cell_type": "code",
   "execution_count": 31,
   "metadata": {},
   "outputs": [
    {
     "data": {
      "text/plain": [
       "<matplotlib.image.AxesImage at 0x1791efb50>"
      ]
     },
     "execution_count": 31,
     "metadata": {},
     "output_type": "execute_result"
    },
    {
     "data": {
      "image/png": "[encoded data removed]",
      "text/plain": [
       "<Figure size 432x288 with 1 Axes>"
      ]
     },
     "metadata": {
      "needs_background": "light"
     },
     "output_type": "display_data"
    }
   ],
   "source": [
    "region = avrg_pic[215:230,355:375]\n",
    "plt.imshow(region)"
   ]
  },
  {
   "cell_type": "code",
   "execution_count": 15,
   "metadata": {
    "ExecuteTime": {
     "end_time": "2016-09-08T03:35:23.443264",
     "start_time": "2016-09-08T03:35:23.358204"
    },
    "code_folding": [],
    "hidden": true,
    "tags": []
   },
   "outputs": [],
   "source": [
    "def line(x, a, b):\n",
    "    return a * x + b\n",
    "\n",
    "def analyzeSingleLocation(cal_type, firstRun, lastRun, location, printStatus=False, plot=False):\n",
    "    \"\"\"\n",
    "    Analyzes a single location, averaging over many pictures.\n",
    "    The function assumes that there is a data file for all runs in between firstrun and lastrun.\n",
    "    \n",
    "    :return: The function returns the fit object (i.e. an array of [a, b] for the linear fit y = a x + b) \n",
    "    and the covariance of said fit.\n",
    "    \"\"\"\n",
    "    allAverages = []\n",
    "    allVariances = []\n",
    "    # dataRepositoryPath = \"\\\\\\\\REGALB232EXP\\\\Local_Data_Repository\\\\2021\\\\andor_cal\\\\\"\n",
    "    dataRepositoryPath = \"/Volumes/Local_Data_Repository/2024/May/May 15/Raw Data/\"\n",
    "    for runInc in range(firstRun, lastRun + 1, 1):\n",
    "        allPoints = []\n",
    "        dataPath = dataRepositoryPath + cal_type + \"/data_\" + str(runInc) + \".h5\"\n",
    "        with h5.File(dataPath, \"r\") as hdf:\n",
    "            andor = hdf.get('Andor')\n",
    "            andor_items = list(andor.items())\n",
    "            dataFile = np.array(andor.get('Pictures')) \n",
    "            dataFile=dataFile[:, 300:350,300:350]\n",
    "\n",
    "        for repInc in range(0, 100):\n",
    "            allPoints.append(dataFile[repInc][location[0]][location[1]]) \n",
    "            # print(allPoints)\n",
    "        allAverages.append(np.mean(allPoints))\n",
    "        allVariances.append(np.std(allPoints)**2)\n",
    "        \n",
    "    param, cov = curve_fit(line, allVariances, allAverages, [1, 0]) \n",
    "    return param, cov, param[0], allAverages, allVariances; "
   ]
  },
  {
   "cell_type": "code",
   "execution_count": null,
   "metadata": {},
   "outputs": [],
   "source": []
  },
  {
   "cell_type": "markdown",
   "metadata": {
    "heading_collapsed": true,
    "tags": []
   },
   "source": [
    "### Load Conventional Gain Data"
   ]
  },
  {
   "cell_type": "code",
   "execution_count": null,
   "metadata": {
    "ExecuteTime": {
     "end_time": "2016-09-08T02:00:24.264372",
     "start_time": "2016-09-08T01:53:03.524798"
    },
    "hidden": true,
    "tags": []
   },
   "outputs": [],
   "source": [
    "# initialize some arrays\n",
    "conv_1x1Fits = []\n",
    "conv_1x1Covs = []\n",
    "conv_1x1PhotonPerCounts = []\n",
    "conv_1x1Averages = []\n",
    "conv_1x1Variances = []\n",
    "\n",
    "# average over the four corners.\n",
    "for location in [[0, 0]]:\n",
    "#     print(location)\n",
    "    fit, cov, fit1, averages, variances = analyzeSingleLocation(\"conv_gain\", 1, 2, location)\n",
    "    conv_1x1Fits = np.append(conv_1x1Fits, fit)\n",
    "    conv_1x1Covs = np.append(conv_1x1Covs, cov)\n",
    "    conv_1x1PhotonPerCounts = np.append(conv_1x1PhotonPerCounts, fit1) # generate list of slopes for each pixel as defined in location\n",
    "    conv_1x1Averages = np.append(conv_1x1Averages, averages)\n",
    "    conv_1x1Variances = np.append(conv_1x1Variances, variances)"
   ]
  },
  {
   "cell_type": "code",
   "execution_count": 34,
   "metadata": {
    "tags": []
   },
   "outputs": [
    {
     "name": "stdout",
     "output_type": "stream",
     "text": [
      "counts/photon = 0.6538294587957195\n",
      "std dev = 0.7616736590976956\n"
     ]
    }
   ],
   "source": [
    "conv_1x1PhotonPerADCount = np.mean(conv_1x1PhotonPerCounts) # average slopes\n",
    "conv_1x1PhotonPerADstd = np.std(conv_1x1PhotonPerCounts)\n",
    "print('counts/photon =', conv_1x1PhotonPerADCount)\n",
    "print('std dev =', conv_1x1PhotonPerADstd)"
   ]
  },
  {
   "cell_type": "code",
   "execution_count": 35,
   "metadata": {},
   "outputs": [
    {
     "name": "stdout",
     "output_type": "stream",
     "text": [
      "r_value = 0.7378625195541116\n",
      "slope =  0.15037047827805425\n"
     ]
    },
    {
     "data": {
      "image/png": "[encoded data removed]",
      "text/plain": [
       "<Figure size 576x360 with 1 Axes>"
      ]
     },
     "metadata": {
      "needs_background": "light"
     },
     "output_type": "display_data"
    }
   ],
   "source": [
    "x = conv_1x1Variances\n",
    "y = conv_1x1Averages\n",
    "plt.scatter(x,y,s=100,c='0.8',edgecolors='k')\n",
    "plt.plot(np.unique(x), np.poly1d(np.polyfit(x, y, 1))(np.unique(x)),color='tab:blue');\n",
    "m, b = np.polyfit(x, y, 1)\n",
    "# plt.title('Andor - Conventional Gain',fontsize = title_font_size)\n",
    "plt.xlabel('Variance')\n",
    "plt.ylabel('Average Counts')\n",
    "fig = plt.gcf();\n",
    "fig.set_size_inches(plot_width, plot_height);\n",
    "plt.grid(False)\n",
    "ax = plt.subplot()\n",
    "ax.tick_params(direction='in')\n",
    "ax.tick_params(bottom=True, top=True, left=True, right=True)\n",
    "\n",
    "\n",
    "# plt.savefig('conv_gain.png',dpi=1000)\n",
    "slope, intercept, r_value, p_value, std_err = linregress(x, y)\n",
    "print('r_value =',r_value)\n",
    "print('slope = ',slope)"
   ]
  },
  {
   "cell_type": "code",
   "execution_count": 70,
   "metadata": {
    "ExecuteTime": {
     "end_time": "2016-09-08T02:00:24.264372",
     "start_time": "2016-09-08T01:53:03.524798"
    },
    "hidden": true,
    "tags": []
   },
   "outputs": [
    {
     "ename": "RuntimeError",
     "evalue": "Can't decrement id ref count (unable to close file, errno = 60, error message = 'Operation timed out')",
     "output_type": "error",
     "traceback": [
      "\u001b[0;31m---------------------------------------------------------------------------\u001b[0m",
      "\u001b[0;31mOSError\u001b[0m                                   Traceback (most recent call last)",
      "Input \u001b[0;32mIn [64]\u001b[0m, in \u001b[0;36manalyzeSingleLocation\u001b[0;34m(cal_type, firstRun, lastRun, location, printStatus, plot)\u001b[0m\n\u001b[1;32m     21\u001b[0m andor_items \u001b[38;5;241m=\u001b[39m \u001b[38;5;28mlist\u001b[39m(andor\u001b[38;5;241m.\u001b[39mitems())\n\u001b[0;32m---> 22\u001b[0m dataFile \u001b[38;5;241m=\u001b[39m \u001b[43mnp\u001b[49m\u001b[38;5;241;43m.\u001b[39;49m\u001b[43marray\u001b[49m\u001b[43m(\u001b[49m\u001b[43mandor\u001b[49m\u001b[38;5;241;43m.\u001b[39;49m\u001b[43mget\u001b[49m\u001b[43m(\u001b[49m\u001b[38;5;124;43m'\u001b[39;49m\u001b[38;5;124;43mPictures\u001b[39;49m\u001b[38;5;124;43m'\u001b[39;49m\u001b[43m)\u001b[49m\u001b[43m)\u001b[49m \n\u001b[1;32m     23\u001b[0m dataFile\u001b[38;5;241m=\u001b[39mdataFile[:, \u001b[38;5;241m300\u001b[39m:\u001b[38;5;241m350\u001b[39m,\u001b[38;5;241m300\u001b[39m:\u001b[38;5;241m350\u001b[39m]\n",
      "File \u001b[0;32mh5py/_objects.pyx:54\u001b[0m, in \u001b[0;36mh5py._objects.with_phil.wrapper\u001b[0;34m()\u001b[0m\n",
      "File \u001b[0;32mh5py/_objects.pyx:55\u001b[0m, in \u001b[0;36mh5py._objects.with_phil.wrapper\u001b[0;34m()\u001b[0m\n",
      "File \u001b[0;32m/Library/Frameworks/Python.framework/Versions/3.10/lib/python3.10/site-packages/h5py/_hl/dataset.py:1046\u001b[0m, in \u001b[0;36mDataset.__array__\u001b[0;34m(self, dtype)\u001b[0m\n\u001b[1;32m   1044\u001b[0m     \u001b[38;5;28;01mreturn\u001b[39;00m arr\n\u001b[0;32m-> 1046\u001b[0m \u001b[38;5;28;43mself\u001b[39;49m\u001b[38;5;241;43m.\u001b[39;49m\u001b[43mread_direct\u001b[49m\u001b[43m(\u001b[49m\u001b[43marr\u001b[49m\u001b[43m)\u001b[49m\n\u001b[1;32m   1047\u001b[0m \u001b[38;5;28;01mreturn\u001b[39;00m arr\n",
      "File \u001b[0;32m/Library/Frameworks/Python.framework/Versions/3.10/lib/python3.10/site-packages/h5py/_hl/dataset.py:1007\u001b[0m, in \u001b[0;36mDataset.read_direct\u001b[0;34m(self, dest, source_sel, dest_sel)\u001b[0m\n\u001b[1;32m   1006\u001b[0m \u001b[38;5;28;01mfor\u001b[39;00m mspace \u001b[38;5;129;01min\u001b[39;00m dest_sel\u001b[38;5;241m.\u001b[39mbroadcast(source_sel\u001b[38;5;241m.\u001b[39marray_shape):\n\u001b[0;32m-> 1007\u001b[0m     \u001b[38;5;28;43mself\u001b[39;49m\u001b[38;5;241;43m.\u001b[39;49m\u001b[43mid\u001b[49m\u001b[38;5;241;43m.\u001b[39;49m\u001b[43mread\u001b[49m\u001b[43m(\u001b[49m\u001b[43mmspace\u001b[49m\u001b[43m,\u001b[49m\u001b[43m \u001b[49m\u001b[43mfspace\u001b[49m\u001b[43m,\u001b[49m\u001b[43m \u001b[49m\u001b[43mdest\u001b[49m\u001b[43m,\u001b[49m\u001b[43m \u001b[49m\u001b[43mdxpl\u001b[49m\u001b[38;5;241;43m=\u001b[39;49m\u001b[38;5;28;43mself\u001b[39;49m\u001b[38;5;241;43m.\u001b[39;49m\u001b[43m_dxpl\u001b[49m\u001b[43m)\u001b[49m\n",
      "File \u001b[0;32mh5py/_objects.pyx:54\u001b[0m, in \u001b[0;36mh5py._objects.with_phil.wrapper\u001b[0;34m()\u001b[0m\n",
      "File \u001b[0;32mh5py/_objects.pyx:55\u001b[0m, in \u001b[0;36mh5py._objects.with_phil.wrapper\u001b[0;34m()\u001b[0m\n",
      "File \u001b[0;32mh5py/h5d.pyx:192\u001b[0m, in \u001b[0;36mh5py.h5d.DatasetID.read\u001b[0;34m()\u001b[0m\n",
      "File \u001b[0;32mh5py/_proxy.pyx:112\u001b[0m, in \u001b[0;36mh5py._proxy.dset_rw\u001b[0;34m()\u001b[0m\n",
      "\u001b[0;31mOSError\u001b[0m: [Errno 6] Can't read data (file read failed: time = Wed May 15 16:43:37 2024\n, filename = '/Volumes/Local_Data_Repository/2024/May/May 15/Raw Data/EM_100/data_6.h5', file descriptor = 89, errno = 6, error message = 'Device not configured', buf = 0x2ac800000, total read size = 1048576000, bytes this sub-read = 1048576000, bytes actually read = 18446744073709551615, offset = 0)",
      "\nDuring handling of the above exception, another exception occurred:\n",
      "\u001b[0;31mRuntimeError\u001b[0m                              Traceback (most recent call last)",
      "Input \u001b[0;32mIn [70]\u001b[0m, in \u001b[0;36m<cell line: 9>\u001b[0;34m()\u001b[0m\n\u001b[1;32m      8\u001b[0m \u001b[38;5;66;03m# average over the four corners.\u001b[39;00m\n\u001b[1;32m      9\u001b[0m \u001b[38;5;28;01mfor\u001b[39;00m location \u001b[38;5;129;01min\u001b[39;00m [[\u001b[38;5;241m0\u001b[39m, \u001b[38;5;241m0\u001b[39m],[\u001b[38;5;241m-\u001b[39m\u001b[38;5;241m1\u001b[39m, \u001b[38;5;241m0\u001b[39m], [\u001b[38;5;241m0\u001b[39m, \u001b[38;5;241m-\u001b[39m\u001b[38;5;241m1\u001b[39m], [\u001b[38;5;241m-\u001b[39m\u001b[38;5;241m1\u001b[39m, \u001b[38;5;241m-\u001b[39m\u001b[38;5;241m1\u001b[39m]]:\n\u001b[1;32m     10\u001b[0m \u001b[38;5;66;03m#     print(location)\u001b[39;00m\n\u001b[0;32m---> 11\u001b[0m     fit, cov, fit1, averages, variances \u001b[38;5;241m=\u001b[39m \u001b[43manalyzeSingleLocation\u001b[49m\u001b[43m(\u001b[49m\u001b[38;5;124;43m\"\u001b[39;49m\u001b[38;5;124;43mEM_100\u001b[39;49m\u001b[38;5;124;43m\"\u001b[39;49m\u001b[43m,\u001b[49m\u001b[43m \u001b[49m\u001b[38;5;241;43m6\u001b[39;49m\u001b[43m,\u001b[49m\u001b[43m \u001b[49m\u001b[38;5;241;43m9\u001b[39;49m\u001b[43m,\u001b[49m\u001b[43m \u001b[49m\u001b[43mlocation\u001b[49m\u001b[43m,\u001b[49m\u001b[43m \u001b[49m\u001b[38;5;28;43;01mTrue\u001b[39;49;00m\u001b[43m)\u001b[49m\n\u001b[1;32m     12\u001b[0m     EM_100_1x1Fits \u001b[38;5;241m=\u001b[39m np\u001b[38;5;241m.\u001b[39mappend(EM_100_1x1Fits, fit)\n\u001b[1;32m     13\u001b[0m     EM_100_1x1Covs \u001b[38;5;241m=\u001b[39m np\u001b[38;5;241m.\u001b[39mappend(EM_100_1x1Covs, cov)\n",
      "Input \u001b[0;32mIn [64]\u001b[0m, in \u001b[0;36manalyzeSingleLocation\u001b[0;34m(cal_type, firstRun, lastRun, location, printStatus, plot)\u001b[0m\n\u001b[1;32m     17\u001b[0m allPoints \u001b[38;5;241m=\u001b[39m []\n\u001b[1;32m     18\u001b[0m dataPath \u001b[38;5;241m=\u001b[39m dataRepositoryPath \u001b[38;5;241m+\u001b[39m cal_type \u001b[38;5;241m+\u001b[39m \u001b[38;5;124m\"\u001b[39m\u001b[38;5;124m/data_\u001b[39m\u001b[38;5;124m\"\u001b[39m \u001b[38;5;241m+\u001b[39m \u001b[38;5;28mstr\u001b[39m(runInc) \u001b[38;5;241m+\u001b[39m \u001b[38;5;124m\"\u001b[39m\u001b[38;5;124m.h5\u001b[39m\u001b[38;5;124m\"\u001b[39m\n\u001b[0;32m---> 19\u001b[0m \u001b[38;5;28;01mwith\u001b[39;00m h5\u001b[38;5;241m.\u001b[39mFile(dataPath, \u001b[38;5;124m\"\u001b[39m\u001b[38;5;124mr\u001b[39m\u001b[38;5;124m\"\u001b[39m) \u001b[38;5;28;01mas\u001b[39;00m hdf:\n\u001b[1;32m     20\u001b[0m     andor \u001b[38;5;241m=\u001b[39m hdf\u001b[38;5;241m.\u001b[39mget(\u001b[38;5;124m'\u001b[39m\u001b[38;5;124mAndor\u001b[39m\u001b[38;5;124m'\u001b[39m)\n\u001b[1;32m     21\u001b[0m     andor_items \u001b[38;5;241m=\u001b[39m \u001b[38;5;28mlist\u001b[39m(andor\u001b[38;5;241m.\u001b[39mitems())\n",
      "File \u001b[0;32mh5py/_objects.pyx:54\u001b[0m, in \u001b[0;36mh5py._objects.with_phil.wrapper\u001b[0;34m()\u001b[0m\n",
      "File \u001b[0;32mh5py/_objects.pyx:55\u001b[0m, in \u001b[0;36mh5py._objects.with_phil.wrapper\u001b[0;34m()\u001b[0m\n",
      "File \u001b[0;32m/Library/Frameworks/Python.framework/Versions/3.10/lib/python3.10/site-packages/h5py/_hl/files.py:570\u001b[0m, in \u001b[0;36mFile.__exit__\u001b[0;34m(self, *args)\u001b[0m\n\u001b[1;32m    567\u001b[0m \u001b[38;5;129m@with_phil\u001b[39m\n\u001b[1;32m    568\u001b[0m \u001b[38;5;28;01mdef\u001b[39;00m \u001b[38;5;21m__exit__\u001b[39m(\u001b[38;5;28mself\u001b[39m, \u001b[38;5;241m*\u001b[39margs):\n\u001b[1;32m    569\u001b[0m     \u001b[38;5;28;01mif\u001b[39;00m \u001b[38;5;28mself\u001b[39m\u001b[38;5;241m.\u001b[39mid:\n\u001b[0;32m--> 570\u001b[0m         \u001b[38;5;28;43mself\u001b[39;49m\u001b[38;5;241;43m.\u001b[39;49m\u001b[43mclose\u001b[49m\u001b[43m(\u001b[49m\u001b[43m)\u001b[49m\n",
      "File \u001b[0;32m/Library/Frameworks/Python.framework/Versions/3.10/lib/python3.10/site-packages/h5py/_hl/files.py:552\u001b[0m, in \u001b[0;36mFile.close\u001b[0;34m(self)\u001b[0m\n\u001b[1;32m    546\u001b[0m \u001b[38;5;28;01mif\u001b[39;00m \u001b[38;5;28mself\u001b[39m\u001b[38;5;241m.\u001b[39mid\u001b[38;5;241m.\u001b[39mvalid:\n\u001b[1;32m    547\u001b[0m     \u001b[38;5;66;03m# We have to explicitly murder all open objects related to the file\u001b[39;00m\n\u001b[1;32m    548\u001b[0m \n\u001b[1;32m    549\u001b[0m     \u001b[38;5;66;03m# Close file-resident objects first, then the files.\u001b[39;00m\n\u001b[1;32m    550\u001b[0m     \u001b[38;5;66;03m# Otherwise we get errors in MPI mode.\u001b[39;00m\n\u001b[1;32m    551\u001b[0m     \u001b[38;5;28mself\u001b[39m\u001b[38;5;241m.\u001b[39mid\u001b[38;5;241m.\u001b[39m_close_open_objects(h5f\u001b[38;5;241m.\u001b[39mOBJ_LOCAL \u001b[38;5;241m|\u001b[39m \u001b[38;5;241m~\u001b[39mh5f\u001b[38;5;241m.\u001b[39mOBJ_FILE)\n\u001b[0;32m--> 552\u001b[0m     \u001b[38;5;28;43mself\u001b[39;49m\u001b[38;5;241;43m.\u001b[39;49m\u001b[43mid\u001b[49m\u001b[38;5;241;43m.\u001b[39;49m\u001b[43m_close_open_objects\u001b[49m\u001b[43m(\u001b[49m\u001b[43mh5f\u001b[49m\u001b[38;5;241;43m.\u001b[39;49m\u001b[43mOBJ_LOCAL\u001b[49m\u001b[43m \u001b[49m\u001b[38;5;241;43m|\u001b[39;49m\u001b[43m \u001b[49m\u001b[43mh5f\u001b[49m\u001b[38;5;241;43m.\u001b[39;49m\u001b[43mOBJ_FILE\u001b[49m\u001b[43m)\u001b[49m\n\u001b[1;32m    554\u001b[0m     \u001b[38;5;28mself\u001b[39m\u001b[38;5;241m.\u001b[39mid\u001b[38;5;241m.\u001b[39mclose()\n\u001b[1;32m    555\u001b[0m     _objects\u001b[38;5;241m.\u001b[39mnonlocal_close()\n",
      "File \u001b[0;32mh5py/_objects.pyx:54\u001b[0m, in \u001b[0;36mh5py._objects.with_phil.wrapper\u001b[0;34m()\u001b[0m\n",
      "File \u001b[0;32mh5py/_objects.pyx:55\u001b[0m, in \u001b[0;36mh5py._objects.with_phil.wrapper\u001b[0;34m()\u001b[0m\n",
      "File \u001b[0;32mh5py/h5f.pyx:360\u001b[0m, in \u001b[0;36mh5py.h5f.FileID._close_open_objects\u001b[0;34m()\u001b[0m\n",
      "\u001b[0;31mRuntimeError\u001b[0m: Can't decrement id ref count (unable to close file, errno = 60, error message = 'Operation timed out')"
     ]
    }
   ],
   "source": [
    "# initialize some arrays\n",
    "EM_100_1x1Fits = []\n",
    "EM_100_1x1Covs = []\n",
    "EM_100_1x1PhotonPerCounts = []\n",
    "EM_100_1x1Averages = []\n",
    "EM_100_1x1Variances = []\n",
    "\n",
    "# average over the four corners.\n",
    "for location in [[0, 0],[-1, 0], [0, -1], [-1, -1]]:\n",
    "#     print(location)\n",
    "    fit, cov, fit1, averages, variances = analyzeSingleLocation(\"EM_100\", 6, 9, location, True)\n",
    "    EM_100_1x1Fits = np.append(EM_100_1x1Fits, fit)\n",
    "    EM_100_1x1Covs = np.append(EM_100_1x1Covs, cov)\n",
    "    EM_100_1x1PhotonPerCounts = np.append(EM_100_1x1PhotonPerCounts, fit1) # generate list of slopes for each pixel as defined in location\n",
    "    EM_100_1x1Averages = np.append(EM_100_1x1Averages, averages)\n",
    "    EM_100_1x1Variances = np.append(EM_100_1x1Variances, variances)"
   ]
  },
  {
   "cell_type": "code",
   "execution_count": 120,
   "metadata": {
    "tags": []
   },
   "outputs": [
    {
     "name": "stdout",
     "output_type": "stream",
     "text": [
      "counts/photon = 0.04064535581518338\n",
      "std dev = 0.003826935144717846\n",
      "counts/photon scaled = 4.064535581518338\n"
     ]
    }
   ],
   "source": [
    "EM_100_1x1PhotonPerADCount = np.mean(EM_100_1x1PhotonPerCounts)*2 # average slopes\n",
    "EM_100_1x1PhotonPerADstd = np.std(EM_100_1x1PhotonPerCounts)*2\n",
    "EM_100_1x1PhotonPerADCount_scaled = np.mean(EM_100_1x1PhotonPerCounts)*2*100 \n",
    "print('counts/photon =', EM_100_1x1PhotonPerADCount)\n",
    "print('std dev =', EM_100_1x1PhotonPerADstd*2)\n",
    "print('counts/photon scaled =', EM_100_1x1PhotonPerADCount_scaled)"
   ]
  },
  {
   "cell_type": "code",
   "execution_count": 133,
   "metadata": {},
   "outputs": [
    {
     "name": "stderr",
     "output_type": "stream",
     "text": [
      "C:\\Users\\REGALL~1\\AppData\\Local\\Temp/ipykernel_1856/2166503226.py:12: MatplotlibDeprecationWarning: Adding an axes using the same arguments as a previous axes currently reuses the earlier instance.  In a future version, a new instance will always be created and returned.  Meanwhile, this warning can be suppressed, and the future behavior ensured, by passing a unique label to each axes instance.\n",
      "  ax = plt.subplot()\n"
     ]
    },
    {
     "name": "stdout",
     "output_type": "stream",
     "text": [
      "slope =  0.020154439195143807\n"
     ]
    },
    {
     "data": {
      "image/png": "[encoded data removed]",
      "text/plain": [
       "<Figure size 576x360 with 1 Axes>"
      ]
     },
     "metadata": {
      "needs_background": "light"
     },
     "output_type": "display_data"
    }
   ],
   "source": [
    "x = EM_100_1x1Variances\n",
    "y = EM_100_1x1Averages\n",
    "plt.scatter(x,y,s=100,c='0.8',edgecolors='k')\n",
    "plt.plot(np.unique(x), np.poly1d(np.polyfit(x, y, 1))(np.unique(x)),color='tab:blue');\n",
    "m, b = np.polyfit(x, y, 1)\n",
    "# plt.title('Andor - Conventional Gain',fontsize = title_font_size)\n",
    "plt.xlabel('Variance')\n",
    "plt.ylabel('Average Counts')\n",
    "fig = plt.gcf();\n",
    "fig.set_size_inches(plot_width, plot_height);\n",
    "plt.grid(False)\n",
    "ax = plt.subplot()\n",
    "ax.tick_params(direction='in')\n",
    "ax.tick_params(bottom=True, top=True, left=True, right=True)\n",
    "plt.ticklabel_format(style='sci', axis='x', scilimits=(0,0))\n",
    "# plt.ticklabel_format(style='sci', axis='y', scilimits=(0,0))\n",
    "\n",
    "plt.savefig('EM100_gain.png',dpi=1000)\n",
    "print('slope = ',m)"
   ]
  },
  {
   "cell_type": "code",
   "execution_count": 44,
   "metadata": {
    "ExecuteTime": {
     "end_time": "2016-09-08T02:00:24.264372",
     "start_time": "2016-09-08T01:53:03.524798"
    },
    "hidden": true,
    "tags": []
   },
   "outputs": [],
   "source": [
    "# initialize some arrays\n",
    "EM_300_1x1Fits = []\n",
    "EM_300_1x1Covs = []\n",
    "EM_300_1x1PhotonPerCounts = []\n",
    "EM_300_1x1Averages = []\n",
    "EM_300_1x1Variances = []\n",
    "\n",
    "# average over the four corners.\n",
    "for location in [[0, 0],[-1, 0], [0, -1], [-1, -1]]:\n",
    "#     print(location)\n",
    "    fit, cov, fit1, averages, variances = analyzeSingleLocation(\"EM_300\", 9, 13, location, True)\n",
    "    EM_300_1x1Fits = np.append(EM_300_1x1Fits, fit)\n",
    "    EM_300_1x1Covs = np.append(EM_300_1x1Covs, cov)\n",
    "    EM_300_1x1PhotonPerCounts = np.append(EM_300_1x1PhotonPerCounts, fit1) # generate list of slopes for each pixel as defined in location\n",
    "    EM_300_1x1Averages = np.append(EM_300_1x1Averages, averages)\n",
    "    EM_300_1x1Variances = np.append(EM_300_1x1Variances, variances)"
   ]
  },
  {
   "cell_type": "code",
   "execution_count": null,
   "metadata": {},
   "outputs": [],
   "source": []
  },
  {
   "cell_type": "code",
   "execution_count": 137,
   "metadata": {
    "tags": []
   },
   "outputs": [
    {
     "name": "stdout",
     "output_type": "stream",
     "text": [
      "counts/photon = 0.013629068269407966\n",
      "std dev = 0.0002638596372574341\n",
      "counts/photon Scaled = 4.088720480822389\n"
     ]
    }
   ],
   "source": [
    "EM_300_1x1PhotonPerADCount = np.mean(EM_300_1x1PhotonPerCounts)*2 # average slopes\n",
    "EM_300_1x1PhotonPerADstd = np.std(EM_300_1x1PhotonPerCounts)*2\n",
    "EM_300_1x1PhotonPerADCount_scaled = np.mean(EM_300_1x1PhotonPerCounts)*2*300\n",
    "print('counts/photon =', EM_300_1x1PhotonPerADCount)\n",
    "print('std dev =', EM_300_1x1PhotonPerADstd)\n",
    "print('counts/photon Scaled =', EM_300_1x1PhotonPerADCount_scaled)"
   ]
  },
  {
   "cell_type": "code",
   "execution_count": 135,
   "metadata": {},
   "outputs": [
    {
     "name": "stderr",
     "output_type": "stream",
     "text": [
      "C:\\Users\\REGALL~1\\AppData\\Local\\Temp/ipykernel_1856/2716981000.py:12: MatplotlibDeprecationWarning: Adding an axes using the same arguments as a previous axes currently reuses the earlier instance.  In a future version, a new instance will always be created and returned.  Meanwhile, this warning can be suppressed, and the future behavior ensured, by passing a unique label to each axes instance.\n",
      "  ax = plt.subplot()\n"
     ]
    },
    {
     "name": "stdout",
     "output_type": "stream",
     "text": [
      "slope =  0.006808344261676491\n"
     ]
    },
    {
     "data": {
      "image/png": "[encoded data removed]",
      "text/plain": [
       "<Figure size 576x360 with 1 Axes>"
      ]
     },
     "metadata": {
      "needs_background": "light"
     },
     "output_type": "display_data"
    }
   ],
   "source": [
    "x = EM_300_1x1Variances\n",
    "y = EM_300_1x1Averages\n",
    "plt.scatter(x,y,s=100,c='0.8',edgecolors='k')\n",
    "plt.plot(np.unique(x), np.poly1d(np.polyfit(x, y, 1))(np.unique(x)),color='tab:blue');\n",
    "m, b = np.polyfit(x, y, 1)\n",
    "# plt.title('Andor - Conventional Gain',fontsize = title_font_size)\n",
    "plt.xlabel('Variance')\n",
    "plt.ylabel('Average Counts')\n",
    "fig = plt.gcf();\n",
    "fig.set_size_inches(plot_width, plot_height);\n",
    "plt.grid(False)\n",
    "ax = plt.subplot()\n",
    "ax.tick_params(direction='in')\n",
    "ax.tick_params(bottom=True, top=True, left=True, right=True)\n",
    "plt.ticklabel_format(style='sci', axis='x', scilimits=(0,0))\n",
    "# plt.ticklabel_format(style='sci', axis='y', scilimits=(0,0))\n",
    "plt.savefig('EM300_gain.png',dpi=1000)\n",
    "print('slope = ',m)"
   ]
  },
  {
   "cell_type": "code",
   "execution_count": null,
   "metadata": {},
   "outputs": [],
   "source": []
  }
 ],
 "metadata": {
  "anaconda-cloud": {},
  "hide_input": false,
  "kernelspec": {
   "display_name": "Python 3 (ipykernel)",
   "language": "python",
   "name": "python3"
  },
  "language_info": {
   "codemirror_mode": {
    "name": "ipython",
    "version": 3
   },
   "file_extension": ".py",
   "mimetype": "text/x-python",
   "name": "python",
   "nbconvert_exporter": "python",
   "pygments_lexer": "ipython3",
   "version": "3.12.3"
  },
  "nav_menu": {},
  "notify_time": "10",
  "record_timing": true,
  "toc": {
   "nav_menu": {},
   "number_sections": true,
   "sideBar": true,
   "skip_h1_title": false,
   "toc_cell": true,
   "toc_position": {
    "height": "780px",
    "left": "0px",
    "right": "1329.33px",
    "top": "107px",
    "width": "277px"
   },
   "toc_section_display": "none",
   "toc_window_display": false
  },
  "toc-autonumbering": true,
  "toc-showcode": false,
  "toc-showmarkdowntxt": false,
  "toc-showtags": false,
  "varInspector": {
   "cols": {
    "lenName": 16,
    "lenType": 16,
    "lenVar": 40
   },
   "kernels_config": {
    "python": {
     "delete_cmd_postfix": "",
     "delete_cmd_prefix": "del ",
     "library": "var_list.py",
     "varRefreshCmd": "print(var_dic_list())"
    },
    "r": {
     "delete_cmd_postfix": ") ",
     "delete_cmd_prefix": "rm(",
     "library": "var_list.r",
     "varRefreshCmd": "cat(var_dic_list()) "
    }
   },
   "types_to_exclude": [
    "module",
    "function",
    "builtin_function_or_method",
    "instance",
    "_Feature"
   ],
   "window_display": false
  }
 },
 "nbformat": 4,
 "nbformat_minor": 4
}
