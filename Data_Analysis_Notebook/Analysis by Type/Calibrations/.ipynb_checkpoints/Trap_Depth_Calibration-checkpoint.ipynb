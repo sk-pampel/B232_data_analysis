version https://git-lfs.github.com/spec/v1
oid sha256:09d0a1f01fa5c8d1ce65bd3ab0c2ef4ca7a03bfed96d3f3da95857e72d114f34
size 1196574
