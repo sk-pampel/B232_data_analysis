version https://git-lfs.github.com/spec/v1
oid sha256:2b147db86e21a5b5ee42aa2524fe826f6a53ac5865a5360e26e00ae03b4d0ffb
size 1707620
