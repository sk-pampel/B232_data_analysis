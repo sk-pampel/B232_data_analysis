version https://git-lfs.github.com/spec/v1
oid sha256:e93739895a7f73d5c3aaca207d3ded9ae4a2a32f96823c2e38174b353cc19fa2
size 1337314
