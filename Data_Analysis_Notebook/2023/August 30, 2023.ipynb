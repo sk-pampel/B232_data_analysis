version https://git-lfs.github.com/spec/v1
oid sha256:ac1bf5b86112bc76898da5491c83e88643bbe82c70250c7a3eaeea6eb52a37a8
size 563481
