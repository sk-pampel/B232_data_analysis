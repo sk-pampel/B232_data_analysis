version https://git-lfs.github.com/spec/v1
oid sha256:94fd6053dee5c2cb18f3bf5a067168db71c3a0af371ea27283d95c77abf190ee
size 399049
