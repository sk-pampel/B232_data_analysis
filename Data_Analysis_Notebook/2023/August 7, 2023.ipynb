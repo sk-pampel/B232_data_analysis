version https://git-lfs.github.com/spec/v1
oid sha256:d0c3dbb046a6fdc06113a0e61f4731ba4767c7cc6b37c24087de9c2691a5be0e
size 983414
