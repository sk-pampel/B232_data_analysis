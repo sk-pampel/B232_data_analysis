version https://git-lfs.github.com/spec/v1
oid sha256:d13436ac8dad90e825f79fde49487f41a8976dbba0242349a32106e5b7e62230
size 661405
