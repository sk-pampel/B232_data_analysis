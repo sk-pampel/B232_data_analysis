version https://git-lfs.github.com/spec/v1
oid sha256:6e1992564cfa0a82cd5d1b9f209743b4f4b541f2f9fe3c83f9eb15cae80aa559
size 137719
