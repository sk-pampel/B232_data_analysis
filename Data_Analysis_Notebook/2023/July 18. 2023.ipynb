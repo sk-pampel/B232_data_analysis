version https://git-lfs.github.com/spec/v1
oid sha256:6edd8cf2d66a62132dd3572880cbd0325aa55226ce82ce1a4d798456b3d4f847
size 394461
