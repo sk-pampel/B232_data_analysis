version https://git-lfs.github.com/spec/v1
oid sha256:82e0bdcd633402140092904c02cae7df9b4d84845850b605a000a2eb50d70aa8
size 934652
