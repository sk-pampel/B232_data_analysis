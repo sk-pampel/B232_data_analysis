version https://git-lfs.github.com/spec/v1
oid sha256:10a45192ceeaa9bdaa6fdfcc9f42a8187d35c786894e2096a472ffb4e0a178f9
size 1016615
