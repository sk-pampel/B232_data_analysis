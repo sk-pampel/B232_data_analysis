version https://git-lfs.github.com/spec/v1
oid sha256:9896de9192fd2b92dbfe8bdad7648dc7c3cbb445ea81a6155f414e18585a9c65
size 1700065
