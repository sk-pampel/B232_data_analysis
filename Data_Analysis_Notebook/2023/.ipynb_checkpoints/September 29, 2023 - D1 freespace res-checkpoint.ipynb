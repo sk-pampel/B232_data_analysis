version https://git-lfs.github.com/spec/v1
oid sha256:853954c017fd182da28e47bbe6da4effd6ed7c59f2704520326b6ba5d9cf76c3
size 1614609
