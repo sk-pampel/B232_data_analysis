version https://git-lfs.github.com/spec/v1
oid sha256:1e7c5c841f3f344c97e315f0fbe73077b73aa6731d17d0afa5bf1677c7e0134d
size 402970
