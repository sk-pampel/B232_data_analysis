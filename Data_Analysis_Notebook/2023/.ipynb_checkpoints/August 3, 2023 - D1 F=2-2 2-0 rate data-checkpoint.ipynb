version https://git-lfs.github.com/spec/v1
oid sha256:e8b702689830f2ef8bee1ccb5fd706cf8193f6c6675024fb9f75e7c8c4a6a57b
size 1236918
