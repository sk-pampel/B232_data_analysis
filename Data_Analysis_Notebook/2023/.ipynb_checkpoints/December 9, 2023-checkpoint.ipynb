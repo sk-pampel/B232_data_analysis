version https://git-lfs.github.com/spec/v1
oid sha256:f108fc895b496481a35e24d4fa3a7d457250141ffb9209d2da428a88303f9b1c
size 1063156
