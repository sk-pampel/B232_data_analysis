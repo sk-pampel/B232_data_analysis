version https://git-lfs.github.com/spec/v1
oid sha256:6875f2003567949621a13b8a2e47eb68b50042cb8f315204a3dc6360d4f7928d
size 1837208
