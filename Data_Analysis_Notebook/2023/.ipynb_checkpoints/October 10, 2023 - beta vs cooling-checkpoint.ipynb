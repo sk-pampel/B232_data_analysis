version https://git-lfs.github.com/spec/v1
oid sha256:5fa3d5831d302788370f8069c06232e025dcf6526b809972dde4d457dd2ef493
size 906591
