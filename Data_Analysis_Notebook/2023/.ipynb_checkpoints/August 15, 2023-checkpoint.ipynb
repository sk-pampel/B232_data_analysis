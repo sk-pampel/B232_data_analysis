version https://git-lfs.github.com/spec/v1
oid sha256:f25486ec6687f623bdb9948ea0da9c80adc511b7b2e2968b32ae1c0878b899ec
size 1251550
