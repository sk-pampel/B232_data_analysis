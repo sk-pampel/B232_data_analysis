version https://git-lfs.github.com/spec/v1
oid sha256:6cc1d0dc0cb3cbfdf145004092bfbb4cf3b022ccf3652d21cfe437143df5ed10
size 735398
