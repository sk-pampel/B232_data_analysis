version https://git-lfs.github.com/spec/v1
oid sha256:fc97a4f87ce54236e5cd9255ae53439bf4acbe59f7c6c5dce105d42ba0e0cf73
size 881768
