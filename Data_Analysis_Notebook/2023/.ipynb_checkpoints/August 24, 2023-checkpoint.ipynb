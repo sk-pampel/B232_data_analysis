version https://git-lfs.github.com/spec/v1
oid sha256:b7af1d46f9012d2be6c427ac5b574d601a3395b4c7966975017a05a1ead4bb72
size 1563261
