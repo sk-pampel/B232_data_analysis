version https://git-lfs.github.com/spec/v1
oid sha256:6c012ccfdd4b4199e8b78c67412c261bd889a8c7fd9228fc2933ab4b00c8f131
size 1852223
