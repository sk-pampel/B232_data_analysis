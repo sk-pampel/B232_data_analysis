version https://git-lfs.github.com/spec/v1
oid sha256:ba516f01e4be800f4fa8e9291275f43355594de3092f8d1fea2210e40c5d492e
size 1866140
