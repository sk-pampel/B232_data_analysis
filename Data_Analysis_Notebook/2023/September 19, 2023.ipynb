version https://git-lfs.github.com/spec/v1
oid sha256:d20b4e66843117aa0020a16642f33e8e8ac06e8b4f68e3c1fdacf64affc6fc70
size 878561
