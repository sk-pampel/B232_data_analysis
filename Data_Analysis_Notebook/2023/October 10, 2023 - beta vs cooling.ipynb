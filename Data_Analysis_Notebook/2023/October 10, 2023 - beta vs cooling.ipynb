version https://git-lfs.github.com/spec/v1
oid sha256:4cba3b4513ac132fc42441dd91c2675445c897bcfe534e7da40374ceefdf7aad
size 905174
