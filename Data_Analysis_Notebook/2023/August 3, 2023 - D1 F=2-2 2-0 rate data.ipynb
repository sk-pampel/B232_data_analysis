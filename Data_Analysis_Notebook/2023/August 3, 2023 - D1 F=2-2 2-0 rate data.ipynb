version https://git-lfs.github.com/spec/v1
oid sha256:f839be2693aa214c2aa13ddd6a5a79172eaaaa70412e46f738c86ef3be545ca2
size 1829184
