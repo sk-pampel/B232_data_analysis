version https://git-lfs.github.com/spec/v1
oid sha256:e4e1d1b955cf3e191765da37519105684356caa03f39b01dde8c7b0a8290cdbe
size 692081
