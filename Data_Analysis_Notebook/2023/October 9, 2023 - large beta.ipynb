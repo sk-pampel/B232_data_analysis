version https://git-lfs.github.com/spec/v1
oid sha256:29f6dbda0663657af94c2d8e12e575ec758c8cb430223123b4cdff4ad95dfa54
size 1008853
