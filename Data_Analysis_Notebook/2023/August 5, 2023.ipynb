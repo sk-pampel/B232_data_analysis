version https://git-lfs.github.com/spec/v1
oid sha256:fdac6d1e0f2e5e2a87166ad43782b381446635b2492e57689babca9277b6303d
size 1387399
