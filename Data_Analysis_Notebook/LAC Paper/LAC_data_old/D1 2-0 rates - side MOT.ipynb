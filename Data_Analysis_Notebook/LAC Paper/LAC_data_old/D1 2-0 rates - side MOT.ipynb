{
 "cells": [
  {
   "cell_type": "code",
   "execution_count": 2,
   "metadata": {
    "ExecuteTime": {
     "end_time": "2018-02-28T17:05:43.686529Z",
     "start_time": "2018-02-28T17:05:43.682527Z"
    }
   },
   "outputs": [],
   "source": [
    "# current date, for retrieving data from proper location.\n",
    "year = \"2023\"\n",
    "month = \"August\""
   ]
  },
  {
   "cell_type": "markdown",
   "metadata": {},
   "source": [
    "## Imports and initialization"
   ]
  },
  {
   "cell_type": "code",
   "execution_count": 3,
   "metadata": {
    "ExecuteTime": {
     "end_time": "2018-02-28T17:06:30.493587Z",
     "start_time": "2018-02-28T17:06:23.025745Z"
    },
    "hidden": true
   },
   "outputs": [
    {
     "data": {
      "text/html": [
       "        <script type=\"text/javascript\">\n",
       "        window.PlotlyConfig = {MathJaxConfig: 'local'};\n",
       "        if (window.MathJax && window.MathJax.Hub && window.MathJax.Hub.Config) {window.MathJax.Hub.Config({SVG: {font: \"STIX-Web\"}});}\n",
       "        if (typeof require !== 'undefined') {\n",
       "        require.undef(\"plotly\");\n",
       "        requirejs.config({\n",
       "            paths: {\n",
       "                'plotly': ['https://cdn.plot.ly/plotly-2.18.2.min']\n",
       "            }\n",
       "        });\n",
       "        require(['plotly'], function(Plotly) {\n",
       "            window._Plotly = Plotly;\n",
       "        });\n",
       "        }\n",
       "        </script>\n",
       "        "
      ]
     },
     "metadata": {},
     "output_type": "display_data"
    }
   ],
   "source": [
    "from matplotlib import gridspec\n",
    "import scipy.signal\n",
    "%config Completer.use_jedi = False\n",
    "import numpy as np \n",
    "from numpy import array as arr\n",
    "import pandas as pd\n",
    "import plotly.offline as pltly\n",
    "pltly.init_notebook_mode(connected=True)\n",
    "from plotly import graph_objs as go\n",
    "import math\n",
    "import scipy.optimize as opt\n",
    "from scipy import ndimage\n",
    "from scipy.optimize import curve_fit\n",
    "import matplotlib.pyplot as plt\n",
    "from matplotlib import cm\n",
    "from matplotlib.colors import ListedColormap\n",
    "import warnings \n",
    "warnings.filterwarnings('module')\n",
    "from datetime import datetime\n",
    "import uncertainties.unumpy\n",
    "import IPython\n",
    "import pandas as pd\n",
    "import pickle\n",
    "from matplotlib.ticker import ScalarFormatter\n",
    "from matplotlib.pyplot import *\n",
    "from matplotlib import rcParams\n",
    "from matplotlib import style\n",
    "from mpl_toolkits.axes_grid1 import make_axes_locatable\n",
    "import matplotlib.pyplot as plt\n",
    "import matplotlib.dates as mdates\n",
    "%matplotlib inline\n",
    "\n",
    "# ## set matplotlib plot defaults :D\n",
    "# Style controls many default colors in matplotlib plots.\n",
    "# Change the following if you don't like dark backgrounds. Many other options.\n",
    "import matplotlib as mpl\n",
    "\n",
    "if False:\n",
    "    # My Dark Settings\n",
    "    style.use(['dark_background'])\n",
    "    c = '#0A0A0A'\n",
    "    mpl.rcParams['axes.facecolor'] = '#000000'\n",
    "    mpl.rcParams['figure.edgecolor'] = c\n",
    "    mpl.rcParams['figure.facecolor'] = c\n",
    "else:\n",
    "    # My Light Settings\n",
    "    style.use(['default'])\n",
    "    c = '#FFFFFF'\n",
    "    mpl.rcParams['axes.facecolor'] = c\n",
    "    mpl.rcParams['figure.edgecolor'] = c\n",
    "    mpl.rcParams['figure.facecolor'] = c  \n",
    "# the default cycling of colors in this mode isn't very good.\n",
    "#rcParams['axes.prop_cycle'] = (\"cycler('color', ['r','c','g','#FFFFFF','b']) + cycler('marker', ['o','v','<','>','^'])\")\n",
    "### General\n",
    "mpl.rcParams['figure.figsize'] = (25.0, 8.0)\n",
    "mpl.rcParams['axes.grid'] = True\n",
    "mpl.rcParams['axes.formatter.useoffset'] = False\n",
    "mpl.rcParams['grid.alpha'] = 0.15\n",
    "mpl.rcParams['axes.formatter.limits'] = (-3,3)\n",
    "mpl.rcParams['image.cmap'] = 'viridis'\n",
    "#rcParams['image.cmap'] = dark_viridis_cmap\n",
    "# to see all available options, decomment this line.\n",
    "# print(mpl.rcParams)\n",
    "mpl.rcParams['font.size'] = 14\n",
    "viridis = cm.get_cmap('viridis', 256)\n",
    "dark_viridis = []\n",
    "bl = 0.15\n",
    "for i in range(256):\n",
    "    dark_viridis.append(list(viridis(i)))\n",
    "    dark_viridis[-1][0] = dark_viridis[-1][0] *(bl+(1-bl)*i/255)\n",
    "    dark_viridis[-1][1] = dark_viridis[-1][1] *(bl+(1-bl)*i/255)\n",
    "    dark_viridis[-1][2] = dark_viridis[-1][2] *(bl+(1-bl)*i/255)\n",
    "dark_viridis_cmap = ListedColormap(dark_viridis)\n",
    "import mpl_toolkits.axes_grid1\n",
    "import matplotlib.gridspec as gridspec\n",
    "from skimage.transform import iradon"
   ]
  },
  {
   "cell_type": "code",
   "execution_count": 4,
   "metadata": {
    "ExecuteTime": {
     "end_time": "2018-02-28T17:06:46.067900Z",
     "start_time": "2018-02-28T17:06:31.753411Z"
    },
    "hidden": true
   },
   "outputs": [],
   "source": [
    "import sys\n",
    "sys.path.append(\"..\")\n",
    "from Analysis_Python_Files.fitters.Gaussian import dip, double_dip,arb_1d_sum, bump, bump2, bump3, bump2r, gaussian, bump3_Sym, gaussian_2d, poly_nom\n",
    "from Analysis_Python_Files.fitters.Sinc_Squared import sinc_sq3_Sym, sinc_sq\n",
    "from Analysis_Python_Files.fitters import decaying_cos, exponential_decay_fixed_limit as decay, linear, LargeBeamMotExpansion, n1State\n",
    "import Analysis_Python_Files.PictureWindow as pw\n",
    "import Analysis_Python_Files.ExpFile as exp\n",
    "# import Analysis_Python_Files.UnitConversion as uc\n",
    "exp.setPath(day, month, year)\n",
    "import Analysis_Python_Files.PlotlyPlotters as pp\n",
    "import Analysis_Python_Files.MatplotlibPlotters as mp\n",
    "import Analysis_Python_Files.MatplotlibPlotters_pres as mp_pres\n",
    "import Analysis_Python_Files.MainAnalysis as ma\n",
    "import Analysis_Python_Files.AnalysisHelpers as ah\n",
    "import Analysis_Python_Files.Miscellaneous as misc\n",
    "import Analysis_Python_Files.PopulationAnalysis as pa\n",
    "import Analysis_Python_Files.MarksConstants as mc\n",
    "import Analysis_Python_Files.fitters as fitters\n",
    "import Analysis_Python_Files.LoadingFunctions as lf\n",
    "import Analysis_Python_Files.FreeSpaceImaging as fsi\n",
    "import Analysis_Python_Files.TransferAnalysis as ta\n",
    "import Analysis_Python_Files.LightShiftCalculations as lsc\n",
    "import Analysis_Python_Files.CalibrationAnalysis as ca\n",
    "# It's important to explicitly import calPoint here or else pickling doesn't work.\n",
    "from Analysis_Python_Files.CalibrationAnalysis import calPoint \n",
    "from Analysis_Python_Files.TransferAnalysisOptions import TransferAnalysisOptions as ao\n",
    "import Analysis_Python_Files.ThresholdOptions as to\n",
    "import Analysis_Python_Files.TransferAnalysisOptions as tao\n",
    "from importlib import reload\n",
    "def reloadMyModules(day_=None, month_=None, year_=None):\n",
    "    reload(exp)\n",
    "    if day_ is None:\n",
    "        day_ = day\n",
    "    if month_ is None:\n",
    "        month_ = month\n",
    "    if year_ is None:\n",
    "        year_ = year\n",
    "    exp.setPath(day_,month_,year_)\n",
    "    reload(lf)\n",
    "    reload(misc)\n",
    "    reload(ma)\n",
    "    reload(ah)\n",
    "    reload(pp)\n",
    "    reload(mp)\n",
    "    reload(fitters)\n",
    "    reload(fsi)\n",
    "    reload(ta)\n",
    "    reload(pa)\n",
    "    reload(tao)\n",
    "    reload(to)\n",
    "    reload(ca)\n",
    "reloadMyModules()"
   ]
  },
  {
   "cell_type": "markdown",
   "metadata": {},
   "source": [
    "import imp\n",
    "def reloadAll(day_=None, diplsayErrors=False):\n",
    "    for module in sys.modules.values():\n",
    "        try:\n",
    "            reload(module)\n",
    "        except NotImplementedError:\n",
    "            if diplsayErrors:\n",
    "                print(module, 'NotImplementedError')\n",
    "        except AttributeError:\n",
    "            if diplsayErrors:\n",
    "                print(module, 'AttributeError')\n",
    "        except TypeError:\n",
    "            if diplsayErrors:\n",
    "                print(module, 'ValueError')\n",
    "        except ImportError:\n",
    "            if diplsayErrors:\n",
    "                print(module, 'ImportError')\n",
    "    if day_ is None:\n",
    "        day_ = day\n",
    "    setPath(day_,month,year)"
   ]
  },
  {
   "cell_type": "code",
   "execution_count": 5,
   "metadata": {},
   "outputs": [],
   "source": [
    "atomlocs = [2, 2, 3, 3, 1]"
   ]
  },
  {
   "cell_type": "code",
   "execution_count": 6,
   "metadata": {
    "tags": []
   },
   "outputs": [],
   "source": [
    "loadNone = tao.condition([0,0,0], [0,1,2], [0,0,0])\n",
    "\n",
    "loadOne = tao.condition([0,0,0], [0,1,2], [1,1,1], numRequired = 1, name = 'Load any one tweezer')\n",
    "# tao.condition([0 = 1st pic, 1 = 2nd pic],\n",
    "\n",
    "loadTwo = tao.condition([0,0,0], [0,1,2], [1,1,1], numRequired = 2, name = 'Load any two tweezers')\n",
    "loadThree = tao.condition([0,0,0], [0,1,2], [1,1,1], numRequired = 3, name = 'Load all three tweezers')\n",
    "loadOuter = tao.condition([0,0,0], [0,1,2], [1,0,1], numRequired = 2, name = 'Load outer tweezers')\n",
    "\n",
    "finCenter = tao.condition([1],[1],[1], markerWhichPicList=[1], markerLocList=[1])\n",
    "# \n",
    "# loadOpt= tao.TransferAnalysisOptions(atomlocs, atomlocs, 0,1, [[loadOne], [loadTwo], [loadThree]],[finCenter for _ in range(3)]);\n",
    "loadOpt= tao.TransferAnalysisOptions(atomlocs, atomlocs, 0,1, [[loadOne], [loadTwo]],[finCenter for _ in range(2)]);\n",
    "loadOneOpt = tao.TransferAnalysisOptions(atomlocs, atomlocs, 0,1, [[loadOne]],[finCenter for _ in range(1)]);\n",
    "loadTwoOpt = tao.TransferAnalysisOptions(atomlocs, atomlocs, 0,1, [[loadTwo]],[finCenter for _ in range(1)]);\n",
    "loadThreeOpt = tao.TransferAnalysisOptions(atomlocs, atomlocs, 0,1, [[loadThree]],[finCenter for _ in range(1)]);\n",
    "loadOuterOpt = tao.TransferAnalysisOptions(atomlocs, atomlocs, 0,1, [[loadOuter]],[finCenter for _ in range(1)]);"
   ]
  },
  {
   "cell_type": "code",
   "execution_count": 41,
   "metadata": {},
   "outputs": [],
   "source": [
    "def decay_exponential(x, A, k, C):\n",
    "    return A * np.exp(-k * x) + C\n",
    "dpi = 100"
   ]
  },
  {
   "cell_type": "markdown",
   "metadata": {},
   "source": [
    "# D1 F=2-1' Blue"
   ]
  },
  {
   "cell_type": "markdown",
   "metadata": {},
   "source": [
    "## 700 MHz"
   ]
  },
  {
   "cell_type": "code",
   "execution_count": 85,
   "metadata": {
    "tags": []
   },
   "outputs": [
    {
     "name": "stdout",
     "output_type": "stream",
     "text": [
      "Number of Pictures: 800; Picture Dimensions: 5 x 10\n",
      "Variations: 8;\tRepetitions: 50;\tExp File Version: 4;\n",
      "Experiment started at (H:M:S) 14:32:53: on (Y-M-D) 2023-8-28, And ended at 14:36:15: on 2023-8-28\n",
      "Experiment Notes: HDF5 NOT ANNOTATED: please call exp.Annotate() to annotate this file.\n",
      "\n",
      "gamma = -8.435104389472708e-05 gamma uncertainty = nan\n"
     ]
    },
    {
     "name": "stderr",
     "output_type": "stream",
     "text": [
      "/var/folders/p1/sslzk5t517d2pwp06md4xf_w0000gn/T/ipykernel_842/2854761748.py:29: RuntimeWarning:\n",
      "\n",
      "invalid value encountered in sqrt\n",
      "\n"
     ]
    }
   ],
   "source": [
    "##pulse duration\n",
    "reloadMyModules(28)\n",
    "fileId = 26\n",
    "threshold = 75\n",
    "dataset1 = ta.standardTransferAnalysis(fileId, loadOneOpt, tOptions = [to.ThresholdOptions(manualThreshold = True, manualThresholdValue = threshold)]);\n",
    "(tferAtomsVarAvg, tferAtomsVarErrs, loadAtomsVarAvg, initPicCounts, keyName, key1, repetitions, initThresholds, \n",
    "            fits, avgTferData1, avgTferErr1, avgFit, avgPics, genAvgs, genErrs, tferVarAvg, tferVarErr, initAtomImages, \n",
    "            tferAtomImages, tferPicCounts, tferThresholds, fitModules, basicInfoStr, ensembleHits, tOptions, analysisOpts,\n",
    "            tferAtomsPs, tferAtomsPs, tferList, isAnnotated, hmm) = dataset1\n",
    "color1 = 'tab:blue'\n",
    "upperbound = []\n",
    "lowerbound = []\n",
    "for i in np.arange(0,len(avgTferErr1)):\n",
    "    up = avgTferErr1[i][0]\n",
    "    lo = avgTferErr1[i][1]\n",
    "    upperbound.append(up)  \n",
    "    lowerbound.append(lo)\n",
    "err1= [upperbound,lowerbound]\n",
    "\n",
    "avgTferData1[0] = 0.8\n",
    "\n",
    "x_data = key1\n",
    "y_data = avgTferData1\n",
    "initial_guess = [max(y_data), 0.1, min(y_data)]\n",
    "popt, pcov = curve_fit(decay_exponential, x_data, y_data, p0=initial_guess)\n",
    "x_fit = np.linspace(min(x_data), max(x_data), 100)\n",
    "y_fit = decay_exponential(x_fit, *popt)\n",
    "decay_constant = popt[1]\n",
    "decay_constant_uncertainty = np.sqrt(pcov[1, 1])\n",
    "one_over_e_time = 1 / decay_constant\n",
    "one_over_e_time_uncertainty = decay_constant_uncertainty / decay_constant\n",
    "\n",
    "gamma_700_F21 = decay_constant\n",
    "gamma_700_unc_F21 = decay_constant_uncertainty\n",
    "tau_700_F21 = one_over_e_time\n",
    "tau_700_unc_F21 = one_over_e_time_uncertainty\n",
    "print('gamma =',decay_constant,'gamma uncertainty =',decay_constant_uncertainty)"
   ]
  },
  {
   "cell_type": "markdown",
   "metadata": {},
   "source": [
    "## 650 MHz"
   ]
  },
  {
   "cell_type": "code",
   "execution_count": 78,
   "metadata": {
    "jupyter": {
     "source_hidden": true
    },
    "tags": []
   },
   "outputs": [
    {
     "name": "stdout",
     "output_type": "stream",
     "text": [
      "Number of Pictures: 3200; Picture Dimensions: 5 x 10\n",
      "Variations: 8;\tRepetitions: 200;\tExp File Version: 4;\n",
      "Experiment started at (H:M:S) 14:5:10: on (Y-M-D) 2023-8-28, And ended at 14:16:55: on 2023-8-28\n",
      "Experiment Notes: HDF5 NOT ANNOTATED: please call exp.Annotate() to annotate this file.\n",
      "\n",
      "gamma = 1.561854633254983 gamma uncertainty = 0.2855333368250058\n"
     ]
    }
   ],
   "source": [
    "##pulse duration\n",
    "reloadMyModules(28)\n",
    "fileId = 24\n",
    "threshold = 85\n",
    "dataset1 = ta.standardTransferAnalysis(fileId, loadTwoOpt, tOptions = [to.ThresholdOptions(manualThreshold = True, manualThresholdValue = threshold)]);\n",
    "(tferAtomsVarAvg, tferAtomsVarErrs, loadAtomsVarAvg, initPicCounts, keyName, key1, repetitions, initThresholds, \n",
    "            fits, avgTferData1, avgTferErr1, avgFit, avgPics, genAvgs, genErrs, tferVarAvg, tferVarErr, initAtomImages, \n",
    "            tferAtomImages, tferPicCounts, tferThresholds, fitModules, basicInfoStr, ensembleHits, tOptions, analysisOpts,\n",
    "            tferAtomsPs, tferAtomsPs, tferList, isAnnotated, hmm) = dataset1\n",
    "color1 = 'tab:blue'\n",
    "upperbound = []\n",
    "lowerbound = []\n",
    "for i in np.arange(0,len(avgTferErr1)):\n",
    "    up = avgTferErr1[i][0]\n",
    "    lo = avgTferErr1[i][1]\n",
    "    upperbound.append(up)  \n",
    "    lowerbound.append(lo)\n",
    "err1= [upperbound,lowerbound]\n",
    "\n",
    "avgTferData1[0] = 0.8\n",
    "avgTferData1[3] = 0.3\n",
    "x_data = key1\n",
    "y_data = avgTferData1\n",
    "initial_guess = [max(y_data), 0.1, min(y_data)]\n",
    "popt, pcov = curve_fit(decay_exponential, x_data, y_data, p0=initial_guess)\n",
    "x_fit = np.linspace(min(x_data), max(x_data), 100)\n",
    "y_fit = decay_exponential(x_fit, *popt)\n",
    "decay_constant = popt[1]\n",
    "decay_constant_uncertainty = np.sqrt(pcov[1, 1])\n",
    "one_over_e_time = 1 / decay_constant\n",
    "one_over_e_time_uncertainty = decay_constant_uncertainty / decay_constant\n",
    "\n",
    "gamma_650_F21 = decay_constant\n",
    "gamma_650_unc_F21 = decay_constant_uncertainty\n",
    "tau_650_F21 = one_over_e_time\n",
    "tau_650_unc_F21 = one_over_e_time_uncertainty\n",
    "print('gamma =',decay_constant,'gamma uncertainty =',decay_constant_uncertainty)"
   ]
  },
  {
   "cell_type": "markdown",
   "metadata": {},
   "source": [
    "## 600 MHz"
   ]
  },
  {
   "cell_type": "code",
   "execution_count": 79,
   "metadata": {
    "jupyter": {
     "source_hidden": true
    },
    "tags": []
   },
   "outputs": [
    {
     "name": "stdout",
     "output_type": "stream",
     "text": [
      "Number of Pictures: 3200; Picture Dimensions: 5 x 10\n",
      "Variations: 8;\tRepetitions: 200;\tExp File Version: 4;\n",
      "Experiment started at (H:M:S) 13:51:2: on (Y-M-D) 2023-8-28, And ended at 14:2:50: on 2023-8-28\n",
      "Experiment Notes: HDF5 NOT ANNOTATED: please call exp.Annotate() to annotate this file.\n",
      "\n",
      "gamma = 0.7982442757443912 gamma uncertainty = 0.1484495646875651\n"
     ]
    }
   ],
   "source": [
    "##pulse duration\n",
    "reloadMyModules(28)\n",
    "fileId = 23\n",
    "threshold = 85\n",
    "dataset1 = ta.standardTransferAnalysis(fileId, loadTwoOpt, tOptions = [to.ThresholdOptions(manualThreshold = True, manualThresholdValue = threshold)]);\n",
    "(tferAtomsVarAvg, tferAtomsVarErrs, loadAtomsVarAvg, initPicCounts, keyName, key1, repetitions, initThresholds, \n",
    "            fits, avgTferData1, avgTferErr1, avgFit, avgPics, genAvgs, genErrs, tferVarAvg, tferVarErr, initAtomImages, \n",
    "            tferAtomImages, tferPicCounts, tferThresholds, fitModules, basicInfoStr, ensembleHits, tOptions, analysisOpts,\n",
    "            tferAtomsPs, tferAtomsPs, tferList, isAnnotated, hmm) = dataset1\n",
    "color1 = 'tab:blue'\n",
    "upperbound = []\n",
    "lowerbound = []\n",
    "for i in np.arange(0,len(avgTferErr1)):\n",
    "    up = avgTferErr1[i][0]\n",
    "    lo = avgTferErr1[i][1]\n",
    "    upperbound.append(up)  \n",
    "    lowerbound.append(lo)\n",
    "err1= [upperbound,lowerbound]\n",
    "\n",
    "avgTferData1[0] = 0.8\n",
    "avgTferData1[6] = 0.23\n",
    "x_data = key1\n",
    "y_data = avgTferData1\n",
    "initial_guess = [max(y_data), 0.1, min(y_data)]\n",
    "popt, pcov = curve_fit(decay_exponential, x_data, y_data, p0=initial_guess)\n",
    "x_fit = np.linspace(min(x_data), max(x_data), 100)\n",
    "y_fit = decay_exponential(x_fit, *popt)\n",
    "decay_constant = popt[1]\n",
    "decay_constant_uncertainty = np.sqrt(pcov[1, 1])\n",
    "one_over_e_time = 1 / decay_constant\n",
    "one_over_e_time_uncertainty = decay_constant_uncertainty / decay_constant\n",
    "\n",
    "\n",
    "gamma_600_F21 = decay_constant\n",
    "gamma_600_unc_F21 = decay_constant_uncertainty\n",
    "tau_600_F21 = one_over_e_time\n",
    "tau_600_unc_F21 = one_over_e_time_uncertainty\n",
    "print('gamma =',decay_constant,'gamma uncertainty =',decay_constant_uncertainty)"
   ]
  },
  {
   "cell_type": "markdown",
   "metadata": {},
   "source": [
    "## 550 MHz"
   ]
  },
  {
   "cell_type": "code",
   "execution_count": 51,
   "metadata": {
    "jupyter": {
     "source_hidden": true
    },
    "tags": []
   },
   "outputs": [
    {
     "name": "stdout",
     "output_type": "stream",
     "text": [
      "Number of Pictures: 4800; Picture Dimensions: 5 x 10\n",
      "Variations: 8;\tRepetitions: 300;\tExp File Version: 4;\n",
      "Experiment started at (H:M:S) 12:55:10: on (Y-M-D) 2023-8-28, And ended at 13:12:55: on 2023-8-28\n",
      "Experiment Notes: HDF5 NOT ANNOTATED: please call exp.Annotate() to annotate this file.\n",
      "\n",
      "gamma= 0.489117937248533 gamma uncertainty= 0.07704193394018768\n"
     ]
    }
   ],
   "source": [
    "##pulse duration\n",
    "reloadMyModules(28)\n",
    "fileId = 20\n",
    "threshold = 75\n",
    "dataset1 = ta.standardTransferAnalysis(fileId, loadTwoOpt, tOptions = [to.ThresholdOptions(manualThreshold = True, manualThresholdValue = threshold)]);\n",
    "(tferAtomsVarAvg, tferAtomsVarErrs, loadAtomsVarAvg, initPicCounts, keyName, key1, repetitions, initThresholds, \n",
    "            fits, avgTferData1, avgTferErr1, avgFit, avgPics, genAvgs, genErrs, tferVarAvg, tferVarErr, initAtomImages, \n",
    "            tferAtomImages, tferPicCounts, tferThresholds, fitModules, basicInfoStr, ensembleHits, tOptions, analysisOpts,\n",
    "            tferAtomsPs, tferAtomsPs, tferList, isAnnotated, hmm) = dataset1\n",
    "color1 = 'tab:blue'\n",
    "upperbound = []\n",
    "lowerbound = []\n",
    "for i in np.arange(0,len(avgTferErr1)):\n",
    "    up = avgTferErr1[i][0]\n",
    "    lo = avgTferErr1[i][1]\n",
    "    upperbound.append(up)  \n",
    "    lowerbound.append(lo)\n",
    "err1= [upperbound,lowerbound]\n",
    "avgTferData1[0] = 0.8\n",
    "x_data = key1\n",
    "y_data = avgTferData1\n",
    "initial_guess = [max(y_data), 0.1, min(y_data)]\n",
    "popt, pcov = curve_fit(decay_exponential, x_data, y_data, p0=initial_guess)\n",
    "x_fit = np.linspace(min(x_data), max(x_data), 100)\n",
    "y_fit = decay_exponential(x_fit, *popt)\n",
    "decay_constant = popt[1]\n",
    "decay_constant_uncertainty = np.sqrt(pcov[1, 1])\n",
    "one_over_e_time = 1 / decay_constant\n",
    "one_over_e_time_uncertainty = decay_constant_uncertainty / decay_constant\n",
    "# decay_constant_str = f\"{decay_constant:.4f}\"\n",
    "# decay_constant_uncertainty_str = f\"{decay_constant_uncertainty:.4f}\"\n",
    "# legend_label = fr\"$\\Gamma$ = {decay_constant_str} ± {decay_constant_uncertainty_str}, $\\tau$ = {one_over_e_time:.4f} ± {one_over_e_time_uncertainty:.4f}\"\n",
    "# ticks = np.arange(key1[0], max(key1),len(key1))\n",
    "# ax.errorbar(key1,avgTferData1, yerr=err1,ls='none',ecolor=color1,marker = 'o',markersize = 10,\n",
    "            # markerfacecolor=color1,markeredgecolor='k',capsize=5, label=r'$ \\Delta(2 \\rightarrow 0) = 550 \\ \\mathrm{MHz} \\ \\mathrm{D1 \\ F=2-1} $')\n",
    "# plt.plot(x_fit, y_fit, 'gray',label=legend_label)\n",
    "# plt.legend(loc= 'upper right', ncol = 1,prop={'size': 15})\n",
    "# plt.ylim(0,1)\n",
    "# plt.ylabel('survival')\n",
    "# plt.xlabel(r'pulse duration (ms)')\n",
    "# plt.rcParams[\"axes.linewidth\"] = 1.5\n",
    "# plt.ticklabel_format(style='plain') \n",
    "\n",
    "gamma_550_F21 = decay_constant\n",
    "gamma_550_unc_F21 = decay_constant_uncertainty\n",
    "tau_550_F21 = one_over_e_time\n",
    "tau_550_unc_F21 = one_over_e_time_uncertainty\n",
    "print('gamma=',decay_constant,'gamma uncertainty=',decay_constant_uncertainty)"
   ]
  },
  {
   "cell_type": "markdown",
   "metadata": {},
   "source": [
    "## 500 MHz"
   ]
  },
  {
   "cell_type": "code",
   "execution_count": 49,
   "metadata": {
    "jupyter": {
     "source_hidden": true
    },
    "tags": []
   },
   "outputs": [
    {
     "name": "stdout",
     "output_type": "stream",
     "text": [
      "Number of Pictures: 3200; Picture Dimensions: 5 x 10\n",
      "Variations: 8;\tRepetitions: 200;\tExp File Version: 4;\n",
      "Experiment started at (H:M:S) 11:55:58: on (Y-M-D) 2023-8-28, And ended at 12:7:50: on 2023-8-28\n",
      "Experiment Notes: HDF5 NOT ANNOTATED: please call exp.Annotate() to annotate this file.\n",
      "\n",
      "gamma= 0.43699069885007585 gamma uncertainty= 0.0816771054749239\n"
     ]
    }
   ],
   "source": [
    "##pulse duration\n",
    "reloadMyModules(28)\n",
    "fileId = 16\n",
    "threshold = 85\n",
    "dataset1 = ta.standardTransferAnalysis(fileId, loadTwoOpt, tOptions = [to.ThresholdOptions(manualThreshold = True, manualThresholdValue = threshold)]);\n",
    "(tferAtomsVarAvg, tferAtomsVarErrs, loadAtomsVarAvg, initPicCounts, keyName, key1, repetitions, initThresholds, \n",
    "            fits, avgTferData1, avgTferErr1, avgFit, avgPics, genAvgs, genErrs, tferVarAvg, tferVarErr, initAtomImages, \n",
    "            tferAtomImages, tferPicCounts, tferThresholds, fitModules, basicInfoStr, ensembleHits, tOptions, analysisOpts,\n",
    "            tferAtomsPs, tferAtomsPs, tferList, isAnnotated, hmm) = dataset1\n",
    "color1 = 'tab:blue'\n",
    "upperbound = []\n",
    "lowerbound = []\n",
    "for i in np.arange(0,len(avgTferErr1)):\n",
    "    up = avgTferErr1[i][0]\n",
    "    lo = avgTferErr1[i][1]\n",
    "    upperbound.append(up)  \n",
    "    lowerbound.append(lo)\n",
    "err1= [upperbound,lowerbound]\n",
    "avgTferData1[0] = 0.8\n",
    "x_data = key1\n",
    "y_data = avgTferData1\n",
    "initial_guess = [max(y_data), 0.1, min(y_data)]\n",
    "popt, pcov = curve_fit(decay_exponential, x_data, y_data, p0=initial_guess)\n",
    "x_fit = np.linspace(min(x_data), max(x_data), 100)\n",
    "y_fit = decay_exponential(x_fit, *popt)\n",
    "decay_constant = popt[1]\n",
    "decay_constant_uncertainty = np.sqrt(pcov[1, 1])\n",
    "one_over_e_time = 1 / decay_constant\n",
    "one_over_e_time_uncertainty = decay_constant_uncertainty / decay_constant\n",
    "# decay_constant_str = f\"{decay_constant:.4f}\"\n",
    "# decay_constant_uncertainty_str = f\"{decay_constant_uncertainty:.4f}\"\n",
    "# legend_label = fr\"$\\Gamma$ = {decay_constant_str} ± {decay_constant_uncertainty_str}, $\\tau$ = {one_over_e_time:.4f} ± {one_over_e_time_uncertainty:.4f}\"\n",
    "# ticks = np.arange(key1[0], max(key1),len(key1))\n",
    "# ax.errorbar(key1,avgTferData1, yerr=err1,ls='none',ecolor=color1,marker = 'o',markersize = 10,\n",
    "#             markerfacecolor=color1,markeredgecolor='k',capsize=5, label=r'$ \\Delta(2 \\rightarrow 0) = 500 \\ \\mathrm{MHz} \\ \\mathrm{D1 \\ F=2-1} $')\n",
    "# plt.plot(x_fit, y_fit, 'gray',label=legend_label)\n",
    "# plt.legend(loc= 'upper right', ncol = 1,prop={'size': 15})\n",
    "# plt.ylim(0,1)\n",
    "# plt.ylabel('survival')\n",
    "# plt.xlabel(r'pulse duration (ms)')\n",
    "# plt.rcParams[\"axes.linewidth\"] = 1.5\n",
    "# plt.ticklabel_format(style='plain') \n",
    "\n",
    "gamma_500_F21 = decay_constant\n",
    "gamma_500_unc_F21 = decay_constant_uncertainty\n",
    "tau_500_F21 = one_over_e_time\n",
    "tau_500_unc_F21 = one_over_e_time_uncertainty\n",
    "print('gamma=',decay_constant,'gamma uncertainty=',decay_constant_uncertainty)"
   ]
  },
  {
   "cell_type": "markdown",
   "metadata": {},
   "source": [
    "## 450 MHz"
   ]
  },
  {
   "cell_type": "code",
   "execution_count": 52,
   "metadata": {
    "jupyter": {
     "source_hidden": true
    },
    "tags": []
   },
   "outputs": [
    {
     "name": "stdout",
     "output_type": "stream",
     "text": [
      "Number of Pictures: 3200; Picture Dimensions: 5 x 10\n",
      "Variations: 8;\tRepetitions: 200;\tExp File Version: 4;\n",
      "Experiment started at (H:M:S) 11:42:15: on (Y-M-D) 2023-8-28, And ended at 11:54:11: on 2023-8-28\n",
      "Experiment Notes:  \n",
      "\n",
      "gamma = 0.4161423903406481 gamma uncertainty = 0.039473787253713796\n"
     ]
    }
   ],
   "source": [
    "##pulse duration\n",
    "reloadMyModules(28)\n",
    "fileId = 15\n",
    "threshold = 75\n",
    "dataset1 = ta.standardTransferAnalysis(fileId, loadTwoOpt, tOptions = [to.ThresholdOptions(manualThreshold = True, manualThresholdValue = threshold)]);\n",
    "(tferAtomsVarAvg, tferAtomsVarErrs, loadAtomsVarAvg, initPicCounts, keyName, key1, repetitions, initThresholds, \n",
    "            fits, avgTferData1, avgTferErr1, avgFit, avgPics, genAvgs, genErrs, tferVarAvg, tferVarErr, initAtomImages, \n",
    "            tferAtomImages, tferPicCounts, tferThresholds, fitModules, basicInfoStr, ensembleHits, tOptions, analysisOpts,\n",
    "            tferAtomsPs, tferAtomsPs, tferList, isAnnotated, hmm) = dataset1\n",
    "color1 = 'tab:blue'\n",
    "upperbound = []\n",
    "lowerbound = []\n",
    "for i in np.arange(0,len(avgTferErr1)):\n",
    "    up = avgTferErr1[i][0]\n",
    "    lo = avgTferErr1[i][1]\n",
    "    upperbound.append(up)  \n",
    "    lowerbound.append(lo)\n",
    "err1= [upperbound,lowerbound]\n",
    "\n",
    "avgTferData1[0] = 0.8\n",
    "x_data = key1\n",
    "y_data = avgTferData1\n",
    "initial_guess = [max(y_data), 0.1, min(y_data)]\n",
    "popt, pcov = curve_fit(decay_exponential, x_data, y_data, p0=initial_guess)\n",
    "x_fit = np.linspace(min(x_data), max(x_data), 100)\n",
    "y_fit = decay_exponential(x_fit, *popt)\n",
    "decay_constant = popt[1]\n",
    "decay_constant_uncertainty = np.sqrt(pcov[1, 1])\n",
    "one_over_e_time = 1 / decay_constant\n",
    "one_over_e_time_uncertainty = decay_constant_uncertainty / decay_constant\n",
    "# decay_constant_str = f\"{decay_constant:.4f}\"\n",
    "# decay_constant_uncertainty_str = f\"{decay_constant_uncertainty:.4f}\"\n",
    "# legend_label = fr\"$\\Gamma$ = {decay_constant_str} ± {decay_constant_uncertainty_str}, $\\tau$ = {one_over_e_time:.4f} ± {one_over_e_time_uncertainty:.4f}\"\n",
    "# ticks = np.arange(key1[0], max(key1),len(key1))\n",
    "# ax.errorbar(key1,avgTferData1, yerr=err1,ls='none',ecolor=color1,marker = 'o',markersize = 10,\n",
    "#             markerfacecolor=color1,markeredgecolor='k',capsize=5, label=r'$ \\Delta(2 \\rightarrow 0) = 450 \\ \\mathrm{MHz} \\ \\mathrm{D1 \\ F=2-1} $')\n",
    "# plt.plot(x_fit, y_fit, 'gray',label=legend_label)\n",
    "# plt.legend(loc= 'upper right', ncol = 1,prop={'size': 15})\n",
    "# plt.ylim(0,1)\n",
    "# plt.ylabel('survival')\n",
    "# plt.xlabel(r'pulse duration (ms)')\n",
    "# plt.rcParams[\"axes.linewidth\"] = 1.5\n",
    "# plt.ticklabel_format(style='plain') \n",
    "\n",
    "gamma_450_F21 = decay_constant\n",
    "gamma_450_unc_F21 = decay_constant_uncertainty\n",
    "tau_450_F21 = one_over_e_time\n",
    "tau_450_unc_F21 = one_over_e_time_uncertainty\n",
    "print('gamma =',decay_constant,'gamma uncertainty =',decay_constant_uncertainty)"
   ]
  },
  {
   "cell_type": "markdown",
   "metadata": {},
   "source": [
    "## 400 MHz"
   ]
  },
  {
   "cell_type": "code",
   "execution_count": 53,
   "metadata": {
    "jupyter": {
     "source_hidden": true
    },
    "tags": []
   },
   "outputs": [
    {
     "name": "stdout",
     "output_type": "stream",
     "text": [
      "Number of Pictures: 3200; Picture Dimensions: 5 x 10\n",
      "Variations: 8;\tRepetitions: 200;\tExp File Version: 4;\n",
      "Experiment started at (H:M:S) 11:29:37: on (Y-M-D) 2023-8-28, And ended at 11:41:34: on 2023-8-28\n",
      "Experiment Notes: HDF5 NOT ANNOTATED: please call exp.Annotate() to annotate this file.\n",
      "\n",
      "gamma = 0.2917964459845522 gamma uncertainty = 0.042669042352324445\n"
     ]
    }
   ],
   "source": [
    "##pulse duration\n",
    "reloadMyModules(28)\n",
    "fileId = 14\n",
    "threshold = 75\n",
    "dataset1 = ta.standardTransferAnalysis(fileId, loadTwoOpt, tOptions = [to.ThresholdOptions(manualThreshold = True, manualThresholdValue = threshold)]);\n",
    "(tferAtomsVarAvg, tferAtomsVarErrs, loadAtomsVarAvg, initPicCounts, keyName, key1, repetitions, initThresholds, \n",
    "            fits, avgTferData1, avgTferErr1, avgFit, avgPics, genAvgs, genErrs, tferVarAvg, tferVarErr, initAtomImages, \n",
    "            tferAtomImages, tferPicCounts, tferThresholds, fitModules, basicInfoStr, ensembleHits, tOptions, analysisOpts,\n",
    "            tferAtomsPs, tferAtomsPs, tferList, isAnnotated, hmm) = dataset1\n",
    "color1 = 'tab:blue'\n",
    "upperbound = []\n",
    "lowerbound = []\n",
    "for i in np.arange(0,len(avgTferErr1)):\n",
    "    up = avgTferErr1[i][0]\n",
    "    lo = avgTferErr1[i][1]\n",
    "    upperbound.append(up)  \n",
    "    lowerbound.append(lo)\n",
    "err1= [upperbound,lowerbound]\n",
    "\n",
    "avgTferData1[0] = 0.8\n",
    "x_data = key1\n",
    "y_data = avgTferData1\n",
    "initial_guess = [max(y_data), 0.1, min(y_data)]\n",
    "popt, pcov = curve_fit(decay_exponential, x_data, y_data, p0=initial_guess)\n",
    "x_fit = np.linspace(min(x_data), max(x_data), 100)\n",
    "y_fit = decay_exponential(x_fit, *popt)\n",
    "decay_constant = popt[1]\n",
    "decay_constant_uncertainty = np.sqrt(pcov[1, 1])\n",
    "one_over_e_time = 1 / decay_constant\n",
    "one_over_e_time_uncertainty = decay_constant_uncertainty / decay_constant\n",
    "# decay_constant_str = f\"{decay_constant:.4f}\"\n",
    "# decay_constant_uncertainty_str = f\"{decay_constant_uncertainty:.4f}\"\n",
    "# legend_label = fr\"$\\Gamma$ = {decay_constant_str} ± {decay_constant_uncertainty_str}, $\\tau$ = {one_over_e_time:.4f} ± {one_over_e_time_uncertainty:.4f}\"\n",
    "# ticks = np.arange(key1[0], max(key1),len(key1))\n",
    "# ax.errorbar(key1,avgTferData1, yerr=err1,ls='none',ecolor=color1,marker = 'o',markersize = 10,\n",
    "#             markerfacecolor=color1,markeredgecolor='k',capsize=5, label=r'$ \\Delta(2 \\rightarrow 0) = 400 \\ \\mathrm{MHz} \\ \\mathrm{D1 \\ F=2-1} $')\n",
    "# plt.plot(x_fit, y_fit, 'gray',label=legend_label)\n",
    "# plt.legend(loc= 'upper right', ncol = 1,prop={'size': 15})\n",
    "# plt.ylim(0,1)\n",
    "# plt.ylabel('survival')\n",
    "# plt.xlabel(r'pulse duration (ms)')\n",
    "# plt.rcParams[\"axes.linewidth\"] = 1.5\n",
    "# plt.ticklabel_format(style='plain') \n",
    "\n",
    "gamma_400_F21 = decay_constant\n",
    "gamma_400_unc_F21 = decay_constant_uncertainty\n",
    "tau_400_F21 = one_over_e_time\n",
    "tau_400_unc_F21 = one_over_e_time_uncertainty\n",
    "print('gamma =',decay_constant,'gamma uncertainty =',decay_constant_uncertainty)"
   ]
  },
  {
   "cell_type": "markdown",
   "metadata": {},
   "source": [
    "## 350 MHz"
   ]
  },
  {
   "cell_type": "code",
   "execution_count": 54,
   "metadata": {
    "jupyter": {
     "source_hidden": true
    },
    "tags": []
   },
   "outputs": [
    {
     "name": "stdout",
     "output_type": "stream",
     "text": [
      "Number of Pictures: 3200; Picture Dimensions: 5 x 10\n",
      "Variations: 8;\tRepetitions: 200;\tExp File Version: 4;\n",
      "Experiment started at (H:M:S) 14:27:1: on (Y-M-D) 2023-8-25, And ended at 14:38:52: on 2023-8-25\n",
      "Experiment Notes: HDF5 NOT ANNOTATED: please call exp.Annotate() to annotate this file.\n",
      "\n",
      "gamma = 0.3613636986619608 gamma uncertainty = 0.05913294797331499\n"
     ]
    }
   ],
   "source": [
    "##pulse duration\n",
    "reloadMyModules(25)\n",
    "fileId = 19\n",
    "threshold = 70\n",
    "dataset1 = ta.standardTransferAnalysis(fileId, loadTwoOpt, tOptions = [to.ThresholdOptions(manualThreshold = True, manualThresholdValue = threshold)]);\n",
    "(tferAtomsVarAvg, tferAtomsVarErrs, loadAtomsVarAvg, initPicCounts, keyName, key1, repetitions, initThresholds, \n",
    "            fits, avgTferData1, avgTferErr1, avgFit, avgPics, genAvgs, genErrs, tferVarAvg, tferVarErr, initAtomImages, \n",
    "            tferAtomImages, tferPicCounts, tferThresholds, fitModules, basicInfoStr, ensembleHits, tOptions, analysisOpts,\n",
    "            tferAtomsPs, tferAtomsPs, tferList, isAnnotated, hmm) = dataset1\n",
    "color1 = 'tab:blue'\n",
    "upperbound = []\n",
    "lowerbound = []\n",
    "for i in np.arange(0,len(avgTferErr1)):\n",
    "    up = avgTferErr1[i][0]\n",
    "    lo = avgTferErr1[i][1]\n",
    "    upperbound.append(up)  \n",
    "    lowerbound.append(lo)\n",
    "err1= [upperbound,lowerbound]\n",
    "\n",
    "\n",
    "avgTferData1[0] = 0.8\n",
    "x_data = key1\n",
    "y_data = avgTferData1\n",
    "initial_guess = [max(y_data), 0.1, min(y_data)]\n",
    "popt, pcov = curve_fit(decay_exponential, x_data, y_data, p0=initial_guess)\n",
    "x_fit = np.linspace(min(x_data), max(x_data), 100)\n",
    "y_fit = decay_exponential(x_fit, *popt)\n",
    "decay_constant = popt[1]\n",
    "decay_constant_uncertainty = np.sqrt(pcov[1, 1])\n",
    "one_over_e_time = 1 / decay_constant\n",
    "one_over_e_time_uncertainty = decay_constant_uncertainty / decay_constant\n",
    "# decay_constant_str = f\"{decay_constant:.4f}\"\n",
    "# decay_constant_uncertainty_str = f\"{decay_constant_uncertainty:.4f}\"\n",
    "# legend_label = fr\"$\\Gamma$ = {decay_constant_str} ± {decay_constant_uncertainty_str}, $\\tau$ = {one_over_e_time:.4f} ± {one_over_e_time_uncertainty:.4f}\"\n",
    "# ticks = np.arange(key1[0], max(key1),len(key1))\n",
    "# ax.errorbar(key1,avgTferData1, yerr=err1,ls='none',ecolor=color1,marker = 'o',markersize = 10,\n",
    "#             markerfacecolor=color1,markeredgecolor='k',capsize=5, label=r'$ \\Delta(2 \\rightarrow 0) = 350 \\ \\mathrm{MHz} \\ \\mathrm{D1 \\ F=2-1} $')\n",
    "# plt.plot(x_fit, y_fit, 'gray',label=legend_label)\n",
    "# plt.legend(loc= 'upper right', ncol = 1,prop={'size': 15})\n",
    "# plt.ylim(0,1)\n",
    "# plt.ylabel('survival')\n",
    "# plt.xlabel(r'pulse duration (ms)')\n",
    "# plt.rcParams[\"axes.linewidth\"] = 1.5\n",
    "# plt.ticklabel_format(style='plain') \n",
    "\n",
    "gamma_350_F21 = decay_constant\n",
    "gamma_350_unc_F21 = decay_constant_uncertainty\n",
    "tau_350_F21 = one_over_e_time\n",
    "tau_350_unc_F21 = one_over_e_time_uncertainty\n",
    "print('gamma =',decay_constant,'gamma uncertainty =',decay_constant_uncertainty)"
   ]
  },
  {
   "cell_type": "markdown",
   "metadata": {},
   "source": [
    "## 300 MHz"
   ]
  },
  {
   "cell_type": "code",
   "execution_count": 55,
   "metadata": {
    "jupyter": {
     "source_hidden": true
    },
    "tags": []
   },
   "outputs": [
    {
     "name": "stdout",
     "output_type": "stream",
     "text": [
      "Number of Pictures: 3200; Picture Dimensions: 5 x 10\n",
      "Variations: 8;\tRepetitions: 200;\tExp File Version: 4;\n",
      "Experiment started at (H:M:S) 12:55:10: on (Y-M-D) 2023-8-25, And ended at 13:7:5: on 2023-8-25\n",
      "Experiment Notes: HDF5 NOT ANNOTATED: please call exp.Annotate() to annotate this file.\n",
      "\n",
      "gamma = 0.3873167184533012 gamma uncertainty = 0.03674558889628024\n"
     ]
    }
   ],
   "source": [
    "##pulse duration\n",
    "reloadMyModules(25)\n",
    "fileId = 15\n",
    "threshold = 75\n",
    "dataset1 = ta.standardTransferAnalysis(fileId, loadTwoOpt, tOptions = [to.ThresholdOptions(manualThreshold = True, manualThresholdValue = threshold)]);\n",
    "(tferAtomsVarAvg, tferAtomsVarErrs, loadAtomsVarAvg, initPicCounts, keyName, key1, repetitions, initThresholds, \n",
    "            fits, avgTferData1, avgTferErr1, avgFit, avgPics, genAvgs, genErrs, tferVarAvg, tferVarErr, initAtomImages, \n",
    "            tferAtomImages, tferPicCounts, tferThresholds, fitModules, basicInfoStr, ensembleHits, tOptions, analysisOpts,\n",
    "            tferAtomsPs, tferAtomsPs, tferList, isAnnotated, hmm) = dataset1\n",
    "color1 = 'tab:blue'\n",
    "upperbound = []\n",
    "lowerbound = []\n",
    "for i in np.arange(0,len(avgTferErr1)):\n",
    "    up = avgTferErr1[i][0]\n",
    "    lo = avgTferErr1[i][1]\n",
    "    upperbound.append(up)  \n",
    "    lowerbound.append(lo)\n",
    "err1= [upperbound,lowerbound]\n",
    "\n",
    "avgTferData1[0] = 0.8\n",
    "\n",
    "x_data = key1\n",
    "y_data = avgTferData1\n",
    "initial_guess = [max(y_data), 0.1, min(y_data)]\n",
    "popt, pcov = curve_fit(decay_exponential, x_data, y_data, p0=initial_guess)\n",
    "x_fit = np.linspace(min(x_data), max(x_data), 100)\n",
    "y_fit = decay_exponential(x_fit, *popt)\n",
    "decay_constant = popt[1]\n",
    "decay_constant_uncertainty = np.sqrt(pcov[1, 1])\n",
    "one_over_e_time = 1 / decay_constant\n",
    "one_over_e_time_uncertainty = decay_constant_uncertainty / decay_constant\n",
    "\n",
    "gamma_300_F21 = decay_constant\n",
    "gamma_300_unc_F21 = decay_constant_uncertainty\n",
    "tau_300_F21 = one_over_e_time\n",
    "tau_300_unc_F21 = one_over_e_time_uncertainty\n",
    "print('gamma =',decay_constant,'gamma uncertainty =',decay_constant_uncertainty)"
   ]
  },
  {
   "cell_type": "markdown",
   "metadata": {},
   "source": [
    "## 250 MHz"
   ]
  },
  {
   "cell_type": "code",
   "execution_count": 56,
   "metadata": {
    "jupyter": {
     "source_hidden": true
    },
    "tags": []
   },
   "outputs": [
    {
     "name": "stdout",
     "output_type": "stream",
     "text": [
      "Number of Pictures: 3200; Picture Dimensions: 5 x 10\n",
      "Variations: 8;\tRepetitions: 200;\tExp File Version: 4;\n",
      "Experiment started at (H:M:S) 11:14:15: on (Y-M-D) 2023-8-28, And ended at 11:26:11: on 2023-8-28\n",
      "Experiment Notes: HDF5 NOT ANNOTATED: please call exp.Annotate() to annotate this file.\n",
      "\n",
      "gamma = 0.2699231906978564 gamma uncertainty = 0.01736545825236745\n"
     ]
    }
   ],
   "source": [
    "##pulse duration\n",
    "reloadMyModules(28)\n",
    "fileId = 13\n",
    "threshold = 75\n",
    "dataset1 = ta.standardTransferAnalysis(fileId, loadTwoOpt, tOptions = [to.ThresholdOptions(manualThreshold = True, manualThresholdValue = threshold)]);\n",
    "(tferAtomsVarAvg, tferAtomsVarErrs, loadAtomsVarAvg, initPicCounts, keyName, key1, repetitions, initThresholds, \n",
    "            fits, avgTferData1, avgTferErr1, avgFit, avgPics, genAvgs, genErrs, tferVarAvg, tferVarErr, initAtomImages, \n",
    "            tferAtomImages, tferPicCounts, tferThresholds, fitModules, basicInfoStr, ensembleHits, tOptions, analysisOpts,\n",
    "            tferAtomsPs, tferAtomsPs, tferList, isAnnotated, hmm) = dataset1\n",
    "color1 = 'tab:blue'\n",
    "upperbound = []\n",
    "lowerbound = []\n",
    "for i in np.arange(0,len(avgTferErr1)):\n",
    "    up = avgTferErr1[i][0]\n",
    "    lo = avgTferErr1[i][1]\n",
    "    upperbound.append(up)  \n",
    "    lowerbound.append(lo)\n",
    "err1= [upperbound,lowerbound]\n",
    "\n",
    "avgTferData1[0] = 0.8\n",
    "\n",
    "x_data = key1\n",
    "y_data = avgTferData1\n",
    "initial_guess = [max(y_data), 0.1, min(y_data)]\n",
    "popt, pcov = curve_fit(decay_exponential, x_data, y_data, p0=initial_guess)\n",
    "x_fit = np.linspace(min(x_data), max(x_data), 100)\n",
    "y_fit = decay_exponential(x_fit, *popt)\n",
    "decay_constant = popt[1]\n",
    "decay_constant_uncertainty = np.sqrt(pcov[1, 1])\n",
    "one_over_e_time = 1 / decay_constant\n",
    "one_over_e_time_uncertainty = decay_constant_uncertainty / decay_constant\n",
    "\n",
    "gamma_250_F21 = decay_constant\n",
    "gamma_250_unc_F21 = decay_constant_uncertainty\n",
    "tau_250_F21 = one_over_e_time\n",
    "tau_250_unc_F21 = one_over_e_time_uncertainty\n",
    "print('gamma =',decay_constant,'gamma uncertainty =',decay_constant_uncertainty)"
   ]
  },
  {
   "cell_type": "markdown",
   "metadata": {},
   "source": [
    "## 200 MHz"
   ]
  },
  {
   "cell_type": "code",
   "execution_count": 57,
   "metadata": {
    "jupyter": {
     "source_hidden": true
    },
    "tags": []
   },
   "outputs": [
    {
     "name": "stdout",
     "output_type": "stream",
     "text": [
      "Number of Pictures: 3200; Picture Dimensions: 5 x 10\n",
      "Variations: 8;\tRepetitions: 200;\tExp File Version: 4;\n",
      "Experiment started at (H:M:S) 10:59:25: on (Y-M-D) 2023-8-28, And ended at 11:11:22: on 2023-8-28\n",
      "Experiment Notes:  \n",
      "\n",
      "gamma = 0.18238157972178348 gamma uncertainty = 0.023275573331323653\n"
     ]
    }
   ],
   "source": [
    "##pulse duration\n",
    "reloadMyModules(28)\n",
    "fileId = 12\n",
    "threshold = 75\n",
    "dataset1 = ta.standardTransferAnalysis(fileId, loadTwoOpt, tOptions = [to.ThresholdOptions(manualThreshold = True, manualThresholdValue = threshold)]);\n",
    "(tferAtomsVarAvg, tferAtomsVarErrs, loadAtomsVarAvg, initPicCounts, keyName, key1, repetitions, initThresholds, \n",
    "            fits, avgTferData1, avgTferErr1, avgFit, avgPics, genAvgs, genErrs, tferVarAvg, tferVarErr, initAtomImages, \n",
    "            tferAtomImages, tferPicCounts, tferThresholds, fitModules, basicInfoStr, ensembleHits, tOptions, analysisOpts,\n",
    "            tferAtomsPs, tferAtomsPs, tferList, isAnnotated, hmm) = dataset1\n",
    "color1 = 'tab:blue'\n",
    "upperbound = []\n",
    "lowerbound = []\n",
    "for i in np.arange(0,len(avgTferErr1)):\n",
    "    up = avgTferErr1[i][0]\n",
    "    lo = avgTferErr1[i][1]\n",
    "    upperbound.append(up)  \n",
    "    lowerbound.append(lo)\n",
    "err1= [upperbound,lowerbound]\n",
    "avgTferData1[0] = 0.8\n",
    "avgTferData1[6] = 0.12\n",
    "x_data = key1\n",
    "y_data = avgTferData1\n",
    "initial_guess = [max(y_data), 0.1, min(y_data)]\n",
    "popt, pcov = curve_fit(decay_exponential, x_data, y_data, p0=initial_guess)\n",
    "x_fit = np.linspace(min(x_data), max(x_data), 100)\n",
    "y_fit = decay_exponential(x_fit, *popt)\n",
    "decay_constant = popt[1]\n",
    "decay_constant_uncertainty = np.sqrt(pcov[1, 1])\n",
    "one_over_e_time = 1 / decay_constant\n",
    "one_over_e_time_uncertainty = decay_constant_uncertainty / decay_constant\n",
    "\n",
    "gamma_200_F21 = decay_constant\n",
    "gamma_200_unc_F21 = decay_constant_uncertainty\n",
    "tau_200_F21 = one_over_e_time\n",
    "tau_200_unc_F21 = one_over_e_time_uncertainty\n",
    "print('gamma =',decay_constant,'gamma uncertainty =',decay_constant_uncertainty)"
   ]
  },
  {
   "cell_type": "markdown",
   "metadata": {},
   "source": [
    "## 175 MHz"
   ]
  },
  {
   "cell_type": "code",
   "execution_count": 58,
   "metadata": {
    "jupyter": {
     "source_hidden": true
    },
    "tags": []
   },
   "outputs": [
    {
     "name": "stdout",
     "output_type": "stream",
     "text": [
      "Number of Pictures: 3200; Picture Dimensions: 5 x 10\n",
      "Variations: 8;\tRepetitions: 200;\tExp File Version: 4;\n",
      "Experiment started at (H:M:S) 10:32:5: on (Y-M-D) 2023-8-28, And ended at 10:43:58: on 2023-8-28\n",
      "Experiment Notes: HDF5 NOT ANNOTATED: please call exp.Annotate() to annotate this file.\n",
      "\n",
      "gamma = 0.18898835108784018 gamma uncertainty = 0.04278419600173172\n"
     ]
    }
   ],
   "source": [
    "##pulse duration\n",
    "reloadMyModules(28)\n",
    "fileId = 10\n",
    "threshold = 65\n",
    "dataset1 = ta.standardTransferAnalysis(fileId, loadTwoOpt, tOptions = [to.ThresholdOptions(manualThreshold = True, manualThresholdValue = threshold)]);\n",
    "(tferAtomsVarAvg, tferAtomsVarErrs, loadAtomsVarAvg, initPicCounts, keyName, key1, repetitions, initThresholds, \n",
    "            fits, avgTferData1, avgTferErr1, avgFit, avgPics, genAvgs, genErrs, tferVarAvg, tferVarErr, initAtomImages, \n",
    "            tferAtomImages, tferPicCounts, tferThresholds, fitModules, basicInfoStr, ensembleHits, tOptions, analysisOpts,\n",
    "            tferAtomsPs, tferAtomsPs, tferList, isAnnotated, hmm) = dataset1\n",
    "color1 = 'tab:blue'\n",
    "upperbound = []\n",
    "lowerbound = []\n",
    "for i in np.arange(0,len(avgTferErr1)):\n",
    "    up = avgTferErr1[i][0]\n",
    "    lo = avgTferErr1[i][1]\n",
    "    upperbound.append(up)  \n",
    "    lowerbound.append(lo)\n",
    "err1= [upperbound,lowerbound]\n",
    "\n",
    "avgTferData1[0] = 0.8\n",
    "x_data = key1\n",
    "y_data = avgTferData1\n",
    "initial_guess = [max(y_data), 0.1, min(y_data)]\n",
    "popt, pcov = curve_fit(decay_exponential, x_data, y_data, p0=initial_guess)\n",
    "x_fit = np.linspace(min(x_data), max(x_data), 100)\n",
    "y_fit = decay_exponential(x_fit, *popt)\n",
    "decay_constant = popt[1]\n",
    "decay_constant_uncertainty = np.sqrt(pcov[1, 1])\n",
    "one_over_e_time = 1 / decay_constant\n",
    "one_over_e_time_uncertainty = decay_constant_uncertainty / decay_constant\n",
    "\n",
    "gamma_175_F21 = decay_constant\n",
    "gamma_175_unc_F21 = decay_constant_uncertainty\n",
    "tau_175_F21 = one_over_e_time\n",
    "tau_175_unc_F21 = one_over_e_time_uncertainty\n",
    "print('gamma =',decay_constant,'gamma uncertainty =',decay_constant_uncertainty)"
   ]
  },
  {
   "cell_type": "markdown",
   "metadata": {
    "tags": []
   },
   "source": [
    "## 162.5 MHz"
   ]
  },
  {
   "cell_type": "code",
   "execution_count": 59,
   "metadata": {
    "jupyter": {
     "source_hidden": true
    },
    "tags": []
   },
   "outputs": [
    {
     "name": "stdout",
     "output_type": "stream",
     "text": [
      "Number of Pictures: 4800; Picture Dimensions: 5 x 10\n",
      "Variations: 8;\tRepetitions: 300;\tExp File Version: 4;\n",
      "Experiment started at (H:M:S) 16:18:47: on (Y-M-D) 2023-8-27, And ended at 16:36:12: on 2023-8-27\n",
      "Experiment Notes: HDF5 NOT ANNOTATED: please call exp.Annotate() to annotate this file.\n",
      "\n",
      "gamma = 0.3481344464747696 gamma uncertainty = 0.053241935221334205\n"
     ]
    }
   ],
   "source": [
    "##pulse duration\n",
    "reloadMyModules(27)\n",
    "fileId = 4\n",
    "threshold = 75\n",
    "dataset1 = ta.standardTransferAnalysis(fileId, loadTwoOpt, tOptions = [to.ThresholdOptions(manualThreshold = True, manualThresholdValue = threshold)]);\n",
    "(tferAtomsVarAvg, tferAtomsVarErrs, loadAtomsVarAvg, initPicCounts, keyName, key1, repetitions, initThresholds, \n",
    "            fits, avgTferData1, avgTferErr1, avgFit, avgPics, genAvgs, genErrs, tferVarAvg, tferVarErr, initAtomImages, \n",
    "            tferAtomImages, tferPicCounts, tferThresholds, fitModules, basicInfoStr, ensembleHits, tOptions, analysisOpts,\n",
    "            tferAtomsPs, tferAtomsPs, tferList, isAnnotated, hmm) = dataset1\n",
    "color1 = 'tab:blue'\n",
    "upperbound = []\n",
    "lowerbound = []\n",
    "for i in np.arange(0,len(avgTferErr1)):\n",
    "    up = avgTferErr1[i][0]\n",
    "    lo = avgTferErr1[i][1]\n",
    "    upperbound.append(up)  \n",
    "    lowerbound.append(lo)\n",
    "err1= [upperbound,lowerbound]\n",
    "avgTferData1[0] = 0.8\n",
    "x_data = key1\n",
    "y_data = avgTferData1\n",
    "initial_guess = [max(y_data), 0.1, min(y_data)]\n",
    "popt, pcov = curve_fit(decay_exponential, x_data, y_data, p0=initial_guess)\n",
    "x_fit = np.linspace(min(x_data), max(x_data), 100)\n",
    "y_fit = decay_exponential(x_fit, *popt)\n",
    "decay_constant = popt[1]\n",
    "decay_constant_uncertainty = np.sqrt(pcov[1, 1])\n",
    "one_over_e_time = 1 / decay_constant\n",
    "one_over_e_time_uncertainty = decay_constant_uncertainty / decay_constant\n",
    "gamma_162_F21 = decay_constant\n",
    "gamma_162_unc_F21 = decay_constant_uncertainty\n",
    "tau_162_F21 = one_over_e_time\n",
    "tau_162_unc_F21 = one_over_e_time_uncertainty\n",
    "print('gamma =',decay_constant,'gamma uncertainty =',decay_constant_uncertainty)"
   ]
  },
  {
   "cell_type": "markdown",
   "metadata": {},
   "source": [
    "## 150 MHz"
   ]
  },
  {
   "cell_type": "code",
   "execution_count": 60,
   "metadata": {
    "jupyter": {
     "source_hidden": true
    },
    "tags": []
   },
   "outputs": [
    {
     "name": "stdout",
     "output_type": "stream",
     "text": [
      "Number of Pictures: 3200; Picture Dimensions: 5 x 10\n",
      "Variations: 8;\tRepetitions: 200;\tExp File Version: 4;\n",
      "Experiment started at (H:M:S) 9:59:27: on (Y-M-D) 2023-8-25, And ended at 10:11:15: on 2023-8-25\n",
      "Experiment Notes: HDF5 NOT ANNOTATED: please call exp.Annotate() to annotate this file.\n",
      "\n",
      "gamma = 0.40350622955313686 gamma uncertainty = 0.0607627485230402\n"
     ]
    }
   ],
   "source": [
    "##pulse duration\n",
    "reloadMyModules(25)\n",
    "fileId = 5\n",
    "threshold = 75\n",
    "dataset1 = ta.standardTransferAnalysis(fileId, loadTwoOpt, tOptions = [to.ThresholdOptions(manualThreshold = True, manualThresholdValue = threshold)]);\n",
    "(tferAtomsVarAvg, tferAtomsVarErrs, loadAtomsVarAvg, initPicCounts, keyName, key1, repetitions, initThresholds, \n",
    "            fits, avgTferData1, avgTferErr1, avgFit, avgPics, genAvgs, genErrs, tferVarAvg, tferVarErr, initAtomImages, \n",
    "            tferAtomImages, tferPicCounts, tferThresholds, fitModules, basicInfoStr, ensembleHits, tOptions, analysisOpts,\n",
    "            tferAtomsPs, tferAtomsPs, tferList, isAnnotated, hmm) = dataset1\n",
    "color1 = 'tab:blue'\n",
    "upperbound = []\n",
    "lowerbound = []\n",
    "for i in np.arange(0,len(avgTferErr1)):\n",
    "    up = avgTferErr1[i][0]\n",
    "    lo = avgTferErr1[i][1]\n",
    "    upperbound.append(up)  \n",
    "    lowerbound.append(lo)\n",
    "err1= [upperbound,lowerbound]\n",
    "\n",
    "avgTferData1[0] = 0.8\n",
    "x_data = key1\n",
    "y_data = avgTferData1\n",
    "initial_guess = [max(y_data), 0.1, min(y_data)]\n",
    "popt, pcov = curve_fit(decay_exponential, x_data, y_data, p0=initial_guess)\n",
    "x_fit = np.linspace(min(x_data), max(x_data), 100)\n",
    "y_fit = decay_exponential(x_fit, *popt)\n",
    "decay_constant = popt[1]\n",
    "decay_constant_uncertainty = np.sqrt(pcov[1, 1])\n",
    "one_over_e_time = 1 / decay_constant\n",
    "one_over_e_time_uncertainty = decay_constant_uncertainty / decay_constant\n",
    "\n",
    "\n",
    "gamma_150_F21 = decay_constant\n",
    "gamma_150_unc_F21 = decay_constant_uncertainty\n",
    "tau_150_F21 = one_over_e_time\n",
    "tau_150_unc_F21 = one_over_e_time_uncertainty\n",
    "print('gamma =',decay_constant,'gamma uncertainty =',decay_constant_uncertainty)"
   ]
  },
  {
   "cell_type": "markdown",
   "metadata": {},
   "source": [
    "## 137.5 MHz"
   ]
  },
  {
   "cell_type": "code",
   "execution_count": 19,
   "metadata": {
    "jupyter": {
     "source_hidden": true
    },
    "tags": []
   },
   "outputs": [
    {
     "name": "stdout",
     "output_type": "stream",
     "text": [
      "Number of Pictures: 3200; Picture Dimensions: 5 x 10\n",
      "Variations: 8;\tRepetitions: 200;\tExp File Version: 4;\n",
      "Experiment started at (H:M:S) 10:10:11: on (Y-M-D) 2023-8-28, And ended at 10:22:3: on 2023-8-28\n",
      "Experiment Notes: HDF5 NOT ANNOTATED: please call exp.Annotate() to annotate this file.\n",
      "\n"
     ]
    },
    {
     "data": {
      "text/plain": [
       "<Figure size 30000x9600 with 0 Axes>"
      ]
     },
     "metadata": {},
     "output_type": "display_data"
    },
    {
     "data": {
      "image/png": "[encoded data removed]",
      "text/plain": [
       "<Figure size 1500x600 with 1 Axes>"
      ]
     },
     "metadata": {},
     "output_type": "display_data"
    }
   ],
   "source": [
    "##pulse duration\n",
    "reloadMyModules(28)\n",
    "fileId = 9\n",
    "threshold = 75\n",
    "dataset1 = ta.standardTransferAnalysis(fileId, loadTwoOpt, tOptions = [to.ThresholdOptions(manualThreshold = True, manualThresholdValue = threshold)]);\n",
    "(tferAtomsVarAvg, tferAtomsVarErrs, loadAtomsVarAvg, initPicCounts, keyName, key1, repetitions, initThresholds, \n",
    "            fits, avgTferData1, avgTferErr1, avgFit, avgPics, genAvgs, genErrs, tferVarAvg, tferVarErr, initAtomImages, \n",
    "            tferAtomImages, tferPicCounts, tferThresholds, fitModules, basicInfoStr, ensembleHits, tOptions, analysisOpts,\n",
    "            tferAtomsPs, tferAtomsPs, tferList, isAnnotated, hmm) = dataset1\n",
    "color1 = 'tab:blue'\n",
    "upperbound = []\n",
    "lowerbound = []\n",
    "for i in np.arange(0,len(avgTferErr1)):\n",
    "    up = avgTferErr1[i][0]\n",
    "    lo = avgTferErr1[i][1]\n",
    "    upperbound.append(up)  \n",
    "    lowerbound.append(lo)\n",
    "err1= [upperbound,lowerbound]\n",
    "plt.figure(dpi=1200)\n",
    "\n",
    "fig, ax = plt.subplots(figsize=(15, 6))\n",
    "font = {'family' : 'DejaVu Sans',\n",
    "        'weight' : 'normal',\n",
    "        'size'   : 22}\n",
    "matplotlib.rc('font', **font)\n",
    "avgTferData1[0] = 0.8\n",
    "# avgTferData1[5] = 0.2\n",
    "# avgTferData1[7] = 0.15\n",
    "x_data = key1\n",
    "y_data = avgTferData1\n",
    "initial_guess = [max(y_data), 0.1, min(y_data)]\n",
    "popt, pcov = curve_fit(decay_exponential, x_data, y_data, p0=initial_guess)\n",
    "x_fit = np.linspace(min(x_data), max(x_data), 100)\n",
    "y_fit = decay_exponential(x_fit, *popt)\n",
    "decay_constant = popt[1]\n",
    "decay_constant_uncertainty = np.sqrt(pcov[1, 1])\n",
    "one_over_e_time = 1 / decay_constant\n",
    "one_over_e_time_uncertainty = decay_constant_uncertainty / decay_constant\n",
    "decay_constant_str = f\"{decay_constant:.4f}\"\n",
    "decay_constant_uncertainty_str = f\"{decay_constant_uncertainty:.4f}\"\n",
    "legend_label = fr\"$\\Gamma$ = {decay_constant_str} ± {decay_constant_uncertainty_str}, $\\tau$ = {one_over_e_time:.4f} ± {one_over_e_time_uncertainty:.4f}\"\n",
    "ticks = np.arange(key1[0], max(key1),len(key1))\n",
    "ax.errorbar(key1,avgTferData1, yerr=err1,ls='none',ecolor=color1,marker = 'o',markersize = 10,\n",
    "            markerfacecolor=color1,markeredgecolor='k',capsize=5, label=r'$ \\Delta(2 \\rightarrow 0) = 137.5 \\ \\mathrm{MHz} \\ \\mathrm{D1 \\ F=2-1} $')\n",
    "plt.plot(x_fit, y_fit, 'gray',label=legend_label)\n",
    "plt.legend(loc= 'upper right', ncol = 1,prop={'size': 15})\n",
    "plt.ylim(0,1)\n",
    "plt.ylabel('survival')\n",
    "plt.xlabel(r'pulse duration (ms)')\n",
    "plt.rcParams[\"axes.linewidth\"] = 1.5\n",
    "plt.ticklabel_format(style='plain') \n",
    "\n",
    "gamma_137_F21 = decay_constant\n",
    "gamma_137_unc_F21 = decay_constant_uncertainty\n",
    "tau_137_F21 = one_over_e_time\n",
    "tau_137_unc_F21 = one_over_e_time_uncertainty"
   ]
  },
  {
   "cell_type": "markdown",
   "metadata": {},
   "source": [
    "## 125 MHz"
   ]
  },
  {
   "cell_type": "code",
   "execution_count": 61,
   "metadata": {
    "jupyter": {
     "source_hidden": true
    },
    "tags": []
   },
   "outputs": [
    {
     "name": "stdout",
     "output_type": "stream",
     "text": [
      "Number of Pictures: 3200; Picture Dimensions: 5 x 10\n",
      "Variations: 8;\tRepetitions: 200;\tExp File Version: 4;\n",
      "Experiment started at (H:M:S) 14:45:47: on (Y-M-D) 2023-8-25, And ended at 14:57:41: on 2023-8-25\n",
      "Experiment Notes: HDF5 NOT ANNOTATED: please call exp.Annotate() to annotate this file.\n",
      "\n",
      "gamma = 0.13189011216525193 gamma uncertainty = 0.025983077667065504\n"
     ]
    }
   ],
   "source": [
    "##pulse duration\n",
    "reloadMyModules(25)\n",
    "fileId = 21\n",
    "threshold = 75\n",
    "dataset1 = ta.standardTransferAnalysis(fileId, loadTwoOpt, tOptions = [to.ThresholdOptions(manualThreshold = True, manualThresholdValue = threshold)]);\n",
    "(tferAtomsVarAvg, tferAtomsVarErrs, loadAtomsVarAvg, initPicCounts, keyName, key1, repetitions, initThresholds, \n",
    "            fits, avgTferData1, avgTferErr1, avgFit, avgPics, genAvgs, genErrs, tferVarAvg, tferVarErr, initAtomImages, \n",
    "            tferAtomImages, tferPicCounts, tferThresholds, fitModules, basicInfoStr, ensembleHits, tOptions, analysisOpts,\n",
    "            tferAtomsPs, tferAtomsPs, tferList, isAnnotated, hmm) = dataset1\n",
    "color1 = 'tab:blue'\n",
    "upperbound = []\n",
    "lowerbound = []\n",
    "for i in np.arange(0,len(avgTferErr1)):\n",
    "    up = avgTferErr1[i][0]\n",
    "    lo = avgTferErr1[i][1]\n",
    "    upperbound.append(up)  \n",
    "    lowerbound.append(lo)\n",
    "err1= [upperbound,lowerbound]\n",
    "\n",
    "avgTferData1[0] = 0.8\n",
    "x_data = key1\n",
    "y_data = avgTferData1\n",
    "initial_guess = [max(y_data), 0.1, min(y_data)]\n",
    "popt, pcov = curve_fit(decay_exponential, x_data, y_data, p0=initial_guess)\n",
    "x_fit = np.linspace(min(x_data), max(x_data), 100)\n",
    "y_fit = decay_exponential(x_fit, *popt)\n",
    "decay_constant = popt[1]\n",
    "decay_constant_uncertainty = np.sqrt(pcov[1, 1])\n",
    "one_over_e_time = 1 / decay_constant\n",
    "one_over_e_time_uncertainty = decay_constant_uncertainty / decay_constant\n",
    "\n",
    "\n",
    "gamma_125_F21 = decay_constant\n",
    "gamma_125_unc_F21 = decay_constant_uncertainty\n",
    "tau_125_F21 = one_over_e_time\n",
    "tau_125_unc_F21 = one_over_e_time_uncertainty\n",
    "print('gamma =',decay_constant,'gamma uncertainty =',decay_constant_uncertainty)"
   ]
  },
  {
   "cell_type": "markdown",
   "metadata": {},
   "source": [
    "## 100 MHz"
   ]
  },
  {
   "cell_type": "code",
   "execution_count": 62,
   "metadata": {
    "jupyter": {
     "source_hidden": true
    },
    "tags": []
   },
   "outputs": [
    {
     "name": "stdout",
     "output_type": "stream",
     "text": [
      "Number of Pictures: 3200; Picture Dimensions: 5 x 10\n",
      "Variations: 8;\tRepetitions: 200;\tExp File Version: 4;\n",
      "Experiment started at (H:M:S) 15:27:27: on (Y-M-D) 2023-8-25, And ended at 15:39:47: on 2023-8-25\n",
      "Experiment Notes: HDF5 NOT ANNOTATED: please call exp.Annotate() to annotate this file.\n",
      "\n",
      "gamma = 0.10168503590145282 gamma uncertainty = 0.004150886330217015\n"
     ]
    }
   ],
   "source": [
    "##pulse duration\n",
    "reloadMyModules(25)\n",
    "fileId = 24\n",
    "threshold = 75\n",
    "dataset1 = ta.standardTransferAnalysis(fileId, loadTwoOpt, tOptions = [to.ThresholdOptions(manualThreshold = True, manualThresholdValue = threshold)]);\n",
    "(tferAtomsVarAvg, tferAtomsVarErrs, loadAtomsVarAvg, initPicCounts, keyName, key1, repetitions, initThresholds, \n",
    "            fits, avgTferData1, avgTferErr1, avgFit, avgPics, genAvgs, genErrs, tferVarAvg, tferVarErr, initAtomImages, \n",
    "            tferAtomImages, tferPicCounts, tferThresholds, fitModules, basicInfoStr, ensembleHits, tOptions, analysisOpts,\n",
    "            tferAtomsPs, tferAtomsPs, tferList, isAnnotated, hmm) = dataset1\n",
    "color1 = 'tab:blue'\n",
    "upperbound = []\n",
    "lowerbound = []\n",
    "for i in np.arange(0,len(avgTferErr1)):\n",
    "    up = avgTferErr1[i][0]\n",
    "    lo = avgTferErr1[i][1]\n",
    "    upperbound.append(up)  \n",
    "    lowerbound.append(lo)\n",
    "err1= [upperbound,lowerbound]\n",
    "\n",
    "avgTferData1[0] = 0.8\n",
    "x_data = key1\n",
    "y_data = avgTferData1\n",
    "initial_guess = [max(y_data), 0.1, min(y_data)]\n",
    "popt, pcov = curve_fit(decay_exponential, x_data, y_data, p0=initial_guess)\n",
    "x_fit = np.linspace(min(x_data), max(x_data), 100)\n",
    "y_fit = decay_exponential(x_fit, *popt)\n",
    "decay_constant = popt[1]\n",
    "decay_constant_uncertainty = np.sqrt(pcov[1, 1])\n",
    "one_over_e_time = 1 / decay_constant\n",
    "one_over_e_time_uncertainty = decay_constant_uncertainty / decay_constant\n",
    "\n",
    "\n",
    "gamma_100_F21 = decay_constant\n",
    "gamma_100_unc_F21 = decay_constant_uncertainty\n",
    "tau_100_F21 = one_over_e_time\n",
    "tau_100_unc_F21 = one_over_e_time_uncertainty\n",
    "print('gamma =',decay_constant,'gamma uncertainty =',decay_constant_uncertainty)"
   ]
  },
  {
   "cell_type": "markdown",
   "metadata": {},
   "source": [
    "## 75 MHz "
   ]
  },
  {
   "cell_type": "code",
   "execution_count": 63,
   "metadata": {
    "jupyter": {
     "source_hidden": true
    },
    "tags": []
   },
   "outputs": [
    {
     "name": "stdout",
     "output_type": "stream",
     "text": [
      "Number of Pictures: 4800; Picture Dimensions: 5 x 10\n",
      "Variations: 8;\tRepetitions: 300;\tExp File Version: 4;\n",
      "Experiment started at (H:M:S) 12:38:23: on (Y-M-D) 2023-8-26, And ended at 12:57:35: on 2023-8-26\n",
      "Experiment Notes: HDF5 NOT ANNOTATED: please call exp.Annotate() to annotate this file.\n",
      "\n",
      "gamma = 0.04554963053410823 gamma uncertainty = 0.01018773104329754\n"
     ]
    }
   ],
   "source": [
    "##pulse duration\n",
    "reloadMyModules(26)\n",
    "fileId = 4\n",
    "threshold = 65\n",
    "dataset1 = ta.standardTransferAnalysis(fileId, loadTwoOpt, tOptions = [to.ThresholdOptions(manualThreshold = True, manualThresholdValue = threshold)]);\n",
    "(tferAtomsVarAvg, tferAtomsVarErrs, loadAtomsVarAvg, initPicCounts, keyName, key1, repetitions, initThresholds, \n",
    "            fits, avgTferData1, avgTferErr1, avgFit, avgPics, genAvgs, genErrs, tferVarAvg, tferVarErr, initAtomImages, \n",
    "            tferAtomImages, tferPicCounts, tferThresholds, fitModules, basicInfoStr, ensembleHits, tOptions, analysisOpts,\n",
    "            tferAtomsPs, tferAtomsPs, tferList, isAnnotated, hmm) = dataset1\n",
    "color1 = 'tab:blue'\n",
    "upperbound = []\n",
    "lowerbound = []\n",
    "for i in np.arange(0,len(avgTferErr1)):\n",
    "    up = avgTferErr1[i][0]\n",
    "    lo = avgTferErr1[i][1]\n",
    "    upperbound.append(up)  \n",
    "    lowerbound.append(lo)\n",
    "err1= [upperbound,lowerbound]\n",
    "\n",
    "avgTferData1[0] = 0.8\n",
    "x_data = key1\n",
    "y_data = avgTferData1\n",
    "initial_guess = [max(y_data), 0.1, min(y_data)]\n",
    "popt, pcov = curve_fit(decay_exponential, x_data, y_data, p0=initial_guess)\n",
    "x_fit = np.linspace(min(x_data), max(x_data), 100)\n",
    "y_fit = decay_exponential(x_fit, *popt)\n",
    "decay_constant = popt[1]\n",
    "decay_constant_uncertainty = np.sqrt(pcov[1, 1])\n",
    "one_over_e_time = 1 / decay_constant\n",
    "one_over_e_time_uncertainty = decay_constant_uncertainty / decay_constant\n",
    "\n",
    "\n",
    "gamma_75_F21 = decay_constant\n",
    "gamma_75_unc_F21 = decay_constant_uncertainty\n",
    "tau_75_F21 = one_over_e_time\n",
    "tau_75_unc_F21 = one_over_e_time_uncertainty\n",
    "print('gamma =',decay_constant,'gamma uncertainty =',decay_constant_uncertainty)"
   ]
  },
  {
   "cell_type": "markdown",
   "metadata": {},
   "source": [
    "## 50 MHz "
   ]
  },
  {
   "cell_type": "code",
   "execution_count": 23,
   "metadata": {
    "jupyter": {
     "source_hidden": true
    },
    "tags": []
   },
   "outputs": [
    {
     "name": "stdout",
     "output_type": "stream",
     "text": [
      "Number of Pictures: 4800; Picture Dimensions: 5 x 10\n",
      "Variations: 8;\tRepetitions: 300;\tExp File Version: 4;\n",
      "Experiment started at (H:M:S) 13:16:8: on (Y-M-D) 2023-8-26, And ended at 13:35:20: on 2023-8-26\n",
      "Experiment Notes: HDF5 NOT ANNOTATED: please call exp.Annotate() to annotate this file.\n",
      "\n"
     ]
    },
    {
     "data": {
      "text/plain": [
       "<Figure size 30000x9600 with 0 Axes>"
      ]
     },
     "metadata": {},
     "output_type": "display_data"
    },
    {
     "data": {
      "image/png": "[encoded data removed]",
      "text/plain": [
       "<Figure size 1500x600 with 1 Axes>"
      ]
     },
     "metadata": {},
     "output_type": "display_data"
    }
   ],
   "source": [
    "##pulse duration\n",
    "reloadMyModules(26)\n",
    "fileId = 6\n",
    "threshold = 65\n",
    "dataset1 = ta.standardTransferAnalysis(fileId, loadTwoOpt, tOptions = [to.ThresholdOptions(manualThreshold = True, manualThresholdValue = threshold)]);\n",
    "(tferAtomsVarAvg, tferAtomsVarErrs, loadAtomsVarAvg, initPicCounts, keyName, key1, repetitions, initThresholds, \n",
    "            fits, avgTferData1, avgTferErr1, avgFit, avgPics, genAvgs, genErrs, tferVarAvg, tferVarErr, initAtomImages, \n",
    "            tferAtomImages, tferPicCounts, tferThresholds, fitModules, basicInfoStr, ensembleHits, tOptions, analysisOpts,\n",
    "            tferAtomsPs, tferAtomsPs, tferList, isAnnotated, hmm) = dataset1\n",
    "color1 = 'tab:blue'\n",
    "upperbound = []\n",
    "lowerbound = []\n",
    "for i in np.arange(0,len(avgTferErr1)):\n",
    "    up = avgTferErr1[i][0]\n",
    "    lo = avgTferErr1[i][1]\n",
    "    upperbound.append(up)  \n",
    "    lowerbound.append(lo)\n",
    "err1= [upperbound,lowerbound]\n",
    "plt.figure(dpi=1200)\n",
    "\n",
    "fig, ax = plt.subplots(figsize=(15, 6))\n",
    "font = {'family' : 'DejaVu Sans',\n",
    "        'weight' : 'normal',\n",
    "        'size'   : 22}\n",
    "matplotlib.rc('font', **font)\n",
    "avgTferData1[0] = 0.8\n",
    "avgTferData1[3] = 0.2\n",
    "# avgTferData1[7] = 0.15\n",
    "x_data = key1\n",
    "y_data = avgTferData1\n",
    "initial_guess = [max(y_data), 0.1, min(y_data)]\n",
    "popt, pcov = curve_fit(decay_exponential, x_data, y_data, p0=initial_guess)\n",
    "x_fit = np.linspace(min(x_data), max(x_data), 100)\n",
    "y_fit = decay_exponential(x_fit, *popt)\n",
    "decay_constant = popt[1]\n",
    "decay_constant_uncertainty = np.sqrt(pcov[1, 1])\n",
    "one_over_e_time = 1 / decay_constant\n",
    "one_over_e_time_uncertainty = decay_constant_uncertainty / decay_constant\n",
    "decay_constant_str = f\"{decay_constant:.4f}\"\n",
    "decay_constant_uncertainty_str = f\"{decay_constant_uncertainty:.4f}\"\n",
    "legend_label = fr\"$\\Gamma$ = {decay_constant_str} ± {decay_constant_uncertainty_str}, $\\tau$ = {one_over_e_time:.4f} ± {one_over_e_time_uncertainty:.4f}\"\n",
    "ticks = np.arange(key1[0], max(key1),len(key1))\n",
    "ax.errorbar(key1,avgTferData1, yerr=err1,ls='none',ecolor=color1,marker = 'o',markersize = 10,\n",
    "            markerfacecolor=color1,markeredgecolor='k',capsize=5, label=r'$ \\Delta(2 \\rightarrow 0) = 50 \\ \\mathrm{MHz} \\ \\mathrm{D1 \\ F=2-1} $')\n",
    "plt.plot(x_fit, y_fit, 'gray',label=legend_label)\n",
    "plt.legend(loc= 'upper right', ncol = 1,prop={'size': 15})\n",
    "plt.ylim(0,1)\n",
    "plt.ylabel('survival')\n",
    "plt.xlabel(r'pulse duration (ms)')\n",
    "plt.rcParams[\"axes.linewidth\"] = 1.5\n",
    "plt.ticklabel_format(style='plain') \n",
    "\n",
    "gamma_50_F21 = decay_constant\n",
    "gamma_50_unc_F21 = decay_constant_uncertainty\n",
    "tau_50_F21_F21 = one_over_e_time\n",
    "tau_50_unc = one_over_e_time_uncertainty"
   ]
  },
  {
   "cell_type": "markdown",
   "metadata": {},
   "source": [
    "## 25 MHz "
   ]
  },
  {
   "cell_type": "code",
   "execution_count": 64,
   "metadata": {
    "tags": []
   },
   "outputs": [
    {
     "name": "stdout",
     "output_type": "stream",
     "text": [
      "Number of Pictures: 3200; Picture Dimensions: 5 x 10\n",
      "Variations: 8;\tRepetitions: 200;\tExp File Version: 4;\n",
      "Experiment started at (H:M:S) 14:0:17: on (Y-M-D) 2023-8-26, And ended at 14:14:36: on 2023-8-26\n",
      "Experiment Notes: HDF5 NOT ANNOTATED: please call exp.Annotate() to annotate this file.\n",
      "\n",
      "gamma = 0.022017212353696303 gamma uncertainty = 0.0048967298401965485\n"
     ]
    }
   ],
   "source": [
    "##pulse duration\n",
    "reloadMyModules(26)\n",
    "fileId = 8\n",
    "threshold = 75\n",
    "dataset1 = ta.standardTransferAnalysis(fileId, loadTwoOpt, tOptions = [to.ThresholdOptions(manualThreshold = True, manualThresholdValue = threshold)]);\n",
    "(tferAtomsVarAvg, tferAtomsVarErrs, loadAtomsVarAvg, initPicCounts, keyName, key1, repetitions, initThresholds, \n",
    "            fits, avgTferData1, avgTferErr1, avgFit, avgPics, genAvgs, genErrs, tferVarAvg, tferVarErr, initAtomImages, \n",
    "            tferAtomImages, tferPicCounts, tferThresholds, fitModules, basicInfoStr, ensembleHits, tOptions, analysisOpts,\n",
    "            tferAtomsPs, tferAtomsPs, tferList, isAnnotated, hmm) = dataset1\n",
    "color1 = 'tab:blue'\n",
    "upperbound = []\n",
    "lowerbound = []\n",
    "for i in np.arange(0,len(avgTferErr1)):\n",
    "    up = avgTferErr1[i][0]\n",
    "    lo = avgTferErr1[i][1]\n",
    "    upperbound.append(up)  \n",
    "    lowerbound.append(lo)\n",
    "err1= [upperbound,lowerbound]\n",
    "avgTferData1[0] = 0.8\n",
    "x_data = key1\n",
    "y_data = avgTferData1\n",
    "initial_guess = [max(y_data), 0.1, min(y_data)]\n",
    "popt, pcov = curve_fit(decay_exponential, x_data, y_data, p0=initial_guess)\n",
    "x_fit = np.linspace(min(x_data), max(x_data), 100)\n",
    "y_fit = decay_exponential(x_fit, *popt)\n",
    "decay_constant = popt[1]\n",
    "decay_constant_uncertainty = np.sqrt(pcov[1, 1])\n",
    "one_over_e_time = 1 / decay_constant\n",
    "one_over_e_time_uncertainty = decay_constant_uncertainty / decay_constant\n",
    "\n",
    "gamma_25_F21 = decay_constant\n",
    "gamma_25_unc_F21 = decay_constant_uncertainty\n",
    "tau_25_F21 = one_over_e_time\n",
    "tau_25_unc_F21 = one_over_e_time_uncertainty\n",
    "print('gamma =',decay_constant,'gamma uncertainty =',decay_constant_uncertainty)"
   ]
  },
  {
   "cell_type": "markdown",
   "metadata": {},
   "source": [
    "# D1 F=2-2' blue"
   ]
  },
  {
   "cell_type": "markdown",
   "metadata": {},
   "source": [
    "## 300 MHz"
   ]
  },
  {
   "cell_type": "code",
   "execution_count": 65,
   "metadata": {
    "jupyter": {
     "source_hidden": true
    },
    "tags": []
   },
   "outputs": [
    {
     "name": "stdout",
     "output_type": "stream",
     "text": [
      "Number of Pictures: 3200; Picture Dimensions: 5 x 10\n",
      "Variations: 8;\tRepetitions: 200;\tExp File Version: 4;\n",
      "Experiment started at (H:M:S) 12:31:13: on (Y-M-D) 2023-8-15, And ended at 12:43:1: on 2023-8-15\n",
      "Experiment Notes: HDF5 NOT ANNOTATED: please call exp.Annotate() to annotate this file.\n",
      "\n",
      "gamma = 0.4469677476772187 gamma uncertainty = 0.047343905418757756\n"
     ]
    }
   ],
   "source": [
    "##pulse duration\n",
    "reloadMyModules(15)\n",
    "fileId = 24\n",
    "threshold = 60\n",
    "dataset1 = ta.standardTransferAnalysis(fileId, loadTwoOpt, tOptions = [to.ThresholdOptions(manualThreshold = True, manualThresholdValue = threshold)]);\n",
    "(tferAtomsVarAvg, tferAtomsVarErrs, loadAtomsVarAvg, initPicCounts, keyName, key1, repetitions, initThresholds, \n",
    "            fits, avgTferData1, avgTferErr1, avgFit, avgPics, genAvgs, genErrs, tferVarAvg, tferVarErr, initAtomImages, \n",
    "            tferAtomImages, tferPicCounts, tferThresholds, fitModules, basicInfoStr, ensembleHits, tOptions, analysisOpts,\n",
    "            tferAtomsPs, tferAtomsPs, tferList, isAnnotated, hmm) = dataset1\n",
    "color1 = 'tab:blue'\n",
    "upperbound = []\n",
    "lowerbound = []\n",
    "for i in np.arange(0,len(avgTferErr1)):\n",
    "    up = avgTferErr1[i][0]\n",
    "    lo = avgTferErr1[i][1]\n",
    "    upperbound.append(up)  \n",
    "    lowerbound.append(lo)\n",
    "err1= [upperbound,lowerbound]\n",
    "\n",
    "avgTferData1[0] = 0.8\n",
    "x_data = key1\n",
    "y_data = avgTferData1\n",
    "initial_guess = [max(y_data), 0.1, min(y_data)]\n",
    "popt, pcov = curve_fit(decay_exponential, x_data, y_data, p0=initial_guess)\n",
    "x_fit = np.linspace(min(x_data), max(x_data), 100)\n",
    "y_fit = decay_exponential(x_fit, *popt)\n",
    "decay_constant = popt[1]\n",
    "decay_constant_uncertainty = np.sqrt(pcov[1, 1])\n",
    "one_over_e_time = 1 / decay_constant\n",
    "one_over_e_time_uncertainty = decay_constant_uncertainty / (decay_constant ** 2)\n",
    "\n",
    "\n",
    "gamma_300_F22 = decay_constant\n",
    "gamma_300_unc_F22 = decay_constant_uncertainty\n",
    "tau_300_F22 = one_over_e_time\n",
    "tau_300_unc_F22 = one_over_e_time_uncertainty\n",
    "print('gamma =',decay_constant,'gamma uncertainty =',decay_constant_uncertainty)"
   ]
  },
  {
   "cell_type": "markdown",
   "metadata": {},
   "source": [
    "## 250 MHz"
   ]
  },
  {
   "cell_type": "code",
   "execution_count": 66,
   "metadata": {
    "jupyter": {
     "source_hidden": true
    },
    "tags": []
   },
   "outputs": [
    {
     "name": "stdout",
     "output_type": "stream",
     "text": [
      "Number of Pictures: 3200; Picture Dimensions: 5 x 10\n",
      "Variations: 8;\tRepetitions: 200;\tExp File Version: 4;\n",
      "Experiment started at (H:M:S) 12:5:5: on (Y-M-D) 2023-8-15, And ended at 12:16:45: on 2023-8-15\n",
      "Experiment Notes: HDF5 NOT ANNOTATED: please call exp.Annotate() to annotate this file.\n",
      "\n",
      "gamma = 0.5851811357599277 gamma uncertainty = 0.05738888636747394\n"
     ]
    }
   ],
   "source": [
    "##pulse duration\n",
    "reloadMyModules(15)\n",
    "fileId = 23\n",
    "threshold = 60\n",
    "dataset1 = ta.standardTransferAnalysis(fileId, loadTwoOpt, tOptions = [to.ThresholdOptions(manualThreshold = True, manualThresholdValue = threshold)]);\n",
    "(tferAtomsVarAvg, tferAtomsVarErrs, loadAtomsVarAvg, initPicCounts, keyName, key1, repetitions, initThresholds, \n",
    "            fits, avgTferData1, avgTferErr1, avgFit, avgPics, genAvgs, genErrs, tferVarAvg, tferVarErr, initAtomImages, \n",
    "            tferAtomImages, tferPicCounts, tferThresholds, fitModules, basicInfoStr, ensembleHits, tOptions, analysisOpts,\n",
    "            tferAtomsPs, tferAtomsPs, tferList, isAnnotated, hmm) = dataset1\n",
    "color1 = 'tab:blue'\n",
    "upperbound = []\n",
    "lowerbound = []\n",
    "for i in np.arange(0,len(avgTferErr1)):\n",
    "    up = avgTferErr1[i][0]\n",
    "    lo = avgTferErr1[i][1]\n",
    "    upperbound.append(up)  \n",
    "    lowerbound.append(lo)\n",
    "err1= [upperbound,lowerbound]\n",
    "\n",
    "avgTferData1[0] = 0.8\n",
    "x_data = key1\n",
    "y_data = avgTferData1\n",
    "initial_guess = [max(y_data), 0.1, min(y_data)]\n",
    "popt, pcov = curve_fit(decay_exponential, x_data, y_data, p0=initial_guess)\n",
    "x_fit = np.linspace(min(x_data), max(x_data), 100)\n",
    "y_fit = decay_exponential(x_fit, *popt)\n",
    "decay_constant = popt[1]\n",
    "decay_constant_uncertainty = np.sqrt(pcov[1, 1])\n",
    "one_over_e_time = 1 / decay_constant\n",
    "one_over_e_time_uncertainty = decay_constant_uncertainty / (decay_constant ** 2)\n",
    "\n",
    "gamma_250_F22 = decay_constant\n",
    "gamma_250_unc_F22 = decay_constant_uncertainty\n",
    "tau_250_F22 = one_over_e_time\n",
    "tau_250_unc_F22 = one_over_e_time_uncertainty\n",
    "print('gamma =',decay_constant,'gamma uncertainty =',decay_constant_uncertainty)"
   ]
  },
  {
   "cell_type": "markdown",
   "metadata": {},
   "source": [
    "## 200 MHz"
   ]
  },
  {
   "cell_type": "code",
   "execution_count": 67,
   "metadata": {
    "jupyter": {
     "source_hidden": true
    },
    "tags": []
   },
   "outputs": [
    {
     "name": "stdout",
     "output_type": "stream",
     "text": [
      "Number of Pictures: 3200; Picture Dimensions: 5 x 10\n",
      "Variations: 8;\tRepetitions: 200;\tExp File Version: 4;\n",
      "Experiment started at (H:M:S) 11:52:32: on (Y-M-D) 2023-8-15, And ended at 12:4:13: on 2023-8-15\n",
      "Experiment Notes: HDF5 NOT ANNOTATED: please call exp.Annotate() to annotate this file.\n",
      "\n",
      "gamma = 0.6864297902220906 gamma uncertainty = 0.07186588036005095\n"
     ]
    }
   ],
   "source": [
    "##pulse duration\n",
    "reloadMyModules(15)\n",
    "fileId = 22\n",
    "threshold = 60\n",
    "dataset1 = ta.standardTransferAnalysis(fileId, loadTwoOpt, tOptions = [to.ThresholdOptions(manualThreshold = True, manualThresholdValue = threshold)]);\n",
    "(tferAtomsVarAvg, tferAtomsVarErrs, loadAtomsVarAvg, initPicCounts, keyName, key1, repetitions, initThresholds, \n",
    "            fits, avgTferData1, avgTferErr1, avgFit, avgPics, genAvgs, genErrs, tferVarAvg, tferVarErr, initAtomImages, \n",
    "            tferAtomImages, tferPicCounts, tferThresholds, fitModules, basicInfoStr, ensembleHits, tOptions, analysisOpts,\n",
    "            tferAtomsPs, tferAtomsPs, tferList, isAnnotated, hmm) = dataset1\n",
    "color1 = 'tab:blue'\n",
    "upperbound = []\n",
    "lowerbound = []\n",
    "for i in np.arange(0,len(avgTferErr1)):\n",
    "    up = avgTferErr1[i][0]\n",
    "    lo = avgTferErr1[i][1]\n",
    "    upperbound.append(up)  \n",
    "    lowerbound.append(lo)\n",
    "err1= [upperbound,lowerbound]\n",
    "avgTferData1[0] = 0.8\n",
    "x_data = key1\n",
    "y_data = avgTferData1\n",
    "initial_guess = [max(y_data), 0.1, min(y_data)]\n",
    "popt, pcov = curve_fit(decay_exponential, x_data, y_data, p0=initial_guess)\n",
    "x_fit = np.linspace(min(x_data), max(x_data), 100)\n",
    "y_fit = decay_exponential(x_fit, *popt)\n",
    "decay_constant = popt[1]\n",
    "decay_constant_uncertainty = np.sqrt(pcov[1, 1])\n",
    "one_over_e_time = 1 / decay_constant\n",
    "one_over_e_time_uncertainty = decay_constant_uncertainty / (decay_constant ** 2)\n",
    "\n",
    "\n",
    "gamma_200_F22 = decay_constant\n",
    "gamma_200_unc_F22 = decay_constant_uncertainty\n",
    "tau_200_F22 = one_over_e_time\n",
    "tau_200_unc_F22 = one_over_e_time_uncertainty\n",
    "print('gamma =',decay_constant,'gamma uncertainty =',decay_constant_uncertainty)"
   ]
  },
  {
   "cell_type": "markdown",
   "metadata": {},
   "source": [
    "## 150 MHz"
   ]
  },
  {
   "cell_type": "code",
   "execution_count": 68,
   "metadata": {
    "tags": []
   },
   "outputs": [
    {
     "name": "stdout",
     "output_type": "stream",
     "text": [
      "Number of Pictures: 3200; Picture Dimensions: 5 x 10\n",
      "Variations: 8;\tRepetitions: 200;\tExp File Version: 4;\n",
      "Experiment started at (H:M:S) 17:24:20: on (Y-M-D) 2023-8-15, And ended at 17:35:57: on 2023-8-15\n",
      "Experiment Notes: HDF5 NOT ANNOTATED: please call exp.Annotate() to annotate this file.\n",
      "\n",
      "gamma = 0.8780952950466352 gamma uncertainty = 0.09391014247595422\n"
     ]
    }
   ],
   "source": [
    "##pulse duration\n",
    "reloadMyModules(15)\n",
    "fileId = 37\n",
    "threshold = 90\n",
    "dataset1 = ta.standardTransferAnalysis(fileId, loadTwoOpt, tOptions = [to.ThresholdOptions(manualThreshold = True, manualThresholdValue = threshold)]);\n",
    "(tferAtomsVarAvg, tferAtomsVarErrs, loadAtomsVarAvg, initPicCounts, keyName, key1, repetitions, initThresholds, \n",
    "            fits, avgTferData1, avgTferErr1, avgFit, avgPics, genAvgs, genErrs, tferVarAvg, tferVarErr, initAtomImages, \n",
    "            tferAtomImages, tferPicCounts, tferThresholds, fitModules, basicInfoStr, ensembleHits, tOptions, analysisOpts,\n",
    "            tferAtomsPs, tferAtomsPs, tferList, isAnnotated, hmm) = dataset1\n",
    "color1 = 'tab:blue'\n",
    "upperbound = []\n",
    "lowerbound = []\n",
    "for i in np.arange(0,len(avgTferErr1)):\n",
    "    up = avgTferErr1[i][0]\n",
    "    lo = avgTferErr1[i][1]\n",
    "    upperbound.append(up)  \n",
    "    lowerbound.append(lo)\n",
    "err1= [upperbound,lowerbound]\n",
    "\n",
    "avgTferData1[0] = 0.8\n",
    "avgTferData1[2] = 0.35\n",
    "x_data = key1\n",
    "y_data = avgTferData1\n",
    "initial_guess = [max(y_data), 0.1, min(y_data)]\n",
    "popt, pcov = curve_fit(decay_exponential, x_data, y_data, p0=initial_guess)\n",
    "x_fit = np.linspace(min(x_data), max(x_data), 100)\n",
    "y_fit = decay_exponential(x_fit, *popt)\n",
    "decay_constant = popt[1]\n",
    "decay_constant_uncertainty = np.sqrt(pcov[1, 1])\n",
    "one_over_e_time = 1 / decay_constant\n",
    "one_over_e_time_uncertainty = decay_constant_uncertainty / (decay_constant ** 2)\n",
    "\n",
    "gamma_150_F22 = decay_constant\n",
    "gamma_150_unc_F22 = decay_constant_uncertainty\n",
    "tau_150_F22 = one_over_e_time\n",
    "tau_150_unc_F22 = one_over_e_time_uncertainty\n",
    "print('gamma =',decay_constant,'gamma uncertainty =',decay_constant_uncertainty)"
   ]
  },
  {
   "cell_type": "markdown",
   "metadata": {},
   "source": [
    "## 125 MHz"
   ]
  },
  {
   "cell_type": "code",
   "execution_count": 69,
   "metadata": {
    "jupyter": {
     "source_hidden": true
    },
    "tags": []
   },
   "outputs": [
    {
     "name": "stdout",
     "output_type": "stream",
     "text": [
      "Number of Pictures: 3200; Picture Dimensions: 5 x 10\n",
      "Variations: 8;\tRepetitions: 200;\tExp File Version: 4;\n",
      "Experiment started at (H:M:S) 18:5:12: on (Y-M-D) 2023-8-15, And ended at 18:16:48: on 2023-8-15\n",
      "Experiment Notes: HDF5 NOT ANNOTATED: please call exp.Annotate() to annotate this file.\n",
      "\n",
      "gamma = 0.9855801632071151 gamma uncertainty = 0.10423261314922887\n"
     ]
    }
   ],
   "source": [
    "##pulse duration\n",
    "reloadMyModules(15)\n",
    "fileId = 39\n",
    "threshold = 70\n",
    "dataset1 = ta.standardTransferAnalysis(fileId, loadTwoOpt, tOptions = [to.ThresholdOptions(manualThreshold = True, manualThresholdValue = threshold)]);\n",
    "(tferAtomsVarAvg, tferAtomsVarErrs, loadAtomsVarAvg, initPicCounts, keyName, key1, repetitions, initThresholds, \n",
    "            fits, avgTferData1, avgTferErr1, avgFit, avgPics, genAvgs, genErrs, tferVarAvg, tferVarErr, initAtomImages, \n",
    "            tferAtomImages, tferPicCounts, tferThresholds, fitModules, basicInfoStr, ensembleHits, tOptions, analysisOpts,\n",
    "            tferAtomsPs, tferAtomsPs, tferList, isAnnotated, hmm) = dataset1\n",
    "color1 = 'tab:blue'\n",
    "upperbound = []\n",
    "lowerbound = []\n",
    "for i in np.arange(0,len(avgTferErr1)):\n",
    "    up = avgTferErr1[i][0]\n",
    "    lo = avgTferErr1[i][1]\n",
    "    upperbound.append(up)  \n",
    "    lowerbound.append(lo)\n",
    "err1= [upperbound,lowerbound]\n",
    "\n",
    "matplotlib.rc('font', **font)\n",
    "avgTferData1[0] = 0.8\n",
    "avgTferData1[5] = 0.2\n",
    "x_data = key1\n",
    "y_data = avgTferData1\n",
    "initial_guess = [max(y_data), 0.1, min(y_data)]\n",
    "popt, pcov = curve_fit(decay_exponential, x_data, y_data, p0=initial_guess)\n",
    "x_fit = np.linspace(min(x_data), max(x_data), 100)\n",
    "y_fit = decay_exponential(x_fit, *popt)\n",
    "decay_constant = popt[1]\n",
    "decay_constant_uncertainty = np.sqrt(pcov[1, 1])\n",
    "one_over_e_time = 1 / decay_constant\n",
    "one_over_e_time_uncertainty = decay_constant_uncertainty / (decay_constant ** 2)\n",
    "\n",
    "gamma_125_F22 = decay_constant\n",
    "gamma_125_unc_F22 = decay_constant_uncertainty\n",
    "tau_125_F22 = one_over_e_time\n",
    "tau_125_unc_F22 = one_over_e_time_uncertainty\n",
    "print('gamma =',decay_constant,'gamma uncertainty =',decay_constant_uncertainty)"
   ]
  },
  {
   "cell_type": "markdown",
   "metadata": {},
   "source": [
    "## 100 MHz"
   ]
  },
  {
   "cell_type": "code",
   "execution_count": 70,
   "metadata": {
    "jupyter": {
     "source_hidden": true
    },
    "tags": []
   },
   "outputs": [
    {
     "name": "stdout",
     "output_type": "stream",
     "text": [
      "Number of Pictures: 3200; Picture Dimensions: 5 x 10\n",
      "Variations: 8;\tRepetitions: 200;\tExp File Version: 4;\n",
      "Experiment started at (H:M:S) 8:18:9: on (Y-M-D) 2023-8-16, And ended at 8:29:48: on 2023-8-16\n",
      "Experiment Notes: HDF5 NOT ANNOTATED: please call exp.Annotate() to annotate this file.\n",
      "\n",
      "gamma = 1.1205194042950277 gamma uncertainty = 0.1284411494276021\n"
     ]
    }
   ],
   "source": [
    "##pulse duration\n",
    "reloadMyModules(16)\n",
    "fileId = 4\n",
    "threshold = 90\n",
    "dataset1 = ta.standardTransferAnalysis(fileId, loadTwoOpt, tOptions = [to.ThresholdOptions(manualThreshold = True, manualThresholdValue = threshold)]);\n",
    "(tferAtomsVarAvg, tferAtomsVarErrs, loadAtomsVarAvg, initPicCounts, keyName, key1, repetitions, initThresholds, \n",
    "            fits, avgTferData1, avgTferErr1, avgFit, avgPics, genAvgs, genErrs, tferVarAvg, tferVarErr, initAtomImages, \n",
    "            tferAtomImages, tferPicCounts, tferThresholds, fitModules, basicInfoStr, ensembleHits, tOptions, analysisOpts,\n",
    "            tferAtomsPs, tferAtomsPs, tferList, isAnnotated, hmm) = dataset1\n",
    "color1 = 'tab:blue'\n",
    "upperbound = []\n",
    "lowerbound = []\n",
    "for i in np.arange(0,len(avgTferErr1)):\n",
    "    up = avgTferErr1[i][0]\n",
    "    lo = avgTferErr1[i][1]\n",
    "    upperbound.append(up)  \n",
    "    lowerbound.append(lo)\n",
    "err1= [upperbound,lowerbound]\n",
    "\n",
    "avgTferData1[0] = 0.8\n",
    "avgTferData1[4] = 0.18\n",
    "x_data = key1\n",
    "y_data = avgTferData1\n",
    "initial_guess = [max(y_data), 0.1, min(y_data)]\n",
    "popt, pcov = curve_fit(decay_exponential, x_data, y_data, p0=initial_guess)\n",
    "x_fit = np.linspace(min(x_data), max(x_data), 100)\n",
    "y_fit = decay_exponential(x_fit, *popt)\n",
    "decay_constant = popt[1]\n",
    "decay_constant_uncertainty = np.sqrt(pcov[1, 1])\n",
    "one_over_e_time = 1 / decay_constant\n",
    "one_over_e_time_uncertainty = decay_constant_uncertainty / (decay_constant ** 2)\n",
    "gamma_100_F22 = decay_constant\n",
    "gamma_100_unc_F22 = decay_constant_uncertainty\n",
    "tau_100_F22 = one_over_e_time\n",
    "tau_100_unc_F22 = one_over_e_time_uncertainty\n",
    "print('gamma =',decay_constant,'gamma uncertainty =',decay_constant_uncertainty)"
   ]
  },
  {
   "cell_type": "markdown",
   "metadata": {
    "tags": []
   },
   "source": [
    "## 87.5 MHz"
   ]
  },
  {
   "cell_type": "code",
   "execution_count": 71,
   "metadata": {
    "jupyter": {
     "source_hidden": true
    },
    "tags": []
   },
   "outputs": [
    {
     "name": "stdout",
     "output_type": "stream",
     "text": [
      "Number of Pictures: 4800; Picture Dimensions: 5 x 10\n",
      "Variations: 8;\tRepetitions: 300;\tExp File Version: 4;\n",
      "Experiment started at (H:M:S) 19:15:27: on (Y-M-D) 2023-8-15, And ended at 19:32:35: on 2023-8-15\n",
      "Experiment Notes: HDF5 NOT ANNOTATED: please call exp.Annotate() to annotate this file.\n",
      "\n",
      "gamma = 1.3017917231939409 gamma uncertainty = 0.12984584588075895\n"
     ]
    }
   ],
   "source": [
    "##pulse duration\n",
    "reloadMyModules(15)\n",
    "fileId = 42\n",
    "threshold = 100\n",
    "dataset1 = ta.standardTransferAnalysis(fileId, loadTwoOpt, tOptions = [to.ThresholdOptions(manualThreshold = True, manualThresholdValue = threshold)]);\n",
    "(tferAtomsVarAvg, tferAtomsVarErrs, loadAtomsVarAvg, initPicCounts, keyName, key1, repetitions, initThresholds, \n",
    "            fits, avgTferData1, avgTferErr1, avgFit, avgPics, genAvgs, genErrs, tferVarAvg, tferVarErr, initAtomImages, \n",
    "            tferAtomImages, tferPicCounts, tferThresholds, fitModules, basicInfoStr, ensembleHits, tOptions, analysisOpts,\n",
    "            tferAtomsPs, tferAtomsPs, tferList, isAnnotated, hmm) = dataset1\n",
    "color1 = 'tab:blue'\n",
    "upperbound = []\n",
    "lowerbound = []\n",
    "for i in np.arange(0,len(avgTferErr1)):\n",
    "    up = avgTferErr1[i][0]\n",
    "    lo = avgTferErr1[i][1]\n",
    "    upperbound.append(up)  \n",
    "    lowerbound.append(lo)\n",
    "err1= [upperbound,lowerbound]\n",
    "\n",
    "avgTferData1[0] = 0.8\n",
    "\n",
    "x_data = key1\n",
    "y_data = avgTferData1\n",
    "initial_guess = [max(y_data), 0.1, min(y_data)]\n",
    "popt, pcov = curve_fit(decay_exponential, x_data, y_data, p0=initial_guess)\n",
    "x_fit = np.linspace(min(x_data), max(x_data), 100)\n",
    "y_fit = decay_exponential(x_fit, *popt)\n",
    "decay_constant = popt[1]\n",
    "decay_constant_uncertainty = np.sqrt(pcov[1, 1])\n",
    "one_over_e_time = 1 / decay_constant\n",
    "one_over_e_time_uncertainty = decay_constant_uncertainty / (decay_constant ** 2)\n",
    "\n",
    "\n",
    "gamma_87_F22 = decay_constant\n",
    "gamma_87_unc_F22 = decay_constant_uncertainty\n",
    "tau_87_F22 = one_over_e_time\n",
    "tau_87_unc_F22 = one_over_e_time_uncertainty\n",
    "print('gamma =',decay_constant,'gamma uncertainty =',decay_constant_uncertainty)"
   ]
  },
  {
   "cell_type": "markdown",
   "metadata": {
    "tags": []
   },
   "source": [
    "## 75 MHz"
   ]
  },
  {
   "cell_type": "code",
   "execution_count": 72,
   "metadata": {
    "jupyter": {
     "source_hidden": true
    },
    "tags": []
   },
   "outputs": [
    {
     "name": "stdout",
     "output_type": "stream",
     "text": [
      "Number of Pictures: 3200; Picture Dimensions: 5 x 10\n",
      "Variations: 8;\tRepetitions: 200;\tExp File Version: 4;\n",
      "Experiment started at (H:M:S) 17:10:40: on (Y-M-D) 2023-8-15, And ended at 17:22:17: on 2023-8-15\n",
      "Experiment Notes: HDF5 NOT ANNOTATED: please call exp.Annotate() to annotate this file.\n",
      "\n",
      "gamma = 1.4488059572717311 gamma uncertainty = 0.16804597513470163\n"
     ]
    }
   ],
   "source": [
    "##pulse duration\n",
    "reloadMyModules(15)\n",
    "fileId = 36\n",
    "threshold = 75\n",
    "dataset1 = ta.standardTransferAnalysis(fileId, loadTwoOpt, tOptions = [to.ThresholdOptions(manualThreshold = True, manualThresholdValue = threshold)]);\n",
    "(tferAtomsVarAvg, tferAtomsVarErrs, loadAtomsVarAvg, initPicCounts, keyName, key1, repetitions, initThresholds, \n",
    "            fits, avgTferData1, avgTferErr1, avgFit, avgPics, genAvgs, genErrs, tferVarAvg, tferVarErr, initAtomImages, \n",
    "            tferAtomImages, tferPicCounts, tferThresholds, fitModules, basicInfoStr, ensembleHits, tOptions, analysisOpts,\n",
    "            tferAtomsPs, tferAtomsPs, tferList, isAnnotated, hmm) = dataset1\n",
    "color1 = 'tab:blue'\n",
    "upperbound = []\n",
    "lowerbound = []\n",
    "for i in np.arange(0,len(avgTferErr1)):\n",
    "    up = avgTferErr1[i][0]\n",
    "    lo = avgTferErr1[i][1]\n",
    "    upperbound.append(up)  \n",
    "    lowerbound.append(lo)\n",
    "err1= [upperbound,lowerbound]\n",
    "\n",
    "avgTferData1[0] = 0.8\n",
    "x_data = key1\n",
    "y_data = avgTferData1\n",
    "initial_guess = [max(y_data), 0.1, min(y_data)]\n",
    "popt, pcov = curve_fit(decay_exponential, x_data, y_data, p0=initial_guess)\n",
    "x_fit = np.linspace(min(x_data), max(x_data), 100)\n",
    "y_fit = decay_exponential(x_fit, *popt)\n",
    "decay_constant = popt[1]\n",
    "decay_constant_uncertainty = np.sqrt(pcov[1, 1])\n",
    "one_over_e_time = 1 / decay_constant\n",
    "one_over_e_time_uncertainty = decay_constant_uncertainty / (decay_constant ** 2)\n",
    "\n",
    "gamma_75_F22 = decay_constant\n",
    "gamma_75_unc_F22 = decay_constant_uncertainty\n",
    "tau_75_F22 = one_over_e_time\n",
    "tau_75_unc_F22 = one_over_e_time_uncertainty\n",
    "print('gamma =',decay_constant,'gamma uncertainty =',decay_constant_uncertainty)"
   ]
  },
  {
   "cell_type": "markdown",
   "metadata": {},
   "source": [
    "## 62.5 MHz"
   ]
  },
  {
   "cell_type": "code",
   "execution_count": 73,
   "metadata": {
    "jupyter": {
     "source_hidden": true
    },
    "tags": []
   },
   "outputs": [
    {
     "name": "stdout",
     "output_type": "stream",
     "text": [
      "Number of Pictures: 3200; Picture Dimensions: 5 x 10\n",
      "Variations: 8;\tRepetitions: 200;\tExp File Version: 4;\n",
      "Experiment started at (H:M:S) 14:35:3: on (Y-M-D) 2023-8-15, And ended at 14:46:40: on 2023-8-15\n",
      "Experiment Notes: HDF5 NOT ANNOTATED: please call exp.Annotate() to annotate this file.\n",
      "\n",
      "gamma = 1.3121290688754927 gamma uncertainty = 0.18969590094474142\n"
     ]
    }
   ],
   "source": [
    "##pulse duration\n",
    "reloadMyModules(15)\n",
    "fileId = 30\n",
    "threshold = 135\n",
    "dataset1 = ta.standardTransferAnalysis(fileId, loadTwoOpt, tOptions = [to.ThresholdOptions(manualThreshold = True, manualThresholdValue = threshold)]);\n",
    "(tferAtomsVarAvg, tferAtomsVarErrs, loadAtomsVarAvg, initPicCounts, keyName, key1, repetitions, initThresholds, \n",
    "            fits, avgTferData1, avgTferErr1, avgFit, avgPics, genAvgs, genErrs, tferVarAvg, tferVarErr, initAtomImages, \n",
    "            tferAtomImages, tferPicCounts, tferThresholds, fitModules, basicInfoStr, ensembleHits, tOptions, analysisOpts,\n",
    "            tferAtomsPs, tferAtomsPs, tferList, isAnnotated, hmm) = dataset1\n",
    "color1 = 'tab:blue'\n",
    "upperbound = []\n",
    "lowerbound = []\n",
    "for i in np.arange(0,len(avgTferErr1)):\n",
    "    up = avgTferErr1[i][0]\n",
    "    lo = avgTferErr1[i][1]\n",
    "    upperbound.append(up)  \n",
    "    lowerbound.append(lo)\n",
    "err1= [upperbound,lowerbound]\n",
    "\n",
    "avgTferData1[0] = 0.8\n",
    "avgTferData1[6] = 0.13\n",
    "\n",
    "x_data = key1\n",
    "y_data = avgTferData1\n",
    "initial_guess = [max(y_data), 0.1, min(y_data)]\n",
    "popt, pcov = curve_fit(decay_exponential, x_data, y_data, p0=initial_guess)\n",
    "x_fit = np.linspace(min(x_data), max(x_data), 100)\n",
    "y_fit = decay_exponential(x_fit, *popt)\n",
    "decay_constant = popt[1]\n",
    "decay_constant_uncertainty = np.sqrt(pcov[1, 1])\n",
    "one_over_e_time = 1 / decay_constant\n",
    "one_over_e_time_uncertainty = decay_constant_uncertainty / (decay_constant ** 2)\n",
    "\n",
    "gamma_63_F22 = decay_constant\n",
    "gamma_63_unc_F22 = decay_constant_uncertainty\n",
    "tau_63_F22 = one_over_e_time\n",
    "tau_63_unc_F22 = one_over_e_time_uncertainty\n",
    "print('gamma =',decay_constant,'gamma uncertainty =',decay_constant_uncertainty)"
   ]
  },
  {
   "cell_type": "markdown",
   "metadata": {},
   "source": [
    "## 50 MHz"
   ]
  },
  {
   "cell_type": "code",
   "execution_count": 74,
   "metadata": {
    "jupyter": {
     "source_hidden": true
    },
    "tags": []
   },
   "outputs": [
    {
     "name": "stdout",
     "output_type": "stream",
     "text": [
      "Number of Pictures: 3200; Picture Dimensions: 5 x 10\n",
      "Variations: 8;\tRepetitions: 200;\tExp File Version: 4;\n",
      "Experiment started at (H:M:S) 14:35:3: on (Y-M-D) 2023-8-15, And ended at 14:46:40: on 2023-8-15\n",
      "Experiment Notes: HDF5 NOT ANNOTATED: please call exp.Annotate() to annotate this file.\n",
      "\n",
      "gamma = 0.8991364243403169 gamma uncertainty = 0.20092465182239866\n"
     ]
    }
   ],
   "source": [
    "##pulse duration\n",
    "reloadMyModules(15)\n",
    "fileId = 30\n",
    "threshold = 60\n",
    "dataset1 = ta.standardTransferAnalysis(fileId, loadTwoOpt, tOptions = [to.ThresholdOptions(manualThreshold = True, manualThresholdValue = threshold)]);\n",
    "(tferAtomsVarAvg, tferAtomsVarErrs, loadAtomsVarAvg, initPicCounts, keyName, key1, repetitions, initThresholds, \n",
    "            fits, avgTferData1, avgTferErr1, avgFit, avgPics, genAvgs, genErrs, tferVarAvg, tferVarErr, initAtomImages, \n",
    "            tferAtomImages, tferPicCounts, tferThresholds, fitModules, basicInfoStr, ensembleHits, tOptions, analysisOpts,\n",
    "            tferAtomsPs, tferAtomsPs, tferList, isAnnotated, hmm) = dataset1\n",
    "color1 = 'tab:blue'\n",
    "upperbound = []\n",
    "lowerbound = []\n",
    "for i in np.arange(0,len(avgTferErr1)):\n",
    "    up = avgTferErr1[i][0]\n",
    "    lo = avgTferErr1[i][1]\n",
    "    upperbound.append(up)  \n",
    "    lowerbound.append(lo)\n",
    "err1= [upperbound,lowerbound]\n",
    "\n",
    "avgTferData1[0] = 0.8\n",
    "\n",
    "x_data = key1\n",
    "y_data = avgTferData1\n",
    "initial_guess = [max(y_data), 0.1, min(y_data)]\n",
    "popt, pcov = curve_fit(decay_exponential, x_data, y_data, p0=initial_guess)\n",
    "x_fit = np.linspace(min(x_data), max(x_data), 100)\n",
    "y_fit = decay_exponential(x_fit, *popt)\n",
    "decay_constant = popt[1]\n",
    "decay_constant_uncertainty = np.sqrt(pcov[1, 1])\n",
    "one_over_e_time = 1 / decay_constant\n",
    "one_over_e_time_uncertainty = decay_constant_uncertainty / (decay_constant ** 2)\n",
    "\n",
    "\n",
    "gamma_50_F22 = decay_constant\n",
    "gamma_50_unc_F22 = decay_constant_uncertainty\n",
    "tau_50_F22 = one_over_e_time\n",
    "tau_50_unc_F22 = one_over_e_time_uncertainty\n",
    "print('gamma =',decay_constant,'gamma uncertainty =',decay_constant_uncertainty)"
   ]
  },
  {
   "cell_type": "markdown",
   "metadata": {},
   "source": [
    "## 25 MHz"
   ]
  },
  {
   "cell_type": "code",
   "execution_count": 75,
   "metadata": {
    "jupyter": {
     "source_hidden": true
    },
    "tags": []
   },
   "outputs": [
    {
     "name": "stdout",
     "output_type": "stream",
     "text": [
      "Number of Pictures: 3200; Picture Dimensions: 5 x 10\n",
      "Variations: 8;\tRepetitions: 200;\tExp File Version: 4;\n",
      "Experiment started at (H:M:S) 8:36:56: on (Y-M-D) 2023-8-16, And ended at 8:48:35: on 2023-8-16\n",
      "Experiment Notes: HDF5 NOT ANNOTATED: please call exp.Annotate() to annotate this file.\n",
      "\n",
      "gamma = 0.5781533490893346 gamma uncertainty = 0.20577844266998227\n"
     ]
    }
   ],
   "source": [
    "##pulse duration\n",
    "reloadMyModules(16)\n",
    "fileId = 5\n",
    "threshold = 50\n",
    "dataset1 = ta.standardTransferAnalysis(fileId, loadTwoOpt, tOptions = [to.ThresholdOptions(manualThreshold = True, manualThresholdValue = threshold)]);\n",
    "(tferAtomsVarAvg, tferAtomsVarErrs, loadAtomsVarAvg, initPicCounts, keyName, key1, repetitions, initThresholds, \n",
    "            fits, avgTferData1, avgTferErr1, avgFit, avgPics, genAvgs, genErrs, tferVarAvg, tferVarErr, initAtomImages, \n",
    "            tferAtomImages, tferPicCounts, tferThresholds, fitModules, basicInfoStr, ensembleHits, tOptions, analysisOpts,\n",
    "            tferAtomsPs, tferAtomsPs, tferList, isAnnotated, hmm) = dataset1\n",
    "color1 = 'tab:blue'\n",
    "upperbound = []\n",
    "lowerbound = []\n",
    "for i in np.arange(0,len(avgTferErr1)):\n",
    "    up = avgTferErr1[i][0]\n",
    "    lo = avgTferErr1[i][1]\n",
    "    upperbound.append(up)  \n",
    "    lowerbound.append(lo)\n",
    "err1= [upperbound,lowerbound]\n",
    "\n",
    "avgTferData1[0] = 0.8\n",
    "\n",
    "x_data = key1\n",
    "y_data = avgTferData1\n",
    "initial_guess = [max(y_data), 0.1, min(y_data)]\n",
    "popt, pcov = curve_fit(decay_exponential, x_data, y_data, p0=initial_guess)\n",
    "x_fit = np.linspace(min(x_data), max(x_data), 100)\n",
    "y_fit = decay_exponential(x_fit, *popt)\n",
    "decay_constant = popt[1]\n",
    "decay_constant_uncertainty = np.sqrt(pcov[1, 1])\n",
    "one_over_e_time = 1 / decay_constant\n",
    "one_over_e_time_uncertainty = decay_constant_uncertainty / (decay_constant ** 2)\n",
    "\n",
    "\n",
    "gamma_25_F22 = decay_constant\n",
    "gamma_25_unc_F22 = decay_constant_uncertainty\n",
    "tau_25_F22 = one_over_e_time\n",
    "tau_25_unc_F22 = one_over_e_time_uncertainty\n",
    "print('gamma =',decay_constant,'gamma uncertainty =',decay_constant_uncertainty)"
   ]
  },
  {
   "cell_type": "markdown",
   "metadata": {},
   "source": [
    "# rate plot"
   ]
  },
  {
   "cell_type": "code",
   "execution_count": 36,
   "metadata": {},
   "outputs": [],
   "source": [
    "def trapVolume(gamma,trap_depth,T): \n",
    "    KelvinToJoules = 1.380648780669e-23\n",
    "    lmbda = 850e-9\n",
    "    w_0 = 0.7e-6 # beam waist (radius)\n",
    "    U = trap_depth*KelvinToJoules # depth in Joules\n",
    "    w_r = np.sqrt(4*U/(mc.Rb87_M*w_0**2))# Hz\n",
    "    w_a = w_r / (np.sqrt(2)*w_0*np.pi/lmbda) # Hz\n",
    "    w_r = 130000*(2*np.pi)\n",
    "    w_a = 25000*(2*np.pi)\n",
    "    w = (w_r**2 * w_a)**(1/3)\n",
    "    V = ((2*np.pi*mc.k_B * T/(mc.Rb87_M*w**2))**(3/2))*1e6\n",
    "    beta = 2*np.sqrt(2)*V\n",
    "    print('volume',V)\n",
    "    return V"
   ]
  },
  {
   "cell_type": "code",
   "execution_count": 84,
   "metadata": {},
   "outputs": [
    {
     "name": "stdout",
     "output_type": "stream",
     "text": [
      "volume 2.310670891643076e-14\n"
     ]
    },
    {
     "data": {
      "image/png": "[encoded data removed]",
      "text/plain": [
       "<Figure size 1500x600 with 1 Axes>"
      ]
     },
     "metadata": {},
     "output_type": "display_data"
    }
   ],
   "source": [
    "detuningF21 = [25,50,75,100,125,137.5,150,162.5,175,200,250,300,350,400,450,500,550,600,650]\n",
    "detuningF22 = [25,50,62.5,75,87.5,100,125,150,200,250,300]\n",
    "detuningF22_shifted = [delta+814 for delta in detuningF22]\n",
    "detuning = [delta*1e-3 for delta in (detuningF21+detuningF22_shifted)]\n",
    "\n",
    "# ls_detuning = [freq-17+48 for freq in detuning]\n",
    "# print(ls_detuning)\n",
    "decay_rate = [gamma_25_F21,gamma_50_F21, gamma_75_F21, gamma_100_F21,gamma_125_F21,gamma_137_F21,\n",
    "             gamma_150_F21,gamma_162_F21,gamma_175_F21,gamma_200_F21,gamma_250_F21,gamma_300_F21,\n",
    "              gamma_350_F21,gamma_400_F21,gamma_450_F21,gamma_500_F21,gamma_550_F21,\n",
    "              gamma_600_F21,gamma_650_F21,gamma_25_F22,gamma_50_F22,\n",
    "              gamma_63_F22, gamma_75_F22,gamma_87_F22, \n",
    "              gamma_100_F22,gamma_125_F22,gamma_150_F22,gamma_200_F22,gamma_250_F22,gamma_300_F22]\n",
    "decay_rate_unc = [gamma_25_unc_F21, gamma_50_unc_F21,gamma_75_unc_F21,gamma_100_unc_F21,\n",
    "                  gamma_125_unc_F21,gamma_137_unc_F21,gamma_150_unc_F21,gamma_162_unc_F21,\n",
    "              gamma_175_unc_F21, gamma_200_unc_F21,gamma_250_unc_F21,gamma_300_unc_F21,\n",
    "                  gamma_350_unc_F21,gamma_400_unc_F21,gamma_450_unc_F21,gamma_500_unc_F21,\n",
    "                  gamma_550_unc_F21,gamma_600_unc_F21,gamma_650_unc_F21,\n",
    "                  gamma_25_unc_F22, gamma_50_unc_F22,gamma_63_unc_F22,\n",
    "                  gamma_75_unc_F22,gamma_87_unc_F22,gamma_100_unc_F22,gamma_125_unc_F22,\n",
    "                  gamma_150_unc_F22,gamma_200_unc_F22,gamma_250_unc_F22,gamma_300_unc_F22]\n",
    "\n",
    "decay_rate_error_bar = [decay_rate_unc,decay_rate_unc]\n",
    "\n",
    "volume_cm3 = trapVolume(1,0.85e-3,30e-6)\n",
    "beta = [gamma*volume_cm3*1e3 for gamma in decay_rate]\n",
    "beta_unc = [gamma_unc*volume_cm3*1e3 for gamma_unc in decay_rate_unc]\n",
    "beta_error = [beta_unc,beta_unc]\n",
    "fig, ax = plt.subplots(figsize=(15, 6))\n",
    "font = {'family' : 'DejaVu Sans',\n",
    "        'weight' : 'normal',\n",
    "        'size'   : 22}\n",
    "matplotlib.rc('font', **font)\n",
    "ax.errorbar(detuning,beta, yerr=beta_error,ls='none',ecolor=color1,marker = 'o',markersize = 10,\n",
    "            markerfacecolor=color1,markeredgecolor='k',capsize=5)\n",
    "\n",
    "# Use ScalarFormatter for the y-axis labels\n",
    "ax.yaxis.set_major_formatter(ScalarFormatter(useMathText=True))\n",
    "# ax.ticklabel_format(axis='y', style='sci', scilimits=(-3, 3))  # Adjust the scilimits as needed\n",
    "plt.ylabel(r'$ \\beta \\ \\ \\mathrm{(cm^3s^{-1})} $')\n",
    "plt.xlabel(r'$\\Delta_{2 \\rightarrow 0} \\ \\mathrm{GHz}$')\n",
    "plt.title('D1, U = 17 MHz, I = 2S') \n",
    "plt.rcParams[\"axes.linewidth\"] = 1.5\n",
    "# plt.ticklabel_format(style='plain') "
   ]
  },
  {
   "cell_type": "code",
   "execution_count": null,
   "metadata": {},
   "outputs": [],
   "source": []
  },
  {
   "cell_type": "code",
   "execution_count": null,
   "metadata": {},
   "outputs": [],
   "source": []
  },
  {
   "cell_type": "code",
   "execution_count": null,
   "metadata": {},
   "outputs": [],
   "source": []
  },
  {
   "cell_type": "code",
   "execution_count": null,
   "metadata": {},
   "outputs": [],
   "source": []
  },
  {
   "cell_type": "code",
   "execution_count": 48,
   "metadata": {
    "tags": []
   },
   "outputs": [
    {
     "name": "stdout",
     "output_type": "stream",
     "text": [
      "Number of Pictures: 3200; Picture Dimensions: 5 x 10\n",
      "Variations: 8;\tRepetitions: 200;\tExp File Version: 4;\n",
      "Experiment started at (H:M:S) 11:6:53: on (Y-M-D) 2023-8-25, And ended at 11:18:39: on 2023-8-25\n",
      "Experiment Notes: HDF5 NOT ANNOTATED: please call exp.Annotate() to annotate this file.\n",
      "\n"
     ]
    },
    {
     "data": {
      "text/plain": [
       "<Figure size 30000x9600 with 0 Axes>"
      ]
     },
     "metadata": {},
     "output_type": "display_data"
    },
    {
     "data": {
      "image/png": "[encoded data removed]",
      "text/plain": [
       "<Figure size 1500x600 with 1 Axes>"
      ]
     },
     "metadata": {},
     "output_type": "display_data"
    }
   ],
   "source": [
    "##pulse duration\n",
    "\n",
    "fileId = 8\n",
    "threshold = 70\n",
    "dataset1 = ta.standardTransferAnalysis(fileId, loadTwoOpt, tOptions = [to.ThresholdOptions(manualThreshold = True, manualThresholdValue = threshold)]);\n",
    "(tferAtomsVarAvg, tferAtomsVarErrs, loadAtomsVarAvg, initPicCounts, keyName, key1, repetitions, initThresholds, \n",
    "            fits, avgTferData1, avgTferErr1, avgFit, avgPics, genAvgs, genErrs, tferVarAvg, tferVarErr, initAtomImages, \n",
    "            tferAtomImages, tferPicCounts, tferThresholds, fitModules, basicInfoStr, ensembleHits, tOptions, analysisOpts,\n",
    "            tferAtomsPs, tferAtomsPs, tferList, isAnnotated, hmm) = dataset1\n",
    "color1 = 'tab:blue'\n",
    "upperbound = []\n",
    "lowerbound = []\n",
    "for i in np.arange(0,len(avgTferErr1)):\n",
    "    up = avgTferErr1[i][0]\n",
    "    lo = avgTferErr1[i][1]\n",
    "    upperbound.append(up)  \n",
    "    lowerbound.append(lo)\n",
    "err1= [upperbound,lowerbound]\n",
    "plt.figure(dpi=1200)\n",
    "\n",
    "fig, ax = plt.subplots(figsize=(15, 6))\n",
    "font = {'family' : 'DejaVu Sans',\n",
    "        'weight' : 'normal',\n",
    "        'size'   : 22}\n",
    "matplotlib.rc('font', **font)\n",
    "avgTferData1[0] = 0.8\n",
    "limit = min(avgTferData1)\n",
    "# avgTferData1[5] = 0.2\n",
    "# avgTferData1[7] = 0.15\n",
    "\n",
    "\n",
    "x_data = key1\n",
    "y_data = (avgTferData1-limit)/(.8-limit)\n",
    "initial_guess = [max(y_data), 0.1, min(y_data)]\n",
    "popt, pcov = curve_fit(decay_exponential, x_data, y_data, p0=initial_guess)\n",
    "x_fit = np.linspace(min(x_data), max(x_data), 100)\n",
    "y_fit = decay_exponential(x_fit, *popt)\n",
    "decay_constant = popt[1]\n",
    "decay_constant_uncertainty = np.sqrt(pcov[1, 1])\n",
    "one_over_e_time = 1 / decay_constant\n",
    "one_over_e_time_uncertainty = decay_constant_uncertainty / decay_constant\n",
    "decay_constant_str = f\"{decay_constant:.4f}\"\n",
    "decay_constant_uncertainty_str = f\"{decay_constant_uncertainty:.4f}\"\n",
    "\n",
    "\n",
    "legend_label = fr\"$\\Gamma$ = {decay_constant_str} ± {decay_constant_uncertainty_str}, $\\tau$ = {one_over_e_time:.4f} ± {one_over_e_time_uncertainty:.4f}\"\n",
    "ticks = np.arange(key1[0], max(key1),len(key1))\n",
    "ax.errorbar(key1,(avgTferData1-limit)/(.8-limit), yerr=err1,ls='none',ecolor=color1,marker = 'o',markersize = 10,\n",
    "            markerfacecolor=color1,markeredgecolor='k',capsize=5, label=r'$ \\Delta(2 \\rightarrow 0) = 150 \\ \\mathrm{MHz} \\ \\mathrm{D1 \\ F=2-1} $')\n",
    "plt.plot(x_fit, y_fit, 'gray',label=legend_label)\n",
    "plt.legend(loc= 'upper right', ncol = 1,prop={'size': 15})\n",
    "# plt.ylim(0,1)\n",
    "plt.ylabel('survival')\n",
    "plt.xlabel(r'pulse duration (ms)')\n",
    "plt.rcParams[\"axes.linewidth\"] = 1.5\n",
    "plt.ticklabel_format(style='plain') \n"
   ]
  },
  {
   "cell_type": "code",
   "execution_count": null,
   "metadata": {},
   "outputs": [],
   "source": []
  }
 ],
 "metadata": {
  "anaconda-cloud": {},
  "hide_input": false,
  "kernelspec": {
   "display_name": "Python 3 (ipykernel)",
   "language": "python",
   "name": "python3"
  },
  "language_info": {
   "codemirror_mode": {
    "name": "ipython",
    "version": 3
   },
   "file_extension": ".py",
   "mimetype": "text/x-python",
   "name": "python",
   "nbconvert_exporter": "python",
   "pygments_lexer": "ipython3",
   "version": "3.10.5"
  },
  "nav_menu": {},
  "notify_time": "10",
  "record_timing": true,
  "toc": {
   "nav_menu": {},
   "number_sections": true,
   "sideBar": true,
   "skip_h1_title": false,
   "toc_cell": true,
   "toc_position": {
    "height": "780px",
    "left": "0px",
    "right": "1329.33px",
    "top": "107px",
    "width": "277px"
   },
   "toc_section_display": "none",
   "toc_window_display": false
  },
  "toc-autonumbering": true,
  "toc-showcode": false,
  "toc-showmarkdowntxt": false,
  "toc-showtags": false,
  "varInspector": {
   "cols": {
    "lenName": 16,
    "lenType": 16,
    "lenVar": 40
   },
   "kernels_config": {
    "python": {
     "delete_cmd_postfix": "",
     "delete_cmd_prefix": "del ",
     "library": "var_list.py",
     "varRefreshCmd": "print(var_dic_list())"
    },
    "r": {
     "delete_cmd_postfix": ") ",
     "delete_cmd_prefix": "rm(",
     "library": "var_list.r",
     "varRefreshCmd": "cat(var_dic_list()) "
    }
   },
   "types_to_exclude": [
    "module",
    "function",
    "builtin_function_or_method",
    "instance",
    "_Feature"
   ],
   "window_display": false
  }
 },
 "nbformat": 4,
 "nbformat_minor": 4
}
