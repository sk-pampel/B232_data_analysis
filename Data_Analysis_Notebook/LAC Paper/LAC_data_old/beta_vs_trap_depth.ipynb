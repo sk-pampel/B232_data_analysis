version https://git-lfs.github.com/spec/v1
oid sha256:ffe229f8073c117bd33492c33e07108606d0e760d4e883cfa191ab54848a5e63
size 2753148
