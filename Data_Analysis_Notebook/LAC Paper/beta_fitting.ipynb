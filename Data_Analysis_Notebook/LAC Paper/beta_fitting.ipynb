version https://git-lfs.github.com/spec/v1
oid sha256:3feeebe610517fd44aefc7a0027eb238bbc46c067f8ff1e0c04cd5156acf3759
size 475440
