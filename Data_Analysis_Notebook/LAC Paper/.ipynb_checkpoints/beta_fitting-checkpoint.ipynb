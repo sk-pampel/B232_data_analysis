version https://git-lfs.github.com/spec/v1
oid sha256:9745b1f62a0c8ecc96be02f26fe1d8efe5b5bb949d22b94a6ff3063a480caecb
size 399540
