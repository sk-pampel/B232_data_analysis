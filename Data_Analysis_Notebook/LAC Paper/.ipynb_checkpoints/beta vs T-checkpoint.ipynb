version https://git-lfs.github.com/spec/v1
oid sha256:ec7ded3ddf38e102f5b46be5a47cb10987f0f0d0900cb76908d00fff88704253
size 1729632
