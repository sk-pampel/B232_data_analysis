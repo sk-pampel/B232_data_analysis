version https://git-lfs.github.com/spec/v1
oid sha256:e761e89557e0d67ac768fa685880007079ca806612046a2f1ba9f663c2bd37a2
size 1184967
