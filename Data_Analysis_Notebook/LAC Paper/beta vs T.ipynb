version https://git-lfs.github.com/spec/v1
oid sha256:1830b2008eae336d1069b99787f52d36fd8ebe0945d6dd63fd5df3f5702f1664
size 1753342
