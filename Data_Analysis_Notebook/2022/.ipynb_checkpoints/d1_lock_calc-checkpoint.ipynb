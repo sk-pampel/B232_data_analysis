version https://git-lfs.github.com/spec/v1
oid sha256:2ef86b02cab1f402693bff03844e6ec7adbf979b3fbb11b01ae0144880f08009
size 4464
