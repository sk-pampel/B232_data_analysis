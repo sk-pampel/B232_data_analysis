version https://git-lfs.github.com/spec/v1
oid sha256:bd2caf02d3ffdae19df3c163b440224b8feb516aab2f99641165682fedeaf995
size 37850
