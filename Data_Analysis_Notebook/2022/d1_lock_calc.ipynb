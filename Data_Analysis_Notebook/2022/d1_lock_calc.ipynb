version https://git-lfs.github.com/spec/v1
oid sha256:ed5ecb3e47e9133eb6e2b4c83463d318732c0ec78074a7c06d677f0289b844b7
size 4404
