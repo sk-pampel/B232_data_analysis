{
 "cells": [
  {
   "cell_type": "code",
   "execution_count": 1,
   "metadata": {
    "ExecuteTime": {
     "end_time": "2018-02-28T17:06:46.067900Z",
     "start_time": "2018-02-28T17:06:31.753411Z"
    },
    "hidden": true,
    "tags": []
   },
   "outputs": [],
   "source": [
    "from scipy.optimize import curve_fit\n",
    "import matplotlib.pyplot as plt\n",
    "import numpy as np"
   ]
  },
  {
   "cell_type": "code",
   "execution_count": 2,
   "metadata": {},
   "outputs": [],
   "source": [
    "%matplotlib inline\n",
    "from matplotlib import rcParams\n",
    "rcParams['font.family'] = 'sans-serif';\n",
    "rcParams['axes.linewidth'] = 1.5;\n",
    "rcParams['axes.titlesize'] = 20\n",
    "rcParams['axes.labelsize'] = 20\n",
    "rcParams['xtick.labelsize'] = 15\n",
    "rcParams['xtick.major.width'] = 2\n",
    "rcParams['ytick.major.width'] = 2\n",
    "rcParams['ytick.labelsize'] = 15\n",
    "rcParams['lines.linewidth'] = 2.5\n",
    "rcParams['lines.color'] = 'k'\n",
    "plot_width = 8;\n",
    "plot_height = 5;"
   ]
  },
  {
   "cell_type": "code",
   "execution_count": 9,
   "metadata": {},
   "outputs": [
    {
     "name": "stdout",
     "output_type": "stream",
     "text": [
      "Slope = -0.45096788963714196 Intercept = 0.0030609267670589483\n",
      "Slope = -0.1967725103693725 Intercept = -0.00033444139443572496\n"
     ]
    },
    {
     "data": {
      "text/plain": [
       "<matplotlib.legend.Legend at 0x274412553d0>"
      ]
     },
     "execution_count": 9,
     "metadata": {},
     "output_type": "execute_result"
    },
    {
     "data": {
      "image/png": "[encoded data removed]",
      "text/plain": [
       "<Figure size 432x288 with 1 Axes>"
      ]
     },
     "metadata": {
      "needs_background": "light"
     },
     "output_type": "display_data"
    }
   ],
   "source": [
    "Agilent = np.array([0, -0.1, -0.3, -0.5, -0.7, -1, -1.5, -2, -2.5, -3, -3.5, -4, -4.5, -5, -5.5, -6, -7, -8, -9, -10])\n",
    "Tweezer = np.array([0, 0.223, 0.667, 1.111, 1.554, 2.220, 3.331, 4.434, 5.549, 6.666, 7.780, 8.881, 9.992, 11.091, 12.220, 13.31, 15.56, 17.75, 20.01, 22.1])\n",
    "Tweezer_old = np.array([0, 0.5, 1.527, 2.5, 3.556, 5.08, 7.625, 10.165, 12.71, 15.25, 17.8, 20.33, 22.87, 25.42, 27.95, 30.5, 35.58, 40.65, 45.73, 50.8])\n",
    "def line(x, A, B):\n",
    "    return A*x+B\n",
    "plt.scatter(Tweezer, Agilent, color = 'black')\n",
    "popt, pcov = curve_fit(line, Tweezer, Agilent)\n",
    "plt.plot(Tweezer, line(Tweezer, *popt), 'g--',label='current cal')\n",
    "plt.xlabel('Tweezer Power')\n",
    "plt.ylabel('Agilent Voltage')\n",
    "print('Slope =', popt[0], 'Intercept =', popt[1])\n",
    "\n",
    "plt.scatter(Tweezer_old, Agilent, color = 'black')\n",
    "popt, pcov = curve_fit(line, Tweezer_old, Agilent)\n",
    "plt.plot(Tweezer_old, line(Tweezer_old, *popt), 'b--',label='previous cal')\n",
    "plt.xlabel('Tweezer Power')\n",
    "plt.ylabel('Agilent Voltage')\n",
    "print('Slope =', popt[0], 'Intercept =', popt[1])\n",
    "plt.legend()"
   ]
  },
  {
   "cell_type": "code",
   "execution_count": null,
   "metadata": {},
   "outputs": [],
   "source": []
  }
 ],
 "metadata": {
  "anaconda-cloud": {},
  "hide_input": false,
  "kernelspec": {
   "display_name": "Python 3 (ipykernel)",
   "language": "python",
   "name": "python3"
  },
  "language_info": {
   "codemirror_mode": {
    "name": "ipython",
    "version": 3
   },
   "file_extension": ".py",
   "mimetype": "text/x-python",
   "name": "python",
   "nbconvert_exporter": "python",
   "pygments_lexer": "ipython3",
   "version": "3.8.8"
  },
  "nav_menu": {},
  "notify_time": "10",
  "record_timing": true,
  "toc": {
   "nav_menu": {},
   "number_sections": true,
   "sideBar": true,
   "skip_h1_title": false,
   "toc_cell": true,
   "toc_position": {
    "height": "780px",
    "left": "0px",
    "right": "1329.33px",
    "top": "107px",
    "width": "277px"
   },
   "toc_section_display": "none",
   "toc_window_display": false
  },
  "toc-autonumbering": true,
  "toc-showcode": false,
  "toc-showmarkdowntxt": false,
  "toc-showtags": false,
  "varInspector": {
   "cols": {
    "lenName": 16,
    "lenType": 16,
    "lenVar": 40
   },
   "kernels_config": {
    "python": {
     "delete_cmd_postfix": "",
     "delete_cmd_prefix": "del ",
     "library": "var_list.py",
     "varRefreshCmd": "print(var_dic_list())"
    },
    "r": {
     "delete_cmd_postfix": ") ",
     "delete_cmd_prefix": "rm(",
     "library": "var_list.r",
     "varRefreshCmd": "cat(var_dic_list()) "
    }
   },
   "types_to_exclude": [
    "module",
    "function",
    "builtin_function_or_method",
    "instance",
    "_Feature"
   ],
   "window_display": false
  }
 },
 "nbformat": 4,
 "nbformat_minor": 4
}
