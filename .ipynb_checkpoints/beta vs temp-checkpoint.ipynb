version https://git-lfs.github.com/spec/v1
oid sha256:fe2e1280479db61079fa51b4af79a53b25b9bf3367b229dbe29c8cdc2f838a7e
size 1920381
