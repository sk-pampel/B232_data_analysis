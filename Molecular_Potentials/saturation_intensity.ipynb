{
 "cells": [
  {
   "cell_type": "code",
   "execution_count": 1,
   "metadata": {},
   "outputs": [],
   "source": [
    "import arc as arc"
   ]
  },
  {
   "cell_type": "code",
   "execution_count": 10,
   "metadata": {},
   "outputs": [
    {
     "data": {
      "text/plain": [
       "(4.4858157547982875,\n",
       " 2.9905438365321926,\n",
       " 2.9905438365321926,\n",
       " 5.007425148007146,\n",
       " 3.3382834320047627)"
      ]
     },
     "execution_count": 10,
     "metadata": {},
     "output_type": "execute_result"
    }
   ],
   "source": [
    "\n",
    "atom = arc.Rubidium87()\n",
    "\n",
    "ground_f2 = {'ng':5,'lg':0,'jg':0.5,'fg':2}\n",
    "ground_f1 = {'ng':5,'lg':0,'jg':0.5,'fg':1}\n",
    "excited_d1_f2={'ne':5,'le':1,'je':0.5,'fe':2}\n",
    "excited_d1_f1={'ne':5,'le':1,'je':0.5,'fe':1}\n",
    "excited_d2_f3={'ne':5,'le':1,'je':1.5,'fe':3}\n",
    "excited_d2_f2={'ne':5,'le':1,'je':1.5,'fe':2}\n",
    "# atom.getSaturationIntensity(**ground_f2,**excited_d1_f2,mfg=2,mfe=2)/10 # mW/cm^2\n",
    "# atom.getSaturationIntensity(**ground_f2,**excited_d2_f3,mfg=2,mfe=3)/10\n",
    "atom.getSaturationIntensity(**ground_f2,**excited_d1_f2,mfg=2,mfe=2)/10,\\\n",
    "atom.getSaturationIntensity(**ground_f1,**excited_d1_f2,mfg=1,mfe=2)/10,\\\n",
    "atom.getSaturationIntensity(**ground_f2,**excited_d1_f1,mfg=2,mfe=1)/10,\\\n",
    "atom.getSaturationIntensity(**ground_f2,**excited_d2_f2,mfg=2,mfe=2)/10,\\\n",
    "atom.getSaturationIntensity(**ground_f1,**excited_d2_f2,mfg=1,mfe=2)/10"
   ]
  },
  {
   "cell_type": "code",
   "execution_count": 3,
   "metadata": {},
   "outputs": [
    {
     "data": {
      "text/plain": [
       "(3.3382834320047627, 2.9905438365321926)"
      ]
     },
     "execution_count": 3,
     "metadata": {},
     "output_type": "execute_result"
    }
   ],
   "source": [
    "ground_f2 = {'ng':5,'lg':0,'jg':0.5,'fg':2}\n",
    "ground_f1 = {'ng':5,'lg':0,'jg':0.5,'fg':1}\n",
    "excited_d1_f2={'ne':5,'le':1,'je':0.5,'fe':2}\n",
    "excited_d1_f1={'ne':5,'le':1,'je':0.5,'fe':1}\n",
    "excited_d2_f3={'ne':5,'le':1,'je':1.5,'fe':3}\n",
    "excited_d2_f2={'ne':5,'le':1,'je':1.5,'fe':2}\n",
    "\n",
    "\n",
    "atom.getSaturationIntensity(**ground_f1,**excited_d2_f2,mfg=1,mfe=2)/10,\\\n",
    "atom.getSaturationIntensity(**ground_f1,**excited_d1_f2,mfg=1,mfe=2)/10"
   ]
  },
  {
   "cell_type": "code",
   "execution_count": null,
   "metadata": {},
   "outputs": [],
   "source": []
  }
 ],
 "metadata": {
  "kernelspec": {
   "display_name": "Python 3 (ipykernel)",
   "language": "python",
   "name": "python3"
  },
  "language_info": {
   "codemirror_mode": {
    "name": "ipython",
    "version": 3
   },
   "file_extension": ".py",
   "mimetype": "text/x-python",
   "name": "python",
   "nbconvert_exporter": "python",
   "pygments_lexer": "ipython3",
   "version": "3.10.5"
  }
 },
 "nbformat": 4,
 "nbformat_minor": 4
}
