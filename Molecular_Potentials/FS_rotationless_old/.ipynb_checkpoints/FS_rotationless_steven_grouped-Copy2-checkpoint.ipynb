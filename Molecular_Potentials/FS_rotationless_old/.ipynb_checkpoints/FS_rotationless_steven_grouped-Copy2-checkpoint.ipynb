{
 "cells": [
  {
   "cell_type": "code",
   "execution_count": 51,
   "id": "c16552eb-ba24-4a37-be77-56f0ff4b1dc4",
   "metadata": {
    "tags": []
   },
   "outputs": [],
   "source": [
    "import numpy as np\n",
    "from sympy.physics.quantum.cg import CG\n",
    "import math\n",
    "import copy\n",
    "import sympy as sp\n",
    "sp.init_printing(use_latex=True)\n",
    "np.set_printoptions(precision=3,suppress=True,linewidth=100000, edgeitems=10000)\n",
    "import time\n",
    "import IPython.display\n",
    "from IPython.display import Latex\n",
    "import matplotlib.pyplot as plt\n",
    "from scipy import linalg\n",
    "import matplotlib as mpl\n",
    "import matplotlib.style\n",
    "matplotlib.style.use('default')\n",
    "from random import randint"
   ]
  },
  {
   "cell_type": "markdown",
   "id": "cde33388-2202-4cc4-a441-e8a17f65af51",
   "metadata": {},
   "source": [
    "# Calculation of the Movre-Pischler Potentials for an ${}^{87}\\mathrm{Rb}$ dimer"
   ]
  },
  {
   "cell_type": "markdown",
   "id": "b508eb77-d7c6-4b28-a6bf-657ac44b9249",
   "metadata": {
    "tags": []
   },
   "source": [
    "The Movre-Pischler potentials are the energies of a diatomic molecule when including Born-Oppenhiemer and fine structure interactions. <br>\n"
   ]
  },
  {
   "cell_type": "markdown",
   "id": "00493caf-37d8-4929-b30f-835437971c36",
   "metadata": {},
   "source": [
    "### Summary of theory"
   ]
  },
  {
   "cell_type": "markdown",
   "id": "ac919fe5-25ae-4716-b1e6-08a1ae70969b",
   "metadata": {},
   "source": [
    "To calculate the energies, we need to find the following matrix elements as a function of internuclear distance R for each possible state:"
   ]
  },
  {
   "cell_type": "markdown",
   "id": "ef926b45-f24e-4004-8d33-bfec06869c11",
   "metadata": {},
   "source": [
    "$\\left \\langle L', |\\Lambda|', S', |\\Sigma|', |\\Omega|', \\chi',\\kappa' \\right| \\hat H_{BO}+\\hat H_{FS} \\left|L ,|\\Lambda|, S, |\\Sigma|, |\\Omega|,\\chi, \\kappa \\right \\rangle$ <br>  \n",
    "$=  E_{BO} \\delta_{L',L} \\delta_{|\\Lambda|',|\\Lambda|} \\delta_{S',S} \\delta_{|\\Sigma|',|\\Sigma|} \\delta_{|\\Omega|', |\\Omega|} \\delta_{\\chi',\\chi} \\delta_{\\kappa',\\kappa}  + \\left \\langle L', |\\Lambda|', S', |\\Sigma|', |\\Omega|', \\chi',\\kappa' \\right | A_{FS}(l_a \\cdot s_a  + l_b \\cdot s_b) \\left|L^{} ,|\\Lambda|, S, |\\Sigma|, |\\Omega|, \\chi, \\kappa \\right \\rangle $"
   ]
  },
  {
   "cell_type": "markdown",
   "id": "d21acc56-dbef-45fd-860d-8ebf725217bb",
   "metadata": {},
   "source": [
    "where the Born-Oppenheimer energies are $E_{BO}=(-1)^{\\Lambda+S} \\chi\\frac{2C_3}{R^{3}(1 + \\Lambda)!(1-\\Lambda)!} $ ."
   ]
  },
  {
   "cell_type": "markdown",
   "id": "f4912de9-3c74-49b3-a2f4-e50328f151cb",
   "metadata": {},
   "source": [
    "The fine structure Hamiltonian $ \\hat H_{FS}$ is not diagonal in the Born-Oppenheimer basis, so we need to perform a frame transformation to  <br> $|j_a \\omega_a (l_a s_a) j_b \\omega_b (l_b s_b) \\rangle$ . This Hamiltonian will yield off-diagonal matrix elements in the molecular basis. The projection is given by:"
   ]
  },
  {
   "cell_type": "markdown",
   "id": "7b91a34e-cf00-406c-8700-c9a2594cd80d",
   "metadata": {
    "tags": []
   },
   "source": [
    "$ \\left\\langle j_a \\omega_a (l_a s_a) j_b \\omega_b (l_b s_b) | L ,|\\Lambda|, S, |\\Sigma|, |\\Omega|, \\chi, \\kappa \\right \\rangle $ <br>"
   ]
  },
  {
   "cell_type": "markdown",
   "id": "5c8bd013-3226-42c5-acc4-c62358933c41",
   "metadata": {
    "tags": []
   },
   "source": [
    "$=\\sum_{l_a \\lambda_{l_a} s_a \\sigma_{a} l_b \\lambda_{l_b} s_b \\sigma_{b}} \\sum_{L, \\Lambda, S, \\Sigma, \\Omega,\\chi}  \\langle j_a \\omega_a (l_a s_a) j_b \\omega_b (l_b s_b) | l_a \\lambda_{a} s_a \\sigma_{a} l_b \\lambda_{b} s_b \\sigma_{b} \\rangle$ <br>\n",
    "$ \\ \\ \\ \\ \\ \\ \\ \\ \\ \\ \\ \\ \\ \\ \\ \\ \\ \\ \\ \\ \\ \\ \\ \\ \\ \\ \\ \\ \\ \\ \\ \\ \\ \\ \\ \\ \\ \\  \\langle l_a \\lambda_{a} s_a \\sigma_{a} l_b \\lambda_{b} s_b \\sigma_{b}|L, \\Lambda, S, \\Sigma, \\Omega,\\chi \\rangle \\langle L, \\Lambda, S, \\Sigma, \\Omega,\\chi | L ,|\\Lambda|, S, |\\Sigma|, |\\Omega|, \\chi, \\kappa \\rangle $"
   ]
  },
  {
   "cell_type": "markdown",
   "id": "545680da-66f2-441c-b47d-e80c143c39e7",
   "metadata": {
    "tags": []
   },
   "source": [
    "$=\\sum_{l_a \\lambda_{l_a} s_a \\sigma_{s_a} l_b \\lambda_{l_b} s_b \\sigma_{s_b}} \\sum_{L, \\Lambda, S, \\Sigma, \\Omega,\\chi} C_{l_{a} \\lambda_{a} s_{a} \\sigma_{a}}^{j_{a} \\omega_{a}} C_{l_{b} \\lambda_{b} s_{b} \\sigma_{b}}^{j_{b} \\omega_{b}} C_{l_{a} \\lambda_{a} l_{b} \\lambda_{b}}^{L \\Lambda } C_{s_{a} \\sigma_{a} s_{b} \\sigma_{b}}^{S \\Sigma}(-1)^{S \\cdot l_a} \\chi^{l_a} \\kappa $ <br>\n"
   ]
  },
  {
   "cell_type": "markdown",
   "id": "c6644040-46ba-40ad-b030-733f36f190bc",
   "metadata": {},
   "source": [
    "The relation between bases is given by:"
   ]
  },
  {
   "cell_type": "markdown",
   "id": "d78aa11e-30ef-4807-b6c3-974019890a2c",
   "metadata": {},
   "source": [
    " $ |L, |\\Lambda|, S, |\\Sigma|, |\\Omega|,\\chi, \\kappa_{BO}, \\kappa_{FS} \\rangle = \\frac{1}{\\sqrt{2-\\delta_{|\\Lambda|,0}}}\\left(|L, \\Lambda, S, \\Sigma, \\Omega,\\chi \\rangle +\\kappa_{FS} \\delta_{|\\Lambda|,1} |L, -\\Lambda, S, -\\Sigma, -\\Omega , \\chi \\rangle \\right)$ (symmetrized BO basis to unsymmetrized)"
   ]
  },
  {
   "cell_type": "markdown",
   "id": "9e4c3251-7905-4558-98c7-637a5894678b",
   "metadata": {},
   "source": [
    "$ |L, \\Lambda, S, \\Sigma, \\Omega,\\chi \\rangle = \\sum_{\\lambda_{a} \\lambda_{b}} \\sum_{\\sigma_{a} \\sigma_{b}} C_{l_a \\lambda_{a} l_b \\lambda_{b}}^{L \\Lambda} C_{s_a \\sigma_{a} s_b \\sigma_{b}}^{S \\Sigma} (-1)^{l_a \\cdot S} \\chi^{l_a}| l_a \\lambda_{a} s_a \\sigma_{a} l_b \\lambda_{b} s_b \\sigma_{b} \\rangle$ (unsymmetrized BO basis to seperate atom ls basis)"
   ]
  },
  {
   "cell_type": "markdown",
   "id": "96dc4774-8b58-40f2-984c-33256da322e9",
   "metadata": {},
   "source": [
    "$ |l_a \\lambda_{a} s_a \\sigma_{a} l_b \\lambda_{b} s_b \\sigma_{b} \\rangle =  \\sum_{\\lambda_{a} \\sigma_{a}} \\sum_{\\lambda_{b} \\sigma_{b}} C_{l_a \\lambda_{a} s_a \\sigma_{a}}^{j_a \\omega_{a}} C_{l_b \\lambda_{b} s_b \\sigma_{b}}^{j_b \\omega_{b}}|j_a \\omega_a (l_a s_a) j_b \\omega_b (l_b s_b) \\rangle $ (seperate atom ls to j basis)"
   ]
  },
  {
   "cell_type": "markdown",
   "id": "88d80bc7-95a0-4f4a-ab92-11f25bd7e7c0",
   "metadata": {},
   "source": [
    "The fine structure Hamiltonian is then given by "
   ]
  },
  {
   "cell_type": "markdown",
   "id": "d43612b8-6cc7-465b-83ee-11b2e6491583",
   "metadata": {},
   "source": [
    "$ \\hat H_{FS} = \\sum_{j_a \\omega_{a}j_b \\omega_{b}}|j_a \\omega_{a} (l_a s_a) j_b \\omega_{b} (l_b s_b) \\rangle E_{FS} \\langle j_a \\omega_{a} (l_a s_a) j_b \\omega_{b} (l_b s_b) | $ "
   ]
  },
  {
   "cell_type": "markdown",
   "id": "60a1bd4e-43a1-480b-be06-f4743dda2974",
   "metadata": {},
   "source": [
    "$ E_{FS} = A_{FS}(l_a \\cdot s_a  + l_b \\cdot s_b) = \\frac{2}{3} \\Delta (l_a \\cdot s_a  + l_b \\cdot s_b)$ <kb>\n",
    "$ =\\frac{\\Delta}{3} (j_a^2-l_a^2-s_a^2)+(j_b^2-l_b^2-s_b^2) $\n",
    "\n",
    "$= \\frac{\\Delta}{3}[j_a(j_a+1) - l_a(l_a+1)-s_a(s_a+1)+j_b(j_b+1) - l_b(l_b+1)-s_b(s_b+1)] $"
   ]
  },
  {
   "cell_type": "markdown",
   "id": "54dfb8ab-3ec8-4762-8408-6a79a3780c3e",
   "metadata": {
    "tags": [],
    "toc-hr-collapsed": true
   },
   "source": [
    "### generate seperate atom ls and j bases"
   ]
  },
  {
   "cell_type": "markdown",
   "id": "d692b3fa-892e-463f-81ac-c3d5ae02e0c9",
   "metadata": {},
   "source": [
    "$ l_a,l_b,s_a,s_b  \\rightarrow |l_a,m_{l_a},s_a,m_{s_a},l_b,m_{l_b},s_b,m_{s_b} \\rangle$ <br>\n",
    "$l_a,l_b,s_a,s_b  \\rightarrow |j_a,m_{j_a},l_a,s_a,j_b,m_{j_b},l_b,s_b \\rangle$"
   ]
  },
  {
   "cell_type": "markdown",
   "id": "3c7ef06f-7109-4834-8d90-38b267d0d600",
   "metadata": {},
   "source": [
    "takes single atom l and s values to generate all possible states in seperate atom ls basis and seperate atom j basis."
   ]
  },
  {
   "cell_type": "markdown",
   "id": "cf536888-2433-4a12-bff6-c1df2917cfa4",
   "metadata": {},
   "source": [
    "In order to transform the BO states to the j basis, we must transform the BO states to the ls basis and then from the ls to the j basis. \n",
    "The easiest way to accomplish this is to make a transformation matrix of Clebsh-Gordon coefficients for every possible separate atom ls and j state\n",
    "(given our single atom l and s values). This function generates the necessary seperate atom ls and j basis states which are used in the ls_to_j_basis function."
   ]
  },
  {
   "cell_type": "code",
   "execution_count": 52,
   "id": "b40f5d8a-68c2-4da8-98cd-f45b19446bf9",
   "metadata": {},
   "outputs": [],
   "source": [
    "def create_seperate_atom_bases(l_vals, s_vals) :   \n",
    "    ls_basis, j_basis = [],[]    \n",
    "    for l_a in l_vals:\n",
    "        for l_b in l_vals:\n",
    "            for s_a in s_vals:\n",
    "                for s_b in s_vals:\n",
    "                    for j_a in set(np.arange(abs(s_a - l_a), s_a + l_a + 1, 1)):\n",
    "                        for j_b in set(np.arange(abs(s_b - l_b), s_b + l_b + 1, 1)):\n",
    "                            for m_j_a in np.arange(-j_a,j_a+1,1):\n",
    "                                for m_j_b in np.arange(-j_b,j_b+1,1):\n",
    "                                    j_2atom_states = {'j_a':j_a,'m_j_a':m_j_a,'l_a':l_a,'s_a':s_a,'j_b':j_b,'m_j_b':m_j_b,'l_b':l_b,'s_b':s_b}\n",
    "                                    j_basis.append(j_2atom_states)\n",
    "                    for m_l_a in np.arange(-l_a,l_a+1,1):\n",
    "                        for m_l_b in np.arange(-l_b,l_b+1,1):\n",
    "                             for m_s_a in np.arange(-s_a, s_a+1,1):\n",
    "                                for m_s_b in np.arange(-s_b,s_b+1,1):\n",
    "                                    ls_2atom_states = {'l_a':l_a,'m_l_a':m_l_a,'s_a':s_a,'m_s_a':m_s_a,'l_b':l_b,'m_l_b':m_l_b, 's_b':s_b,'m_s_b':m_s_b}\n",
    "                                    ls_basis.append(ls_2atom_states)\n",
    "\n",
    "\n",
    "    return ls_basis, j_basis "
   ]
  },
  {
   "cell_type": "code",
   "execution_count": 200,
   "id": "568cefe8-4f27-4504-8394-7abb11dbf79b",
   "metadata": {},
   "outputs": [],
   "source": [
    "ls_basis,j_basis = create_seperate_atom_bases([0,1],[1/2])\n",
    "# print('\\033[1m' +'seperate atom j states'+'\\033[0m')\n",
    "# print('number of basis states:',len(j_basis))\n",
    "# for state in j_basis:\n",
    "#     print(state)"
   ]
  },
  {
   "cell_type": "markdown",
   "id": "d0299d5a-3955-40d5-a12a-c35d45d8a4c1",
   "metadata": {},
   "source": [
    "### create ls to j basis transformation matrix"
   ]
  },
  {
   "cell_type": "markdown",
   "id": "8b358baa-c200-43e4-9787-5438b6266e4f",
   "metadata": {},
   "source": [
    "$|l_a, m_{l_a}, s_a, m_{s_a},l_b, m_{l_b},s_b, m_{s_b} \\rangle \\langle j_a, m_{j_a}, l_a,s_a,j_b, m_{j_b},l_b,s_b|$"
   ]
  },
  {
   "cell_type": "markdown",
   "id": "021e2b36-9db9-4e67-8996-3773a5238f7c",
   "metadata": {},
   "source": [
    "this function creates the transformation matrix to from the ls to j basis."
   ]
  },
  {
   "cell_type": "markdown",
   "id": "a37f323a-fc72-4656-b690-d8968f955b6c",
   "metadata": {},
   "source": [
    "for states ${|l_a, m_{l_a}, s_a, m_{s_a},l_b, m_{l_b},s_b, m_{s_b} \\rangle}_p$  and ${|j_a, m_{j_a}, l_a,s_a,j_b, m_{j_b},l_b,s_b \\rangle}_q$ <kb> where p = q = 0,1,2,...,63"
   ]
  },
  {
   "cell_type": "markdown",
   "id": "54690bbc-d08d-4b6a-91d3-80fde03d715e",
   "metadata": {},
   "source": [
    "we need to find $ _q\\langle {j_a, m_{j_a}, l_a,s_a,j_b, m_{j_b},l_b,s_b|}{l_a, m_{l_a}, s_a, m_{s_a},l_b, m_{l_b},s_b, m_{s_b} \\rangle}_p=C_{{(l_a m_{l_a} s_a m_{s_a})}_p}^{{(j_a m_{j_a})}_q}C_{{(l_b m_{l_b} s_b m_{s_b})}_p}^{{(j_b m_{j_b})}_q}$ for each permuation of states p and q"
   ]
  },
  {
   "cell_type": "markdown",
   "id": "7ec8b88f-dd1d-473f-80f7-a87a49a5a537",
   "metadata": {},
   "source": [
    "let $ \\ \\ \\ C_{(ls)_p}^{j_q}=C_{{(l_a m_{l_a} s_a m_{s_a})}_p}^{{(j_a m_{j_a})}_q}C_{{(l_b m_{l_b} s_b m_{s_b})}_p}^{{(j_b m_{j_b})}_q}$ "
   ]
  },
  {
   "cell_type": "markdown",
   "id": "97d0650d-5983-4321-aec0-a57a6b74324e",
   "metadata": {},
   "source": [
    "The ls to j operator is a matrix of the form"
   ]
  },
  {
   "cell_type": "markdown",
   "id": "a559fc00-d0d7-41e1-ad49-258e9e9677d0",
   "metadata": {},
   "source": [
    "\n",
    "$\\left(\\begin{array}{ccccc}\n",
    "C_{(ls)_0}^{j_0} & C_{(ls)_1}^{j_0} & C_{(ls)_2}^{j_0} & \\cdots & C_{(ls)_{63}}^{j_0} \\\\\n",
    "C_{(ls)_0}^{j_1} & C_{(ls)_1}^{j_1} & C_{(ls)_2}^{j_1} & \\cdots & C_{(ls)_{63}}^{j_1}\\\\\n",
    "C_{(ls)_0}^{j_2} & C_{(ls)_1}^{j_2} & C_{(ls)_2}^{j_2} & \\cdots & C_{(ls)_{63}}^{j_2}\\\\\n",
    "\\vdots & \\vdots & \\vdots & \\ddots \\\\\n",
    "C_{(ls)_{63}}^{j_{0}} & C_{(ls)_{63}}^{j_{1}} & C_{(ls)_{63}}^{j_{2}} & \\cdots & C_{(ls)_{63}}^{j_{63}}\n",
    "\\end{array}\\right)$"
   ]
  },
  {
   "cell_type": "code",
   "execution_count": 53,
   "id": "29e32305-bf4f-45a1-a5e3-2aaf5b98a044",
   "metadata": {},
   "outputs": [],
   "source": [
    "def ls_to_j_op(ls_basis, j_basis):\n",
    "    op = np.zeros((len(ls_basis),len(j_basis))) \n",
    "    for ls_num, ls_state in enumerate(ls_basis): \n",
    "        for j_num, j_state in enumerate(j_basis):\n",
    "            op[j_num,ls_num] = 1\n",
    "            if ls_state['l_a'] != j_state['l_a'] or ls_state['l_b'] != j_state['l_b'] or ls_state['s_a'] != j_state['s_a'] or ls_state['s_b'] != j_state['s_b']:\n",
    "                op[j_num,ls_num] *= 0\n",
    "            else:\n",
    "                op[j_num,ls_num] *= (float(CG(ls_state['l_a'], ls_state['m_l_a'], ls_state['s_a'], ls_state['m_s_a'], j_state['j_a'], j_state['m_j_a']).doit())\n",
    "                                       *float(CG(ls_state['l_b'], ls_state['m_l_b'], ls_state['s_b'], ls_state['m_s_b'], j_state['j_b'], j_state['m_j_b']).doit()))\n",
    "    return op"
   ]
  },
  {
   "cell_type": "code",
   "execution_count": 201,
   "id": "d4c4aa85-9d8c-41d4-99cb-5d872bbe3666",
   "metadata": {},
   "outputs": [],
   "source": [
    "# ls_basis,j_basis = create_seperate_atom_bases([0,1],[1/2])\n",
    "ls_to_j = ls_to_j_op(ls_basis, j_basis)\n",
    "# print(ls_to_j)"
   ]
  },
  {
   "cell_type": "markdown",
   "id": "63ccbd75-afb9-4efc-a1f0-22fa200fc1f7",
   "metadata": {},
   "source": [
    "### create fine structure Hamiltonian "
   ]
  },
  {
   "cell_type": "markdown",
   "id": "701c9168-f9f8-4701-86e7-3e732be6d777",
   "metadata": {
    "tags": []
   },
   "source": [
    "$ \\hat H_{FS} = |j_a, \\omega_{a},l_a, s_a, j_b, \\omega_{b}, l_b, s_b \\rangle E_{FS} \\langle j_a, \\omega_{a},l_a, s_a, j_b, \\omega_{b}, l_b, s_b | $"
   ]
  },
  {
   "cell_type": "markdown",
   "id": "9eaec1b7-57b1-4c34-9cd0-e2374c7b78b2",
   "metadata": {},
   "source": [
    "This function creates a diagonal matrix of eigenvalues for all possible j states. Operates on j basis states to give eigenvalues. Matrix elements are given by"
   ]
  },
  {
   "cell_type": "markdown",
   "id": "946e516d-2fa7-4be9-ab5e-d74e4450b583",
   "metadata": {},
   "source": [
    "$\\langle j_a, \\omega_{a},l_a, s_a, j_b, \\omega_{b}, l_b, s_b |E_{FS} |j_a, \\omega_{a},l_a, s_a, j_b, \\omega_{b}, l_b, s_b \\rangle $ where"
   ]
  },
  {
   "cell_type": "markdown",
   "id": "3cb0b413-12e3-48b3-81f6-96ca3c2acca7",
   "metadata": {},
   "source": [
    "$ E_{FS} = A_{FS}(l_a \\cdot s_a  + l_b \\cdot s_b) = \\frac{2}{3} \\Delta (l_a \\cdot s_a  + l_b \\cdot s_b)$ <kb>\n",
    "$ =\\frac{\\Delta}{3} (j_a^2-l_a^2-s_a^2)+(j_b^2-l_b^2-s_b^2) $\n",
    "\n",
    "$= \\frac{\\Delta}{3}[j_a(j_a+1) - l_a(l_a+1)-s_a(s_a+1)+j_b(j_b+1) - l_b(l_b+1)-s_b(s_b+1)] $"
   ]
  },
  {
   "cell_type": "markdown",
   "id": "5ba38fd6-bf48-4485-a369-2b17e1852a2b",
   "metadata": {},
   "source": [
    "Energies are contained in a diagonal 64 x 64 matrix of the form"
   ]
  },
  {
   "cell_type": "markdown",
   "id": "1fb9993e-7846-4474-ae2d-2321e4907e75",
   "metadata": {
    "tags": []
   },
   "source": [
    "\n",
    "$\\left(\\begin{array}{ccccc}\n",
    "E_{0,0} & 0 & 0 & \\cdots & 0 \\\\\n",
    "0 & E_{1,1} & 0 & \\cdots & 0\\\\\n",
    "0 & 0 & E_{2,2} & \\cdots & 0\\\\\n",
    "\\vdots & \\vdots & \\vdots & \\ddots \\\\\n",
    "0 & 0 & 0 & \\cdots & E_{63,63}\n",
    "\\end{array}\\right)$"
   ]
  },
  {
   "cell_type": "code",
   "execution_count": 54,
   "id": "f529fc0d-c01c-4dd7-b325-a13ab54f52b7",
   "metadata": {},
   "outputs": [],
   "source": [
    "def create_H_FS(j_basis, delta):\n",
    "    H_FS = np.zeros((len(j_basis), len(j_basis)))\n",
    "    for state_num, state in enumerate(j_basis): \n",
    "        H_FS[state_num,state_num] = delta/3 * (state['j_a']*(state['j_a']+1)-state['l_a']\n",
    "                *(state['l_a']+1)-state['s_a']*(state['s_a']+1) + state['j_b']*(state['j_b']+1)-state['l_b']\n",
    "                *(state['l_b']+1)-state['s_b']*(state['s_b']+1))\n",
    "    return H_FS"
   ]
  },
  {
   "cell_type": "code",
   "execution_count": 202,
   "id": "9c8cd837-033c-447a-89ef-a6285afeb383",
   "metadata": {},
   "outputs": [],
   "source": [
    "# ls_basis,j_basis = create_seperate_atom_bases([0,1],[1/2])\n",
    "H_FS_op = create_H_FS(j_basis, 1)\n",
    "# print(H_FS_op)"
   ]
  },
  {
   "cell_type": "markdown",
   "id": "db253f16-7afc-46f0-b00c-99134abb2c6c",
   "metadata": {},
   "source": [
    "### genearte unsymmetrized BO states"
   ]
  },
  {
   "cell_type": "code",
   "execution_count": 108,
   "id": "246f8e27-8f17-4e33-82c6-8531bd003f5a",
   "metadata": {},
   "outputs": [],
   "source": [
    "def create_unsym_BO_states(l_a,l_b,s_a,s_b):\n",
    "    unsym_BO_states = []\n",
    "    L = l_a+l_b\n",
    "    for Lmbda in [-1,0,1]:\n",
    "        for S in [0,1]:\n",
    "            for Sigma in np.arange(-np.max(S),np.max(S)+1,1):\n",
    "                Omega = Sigma+Lmbda\n",
    "                for chi in [1,-1]:\n",
    "                    if abs(Omega) !=0:\n",
    "                        continue\n",
    "                    else:\n",
    "                        bostates = {'L':int(L),'Lambda':Lmbda,'S':int(S),'Sigma':int(Sigma),\n",
    "                                                'Omega':abs(int(Omega)),'chi':chi }        \n",
    "                        unsym_BO_states.append(bostates)\n",
    "    return unsym_BO_states "
   ]
  },
  {
   "cell_type": "code",
   "execution_count": 110,
   "id": "da131f64-cf40-421a-859c-0c903b6e2e80",
   "metadata": {},
   "outputs": [
    {
     "name": "stdout",
     "output_type": "stream",
     "text": [
      "\u001b[1mBO States\u001b[0m\n",
      "number of unsymmetrized BO states:  8\n",
      "{'L': 1, 'Lambda': -1, 'S': 1, 'Sigma': 1, 'Omega': 0, 'chi': 1}\n",
      "{'L': 1, 'Lambda': -1, 'S': 1, 'Sigma': 1, 'Omega': 0, 'chi': -1}\n",
      "{'L': 1, 'Lambda': 0, 'S': 0, 'Sigma': 0, 'Omega': 0, 'chi': 1}\n",
      "{'L': 1, 'Lambda': 0, 'S': 0, 'Sigma': 0, 'Omega': 0, 'chi': -1}\n",
      "{'L': 1, 'Lambda': 0, 'S': 1, 'Sigma': 0, 'Omega': 0, 'chi': 1}\n",
      "{'L': 1, 'Lambda': 0, 'S': 1, 'Sigma': 0, 'Omega': 0, 'chi': -1}\n",
      "{'L': 1, 'Lambda': 1, 'S': 1, 'Sigma': -1, 'Omega': 0, 'chi': 1}\n",
      "{'L': 1, 'Lambda': 1, 'S': 1, 'Sigma': -1, 'Omega': 0, 'chi': -1}\n"
     ]
    }
   ],
   "source": [
    "unsym_BO_states = create_unsym_BO_states(0,1,1/2,1/2)\n",
    "print('\\033[1m' + 'BO States'+ '\\033[0m')\n",
    "print('number of unsymmetrized BO states: ',len(unsym_BO_states))\n",
    "for state in unsym_BO_states:\n",
    "    print(state)"
   ]
  },
  {
   "cell_type": "code",
   "execution_count": 112,
   "id": "c9df27f1-a2f8-4073-9e75-03d2992d939a",
   "metadata": {},
   "outputs": [
    {
     "name": "stdout",
     "output_type": "stream",
     "text": [
      "{'L': 1, 'Lambda': 1, 'S': 1, 'Sigma': -1, 'Omega': 0, 'chi': 1, 'kappa': ''}\n",
      "{'L': 1, 'Lambda': 1, 'S': 1, 'Sigma': -1, 'Omega': 0, 'chi': -1, 'kappa': ''}\n",
      "{'L': 1, 'Lambda': 0, 'S': 0, 'Sigma': 0, 'Omega': 0, 'chi': 1, 'kappa': -1}\n",
      "{'L': 1, 'Lambda': 0, 'S': 0, 'Sigma': 0, 'Omega': 0, 'chi': -1, 'kappa': 1}\n",
      "{'L': 1, 'Lambda': 0, 'S': 1, 'Sigma': 0, 'Omega': 0, 'chi': 1, 'kappa': 1}\n",
      "{'L': 1, 'Lambda': 0, 'S': 1, 'Sigma': 0, 'Omega': 0, 'chi': -1, 'kappa': -1}\n",
      "{'L': 1, 'Lambda': -1, 'S': 1, 'Sigma': 1, 'Omega': 0, 'chi': 1, 'kappa': ''}\n",
      "{'L': 1, 'Lambda': -1, 'S': 1, 'Sigma': 1, 'Omega': 0, 'chi': -1, 'kappa': ''}\n"
     ]
    }
   ],
   "source": [
    "def kappa_op(bo_states):\n",
    "    post_kappa_states = []\n",
    "    for state in bo_states:\n",
    "        kappa = state['chi']*(-1)**(state['L']-state['Lambda']+state['S']-state['Sigma'])\n",
    "        if state['Lambda']==0:\n",
    "            bostates = {'L':state['L'],'Lambda':-state['Lambda'],'S':state['S'],'Sigma':-state['Sigma'],\n",
    "                       'Omega':state['Omega'],'chi':state['chi'],'kappa':kappa } \n",
    "            post_kappa_states.append(bostates)\n",
    "        else:\n",
    "            bostates = {'L':state['L'],'Lambda':-state['Lambda'],'S':state['S'],'Sigma':-state['Sigma'],\n",
    "                        'Omega':state['Omega'],'chi':state['chi'],'kappa':'' } \n",
    "            post_kappa_states.append(bostates) \n",
    "    return post_kappa_states\n",
    "\n",
    "tst = kappa_op(unsym_BO_states)\n",
    "for state in tst:\n",
    "    print(state)"
   ]
  },
  {
   "cell_type": "code",
   "execution_count": 84,
   "id": "bc40082b-f651-4629-9947-512293caae28",
   "metadata": {},
   "outputs": [
    {
     "name": "stdout",
     "output_type": "stream",
     "text": [
      "\u001b[1mexpanded BO basis grouped by fine structure symmetry \u001b[0m\n",
      "\u001b[1m0-g\u001b[0m 1 states [{'L': 1, 'Lambda': 0, 'S': 0, 'Sigma': 0, 'Omega': 0, 'chi': 1, 'kappa': -1}]\n",
      "\u001b[1m0+u\u001b[0m 1 states [{'L': 1, 'Lambda': 0, 'S': 0, 'Sigma': 0, 'Omega': 0, 'chi': -1, 'kappa': 1}]\n",
      "\u001b[1m0+g\u001b[0m 1 states [{'L': 1, 'Lambda': 0, 'S': 1, 'Sigma': 0, 'Omega': 0, 'chi': 1, 'kappa': 1}]\n",
      "\u001b[1m0-u\u001b[0m 1 states [{'L': 1, 'Lambda': 0, 'S': 1, 'Sigma': 0, 'Omega': 0, 'chi': -1, 'kappa': -1}]\n"
     ]
    }
   ],
   "source": [
    "def group_BO_states_by_FS_symmetry2(expanded_BO_states):\n",
    "    FS_symmetry_BO_states = {}\n",
    "    for state in expanded_BO_states:\n",
    "        chi_label = 'g' if state['chi']==1 else 'u' \n",
    "        if state['kappa']==1 or state['kappa']==-1:\n",
    "            parityString = '+' if state['kappa'] == 1 else '-'\n",
    "        else:\n",
    "            continue\n",
    "        symmetryLabel = str(state['Omega']) + parityString + chi_label\n",
    "        if symmetryLabel not in FS_symmetry_BO_states:\n",
    "            FS_symmetry_BO_states[symmetryLabel] = []\n",
    "        FS_symmetry_BO_states[symmetryLabel].append(state)\n",
    "    return FS_symmetry_BO_states\n",
    "\n",
    "FS_symmetry_BO_states = group_BO_states_by_FS_symmetry2(unsym_BO_states)\n",
    "print('\\033[1m' +'expanded BO basis grouped by fine structure symmetry '+'\\033[0m')\n",
    "for label, state in FS_symmetry_BO_states.items():\n",
    "    print('\\033[1m'+label+'\\033[0m',len(state),'states',state)\n"
   ]
  },
  {
   "cell_type": "markdown",
   "id": "e850ee99-fc4b-4977-a2ff-5c7c45c11b9e",
   "metadata": {},
   "source": [
    "### Group unsymmetrized BO states by fine structure symmetry "
   ]
  },
  {
   "cell_type": "markdown",
   "id": "acf2f375-4904-4f13-88e0-c6f4b008e29a",
   "metadata": {},
   "source": [
    "The symmetrized BO states can be grouped according to their fine structure symmetries labelled as $\\Omega^{\\kappa}_{g/u}$ where $\\chi = g,u=+1,-1$ <br> Each group comprises a block diagonal matrix in the total Hamiltonian. Since states fo different symmetry do not mix, <br>\n",
    "we can  diagonalize each of these matrices to find the energies of states with specific symmetry."
   ]
  },
  {
   "cell_type": "code",
   "execution_count": 62,
   "id": "48fbdf00-68f0-4a50-a71d-b1ae5559f500",
   "metadata": {},
   "outputs": [],
   "source": [
    "def group_BO_states_by_FS_symmetry(expanded_BO_states):\n",
    "    FS_symmetry_BO_states = {}\n",
    "    for Omega in [0,1,2]:\n",
    "        for state in expanded_BO_states:\n",
    "            chi_label = 'g' if state['chi']==1 else 'u'\n",
    "            if abs(state['Omega'])==Omega: \n",
    "                if Omega == 0:\n",
    "                    parityString = '+' if state['kappa'] == 1 else '-'\n",
    "                else:\n",
    "                    parityString = ''\n",
    "                symmetryLabel = str(Omega) + parityString + chi_label\n",
    "                if symmetryLabel not in FS_symmetry_BO_states:\n",
    "                    FS_symmetry_BO_states[symmetryLabel] = []\n",
    "                FS_symmetry_BO_states[symmetryLabel].append(state)\n",
    "    return FS_symmetry_BO_states"
   ]
  },
  {
   "cell_type": "code",
   "execution_count": 63,
   "id": "48d4615c-20c0-4b46-8135-8525550f3fb1",
   "metadata": {},
   "outputs": [
    {
     "ename": "KeyError",
     "evalue": "'kappa'",
     "output_type": "error",
     "traceback": [
      "\u001b[0;31m---------------------------------------------------------------------------\u001b[0m",
      "\u001b[0;31mKeyError\u001b[0m                                  Traceback (most recent call last)",
      "Input \u001b[0;32mIn [63]\u001b[0m, in \u001b[0;36m<cell line: 1>\u001b[0;34m()\u001b[0m\n\u001b[0;32m----> 1\u001b[0m FS_symmetry_BO_states \u001b[38;5;241m=\u001b[39m \u001b[43mgroup_BO_states_by_FS_symmetry\u001b[49m\u001b[43m(\u001b[49m\u001b[43munsym_BO_states\u001b[49m\u001b[43m)\u001b[49m\n\u001b[1;32m      2\u001b[0m \u001b[38;5;28mprint\u001b[39m(\u001b[38;5;124m'\u001b[39m\u001b[38;5;130;01m\\033\u001b[39;00m\u001b[38;5;124m[1m\u001b[39m\u001b[38;5;124m'\u001b[39m \u001b[38;5;241m+\u001b[39m\u001b[38;5;124m'\u001b[39m\u001b[38;5;124mexpanded BO basis grouped by fine structure symmetry \u001b[39m\u001b[38;5;124m'\u001b[39m\u001b[38;5;241m+\u001b[39m\u001b[38;5;124m'\u001b[39m\u001b[38;5;130;01m\\033\u001b[39;00m\u001b[38;5;124m[0m\u001b[39m\u001b[38;5;124m'\u001b[39m)\n\u001b[1;32m      3\u001b[0m \u001b[38;5;28;01mfor\u001b[39;00m label, state \u001b[38;5;129;01min\u001b[39;00m FS_symmetry_BO_states\u001b[38;5;241m.\u001b[39mitems():\n",
      "Input \u001b[0;32mIn [62]\u001b[0m, in \u001b[0;36mgroup_BO_states_by_FS_symmetry\u001b[0;34m(expanded_BO_states)\u001b[0m\n\u001b[1;32m      6\u001b[0m \u001b[38;5;28;01mif\u001b[39;00m \u001b[38;5;28mabs\u001b[39m(state[\u001b[38;5;124m'\u001b[39m\u001b[38;5;124mOmega\u001b[39m\u001b[38;5;124m'\u001b[39m])\u001b[38;5;241m==\u001b[39mOmega: \n\u001b[1;32m      7\u001b[0m     \u001b[38;5;28;01mif\u001b[39;00m Omega \u001b[38;5;241m==\u001b[39m \u001b[38;5;241m0\u001b[39m:\n\u001b[0;32m----> 8\u001b[0m         parityString \u001b[38;5;241m=\u001b[39m \u001b[38;5;124m'\u001b[39m\u001b[38;5;124m+\u001b[39m\u001b[38;5;124m'\u001b[39m \u001b[38;5;28;01mif\u001b[39;00m \u001b[43mstate\u001b[49m\u001b[43m[\u001b[49m\u001b[38;5;124;43m'\u001b[39;49m\u001b[38;5;124;43mkappa\u001b[39;49m\u001b[38;5;124;43m'\u001b[39;49m\u001b[43m]\u001b[49m \u001b[38;5;241m==\u001b[39m \u001b[38;5;241m1\u001b[39m \u001b[38;5;28;01melse\u001b[39;00m \u001b[38;5;124m'\u001b[39m\u001b[38;5;124m-\u001b[39m\u001b[38;5;124m'\u001b[39m\n\u001b[1;32m      9\u001b[0m     \u001b[38;5;28;01melse\u001b[39;00m:\n\u001b[1;32m     10\u001b[0m         parityString \u001b[38;5;241m=\u001b[39m \u001b[38;5;124m'\u001b[39m\u001b[38;5;124m'\u001b[39m\n",
      "\u001b[0;31mKeyError\u001b[0m: 'kappa'"
     ]
    }
   ],
   "source": [
    "FS_symmetry_BO_states = group_BO_states_by_FS_symmetry(unsym_BO_states)\n",
    "print('\\033[1m' +'expanded BO basis grouped by fine structure symmetry '+'\\033[0m')\n",
    "for label, state in FS_symmetry_BO_states.items():\n",
    "    print('\\033[1m'+label+'\\033[0m',len(state),'states',state)"
   ]
  },
  {
   "cell_type": "markdown",
   "id": "48d46300-b7eb-42d3-963c-9ea5cf529e66",
   "metadata": {},
   "source": [
    "### generate unsymmetrized Born-Oppenheimer basis"
   ]
  },
  {
   "cell_type": "markdown",
   "id": "ad59e2ec-fb0c-4c4b-816b-35341fac0a58",
   "metadata": {},
   "source": [
    "$ L,S \\rightarrow |L, \\Lambda, S, \\Sigma, \\Omega,\\chi \\rangle $"
   ]
  },
  {
   "cell_type": "markdown",
   "id": "3e3829f6-27d1-46a5-ab7a-2f7a1ffa068a",
   "metadata": {},
   "source": [
    "takes coupled atom L and S values to create unsymmetrized BO basis. These are the basis states for the total Hamiltonian. After transforming from the symmetrized BO basis to the unsymmetrized BO basis, we will identify the indices of the corresponding states (in this basis) to construct the necessary superposition basis states."
   ]
  },
  {
   "cell_type": "code",
   "execution_count": 11,
   "id": "28adb7dc-1177-40ba-a9af-6ffd8cce81a5",
   "metadata": {
    "tags": []
   },
   "outputs": [],
   "source": [
    "def create_unsym_BO_basis(L_vals, S_vals):\n",
    "    unsym_BO_basis = []\n",
    "    for chi in [1,-1]: \n",
    "        for L in L_vals: \n",
    "            for Lambda in np.arange(-L,L+1,1): \n",
    "                for S in S_vals: \n",
    "                    for Sigma in np.arange(-S, S+1,1): \n",
    "                        state = {'L':L, 'Lambda': Lambda, 'S':S,\n",
    "                                 'Sigma':Sigma, 'Omega':Sigma+Lambda,'chi': chi}\n",
    "                        unsym_BO_basis.append(state)\n",
    "    return unsym_BO_basis       \n"
   ]
  },
  {
   "cell_type": "code",
   "execution_count": 12,
   "id": "55d65987-0760-4304-8fa3-7337e922cb2b",
   "metadata": {},
   "outputs": [
    {
     "name": "stdout",
     "output_type": "stream",
     "text": [
      "\u001b[1munsymmetrized BO basis\u001b[0m\n",
      "number of states 24\n",
      "{'L': 1, 'Lambda': -1, 'S': 0, 'Sigma': 0, 'Omega': -1, 'chi': 1}\n",
      "{'L': 1, 'Lambda': -1, 'S': 1, 'Sigma': -1, 'Omega': -2, 'chi': 1}\n",
      "{'L': 1, 'Lambda': -1, 'S': 1, 'Sigma': 0, 'Omega': -1, 'chi': 1}\n",
      "{'L': 1, 'Lambda': -1, 'S': 1, 'Sigma': 1, 'Omega': 0, 'chi': 1}\n",
      "{'L': 1, 'Lambda': 0, 'S': 0, 'Sigma': 0, 'Omega': 0, 'chi': 1}\n",
      "{'L': 1, 'Lambda': 0, 'S': 1, 'Sigma': -1, 'Omega': -1, 'chi': 1}\n",
      "{'L': 1, 'Lambda': 0, 'S': 1, 'Sigma': 0, 'Omega': 0, 'chi': 1}\n",
      "{'L': 1, 'Lambda': 0, 'S': 1, 'Sigma': 1, 'Omega': 1, 'chi': 1}\n",
      "{'L': 1, 'Lambda': 1, 'S': 0, 'Sigma': 0, 'Omega': 1, 'chi': 1}\n",
      "{'L': 1, 'Lambda': 1, 'S': 1, 'Sigma': -1, 'Omega': 0, 'chi': 1}\n",
      "{'L': 1, 'Lambda': 1, 'S': 1, 'Sigma': 0, 'Omega': 1, 'chi': 1}\n",
      "{'L': 1, 'Lambda': 1, 'S': 1, 'Sigma': 1, 'Omega': 2, 'chi': 1}\n",
      "{'L': 1, 'Lambda': -1, 'S': 0, 'Sigma': 0, 'Omega': -1, 'chi': -1}\n",
      "{'L': 1, 'Lambda': -1, 'S': 1, 'Sigma': -1, 'Omega': -2, 'chi': -1}\n",
      "{'L': 1, 'Lambda': -1, 'S': 1, 'Sigma': 0, 'Omega': -1, 'chi': -1}\n",
      "{'L': 1, 'Lambda': -1, 'S': 1, 'Sigma': 1, 'Omega': 0, 'chi': -1}\n",
      "{'L': 1, 'Lambda': 0, 'S': 0, 'Sigma': 0, 'Omega': 0, 'chi': -1}\n",
      "{'L': 1, 'Lambda': 0, 'S': 1, 'Sigma': -1, 'Omega': -1, 'chi': -1}\n",
      "{'L': 1, 'Lambda': 0, 'S': 1, 'Sigma': 0, 'Omega': 0, 'chi': -1}\n",
      "{'L': 1, 'Lambda': 0, 'S': 1, 'Sigma': 1, 'Omega': 1, 'chi': -1}\n",
      "{'L': 1, 'Lambda': 1, 'S': 0, 'Sigma': 0, 'Omega': 1, 'chi': -1}\n",
      "{'L': 1, 'Lambda': 1, 'S': 1, 'Sigma': -1, 'Omega': 0, 'chi': -1}\n",
      "{'L': 1, 'Lambda': 1, 'S': 1, 'Sigma': 0, 'Omega': 1, 'chi': -1}\n",
      "{'L': 1, 'Lambda': 1, 'S': 1, 'Sigma': 1, 'Omega': 2, 'chi': -1}\n"
     ]
    }
   ],
   "source": [
    "unsym_BO_basis = create_unsym_BO_basis([1],[0,1]) # \n",
    "print('\\033[1m' +'unsymmetrized BO basis'+'\\033[0m')\n",
    "print('number of states',len(unsym_BO_basis))\n",
    "for state in unsym_BO_basis:\n",
    "    print(state)"
   ]
  },
  {
   "cell_type": "code",
   "execution_count": 22,
   "id": "657a6ff1-74f5-4639-b44a-686f5b5f913c",
   "metadata": {},
   "outputs": [
    {
     "name": "stdout",
     "output_type": "stream",
     "text": [
      "\u001b[1mBO States\u001b[0m\n",
      "number of symmetrized BO states:  24\n",
      "{'L': 1, 'Lambda': -1, 'S': 0, 'Sigma': 0, 'Omega': -1, 'chi': 1}\n",
      "{'L': 1, 'Lambda': -1, 'S': 0, 'Sigma': 0, 'Omega': -1, 'chi': -1}\n",
      "{'L': 1, 'Lambda': -1, 'S': 1, 'Sigma': -1, 'Omega': -2, 'chi': 1}\n",
      "{'L': 1, 'Lambda': -1, 'S': 1, 'Sigma': -1, 'Omega': -2, 'chi': -1}\n",
      "{'L': 1, 'Lambda': -1, 'S': 1, 'Sigma': 0, 'Omega': -1, 'chi': 1}\n",
      "{'L': 1, 'Lambda': -1, 'S': 1, 'Sigma': 0, 'Omega': -1, 'chi': -1}\n",
      "{'L': 1, 'Lambda': -1, 'S': 1, 'Sigma': 1, 'Omega': 0, 'chi': 1}\n",
      "{'L': 1, 'Lambda': -1, 'S': 1, 'Sigma': 1, 'Omega': 0, 'chi': -1}\n",
      "{'L': 1, 'Lambda': 0, 'S': 0, 'Sigma': 0, 'Omega': 0, 'chi': 1}\n",
      "{'L': 1, 'Lambda': 0, 'S': 0, 'Sigma': 0, 'Omega': 0, 'chi': -1}\n",
      "{'L': 1, 'Lambda': 0, 'S': 1, 'Sigma': -1, 'Omega': -1, 'chi': 1}\n",
      "{'L': 1, 'Lambda': 0, 'S': 1, 'Sigma': -1, 'Omega': -1, 'chi': -1}\n",
      "{'L': 1, 'Lambda': 0, 'S': 1, 'Sigma': 0, 'Omega': 0, 'chi': 1}\n",
      "{'L': 1, 'Lambda': 0, 'S': 1, 'Sigma': 0, 'Omega': 0, 'chi': -1}\n",
      "{'L': 1, 'Lambda': 0, 'S': 1, 'Sigma': 1, 'Omega': 1, 'chi': 1}\n",
      "{'L': 1, 'Lambda': 0, 'S': 1, 'Sigma': 1, 'Omega': 1, 'chi': -1}\n",
      "{'L': 1, 'Lambda': 1, 'S': 0, 'Sigma': 0, 'Omega': 1, 'chi': 1}\n",
      "{'L': 1, 'Lambda': 1, 'S': 0, 'Sigma': 0, 'Omega': 1, 'chi': -1}\n",
      "{'L': 1, 'Lambda': 1, 'S': 1, 'Sigma': -1, 'Omega': 0, 'chi': 1}\n",
      "{'L': 1, 'Lambda': 1, 'S': 1, 'Sigma': -1, 'Omega': 0, 'chi': -1}\n",
      "{'L': 1, 'Lambda': 1, 'S': 1, 'Sigma': 0, 'Omega': 1, 'chi': 1}\n",
      "{'L': 1, 'Lambda': 1, 'S': 1, 'Sigma': 0, 'Omega': 1, 'chi': -1}\n",
      "{'L': 1, 'Lambda': 1, 'S': 1, 'Sigma': 1, 'Omega': 2, 'chi': 1}\n",
      "{'L': 1, 'Lambda': 1, 'S': 1, 'Sigma': 1, 'Omega': 2, 'chi': -1}\n"
     ]
    }
   ],
   "source": [
    "unsym_BO_states = create_unsym_BO_states(0,1,1/2,1/2)\n",
    "print('\\033[1m' + 'BO States'+ '\\033[0m')\n",
    "print('number of symmetrized BO states: ',len(unsym_BO_states))\n",
    "for state in unsym_BO_states:\n",
    "    print(state)"
   ]
  },
  {
   "cell_type": "code",
   "execution_count": 25,
   "id": "dc68e791-77ba-4e79-af90-dcfeffd8f945",
   "metadata": {},
   "outputs": [
    {
     "name": "stdout",
     "output_type": "stream",
     "text": [
      "match\n",
      "match\n",
      "match\n",
      "match\n",
      "match\n",
      "match\n",
      "match\n",
      "match\n",
      "match\n",
      "match\n",
      "match\n",
      "match\n",
      "match\n",
      "match\n",
      "match\n",
      "match\n",
      "match\n",
      "match\n",
      "match\n",
      "match\n",
      "match\n",
      "match\n",
      "match\n",
      "match\n"
     ]
    }
   ],
   "source": [
    "for state in unsym_BO_states:\n",
    "    for state2 in unsym_BO_basis:\n",
    "        if state==state2:\n",
    "            print('match')"
   ]
  },
  {
   "cell_type": "markdown",
   "id": "29ae2a7e-2da8-42c9-a3b1-c3c5e29be819",
   "metadata": {
    "toc-hr-collapsed": true
   },
   "source": [
    "### symmetrized to unsymmetrized BO basis operator"
   ]
  },
  {
   "cell_type": "markdown",
   "id": "0dbbe35d-fe07-459e-a3ad-aee7435a3826",
   "metadata": {},
   "source": [
    "$| L, \\Lambda, S, \\Sigma, \\Omega,\\chi \\rangle \\langle L, |\\Lambda|, S, |\\Sigma|, |\\Omega|,\\chi, \\kappa |$"
   ]
  },
  {
   "cell_type": "markdown",
   "id": "dec5059f-553b-4a6b-b8e4-0d3d11df34d1",
   "metadata": {},
   "source": [
    "transforms symmetrized BO states into unsymmetrized BO states. From this transformation we can identify $\\Sigma$ and $\\Pi$ basis states needed to construct the Movre-Pischler block diagonal matrices. Since $\\Pi$ states have indefinite reflection symmetry, this transformation generates superpositions of $\\Pi$ states that have definite parity. This function returns the index and sign of the matching case A states contained in the case A basis which can be used to construct the superposition basis states of the total Hamiltonian."
   ]
  },
  {
   "cell_type": "markdown",
   "id": "038a2ab2-40a8-4cbe-8f61-2f9986237a53",
   "metadata": {},
   "source": [
    "$|L, |\\Lambda|, S, |\\Sigma|, |\\Omega|,\\chi, \\kappa_{BO}, \\kappa_{FS} \\rangle = \\frac{1}{\\sqrt{2-\\delta_{|\\Lambda|,0}}}\\left(|L, \\Lambda, S, \\Sigma, \\Omega,\\chi \\rangle +\\kappa_{FS} \\delta_{|\\Lambda|,1} |L, -\\Lambda, S, -\\Sigma, -\\Omega , \\chi \\rangle \\right)$"
   ]
  },
  {
   "cell_type": "markdown",
   "id": "f441e377-bad5-409b-94c4-32d521b386f7",
   "metadata": {},
   "source": [
    "note: this function does not do normalization. This is done in the function \"unsymmetrized BO to ls grouped by FS symmetry\""
   ]
  },
  {
   "cell_type": "code",
   "execution_count": 224,
   "id": "e606cd73-d77d-43d7-a9a0-133815ea49b6",
   "metadata": {
    "tags": []
   },
   "outputs": [],
   "source": [
    "def sym_BO_to_unsym_BO_op(state, unsym_BO_basis, indexes=False):\n",
    "\n",
    "    # identifies Sigma (Lambda = 0) states \n",
    "    if state['|Lambda|'] == 0 and state['|Sigma|'] == 0:\n",
    "\n",
    "        Sigma_unsym_state = {}\n",
    "        for key in state.keys():\n",
    "            if key in ['kappa']: \n",
    "                pass\n",
    "            elif key[0] != \"|\": \n",
    "                Sigma_unsym_state[key] = state[key]\n",
    "            else:\n",
    "                Sigma_unsym_state[key[1:-1]] = 0 # set Lambda,Sigma,Omega = 0\n",
    "        if indexes:\n",
    "            # print([case_A_basis.index(Sigma_unsym_state)], [1])\n",
    "            return [unsym_BO_basis.index(Sigma_unsym_state)], [1],[Sigma_unsym_state]\n",
    "        \n",
    "         \n",
    "        # return converted state as ket |L,Lambda,S,I_BO,Sigma,Omega>\n",
    "        print('|'+''.join([str(val) for key, val in Sigma_unsym_state.items()])+'>')\n",
    "        return '|'+''.join([str(val) for key, val in Sigma_unsym_state.items()])+'>'\n",
    "\n",
    "    # identifies Pi (Lambda = 1) superposition states \n",
    "    else:\n",
    "        Pi_unsym_state_1, Pi_unsym_state_2 = {}, {}\n",
    "        for key in state.keys():\n",
    "            if key in ['kappa']:\n",
    "                pass\n",
    "            elif key[0] != \"|\":\n",
    "                Pi_unsym_state_1[key] = state[key]\n",
    "                Pi_unsym_state_2[key] = state[key]\n",
    "            elif key == \"|Lambda|\":\n",
    "                Pi_unsym_state_1[key[1:-1]] = state[key]\n",
    "                Pi_unsym_state_2[key[1:-1]] = -state[key] \n",
    "            elif key == \"|Sigma|\":\n",
    "                Pi_unsym_state_1[key[1:-1]] = state['|Omega|'] - Pi_unsym_state_1['Lambda']\n",
    "                Pi_unsym_state_2[key[1:-1]] = -state['|Omega|'] - Pi_unsym_state_2['Lambda']\n",
    "            elif key == \"|Omega|\":\n",
    "                Pi_unsym_state_1['Omega'] = state['|Omega|']\n",
    "                Pi_unsym_state_2['Omega'] = -state['|Omega|']\n",
    "        sign = '+' if state['kappa'] == 1 else '-'\n",
    "        if indexes:\n",
    "            # print([case_A_basis.index(Pi_unsym_state_1), case_A_basis.index(Pi_unsym_state_2)], [1,1 if sign == \"+\" else -1])\n",
    "            return [unsym_BO_basis.index(Pi_unsym_state_1), unsym_BO_basis.index(Pi_unsym_state_2)], [1,1 if sign == \"+\" else -1],[Pi_unsym_state_1,Pi_unsym_state_2]\n",
    "                # return state numbers (indices) for superposition states to build basis (Pi states), sign of each superposotion state\n",
    "        print('|'+''.join([str(val) for key, val in Pi_unsym_state_1.items()])+'>'+sign+'|'+''.join([str(val) for key, val in Pi_unsym_state_2.items()])+'>')\n",
    "        return '|'+''.join([str(val) for key, val in Pi_unsym_state_1.items()])+'>'+sign+'|'+''.join([str(val) for key, val in Pi_unsym_state_2.items()])+'>'"
   ]
  },
  {
   "cell_type": "code",
   "execution_count": 226,
   "id": "5d2fd070-7488-43cb-8e07-040a99393933",
   "metadata": {
    "tags": []
   },
   "outputs": [],
   "source": [
    "# for label, base in FS_symmetry_BO_states.items():\n",
    "#     print('\\033[1m' +label+'\\033[0m',base)\n",
    "#     for num,state in enumerate(base):\n",
    "#         # case_A_state = sym_B0_to_unsym_BO_op(state,case_A_basis,indexes=False)\n",
    "#         index= sym_BO_to_unsym_BO_op(state,unsym_BO_basis,indexes=False)\n",
    "#         # print(index,sign,state)\n"
   ]
  },
  {
   "cell_type": "markdown",
   "id": "386fc612-6f9f-4088-8561-c4e983ce2b10",
   "metadata": {},
   "source": [
    "### unsymmetrized Born-Oppenheimer to ls basis transformation "
   ]
  },
  {
   "cell_type": "markdown",
   "id": "cbc998fb-e841-4ccc-ad3a-9af9af204ac6",
   "metadata": {},
   "source": [
    "#### unsymmetrized BO to ls transformation matrix"
   ]
  },
  {
   "cell_type": "markdown",
   "id": "7a872ee5-073c-454e-b783-f8a7a8e6f9c2",
   "metadata": {},
   "source": [
    "$|l_{a}, m_{l_a}, s_{a}, m_{s_a}, l_{b}, m_{l_b}, s_{b}, m_{s_b} \\rangle \\langle L, \\Lambda, S, \\Sigma, \\Omega ,\\chi   |\\\\ $ this operator is an intermediate step in the transformation between the symmetrized BO basis and j basis"
   ]
  },
  {
   "cell_type": "markdown",
   "id": "f7ab7de4-78fa-4f75-9efa-7b591c4498ef",
   "metadata": {},
   "source": [
    "for states ${|L, \\Lambda, S, \\Sigma, \\Omega,\\chi \\rangle}_p$  and ${|l_{a}, m_{l_a}, s_{a}, m_{s_a}, l_{b}, m_{l_b}, s_{b}, m_{s_b}  \\rangle}_q$ <kb> where p = 0,1,2,...,23 and q = 0,1,2,...,63\n"
   ]
  },
  {
   "cell_type": "markdown",
   "id": "8e53dfdb-a12b-48cd-919b-c018194cb239",
   "metadata": {},
   "source": [
    "we need to find $ _q\\langle {l_a, m_{l_a}, s_a, m_{s_a},l_b, m_{l_b},s_b, m_{s_b}|}{L, \\Lambda, S, \\Sigma, \\Omega,\\chi \\rangle}_p=(-1)^{S \\cdot l_a}\\chi^{l_a} \\ C_{{(l_a m_{l_a} l_b m_{l_b})}_p}^{{(L \\Lambda)}_q}C_{{(s_a m_{s_a} s_b m_{s_b})}_p}^{{(S \\Sigma)}_q}$ for permuations of p and q"
   ]
  },
  {
   "cell_type": "markdown",
   "id": "14e6bbb9-7bd4-4250-8c1c-75ef215477b2",
   "metadata": {},
   "source": [
    "let $ \\ \\ \\ C_{(ls)_q}^{(BO)_p}=(-1)^{S_p \\cdot l_a }\\chi_p^{l_a}  \\ C_{{(l_a m_{l_a} l_b m_{l_b})}_q}^{{(\\Lambda \\lambda_a)}_p}C_{{(s_a m_{s_a} s_b m_{s_b})}_q}^{{(S \\Sigma)}_p}$ "
   ]
  },
  {
   "cell_type": "markdown",
   "id": "49cfcde5-b270-4c7b-be1d-eb97f8c38286",
   "metadata": {
    "tags": []
   },
   "source": [
    "The case A BO to ls operator is a 64x24 matrix of the form"
   ]
  },
  {
   "cell_type": "markdown",
   "id": "8187ae4f-19fc-4b49-b514-26d6e118854c",
   "metadata": {},
   "source": [
    "\n",
    "$\\left(\\begin{array}{ccccc}\n",
    "C_{(ls)_0}^{(BO)_0} & C_{(ls)_0}^{(BO)_1} & C_{(ls)_0}^{(BO)_2} & \\cdots & C_{(ls)_0}^{(BO)_{23}} \\\\\n",
    "C_{(ls)_1}^{(BO)_0} & C_{(ls)_1}^{(BO)_1} & C_{(ls)_1}^{(BO)_2} & \\cdots & C_{(ls)_1}^{(BO)_{23}}\\\\\n",
    "C_{(ls)_2}^{(BO)_0} & C_{(ls)_2}^{(BO)_1} & C_{(ls)_2}^{(BO)_2} & \\cdots & C_{(ls)_2}^{(BO)_{23}}\\\\\n",
    "\\vdots & \\vdots & \\vdots & \\ddots \\\\\n",
    "C_{(ls)_{63}}^{BO_{0}} & C_{(ls)_{63}}^{BO_{1}} & C_{(ls)_{63}}^{BO_{2}} & \\cdots & C_{(ls)_{63}}^{BO_{23}}\n",
    "\\end{array}\\right)$"
   ]
  },
  {
   "cell_type": "code",
   "execution_count": 49,
   "id": "2dce195d-e292-4fb7-9b9e-6759365c2a94",
   "metadata": {},
   "outputs": [],
   "source": [
    "def unsym_BO_to_ls_op(unsym_BO_basis,ls_basis): \n",
    "    op = np.zeros((len(unsym_BO_basis), len(ls_basis)))\n",
    "    for unsym_num, unsym_state in enumerate(unsym_BO_basis):\n",
    "        for ls_num, ls_state in enumerate(ls_basis): \n",
    "            if (unsym_state['S'] not in np.arange(abs(ls_state['s_a']-ls_state['s_b']), ls_state['s_a'] + ls_state['s_b']+1,1) \n",
    "                or unsym_state['Lambda'] != ls_state['m_l_a']+ls_state['m_l_b'] \n",
    "                or unsym_state['Sigma'] != ls_state['m_s_a'] + ls_state['m_s_b'] \n",
    "                or ls_state['l_a'] == ls_state['l_b']): \n",
    "                continue\n",
    "            op[unsym_num,ls_num] = (((-1)**unsym_state['S']*unsym_state['chi'])**ls_state['l_a']*float(CG(ls_state['l_a'], ls_state['m_l_a'], ls_state['l_b'], ls_state['m_l_b'], unsym_state['L'], unsym_state['Lambda']).doit())\n",
    "                                    *float(CG(ls_state['s_a'], ls_state['m_s_a'], ls_state['s_b'], ls_state['m_s_b'], unsym_state['S'], unsym_state['Sigma']).doit()))\n",
    "        op[unsym_num,:] /= np.linalg.norm(op[unsym_num,:])\n",
    "    return op           "
   ]
  },
  {
   "cell_type": "code",
   "execution_count": 220,
   "id": "6883e4ae-9378-4df1-a23d-05117bab6cd3",
   "metadata": {},
   "outputs": [],
   "source": [
    "# ls_basis,j_basis = create_seperate_atom_bases([0,1],[1/2])\n",
    "# unsym_BO_to_ls_op = unsym_BO_to_ls_op(unsym_BO_basis,ls_basis)\n",
    "# print(np.shape(unsym_BO_to_ls_op))\n",
    "# print(unsym_BO_to_ls_op.T)"
   ]
  },
  {
   "cell_type": "markdown",
   "id": "3442da38-75b8-4a17-a1e5-64cc05dc020d",
   "metadata": {},
   "source": [
    "#### get column state "
   ]
  },
  {
   "cell_type": "markdown",
   "id": "e900b06b-0b25-4536-bb23-ef65a3ffa8ba",
   "metadata": {},
   "source": [
    "creates 24x24 identity matrix as list of lists"
   ]
  },
  {
   "cell_type": "code",
   "execution_count": 188,
   "id": "97ed3fc4-736e-41cd-a5f0-0136404a7f21",
   "metadata": {
    "tags": []
   },
   "outputs": [],
   "source": [
    "def get_column_state(unsym_BO_basis, basis_states):\n",
    "    column_state = [[0] for _ in range(len(unsym_BO_basis))] # create list of 24 [0]'s \n",
    "    for num, state in enumerate(unsym_BO_basis): # 24 states\n",
    "        # print(num,state)\n",
    "        match = True\n",
    "        for qnum, val in basis_states.items(): \n",
    "            # print(qnum,val,state[qnum])\n",
    "            if val != state[qnum]:\n",
    "                match = False\n",
    "        if match: # indicate column state where quantumNums = state\n",
    "            column_state[num][0] = 1 \n",
    "            # print(column_state)\n",
    "            return column_state\n",
    "        # returns 24 lists of length 24 containing one entry of [1] along diagonal\n",
    "    raise ValueError(\"No Match! nums were\" + str(basis_states))\n",
    "\n",
    "\n",
    "# for state in unsym_BO_basis:  \n",
    "#     gcs = get_column_state(unsym_BO_basis,state)\n",
    "#     print(gcs)"
   ]
  },
  {
   "cell_type": "markdown",
   "id": "3ab3ec67-62ec-47d0-b136-648dca8d521c",
   "metadata": {},
   "source": [
    "#### unsymmetrized BO to ls basis: grouped by FS symmetry"
   ]
  },
  {
   "cell_type": "code",
   "execution_count": 47,
   "id": "cb69f694-8555-47ca-87bf-d97facc43f97",
   "metadata": {},
   "outputs": [],
   "source": [
    "def unsym_BO_to_ls_grouped(FS_sym_BO_state, ls_basis, unsym_BO_basis):\n",
    "    final_matrix = np.zeros((len(FS_sym_BO_state),len(ls_basis)))\n",
    "    unsym_BO_to_ls_matrix = unsym_BO_to_ls_op(unsym_BO_basis,ls_basis)\n",
    "    \n",
    "    for sym_BO_state_num, sym_BO_state in enumerate(FS_sym_BO_state):  # iterate through expanded BO states grouped by FS symetry\n",
    "        indexes, signs, state = sym_BO_to_unsym_BO_op(sym_BO_state, unsym_BO_basis, indexes=True) # for each expanded BO state, find index and sign of case A transformed state\n",
    "        new_state = 0 \n",
    "\n",
    "        # for superpostion states\n",
    "        if sym_BO_state['|Omega|'] != 0: # group indices and signs together\n",
    "            indexes = [indexes[0]] #[5, 4] [1, -1] --> [5,1] \n",
    "            signs = [signs[0]] # [5, 4] [1, -1] --> [4,-1]\n",
    "        for index, sign in zip(indexes,signs): # group index and sign in list of tuples [(index 1,sign 1), (index 2,sign 2)]\n",
    "         \n",
    "            unsym_state = unsym_BO_basis[index] # find case A states corresponding to index\n",
    "            column_state_matrix = get_column_state(unsym_BO_basis, unsym_state) # find corresponding column state for case A row state\n",
    "            new_state += sign * unsym_BO_to_ls_matrix.T@ column_state_matrix      \n",
    "        final_matrix[sym_BO_state_num, :] = new_state[:,0] / np.sqrt(len(indexes));   \n",
    "\n",
    "    return final_matrix\n",
    "\n",
    "\n",
    "# unsym_BO_basis = create_unsym_BO_basis([1],[0,1]) \n",
    "# for fs_sym_label, fs_sym_bo_state in FS_symmetry_BO_states.items():\n",
    "#     print('\\033[1m' +fs_sym_label+'\\033[0m')\n",
    "#     unsym_BO_to_ls = unsym_BO_to_ls_grouped(fs_sym_bo_state, ls_basis, unsym_BO_basis).T\n",
    "    # np.set_printoptions(threshold=np.inf)\n",
    "    # print(case_A_to_ls)\n"
   ]
  },
  {
   "cell_type": "markdown",
   "id": "9a84110b-11de-4687-baa4-ff7fa6f398b9",
   "metadata": {},
   "source": [
    "### transform fine structure Hamiltonian to unsymmetrized BO basis"
   ]
  },
  {
   "cell_type": "code",
   "execution_count": 87,
   "id": "0960a5a2-9781-4b7c-a0c1-6d18ea34503f",
   "metadata": {},
   "outputs": [
    {
     "ename": "KeyError",
     "evalue": "'Omega'",
     "output_type": "error",
     "traceback": [
      "\u001b[0;31m---------------------------------------------------------------------------\u001b[0m",
      "\u001b[0;31mKeyError\u001b[0m                                  Traceback (most recent call last)",
      "Input \u001b[0;32mIn [87]\u001b[0m, in \u001b[0;36m<cell line: 4>\u001b[0;34m()\u001b[0m\n\u001b[1;32m      2\u001b[0m ls_basis,j_basis \u001b[38;5;241m=\u001b[39m create_seperate_atom_bases([\u001b[38;5;241m0\u001b[39m,\u001b[38;5;241m1\u001b[39m],[\u001b[38;5;241m1\u001b[39m\u001b[38;5;241m/\u001b[39m\u001b[38;5;241m2\u001b[39m])\n\u001b[1;32m      3\u001b[0m sym_BO_states \u001b[38;5;241m=\u001b[39m create_sym_BO_states(\u001b[38;5;241m0\u001b[39m,\u001b[38;5;241m1\u001b[39m,\u001b[38;5;241m1\u001b[39m\u001b[38;5;241m/\u001b[39m\u001b[38;5;241m2\u001b[39m,\u001b[38;5;241m1\u001b[39m\u001b[38;5;241m/\u001b[39m\u001b[38;5;241m2\u001b[39m) \n\u001b[0;32m----> 4\u001b[0m FS_symmetry_BO_states \u001b[38;5;241m=\u001b[39m \u001b[43mgroup_BO_states_by_FS_symmetry\u001b[49m\u001b[43m(\u001b[49m\u001b[43msym_BO_states\u001b[49m\u001b[43m)\u001b[49m\n\u001b[1;32m      5\u001b[0m unsym_BO_basis \u001b[38;5;241m=\u001b[39m create_unsym_BO_basis([\u001b[38;5;241m1\u001b[39m],[\u001b[38;5;241m0\u001b[39m,\u001b[38;5;241m1\u001b[39m]) \n\u001b[1;32m      6\u001b[0m H_FS_op \u001b[38;5;241m=\u001b[39m create_H_FS(j_basis, delta)\n",
      "Input \u001b[0;32mIn [62]\u001b[0m, in \u001b[0;36mgroup_BO_states_by_FS_symmetry\u001b[0;34m(expanded_BO_states)\u001b[0m\n\u001b[1;32m      4\u001b[0m \u001b[38;5;28;01mfor\u001b[39;00m state \u001b[38;5;129;01min\u001b[39;00m expanded_BO_states:\n\u001b[1;32m      5\u001b[0m     chi_label \u001b[38;5;241m=\u001b[39m \u001b[38;5;124m'\u001b[39m\u001b[38;5;124mg\u001b[39m\u001b[38;5;124m'\u001b[39m \u001b[38;5;28;01mif\u001b[39;00m state[\u001b[38;5;124m'\u001b[39m\u001b[38;5;124mchi\u001b[39m\u001b[38;5;124m'\u001b[39m]\u001b[38;5;241m==\u001b[39m\u001b[38;5;241m1\u001b[39m \u001b[38;5;28;01melse\u001b[39;00m \u001b[38;5;124m'\u001b[39m\u001b[38;5;124mu\u001b[39m\u001b[38;5;124m'\u001b[39m\n\u001b[0;32m----> 6\u001b[0m     \u001b[38;5;28;01mif\u001b[39;00m \u001b[38;5;28mabs\u001b[39m(\u001b[43mstate\u001b[49m\u001b[43m[\u001b[49m\u001b[38;5;124;43m'\u001b[39;49m\u001b[38;5;124;43mOmega\u001b[39;49m\u001b[38;5;124;43m'\u001b[39;49m\u001b[43m]\u001b[49m)\u001b[38;5;241m==\u001b[39mOmega: \n\u001b[1;32m      7\u001b[0m         \u001b[38;5;28;01mif\u001b[39;00m Omega \u001b[38;5;241m==\u001b[39m \u001b[38;5;241m0\u001b[39m:\n\u001b[1;32m      8\u001b[0m             parityString \u001b[38;5;241m=\u001b[39m \u001b[38;5;124m'\u001b[39m\u001b[38;5;124m+\u001b[39m\u001b[38;5;124m'\u001b[39m \u001b[38;5;28;01mif\u001b[39;00m state[\u001b[38;5;124m'\u001b[39m\u001b[38;5;124mkappa\u001b[39m\u001b[38;5;124m'\u001b[39m] \u001b[38;5;241m==\u001b[39m \u001b[38;5;241m1\u001b[39m \u001b[38;5;28;01melse\u001b[39;00m \u001b[38;5;124m'\u001b[39m\u001b[38;5;124m-\u001b[39m\u001b[38;5;124m'\u001b[39m\n",
      "\u001b[0;31mKeyError\u001b[0m: 'Omega'"
     ]
    }
   ],
   "source": [
    "delta = (384.2304844685e12-377.1074635e12)*6.6260700e-34\n",
    "ls_basis,j_basis = create_seperate_atom_bases([0,1],[1/2])\n",
    "sym_BO_states = create_sym_BO_states(0,1,1/2,1/2) \n",
    "FS_symmetry_BO_states = group_BO_states_by_FS_symmetry(sym_BO_states)\n",
    "unsym_BO_basis = create_unsym_BO_basis([1],[0,1]) \n",
    "H_FS_op = create_H_FS(j_basis, delta)\n",
    "ls_to_j = ls_to_j_op(ls_basis, j_basis)\n",
    "\n",
    "\n",
    "H_fs_unsym = {}\n",
    "for fs_sym_label, fs_sym_bo_state in FS_symmetry_BO_states.items():\n",
    "    unsym_to_ls = unsym_BO_to_ls_grouped(fs_sym_bo_state, ls_basis, unsym_BO_basis).T\n",
    "    unsym_to_j =  ls_to_j @ unsym_to_ls \n",
    "    H_fs_unsym[fs_sym_label] = unsym_to_j.T @ H_FS_op @ unsym_to_j - np.identity(len(fs_sym_bo_state))*(delta / 3)\n",
    "    \n",
    "for label, matrix in H_fs_unsym.items():\n",
    "    print('\\033[1m' +label+'\\033[0m \\n', matrix*1e21)"
   ]
  },
  {
   "cell_type": "code",
   "execution_count": 88,
   "id": "9ad3297b-c6e2-45b7-9ef2-3b5a202e6312",
   "metadata": {},
   "outputs": [
    {
     "ename": "NameError",
     "evalue": "name 'sym_BO_to_unsym_BO_op' is not defined",
     "output_type": "error",
     "traceback": [
      "\u001b[0;31m---------------------------------------------------------------------------\u001b[0m",
      "\u001b[0;31mNameError\u001b[0m                                 Traceback (most recent call last)",
      "Input \u001b[0;32mIn [88]\u001b[0m, in \u001b[0;36m<cell line: 10>\u001b[0;34m()\u001b[0m\n\u001b[1;32m      9\u001b[0m H_fs \u001b[38;5;241m=\u001b[39m np\u001b[38;5;241m.\u001b[39mzeros((\u001b[38;5;28mlen\u001b[39m(unsym_BO_states),\u001b[38;5;28mlen\u001b[39m(unsym_BO_states)))\n\u001b[1;32m     10\u001b[0m \u001b[38;5;28;01mfor\u001b[39;00m num, state \u001b[38;5;129;01min\u001b[39;00m \u001b[38;5;28menumerate\u001b[39m(unsym_BO_states):\n\u001b[0;32m---> 11\u001b[0m     unsym_to_ls \u001b[38;5;241m=\u001b[39m \u001b[43munsym_BO_to_ls_grouped\u001b[49m\u001b[43m(\u001b[49m\u001b[43mstate\u001b[49m\u001b[43m,\u001b[49m\u001b[43m \u001b[49m\u001b[43mls_basis\u001b[49m\u001b[43m,\u001b[49m\u001b[43m \u001b[49m\u001b[43munsym_BO_basis\u001b[49m\u001b[43m)\u001b[49m\u001b[38;5;241m.\u001b[39mT\n\u001b[1;32m     12\u001b[0m     unsym_to_j \u001b[38;5;241m=\u001b[39m  ls_to_j \u001b[38;5;241m@\u001b[39m unsym_to_ls \n\u001b[1;32m     13\u001b[0m     H_fs_unsym[num,num] \u001b[38;5;241m=\u001b[39m unsym_to_j\u001b[38;5;241m.\u001b[39mT \u001b[38;5;241m@\u001b[39m H_FS_op \u001b[38;5;241m@\u001b[39m unsym_to_j \u001b[38;5;241m-\u001b[39m np\u001b[38;5;241m.\u001b[39midentity(\u001b[38;5;241m24\u001b[39m)\u001b[38;5;241m*\u001b[39m(delta \u001b[38;5;241m/\u001b[39m \u001b[38;5;241m3\u001b[39m)\n",
      "Input \u001b[0;32mIn [47]\u001b[0m, in \u001b[0;36munsym_BO_to_ls_grouped\u001b[0;34m(FS_sym_BO_state, ls_basis, unsym_BO_basis)\u001b[0m\n\u001b[1;32m      3\u001b[0m unsym_BO_to_ls_matrix \u001b[38;5;241m=\u001b[39m unsym_BO_to_ls_op(unsym_BO_basis,ls_basis)\n\u001b[1;32m      5\u001b[0m \u001b[38;5;28;01mfor\u001b[39;00m sym_BO_state_num, sym_BO_state \u001b[38;5;129;01min\u001b[39;00m \u001b[38;5;28menumerate\u001b[39m(FS_sym_BO_state):  \u001b[38;5;66;03m# iterate through expanded BO states grouped by FS symetry\u001b[39;00m\n\u001b[0;32m----> 6\u001b[0m     indexes, signs, state \u001b[38;5;241m=\u001b[39m \u001b[43msym_BO_to_unsym_BO_op\u001b[49m(sym_BO_state, unsym_BO_basis, indexes\u001b[38;5;241m=\u001b[39m\u001b[38;5;28;01mTrue\u001b[39;00m) \u001b[38;5;66;03m# for each expanded BO state, find index and sign of case A transformed state\u001b[39;00m\n\u001b[1;32m      7\u001b[0m     new_state \u001b[38;5;241m=\u001b[39m \u001b[38;5;241m0\u001b[39m \n\u001b[1;32m      9\u001b[0m     \u001b[38;5;66;03m# for superpostion states\u001b[39;00m\n",
      "\u001b[0;31mNameError\u001b[0m: name 'sym_BO_to_unsym_BO_op' is not defined"
     ]
    }
   ],
   "source": [
    "delta = (384.2304844685e12-377.1074635e12)*6.6260700e-34\n",
    "ls_basis,j_basis = create_seperate_atom_bases([0,1],[1/2])\n",
    "unsym_BO_states = create_unsym_BO_states(0,1,1/2,1/2) \n",
    "unsym_BO_basis = create_unsym_BO_basis([1],[0,1]) \n",
    "H_FS_op = create_H_FS(j_basis, delta)\n",
    "ls_to_j = ls_to_j_op(ls_basis, j_basis)\n",
    "\n",
    "\n",
    "H_fs = np.zeros((len(unsym_BO_states),len(unsym_BO_states)))\n",
    "for num, state in enumerate(unsym_BO_states):\n",
    "    unsym_to_ls = unsym_BO_to_ls_grouped(state, ls_basis, unsym_BO_basis).T\n",
    "    unsym_to_j =  ls_to_j @ unsym_to_ls \n",
    "    H_fs_unsym[num,num] = unsym_to_j.T @ H_FS_op @ unsym_to_j - np.identity(24)*(delta / 3)\n",
    "\n",
    "print(H_fs_unsym)  \n",
    "# for label, matrix in H_fs_unsym.items():\n",
    "#     print('\\033[1m' +label+'\\033[0m \\n', matrix*1e21)"
   ]
  },
  {
   "cell_type": "markdown",
   "id": "d902cbed-0239-410e-b48a-da01d4ca81cc",
   "metadata": {},
   "source": [
    "### create BO Hamiltonian"
   ]
  },
  {
   "cell_type": "markdown",
   "id": "99a91910-0935-4ac1-a293-6f3b9fccc844",
   "metadata": {},
   "source": [
    "$ \\hat H_{BO} = \\sum_{|\\Lambda|, S, |\\Sigma|, |\\Omega|,\\chi, \\kappa} \\left|L ,|\\Lambda|, S, |\\Sigma|, |\\Omega|,\\chi, \\kappa \\right \\rangle E_{BO} \\langle L ,|\\Lambda|, S, |\\Sigma|, |\\Omega|,\\chi, \\kappa| $"
   ]
  },
  {
   "cell_type": "markdown",
   "id": "3952726f-d343-401a-a2b0-9a12f2e75492",
   "metadata": {},
   "source": [
    "This function creates a diagonal matrix of eigenvalues for all possible symmetrized BO states. Operates on BO basis states to give eigenvalues. Matrix elements are given by"
   ]
  },
  {
   "cell_type": "markdown",
   "id": "26fade74-94cc-46ae-91d1-137f8e7c980f",
   "metadata": {},
   "source": [
    "$\\langle L ,|\\Lambda|, S, |\\Sigma|, |\\Omega|,\\chi, \\kappa| |E_{BO} \\left|L ,|\\Lambda|, S, |\\Sigma|, |\\Omega|,\\chi, \\kappa \\right \\rangle $ where"
   ]
  },
  {
   "cell_type": "markdown",
   "id": "5444706d-0ab1-4067-9a70-a979ed933761",
   "metadata": {},
   "source": [
    "$E_{BO}=\\frac{2C_3}{R^{3}[(1 + |\\Lambda|)!]^2} (-1)^{|\\Lambda|+S}\\chi $ "
   ]
  },
  {
   "cell_type": "markdown",
   "id": "7dcfb97e-1ef7-48ee-9fdb-9a9d233c7466",
   "metadata": {},
   "source": [
    "Energies are contained in a 16x16 diagonal matrix of the form"
   ]
  },
  {
   "cell_type": "markdown",
   "id": "9f15e9ca-e47a-442b-8c2c-7fa5ab3d4f85",
   "metadata": {
    "tags": []
   },
   "source": [
    "\n",
    "$\\left(\\begin{array}{ccccc}\n",
    "E_{0,0} & 0 & 0 & \\cdots & 0 \\\\\n",
    "0 & E_{1,1} & 0 & \\cdots & 0\\\\\n",
    "0 & 0 & E_{2,2} & \\cdots & 0\\\\\n",
    "\\vdots & \\vdots & \\vdots & \\ddots \\\\\n",
    "0 & 0 & 0 & \\cdots & E_{15,15}\n",
    "\\end{array}\\right)$"
   ]
  },
  {
   "cell_type": "code",
   "execution_count": 33,
   "id": "3b67ddb3-0fb5-4306-b4c9-938984925add",
   "metadata": {},
   "outputs": [],
   "source": [
    "C3_val = 5.94492796981645e-48\n",
    "a_0 = 0.52917721067e-10\n",
    "h = 6.6260700e-34\n",
    "def new_create_H_BO(C3, R, sym_BO_basis):\n",
    "    H_BO = np.zeros((len(sym_BO_basis),len(sym_BO_basis)))\n",
    "    for num, state in enumerate(sym_BO_basis):\n",
    "        print(num,state)\n",
    "        H_BO[num,num] = (2*(C3/R**3)*(-1)**(state['Lambda']+state['S'])*state['chi']\n",
    "                        /(math.factorial(1+state['Lambda'])*math.factorial(1-state['Lambda'])))\n",
    "    return H_BO"
   ]
  },
  {
   "cell_type": "code",
   "execution_count": 86,
   "id": "a552537a-2845-4800-9065-c88163a3eda4",
   "metadata": {},
   "outputs": [
    {
     "name": "stdout",
     "output_type": "stream",
     "text": [
      "0 {'L': 1, 'Lambda': -1, 'S': 1, 'Sigma': 1, 'Omega': 0, 'chi': 1, 'kappa': ''}\n",
      "1 {'L': 1, 'Lambda': -1, 'S': 1, 'Sigma': 1, 'Omega': 0, 'chi': -1, 'kappa': ''}\n",
      "2 {'L': 1, 'Lambda': 0, 'S': 0, 'Sigma': 0, 'Omega': 0, 'chi': 1, 'kappa': -1}\n",
      "3 {'L': 1, 'Lambda': 0, 'S': 0, 'Sigma': 0, 'Omega': 0, 'chi': -1, 'kappa': 1}\n",
      "4 {'L': 1, 'Lambda': 0, 'S': 1, 'Sigma': 0, 'Omega': 0, 'chi': 1, 'kappa': 1}\n",
      "5 {'L': 1, 'Lambda': 0, 'S': 1, 'Sigma': 0, 'Omega': 0, 'chi': -1, 'kappa': -1}\n",
      "6 {'L': 1, 'Lambda': 1, 'S': 1, 'Sigma': -1, 'Omega': 0, 'chi': 1, 'kappa': ''}\n",
      "7 {'L': 1, 'Lambda': 1, 'S': 1, 'Sigma': -1, 'Omega': 0, 'chi': -1, 'kappa': ''}\n",
      "[[ 1.  0.  0.  0.  0.  0.  0.  0.]\n",
      " [ 0. -1.  0.  0.  0.  0.  0.  0.]\n",
      " [ 0.  0.  2.  0.  0.  0.  0.  0.]\n",
      " [ 0.  0.  0. -2.  0.  0.  0.  0.]\n",
      " [ 0.  0.  0.  0. -2.  0.  0.  0.]\n",
      " [ 0.  0.  0.  0.  0.  2.  0.  0.]\n",
      " [ 0.  0.  0.  0.  0.  0.  1.  0.]\n",
      " [ 0.  0.  0.  0.  0.  0.  0. -1.]]\n"
     ]
    }
   ],
   "source": [
    "unsym_BO_states = create_unsym_BO_states(0,1,1/2,1/2)\n",
    "H_tots = new_create_H_BO(1, 1, unsym_BO_states)\n",
    "print(H_tots)"
   ]
  },
  {
   "cell_type": "markdown",
   "id": "1ea7a4b4-9aaf-4c05-8707-130c80bbf1ea",
   "metadata": {},
   "source": [
    "### diagonlize Movre-Pischler matrices"
   ]
  },
  {
   "cell_type": "code",
   "execution_count": 455,
   "id": "7a94ef8c-92f4-439d-beac-879199b4a66e",
   "metadata": {},
   "outputs": [],
   "source": [
    "a_0 = 0.52917721067e-10\n",
    "colors = []\n",
    "for i in range(len(FS_symmetry_BO_states.items())):\n",
    "    colors.append('#%06X' % randint(0, 0xFFFFFF))"
   ]
  },
  {
   "cell_type": "code",
   "execution_count": 43,
   "id": "f0cdc1c2-3b66-4adc-bb8e-a2577c1c27e1",
   "metadata": {},
   "outputs": [
    {
     "ename": "NameError",
     "evalue": "name 'sym_BO_basis' is not defined",
     "output_type": "error",
     "traceback": [
      "\u001b[0;31m---------------------------------------------------------------------------\u001b[0m",
      "\u001b[0;31mNameError\u001b[0m                                 Traceback (most recent call last)",
      "Input \u001b[0;32mIn [43]\u001b[0m, in \u001b[0;36m<cell line: 3>\u001b[0;34m()\u001b[0m\n\u001b[1;32m      1\u001b[0m Rvals \u001b[38;5;241m=\u001b[39m np\u001b[38;5;241m.\u001b[39mlinspace( \u001b[38;5;241m20\u001b[39m \u001b[38;5;241m*\u001b[39m a_0 , \u001b[38;5;241m2000\u001b[39m \u001b[38;5;241m*\u001b[39m a_0, \u001b[38;5;241m3\u001b[39m )\n\u001b[1;32m      2\u001b[0m eigvals \u001b[38;5;241m=\u001b[39m {}\n\u001b[0;32m----> 3\u001b[0m \u001b[38;5;28;01mfor\u001b[39;00m label_num, (label, state) \u001b[38;5;129;01min\u001b[39;00m \u001b[38;5;28menumerate\u001b[39m(\u001b[43msym_BO_basis\u001b[49m):\n\u001b[1;32m      4\u001b[0m     \u001b[38;5;28;01mfor\u001b[39;00m R \u001b[38;5;129;01min\u001b[39;00m Rvals:\n\u001b[1;32m      5\u001b[0m         H_total \u001b[38;5;241m=\u001b[39m new_create_H_BO(C3_val, R, state) \u001b[38;5;241m+\u001b[39m H_fs_case_A[label]\n",
      "\u001b[0;31mNameError\u001b[0m: name 'sym_BO_basis' is not defined"
     ]
    }
   ],
   "source": [
    "Rvals = np.linspace( 20 * a_0 , 2000 * a_0, 3 )\n",
    "eigvals = {}\n",
    "for label_num, state in enumerate(unsym_BO_states):\n",
    "    for R in Rvals:\n",
    "        H_total = new_create_H_BO(C3_val, R, state) + H_fs_case_A[label]\n",
    "        print(H_total)\n",
    "#         if label not in eigvals:\n",
    "#             eigvals[label]=[]\n",
    "#         eigvals[label].append(sorted(np.linalg.eigvals(H_total)))\n",
    "# print(eigvals)\n",
    "# for i in zip(eigvals[0]):\n",
    "#     print(i)"
   ]
  },
  {
   "cell_type": "code",
   "execution_count": null,
   "id": "f51377e3-1476-4c08-b978-aaeeaca99b6c",
   "metadata": {},
   "outputs": [],
   "source": []
  },
  {
   "cell_type": "code",
   "execution_count": null,
   "id": "30556f99-4b74-4666-af8d-69a61dfb533f",
   "metadata": {},
   "outputs": [],
   "source": []
  },
  {
   "cell_type": "code",
   "execution_count": null,
   "id": "a6e233df-9d48-405a-bd4b-06596c2b5c7d",
   "metadata": {},
   "outputs": [],
   "source": []
  },
  {
   "cell_type": "code",
   "execution_count": 103,
   "id": "93768da5-441d-4311-85e5-9d7a19171062",
   "metadata": {},
   "outputs": [],
   "source": [
    "def getColors(num, rgb=False, cmStr='nipy_spectral'):\n",
    "    cmapRGB = plt.get_cmap(cmStr, num+1)\n",
    "    c = [cmapRGB(i)[:-1] for i in range(num+1)][:]\n",
    "    c = c[1:]\n",
    "    if rgb:\n",
    "        return c\n",
    "    # the negative of the first color\n",
    "    c2 = [tuple(np.array((1, 1, 1)) - np.array(color)) for color in c]\n",
    "    # print(c2)\n",
    "    c = ['#%02x%02x%02x' % tuple(int(255 * color[i]) for i in range(len(color))) for color in c]\n",
    "    c2 = ['#%02x%02x%02x' % tuple(int(255 * color[i]) for i in range(len(color))) for color in c2]\n",
    "    return c, c2\n",
    "\n",
    "a = getColors(10,cmStr='viridis')\n"
   ]
  },
  {
   "cell_type": "code",
   "execution_count": 113,
   "id": "8b373260-ac66-426e-90fa-e98dfabf4bfb",
   "metadata": {},
   "outputs": [
    {
     "name": "stdout",
     "output_type": "stream",
     "text": [
      "[[<AxesSubplot:> <AxesSubplot:>]\n",
      " [<AxesSubplot:> <AxesSubplot:>]]\n",
      "[<AxesSubplot:> <AxesSubplot:> <AxesSubplot:> <AxesSubplot:>]\n",
      "[{'L': 1, '|Lambda|': 0, 'S': 0, '|Sigma|': 0, '|Omega|': 0, 'chi': 1, 'kappa_FS': -1}, {'L': 1, '|Lambda|': 1, 'S': 1, '|Sigma|': 1, '|Omega|': 0, 'chi': 1, 'kappa_FS': -1}]\n",
      "[{'L': 1, '|Lambda|': 0, 'S': 0, '|Sigma|': 0, '|Omega|': 0, 'chi': -1, 'kappa_FS': -1}, {'L': 1, '|Lambda|': 1, 'S': 1, '|Sigma|': 1, '|Omega|': 0, 'chi': -1, 'kappa_FS': -1}]\n",
      "[{'L': 1, '|Lambda|': 0, 'S': 1, '|Sigma|': 0, '|Omega|': 0, 'chi': 1, 'kappa_FS': 1}, {'L': 1, '|Lambda|': 1, 'S': 1, '|Sigma|': 1, '|Omega|': 0, 'chi': 1, 'kappa_FS': 1}]\n",
      "[{'L': 1, '|Lambda|': 0, 'S': 1, '|Sigma|': 0, '|Omega|': 0, 'chi': -1, 'kappa_FS': 1}, {'L': 1, '|Lambda|': 1, 'S': 1, '|Sigma|': 1, '|Omega|': 0, 'chi': -1, 'kappa_FS': 1}]\n",
      "[{'L': 1, '|Lambda|': 0, 'S': 1, '|Sigma|': 1, '|Omega|': 1, 'chi': 1, 'kappa_FS': -1}, {'L': 1, '|Lambda|': 1, 'S': 0, '|Sigma|': 0, '|Omega|': 1, 'chi': 1, 'kappa_FS': 1}, {'L': 1, '|Lambda|': 1, 'S': 1, '|Sigma|': 0, '|Omega|': 1, 'chi': 1, 'kappa_FS': -1}]\n",
      "[{'L': 1, '|Lambda|': 0, 'S': 1, '|Sigma|': 1, '|Omega|': 1, 'chi': -1, 'kappa_FS': -1}, {'L': 1, '|Lambda|': 1, 'S': 0, '|Sigma|': 0, '|Omega|': 1, 'chi': -1, 'kappa_FS': 1}, {'L': 1, '|Lambda|': 1, 'S': 1, '|Sigma|': 0, '|Omega|': 1, 'chi': -1, 'kappa_FS': -1}]\n",
      "[{'L': 1, '|Lambda|': 1, 'S': 1, '|Sigma|': 1, '|Omega|': 2, 'chi': 1, 'kappa_FS': 1}]\n",
      "[{'L': 1, '|Lambda|': 1, 'S': 1, '|Sigma|': 1, '|Omega|': 2, 'chi': -1, 'kappa_FS': 1}]\n"
     ]
    },
    {
     "data": {
      "image/png": "[encoded data removed]",
      "text/plain": [
       "<Figure size 2100x1200 with 4 Axes>"
      ]
     },
     "metadata": {
      "needs_background": "light"
     },
     "output_type": "display_data"
    }
   ],
   "source": [
    "mpl.rcParams['figure.dpi']=300\n",
    "fig, axs = plt.subplots(2,2,figsize=(7,4))\n",
    "print(axs)\n",
    "print(axs.flatten())\n",
    "Rvals = np.linspace( 20 * 0.52917721067e-10, 2000 * 0.52917721067e-10, 3000 )\n",
    "linestyles=[':','-','-.',':','-','-.',':','-','-.',':','-','-.']\n",
    "allBases = {**FS_symmetry_BO_states }\n",
    "colors, _ = getColors(len(allBases), cmStr='viridis')\n",
    "data = {}\n",
    "for basisNum, (label, basis) in enumerate(allBases.items()):\n",
    "    print(basis)\n",
    "    for rv in Rvals:\n",
    "        rMatrix = create_H_BO(C3_val, rv, basis) #+ H_fs_case_A[label]\n",
    "        if label not in data:\n",
    "            data[label]=[]\n",
    "        data[label].append(sorted(np.linalg.eigvals(rMatrix)))\n",
    "for ax in axs.flatten():\n",
    "    if False:\n",
    "        ax.axhline(-0.0729113, alpha=0.2,color='r')\n",
    "        ax.axhline(-0.2298518, alpha=0.2,color='r')\n",
    "        ax.axhline(-0.30207388, alpha=0.2,color='r')\n",
    "        ax.axhline(-DeltaVal* 1e-9 / mc.h+0.306246, alpha=0.2,color='r')\n",
    "        ax.axhline(-DeltaVal* 1e-9 / mc.h-0.510410, alpha=0.2,color='r')\n",
    "    \n",
    "    for num, label in enumerate(data.keys()):\n",
    "        mdata = data[label]\n",
    "        # print(label,mdata)\n",
    "        linestyle = linestyles[num]\n",
    "        c_ = colors[num]\n",
    "        if len(np.array(mdata).shape) == 2 or len(np.array(mdata).shape) == 3:\n",
    "            for lineNum, lineData in enumerate(list(map(list, zip(*mdata)))):\n",
    "                ax.plot(Rvals*1e9, np.array(lineData) * 1e-9 / h, \n",
    "                        label=label if lineNum == 0 else None, color=c_, linestyle=linestyle)\n",
    "        else:\n",
    "            ax.plot(Rvals*1e9, np.array(mdata) * 1e-9 / h, \n",
    "                    label=name, color=c_, linestyle=linestyle)\n",
    "    \n",
    "    #ax.set_xlabel('Inter-nuclear distance (nm)')\n",
    "    #ax.set_ylabel('Energy (GHz)')\n",
    "    ax.grid(alpha=0.1)\n",
    "    ax.axhline(0.1937408, alpha=0.2,color='r', label='F States')\n",
    "\n",
    "axs[1,0].set_xlabel('Inter-nuclear distance (nm)')\n",
    "axs[1,1].set_xlabel('Inter-nuclear distance (nm)')\n",
    "axs[0,0].set_ylabel('Energy (GHz)')\n",
    "axs[1,0].set_ylabel('Energy (GHz)')\n",
    "axs[0,0].set_xlim(min(Rvals)*1e9,max(Rvals)*1e9/20)\n",
    "#axs[0,0].legend(ncol=5,fontsize=8)\n",
    "#axs[1,0].set_title('Zoom $5P_{3/2}$')\n",
    "axs[1,0].set_xlim(min(Rvals)*1e9,max(Rvals)*1e9/10)\n",
    "axs[1,0].set_ylim(-1000, 500)\n",
    "#axs[0,1].set_title('Super-Zoom $5P_{3/2}\"\"$')\n",
    "axs[0,1].set_xlim(min(Rvals)*1e9,max(Rvals)*1e9)\n",
    "axs[0,1].set_ylim(-0.35, 0.25)\n",
    "#axs[1,1].set_title('Zoom $5P_{1/2}$')\n",
    "axs[1,1].set_xlim(min(Rvals)*1e9,max(Rvals)*1e9/10)\n",
    "axs[1,1].set_ylim(-8000, -6000);\n",
    "#plt.savefig('Movre-Pischler.png', dpi=200)www"
   ]
  },
  {
   "cell_type": "code",
   "execution_count": null,
   "id": "b0e60268-dec0-4f43-9279-776c4455697f",
   "metadata": {},
   "outputs": [],
   "source": []
  }
 ],
 "metadata": {
  "kernelspec": {
   "display_name": "Python 3 (ipykernel)",
   "language": "python",
   "name": "python3"
  },
  "language_info": {
   "codemirror_mode": {
    "name": "ipython",
    "version": 3
   },
   "file_extension": ".py",
   "mimetype": "text/x-python",
   "name": "python",
   "nbconvert_exporter": "python",
   "pygments_lexer": "ipython3",
   "version": "3.10.5"
  }
 },
 "nbformat": 4,
 "nbformat_minor": 5
}
