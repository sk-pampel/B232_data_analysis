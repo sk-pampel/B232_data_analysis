version https://git-lfs.github.com/spec/v1
oid sha256:99ab1bdbbf27474a6a08b3366b25713d363c2b5aa4a81eeef3d9af0722c180e3
size 1730713
