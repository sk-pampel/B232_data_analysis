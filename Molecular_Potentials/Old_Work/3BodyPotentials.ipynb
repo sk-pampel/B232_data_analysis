version https://git-lfs.github.com/spec/v1
oid sha256:4aba07dcf35f096b695294075e683e25f5f9037b1e29306185b0f545767bddbb
size 738171
