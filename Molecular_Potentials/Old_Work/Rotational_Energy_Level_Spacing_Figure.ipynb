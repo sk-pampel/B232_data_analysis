version https://git-lfs.github.com/spec/v1
oid sha256:61e6bbca24dfa63cd48a8a05f578da4776cfe8ea26980e11f8a9597dc2d28cf2
size 262070
