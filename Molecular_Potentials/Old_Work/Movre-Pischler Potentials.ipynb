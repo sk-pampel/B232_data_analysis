version https://git-lfs.github.com/spec/v1
oid sha256:5aebc3f65667c3a6ce87883a16eb3f98014d5cec66baee87b60a51ec82ceb05d
size 535328
