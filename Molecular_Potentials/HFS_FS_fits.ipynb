version https://git-lfs.github.com/spec/v1
oid sha256:8edc6256d5ecd081d15833b42a5f711ac13fbea5ba11fd27245e21fbb4b0637c
size 1216243
