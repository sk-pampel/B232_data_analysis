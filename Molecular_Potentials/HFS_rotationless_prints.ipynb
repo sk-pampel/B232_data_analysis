{
 "cells": [
  {
   "cell_type": "markdown",
   "id": "cde33388-2202-4cc4-a441-e8a17f65af51",
   "metadata": {},
   "source": [
    "# Calculation of the Movre-Pischler Potentials with hyperfine interactions for an ${}^{87}\\mathrm{Rb}$ dimer"
   ]
  },
  {
   "cell_type": "markdown",
   "id": "b508eb77-d7c6-4b28-a6bf-657ac44b9249",
   "metadata": {
    "tags": []
   },
   "source": [
    "The following calculations give the energies of a diatomic molecule when including Born-Oppenhiemer, fine structure, and hyperfine strucutre interactions. <br>\n"
   ]
  },
  {
   "cell_type": "markdown",
   "id": "00493caf-37d8-4929-b30f-835437971c36",
   "metadata": {
    "tags": []
   },
   "source": [
    "### Summary of theory"
   ]
  },
  {
   "cell_type": "markdown",
   "id": "ac919fe5-25ae-4716-b1e6-08a1ae70969b",
   "metadata": {},
   "source": [
    "To calculate the energies, we need to find the following matrix elements as a function of internuclear distance R for each possible state:"
   ]
  },
  {
   "cell_type": "markdown",
   "id": "66badf3e-8a61-4304-bb31-d177a9263f55",
   "metadata": {},
   "source": [
    "$\\langle \\Psi' | \\hat H_{BO}+ \\hat H_{FS} + \\hat H_{HFS} | \\Psi \\rangle = E_{BO} \\delta_{\\Psi',\\Psi} + \\langle \\Psi' | A_{FS}(l_a \\cdot s_a  + l_b \\cdot s_b) | \\Psi \\rangle $"
   ]
  },
  {
   "cell_type": "markdown",
   "id": "0c6c9f7d-7844-48c9-80c7-271533bbca11",
   "metadata": {},
   "source": [
    "where $|\\Psi \\rangle = \\frac{1}{\\sqrt{2-\\delta_{|\\Lambda|,0}}}\\left(|L, \\Lambda, S, \\Sigma,\\chi \\rangle + \\chi (-1)^{L-\\Lambda+S-\\Sigma} \\delta_{|\\Lambda|,1} |L, -\\Lambda, S, -\\Sigma , \\chi \\rangle \\right)$ are the Born-Oppenheimer basis states"
   ]
  },
  {
   "cell_type": "markdown",
   "id": "a5a55ea3-25c7-472f-8270-98f76083b277",
   "metadata": {},
   "source": [
    "and $E_{BO}=(-1)^{|\\Lambda|+S} \\chi\\frac{2C_3}{R^{3}(1 + |\\Lambda|)} $ are the Born-Oppenheimer energies for an $S+P$ photoassociated molecular state"
   ]
  },
  {
   "cell_type": "markdown",
   "id": "f4912de9-3c74-49b3-a2f4-e50328f151cb",
   "metadata": {
    "tags": []
   },
   "source": [
    "The fine structure Hamiltonian $ \\hat H_{FS}$ is not diagonal in the Born-Oppenheimer basis, so we need to perform a frame transformation to the $|j_a \\omega_a (l_a s_a) j_b \\omega_b (l_b s_b) \\rangle$ basis. The desired calculation is then $ \\hat U^{\\dagger} \\hat H_{FS} \\hat U$  where $\\hat U$ is given by"
   ]
  },
  {
   "cell_type": "markdown",
   "id": "1fa608b1-f41a-4e53-8ee6-96a1d74a5798",
   "metadata": {},
   "source": [
    "$\\hat U =  \\left(|j_a \\omega_{a} (l_a s_a) j_b, \\omega_{b}(l_b s_b) \\rangle \\langle l_{a} \\lambda_{a} s_{a} \\sigma_{a} l_{b} \\lambda_{b} s_{b} \\sigma_{b} | \\right) \\left( |l_{a} \\lambda_{a} s_{a} \\sigma_{a} l_{b} \\lambda_{b} s_{b} \\sigma_{b} \\rangle \\langle L, \\Lambda, S, \\Sigma, \\chi| \\right) $ .<br>\n",
    "\n"
   ]
  },
  {
   "cell_type": "markdown",
   "id": "ac36555d-8407-4759-93a7-0e796b02603c",
   "metadata": {},
   "source": [
    "$\\hat U$ can be expressed in matrix form where the elements are given by"
   ]
  },
  {
   "cell_type": "markdown",
   "id": "7068b017-90e9-4eba-b10c-34b4affb5c63",
   "metadata": {},
   "source": [
    "$ \\langle l_{a} \\lambda_{a} s_{a} \\sigma_{a} l_{b} \\lambda_{b} s_{b} \\sigma_{b}| L, \\Lambda, S, \\Sigma,\\chi \\rangle =(-1)^{S \\cdot l_a}\\chi^{l_a} \\ C_{l_a \\lambda_{a} l_b \\lambda_{b}}^{L \\Lambda}C_{s_a \\sigma_{a} s_b \\sigma_{b}}^{S \\Sigma} $ for the Born-Oppenheimer to ls transformation, and"
   ]
  },
  {
   "cell_type": "markdown",
   "id": "6f9d784a-a3a5-4c72-ab4f-30a78d874270",
   "metadata": {},
   "source": [
    " $\\langle j_a \\omega_{a} (l_a s_a) j_b, \\omega_{b}(l_b s_b)|l_{a} \\lambda_{a} s_{a} \\sigma_{a} l_{b} \\lambda_{b} s_{b} \\sigma_{b} \\rangle =C_{l_a \\lambda_{a} s_a \\sigma_{a}}^{j_a \\omega_{a}}C_{l_b \\lambda_{b} s_b \\sigma_{b}}^{j_b \\omega_{b}}$ for the ls to j transformation."
   ]
  },
  {
   "cell_type": "markdown",
   "id": "60a90cd4-6754-42a7-b8ff-908c41a49549",
   "metadata": {},
   "source": [
    "Letting $ \\ \\ \\mathcal{D}_{l_al_bs_as_b}^{L\\Lambda S \\Sigma}=(-1)^{S \\cdot l_a}\\chi^{l_a} \\ C_{l_a \\lambda_{a} l_b \\lambda_{b}}^{L \\Lambda}C_{s_a \\sigma_{a} s_b \\sigma_{b}}^{S \\Sigma} \n",
    " \\ \\  \\ $ and $ \\ \\  \\mathcal{D}_{l_as_al_bs_b}^{j_a \\omega_a j_b \\omega_b}=C_{l_a \\lambda_{a} s_a \\sigma_{a}}^{j_a \\omega_{a}}C_{l_b \\lambda_{b} s_b \\sigma_{b}}^{j_b \\omega_{b}}$"
   ]
  },
  {
   "cell_type": "markdown",
   "id": "c90154db-192b-4041-9ae2-755a61cbb983",
   "metadata": {},
   "source": [
    "$ \\hat U^{\\dagger} \\hat H_{FS} \\hat U\n",
    "= \\left( {\\left(\\begin{array}{ccccc}\n",
    "\\mathcal{D}_{l_al_bs_as_b}^{L\\Lambda S \\Sigma} \\cdots \\\\\n",
    "\\vdots \\ \\ \\ \\ \\ \\ \\ \\ddots \n",
    "\\end{array}\\right)} {\\left(\\begin{array}{ccccc}\n",
    "\\mathcal{D}_{l_as_al_bs_b}^{j_a \\omega_a j_b \\omega_b} \\cdots \\\\\n",
    "\\vdots \\ \\ \\ \\ \\ \\ \\ \\ddots \n",
    "\\end{array}\\right)} \\right)^{\\dagger}\\left(\\begin{array}{ccccc}\n",
    "E_{FS} & 0 & \\cdots \\\\\n",
    "0 &  \\ddots  \\\\\n",
    "\\vdots & & \\ddots  \n",
    "\\end{array}\\right)\\left( {\\left(\\begin{array}{ccccc}\n",
    "\\mathcal{D}_{l_al_bs_as_b}^{L\\Lambda S \\Sigma} \\cdots \\\\\n",
    "\\vdots \\ \\  \\ \\ \\ \\ \\ \\ddots \n",
    "\\end{array}\\right)} {\\left(\\begin{array}{ccccc}\n",
    "\\mathcal{D}_{l_as_al_bs_b}^{j_a \\omega_a j_b \\omega_b} \\cdots \\\\\n",
    "\\vdots \\ \\ \\ \\ \\ \\ \\ \\ddots \n",
    "\\end{array}\\right)} \\right) $\n",
    "\n",
    "\n"
   ]
  },
  {
   "cell_type": "markdown",
   "id": "1eeccce0-d664-4317-b19f-4cd1ca2f7a71",
   "metadata": {
    "tags": []
   },
   "source": [
    "The fine structure Hamiltonian is given by "
   ]
  },
  {
   "cell_type": "markdown",
   "id": "e6dfd435-f9ff-4a4b-ba7d-6456f0af2493",
   "metadata": {},
   "source": [
    "$ \\hat H_{FS} = \\sum_{j_a \\omega_{a}j_b \\omega_{b}}|j_a \\omega_{a} (l_a s_a) j_b \\omega_{b} (l_b s_b) \\rangle E_{FS} \\langle j_a \\omega_{a} (l_a s_a) j_b \\omega_{b} (l_b s_b) | $ "
   ]
  },
  {
   "cell_type": "markdown",
   "id": "117980d1-3e04-4a4d-854c-5d50f1acbae7",
   "metadata": {},
   "source": [
    "$ E_{FS} = A_{FS}(l_a \\cdot s_a  + l_b \\cdot s_b) = \\frac{2}{3} \\Delta (l_a \\cdot s_a  + l_b \\cdot s_b)$ <kb>\n",
    "$ =\\frac{\\Delta}{3} (j_a^2-l_a^2-s_a^2)+(j_b^2-l_b^2-s_b^2) $\n",
    "\n",
    "$= \\frac{\\Delta}{3}[j_a(j_a+1) - l_a(l_a+1)-s_a(s_a+1)+j_b(j_b+1) - l_b(l_b+1)-s_b(s_b+1)] $"
   ]
  },
  {
   "cell_type": "markdown",
   "id": "ad830ed2-3592-4241-a335-931fd3a1fe5c",
   "metadata": {},
   "source": [
    "This calculation will yield off-diagonal matrix elements in the Born-Oppenheimer basis. "
   ]
  },
  {
   "cell_type": "markdown",
   "id": "c6644040-46ba-40ad-b030-733f36f190bc",
   "metadata": {
    "tags": []
   },
   "source": [
    "The relation between bases is given by:"
   ]
  },
  {
   "cell_type": "markdown",
   "id": "9e4c3251-7905-4558-98c7-637a5894678b",
   "metadata": {
    "tags": []
   },
   "source": [
    "$ |L, \\Lambda, S, \\Sigma, \\Omega,\\chi \\rangle = (-1)^{l_a \\cdot S} \\chi^{l_a} \\sum_{\\lambda_{a} \\lambda_{b}} \\sum_{\\sigma_{a} \\sigma_{b}} C_{l_a \\lambda_{a} l_b \\lambda_{b}}^{L \\Lambda} C_{s_a \\sigma_{a} s_b \\sigma_{b}}^{S \\Sigma} | l_a \\lambda_{a} s_a \\sigma_{a} l_b \\lambda_{b} s_b \\sigma_{b} \\rangle$ (unsymmetrized BO basis to seperate atom ls basis)"
   ]
  },
  {
   "cell_type": "markdown",
   "id": "96dc4774-8b58-40f2-984c-33256da322e9",
   "metadata": {
    "tags": []
   },
   "source": [
    "$ |l_a \\lambda_{a} s_a \\sigma_{a} l_b \\lambda_{b} s_b \\sigma_{b} \\rangle =  \\sum_{\\lambda_{a} \\sigma_{a}} \\sum_{\\lambda_{b} \\sigma_{b}} C_{l_a \\lambda_{a} s_a \\sigma_{a}}^{j_a \\omega_{a}} C_{l_b \\lambda_{b} s_b \\sigma_{b}}^{j_b \\omega_{b}}|j_a \\omega_a (l_a s_a) j_b \\omega_b (l_b s_b) \\rangle $ (seperate atom ls to j basis)"
   ]
  },
  {
   "cell_type": "markdown",
   "id": "6b8f0c16-a47a-47b7-828e-d2cae7fcc004",
   "metadata": {},
   "source": [
    "For $|\\Omega| = 0$ states,"
   ]
  },
  {
   "cell_type": "markdown",
   "id": "de911432-d9d6-4270-a348-aca0b7f99448",
   "metadata": {
    "tags": []
   },
   "source": [
    "$\\ \\ \\ \\ \\ \\  \\ \\ \\  { }^3 \\Pi_g^{\\pm}=\\frac{1}{\\sqrt{2}} \\left({ }^3 \\Pi_{g_1} \\pm { }^3 \\Pi_{g_2} \\right)=\\frac{1}{\\sqrt{2}} \\left(|111-1g \\rangle \\pm |1-111g \\rangle \\right) \\ \\ $   <br>\n",
    "$ \\ \\ \\ \\ \\ \\ \\ \\ \\ { }^3 \\Pi_u^{\\pm}=\\frac{1}{\\sqrt{2}} \\left({ }^3 \\Pi_{u_1} \\mp { }^3 \\Pi_{u_2} \\right)=\\frac{1}{\\sqrt{2}} \\left(|111-1u \\rangle \\mp |1-111u \\rangle \\right)$\n",
    "<br>\n",
    "\n",
    "\n",
    "\n",
    "$0^{+}_{g}$: $\\ \\ \\ \\ \\begin{aligned}\n",
    "& { }^3 \\Sigma_g^{+} \\\\\n",
    "& { }^3 \\Pi_g^{+}\n",
    "\\end{aligned} \\left(\\begin{array}{cc}\n",
    "-\\frac{2C_3}{R^3}-\\frac{ \\Delta}{3} & \\frac{\\sqrt{2} \\Delta}{3} \\\\\n",
    "\\frac{\\sqrt{2} \\Delta}{3} & \\frac{C_3}{R^3}-\\frac{2\\Delta}{3}\n",
    "\\end{array}\\right)$ $\\ \\ \\ \\ \\ \\ \\mathrm{0^{-}_{g}:} \\ \\ \\ \\ \\begin{aligned}\n",
    "& { }^1 \\Sigma_g^{+} \\\\\n",
    "& { }^3 \\Pi_g^{-}\n",
    "\\end{aligned} \\left(\\begin{array}{cc}\n",
    "\\frac{2C_3}{R^3}-\\frac{ \\Delta}{3} & -\\frac{\\sqrt{2} \\Delta}{3} \\\\\n",
    "-\\frac{\\sqrt{2} \\Delta}{3} & \\frac{C_3}{R^3}-\\frac{2 \\Delta}{3}\n",
    "\\end{array}\\right)$\n",
    "\n",
    "$0^{+}_{u}$: $\\ \\ \\ \\ \\begin{aligned}\n",
    "& { }^1 \\Sigma_u^{+} \\\\\n",
    "& { }^3 \\Pi_u^{-}\n",
    "\\end{aligned} \\left(\\begin{array}{cc}\n",
    "-\\frac{2C_3}{R^3}-\\frac{ \\Delta}{3} & -\\frac{\\sqrt{2} \\Delta}{3} \\\\\n",
    "-\\frac{\\sqrt{2} \\Delta}{3} & -\\frac{C_3}{R^3}-\\frac{2 \\Delta}{3}\n",
    "\\end{array}\\right)$ $\\ \\ \\ \\ \\mathrm{0^{-}_{u}:} \\ \\ \\ \\ \\begin{aligned}\n",
    "& { }^3 \\Sigma_u^{+} \\\\\n",
    "& { }^3 \\Pi_u^{-}\n",
    "\\end{aligned} \\left(\\begin{array}{cc}\n",
    "\\frac{2C_3}{R^3}-\\frac{ \\Delta}{3} & \\frac{\\sqrt{2} \\Delta}{3} \\\\\n",
    "\\frac{\\sqrt{2} \\Delta}{3} & -\\frac{C_3}{R^3}-\\frac{2 \\Delta}{3}\n",
    "\\end{array}\\right)$"
   ]
  },
  {
   "cell_type": "markdown",
   "id": "66e6d2dd-11c6-4146-9cfd-265c904f9fa1",
   "metadata": {
    "tags": []
   },
   "source": [
    "For $|\\Omega|=1$ ,"
   ]
  },
  {
   "cell_type": "markdown",
   "id": "d932c805-e7e9-4fcc-9c6d-b5e1744d208e",
   "metadata": {},
   "source": [
    " $\\ \\ \\ \\ \\ \\ \\  \\  { }^3 \\Pi_g^{\\pm}=\\frac{1}{\\sqrt{2}} \\left({ }^3 \\Pi_{g_1} \\pm { }^3 \\Pi_{g_2} \\right)=\\frac{1}{\\sqrt{2}} \\left(|1110g \\rangle \\pm |1-110g \\rangle \\right) \\ \\ $   <br>\n",
    "$ \\ \\ \\ \\ \\ \\ \\ \\ \\ { }^3 \\Pi_u^{\\pm}=\\frac{1}{\\sqrt{2}} \\left({ }^3 \\Pi_{u_1} \\mp { }^3 \\Pi_{u_2} \\right)=\\frac{1}{\\sqrt{2}} \\left(|1110u \\rangle \\mp |1-110u \\rangle \\right)$\n",
    "<br>\n",
    "$\\ \\ \\ \\ \\ \\ \\ \\ \\ { }^1 \\Pi_g^{\\pm}=\\frac{1}{\\sqrt{2}} \\left({ }^1 \\Pi_{g_1} \\pm { }^1 \\Pi_{g_2} \\right)=\\frac{1}{\\sqrt{2}} \\left(|1100g \\rangle \\pm |1-100g \\rangle \\right) \\ \\ $   <br>\n",
    "$ \\ \\ \\ \\ \\ \\ \\ \\ \\ { }^1 \\Pi_u^{\\pm}=\\frac{1}{\\sqrt{2}} \\left({ }^1 \\Pi_{u_1} \\mp { }^1 \\Pi_{u_2} \\right)=\\frac{1}{\\sqrt{2}} \\left(|1100u \\rangle \\mp |1-100u \\rangle \\right)$\n",
    "\n",
    "<br>\n",
    "\n",
    "$1_{g}$: $\\ \\ \\ \\ \\begin{aligned}\n",
    "& { }^3 \\Sigma_{g_1}^{+} \\\\\n",
    "& { }^1 \\Pi_g^{-} \\\\\n",
    "& { }^3 \\Pi_g^{+}\n",
    "\\end{aligned} \\left(\\begin{array}{cc}\n",
    "-\\frac{2C_3}{R^3}-\\frac{ \\Delta}{3} & \\frac{ \\Delta}{3} & \\frac{ \\Delta}{3} \\\\\n",
    "\\frac{\\Delta}{3} & -\\frac{C_3}{R^3}-\\frac{ \\Delta}{3} & -\\frac{ \\Delta}{3} \\\\\n",
    "\\frac{ \\Delta}{3} & -\\frac{ \\Delta}{3} & \\frac{C_3}{R^3}-\\frac{ \\Delta}{3}\n",
    "\\end{array}\\right)$ $ \\ \\ \\ \\ \\ \\mathrm{1_{u}:} \\ \\ \\ \\ \\begin{aligned}\n",
    "& { }^3 \\Sigma_{u}^{+} \\\\\n",
    "& { }^1 \\Pi_u^{-} \\\\\n",
    "& { }^3 \\Pi_u^{+}\n",
    "\\end{aligned} \\left(\\begin{array}{cc}\n",
    "\\frac{2C_3}{R^3}-\\frac{ \\Delta}{3} & \\frac{ \\Delta}{3} & \\frac{ \\Delta}{3} \\\\\n",
    "\\frac{\\Delta}{3} & \\frac{C_3}{R^3}-\\frac{ \\Delta}{3} & -\\frac{ \\Delta}{3} \\\\\n",
    "\\frac{ \\Delta}{3} & -\\frac{ \\Delta}{3} & \\frac{C_3}{R^3}-\\frac{ \\Delta}{3}\n",
    "\\end{array}\\right)$\n"
   ]
  },
  {
   "cell_type": "markdown",
   "id": "40263bae-3a98-4a0e-9d42-1f6a973e1d43",
   "metadata": {},
   "source": [
    "For $|\\Omega|=2$ states,"
   ]
  },
  {
   "cell_type": "markdown",
   "id": "ad982562-eafe-4e6e-b235-9ff9cd9d02cd",
   "metadata": {},
   "source": [
    " $\\ \\ \\ \\ \\ \\ \\ \\ \\  { }^3 \\Pi_g^{\\pm}=\\frac{1}{\\sqrt{2}} \\left({ }^3 \\Pi_{g_1} \\pm { }^3 \\Pi_{g_2} \\right)=\\frac{1}{\\sqrt{2}} \\left(|1111g \\rangle \\pm |1-11-1g \\rangle \\right) \\ \\ $   <br>\n",
    "$ \\ \\ \\ \\ \\ \\ \\ \\ \\ { }^3 \\Pi_u^{\\pm}=\\frac{1}{\\sqrt{2}} \\left({ }^3 \\Pi_{u_1} \\mp { }^3 \\Pi_{u_2} \\right)=\\frac{1}{\\sqrt{2}} \\left(|1111u \\rangle \\pm |1-11-1u \\rangle \\right)$\n",
    "<br>\n",
    "\n",
    "$2_{g}$: $\\ \\ \\ \\ \\begin{aligned}\n",
    "& { }^3 \\Pi_g^{+} \n",
    "\\end{aligned} \\left(\\begin{array}{cc}\n",
    "\\frac{C_3}{R^3}\n",
    "\\end{array}\\right)$  $\\ \\ \\ \\ \\begin{aligned}\n",
    "& { }^3 \\Pi_u^{+} \n",
    "\\end{aligned} \\left(\\begin{array}{cc}\n",
    "-\\frac{C_3}{R^3}\n",
    "\\end{array}\\right)$ "
   ]
  },
  {
   "cell_type": "markdown",
   "id": "99260068-fccb-4cb6-a62f-75c652fff853",
   "metadata": {},
   "source": [
    "# Beginning of Calcuation"
   ]
  },
  {
   "cell_type": "code",
   "execution_count": 1,
   "id": "c16552eb-ba24-4a37-be77-56f0ff4b1dc4",
   "metadata": {
    "tags": []
   },
   "outputs": [],
   "source": [
    "import numpy as np\n",
    "import MarksConstants as mc\n",
    "from sympy.physics.quantum.cg import CG\n",
    "import math\n",
    "import copy\n",
    "import sympy as sp\n",
    "sp.init_printing(use_latex=True)\n",
    "np.set_printoptions(precision=3,suppress=True,linewidth=100000, edgeitems=10000)\n",
    "import time\n",
    "import IPython.display\n",
    "from IPython.display import Latex\n",
    "import matplotlib.pyplot as plt\n",
    "from scipy import linalg\n",
    "import matplotlib as mpl\n",
    "import matplotlib.style\n",
    "matplotlib.style.use('default')\n",
    "from random import randint\n",
    "import warnings\n",
    "warnings.filterwarnings(\"ignore\")\n",
    "from matplotlib.cm import get_cmap\n",
    "\n",
    "from matplotlib.collections import LineCollection\n",
    "from matplotlib.colors import ListedColormap, BoundaryNorm\n",
    "import matplotlib as mpl\n",
    "import matplotlib.style\n",
    "matplotlib.style.use('default')\n",
    "%matplotlib inline"
   ]
  },
  {
   "cell_type": "markdown",
   "id": "54dfb8ab-3ec8-4762-8408-6a79a3780c3e",
   "metadata": {
    "tags": [],
    "toc-hr-collapsed": true
   },
   "source": [
    "### generate seperate atom lsi, ji, and f bases"
   ]
  },
  {
   "cell_type": "markdown",
   "id": "d692b3fa-892e-463f-81ac-c3d5ae02e0c9",
   "metadata": {},
   "source": [
    "$ l_a,l_b,s_a,s_b,i_a,i_b  \\rightarrow |l_a,m_{l_a},s_a,m_{s_a},i_a,m_{i_a},l_b,m_{l_b},s_b,m_{s_b},i_b,m_{i_b} \\rangle$ <br>\n",
    "$\\ \\ \\ \\ \\  \\ \\ \\ \\ \\ \\ \\ \\ \\ \\ \\ \\ \\ \\ \\  \\ \\ \\ \\ \\ \\ \\  \\rightarrow |j_a,m_{j_a},l_a,s_a,i_a,m_{i_a},j_b,m_{j_b},l_b,s_b,i_b,m_{i_b} \\rangle$ <br>\n",
    "$\\ \\ \\ \\ \\  \\ \\ \\ \\ \\ \\ \\ \\ \\ \\ \\ \\ \\ \\  \\   \\ \\ \\ \\ \\ \\ \\  \\rightarrow |f_a,m_{f_a},l_a,s_a,i_a,f_b,m_{f_b},l_b,s_b,i_b \\rangle$"
   ]
  },
  {
   "cell_type": "markdown",
   "id": "3c7ef06f-7109-4834-8d90-38b267d0d600",
   "metadata": {},
   "source": [
    "takes single atom l, s, and i values to generate all possible states in seperate atom ls basis and seperate atom j basis."
   ]
  },
  {
   "cell_type": "markdown",
   "id": "cf536888-2433-4a12-bff6-c1df2917cfa4",
   "metadata": {},
   "source": [
    "In order to transform the BO states to the j basis, we must transform the BO states to the ls basis and then from the ls to the j basis. \n",
    "The easiest way to accomplish this is to make a transformation matrix of Clebsh-Gordon coefficients for every possible separate atom ls and j state\n",
    "(given our single atom l and s values). This function generates the necessary seperate atom ls and j basis states which are used in the ls_to_j_basis function."
   ]
  },
  {
   "cell_type": "code",
   "execution_count": 2,
   "id": "f6c0079f-6bac-4ce7-a724-fb73a59e43ae",
   "metadata": {},
   "outputs": [],
   "source": [
    "def create_seperate_atom_bases(l_vals, s_vals,i_vals) :   \n",
    "    lsi_basis, ji_basis, f_basis = [],[],[]    \n",
    "    for l_a in l_vals:\n",
    "        for l_b in l_vals:\n",
    "            for s_a in s_vals:\n",
    "                for s_b in s_vals:\n",
    "                    for j_a in set(np.arange(abs(s_a - l_a), s_a + l_a + 1, 1)):\n",
    "                        for j_b in set(np.arange(abs(s_b - l_b), s_b + l_b + 1, 1)):\n",
    "                            for i_a in i_vals:\n",
    "                                for i_b in i_vals:\n",
    "                                    f_vals = set(np.arange(abs(j_a - i_a), j_a + i_a+1, 1))\n",
    "                                    for f_a in set(np.arange(abs(j_a - i_a), j_a + i_a+1, 1)):\n",
    "                                        for f_b in set(np.arange(abs(j_b - i_b), j_b + i_b+1, 1)):\n",
    "                                            for m_f_a in np.arange(-f_a,f_a+1,1):\n",
    "                                                for m_f_b in np.arange(-f_b,f_b+1,1):  \n",
    "                                                    f_2atom_states = {'f_a':f_a,'m_f_a':m_f_a,'j_a':j_a,'l_a':l_a,'s_a':s_a,'i_a':i_a,\n",
    "                                                                      'f_b':f_b,'m_f_b':m_f_b,'j_b':j_b,'l_b':l_b,'s_b':s_b,'i_b':i_b, }\n",
    "                                                    f_basis.append(f_2atom_states)\n",
    "                            for m_j_a in np.arange(-j_a,j_a+1,1):\n",
    "                                for m_j_b in np.arange(-j_b,j_b+1,1): \n",
    "                                    for i_a in i_vals:\n",
    "                                        for i_b in i_vals:\n",
    "                                            for m_i_a in np.arange(-i_a,i_a+1,1):\n",
    "                                                for m_i_b in np.arange(-i_b,i_b+1,1):\n",
    "                                                    ji_2atom_states = {'j_a':j_a,'m_j_a':m_j_a,'l_a':l_a,'s_a':s_a,'i_a':i_a, 'm_i_a':m_i_a,\n",
    "                                                                      'j_b':j_b,'m_j_b':m_j_b,'l_b':l_b,'s_b':s_b,'i_b':i_b, 'm_i_b':m_i_b}\n",
    "                                                    ji_basis.append(ji_2atom_states)\n",
    "            for m_l_a in np.arange(-l_a,l_a+1,1):\n",
    "                for m_l_b in np.arange(-l_b,l_b+1,1):\n",
    "                    for s_a in s_vals:\n",
    "                        for s_b in s_vals:\n",
    "                             for m_s_a in np.arange(-s_a, s_a+1,1):\n",
    "                                for m_s_b in np.arange(-s_b,s_b+1,1):\n",
    "                                    for i_a in i_vals:\n",
    "                                        for i_b in i_vals:\n",
    "                                            for m_i_a in np.arange(-i_a,i_a+1,1):\n",
    "                                                for m_i_b in np.arange(-i_b,i_b+1,1):\n",
    "                                                    lsi_2atom_states = {'l_a':l_a,'m_l_a':m_l_a,'s_a':s_a,'m_s_a':m_s_a,'i_a':i_a, 'm_i_a':m_i_a,\n",
    "                                                                       'l_b':l_b,'m_l_b':m_l_b, 's_b':s_b,'m_s_b':m_s_b,'i_b':i_b, 'm_i_b':m_i_b}\n",
    "                                                    lsi_basis.append(lsi_2atom_states)\n",
    "\n",
    "\n",
    "\n",
    "    return lsi_basis, ji_basis, f_basis "
   ]
  },
  {
   "cell_type": "code",
   "execution_count": 4,
   "id": "568cefe8-4f27-4504-8394-7abb11dbf79b",
   "metadata": {
    "tags": []
   },
   "outputs": [
    {
     "name": "stdout",
     "output_type": "stream",
     "text": [
      "[{'f_a': 1.0, 'm_f_a': -1.0, 'j_a': 0.5, 'l_a': 0, 's_a': 0.5, 'i_a': 1.5, 'f_b': 1.0, 'm_f_b': -1.0, 'j_b': 0.5, 'l_b': 0, 's_b': 0.5, 'i_b': 1.5}, {'f_a': 1.0, 'm_f_a': -1.0, 'j_a': 0.5, 'l_a': 0, 's_a': 0.5, 'i_a': 1.5, 'f_b': 1.0, 'm_f_b': 0.0, 'j_b': 0.5, 'l_b': 0, 's_b': 0.5, 'i_b': 1.5}, {'f_a': 1.0, 'm_f_a': -1.0, 'j_a': 0.5, 'l_a': 0, 's_a': 0.5, 'i_a': 1.5, 'f_b': 1.0, 'm_f_b': 1.0, 'j_b': 0.5, 'l_b': 0, 's_b': 0.5, 'i_b': 1.5}]\n"
     ]
    }
   ],
   "source": [
    "ls_basis,j_basis,f_basis = create_seperate_atom_bases([0,1],[1/2],[3/2])\n",
    "# print('\\033[1m' +'seperate atom j states'+'\\033[0m')\n",
    "# print('number of basis states:',len(j_basis))\n",
    "# for state in j_basis:\n",
    "#     print(state)\n",
    "f_state = f_basis[0:3]\n",
    "print(f_state)"
   ]
  },
  {
   "cell_type": "markdown",
   "id": "d0299d5a-3955-40d5-a12a-c35d45d8a4c1",
   "metadata": {},
   "source": [
    "### create lsi to ji basis transformation matrix"
   ]
  },
  {
   "cell_type": "markdown",
   "id": "8b358baa-c200-43e4-9787-5438b6266e4f",
   "metadata": {},
   "source": [
    "$|l_a, m_{l_a}, s_a, m_{s_a},i_a,m_{i_a}l_b, m_{l_b},s_b, m_{s_b},i_b,m_{i_b} \\rangle \\langle j_a, m_{j_a}, l_a,s_a,i_a,m_{i_a}j_b, m_{j_b},l_b,s_b,i_b,m_{i_b}|$"
   ]
  },
  {
   "cell_type": "markdown",
   "id": "021e2b36-9db9-4e67-8996-3773a5238f7c",
   "metadata": {},
   "source": [
    "this function creates the transformation matrix to from the lsi to ji basis."
   ]
  },
  {
   "cell_type": "markdown",
   "id": "a37f323a-fc72-4656-b690-d8968f955b6c",
   "metadata": {},
   "source": [
    "for states ${|l_a, m_{l_a}, s_a, m_{s_a},i_a,m_{i_a},l_b, m_{l_b},s_b, m_{s_b},i_b,m_{i_b} \\rangle}_p$  and ${|j_a, m_{j_a}, l_a,s_a,i_a,m_{i_a},j_b, m_{j_b},l_b,s_b,i_b,m_{i_b} \\rangle}_q$ <kb> where p, q = 0,1,2,...,1023"
   ]
  },
  {
   "cell_type": "markdown",
   "id": "54690bbc-d08d-4b6a-91d3-80fde03d715e",
   "metadata": {},
   "source": [
    "we need to find $ _q\\langle {j_a, m_{j_a}, l_a,s_a,i_a,m_{i_a},j_b, m_{j_b},l_b,s_b|}{l_a, m_{l_a}, s_a, m_{s_a},l_b, m_{l_b},s_b, m_{s_b},i_b,m_{i_b} \\rangle}_p=C_{{(l_a m_{l_a} s_a m_{s_a})}_p}^{{(j_a m_{j_a})}_q}C_{{(l_b m_{l_b} s_b m_{s_b})}_p}^{{(j_b m_{j_b})}_q}$ for each permuation of states p and q"
   ]
  },
  {
   "cell_type": "markdown",
   "id": "7ec8b88f-dd1d-473f-80f7-a87a49a5a537",
   "metadata": {},
   "source": [
    "let $ \\ \\ \\ C_{(ls)_p}^{j_q}=C_{{(l_a m_{l_a} s_a m_{s_a})}_p}^{{(j_a m_{j_a})}_q}C_{{(l_b m_{l_b} s_b m_{s_b})}_p}^{{(j_b m_{j_b})}_q}$ "
   ]
  },
  {
   "cell_type": "markdown",
   "id": "97d0650d-5983-4321-aec0-a57a6b74324e",
   "metadata": {},
   "source": [
    "The lsi to ji operator is a 1024x1024 matrix of the form"
   ]
  },
  {
   "cell_type": "markdown",
   "id": "a559fc00-d0d7-41e1-ad49-258e9e9677d0",
   "metadata": {},
   "source": [
    "\n",
    "$\\left(\\begin{array}{ccccc}\n",
    "C_{(ls)_0}^{j_0} & C_{(ls)_1}^{j_0} & C_{(ls)_2}^{j_0} & \\cdots & C_{(ls)_{1023}}^{j_0} \\\\\n",
    "C_{(ls)_0}^{j_1} & C_{(ls)_1}^{j_1} & C_{(ls)_2}^{j_1} & \\cdots & C_{(ls)_{1023}}^{j_1}\\\\\n",
    "C_{(ls)_0}^{j_2} & C_{(ls)_1}^{j_2} & C_{(ls)_2}^{j_2} & \\cdots & C_{(ls)_{1023}}^{j_2}\\\\\n",
    "\\vdots & \\vdots & \\vdots & \\ddots \\\\\n",
    "C_{(ls)_{1023}}^{j_{0}} & C_{(ls)_{1023}}^{j_{1}} & C_{(ls)_{1023}}^{j_{2}} & \\cdots & C_{(ls)_{1023}}^{j_{1023}}\n",
    "\\end{array}\\right)$"
   ]
  },
  {
   "cell_type": "code",
   "execution_count": 5,
   "id": "29e32305-bf4f-45a1-a5e3-2aaf5b98a044",
   "metadata": {},
   "outputs": [],
   "source": [
    "def lsi_to_ji_op(lsi_basis, ji_basis):\n",
    "    op = np.zeros((len(lsi_basis),len(ji_basis))) \n",
    "    for lsi_num, lsi_state in enumerate(lsi_basis): \n",
    "        for ji_num, ji_state in enumerate(ji_basis):\n",
    "            op[ji_num,lsi_num] = 1\n",
    "            if (lsi_state['l_a'] != ji_state['l_a'] or lsi_state['l_b'] != ji_state['l_b'] or lsi_state['s_a'] != ji_state['s_a'] \n",
    "                or lsi_state['s_b'] != ji_state['s_b'] or lsi_state['i_a'] != ji_state['i_a'] or lsi_state['i_b'] != ji_state['i_b']):\n",
    "                op[ji_num,lsi_num] *= 0\n",
    "            else:\n",
    "                op[ji_num,lsi_num] *= (float(CG(lsi_state['l_a'], lsi_state['m_l_a'], lsi_state['s_a'], lsi_state['m_s_a'], ji_state['j_a'], ji_state['m_j_a']).doit())\n",
    "                                       *float(CG(lsi_state['l_b'], lsi_state['m_l_b'], lsi_state['s_b'], lsi_state['m_s_b'], ji_state['j_b'], ji_state['m_j_b']).doit()))\n",
    "    return op"
   ]
  },
  {
   "cell_type": "code",
   "execution_count": 8,
   "id": "d4c4aa85-9d8c-41d4-99cb-5d872bbe3666",
   "metadata": {
    "collapsed": true,
    "jupyter": {
     "outputs_hidden": true
    },
    "tags": []
   },
   "outputs": [
    {
     "ename": "KeyboardInterrupt",
     "evalue": "",
     "output_type": "error",
     "traceback": [
      "\u001b[0;31m---------------------------------------------------------------------------\u001b[0m",
      "\u001b[0;31mKeyboardInterrupt\u001b[0m                         Traceback (most recent call last)",
      "Input \u001b[0;32mIn [8]\u001b[0m, in \u001b[0;36m<cell line: 1>\u001b[0;34m()\u001b[0m\n\u001b[0;32m----> 1\u001b[0m lsi_to_ji \u001b[38;5;241m=\u001b[39m \u001b[43mlsi_to_ji_op\u001b[49m\u001b[43m(\u001b[49m\u001b[43mls_basis\u001b[49m\u001b[43m,\u001b[49m\u001b[43m \u001b[49m\u001b[43mj_basis\u001b[49m\u001b[43m)\u001b[49m\n\u001b[1;32m      2\u001b[0m \u001b[38;5;28mprint\u001b[39m(np\u001b[38;5;241m.\u001b[39mshape(lsi_to_ji))\n",
      "Input \u001b[0;32mIn [5]\u001b[0m, in \u001b[0;36mlsi_to_ji_op\u001b[0;34m(lsi_basis, ji_basis)\u001b[0m\n\u001b[1;32m      8\u001b[0m             op[ji_num,lsi_num] \u001b[38;5;241m*\u001b[39m\u001b[38;5;241m=\u001b[39m \u001b[38;5;241m0\u001b[39m\n\u001b[1;32m      9\u001b[0m         \u001b[38;5;28;01melse\u001b[39;00m:\n\u001b[0;32m---> 10\u001b[0m             op[ji_num,lsi_num] \u001b[38;5;241m*\u001b[39m\u001b[38;5;241m=\u001b[39m (\u001b[38;5;28mfloat\u001b[39m(\u001b[43mCG\u001b[49m\u001b[43m(\u001b[49m\u001b[43mlsi_state\u001b[49m\u001b[43m[\u001b[49m\u001b[38;5;124;43m'\u001b[39;49m\u001b[38;5;124;43ml_a\u001b[39;49m\u001b[38;5;124;43m'\u001b[39;49m\u001b[43m]\u001b[49m\u001b[43m,\u001b[49m\u001b[43m \u001b[49m\u001b[43mlsi_state\u001b[49m\u001b[43m[\u001b[49m\u001b[38;5;124;43m'\u001b[39;49m\u001b[38;5;124;43mm_l_a\u001b[39;49m\u001b[38;5;124;43m'\u001b[39;49m\u001b[43m]\u001b[49m\u001b[43m,\u001b[49m\u001b[43m \u001b[49m\u001b[43mlsi_state\u001b[49m\u001b[43m[\u001b[49m\u001b[38;5;124;43m'\u001b[39;49m\u001b[38;5;124;43ms_a\u001b[39;49m\u001b[38;5;124;43m'\u001b[39;49m\u001b[43m]\u001b[49m\u001b[43m,\u001b[49m\u001b[43m \u001b[49m\u001b[43mlsi_state\u001b[49m\u001b[43m[\u001b[49m\u001b[38;5;124;43m'\u001b[39;49m\u001b[38;5;124;43mm_s_a\u001b[39;49m\u001b[38;5;124;43m'\u001b[39;49m\u001b[43m]\u001b[49m\u001b[43m,\u001b[49m\u001b[43m \u001b[49m\u001b[43mji_state\u001b[49m\u001b[43m[\u001b[49m\u001b[38;5;124;43m'\u001b[39;49m\u001b[38;5;124;43mj_a\u001b[39;49m\u001b[38;5;124;43m'\u001b[39;49m\u001b[43m]\u001b[49m\u001b[43m,\u001b[49m\u001b[43m \u001b[49m\u001b[43mji_state\u001b[49m\u001b[43m[\u001b[49m\u001b[38;5;124;43m'\u001b[39;49m\u001b[38;5;124;43mm_j_a\u001b[39;49m\u001b[38;5;124;43m'\u001b[39;49m\u001b[43m]\u001b[49m\u001b[43m)\u001b[49m\u001b[38;5;241m.\u001b[39mdoit())\n\u001b[1;32m     11\u001b[0m                                    \u001b[38;5;241m*\u001b[39m\u001b[38;5;28mfloat\u001b[39m(CG(lsi_state[\u001b[38;5;124m'\u001b[39m\u001b[38;5;124ml_b\u001b[39m\u001b[38;5;124m'\u001b[39m], lsi_state[\u001b[38;5;124m'\u001b[39m\u001b[38;5;124mm_l_b\u001b[39m\u001b[38;5;124m'\u001b[39m], lsi_state[\u001b[38;5;124m'\u001b[39m\u001b[38;5;124ms_b\u001b[39m\u001b[38;5;124m'\u001b[39m], lsi_state[\u001b[38;5;124m'\u001b[39m\u001b[38;5;124mm_s_b\u001b[39m\u001b[38;5;124m'\u001b[39m], ji_state[\u001b[38;5;124m'\u001b[39m\u001b[38;5;124mj_b\u001b[39m\u001b[38;5;124m'\u001b[39m], ji_state[\u001b[38;5;124m'\u001b[39m\u001b[38;5;124mm_j_b\u001b[39m\u001b[38;5;124m'\u001b[39m])\u001b[38;5;241m.\u001b[39mdoit()))\n\u001b[1;32m     12\u001b[0m \u001b[38;5;28;01mreturn\u001b[39;00m op\n",
      "File \u001b[0;32m/Library/Frameworks/Python.framework/Versions/3.10/lib/python3.10/site-packages/sympy/physics/quantum/cg.py:83\u001b[0m, in \u001b[0;36mWigner3j.__new__\u001b[0;34m(cls, j1, m1, j2, m2, j3, m3)\u001b[0m\n\u001b[1;32m     81\u001b[0m \u001b[38;5;28;01mdef\u001b[39;00m \u001b[38;5;21m__new__\u001b[39m(\u001b[38;5;28mcls\u001b[39m, j1, m1, j2, m2, j3, m3):\n\u001b[1;32m     82\u001b[0m     args \u001b[38;5;241m=\u001b[39m \u001b[38;5;28mmap\u001b[39m(sympify, (j1, m1, j2, m2, j3, m3))\n\u001b[0;32m---> 83\u001b[0m     \u001b[38;5;28;01mreturn\u001b[39;00m Expr\u001b[38;5;241m.\u001b[39m\u001b[38;5;21m__new__\u001b[39m(\u001b[38;5;28mcls\u001b[39m, \u001b[38;5;241m*\u001b[39margs)\n",
      "File \u001b[0;32m/Library/Frameworks/Python.framework/Versions/3.10/lib/python3.10/site-packages/sympy/core/sympify.py:383\u001b[0m, in \u001b[0;36msympify\u001b[0;34m(a, locals, convert_xor, strict, rational, evaluate)\u001b[0m\n\u001b[1;32m    381\u001b[0m         conv \u001b[38;5;241m=\u001b[39m _sympy_converter\u001b[38;5;241m.\u001b[39mget(superclass)\n\u001b[1;32m    382\u001b[0m     \u001b[38;5;28;01mif\u001b[39;00m conv \u001b[38;5;129;01mis\u001b[39;00m \u001b[38;5;129;01mnot\u001b[39;00m \u001b[38;5;28;01mNone\u001b[39;00m:\n\u001b[0;32m--> 383\u001b[0m         \u001b[38;5;28;01mreturn\u001b[39;00m \u001b[43mconv\u001b[49m\u001b[43m(\u001b[49m\u001b[43ma\u001b[49m\u001b[43m)\u001b[49m\n\u001b[1;32m    385\u001b[0m \u001b[38;5;28;01mif\u001b[39;00m \u001b[38;5;28mcls\u001b[39m \u001b[38;5;129;01mis\u001b[39;00m \u001b[38;5;28mtype\u001b[39m(\u001b[38;5;28;01mNone\u001b[39;00m):\n\u001b[1;32m    386\u001b[0m     \u001b[38;5;28;01mif\u001b[39;00m strict:\n",
      "File \u001b[0;32m/Library/Frameworks/Python.framework/Versions/3.10/lib/python3.10/site-packages/sympy/core/numbers.py:1069\u001b[0m, in \u001b[0;36mFloat.__new__\u001b[0;34m(cls, num, dps, precision)\u001b[0m\n\u001b[1;32m   1067\u001b[0m     \u001b[38;5;28;01mreturn\u001b[39;00m num\n\u001b[1;32m   1068\u001b[0m \u001b[38;5;28;01melif\u001b[39;00m _is_numpy_instance(num):  \u001b[38;5;66;03m# support for numpy datatypes\u001b[39;00m\n\u001b[0;32m-> 1069\u001b[0m     num \u001b[38;5;241m=\u001b[39m \u001b[43m_convert_numpy_types\u001b[49m\u001b[43m(\u001b[49m\u001b[43mnum\u001b[49m\u001b[43m)\u001b[49m\n\u001b[1;32m   1070\u001b[0m \u001b[38;5;28;01melif\u001b[39;00m \u001b[38;5;28misinstance\u001b[39m(num, mpmath\u001b[38;5;241m.\u001b[39mmpf):\n\u001b[1;32m   1071\u001b[0m     \u001b[38;5;28;01mif\u001b[39;00m precision \u001b[38;5;129;01mis\u001b[39;00m \u001b[38;5;28;01mNone\u001b[39;00m:\n",
      "File \u001b[0;32m/Library/Frameworks/Python.framework/Versions/3.10/lib/python3.10/site-packages/sympy/core/sympify.py:94\u001b[0m, in \u001b[0;36m_convert_numpy_types\u001b[0;34m(a, **sympify_args)\u001b[0m\n\u001b[1;32m     90\u001b[0m     prec \u001b[38;5;241m=\u001b[39m np\u001b[38;5;241m.\u001b[39mfinfo(a)\u001b[38;5;241m.\u001b[39mnmant \u001b[38;5;241m+\u001b[39m \u001b[38;5;241m1\u001b[39m\n\u001b[1;32m     91\u001b[0m     \u001b[38;5;66;03m# E.g. double precision means prec=53 but nmant=52\u001b[39;00m\n\u001b[1;32m     92\u001b[0m     \u001b[38;5;66;03m# Leading bit of mantissa is always 1, so is not stored\u001b[39;00m\n\u001b[1;32m     93\u001b[0m     a \u001b[38;5;241m=\u001b[39m \u001b[38;5;28mstr\u001b[39m(\u001b[38;5;28mlist\u001b[39m(np\u001b[38;5;241m.\u001b[39mreshape(np\u001b[38;5;241m.\u001b[39masarray(a),\n\u001b[0;32m---> 94\u001b[0m                             (\u001b[38;5;241m1\u001b[39m, \u001b[43mnp\u001b[49m\u001b[38;5;241;43m.\u001b[39;49m\u001b[43msize\u001b[49m\u001b[43m(\u001b[49m\u001b[43ma\u001b[49m\u001b[43m)\u001b[49m))[\u001b[38;5;241m0\u001b[39m]))[\u001b[38;5;241m1\u001b[39m:\u001b[38;5;241m-\u001b[39m\u001b[38;5;241m1\u001b[39m]\n\u001b[1;32m     95\u001b[0m     \u001b[38;5;28;01mreturn\u001b[39;00m Float(a, precision\u001b[38;5;241m=\u001b[39mprec)\n\u001b[1;32m     96\u001b[0m \u001b[38;5;28;01mexcept\u001b[39;00m \u001b[38;5;167;01mNotImplementedError\u001b[39;00m:\n",
      "File \u001b[0;32m<__array_function__ internals>:180\u001b[0m, in \u001b[0;36msize\u001b[0;34m(*args, **kwargs)\u001b[0m\n",
      "File \u001b[0;32m/Library/Frameworks/Python.framework/Versions/3.10/lib/python3.10/site-packages/numpy/core/fromnumeric.py:3163\u001b[0m, in \u001b[0;36msize\u001b[0;34m(a, axis)\u001b[0m\n\u001b[1;32m   3159\u001b[0m \u001b[38;5;28;01mdef\u001b[39;00m \u001b[38;5;21m_size_dispatcher\u001b[39m(a, axis\u001b[38;5;241m=\u001b[39m\u001b[38;5;28;01mNone\u001b[39;00m):\n\u001b[1;32m   3160\u001b[0m     \u001b[38;5;28;01mreturn\u001b[39;00m (a,)\n\u001b[0;32m-> 3163\u001b[0m \u001b[38;5;129m@array_function_dispatch\u001b[39m(_size_dispatcher)\n\u001b[1;32m   3164\u001b[0m \u001b[38;5;28;01mdef\u001b[39;00m \u001b[38;5;21msize\u001b[39m(a, axis\u001b[38;5;241m=\u001b[39m\u001b[38;5;28;01mNone\u001b[39;00m):\n\u001b[1;32m   3165\u001b[0m     \u001b[38;5;124;03m\"\"\"\u001b[39;00m\n\u001b[1;32m   3166\u001b[0m \u001b[38;5;124;03m    Return the number of elements along a given axis.\u001b[39;00m\n\u001b[1;32m   3167\u001b[0m \n\u001b[0;32m   (...)\u001b[0m\n\u001b[1;32m   3196\u001b[0m \n\u001b[1;32m   3197\u001b[0m \u001b[38;5;124;03m    \"\"\"\u001b[39;00m\n\u001b[1;32m   3198\u001b[0m     \u001b[38;5;28;01mif\u001b[39;00m axis \u001b[38;5;129;01mis\u001b[39;00m \u001b[38;5;28;01mNone\u001b[39;00m:\n",
      "\u001b[0;31mKeyboardInterrupt\u001b[0m: "
     ]
    }
   ],
   "source": [
    "lsi_to_ji = lsi_to_ji_op(ls_basis, j_basis)"
   ]
  },
  {
   "cell_type": "code",
   "execution_count": 9,
   "id": "7c9c2094-611f-46f5-a794-d8515eafcc7f",
   "metadata": {},
   "outputs": [
    {
     "name": "stdout",
     "output_type": "stream",
     "text": [
      "(1024, 1024)\n"
     ]
    }
   ],
   "source": [
    "print(np.shape(lsi_to_ji))"
   ]
  },
  {
   "cell_type": "markdown",
   "id": "182d5ebf-cc92-4148-91e2-37ecb8d92269",
   "metadata": {},
   "source": [
    "### Create ji to f basis transformation matrix"
   ]
  },
  {
   "cell_type": "code",
   "execution_count": 7,
   "id": "e432d6a6-37bc-4a2e-803c-425001564166",
   "metadata": {},
   "outputs": [],
   "source": [
    "def ji_to_f_op(ji_basis, f_basis):\n",
    "    op = np.zeros((len(ji_basis),len(f_basis)))\n",
    "    for j_num, ji_state in enumerate(ji_basis):\n",
    "        for f_num, f_state in enumerate(f_basis):\n",
    "            op[f_num,j_num] = 1\n",
    "            if (f_state['l_a'] != ji_state['l_a'] or f_state['l_b'] != ji_state['l_b'] or f_state['s_a'] != f_state['s_a'] \n",
    "                or f_state['s_b'] != ji_state['s_b'] or f_state['i_a'] != ji_state['i_a'] or f_state['i_b'] != ji_state['i_b']\n",
    "                or f_state['j_a'] != ji_state['j_a'] or f_state['j_b'] != ji_state['j_b']):\n",
    "                op[f_num,j_num] *= 0            \n",
    "            else:\n",
    "                op[fnum, jnum] *=(float(CG(ji_state['j_a'], ji_state['m_j_a'],ji_state['i_a'], ji_state['m_i_a'],f_state['f_a'], f_state['m_f_a']).doit())\n",
    "                                       *float(CG(ji_state['j_b'], ji_state['m_j_b'],ji_state['i_b'], ji_state['m_i_b'],f_state['f_b'], f_state['m_f_b']).doit()))\n",
    "    return op"
   ]
  },
  {
   "cell_type": "markdown",
   "id": "63ccbd75-afb9-4efc-a1f0-22fa200fc1f7",
   "metadata": {},
   "source": [
    "### create fine structure Hamiltonian "
   ]
  },
  {
   "cell_type": "markdown",
   "id": "701c9168-f9f8-4701-86e7-3e732be6d777",
   "metadata": {
    "tags": []
   },
   "source": [
    "$ \\hat H_{hfs} = \\sum_{f_a \\phi_{a} f_b \\phi_{b}}|f_a \\phi_{a} (l_a s_a i_a) f_b \\phi_{b} (l_b s_b i_b) \\rangle E_{hfs} \\langle f_a \\phi_{a} (l_a s_a i_a) f_b \\phi_{b} (l_b s_b i_b) | $ "
   ]
  },
  {
   "cell_type": "markdown",
   "id": "9eaec1b7-57b1-4c34-9cd0-e2374c7b78b2",
   "metadata": {
    "tags": []
   },
   "source": [
    "This function creates a diagonal matrix of eigenvalues for all possible f states. Matrix elements are given by"
   ]
  },
  {
   "cell_type": "markdown",
   "id": "946e516d-2fa7-4be9-ab5e-d74e4450b583",
   "metadata": {},
   "source": [
    "$\\langle f_a, \\phi_{a},l_a, s_a,i_a, f_b, \\phi_{b}, l_b, s_b,i_b |E_{hfs} |f_a, \\phi_{a},l_a, s_a,i_a, f_b, \\phi_{b}, l_b, s_b,i_b  \\rangle $ "
   ]
  },
  {
   "cell_type": "markdown",
   "id": "a5183bac-8f42-405d-9a8a-3a11b181293b",
   "metadata": {},
   "source": [
    "Since the hyperfine splittings are different for D1 and D2 lines, we must calculate the energies for each atom seperately and add them together. The energy for a single atom is "
   ]
  },
  {
   "cell_type": "markdown",
   "id": "a75280b7-556e-40fd-b6b2-4e746f0cea2a",
   "metadata": {
    "tags": []
   },
   "source": [
    "$E_{\\alpha}=A_{hfs} \\vec{i}_{\\alpha} \\cdot \\vec{j}_{\\alpha}+\\delta_{j_{\\alpha},\\frac{3}{2}}B_{hfs} \\frac{3(\\vec{i}_{\\alpha}  \\cdot \\vec{j}_{\\alpha} )^2+\\frac{3}{2} \\vec{i}_{\\alpha}  \\cdot \\vec{j}_{\\alpha}-i_{\\alpha}(i_{\\alpha}+1) j_{\\alpha}(j_{\\alpha}+1)}{2 i_{\\alpha}(2 i_{\\alpha}-1) j_{\\alpha}(2 j_{\\alpha}-1)}$"
   ]
  },
  {
   "cell_type": "markdown",
   "id": "8b2ab3d0-cec5-4765-8ce5-d972a52001be",
   "metadata": {
    "tags": []
   },
   "source": [
    "$ \\ \\ \\ \\ \\ \\ \\ \\ = \\frac{A_{hfs}}{2} \\left(f_{\\alpha}^2-j_{\\alpha}^2-i_{\\alpha}^2\\right)+ \\delta_{j_{\\alpha},\\frac{3}{2}}B_{hfs} \\frac{3(f_{\\alpha}^2-j_{\\alpha}^2-i_{\\alpha}^2 )^2+\\frac{3}{2} (f_{\\alpha}^2-j_{\\alpha}^2-i_{\\alpha}^2)-i_{\\alpha}(i_{\\alpha}+1) j_{\\alpha}(j_{\\alpha}+1)}{2 i_{\\alpha}(2 i_{\\alpha}-1) j_{\\alpha}(2 j_{\\alpha}-1)}$\n",
    "\n",
    "$ \\ \\ \\ \\ \\ \\ \\ \\ =\\frac{A_{hfs}}{2} \\left[f_{\\alpha}(f_{\\alpha}+1) - j_{\\alpha}(j_{\\alpha}+1)-i_{\\alpha}(i_{\\alpha}+1) \\right]+ \\delta_{j_{\\alpha},\\frac{3}{2}}B_{hfs} \\frac{\\frac{3}{2} \\left[f_{\\alpha}(f_{\\alpha}+1) - j_{\\alpha}(j_{\\alpha}+1)-i_{\\alpha}(i_{\\alpha}+1) \\right] \\left[f_{\\alpha}(f_{\\alpha}+1) - j_{\\alpha}(j_{\\alpha}+1)-i_{\\alpha}(i_{\\alpha}+1)+1 \\right]-2 i_{\\alpha}(i_{\\alpha}+1) j_{\\alpha}(j_{\\alpha}+1)}{2 i_{\\alpha}(2 i_{\\alpha}-1) 2 j_{\\alpha}(2 j_{\\alpha}-1)}$ \n",
    "\n",
    "$ \\ \\ \\ \\ \\ \\ \\ \\ =\\frac{A_{hfs}}{2} k_{\\alpha}+ \\delta_{j_{\\alpha},\\frac{3}{2}}B_{hfs}\\frac{\\frac{3}{2} k_{\\alpha}(k_{\\alpha}+1)-2 i_{\\alpha}(i_{\\alpha}+1) j_{\\alpha}(j_{\\alpha}+1)}{2 i_{\\alpha}(2 i_{\\alpha}-1) 2 j_{\\alpha}(2 j_{\\alpha}-1)} \\ \\ \\ \\ \\ \\ \\ \\ \\ \\ \\ \\ k_{\\alpha}=f_{\\alpha}(f_{\\alpha}+1) - j_{\\alpha}(j_{\\alpha}+1)-i_{\\alpha}(i_{\\alpha}+1)$"
   ]
  },
  {
   "cell_type": "markdown",
   "id": "c9180936-aef4-42ae-9669-305d903770ed",
   "metadata": {},
   "source": [
    "where $A_{hfs}$ and $B_{hfs}$ are the magnetic dipole constant and electric quadrupole constant given by"
   ]
  },
  {
   "cell_type": "markdown",
   "id": "7995fde3-6e56-4966-ac71-c27940e602b0",
   "metadata": {
    "tags": []
   },
   "source": [
    "$$\n",
    "A_{hfs}=\\left\\{\\begin{array}{lc}\n",
    "h \\cdot 3.417341305452145 \\ \\ \\mathrm{GHz} & j_{\\alpha} = \\frac{1}{2}, \\ \\ l_{\\alpha}=0 \\\\\n",
    "h \\cdot 408.328 \\ \\ \\mathrm{MHz}  &  j_{\\alpha} = \\frac{1}{2}, \\ \\ l_{\\alpha}=1  \\\\\n",
    "h \\cdot 84.7185 \\ \\ \\mathrm{MHz}  &  j_{\\alpha} = \\frac{3}{2}, \\ \\ l_{\\alpha}=1  \\\\\n",
    "\\end{array}\\right. \\ \\ \\ \\ \\ \\ \\ \\ \\ \\ \\ \\ \\ \\ \\ \\ \\ \\ B_{hfs} = 12.4965 \\ \\ \\mathrm{MHz}  \n",
    "$$"
   ]
  },
  {
   "cell_type": "markdown",
   "id": "5ba38fd6-bf48-4485-a369-2b17e1852a2b",
   "metadata": {},
   "source": [
    "The energies, $E_{hfs} = E_a + E_b $ are contained in a diagonal 1024 x 1024 matrix of the form"
   ]
  },
  {
   "cell_type": "markdown",
   "id": "1fb9993e-7846-4474-ae2d-2321e4907e75",
   "metadata": {
    "tags": []
   },
   "source": [
    "\n",
    "$\\left(\\begin{array}{ccccc}\n",
    "E_{0,0} & 0 & 0 & \\cdots & 0 \\\\\n",
    "0 & E_{1,1} & 0 & \\cdots & 0\\\\\n",
    "0 & 0 & E_{2,2} & \\cdots & 0\\\\\n",
    "\\vdots & \\vdots & \\vdots & \\ddots \\\\\n",
    "0 & 0 & 0 & \\cdots & E_{1023,1023}\n",
    "\\end{array}\\right)$"
   ]
  },
  {
   "cell_type": "code",
   "execution_count": 10,
   "id": "17a0159d-4ecc-46d3-aacf-dadfdf2a0cf8",
   "metadata": {},
   "outputs": [],
   "source": [
    "def create_H_HFS(f_basis,A_S12,A_P12,A_P32,B_P32):\n",
    "    H_HFS = np.zeros((len(f_basis), len(f_basis)))\n",
    "    for state_num, state in enumerate(f_basis):\n",
    "        f_a,l_a,j_a,i_a = state['f_a'],state['l_a'],state['j_a'],state['i_a']\n",
    "        k_a = f_a*(f_a+1)-j_a*(j_a+1)-i_a*(i_a+1)\n",
    "        A_a_HFS = A_P12 if l_a == 1 else A_S12\n",
    "        if j_a == 3/2:\n",
    "            E_a = (A_a_HFS/2 * k_a + (B_P32*(3/2)*k_a*(k_a+1)\n",
    "                        -2*i_a*(i_a+1)*j_a*(j_a+1))/(2*i_a*(i_a+1)*j_a*(j_a+1)))\n",
    "        else:\n",
    "            E_a = A_a_HFS/2 * k_a \n",
    "        f_b,l_b,j_b,i_b = state['f_b'],state['l_b'],state['j_b'],state['i_b']\n",
    "        k_b = f_b*(f_b+1)-j_b*(j_b+1)-i_b*(i_b+1)\n",
    "        A_b_HFS = A_P12 if l_b == 1 else A_S12\n",
    "        if j_b == 3/2:\n",
    "            E_b = (A_b_HFS/2 * k_b + (B_P32*(3/2)*k_b*(k_b+1)\n",
    "                        -2*i_b*(i_b+1)*j_b*(j_b+1))/(2*i_b*(i_b+1)*j_b*(j_b+1)))\n",
    "        else:\n",
    "            E_b = A_b_HFS/2 * k_b  \n",
    "        H_HFS[state_num,state_num] = E_a + E_b          \n",
    "    return H_HFS \n",
    "\n",
    "A_S12=(mc.Rb87_Ground_ToF2-mc.Rb87_Ground_ToF1)/2 * mc.h\n",
    "A_P12=(mc.Rb87_5P12_ToF2-mc.Rb87_5P12_ToF1)/2 * mc.h\n",
    "A_P32= 84.7185e6 * mc.h\n",
    "B_P32= 12.4965e6 * mc.h"
   ]
  },
  {
   "cell_type": "code",
   "execution_count": 12,
   "id": "b86ecec9-352f-4853-9893-2a26404cb800",
   "metadata": {
    "jupyter": {
     "source_hidden": true
    },
    "tags": []
   },
   "outputs": [],
   "source": [
    "H_HFS_op = create_H_HFS(f_basis,A_S12,A_P12,A_P32,B_P32)\n",
    "# print(np.shape(H_HFS_op))"
   ]
  },
  {
   "cell_type": "code",
   "execution_count": 13,
   "id": "f529fc0d-c01c-4dd7-b325-a13ab54f52b7",
   "metadata": {
    "jupyter": {
     "source_hidden": true
    },
    "tags": []
   },
   "outputs": [],
   "source": [
    "### Mark's way\n",
    "def create_H_HFS_mark(f_basis, E_5P12_F1F2_splitting, E_HFS_5S12_F1F2_splitting, F3E, F2E, F1E, F0E):\n",
    "    H_HFS = np.zeros((len(f_basis), len(f_basis)))\n",
    "    for state_num, state in enumerate(f_basis): \n",
    "        A_a_HFS = E_5P12_F1F2_splitting if state[\"l_a\"] == 1 else E_HFS_5S12_F1F2_splitting\n",
    "        E_a = A_a_HFS/2 * (state['f_a']*(state['f_a']+1)-state['j_a']\n",
    "                *(state['j_a']+1)-state['i_a']*(state['i_a']+1)) if state['j_a'] != 3/2 else (F3E if state['f_a']==3 else (F2E if state['f_a']==2 else (F1E if state['f_a']==1 else F0E)))\n",
    "        A_b_HFS = E_5P12_F1F2_splitting if state[\"l_b\"] == 1 else E_HFS_5S12_F1F2_splitting    \n",
    "        E_b = A_b_HFS/2 * (state['f_b']*(state['f_b']+1)-state['j_b']\n",
    "                *(state['j_b']+1)-state['i_b']*(state['i_b']+1)) if state['j_b'] != 3/2 else (F3E if state['f_b']==3 else (F2E if state['f_b']==2 else (F1E if state['f_b']==1 else F0E))) \n",
    "        H_HFS[state_num,state_num] = E_a + E_b          \n",
    "    return H_HFS \n"
   ]
  },
  {
   "cell_type": "code",
   "execution_count": 14,
   "id": "84b8961e-00d7-471b-a917-2e97f8d9fc7e",
   "metadata": {
    "jupyter": {
     "source_hidden": true
    },
    "tags": []
   },
   "outputs": [],
   "source": [
    "def H_HFS2(f_basis,A_S12,A_P12,A_P32,B_P32):\n",
    "    state = f_basis\n",
    "    f_a,l_a,j_a,i_a = state['f_a'],state['l_a'],state['j_a'],state['i_a']\n",
    "    k_a = f_a*(f_a+1)-j_a*(j_a+1)-i_a*(i_a+1)\n",
    "    A_a_HFS = 'A_P12 x' if l_a == 1 else 'A_S12 x'\n",
    "    if j_a == 3/2:\n",
    "        E_a = (A_a_HFS + str( k_a + (B_P32*(3/2)*k_a*(k_a+1)\n",
    "                    -2*i_a*(i_a+1)*j_a*(j_a+1))/(2*i_a*(i_a+1)*j_a*(j_a+1))))\n",
    "    else:\n",
    "        E_a = A_a_HFS +str( k_a) \n",
    "        \n",
    "    f_b,l_b,j_b,i_b = state['f_b'],state['l_b'],state['j_b'],state['i_b']\n",
    "    k_b = f_b*(f_b+1)-j_b*(j_b+1)-i_b*(i_b+1)\n",
    "    A_b_HFS = 'A_P12 x' if l_b == 1 else 'A_S12 x'\n",
    "    if j_b == 3/2:\n",
    "        E_b = (A_b_HFS + str( k_b + (B_P32*(3/2)*k_b*(k_b+1)\n",
    "                    -2*i_b*(i_b+1)*j_b*(j_b+1))/(2*i_b*(i_b+1)*j_b*(j_b+1))))\n",
    "    else:\n",
    "        E_b = A_b_HFS + str(k_b)            \n",
    "    return E_a,E_b \n",
    "\n",
    "def H_HFS(f_basis, E_5P12_F1F2_splitting, E_HFS_5S12_F1F2_splitting, F3E, F2E, F1E, F0E):\n",
    "    state = f_basis \n",
    "    A_a_HFS = 'E_5P12_F1F2_splitting' if state[\"l_a\"] == 1 else 'E_HFS_5S12_F1F2_splitting'\n",
    "    E_a = A_a_HFS + str((state['f_a']*(state['f_a']+1)-state['j_a']\n",
    "            *(state['j_a']+1)-state['i_a']*(state['i_a']+1))) if state['j_a'] == 1/2 else ('F3E' if state['f_a']==3 else ('F2E' if state['f_a']==2 else ('F1E' if state['f_a']==1 else 'F0E')))\n",
    "    A_b_HFS = 'E_5P12_F1F2_splitting' if state[\"l_b\"] == 1 else 'E_HFS_5S12_F1F2_splitting'    \n",
    "    E_b = A_b_HFS + str((state['f_b']*(state['f_b']+1)-state['j_b']\n",
    "            *(state['j_b']+1)-state['i_b']*(state['i_b']+1))) if state['j_b'] == 1/2 else ('F3E' if state['f_b']==3 else ('F2E' if state['f_b']==2 else ('F1E' if state['f_b']==1 else 'F0E'))) \n",
    "    H_HFS=E_a,E_b          \n",
    "    return H_HFS "
   ]
  },
  {
   "cell_type": "code",
   "execution_count": 15,
   "id": "46c7068c-d019-4b75-96da-39e85198df46",
   "metadata": {
    "collapsed": true,
    "jupyter": {
     "outputs_hidden": true,
     "source_hidden": true
    },
    "tags": []
   },
   "outputs": [
    {
     "name": "stdout",
     "output_type": "stream",
     "text": [
      "{'f_a': 1.0, 'm_f_a': 0.0, 'j_a': 0.5, 'l_a': 1, 's_a': 0.5, 'i_a': 1.5, 'f_b': 3.0, 'm_f_b': 1.0, 'j_b': 1.5, 'l_b': 1, 's_b': 0.5, 'i_b': 1.5}\n"
     ]
    },
    {
     "ename": "NameError",
     "evalue": "name 'E_HFS_5P12_F1F2' is not defined",
     "output_type": "error",
     "traceback": [
      "\u001b[0;31m---------------------------------------------------------------------------\u001b[0m",
      "\u001b[0;31mNameError\u001b[0m                                 Traceback (most recent call last)",
      "Input \u001b[0;32mIn [15]\u001b[0m, in \u001b[0;36m<cell line: 7>\u001b[0;34m()\u001b[0m\n\u001b[1;32m      5\u001b[0m \u001b[38;5;28mprint\u001b[39m(f3_j32_l1_state)\n\u001b[1;32m      6\u001b[0m HSteven \u001b[38;5;241m=\u001b[39m H_HFS2(f3_j32_l1_state,A_S12,A_P12,A_P32,B_P32)\n\u001b[0;32m----> 7\u001b[0m HMark \u001b[38;5;241m=\u001b[39m H_HFS(f3_j32_l1_state, \u001b[43mE_HFS_5P12_F1F2\u001b[49m,E_HFS_5S12_F1F2,E_HFS_5P32_F3,E_HFS_5P32_F2,E_HFS_5P32_F1,E_HFS_5P32_F0)\n\u001b[1;32m      8\u001b[0m \u001b[38;5;28mprint\u001b[39m(\u001b[38;5;124m'\u001b[39m\u001b[38;5;124mmark\u001b[39m\u001b[38;5;124m'\u001b[39m,HMark)\n\u001b[1;32m      9\u001b[0m \u001b[38;5;28mprint\u001b[39m(\u001b[38;5;124m'\u001b[39m\u001b[38;5;124msteven\u001b[39m\u001b[38;5;124m'\u001b[39m,HSteven)\n",
      "\u001b[0;31mNameError\u001b[0m: name 'E_HFS_5P12_F1F2' is not defined"
     ]
    }
   ],
   "source": [
    "f2_j12_l0_state = f_basis[50] # a\n",
    "f2_j12_l1_state = f_basis[100] # b\n",
    "f1_j32_l1_state = f_basis[350] # a\n",
    "f3_j32_l1_state = f_basis[550] # b\n",
    "print(f3_j32_l1_state)\n",
    "HSteven = H_HFS2(f3_j32_l1_state,A_S12,A_P12,A_P32,B_P32)\n",
    "HMark = H_HFS(f3_j32_l1_state, E_HFS_5P12_F1F2,E_HFS_5S12_F1F2,E_HFS_5P32_F3,E_HFS_5P32_F2,E_HFS_5P32_F1,E_HFS_5P32_F0)\n",
    "print('mark',HMark)\n",
    "print('steven',HSteven)\n",
    "print(FE1)"
   ]
  },
  {
   "cell_type": "code",
   "execution_count": 16,
   "id": "3f9ccf9d-3d36-4397-9f35-392dc57c6668",
   "metadata": {
    "jupyter": {
     "source_hidden": true
    },
    "tags": []
   },
   "outputs": [],
   "source": [
    "f2_j12_l0_state = f_basis[50] # a\n",
    "f2_j12_l1_state = f_basis[100] # b\n",
    "f1_j32_l1_state = f_basis[350] # a\n",
    "f3_j32_l1_state = f_basis[550] # b\n",
    "\n",
    "def H_HFS(f_basis, E_5P12_F1F2_splitting, E_HFS_5S12_F1F2_splitting, F3E, F2E, F1E, F0E):\n",
    "    state = f_basis \n",
    "    A_a_HFS = 'E_5P12_F1F2_splitting' if state[\"l_a\"] == 1 else 'E_HFS_5S12_F1F2_splitting'\n",
    "    E_a = A_a_HFS + str((state['f_a']*(state['f_a']+1)-state['j_a']\n",
    "            *(state['j_a']+1)-state['i_a']*(state['i_a']+1))) if state['j_a'] == 1/2 else ('F3E' if state['f_a']==3 else ('F2E' if state['f_a']==2 else ('F1E' if state['f_a']==1 else 'F0E')))\n",
    "    A_b_HFS = 'E_5P12_F1F2_splitting' if state[\"l_b\"] == 1 else 'E_HFS_5S12_F1F2_splitting'    \n",
    "    E_b = A_b_HFS + str((state['f_b']*(state['f_b']+1)-state['j_b']\n",
    "            *(state['j_b']+1)-state['i_b']*(state['i_b']+1))) if state['j_b'] == 1/2 else ('F3E' if state['f_b']==3 else ('F2E' if state['f_b']==2 else ('F1E' if state['f_b']==1 else 'F0E'))) \n",
    "    H_HFS=E_a,E_b          \n",
    "    return H_HFS \n",
    "\n",
    "# print(f1_j32_l1_state)\n",
    "# H_HFS_op = H_HFS(f1_j32_l1_state, E_HFS_5P12_F1F2,E_HFS_5S12_F1F2,E_HFS_5P32_F3,E_HFS_5P32_F2,E_HFS_5P32_F1,E_HFS_5P32_F0)\n",
    "# print(H_HFS_op)\n",
    "\n",
    "# print((1+1)-(1/2)*(1/2 +1)-(3/2)*(3/2+1))"
   ]
  },
  {
   "cell_type": "markdown",
   "id": "476bdbfa-b07b-40b4-a950-efeaee22d9f7",
   "metadata": {
    "jupyter": {
     "source_hidden": true
    },
    "tags": []
   },
   "source": [
    "$A(f_{\\alpha})=\\left\\{\\begin{array}{lc}\n",
    "\\frac{h}{2}\\Delta E_{P_{1/2}}^{F_2-F_1} &  , j= \\frac{1}{2} \\ \\ \\ \\ \\alpha = 1  \\\\\n",
    "\\frac{h}{2}\\Delta E_{S_{1/2}}^{F_2-F_1} & , j= \\frac{1}{2} \\ \\ \\ \\ \\alpha = 0  \\\\\n",
    "h \\Delta E_{P_{3/2}}^{F_3} &  , j= \\frac{3}{2}  \\\\\n",
    "h \\Delta E_{P_{3/2}}^{F_2} &  , j= \\frac{3}{2} \\\\\n",
    "h \\Delta E_{P_{3/2}}^{F_1} &  , j= \\frac{3}{2} \\\\\n",
    "h \\Delta E_{P_{3/2}}^{F_0} &  , j= \\frac{3}{2} \\\\\n",
    "\\end{array}\\right.$"
   ]
  },
  {
   "cell_type": "markdown",
   "id": "9037b328-a343-4e5a-bc83-8c4daf36fe2f",
   "metadata": {
    "tags": []
   },
   "source": [
    "### generate symmetrized Born-Oppenheimer states  \n",
    "$ l_a,l_b,s_a,s_b  \\rightarrow |L, |\\Lambda|, S, |\\Sigma|, |\\Omega|, \\chi, \\kappa \\rangle $"
   ]
  },
  {
   "cell_type": "markdown",
   "id": "eedb6aaf-229f-4cae-89e4-7d7b520e9c1e",
   "metadata": {},
   "source": [
    "takes single atom l and s values to generate BO states <br> "
   ]
  },
  {
   "cell_type": "markdown",
   "id": "94d86b49-d8cd-4a09-ac23-a0872a58722c",
   "metadata": {},
   "source": [
    "Using the seperate atom values l and s for two Rb atoms in an S + P molecular state, we can take $l_a=0,l_b=1$ and $s_a=s_b=1/2$ <br>\n",
    "$\\chi= \\pm 1$ is the inversion symmetry and $\\kappa = \\pm 1$ is the reflection symmetry. Note that $\\Lambda =1$ states do not have definite reflection symmetry but linear combinations of such states do. To deal with this, the function creates two copies of each $\\Lambda =1$ state with $\\kappa= \\pm1$. This is an algorythmic approach to creating the necessary linear combinations."
   ]
  },
  {
   "cell_type": "code",
   "execution_count": 17,
   "id": "68efc0fe-1b4e-4e57-bc1d-353dbb265c6b",
   "metadata": {},
   "outputs": [],
   "source": [
    "def create_sym_BO_states(l_a,l_b,s_a,s_b,i_a,i_b):\n",
    "    sym_BO_states = []\n",
    "    L = l_a + l_b\n",
    "    I_vals = np.arange(abs(i_a-i_b),i_a+i_b+1,1)\n",
    "    for I in I_vals:\n",
    "        for Iota in np.arange(-I,I+1,1):\n",
    "            for Lmbda in [0,L]:\n",
    "                for S in [0,s_a + s_b]:\n",
    "                    for Sigma in np.arange(-np.max(S),np.max(S)+1,1):\n",
    "                        Omega = Sigma+Lmbda\n",
    "                        Phi = Iota+Omega\n",
    "                        for chi in [1,-1]:\n",
    "                            if Lmbda == 1 and Sigma == -1: # 3Pi states --> Omega=0\n",
    "                                for kappa_fs in [-1,1]:\n",
    "                                    bostates = {'L':int(L),'|Lambda|':abs(Lmbda),'S':int(S),'|Sigma|':int(abs(Sigma)),\n",
    "                                                               '|Omega|':int(abs(Omega)),'|Phi|':int(abs(Phi)),'I':int(I),\n",
    "                                                                '|Iota|':int(abs(Iota)),'chi':chi, 'kappa_FS':kappa_fs}  \n",
    "                                    sym_BO_states.append(bostates)\n",
    "                            elif Sigma>=0: \n",
    "\n",
    "                                kappa_fs = chi*(-1)**((L)-Lmbda+(S)-Sigma)\n",
    "                                bostates = {'L':int(l_a+l_b),'|Lambda|':abs(Lmbda),'S':int(S),'|Sigma|':int(abs(Sigma)),\n",
    "                                                           '|Omega|':int(abs(Omega)),'chi':chi, 'kappa_FS':int(kappa_fs),\n",
    "                                                            '|Phi|':int(abs(Phi)),'I':int(I), '|Iota|':int(abs(Iota))}            \n",
    "                                sym_BO_states.append(bostates)\n",
    "    \n",
    "\n",
    "    return sym_BO_states    \n",
    "\n",
    "def add_kappa_hfs(sym_BO_states):\n",
    "    expandedBasis = []\n",
    "    for state in sym_BO_states:\n",
    "         for Iota in [-state['|Iota|'], state['|Iota|']]:\n",
    "            for Omega in [-state['|Omega|'], state['|Omega|']]:\n",
    "                Phi = Iota+Omega\n",
    "                if Omega != 0 and Phi == 0:\n",
    "                    for kappa_HFS in [-1,1]:\n",
    "                        newState = copy.copy(state)\n",
    "                        newState.update({'kappa_HFS': kappa_HFS})\n",
    "                        if newState not in expandedBasis:\n",
    "                            expandedBasis.append(newState)\n",
    "                else:\n",
    "                    newState = copy.copy(state)\n",
    "                    newState.update({ 'kappa_HFS':state['kappa_FS']*(-1)**(state['I']-Iota) })\n",
    "                    if newState not in expandedBasis:\n",
    "                        expandedBasis.append(newState)\n",
    "    return expandedBasis"
   ]
  },
  {
   "cell_type": "code",
   "execution_count": 18,
   "id": "7fa36249-c629-4030-af72-625015133dfc",
   "metadata": {},
   "outputs": [
    {
     "name": "stdout",
     "output_type": "stream",
     "text": [
      "256\n",
      "252\n",
      "{'L': 1, '|Lambda|': 0, 'S': 1, '|Sigma|': 1, '|Omega|': 1, 'chi': -1, 'kappa_FS': 1, '|Phi|': 1, 'I': 0, '|Iota|': 0, 'kappa_HFS': 1}\n"
     ]
    }
   ],
   "source": [
    "sym_BO_states = create_sym_BO_states(0,1,1/2,1/2,3/2,3/2)\n",
    "with_kappa = add_kappa_hfs(sym_BO_states)\n",
    "print(len(sym_BO_states))\n",
    "print(len(with_kappa))\n",
    "print(with_kappa[5])"
   ]
  },
  {
   "cell_type": "code",
   "execution_count": 19,
   "id": "dc36ac9c-e92d-4965-8aa0-8958acf4c2d8",
   "metadata": {},
   "outputs": [],
   "source": [
    "def createCaseABasis_Sym(Lvals, Svals, ivals, I_BOvals=[\"g\",\"u\"], Jv=None, Fv=None):\n",
    "    boBasisRef = []\n",
    "    for I_BO in I_BOvals:\n",
    "        for L_ in Lvals:\n",
    "            for Lambda in np.arange(-L_,L_+1,1):\n",
    "                for S_ in Svals:\n",
    "                    for Sigma in np.arange(-S_, S_+1,1):\n",
    "                        for i_a in ivals:\n",
    "                            for i_b in ivals:\n",
    "                                for I_ in np.arange(abs(i_b-i_a), i_b+i_a+1,1):\n",
    "                                    for Iota in np.arange(-I_,I_+1,1):\n",
    "                                        Omega = Sigma+Lambda\n",
    "                                        Phi  = Sigma+Lambda+Iota\n",
    "                                        if Lambda != 0 and Omega==0:\n",
    "                                            for kappa_BO in [-1,1]:\n",
    "                                                state = multiplyableDict({\"L\":L_, \"|Lambda|\": abs(Lambda), \n",
    "                                                                          \"I_BO\": I_BO, \"S\":S_, \"|Sigma|\":abs(Sigma),\n",
    "                                                                          \"I\":I_, \"|Iota|\":abs(Iota), \"i_a\":i_a, \"i_b\":i_b,\n",
    "                                                                          \"|Omega|\":abs(Omega), \"Phi\":Phi , \n",
    "                                                                          \"kappa_BO\": kappa_BO, 'kappa_HFS':kappa_BO*(-1)**(I_-Iota)})\n",
    "                                                if Jv is not None:\n",
    "                                                    state.update({'J':Jv})\n",
    "                                                if Fv is not None:\n",
    "                                                    state.update({'F':Fv})\n",
    "                                                if state not in boBasisRef:\n",
    "                                                    boBasisRef.append(state)\n",
    "                                        elif Omega != 0 and Phi == 0:\n",
    "                                            for kappa_HFS in [-1,1]:\n",
    "                                                state = multiplyableDict({\"L\":L_, \"|Lambda|\": abs(Lambda), \n",
    "                                                                          \"I_BO\": I_BO, \"S\":S_, \"|Sigma|\":abs(Sigma), \n",
    "                                                                          \"I\":I_, \"|Iota|\":abs(Iota), \"i_a\":i_a, \"i_b\":i_b,\n",
    "                                                                          \"|Omega|\":abs(Omega), \"Phi\":Phi , \n",
    "                                                                          \"kappa_BO\": (-1)**(L_-Lambda+S_-Sigma), 'kappa_HFS':kappa_HFS})\n",
    "                                                if Jv is not None:\n",
    "                                                    state.update({'J':Jv})\n",
    "                                                if Fv is not None:\n",
    "                                                    state.update({'F':Fv})\n",
    "                                                if state not in boBasisRef:\n",
    "                                                    boBasisRef.append(state)\n",
    "                                        else:\n",
    "                                            state = multiplyableDict({\"L\":L_, \"|Lambda|\": abs(Lambda), \n",
    "                                                                      \"I_BO\": I_BO, \"S\":S_, \"|Sigma|\":abs(Sigma), \n",
    "                                                                      \"I\":I_, \"|Iota|\":abs(Iota), \"i_a\":i_a, \"i_b\":i_b,\n",
    "                                                                      \"|Omega|\":abs(Omega), \"Phi\": Phi, \n",
    "                                                                      \"kappa_BO\": (-1)**(L_-Lambda+S_-Sigma), \n",
    "                                                                      \"kappa_HFS\":(-1)**(L_-Lambda+S_-Sigma+I_-Iota) })\n",
    "                                            if Jv is not None:\n",
    "                                                state.update({'J':Jv})\n",
    "                                            if Fv is not None:\n",
    "                                                state.update({'F':Fv})\n",
    "                                            if state not in boBasisRef:\n",
    "                                                boBasisRef.append(state)\n",
    "    boBasisRef = list(sorted(boBasisRef, key=lambda state: abs(state[\"|Omega|\"])))\n",
    "    return boBasisRef\n",
    "\n"
   ]
  },
  {
   "cell_type": "code",
   "execution_count": 22,
   "id": "eb49f3fd-b038-4c69-a8c5-a8b335ef3a3f",
   "metadata": {},
   "outputs": [
    {
     "ename": "NameError",
     "evalue": "name 'multiplyableDict' is not defined",
     "output_type": "error",
     "traceback": [
      "\u001b[0;31m---------------------------------------------------------------------------\u001b[0m",
      "\u001b[0;31mNameError\u001b[0m                                 Traceback (most recent call last)",
      "Input \u001b[0;32mIn [22]\u001b[0m, in \u001b[0;36m<cell line: 1>\u001b[0;34m()\u001b[0m\n\u001b[0;32m----> 1\u001b[0m CaseABasis_Sym \u001b[38;5;241m=\u001b[39m \u001b[43mcreateCaseABasis_Sym\u001b[49m\u001b[43m(\u001b[49m\u001b[43m(\u001b[49m\u001b[38;5;241;43m0\u001b[39;49m\u001b[43m,\u001b[49m\u001b[38;5;241;43m1\u001b[39;49m\u001b[43m)\u001b[49m\u001b[43m,\u001b[49m\u001b[43m[\u001b[49m\u001b[38;5;241;43m1\u001b[39;49m\u001b[38;5;241;43m/\u001b[39;49m\u001b[38;5;241;43m2\u001b[39;49m\u001b[43m]\u001b[49m\u001b[43m,\u001b[49m\u001b[43m[\u001b[49m\u001b[38;5;241;43m3\u001b[39;49m\u001b[38;5;241;43m/\u001b[39;49m\u001b[38;5;241;43m2\u001b[39;49m\u001b[43m]\u001b[49m\u001b[43m,\u001b[49m\u001b[43m \u001b[49m\u001b[43mI_BOvals\u001b[49m\u001b[38;5;241;43m=\u001b[39;49m\u001b[43m[\u001b[49m\u001b[38;5;124;43m\"\u001b[39;49m\u001b[38;5;124;43mg\u001b[39;49m\u001b[38;5;124;43m\"\u001b[39;49m\u001b[43m,\u001b[49m\u001b[38;5;124;43m\"\u001b[39;49m\u001b[38;5;124;43mu\u001b[39;49m\u001b[38;5;124;43m\"\u001b[39;49m\u001b[43m]\u001b[49m\u001b[43m,\u001b[49m\u001b[43m \u001b[49m\u001b[43mJv\u001b[49m\u001b[38;5;241;43m=\u001b[39;49m\u001b[38;5;28;43;01mNone\u001b[39;49;00m\u001b[43m,\u001b[49m\u001b[43m \u001b[49m\u001b[43mFv\u001b[49m\u001b[38;5;241;43m=\u001b[39;49m\u001b[38;5;28;43;01mNone\u001b[39;49;00m\u001b[43m)\u001b[49m\n",
      "Input \u001b[0;32mIn [19]\u001b[0m, in \u001b[0;36mcreateCaseABasis_Sym\u001b[0;34m(Lvals, Svals, ivals, I_BOvals, Jv, Fv)\u001b[0m\n\u001b[1;32m     39\u001b[0m             boBasisRef\u001b[38;5;241m.\u001b[39mappend(state)\n\u001b[1;32m     40\u001b[0m \u001b[38;5;28;01melse\u001b[39;00m:\n\u001b[0;32m---> 41\u001b[0m     state \u001b[38;5;241m=\u001b[39m \u001b[43mmultiplyableDict\u001b[49m({\u001b[38;5;124m\"\u001b[39m\u001b[38;5;124mL\u001b[39m\u001b[38;5;124m\"\u001b[39m:L_, \u001b[38;5;124m\"\u001b[39m\u001b[38;5;124m|Lambda|\u001b[39m\u001b[38;5;124m\"\u001b[39m: \u001b[38;5;28mabs\u001b[39m(Lambda), \n\u001b[1;32m     42\u001b[0m                               \u001b[38;5;124m\"\u001b[39m\u001b[38;5;124mI_BO\u001b[39m\u001b[38;5;124m\"\u001b[39m: I_BO, \u001b[38;5;124m\"\u001b[39m\u001b[38;5;124mS\u001b[39m\u001b[38;5;124m\"\u001b[39m:S_, \u001b[38;5;124m\"\u001b[39m\u001b[38;5;124m|Sigma|\u001b[39m\u001b[38;5;124m\"\u001b[39m:\u001b[38;5;28mabs\u001b[39m(Sigma), \n\u001b[1;32m     43\u001b[0m                               \u001b[38;5;124m\"\u001b[39m\u001b[38;5;124mI\u001b[39m\u001b[38;5;124m\"\u001b[39m:I_, \u001b[38;5;124m\"\u001b[39m\u001b[38;5;124m|Iota|\u001b[39m\u001b[38;5;124m\"\u001b[39m:\u001b[38;5;28mabs\u001b[39m(Iota), \u001b[38;5;124m\"\u001b[39m\u001b[38;5;124mi_a\u001b[39m\u001b[38;5;124m\"\u001b[39m:i_a, \u001b[38;5;124m\"\u001b[39m\u001b[38;5;124mi_b\u001b[39m\u001b[38;5;124m\"\u001b[39m:i_b,\n\u001b[1;32m     44\u001b[0m                               \u001b[38;5;124m\"\u001b[39m\u001b[38;5;124m|Omega|\u001b[39m\u001b[38;5;124m\"\u001b[39m:\u001b[38;5;28mabs\u001b[39m(Omega), \u001b[38;5;124m\"\u001b[39m\u001b[38;5;124mPhi\u001b[39m\u001b[38;5;124m\"\u001b[39m: Phi, \n\u001b[1;32m     45\u001b[0m                               \u001b[38;5;124m\"\u001b[39m\u001b[38;5;124mkappa_BO\u001b[39m\u001b[38;5;124m\"\u001b[39m: (\u001b[38;5;241m-\u001b[39m\u001b[38;5;241m1\u001b[39m)\u001b[38;5;241m*\u001b[39m\u001b[38;5;241m*\u001b[39m(L_\u001b[38;5;241m-\u001b[39mLambda\u001b[38;5;241m+\u001b[39mS_\u001b[38;5;241m-\u001b[39mSigma), \n\u001b[1;32m     46\u001b[0m                               \u001b[38;5;124m\"\u001b[39m\u001b[38;5;124mkappa_HFS\u001b[39m\u001b[38;5;124m\"\u001b[39m:(\u001b[38;5;241m-\u001b[39m\u001b[38;5;241m1\u001b[39m)\u001b[38;5;241m*\u001b[39m\u001b[38;5;241m*\u001b[39m(L_\u001b[38;5;241m-\u001b[39mLambda\u001b[38;5;241m+\u001b[39mS_\u001b[38;5;241m-\u001b[39mSigma\u001b[38;5;241m+\u001b[39mI_\u001b[38;5;241m-\u001b[39mIota) })\n\u001b[1;32m     47\u001b[0m     \u001b[38;5;28;01mif\u001b[39;00m Jv \u001b[38;5;129;01mis\u001b[39;00m \u001b[38;5;129;01mnot\u001b[39;00m \u001b[38;5;28;01mNone\u001b[39;00m:\n\u001b[1;32m     48\u001b[0m         state\u001b[38;5;241m.\u001b[39mupdate({\u001b[38;5;124m'\u001b[39m\u001b[38;5;124mJ\u001b[39m\u001b[38;5;124m'\u001b[39m:Jv})\n",
      "\u001b[0;31mNameError\u001b[0m: name 'multiplyableDict' is not defined"
     ]
    }
   ],
   "source": [
    "CaseABasis_Sym = createCaseABasis_Sym((0,1),[1/2],[3/2], I_BOvals=[\"g\",\"u\"], Jv=None, Fv=None)"
   ]
  },
  {
   "cell_type": "code",
   "execution_count": null,
   "id": "cd806f64-4ab4-4f00-a795-d8f5659028fe",
   "metadata": {
    "jupyter": {
     "source_hidden": true
    },
    "tags": []
   },
   "outputs": [],
   "source": [
    "def addHfsRelevantStates(boFsBasis, i_val=3/2):\n",
    "    # Adds the states that are split by the HFs symmetry to the bare BO Basis.\n",
    "    expandedBasis = []\n",
    "    i_a = i_b = i_val\n",
    "    IVals = np.arange(abs(i_a-i_b),i_a+i_b+1,1)\n",
    "    for state in boFsBasis:\n",
    "        for I_ in IVals:\n",
    "            for Iota in np.arange(-I_, I_+1,1):\n",
    "                #for Omega in [-state['|Omega|'], state['|Omega|']]:\n",
    "                for Omega in [-state['|Omega|'], state['|Omega|']]:\n",
    "                    Phi = Iota+Omega\n",
    "                    mostUpdates = {\"|Phi|\":abs(Phi),'I':I_, '|Iota|':abs(Iota), 'i_a':i_a, 'i_b':i_b}\n",
    "                    if Omega != 0 and Phi == 0:\n",
    "                        # there are two ways of combining Omega and Iota to get Phi=0 then \n",
    "                        # and we will similarly get the symmetric and anti-symmetric superpositions.\n",
    "                        for kappa_HFS in [-1,1]:\n",
    "                            newState = copy.copy(state)\n",
    "                            newState.update(mostUpdates)\n",
    "                            newState.update({'kappa_HFS': kappa_HFS})\n",
    "                            if newState not in expandedBasis:\n",
    "                                expandedBasis.append(newState)\n",
    "                    else:\n",
    "                        newState = copy.copy(state)\n",
    "                        newState.update(mostUpdates)\n",
    "                        # probably want to think a moment on why using kappa_BO here\n",
    "                        newState.update({ 'kappa_HFS':state['kappa_FS']*(-1)**(I_-Iota) })\n",
    "                        if ne"
   ]
  },
  {
   "cell_type": "code",
   "execution_count": 13,
   "id": "de4f3804-b8cc-4af3-92b9-b718ce227349",
   "metadata": {
    "tags": []
   },
   "outputs": [
    {
     "name": "stdout",
     "output_type": "stream",
     "text": [
      "\u001b[1mBO States\u001b[0m\n",
      "number of symmetrized BO states:  256\n",
      "{'L': 1, '|Lambda|': 0, 'S': 0, '|Sigma|': 0, '|Omega|': 0, 'chi': 1, 'kappa_FS': -1, '|Phi|': 0, 'I': 0, '|Iota|': 0}\n",
      "{'L': 1, '|Lambda|': 0, 'S': 0, '|Sigma|': 0, '|Omega|': 0, 'chi': -1, 'kappa_FS': 1, '|Phi|': 0, 'I': 0, '|Iota|': 0}\n",
      "{'L': 1, '|Lambda|': 0, 'S': 1, '|Sigma|': 0, '|Omega|': 0, 'chi': 1, 'kappa_FS': 1, '|Phi|': 0, 'I': 0, '|Iota|': 0}\n",
      "{'L': 1, '|Lambda|': 0, 'S': 1, '|Sigma|': 0, '|Omega|': 0, 'chi': -1, 'kappa_FS': -1, '|Phi|': 0, 'I': 0, '|Iota|': 0}\n",
      "{'L': 1, '|Lambda|': 0, 'S': 1, '|Sigma|': 1, '|Omega|': 1, 'chi': 1, 'kappa_FS': -1, '|Phi|': 1, 'I': 0, '|Iota|': 0}\n",
      "{'L': 1, '|Lambda|': 0, 'S': 1, '|Sigma|': 1, '|Omega|': 1, 'chi': -1, 'kappa_FS': 1, '|Phi|': 1, 'I': 0, '|Iota|': 0}\n",
      "{'L': 1, '|Lambda|': 1, 'S': 0, '|Sigma|': 0, '|Omega|': 1, 'chi': 1, 'kappa_FS': 1, '|Phi|': 1, 'I': 0, '|Iota|': 0}\n",
      "{'L': 1, '|Lambda|': 1, 'S': 0, '|Sigma|': 0, '|Omega|': 1, 'chi': -1, 'kappa_FS': -1, '|Phi|': 1, 'I': 0, '|Iota|': 0}\n",
      "{'L': 1, '|Lambda|': 1, 'S': 1, '|Sigma|': 1, '|Omega|': 0, '|Phi|': 0, 'I': 0, '|Iota|': 0, 'chi': 1, 'kappa_FS': -1}\n",
      "{'L': 1, '|Lambda|': 1, 'S': 1, '|Sigma|': 1, '|Omega|': 0, '|Phi|': 0, 'I': 0, '|Iota|': 0, 'chi': 1, 'kappa_FS': 1}\n",
      "{'L': 1, '|Lambda|': 1, 'S': 1, '|Sigma|': 1, '|Omega|': 0, '|Phi|': 0, 'I': 0, '|Iota|': 0, 'chi': -1, 'kappa_FS': -1}\n",
      "{'L': 1, '|Lambda|': 1, 'S': 1, '|Sigma|': 1, '|Omega|': 0, '|Phi|': 0, 'I': 0, '|Iota|': 0, 'chi': -1, 'kappa_FS': 1}\n",
      "{'L': 1, '|Lambda|': 1, 'S': 1, '|Sigma|': 0, '|Omega|': 1, 'chi': 1, 'kappa_FS': -1, '|Phi|': 1, 'I': 0, '|Iota|': 0}\n",
      "{'L': 1, '|Lambda|': 1, 'S': 1, '|Sigma|': 0, '|Omega|': 1, 'chi': -1, 'kappa_FS': 1, '|Phi|': 1, 'I': 0, '|Iota|': 0}\n",
      "{'L': 1, '|Lambda|': 1, 'S': 1, '|Sigma|': 1, '|Omega|': 2, 'chi': 1, 'kappa_FS': 1, '|Phi|': 2, 'I': 0, '|Iota|': 0}\n",
      "{'L': 1, '|Lambda|': 1, 'S': 1, '|Sigma|': 1, '|Omega|': 2, 'chi': -1, 'kappa_FS': -1, '|Phi|': 2, 'I': 0, '|Iota|': 0}\n",
      "{'L': 1, '|Lambda|': 0, 'S': 0, '|Sigma|': 0, '|Omega|': 0, 'chi': 1, 'kappa_FS': -1, '|Phi|': 1, 'I': 1, '|Iota|': 1}\n",
      "{'L': 1, '|Lambda|': 0, 'S': 0, '|Sigma|': 0, '|Omega|': 0, 'chi': -1, 'kappa_FS': 1, '|Phi|': 1, 'I': 1, '|Iota|': 1}\n",
      "{'L': 1, '|Lambda|': 0, 'S': 1, '|Sigma|': 0, '|Omega|': 0, 'chi': 1, 'kappa_FS': 1, '|Phi|': 1, 'I': 1, '|Iota|': 1}\n",
      "{'L': 1, '|Lambda|': 0, 'S': 1, '|Sigma|': 0, '|Omega|': 0, 'chi': -1, 'kappa_FS': -1, '|Phi|': 1, 'I': 1, '|Iota|': 1}\n",
      "{'L': 1, '|Lambda|': 0, 'S': 1, '|Sigma|': 1, '|Omega|': 1, 'chi': 1, 'kappa_FS': -1, '|Phi|': 0, 'I': 1, '|Iota|': 1}\n",
      "{'L': 1, '|Lambda|': 0, 'S': 1, '|Sigma|': 1, '|Omega|': 1, 'chi': -1, 'kappa_FS': 1, '|Phi|': 0, 'I': 1, '|Iota|': 1}\n",
      "{'L': 1, '|Lambda|': 1, 'S': 0, '|Sigma|': 0, '|Omega|': 1, 'chi': 1, 'kappa_FS': 1, '|Phi|': 0, 'I': 1, '|Iota|': 1}\n",
      "{'L': 1, '|Lambda|': 1, 'S': 0, '|Sigma|': 0, '|Omega|': 1, 'chi': -1, 'kappa_FS': -1, '|Phi|': 0, 'I': 1, '|Iota|': 1}\n",
      "{'L': 1, '|Lambda|': 1, 'S': 1, '|Sigma|': 1, '|Omega|': 0, '|Phi|': 1, 'I': 1, '|Iota|': 1, 'chi': 1, 'kappa_FS': -1}\n",
      "{'L': 1, '|Lambda|': 1, 'S': 1, '|Sigma|': 1, '|Omega|': 0, '|Phi|': 1, 'I': 1, '|Iota|': 1, 'chi': 1, 'kappa_FS': 1}\n",
      "{'L': 1, '|Lambda|': 1, 'S': 1, '|Sigma|': 1, '|Omega|': 0, '|Phi|': 1, 'I': 1, '|Iota|': 1, 'chi': -1, 'kappa_FS': -1}\n",
      "{'L': 1, '|Lambda|': 1, 'S': 1, '|Sigma|': 1, '|Omega|': 0, '|Phi|': 1, 'I': 1, '|Iota|': 1, 'chi': -1, 'kappa_FS': 1}\n",
      "{'L': 1, '|Lambda|': 1, 'S': 1, '|Sigma|': 0, '|Omega|': 1, 'chi': 1, 'kappa_FS': -1, '|Phi|': 0, 'I': 1, '|Iota|': 1}\n",
      "{'L': 1, '|Lambda|': 1, 'S': 1, '|Sigma|': 0, '|Omega|': 1, 'chi': -1, 'kappa_FS': 1, '|Phi|': 0, 'I': 1, '|Iota|': 1}\n",
      "{'L': 1, '|Lambda|': 1, 'S': 1, '|Sigma|': 1, '|Omega|': 2, 'chi': 1, 'kappa_FS': 1, '|Phi|': 1, 'I': 1, '|Iota|': 1}\n",
      "{'L': 1, '|Lambda|': 1, 'S': 1, '|Sigma|': 1, '|Omega|': 2, 'chi': -1, 'kappa_FS': -1, '|Phi|': 1, 'I': 1, '|Iota|': 1}\n",
      "{'L': 1, '|Lambda|': 0, 'S': 0, '|Sigma|': 0, '|Omega|': 0, 'chi': 1, 'kappa_FS': -1, '|Phi|': 0, 'I': 1, '|Iota|': 0}\n",
      "{'L': 1, '|Lambda|': 0, 'S': 0, '|Sigma|': 0, '|Omega|': 0, 'chi': -1, 'kappa_FS': 1, '|Phi|': 0, 'I': 1, '|Iota|': 0}\n",
      "{'L': 1, '|Lambda|': 0, 'S': 1, '|Sigma|': 0, '|Omega|': 0, 'chi': 1, 'kappa_FS': 1, '|Phi|': 0, 'I': 1, '|Iota|': 0}\n",
      "{'L': 1, '|Lambda|': 0, 'S': 1, '|Sigma|': 0, '|Omega|': 0, 'chi': -1, 'kappa_FS': -1, '|Phi|': 0, 'I': 1, '|Iota|': 0}\n",
      "{'L': 1, '|Lambda|': 0, 'S': 1, '|Sigma|': 1, '|Omega|': 1, 'chi': 1, 'kappa_FS': -1, '|Phi|': 1, 'I': 1, '|Iota|': 0}\n",
      "{'L': 1, '|Lambda|': 0, 'S': 1, '|Sigma|': 1, '|Omega|': 1, 'chi': -1, 'kappa_FS': 1, '|Phi|': 1, 'I': 1, '|Iota|': 0}\n",
      "{'L': 1, '|Lambda|': 1, 'S': 0, '|Sigma|': 0, '|Omega|': 1, 'chi': 1, 'kappa_FS': 1, '|Phi|': 1, 'I': 1, '|Iota|': 0}\n",
      "{'L': 1, '|Lambda|': 1, 'S': 0, '|Sigma|': 0, '|Omega|': 1, 'chi': -1, 'kappa_FS': -1, '|Phi|': 1, 'I': 1, '|Iota|': 0}\n",
      "{'L': 1, '|Lambda|': 1, 'S': 1, '|Sigma|': 1, '|Omega|': 0, '|Phi|': 0, 'I': 1, '|Iota|': 0, 'chi': 1, 'kappa_FS': -1}\n",
      "{'L': 1, '|Lambda|': 1, 'S': 1, '|Sigma|': 1, '|Omega|': 0, '|Phi|': 0, 'I': 1, '|Iota|': 0, 'chi': 1, 'kappa_FS': 1}\n",
      "{'L': 1, '|Lambda|': 1, 'S': 1, '|Sigma|': 1, '|Omega|': 0, '|Phi|': 0, 'I': 1, '|Iota|': 0, 'chi': -1, 'kappa_FS': -1}\n",
      "{'L': 1, '|Lambda|': 1, 'S': 1, '|Sigma|': 1, '|Omega|': 0, '|Phi|': 0, 'I': 1, '|Iota|': 0, 'chi': -1, 'kappa_FS': 1}\n",
      "{'L': 1, '|Lambda|': 1, 'S': 1, '|Sigma|': 0, '|Omega|': 1, 'chi': 1, 'kappa_FS': -1, '|Phi|': 1, 'I': 1, '|Iota|': 0}\n",
      "{'L': 1, '|Lambda|': 1, 'S': 1, '|Sigma|': 0, '|Omega|': 1, 'chi': -1, 'kappa_FS': 1, '|Phi|': 1, 'I': 1, '|Iota|': 0}\n",
      "{'L': 1, '|Lambda|': 1, 'S': 1, '|Sigma|': 1, '|Omega|': 2, 'chi': 1, 'kappa_FS': 1, '|Phi|': 2, 'I': 1, '|Iota|': 0}\n",
      "{'L': 1, '|Lambda|': 1, 'S': 1, '|Sigma|': 1, '|Omega|': 2, 'chi': -1, 'kappa_FS': -1, '|Phi|': 2, 'I': 1, '|Iota|': 0}\n",
      "{'L': 1, '|Lambda|': 0, 'S': 0, '|Sigma|': 0, '|Omega|': 0, 'chi': 1, 'kappa_FS': -1, '|Phi|': 1, 'I': 1, '|Iota|': 1}\n",
      "{'L': 1, '|Lambda|': 0, 'S': 0, '|Sigma|': 0, '|Omega|': 0, 'chi': -1, 'kappa_FS': 1, '|Phi|': 1, 'I': 1, '|Iota|': 1}\n",
      "{'L': 1, '|Lambda|': 0, 'S': 1, '|Sigma|': 0, '|Omega|': 0, 'chi': 1, 'kappa_FS': 1, '|Phi|': 1, 'I': 1, '|Iota|': 1}\n",
      "{'L': 1, '|Lambda|': 0, 'S': 1, '|Sigma|': 0, '|Omega|': 0, 'chi': -1, 'kappa_FS': -1, '|Phi|': 1, 'I': 1, '|Iota|': 1}\n",
      "{'L': 1, '|Lambda|': 0, 'S': 1, '|Sigma|': 1, '|Omega|': 1, 'chi': 1, 'kappa_FS': -1, '|Phi|': 2, 'I': 1, '|Iota|': 1}\n",
      "{'L': 1, '|Lambda|': 0, 'S': 1, '|Sigma|': 1, '|Omega|': 1, 'chi': -1, 'kappa_FS': 1, '|Phi|': 2, 'I': 1, '|Iota|': 1}\n",
      "{'L': 1, '|Lambda|': 1, 'S': 0, '|Sigma|': 0, '|Omega|': 1, 'chi': 1, 'kappa_FS': 1, '|Phi|': 2, 'I': 1, '|Iota|': 1}\n",
      "{'L': 1, '|Lambda|': 1, 'S': 0, '|Sigma|': 0, '|Omega|': 1, 'chi': -1, 'kappa_FS': -1, '|Phi|': 2, 'I': 1, '|Iota|': 1}\n",
      "{'L': 1, '|Lambda|': 1, 'S': 1, '|Sigma|': 1, '|Omega|': 0, '|Phi|': 1, 'I': 1, '|Iota|': 1, 'chi': 1, 'kappa_FS': -1}\n",
      "{'L': 1, '|Lambda|': 1, 'S': 1, '|Sigma|': 1, '|Omega|': 0, '|Phi|': 1, 'I': 1, '|Iota|': 1, 'chi': 1, 'kappa_FS': 1}\n",
      "{'L': 1, '|Lambda|': 1, 'S': 1, '|Sigma|': 1, '|Omega|': 0, '|Phi|': 1, 'I': 1, '|Iota|': 1, 'chi': -1, 'kappa_FS': -1}\n",
      "{'L': 1, '|Lambda|': 1, 'S': 1, '|Sigma|': 1, '|Omega|': 0, '|Phi|': 1, 'I': 1, '|Iota|': 1, 'chi': -1, 'kappa_FS': 1}\n",
      "{'L': 1, '|Lambda|': 1, 'S': 1, '|Sigma|': 0, '|Omega|': 1, 'chi': 1, 'kappa_FS': -1, '|Phi|': 2, 'I': 1, '|Iota|': 1}\n",
      "{'L': 1, '|Lambda|': 1, 'S': 1, '|Sigma|': 0, '|Omega|': 1, 'chi': -1, 'kappa_FS': 1, '|Phi|': 2, 'I': 1, '|Iota|': 1}\n",
      "{'L': 1, '|Lambda|': 1, 'S': 1, '|Sigma|': 1, '|Omega|': 2, 'chi': 1, 'kappa_FS': 1, '|Phi|': 3, 'I': 1, '|Iota|': 1}\n",
      "{'L': 1, '|Lambda|': 1, 'S': 1, '|Sigma|': 1, '|Omega|': 2, 'chi': -1, 'kappa_FS': -1, '|Phi|': 3, 'I': 1, '|Iota|': 1}\n",
      "{'L': 1, '|Lambda|': 0, 'S': 0, '|Sigma|': 0, '|Omega|': 0, 'chi': 1, 'kappa_FS': -1, '|Phi|': 2, 'I': 2, '|Iota|': 2}\n",
      "{'L': 1, '|Lambda|': 0, 'S': 0, '|Sigma|': 0, '|Omega|': 0, 'chi': -1, 'kappa_FS': 1, '|Phi|': 2, 'I': 2, '|Iota|': 2}\n",
      "{'L': 1, '|Lambda|': 0, 'S': 1, '|Sigma|': 0, '|Omega|': 0, 'chi': 1, 'kappa_FS': 1, '|Phi|': 2, 'I': 2, '|Iota|': 2}\n",
      "{'L': 1, '|Lambda|': 0, 'S': 1, '|Sigma|': 0, '|Omega|': 0, 'chi': -1, 'kappa_FS': -1, '|Phi|': 2, 'I': 2, '|Iota|': 2}\n",
      "{'L': 1, '|Lambda|': 0, 'S': 1, '|Sigma|': 1, '|Omega|': 1, 'chi': 1, 'kappa_FS': -1, '|Phi|': 1, 'I': 2, '|Iota|': 2}\n",
      "{'L': 1, '|Lambda|': 0, 'S': 1, '|Sigma|': 1, '|Omega|': 1, 'chi': -1, 'kappa_FS': 1, '|Phi|': 1, 'I': 2, '|Iota|': 2}\n",
      "{'L': 1, '|Lambda|': 1, 'S': 0, '|Sigma|': 0, '|Omega|': 1, 'chi': 1, 'kappa_FS': 1, '|Phi|': 1, 'I': 2, '|Iota|': 2}\n",
      "{'L': 1, '|Lambda|': 1, 'S': 0, '|Sigma|': 0, '|Omega|': 1, 'chi': -1, 'kappa_FS': -1, '|Phi|': 1, 'I': 2, '|Iota|': 2}\n",
      "{'L': 1, '|Lambda|': 1, 'S': 1, '|Sigma|': 1, '|Omega|': 0, '|Phi|': 2, 'I': 2, '|Iota|': 2, 'chi': 1, 'kappa_FS': -1}\n",
      "{'L': 1, '|Lambda|': 1, 'S': 1, '|Sigma|': 1, '|Omega|': 0, '|Phi|': 2, 'I': 2, '|Iota|': 2, 'chi': 1, 'kappa_FS': 1}\n",
      "{'L': 1, '|Lambda|': 1, 'S': 1, '|Sigma|': 1, '|Omega|': 0, '|Phi|': 2, 'I': 2, '|Iota|': 2, 'chi': -1, 'kappa_FS': -1}\n",
      "{'L': 1, '|Lambda|': 1, 'S': 1, '|Sigma|': 1, '|Omega|': 0, '|Phi|': 2, 'I': 2, '|Iota|': 2, 'chi': -1, 'kappa_FS': 1}\n",
      "{'L': 1, '|Lambda|': 1, 'S': 1, '|Sigma|': 0, '|Omega|': 1, 'chi': 1, 'kappa_FS': -1, '|Phi|': 1, 'I': 2, '|Iota|': 2}\n",
      "{'L': 1, '|Lambda|': 1, 'S': 1, '|Sigma|': 0, '|Omega|': 1, 'chi': -1, 'kappa_FS': 1, '|Phi|': 1, 'I': 2, '|Iota|': 2}\n",
      "{'L': 1, '|Lambda|': 1, 'S': 1, '|Sigma|': 1, '|Omega|': 2, 'chi': 1, 'kappa_FS': 1, '|Phi|': 0, 'I': 2, '|Iota|': 2}\n",
      "{'L': 1, '|Lambda|': 1, 'S': 1, '|Sigma|': 1, '|Omega|': 2, 'chi': -1, 'kappa_FS': -1, '|Phi|': 0, 'I': 2, '|Iota|': 2}\n",
      "{'L': 1, '|Lambda|': 0, 'S': 0, '|Sigma|': 0, '|Omega|': 0, 'chi': 1, 'kappa_FS': -1, '|Phi|': 1, 'I': 2, '|Iota|': 1}\n",
      "{'L': 1, '|Lambda|': 0, 'S': 0, '|Sigma|': 0, '|Omega|': 0, 'chi': -1, 'kappa_FS': 1, '|Phi|': 1, 'I': 2, '|Iota|': 1}\n",
      "{'L': 1, '|Lambda|': 0, 'S': 1, '|Sigma|': 0, '|Omega|': 0, 'chi': 1, 'kappa_FS': 1, '|Phi|': 1, 'I': 2, '|Iota|': 1}\n",
      "{'L': 1, '|Lambda|': 0, 'S': 1, '|Sigma|': 0, '|Omega|': 0, 'chi': -1, 'kappa_FS': -1, '|Phi|': 1, 'I': 2, '|Iota|': 1}\n",
      "{'L': 1, '|Lambda|': 0, 'S': 1, '|Sigma|': 1, '|Omega|': 1, 'chi': 1, 'kappa_FS': -1, '|Phi|': 0, 'I': 2, '|Iota|': 1}\n",
      "{'L': 1, '|Lambda|': 0, 'S': 1, '|Sigma|': 1, '|Omega|': 1, 'chi': -1, 'kappa_FS': 1, '|Phi|': 0, 'I': 2, '|Iota|': 1}\n",
      "{'L': 1, '|Lambda|': 1, 'S': 0, '|Sigma|': 0, '|Omega|': 1, 'chi': 1, 'kappa_FS': 1, '|Phi|': 0, 'I': 2, '|Iota|': 1}\n",
      "{'L': 1, '|Lambda|': 1, 'S': 0, '|Sigma|': 0, '|Omega|': 1, 'chi': -1, 'kappa_FS': -1, '|Phi|': 0, 'I': 2, '|Iota|': 1}\n",
      "{'L': 1, '|Lambda|': 1, 'S': 1, '|Sigma|': 1, '|Omega|': 0, '|Phi|': 1, 'I': 2, '|Iota|': 1, 'chi': 1, 'kappa_FS': -1}\n",
      "{'L': 1, '|Lambda|': 1, 'S': 1, '|Sigma|': 1, '|Omega|': 0, '|Phi|': 1, 'I': 2, '|Iota|': 1, 'chi': 1, 'kappa_FS': 1}\n",
      "{'L': 1, '|Lambda|': 1, 'S': 1, '|Sigma|': 1, '|Omega|': 0, '|Phi|': 1, 'I': 2, '|Iota|': 1, 'chi': -1, 'kappa_FS': -1}\n",
      "{'L': 1, '|Lambda|': 1, 'S': 1, '|Sigma|': 1, '|Omega|': 0, '|Phi|': 1, 'I': 2, '|Iota|': 1, 'chi': -1, 'kappa_FS': 1}\n",
      "{'L': 1, '|Lambda|': 1, 'S': 1, '|Sigma|': 0, '|Omega|': 1, 'chi': 1, 'kappa_FS': -1, '|Phi|': 0, 'I': 2, '|Iota|': 1}\n",
      "{'L': 1, '|Lambda|': 1, 'S': 1, '|Sigma|': 0, '|Omega|': 1, 'chi': -1, 'kappa_FS': 1, '|Phi|': 0, 'I': 2, '|Iota|': 1}\n",
      "{'L': 1, '|Lambda|': 1, 'S': 1, '|Sigma|': 1, '|Omega|': 2, 'chi': 1, 'kappa_FS': 1, '|Phi|': 1, 'I': 2, '|Iota|': 1}\n",
      "{'L': 1, '|Lambda|': 1, 'S': 1, '|Sigma|': 1, '|Omega|': 2, 'chi': -1, 'kappa_FS': -1, '|Phi|': 1, 'I': 2, '|Iota|': 1}\n",
      "{'L': 1, '|Lambda|': 0, 'S': 0, '|Sigma|': 0, '|Omega|': 0, 'chi': 1, 'kappa_FS': -1, '|Phi|': 0, 'I': 2, '|Iota|': 0}\n",
      "{'L': 1, '|Lambda|': 0, 'S': 0, '|Sigma|': 0, '|Omega|': 0, 'chi': -1, 'kappa_FS': 1, '|Phi|': 0, 'I': 2, '|Iota|': 0}\n",
      "{'L': 1, '|Lambda|': 0, 'S': 1, '|Sigma|': 0, '|Omega|': 0, 'chi': 1, 'kappa_FS': 1, '|Phi|': 0, 'I': 2, '|Iota|': 0}\n",
      "{'L': 1, '|Lambda|': 0, 'S': 1, '|Sigma|': 0, '|Omega|': 0, 'chi': -1, 'kappa_FS': -1, '|Phi|': 0, 'I': 2, '|Iota|': 0}\n",
      "{'L': 1, '|Lambda|': 0, 'S': 1, '|Sigma|': 1, '|Omega|': 1, 'chi': 1, 'kappa_FS': -1, '|Phi|': 1, 'I': 2, '|Iota|': 0}\n",
      "{'L': 1, '|Lambda|': 0, 'S': 1, '|Sigma|': 1, '|Omega|': 1, 'chi': -1, 'kappa_FS': 1, '|Phi|': 1, 'I': 2, '|Iota|': 0}\n",
      "{'L': 1, '|Lambda|': 1, 'S': 0, '|Sigma|': 0, '|Omega|': 1, 'chi': 1, 'kappa_FS': 1, '|Phi|': 1, 'I': 2, '|Iota|': 0}\n",
      "{'L': 1, '|Lambda|': 1, 'S': 0, '|Sigma|': 0, '|Omega|': 1, 'chi': -1, 'kappa_FS': -1, '|Phi|': 1, 'I': 2, '|Iota|': 0}\n",
      "{'L': 1, '|Lambda|': 1, 'S': 1, '|Sigma|': 1, '|Omega|': 0, '|Phi|': 0, 'I': 2, '|Iota|': 0, 'chi': 1, 'kappa_FS': -1}\n",
      "{'L': 1, '|Lambda|': 1, 'S': 1, '|Sigma|': 1, '|Omega|': 0, '|Phi|': 0, 'I': 2, '|Iota|': 0, 'chi': 1, 'kappa_FS': 1}\n",
      "{'L': 1, '|Lambda|': 1, 'S': 1, '|Sigma|': 1, '|Omega|': 0, '|Phi|': 0, 'I': 2, '|Iota|': 0, 'chi': -1, 'kappa_FS': -1}\n",
      "{'L': 1, '|Lambda|': 1, 'S': 1, '|Sigma|': 1, '|Omega|': 0, '|Phi|': 0, 'I': 2, '|Iota|': 0, 'chi': -1, 'kappa_FS': 1}\n",
      "{'L': 1, '|Lambda|': 1, 'S': 1, '|Sigma|': 0, '|Omega|': 1, 'chi': 1, 'kappa_FS': -1, '|Phi|': 1, 'I': 2, '|Iota|': 0}\n",
      "{'L': 1, '|Lambda|': 1, 'S': 1, '|Sigma|': 0, '|Omega|': 1, 'chi': -1, 'kappa_FS': 1, '|Phi|': 1, 'I': 2, '|Iota|': 0}\n",
      "{'L': 1, '|Lambda|': 1, 'S': 1, '|Sigma|': 1, '|Omega|': 2, 'chi': 1, 'kappa_FS': 1, '|Phi|': 2, 'I': 2, '|Iota|': 0}\n",
      "{'L': 1, '|Lambda|': 1, 'S': 1, '|Sigma|': 1, '|Omega|': 2, 'chi': -1, 'kappa_FS': -1, '|Phi|': 2, 'I': 2, '|Iota|': 0}\n",
      "{'L': 1, '|Lambda|': 0, 'S': 0, '|Sigma|': 0, '|Omega|': 0, 'chi': 1, 'kappa_FS': -1, '|Phi|': 1, 'I': 2, '|Iota|': 1}\n",
      "{'L': 1, '|Lambda|': 0, 'S': 0, '|Sigma|': 0, '|Omega|': 0, 'chi': -1, 'kappa_FS': 1, '|Phi|': 1, 'I': 2, '|Iota|': 1}\n",
      "{'L': 1, '|Lambda|': 0, 'S': 1, '|Sigma|': 0, '|Omega|': 0, 'chi': 1, 'kappa_FS': 1, '|Phi|': 1, 'I': 2, '|Iota|': 1}\n",
      "{'L': 1, '|Lambda|': 0, 'S': 1, '|Sigma|': 0, '|Omega|': 0, 'chi': -1, 'kappa_FS': -1, '|Phi|': 1, 'I': 2, '|Iota|': 1}\n",
      "{'L': 1, '|Lambda|': 0, 'S': 1, '|Sigma|': 1, '|Omega|': 1, 'chi': 1, 'kappa_FS': -1, '|Phi|': 2, 'I': 2, '|Iota|': 1}\n",
      "{'L': 1, '|Lambda|': 0, 'S': 1, '|Sigma|': 1, '|Omega|': 1, 'chi': -1, 'kappa_FS': 1, '|Phi|': 2, 'I': 2, '|Iota|': 1}\n",
      "{'L': 1, '|Lambda|': 1, 'S': 0, '|Sigma|': 0, '|Omega|': 1, 'chi': 1, 'kappa_FS': 1, '|Phi|': 2, 'I': 2, '|Iota|': 1}\n",
      "{'L': 1, '|Lambda|': 1, 'S': 0, '|Sigma|': 0, '|Omega|': 1, 'chi': -1, 'kappa_FS': -1, '|Phi|': 2, 'I': 2, '|Iota|': 1}\n",
      "{'L': 1, '|Lambda|': 1, 'S': 1, '|Sigma|': 1, '|Omega|': 0, '|Phi|': 1, 'I': 2, '|Iota|': 1, 'chi': 1, 'kappa_FS': -1}\n",
      "{'L': 1, '|Lambda|': 1, 'S': 1, '|Sigma|': 1, '|Omega|': 0, '|Phi|': 1, 'I': 2, '|Iota|': 1, 'chi': 1, 'kappa_FS': 1}\n",
      "{'L': 1, '|Lambda|': 1, 'S': 1, '|Sigma|': 1, '|Omega|': 0, '|Phi|': 1, 'I': 2, '|Iota|': 1, 'chi': -1, 'kappa_FS': -1}\n",
      "{'L': 1, '|Lambda|': 1, 'S': 1, '|Sigma|': 1, '|Omega|': 0, '|Phi|': 1, 'I': 2, '|Iota|': 1, 'chi': -1, 'kappa_FS': 1}\n",
      "{'L': 1, '|Lambda|': 1, 'S': 1, '|Sigma|': 0, '|Omega|': 1, 'chi': 1, 'kappa_FS': -1, '|Phi|': 2, 'I': 2, '|Iota|': 1}\n",
      "{'L': 1, '|Lambda|': 1, 'S': 1, '|Sigma|': 0, '|Omega|': 1, 'chi': -1, 'kappa_FS': 1, '|Phi|': 2, 'I': 2, '|Iota|': 1}\n",
      "{'L': 1, '|Lambda|': 1, 'S': 1, '|Sigma|': 1, '|Omega|': 2, 'chi': 1, 'kappa_FS': 1, '|Phi|': 3, 'I': 2, '|Iota|': 1}\n",
      "{'L': 1, '|Lambda|': 1, 'S': 1, '|Sigma|': 1, '|Omega|': 2, 'chi': -1, 'kappa_FS': -1, '|Phi|': 3, 'I': 2, '|Iota|': 1}\n",
      "{'L': 1, '|Lambda|': 0, 'S': 0, '|Sigma|': 0, '|Omega|': 0, 'chi': 1, 'kappa_FS': -1, '|Phi|': 2, 'I': 2, '|Iota|': 2}\n",
      "{'L': 1, '|Lambda|': 0, 'S': 0, '|Sigma|': 0, '|Omega|': 0, 'chi': -1, 'kappa_FS': 1, '|Phi|': 2, 'I': 2, '|Iota|': 2}\n",
      "{'L': 1, '|Lambda|': 0, 'S': 1, '|Sigma|': 0, '|Omega|': 0, 'chi': 1, 'kappa_FS': 1, '|Phi|': 2, 'I': 2, '|Iota|': 2}\n",
      "{'L': 1, '|Lambda|': 0, 'S': 1, '|Sigma|': 0, '|Omega|': 0, 'chi': -1, 'kappa_FS': -1, '|Phi|': 2, 'I': 2, '|Iota|': 2}\n",
      "{'L': 1, '|Lambda|': 0, 'S': 1, '|Sigma|': 1, '|Omega|': 1, 'chi': 1, 'kappa_FS': -1, '|Phi|': 3, 'I': 2, '|Iota|': 2}\n",
      "{'L': 1, '|Lambda|': 0, 'S': 1, '|Sigma|': 1, '|Omega|': 1, 'chi': -1, 'kappa_FS': 1, '|Phi|': 3, 'I': 2, '|Iota|': 2}\n",
      "{'L': 1, '|Lambda|': 1, 'S': 0, '|Sigma|': 0, '|Omega|': 1, 'chi': 1, 'kappa_FS': 1, '|Phi|': 3, 'I': 2, '|Iota|': 2}\n",
      "{'L': 1, '|Lambda|': 1, 'S': 0, '|Sigma|': 0, '|Omega|': 1, 'chi': -1, 'kappa_FS': -1, '|Phi|': 3, 'I': 2, '|Iota|': 2}\n",
      "{'L': 1, '|Lambda|': 1, 'S': 1, '|Sigma|': 1, '|Omega|': 0, '|Phi|': 2, 'I': 2, '|Iota|': 2, 'chi': 1, 'kappa_FS': -1}\n",
      "{'L': 1, '|Lambda|': 1, 'S': 1, '|Sigma|': 1, '|Omega|': 0, '|Phi|': 2, 'I': 2, '|Iota|': 2, 'chi': 1, 'kappa_FS': 1}\n",
      "{'L': 1, '|Lambda|': 1, 'S': 1, '|Sigma|': 1, '|Omega|': 0, '|Phi|': 2, 'I': 2, '|Iota|': 2, 'chi': -1, 'kappa_FS': -1}\n",
      "{'L': 1, '|Lambda|': 1, 'S': 1, '|Sigma|': 1, '|Omega|': 0, '|Phi|': 2, 'I': 2, '|Iota|': 2, 'chi': -1, 'kappa_FS': 1}\n",
      "{'L': 1, '|Lambda|': 1, 'S': 1, '|Sigma|': 0, '|Omega|': 1, 'chi': 1, 'kappa_FS': -1, '|Phi|': 3, 'I': 2, '|Iota|': 2}\n",
      "{'L': 1, '|Lambda|': 1, 'S': 1, '|Sigma|': 0, '|Omega|': 1, 'chi': -1, 'kappa_FS': 1, '|Phi|': 3, 'I': 2, '|Iota|': 2}\n",
      "{'L': 1, '|Lambda|': 1, 'S': 1, '|Sigma|': 1, '|Omega|': 2, 'chi': 1, 'kappa_FS': 1, '|Phi|': 4, 'I': 2, '|Iota|': 2}\n",
      "{'L': 1, '|Lambda|': 1, 'S': 1, '|Sigma|': 1, '|Omega|': 2, 'chi': -1, 'kappa_FS': -1, '|Phi|': 4, 'I': 2, '|Iota|': 2}\n",
      "{'L': 1, '|Lambda|': 0, 'S': 0, '|Sigma|': 0, '|Omega|': 0, 'chi': 1, 'kappa_FS': -1, '|Phi|': 3, 'I': 3, '|Iota|': 3}\n",
      "{'L': 1, '|Lambda|': 0, 'S': 0, '|Sigma|': 0, '|Omega|': 0, 'chi': -1, 'kappa_FS': 1, '|Phi|': 3, 'I': 3, '|Iota|': 3}\n",
      "{'L': 1, '|Lambda|': 0, 'S': 1, '|Sigma|': 0, '|Omega|': 0, 'chi': 1, 'kappa_FS': 1, '|Phi|': 3, 'I': 3, '|Iota|': 3}\n",
      "{'L': 1, '|Lambda|': 0, 'S': 1, '|Sigma|': 0, '|Omega|': 0, 'chi': -1, 'kappa_FS': -1, '|Phi|': 3, 'I': 3, '|Iota|': 3}\n",
      "{'L': 1, '|Lambda|': 0, 'S': 1, '|Sigma|': 1, '|Omega|': 1, 'chi': 1, 'kappa_FS': -1, '|Phi|': 2, 'I': 3, '|Iota|': 3}\n",
      "{'L': 1, '|Lambda|': 0, 'S': 1, '|Sigma|': 1, '|Omega|': 1, 'chi': -1, 'kappa_FS': 1, '|Phi|': 2, 'I': 3, '|Iota|': 3}\n",
      "{'L': 1, '|Lambda|': 1, 'S': 0, '|Sigma|': 0, '|Omega|': 1, 'chi': 1, 'kappa_FS': 1, '|Phi|': 2, 'I': 3, '|Iota|': 3}\n",
      "{'L': 1, '|Lambda|': 1, 'S': 0, '|Sigma|': 0, '|Omega|': 1, 'chi': -1, 'kappa_FS': -1, '|Phi|': 2, 'I': 3, '|Iota|': 3}\n",
      "{'L': 1, '|Lambda|': 1, 'S': 1, '|Sigma|': 1, '|Omega|': 0, '|Phi|': 3, 'I': 3, '|Iota|': 3, 'chi': 1, 'kappa_FS': -1}\n",
      "{'L': 1, '|Lambda|': 1, 'S': 1, '|Sigma|': 1, '|Omega|': 0, '|Phi|': 3, 'I': 3, '|Iota|': 3, 'chi': 1, 'kappa_FS': 1}\n",
      "{'L': 1, '|Lambda|': 1, 'S': 1, '|Sigma|': 1, '|Omega|': 0, '|Phi|': 3, 'I': 3, '|Iota|': 3, 'chi': -1, 'kappa_FS': -1}\n",
      "{'L': 1, '|Lambda|': 1, 'S': 1, '|Sigma|': 1, '|Omega|': 0, '|Phi|': 3, 'I': 3, '|Iota|': 3, 'chi': -1, 'kappa_FS': 1}\n",
      "{'L': 1, '|Lambda|': 1, 'S': 1, '|Sigma|': 0, '|Omega|': 1, 'chi': 1, 'kappa_FS': -1, '|Phi|': 2, 'I': 3, '|Iota|': 3}\n",
      "{'L': 1, '|Lambda|': 1, 'S': 1, '|Sigma|': 0, '|Omega|': 1, 'chi': -1, 'kappa_FS': 1, '|Phi|': 2, 'I': 3, '|Iota|': 3}\n",
      "{'L': 1, '|Lambda|': 1, 'S': 1, '|Sigma|': 1, '|Omega|': 2, 'chi': 1, 'kappa_FS': 1, '|Phi|': 1, 'I': 3, '|Iota|': 3}\n",
      "{'L': 1, '|Lambda|': 1, 'S': 1, '|Sigma|': 1, '|Omega|': 2, 'chi': -1, 'kappa_FS': -1, '|Phi|': 1, 'I': 3, '|Iota|': 3}\n",
      "{'L': 1, '|Lambda|': 0, 'S': 0, '|Sigma|': 0, '|Omega|': 0, 'chi': 1, 'kappa_FS': -1, '|Phi|': 2, 'I': 3, '|Iota|': 2}\n",
      "{'L': 1, '|Lambda|': 0, 'S': 0, '|Sigma|': 0, '|Omega|': 0, 'chi': -1, 'kappa_FS': 1, '|Phi|': 2, 'I': 3, '|Iota|': 2}\n",
      "{'L': 1, '|Lambda|': 0, 'S': 1, '|Sigma|': 0, '|Omega|': 0, 'chi': 1, 'kappa_FS': 1, '|Phi|': 2, 'I': 3, '|Iota|': 2}\n",
      "{'L': 1, '|Lambda|': 0, 'S': 1, '|Sigma|': 0, '|Omega|': 0, 'chi': -1, 'kappa_FS': -1, '|Phi|': 2, 'I': 3, '|Iota|': 2}\n",
      "{'L': 1, '|Lambda|': 0, 'S': 1, '|Sigma|': 1, '|Omega|': 1, 'chi': 1, 'kappa_FS': -1, '|Phi|': 1, 'I': 3, '|Iota|': 2}\n",
      "{'L': 1, '|Lambda|': 0, 'S': 1, '|Sigma|': 1, '|Omega|': 1, 'chi': -1, 'kappa_FS': 1, '|Phi|': 1, 'I': 3, '|Iota|': 2}\n",
      "{'L': 1, '|Lambda|': 1, 'S': 0, '|Sigma|': 0, '|Omega|': 1, 'chi': 1, 'kappa_FS': 1, '|Phi|': 1, 'I': 3, '|Iota|': 2}\n",
      "{'L': 1, '|Lambda|': 1, 'S': 0, '|Sigma|': 0, '|Omega|': 1, 'chi': -1, 'kappa_FS': -1, '|Phi|': 1, 'I': 3, '|Iota|': 2}\n",
      "{'L': 1, '|Lambda|': 1, 'S': 1, '|Sigma|': 1, '|Omega|': 0, '|Phi|': 2, 'I': 3, '|Iota|': 2, 'chi': 1, 'kappa_FS': -1}\n",
      "{'L': 1, '|Lambda|': 1, 'S': 1, '|Sigma|': 1, '|Omega|': 0, '|Phi|': 2, 'I': 3, '|Iota|': 2, 'chi': 1, 'kappa_FS': 1}\n",
      "{'L': 1, '|Lambda|': 1, 'S': 1, '|Sigma|': 1, '|Omega|': 0, '|Phi|': 2, 'I': 3, '|Iota|': 2, 'chi': -1, 'kappa_FS': -1}\n",
      "{'L': 1, '|Lambda|': 1, 'S': 1, '|Sigma|': 1, '|Omega|': 0, '|Phi|': 2, 'I': 3, '|Iota|': 2, 'chi': -1, 'kappa_FS': 1}\n",
      "{'L': 1, '|Lambda|': 1, 'S': 1, '|Sigma|': 0, '|Omega|': 1, 'chi': 1, 'kappa_FS': -1, '|Phi|': 1, 'I': 3, '|Iota|': 2}\n",
      "{'L': 1, '|Lambda|': 1, 'S': 1, '|Sigma|': 0, '|Omega|': 1, 'chi': -1, 'kappa_FS': 1, '|Phi|': 1, 'I': 3, '|Iota|': 2}\n",
      "{'L': 1, '|Lambda|': 1, 'S': 1, '|Sigma|': 1, '|Omega|': 2, 'chi': 1, 'kappa_FS': 1, '|Phi|': 0, 'I': 3, '|Iota|': 2}\n",
      "{'L': 1, '|Lambda|': 1, 'S': 1, '|Sigma|': 1, '|Omega|': 2, 'chi': -1, 'kappa_FS': -1, '|Phi|': 0, 'I': 3, '|Iota|': 2}\n",
      "{'L': 1, '|Lambda|': 0, 'S': 0, '|Sigma|': 0, '|Omega|': 0, 'chi': 1, 'kappa_FS': -1, '|Phi|': 1, 'I': 3, '|Iota|': 1}\n",
      "{'L': 1, '|Lambda|': 0, 'S': 0, '|Sigma|': 0, '|Omega|': 0, 'chi': -1, 'kappa_FS': 1, '|Phi|': 1, 'I': 3, '|Iota|': 1}\n",
      "{'L': 1, '|Lambda|': 0, 'S': 1, '|Sigma|': 0, '|Omega|': 0, 'chi': 1, 'kappa_FS': 1, '|Phi|': 1, 'I': 3, '|Iota|': 1}\n",
      "{'L': 1, '|Lambda|': 0, 'S': 1, '|Sigma|': 0, '|Omega|': 0, 'chi': -1, 'kappa_FS': -1, '|Phi|': 1, 'I': 3, '|Iota|': 1}\n",
      "{'L': 1, '|Lambda|': 0, 'S': 1, '|Sigma|': 1, '|Omega|': 1, 'chi': 1, 'kappa_FS': -1, '|Phi|': 0, 'I': 3, '|Iota|': 1}\n",
      "{'L': 1, '|Lambda|': 0, 'S': 1, '|Sigma|': 1, '|Omega|': 1, 'chi': -1, 'kappa_FS': 1, '|Phi|': 0, 'I': 3, '|Iota|': 1}\n",
      "{'L': 1, '|Lambda|': 1, 'S': 0, '|Sigma|': 0, '|Omega|': 1, 'chi': 1, 'kappa_FS': 1, '|Phi|': 0, 'I': 3, '|Iota|': 1}\n",
      "{'L': 1, '|Lambda|': 1, 'S': 0, '|Sigma|': 0, '|Omega|': 1, 'chi': -1, 'kappa_FS': -1, '|Phi|': 0, 'I': 3, '|Iota|': 1}\n",
      "{'L': 1, '|Lambda|': 1, 'S': 1, '|Sigma|': 1, '|Omega|': 0, '|Phi|': 1, 'I': 3, '|Iota|': 1, 'chi': 1, 'kappa_FS': -1}\n",
      "{'L': 1, '|Lambda|': 1, 'S': 1, '|Sigma|': 1, '|Omega|': 0, '|Phi|': 1, 'I': 3, '|Iota|': 1, 'chi': 1, 'kappa_FS': 1}\n",
      "{'L': 1, '|Lambda|': 1, 'S': 1, '|Sigma|': 1, '|Omega|': 0, '|Phi|': 1, 'I': 3, '|Iota|': 1, 'chi': -1, 'kappa_FS': -1}\n",
      "{'L': 1, '|Lambda|': 1, 'S': 1, '|Sigma|': 1, '|Omega|': 0, '|Phi|': 1, 'I': 3, '|Iota|': 1, 'chi': -1, 'kappa_FS': 1}\n",
      "{'L': 1, '|Lambda|': 1, 'S': 1, '|Sigma|': 0, '|Omega|': 1, 'chi': 1, 'kappa_FS': -1, '|Phi|': 0, 'I': 3, '|Iota|': 1}\n",
      "{'L': 1, '|Lambda|': 1, 'S': 1, '|Sigma|': 0, '|Omega|': 1, 'chi': -1, 'kappa_FS': 1, '|Phi|': 0, 'I': 3, '|Iota|': 1}\n",
      "{'L': 1, '|Lambda|': 1, 'S': 1, '|Sigma|': 1, '|Omega|': 2, 'chi': 1, 'kappa_FS': 1, '|Phi|': 1, 'I': 3, '|Iota|': 1}\n",
      "{'L': 1, '|Lambda|': 1, 'S': 1, '|Sigma|': 1, '|Omega|': 2, 'chi': -1, 'kappa_FS': -1, '|Phi|': 1, 'I': 3, '|Iota|': 1}\n",
      "{'L': 1, '|Lambda|': 0, 'S': 0, '|Sigma|': 0, '|Omega|': 0, 'chi': 1, 'kappa_FS': -1, '|Phi|': 0, 'I': 3, '|Iota|': 0}\n",
      "{'L': 1, '|Lambda|': 0, 'S': 0, '|Sigma|': 0, '|Omega|': 0, 'chi': -1, 'kappa_FS': 1, '|Phi|': 0, 'I': 3, '|Iota|': 0}\n",
      "{'L': 1, '|Lambda|': 0, 'S': 1, '|Sigma|': 0, '|Omega|': 0, 'chi': 1, 'kappa_FS': 1, '|Phi|': 0, 'I': 3, '|Iota|': 0}\n",
      "{'L': 1, '|Lambda|': 0, 'S': 1, '|Sigma|': 0, '|Omega|': 0, 'chi': -1, 'kappa_FS': -1, '|Phi|': 0, 'I': 3, '|Iota|': 0}\n",
      "{'L': 1, '|Lambda|': 0, 'S': 1, '|Sigma|': 1, '|Omega|': 1, 'chi': 1, 'kappa_FS': -1, '|Phi|': 1, 'I': 3, '|Iota|': 0}\n",
      "{'L': 1, '|Lambda|': 0, 'S': 1, '|Sigma|': 1, '|Omega|': 1, 'chi': -1, 'kappa_FS': 1, '|Phi|': 1, 'I': 3, '|Iota|': 0}\n",
      "{'L': 1, '|Lambda|': 1, 'S': 0, '|Sigma|': 0, '|Omega|': 1, 'chi': 1, 'kappa_FS': 1, '|Phi|': 1, 'I': 3, '|Iota|': 0}\n",
      "{'L': 1, '|Lambda|': 1, 'S': 0, '|Sigma|': 0, '|Omega|': 1, 'chi': -1, 'kappa_FS': -1, '|Phi|': 1, 'I': 3, '|Iota|': 0}\n",
      "{'L': 1, '|Lambda|': 1, 'S': 1, '|Sigma|': 1, '|Omega|': 0, '|Phi|': 0, 'I': 3, '|Iota|': 0, 'chi': 1, 'kappa_FS': -1}\n",
      "{'L': 1, '|Lambda|': 1, 'S': 1, '|Sigma|': 1, '|Omega|': 0, '|Phi|': 0, 'I': 3, '|Iota|': 0, 'chi': 1, 'kappa_FS': 1}\n",
      "{'L': 1, '|Lambda|': 1, 'S': 1, '|Sigma|': 1, '|Omega|': 0, '|Phi|': 0, 'I': 3, '|Iota|': 0, 'chi': -1, 'kappa_FS': -1}\n",
      "{'L': 1, '|Lambda|': 1, 'S': 1, '|Sigma|': 1, '|Omega|': 0, '|Phi|': 0, 'I': 3, '|Iota|': 0, 'chi': -1, 'kappa_FS': 1}\n",
      "{'L': 1, '|Lambda|': 1, 'S': 1, '|Sigma|': 0, '|Omega|': 1, 'chi': 1, 'kappa_FS': -1, '|Phi|': 1, 'I': 3, '|Iota|': 0}\n",
      "{'L': 1, '|Lambda|': 1, 'S': 1, '|Sigma|': 0, '|Omega|': 1, 'chi': -1, 'kappa_FS': 1, '|Phi|': 1, 'I': 3, '|Iota|': 0}\n",
      "{'L': 1, '|Lambda|': 1, 'S': 1, '|Sigma|': 1, '|Omega|': 2, 'chi': 1, 'kappa_FS': 1, '|Phi|': 2, 'I': 3, '|Iota|': 0}\n",
      "{'L': 1, '|Lambda|': 1, 'S': 1, '|Sigma|': 1, '|Omega|': 2, 'chi': -1, 'kappa_FS': -1, '|Phi|': 2, 'I': 3, '|Iota|': 0}\n",
      "{'L': 1, '|Lambda|': 0, 'S': 0, '|Sigma|': 0, '|Omega|': 0, 'chi': 1, 'kappa_FS': -1, '|Phi|': 1, 'I': 3, '|Iota|': 1}\n",
      "{'L': 1, '|Lambda|': 0, 'S': 0, '|Sigma|': 0, '|Omega|': 0, 'chi': -1, 'kappa_FS': 1, '|Phi|': 1, 'I': 3, '|Iota|': 1}\n",
      "{'L': 1, '|Lambda|': 0, 'S': 1, '|Sigma|': 0, '|Omega|': 0, 'chi': 1, 'kappa_FS': 1, '|Phi|': 1, 'I': 3, '|Iota|': 1}\n",
      "{'L': 1, '|Lambda|': 0, 'S': 1, '|Sigma|': 0, '|Omega|': 0, 'chi': -1, 'kappa_FS': -1, '|Phi|': 1, 'I': 3, '|Iota|': 1}\n",
      "{'L': 1, '|Lambda|': 0, 'S': 1, '|Sigma|': 1, '|Omega|': 1, 'chi': 1, 'kappa_FS': -1, '|Phi|': 2, 'I': 3, '|Iota|': 1}\n",
      "{'L': 1, '|Lambda|': 0, 'S': 1, '|Sigma|': 1, '|Omega|': 1, 'chi': -1, 'kappa_FS': 1, '|Phi|': 2, 'I': 3, '|Iota|': 1}\n",
      "{'L': 1, '|Lambda|': 1, 'S': 0, '|Sigma|': 0, '|Omega|': 1, 'chi': 1, 'kappa_FS': 1, '|Phi|': 2, 'I': 3, '|Iota|': 1}\n",
      "{'L': 1, '|Lambda|': 1, 'S': 0, '|Sigma|': 0, '|Omega|': 1, 'chi': -1, 'kappa_FS': -1, '|Phi|': 2, 'I': 3, '|Iota|': 1}\n",
      "{'L': 1, '|Lambda|': 1, 'S': 1, '|Sigma|': 1, '|Omega|': 0, '|Phi|': 1, 'I': 3, '|Iota|': 1, 'chi': 1, 'kappa_FS': -1}\n",
      "{'L': 1, '|Lambda|': 1, 'S': 1, '|Sigma|': 1, '|Omega|': 0, '|Phi|': 1, 'I': 3, '|Iota|': 1, 'chi': 1, 'kappa_FS': 1}\n",
      "{'L': 1, '|Lambda|': 1, 'S': 1, '|Sigma|': 1, '|Omega|': 0, '|Phi|': 1, 'I': 3, '|Iota|': 1, 'chi': -1, 'kappa_FS': -1}\n",
      "{'L': 1, '|Lambda|': 1, 'S': 1, '|Sigma|': 1, '|Omega|': 0, '|Phi|': 1, 'I': 3, '|Iota|': 1, 'chi': -1, 'kappa_FS': 1}\n",
      "{'L': 1, '|Lambda|': 1, 'S': 1, '|Sigma|': 0, '|Omega|': 1, 'chi': 1, 'kappa_FS': -1, '|Phi|': 2, 'I': 3, '|Iota|': 1}\n",
      "{'L': 1, '|Lambda|': 1, 'S': 1, '|Sigma|': 0, '|Omega|': 1, 'chi': -1, 'kappa_FS': 1, '|Phi|': 2, 'I': 3, '|Iota|': 1}\n",
      "{'L': 1, '|Lambda|': 1, 'S': 1, '|Sigma|': 1, '|Omega|': 2, 'chi': 1, 'kappa_FS': 1, '|Phi|': 3, 'I': 3, '|Iota|': 1}\n",
      "{'L': 1, '|Lambda|': 1, 'S': 1, '|Sigma|': 1, '|Omega|': 2, 'chi': -1, 'kappa_FS': -1, '|Phi|': 3, 'I': 3, '|Iota|': 1}\n",
      "{'L': 1, '|Lambda|': 0, 'S': 0, '|Sigma|': 0, '|Omega|': 0, 'chi': 1, 'kappa_FS': -1, '|Phi|': 2, 'I': 3, '|Iota|': 2}\n",
      "{'L': 1, '|Lambda|': 0, 'S': 0, '|Sigma|': 0, '|Omega|': 0, 'chi': -1, 'kappa_FS': 1, '|Phi|': 2, 'I': 3, '|Iota|': 2}\n",
      "{'L': 1, '|Lambda|': 0, 'S': 1, '|Sigma|': 0, '|Omega|': 0, 'chi': 1, 'kappa_FS': 1, '|Phi|': 2, 'I': 3, '|Iota|': 2}\n",
      "{'L': 1, '|Lambda|': 0, 'S': 1, '|Sigma|': 0, '|Omega|': 0, 'chi': -1, 'kappa_FS': -1, '|Phi|': 2, 'I': 3, '|Iota|': 2}\n",
      "{'L': 1, '|Lambda|': 0, 'S': 1, '|Sigma|': 1, '|Omega|': 1, 'chi': 1, 'kappa_FS': -1, '|Phi|': 3, 'I': 3, '|Iota|': 2}\n",
      "{'L': 1, '|Lambda|': 0, 'S': 1, '|Sigma|': 1, '|Omega|': 1, 'chi': -1, 'kappa_FS': 1, '|Phi|': 3, 'I': 3, '|Iota|': 2}\n",
      "{'L': 1, '|Lambda|': 1, 'S': 0, '|Sigma|': 0, '|Omega|': 1, 'chi': 1, 'kappa_FS': 1, '|Phi|': 3, 'I': 3, '|Iota|': 2}\n",
      "{'L': 1, '|Lambda|': 1, 'S': 0, '|Sigma|': 0, '|Omega|': 1, 'chi': -1, 'kappa_FS': -1, '|Phi|': 3, 'I': 3, '|Iota|': 2}\n",
      "{'L': 1, '|Lambda|': 1, 'S': 1, '|Sigma|': 1, '|Omega|': 0, '|Phi|': 2, 'I': 3, '|Iota|': 2, 'chi': 1, 'kappa_FS': -1}\n",
      "{'L': 1, '|Lambda|': 1, 'S': 1, '|Sigma|': 1, '|Omega|': 0, '|Phi|': 2, 'I': 3, '|Iota|': 2, 'chi': 1, 'kappa_FS': 1}\n",
      "{'L': 1, '|Lambda|': 1, 'S': 1, '|Sigma|': 1, '|Omega|': 0, '|Phi|': 2, 'I': 3, '|Iota|': 2, 'chi': -1, 'kappa_FS': -1}\n",
      "{'L': 1, '|Lambda|': 1, 'S': 1, '|Sigma|': 1, '|Omega|': 0, '|Phi|': 2, 'I': 3, '|Iota|': 2, 'chi': -1, 'kappa_FS': 1}\n",
      "{'L': 1, '|Lambda|': 1, 'S': 1, '|Sigma|': 0, '|Omega|': 1, 'chi': 1, 'kappa_FS': -1, '|Phi|': 3, 'I': 3, '|Iota|': 2}\n",
      "{'L': 1, '|Lambda|': 1, 'S': 1, '|Sigma|': 0, '|Omega|': 1, 'chi': -1, 'kappa_FS': 1, '|Phi|': 3, 'I': 3, '|Iota|': 2}\n",
      "{'L': 1, '|Lambda|': 1, 'S': 1, '|Sigma|': 1, '|Omega|': 2, 'chi': 1, 'kappa_FS': 1, '|Phi|': 4, 'I': 3, '|Iota|': 2}\n",
      "{'L': 1, '|Lambda|': 1, 'S': 1, '|Sigma|': 1, '|Omega|': 2, 'chi': -1, 'kappa_FS': -1, '|Phi|': 4, 'I': 3, '|Iota|': 2}\n",
      "{'L': 1, '|Lambda|': 0, 'S': 0, '|Sigma|': 0, '|Omega|': 0, 'chi': 1, 'kappa_FS': -1, '|Phi|': 3, 'I': 3, '|Iota|': 3}\n",
      "{'L': 1, '|Lambda|': 0, 'S': 0, '|Sigma|': 0, '|Omega|': 0, 'chi': -1, 'kappa_FS': 1, '|Phi|': 3, 'I': 3, '|Iota|': 3}\n",
      "{'L': 1, '|Lambda|': 0, 'S': 1, '|Sigma|': 0, '|Omega|': 0, 'chi': 1, 'kappa_FS': 1, '|Phi|': 3, 'I': 3, '|Iota|': 3}\n",
      "{'L': 1, '|Lambda|': 0, 'S': 1, '|Sigma|': 0, '|Omega|': 0, 'chi': -1, 'kappa_FS': -1, '|Phi|': 3, 'I': 3, '|Iota|': 3}\n",
      "{'L': 1, '|Lambda|': 0, 'S': 1, '|Sigma|': 1, '|Omega|': 1, 'chi': 1, 'kappa_FS': -1, '|Phi|': 4, 'I': 3, '|Iota|': 3}\n",
      "{'L': 1, '|Lambda|': 0, 'S': 1, '|Sigma|': 1, '|Omega|': 1, 'chi': -1, 'kappa_FS': 1, '|Phi|': 4, 'I': 3, '|Iota|': 3}\n",
      "{'L': 1, '|Lambda|': 1, 'S': 0, '|Sigma|': 0, '|Omega|': 1, 'chi': 1, 'kappa_FS': 1, '|Phi|': 4, 'I': 3, '|Iota|': 3}\n",
      "{'L': 1, '|Lambda|': 1, 'S': 0, '|Sigma|': 0, '|Omega|': 1, 'chi': -1, 'kappa_FS': -1, '|Phi|': 4, 'I': 3, '|Iota|': 3}\n",
      "{'L': 1, '|Lambda|': 1, 'S': 1, '|Sigma|': 1, '|Omega|': 0, '|Phi|': 3, 'I': 3, '|Iota|': 3, 'chi': 1, 'kappa_FS': -1}\n",
      "{'L': 1, '|Lambda|': 1, 'S': 1, '|Sigma|': 1, '|Omega|': 0, '|Phi|': 3, 'I': 3, '|Iota|': 3, 'chi': 1, 'kappa_FS': 1}\n",
      "{'L': 1, '|Lambda|': 1, 'S': 1, '|Sigma|': 1, '|Omega|': 0, '|Phi|': 3, 'I': 3, '|Iota|': 3, 'chi': -1, 'kappa_FS': -1}\n",
      "{'L': 1, '|Lambda|': 1, 'S': 1, '|Sigma|': 1, '|Omega|': 0, '|Phi|': 3, 'I': 3, '|Iota|': 3, 'chi': -1, 'kappa_FS': 1}\n",
      "{'L': 1, '|Lambda|': 1, 'S': 1, '|Sigma|': 0, '|Omega|': 1, 'chi': 1, 'kappa_FS': -1, '|Phi|': 4, 'I': 3, '|Iota|': 3}\n",
      "{'L': 1, '|Lambda|': 1, 'S': 1, '|Sigma|': 0, '|Omega|': 1, 'chi': -1, 'kappa_FS': 1, '|Phi|': 4, 'I': 3, '|Iota|': 3}\n",
      "{'L': 1, '|Lambda|': 1, 'S': 1, '|Sigma|': 1, '|Omega|': 2, 'chi': 1, 'kappa_FS': 1, '|Phi|': 5, 'I': 3, '|Iota|': 3}\n",
      "{'L': 1, '|Lambda|': 1, 'S': 1, '|Sigma|': 1, '|Omega|': 2, 'chi': -1, 'kappa_FS': -1, '|Phi|': 5, 'I': 3, '|Iota|': 3}\n"
     ]
    }
   ],
   "source": [
    "sym_BO_states = create_sym_BO_states(0,1,1/2,1/2,3/2,3/2)\n",
    "print('\\033[1m' + 'BO States'+ '\\033[0m')\n",
    "print('number of symmetrized BO states: ',len(sym_BO_states))\n",
    "for state in sym_BO_states:\n",
    "    print(state)"
   ]
  },
  {
   "cell_type": "markdown",
   "id": "e850ee99-fc4b-4977-a2ff-5c7c45c11b9e",
   "metadata": {},
   "source": [
    "### Group symmetrized BO states by fine structure symmetry "
   ]
  },
  {
   "cell_type": "markdown",
   "id": "acf2f375-4904-4f13-88e0-c6f4b008e29a",
   "metadata": {},
   "source": [
    "The symmetrized BO states can be grouped according to their fine structure symmetries labelled as $\\Omega^{\\kappa}_{g/u}$ where $\\chi = g,u=+1,-1$ <br> Each group comprises a block diagonal matrix in the total Hamiltonian. Since states fo different symmetry do not mix, <br>\n",
    "we can  diagonalize each of these matrices to find the energies of states with specific symmetry. Note that $|\\Omega|>0$ states do not have definite reflection symmetry. The $\\kappa$ labels in $|\\Omega|>0$ states serve as a way to algorythimcally  build linear combinations of BO states.  "
   ]
  },
  {
   "cell_type": "code",
   "execution_count": 6,
   "id": "48fbdf00-68f0-4a50-a71d-b1ae5559f500",
   "metadata": {},
   "outputs": [],
   "source": [
    "def group_BO_states_by_FS_symmetry(expanded_BO_states):\n",
    "    FS_symmetry_BO_states = {}\n",
    "    for Omega in [0,1,2]:\n",
    "        for state in expanded_BO_states:\n",
    "            chi_label = 'g' if state['chi']==1 else 'u'\n",
    "            if state['|Omega|']==Omega: \n",
    "                if Omega == 0:\n",
    "                    parityString = '+' if state['kappa'] == 1 else '-'\n",
    "                else:\n",
    "                    parityString = ''\n",
    "                symmetryLabel = str(Omega) + parityString + chi_label\n",
    "                if symmetryLabel not in FS_symmetry_BO_states:\n",
    "                    FS_symmetry_BO_states[symmetryLabel] = []\n",
    "                FS_symmetry_BO_states[symmetryLabel].append(state)\n",
    "    return FS_symmetry_BO_states"
   ]
  },
  {
   "cell_type": "code",
   "execution_count": null,
   "id": "48d4615c-20c0-4b46-8135-8525550f3fb1",
   "metadata": {
    "tags": []
   },
   "outputs": [],
   "source": [
    "FS_symmetry_BO_states = group_BO_states_by_FS_symmetry(sym_BO_states)\n",
    "print('\\033[1m' +'expanded BO basis grouped by fine structure symmetry '+'\\033[0m')\n",
    "for label, state in FS_symmetry_BO_states.items():\n",
    "    print('\\033[1m'+label+'\\033[0m',len(state),'states',state)"
   ]
  },
  {
   "cell_type": "markdown",
   "id": "48d46300-b7eb-42d3-963c-9ea5cf529e66",
   "metadata": {},
   "source": [
    "### generate unsymmetrized Born-Oppenheimer basis"
   ]
  },
  {
   "cell_type": "markdown",
   "id": "ad59e2ec-fb0c-4c4b-816b-35341fac0a58",
   "metadata": {},
   "source": [
    "$ L,S \\rightarrow |L, \\Lambda, S, \\Sigma, \\Omega,\\chi \\rangle $"
   ]
  },
  {
   "cell_type": "markdown",
   "id": "3e3829f6-27d1-46a5-ab7a-2f7a1ffa068a",
   "metadata": {},
   "source": [
    "takes coupled atom L and S values to create unsymmetrized BO basis. These are the basis states for the total Hamiltonian. After transforming from the symmetrized BO basis to the unsymmetrized BO basis, we will identify the indices of the corresponding states (in this basis) to construct the necessary superposition basis states."
   ]
  },
  {
   "cell_type": "code",
   "execution_count": 7,
   "id": "28adb7dc-1177-40ba-a9af-6ffd8cce81a5",
   "metadata": {
    "tags": []
   },
   "outputs": [],
   "source": [
    "def create_unsym_BO_basis(L_vals, S_vals):\n",
    "    unsym_BO_basis = []\n",
    "    for chi in [1,-1]: \n",
    "        for L in L_vals: \n",
    "            for Lambda in np.arange(-L,L+1,1): \n",
    "                for S in S_vals: \n",
    "                    for Sigma in np.arange(-S, S+1,1): \n",
    "                        state = {'L':L, 'Lambda': Lambda, 'S':S,\n",
    "                                 'Sigma':Sigma, 'Omega':Sigma+Lambda,'chi': chi}\n",
    "                        unsym_BO_basis.append(state)\n",
    "    return unsym_BO_basis       \n"
   ]
  },
  {
   "cell_type": "code",
   "execution_count": 8,
   "id": "55d65987-0760-4304-8fa3-7337e922cb2b",
   "metadata": {},
   "outputs": [
    {
     "name": "stdout",
     "output_type": "stream",
     "text": [
      "\u001b[1munsymmetrized BO basis\u001b[0m\n",
      "number of states 24\n",
      "{'L': 1, 'Lambda': -1, 'S': 0, 'Sigma': 0, 'Omega': -1, 'chi': 1}\n",
      "{'L': 1, 'Lambda': -1, 'S': 1, 'Sigma': -1, 'Omega': -2, 'chi': 1}\n",
      "{'L': 1, 'Lambda': -1, 'S': 1, 'Sigma': 0, 'Omega': -1, 'chi': 1}\n",
      "{'L': 1, 'Lambda': -1, 'S': 1, 'Sigma': 1, 'Omega': 0, 'chi': 1}\n",
      "{'L': 1, 'Lambda': 0, 'S': 0, 'Sigma': 0, 'Omega': 0, 'chi': 1}\n",
      "{'L': 1, 'Lambda': 0, 'S': 1, 'Sigma': -1, 'Omega': -1, 'chi': 1}\n",
      "{'L': 1, 'Lambda': 0, 'S': 1, 'Sigma': 0, 'Omega': 0, 'chi': 1}\n",
      "{'L': 1, 'Lambda': 0, 'S': 1, 'Sigma': 1, 'Omega': 1, 'chi': 1}\n",
      "{'L': 1, 'Lambda': 1, 'S': 0, 'Sigma': 0, 'Omega': 1, 'chi': 1}\n",
      "{'L': 1, 'Lambda': 1, 'S': 1, 'Sigma': -1, 'Omega': 0, 'chi': 1}\n",
      "{'L': 1, 'Lambda': 1, 'S': 1, 'Sigma': 0, 'Omega': 1, 'chi': 1}\n",
      "{'L': 1, 'Lambda': 1, 'S': 1, 'Sigma': 1, 'Omega': 2, 'chi': 1}\n",
      "{'L': 1, 'Lambda': -1, 'S': 0, 'Sigma': 0, 'Omega': -1, 'chi': -1}\n",
      "{'L': 1, 'Lambda': -1, 'S': 1, 'Sigma': -1, 'Omega': -2, 'chi': -1}\n",
      "{'L': 1, 'Lambda': -1, 'S': 1, 'Sigma': 0, 'Omega': -1, 'chi': -1}\n",
      "{'L': 1, 'Lambda': -1, 'S': 1, 'Sigma': 1, 'Omega': 0, 'chi': -1}\n",
      "{'L': 1, 'Lambda': 0, 'S': 0, 'Sigma': 0, 'Omega': 0, 'chi': -1}\n",
      "{'L': 1, 'Lambda': 0, 'S': 1, 'Sigma': -1, 'Omega': -1, 'chi': -1}\n",
      "{'L': 1, 'Lambda': 0, 'S': 1, 'Sigma': 0, 'Omega': 0, 'chi': -1}\n",
      "{'L': 1, 'Lambda': 0, 'S': 1, 'Sigma': 1, 'Omega': 1, 'chi': -1}\n",
      "{'L': 1, 'Lambda': 1, 'S': 0, 'Sigma': 0, 'Omega': 1, 'chi': -1}\n",
      "{'L': 1, 'Lambda': 1, 'S': 1, 'Sigma': -1, 'Omega': 0, 'chi': -1}\n",
      "{'L': 1, 'Lambda': 1, 'S': 1, 'Sigma': 0, 'Omega': 1, 'chi': -1}\n",
      "{'L': 1, 'Lambda': 1, 'S': 1, 'Sigma': 1, 'Omega': 2, 'chi': -1}\n"
     ]
    }
   ],
   "source": [
    "unsym_BO_basis = create_unsym_BO_basis([1],[0,1]) # \n",
    "print('\\033[1m' +'unsymmetrized BO basis'+'\\033[0m')\n",
    "print('number of states',len(unsym_BO_basis))\n",
    "for state in unsym_BO_basis:\n",
    "    print(state)"
   ]
  },
  {
   "cell_type": "markdown",
   "id": "29ae2a7e-2da8-42c9-a3b1-c3c5e29be819",
   "metadata": {
    "toc-hr-collapsed": true
   },
   "source": [
    "### symmetrized to unsymmetrized BO basis operator"
   ]
  },
  {
   "cell_type": "markdown",
   "id": "0dbbe35d-fe07-459e-a3ad-aee7435a3826",
   "metadata": {},
   "source": [
    "$| L, \\Lambda, S, \\Sigma, \\Omega,\\chi \\rangle \\langle L, |\\Lambda|, S, |\\Sigma|, |\\Omega|,\\chi, \\kappa |$"
   ]
  },
  {
   "cell_type": "markdown",
   "id": "dec5059f-553b-4a6b-b8e4-0d3d11df34d1",
   "metadata": {},
   "source": [
    "transforms symmetrized BO states into unsymmetrized BO states. From this transformation we can identify $\\Sigma$ and $\\Pi$ basis states needed to construct the Movre-Pischler block diagonal matrices. Since $\\Pi$ states have indefinite reflection symmetry, this transformation generates superpositions of $\\Pi$ states that have definite parity. This function returns the index and sign of the matching case A states contained in the case A basis which can be used to construct the superposition basis states of the total Hamiltonian."
   ]
  },
  {
   "cell_type": "markdown",
   "id": "038a2ab2-40a8-4cbe-8f61-2f9986237a53",
   "metadata": {},
   "source": [
    "$|L, |\\Lambda|, S, |\\Sigma|, |\\Omega|,\\chi, \\kappa_{BO}, \\kappa_{FS} \\rangle = \\frac{1}{\\sqrt{2-\\delta_{|\\Lambda|,0}}}\\left(|L, \\Lambda, S, \\Sigma, \\Omega,\\chi \\rangle +\\kappa_{FS} \\delta_{|\\Lambda|,1} |L, -\\Lambda, S, -\\Sigma, -\\Omega , \\chi \\rangle \\right)$"
   ]
  },
  {
   "cell_type": "markdown",
   "id": "f441e377-bad5-409b-94c4-32d521b386f7",
   "metadata": {},
   "source": [
    "note: this function does not do normalization. This is done in the function \"unsymmetrized BO to ls grouped by FS symmetry\""
   ]
  },
  {
   "cell_type": "code",
   "execution_count": 14,
   "id": "e606cd73-d77d-43d7-a9a0-133815ea49b6",
   "metadata": {
    "tags": []
   },
   "outputs": [],
   "source": [
    "def sym_BO_to_unsym_BO_op(state, unsym_BO_basis, indexes=False):\n",
    "\n",
    "    # identifies Sigma (Lambda = 0) states \n",
    "    if state['|Lambda|'] == 0 and state['|Sigma|'] == 0:\n",
    "\n",
    "        Sigma_unsym_state = {}\n",
    "        for key in state.keys():\n",
    "            if key in ['kappa']: \n",
    "                pass\n",
    "            elif key[0] != \"|\": \n",
    "                Sigma_unsym_state[key] = state[key]\n",
    "            else:\n",
    "                Sigma_unsym_state[key[1:-1]] = 0 # set Lambda,Sigma,Omega = 0\n",
    "        if indexes:\n",
    "            # print([case_A_basis.index(Sigma_unsym_state)], [1])\n",
    "            return [unsym_BO_basis.index(Sigma_unsym_state)], [1],[Sigma_unsym_state]\n",
    "        \n",
    "         \n",
    "        # return converted state as ket |L,Lambda,S,I_BO,Sigma,Omega>\n",
    "        print('|'+''.join([str(val) for key, val in Sigma_unsym_state.items()])+'>')\n",
    "        return '|'+''.join([str(val) for key, val in Sigma_unsym_state.items()])+'>'\n",
    "\n",
    "    # identifies Pi (Lambda = 1) superposition states \n",
    "    else:\n",
    "        Pi_unsym_state_1, Pi_unsym_state_2 = {}, {}\n",
    "        for key in state.keys():\n",
    "            if key in ['kappa']:\n",
    "                pass\n",
    "            elif key[0] != \"|\":\n",
    "                Pi_unsym_state_1[key] = state[key]\n",
    "                Pi_unsym_state_2[key] = state[key]\n",
    "            elif key == \"|Lambda|\":\n",
    "                Pi_unsym_state_1[key[1:-1]] = state[key]\n",
    "                Pi_unsym_state_2[key[1:-1]] = -state[key] \n",
    "            elif key == \"|Sigma|\":\n",
    "                Pi_unsym_state_1[key[1:-1]] = state['|Omega|'] - Pi_unsym_state_1['Lambda']\n",
    "                Pi_unsym_state_2[key[1:-1]] = -state['|Omega|'] - Pi_unsym_state_2['Lambda']\n",
    "            elif key == \"|Omega|\":\n",
    "                Pi_unsym_state_1['Omega'] = state['|Omega|']\n",
    "                Pi_unsym_state_2['Omega'] = -state['|Omega|']\n",
    "        sign = '+' if state['kappa']*state['chi'] == 1 else '-'\n",
    "        if indexes:\n",
    "            # print([case_A_basis.index(Pi_unsym_state_1), case_A_basis.index(Pi_unsym_state_2)], [1,1 if sign == \"+\" else -1])\n",
    "            return [unsym_BO_basis.index(Pi_unsym_state_1), unsym_BO_basis.index(Pi_unsym_state_2)], [1,1 if sign == \"+\" else -1],[Pi_unsym_state_1,Pi_unsym_state_2]\n",
    "                # return state numbers (indices) for superposition states to build basis (Pi states), sign of each superposotion state\n",
    "        print('|'+''.join([str(val) for key, val in Pi_unsym_state_1.items()])+'>'+sign+'|'+''.join([str(val) for key, val in Pi_unsym_state_2.items()])+'>')\n",
    "        return '|'+''.join([str(val) for key, val in Pi_unsym_state_1.items()])+'>'+sign+'|'+''.join([str(val) for key, val in Pi_unsym_state_2.items()])+'>'"
   ]
  },
  {
   "cell_type": "code",
   "execution_count": null,
   "id": "5d2fd070-7488-43cb-8e07-040a99393933",
   "metadata": {
    "jupyter": {
     "source_hidden": true
    },
    "tags": []
   },
   "outputs": [],
   "source": [
    "for label, base in FS_symmetry_BO_states.items():\n",
    "    print('\\033[1m' +label+'\\033[0m',base)\n",
    "    for num,state in enumerate(base):\n",
    "        index= sym_BO_to_unsym_BO_op(state,unsym_BO_basis,indexes=False)\n",
    "        # print(index,sign,state)\n",
    "# for num, state in enumerate(unsym_BO_basis):\n",
    "#     print(num,state)"
   ]
  },
  {
   "cell_type": "markdown",
   "id": "386fc612-6f9f-4088-8561-c4e983ce2b10",
   "metadata": {},
   "source": [
    "### unsymmetrized Born-Oppenheimer to ls basis transformation "
   ]
  },
  {
   "cell_type": "markdown",
   "id": "cbc998fb-e841-4ccc-ad3a-9af9af204ac6",
   "metadata": {},
   "source": [
    "#### unsymmetrized BO to ls transformation matrix"
   ]
  },
  {
   "cell_type": "markdown",
   "id": "7a872ee5-073c-454e-b783-f8a7a8e6f9c2",
   "metadata": {},
   "source": [
    "$|l_{a}, m_{l_a}, s_{a}, m_{s_a}, l_{b}, m_{l_b}, s_{b}, m_{s_b} \\rangle \\langle L, \\Lambda, S, \\Sigma, \\Omega ,\\chi   |\\\\ $ this operator is an intermediate step in the transformation between the symmetrized BO basis and j basis"
   ]
  },
  {
   "cell_type": "markdown",
   "id": "f7ab7de4-78fa-4f75-9efa-7b591c4498ef",
   "metadata": {},
   "source": [
    "for states ${|L, \\Lambda, S, \\Sigma, \\Omega,\\chi \\rangle}_p$  and ${|l_{a}, m_{l_a}, s_{a}, m_{s_a}, l_{b}, m_{l_b}, s_{b}, m_{s_b}  \\rangle}_q$ <kb> where p = 0,1,2,...,23 and q = 0,1,2,...,63\n"
   ]
  },
  {
   "cell_type": "markdown",
   "id": "8e53dfdb-a12b-48cd-919b-c018194cb239",
   "metadata": {},
   "source": [
    "we need to find $ _q\\langle {l_a, m_{l_a}, s_a, m_{s_a},l_b, m_{l_b},s_b, m_{s_b}|}{L, \\Lambda, S, \\Sigma, \\Omega,\\chi \\rangle}_p=(-1)^{S \\cdot l_a}\\chi^{l_a} \\ C_{{(l_a m_{l_a} l_b m_{l_b})}_p}^{{(L \\Lambda)}_q}C_{{(s_a m_{s_a} s_b m_{s_b})}_p}^{{(S \\Sigma)}_q}$ for permuations of p and q"
   ]
  },
  {
   "cell_type": "markdown",
   "id": "14e6bbb9-7bd4-4250-8c1c-75ef215477b2",
   "metadata": {},
   "source": [
    "let $ \\ \\ \\ C_{(ls)_q}^{(BO)_p}=(-1)^{S_p \\cdot l_a }\\chi_p^{l_a}  \\ C_{{(l_a m_{l_a} l_b m_{l_b})}_q}^{{(\\Lambda \\lambda_a)}_p}C_{{(s_a m_{s_a} s_b m_{s_b})}_q}^{{(S \\Sigma)}_p}$ "
   ]
  },
  {
   "cell_type": "markdown",
   "id": "49cfcde5-b270-4c7b-be1d-eb97f8c38286",
   "metadata": {
    "tags": []
   },
   "source": [
    "The case A BO to ls operator is a 64x24 matrix of the form"
   ]
  },
  {
   "cell_type": "markdown",
   "id": "8187ae4f-19fc-4b49-b514-26d6e118854c",
   "metadata": {},
   "source": [
    "\n",
    "$\\left(\\begin{array}{ccccc}\n",
    "C_{(ls)_0}^{(BO)_0} & C_{(ls)_0}^{(BO)_1} & C_{(ls)_0}^{(BO)_2} & \\cdots & C_{(ls)_0}^{(BO)_{23}} \\\\\n",
    "C_{(ls)_1}^{(BO)_0} & C_{(ls)_1}^{(BO)_1} & C_{(ls)_1}^{(BO)_2} & \\cdots & C_{(ls)_1}^{(BO)_{23}}\\\\\n",
    "C_{(ls)_2}^{(BO)_0} & C_{(ls)_2}^{(BO)_1} & C_{(ls)_2}^{(BO)_2} & \\cdots & C_{(ls)_2}^{(BO)_{23}}\\\\\n",
    "\\vdots & \\vdots & \\vdots & \\ddots \\\\\n",
    "C_{(ls)_{63}}^{BO_{0}} & C_{(ls)_{63}}^{BO_{1}} & C_{(ls)_{63}}^{BO_{2}} & \\cdots & C_{(ls)_{63}}^{BO_{23}}\n",
    "\\end{array}\\right)$"
   ]
  },
  {
   "cell_type": "code",
   "execution_count": 15,
   "id": "270c585e-c061-4c9a-a3f9-19953e397128",
   "metadata": {
    "tags": []
   },
   "outputs": [],
   "source": [
    "def unsym_BO_to_ls_op(unsym_BO_basis,ls_basis): \n",
    "    op = np.zeros((len(ls_basis), len(unsym_BO_basis)))\n",
    "    for ls_num, ls_state in enumerate(ls_basis): \n",
    "        for unsym_num, unsym_state in enumerate(unsym_BO_basis):\n",
    "            if (unsym_state['S'] not in np.arange(abs(ls_state['s_a']-ls_state['s_b']), ls_state['s_a'] + ls_state['s_b']+1,1) \n",
    "                or unsym_state['Lambda'] != ls_state['m_l_a']+ls_state['m_l_b'] \n",
    "                or unsym_state['Sigma'] != ls_state['m_s_a'] + ls_state['m_s_b'] \n",
    "                or ls_state['l_a'] == ls_state['l_b']): \n",
    "                continue\n",
    "            op[ls_num,unsym_num] = ((1/np.sqrt(2))*((-1)**unsym_state['S']*unsym_state['chi'])**ls_state['l_a']*float(CG(ls_state['l_a'], ls_state['m_l_a'], ls_state['l_b'], ls_state['m_l_b'], unsym_state['L'], unsym_state['Lambda']).doit())\n",
    "                                    *float(CG(ls_state['s_a'], ls_state['m_s_a'], ls_state['s_b'], ls_state['m_s_b'], unsym_state['S'], unsym_state['Sigma']).doit()))\n",
    "        op[ls_num,:] /= np.linalg.norm(op[ls_num,:])\n",
    "        op[np.isnan(op)] = 0\n",
    "    return op           "
   ]
  },
  {
   "cell_type": "code",
   "execution_count": null,
   "id": "d311e63f-5555-4b82-82b1-e0f8846b9269",
   "metadata": {
    "jupyter": {
     "source_hidden": true
    },
    "tags": []
   },
   "outputs": [],
   "source": [
    "# ls_basis,j_basis = create_seperate_atom_bases([0,1],[1/2])\n",
    "# unsym_BO_to_ls_op = unsym_BO_to_ls_op(unsym_BO_basis,ls_basis)\n",
    "# print(np.shape(unsym_BO_to_ls_op))\n",
    "# print(unsym_BO_to_ls_op)"
   ]
  },
  {
   "cell_type": "markdown",
   "id": "3442da38-75b8-4a17-a1e5-64cc05dc020d",
   "metadata": {},
   "source": [
    "#### get column state "
   ]
  },
  {
   "cell_type": "markdown",
   "id": "e900b06b-0b25-4536-bb23-ef65a3ffa8ba",
   "metadata": {},
   "source": [
    "creates 24x24 identity matrix as list of lists"
   ]
  },
  {
   "cell_type": "code",
   "execution_count": 16,
   "id": "97ed3fc4-736e-41cd-a5f0-0136404a7f21",
   "metadata": {
    "tags": []
   },
   "outputs": [],
   "source": [
    "def get_column_state(unsym_BO_basis, basis_states):\n",
    "    column_state = [[0] for _ in range(len(unsym_BO_basis))] # create list of 24 [0]'s \n",
    "    for num, state in enumerate(unsym_BO_basis): # 24 states\n",
    "        # print(num,state)\n",
    "        match = True\n",
    "        for qnum, val in basis_states.items(): \n",
    "            # print(qnum,val,state[qnum])\n",
    "            if val != state[qnum]:\n",
    "                match = False\n",
    "        if match: # indicate column state where quantumNums = state\n",
    "            column_state[num][0] = 1 \n",
    "            # print(column_state)\n",
    "            return column_state\n",
    "        # returns 24 lists of length 24 containing one entry of [1] along diagonal\n",
    "    raise ValueError(\"No Match! nums were\" + str(basis_states))"
   ]
  },
  {
   "cell_type": "markdown",
   "id": "3ab3ec67-62ec-47d0-b136-648dca8d521c",
   "metadata": {},
   "source": [
    "#### unsymmetrized BO to ls basis: grouped by FS symmetry"
   ]
  },
  {
   "cell_type": "code",
   "execution_count": 17,
   "id": "cb69f694-8555-47ca-87bf-d97facc43f97",
   "metadata": {},
   "outputs": [],
   "source": [
    "def unsym_BO_to_ls_grouped(FS_sym_BO_state, ls_basis, unsym_BO_basis):\n",
    "    final_matrix = np.zeros((len(FS_sym_BO_state),len(ls_basis)))\n",
    "    unsym_BO_to_ls_matrix = unsym_BO_to_ls_op(unsym_BO_basis,ls_basis)\n",
    "    \n",
    "    for sym_BO_state_num, sym_BO_state in enumerate(FS_sym_BO_state):  # iterate through expanded BO states grouped by FS symetry\n",
    "        # print(sym_BO_state)\n",
    "        indexes, signs, state = sym_BO_to_unsym_BO_op(sym_BO_state, unsym_BO_basis, indexes=True) # for each expanded BO state, find index and sign of case A transformed state\n",
    "        new_state = 0 \n",
    "\n",
    "        # for superpostion states\n",
    "        if sym_BO_state['|Omega|'] != 0: # group indices and signs together\n",
    "            indexes = [indexes[0]] #[5, 4] [1, -1] --> [5,1] \n",
    "            signs = [signs[0]] # [5, 4] [1, -1] --> [4,-1]\n",
    "        for index, sign in zip(indexes,signs): # group index and sign in list of tuples [(index 1,sign 1), (index 2,sign 2)]\n",
    "            unsym_state = unsym_BO_basis[index] # find case A states corresponding to index\n",
    "            column_state_matrix = get_column_state(unsym_BO_basis, unsym_state) # find corresponding column state for unsym row state\n",
    "            new_state += sign * unsym_BO_to_ls_matrix@ column_state_matrix  \n",
    "            # print('new state',new_state[:,0]/ np.sqrt(len(indexes)))\n",
    "        final_matrix[sym_BO_state_num, :] = new_state[:,0] / np.sqrt(len(indexes));   \n",
    "    # print('final matrix',final_matrix)\n",
    "    return final_matrix\n",
    "\n",
    "\n",
    "# unsym_BO_basis = create_unsym_BO_basis([1],[0,1]) \n",
    "# for fs_sym_label, fs_sym_bo_state in FS_symmetry_BO_states.items():\n",
    "#     print('\\033[1m' +fs_sym_label+'\\033[0m')\n",
    "#     unsym_BO_to_ls = unsym_BO_to_ls_grouped(fs_sym_bo_state, ls_basis, unsym_BO_basis).T\n",
    "    # print(unsym_BO_to_ls)\n"
   ]
  },
  {
   "cell_type": "markdown",
   "id": "9a84110b-11de-4687-baa4-ff7fa6f398b9",
   "metadata": {},
   "source": [
    "### transform fine structure Hamiltonian to unsymmetrized BO basis"
   ]
  },
  {
   "cell_type": "code",
   "execution_count": 18,
   "id": "0960a5a2-9781-4b7c-a0c1-6d18ea34503f",
   "metadata": {},
   "outputs": [
    {
     "ename": "TypeError",
     "evalue": "create_seperate_atom_bases() missing 1 required positional argument: 'i_vals'",
     "output_type": "error",
     "traceback": [
      "\u001b[0;31m---------------------------------------------------------------------------\u001b[0m",
      "\u001b[0;31mTypeError\u001b[0m                                 Traceback (most recent call last)",
      "Input \u001b[0;32mIn [18]\u001b[0m, in \u001b[0;36m<cell line: 3>\u001b[0;34m()\u001b[0m\n\u001b[1;32m      1\u001b[0m delta \u001b[38;5;241m=\u001b[39m (\u001b[38;5;241m384.2304844685e12\u001b[39m\u001b[38;5;241m-\u001b[39m\u001b[38;5;241m377.1074635e12\u001b[39m)\u001b[38;5;241m*\u001b[39m\u001b[38;5;241m6.6260700e-34\u001b[39m\n\u001b[1;32m      2\u001b[0m \u001b[38;5;66;03m# delta = 3\u001b[39;00m\n\u001b[0;32m----> 3\u001b[0m ls_basis,j_basis \u001b[38;5;241m=\u001b[39m \u001b[43mcreate_seperate_atom_bases\u001b[49m\u001b[43m(\u001b[49m\u001b[43m[\u001b[49m\u001b[38;5;241;43m0\u001b[39;49m\u001b[43m,\u001b[49m\u001b[38;5;241;43m1\u001b[39;49m\u001b[43m]\u001b[49m\u001b[43m,\u001b[49m\u001b[43m[\u001b[49m\u001b[38;5;241;43m1\u001b[39;49m\u001b[38;5;241;43m/\u001b[39;49m\u001b[38;5;241;43m2\u001b[39;49m\u001b[43m]\u001b[49m\u001b[43m)\u001b[49m\n\u001b[1;32m      4\u001b[0m sym_BO_states \u001b[38;5;241m=\u001b[39m create_sym_BO_states(\u001b[38;5;241m0\u001b[39m,\u001b[38;5;241m1\u001b[39m,\u001b[38;5;241m1\u001b[39m\u001b[38;5;241m/\u001b[39m\u001b[38;5;241m2\u001b[39m,\u001b[38;5;241m1\u001b[39m\u001b[38;5;241m/\u001b[39m\u001b[38;5;241m2\u001b[39m) \n\u001b[1;32m      5\u001b[0m FS_symmetry_BO_states \u001b[38;5;241m=\u001b[39m group_BO_states_by_FS_symmetry(sym_BO_states)\n",
      "\u001b[0;31mTypeError\u001b[0m: create_seperate_atom_bases() missing 1 required positional argument: 'i_vals'"
     ]
    }
   ],
   "source": [
    "delta = (384.2304844685e12-377.1074635e12)*6.6260700e-34\n",
    "# delta = 3\n",
    "ls_basis,j_basis = create_seperate_atom_bases([0,1],[1/2])\n",
    "sym_BO_states = create_sym_BO_states(0,1,1/2,1/2) \n",
    "FS_symmetry_BO_states = group_BO_states_by_FS_symmetry(sym_BO_states)\n",
    "unsym_BO_basis = create_unsym_BO_basis([1],[0,1]) \n",
    "H_FS_op = create_H_FS(j_basis, delta)\n",
    "ls_to_j = ls_to_j_op(ls_basis, j_basis)\n",
    "\n",
    "\n",
    "H_fs_unsym = {}\n",
    "for fs_sym_label, fs_sym_bo_state in FS_symmetry_BO_states.items():\n",
    "    # print(fs_sym_label,fs_sym_bo_state)\n",
    "    unsym_to_ls = unsym_BO_to_ls_grouped(fs_sym_bo_state, ls_basis, unsym_BO_basis).T\n",
    "    unsym_to_j =  ls_to_j @ unsym_to_ls \n",
    "    H_fs_unsym[fs_sym_label] = unsym_to_j.T @ H_FS_op @ unsym_to_j #- np.identity(len(fs_sym_bo_state))*(delta / 3)\n",
    "# print(unsym_to_ls)\n",
    "for label, matrix in H_fs_unsym.items():\n",
    "    print('\\033[1m' +label+'\\033[0m \\n', matrix*1e21)"
   ]
  },
  {
   "cell_type": "markdown",
   "id": "d902cbed-0239-410e-b48a-da01d4ca81cc",
   "metadata": {},
   "source": [
    "### create BO Hamiltonian"
   ]
  },
  {
   "cell_type": "markdown",
   "id": "99a91910-0935-4ac1-a293-6f3b9fccc844",
   "metadata": {},
   "source": [
    "$ \\hat H_{BO} = \\sum_{|\\Lambda|, S, |\\Sigma|, |\\Omega|,\\chi, \\kappa} \\left|L ,|\\Lambda|, S, |\\Sigma|, |\\Omega|,\\chi, \\kappa \\right \\rangle E_{BO} \\langle L ,|\\Lambda|, S, |\\Sigma|, |\\Omega|,\\chi, \\kappa| $"
   ]
  },
  {
   "cell_type": "markdown",
   "id": "3952726f-d343-401a-a2b0-9a12f2e75492",
   "metadata": {},
   "source": [
    "This function creates a diagonal matrix of eigenvalues for all possible symmetrized BO states. Operates on BO basis states to give eigenvalues. Matrix elements are given by"
   ]
  },
  {
   "cell_type": "markdown",
   "id": "26fade74-94cc-46ae-91d1-137f8e7c980f",
   "metadata": {},
   "source": [
    "$\\langle L ,|\\Lambda|, S, |\\Sigma|, |\\Omega|,\\chi, \\kappa| |E_{BO} \\left|L ,|\\Lambda|, S, |\\Sigma|, |\\Omega|,\\chi, \\kappa \\right \\rangle $ where"
   ]
  },
  {
   "cell_type": "markdown",
   "id": "5444706d-0ab1-4067-9a70-a979ed933761",
   "metadata": {},
   "source": [
    "$E_{BO}=\\frac{2C_3}{R^{3}[(1 + |\\Lambda|)!]^2} (-1)^{|\\Lambda|+S}\\chi $ "
   ]
  },
  {
   "cell_type": "markdown",
   "id": "7dcfb97e-1ef7-48ee-9fdb-9a9d233c7466",
   "metadata": {},
   "source": [
    "Energies are contained in a 16x16 diagonal matrix of the form"
   ]
  },
  {
   "cell_type": "markdown",
   "id": "9f15e9ca-e47a-442b-8c2c-7fa5ab3d4f85",
   "metadata": {
    "tags": []
   },
   "source": [
    "\n",
    "$\\left(\\begin{array}{ccccc}\n",
    "E_{0,0} & 0 & 0 & \\cdots & 0 \\\\\n",
    "0 & E_{1,1} & 0 & \\cdots & 0\\\\\n",
    "0 & 0 & E_{2,2} & \\cdots & 0\\\\\n",
    "\\vdots & \\vdots & \\vdots & \\ddots \\\\\n",
    "0 & 0 & 0 & \\cdots & E_{15,15}\n",
    "\\end{array}\\right)$"
   ]
  },
  {
   "cell_type": "code",
   "execution_count": 19,
   "id": "3b67ddb3-0fb5-4306-b4c9-938984925add",
   "metadata": {},
   "outputs": [],
   "source": [
    "C3_val = 5.94492796981645e-48\n",
    "a_0 = 0.52917721067e-10\n",
    "h = 6.6260700e-34\n",
    "def create_H_BO(C3, R, sym_BO_basis):\n",
    "    H_BO = np.zeros((len(sym_BO_basis),len(sym_BO_basis)))\n",
    "    for num, state in enumerate(sym_BO_basis):\n",
    "        # print(num,state)\n",
    "        H_BO[num,num] = (2*(C3/R**3)*(-1)**(state['|Lambda|']+state['S'])*state['chi']\n",
    "                        /(math.factorial(1+state['|Lambda|'])*math.factorial(1-state['|Lambda|'])))\n",
    "    return H_BO"
   ]
  },
  {
   "cell_type": "code",
   "execution_count": null,
   "id": "ba28fc93-0a28-453b-a5bc-9507b073554e",
   "metadata": {
    "jupyter": {
     "source_hidden": true
    },
    "tags": []
   },
   "outputs": [],
   "source": [
    "allBases = {**FS_symmetry_BO_states}\n",
    "data = {}\n",
    "for basisNum, (label, basis) in enumerate(allBases.items()):\n",
    "    rMatrix = new_create_H_BO(1, 1, basis) #+ H_fs_unsym[label]*1e21\n",
    "    print('\\033[1m' +label+'\\033[0m \\n', rMatrix)"
   ]
  },
  {
   "cell_type": "code",
   "execution_count": null,
   "id": "c729f2e3-ba43-4ad1-96f6-64fa3156f69c",
   "metadata": {
    "jupyter": {
     "source_hidden": true
    },
    "tags": []
   },
   "outputs": [],
   "source": [
    "C3_val = 1\n",
    "sym_BO_states = create_sym_BO_states(0,1,1/2,1/2)\n",
    "H_tots = new_create_H_BO(C3_val, 1, sym_BO_states)\n",
    "print(H_tots)"
   ]
  },
  {
   "cell_type": "markdown",
   "id": "1ea7a4b4-9aaf-4c05-8707-130c80bbf1ea",
   "metadata": {},
   "source": [
    "### diagonlize Movre-Pischler matrices"
   ]
  },
  {
   "cell_type": "code",
   "execution_count": 20,
   "id": "7a94ef8c-92f4-439d-beac-879199b4a66e",
   "metadata": {},
   "outputs": [],
   "source": [
    "\n",
    "# colors = []\n",
    "# for i in range(len(FS_symmetry_BO_states.items())):\n",
    "#     colors.append('#%06X' % randint(0, 0xFFFFFF))\n",
    "def getColors(num, rgb=False, cmStr='nipy_spectral'):\n",
    "    \"\"\"\n",
    "    Get an array of colors, typically to use for plotting.\n",
    "\n",
    "    :param rgb: an option to return the colors as an rgb tuple instead of a hex.\n",
    "    :param num: number of colors to get\n",
    "    :return: the array of colors, hex or rgb (see above)\n",
    "    \"\"\"\n",
    "    #rowSize = 8\n",
    "    #maps = ['Greys', 'Blues', 'Greens', 'Reds', 'Oranges', 'copper', 'Purples', 'pink']\n",
    "    #cmapRGB = get_cmap('brg', num-1)\n",
    "    #c = []\n",
    "    #for m in maps:\n",
    "    #    cmapRGB = get_cmap(m, rowSize+1)\n",
    "    #    for i in range(rowSize):\n",
    "    #        c.append(cmapRGB(i+1)[:-1])\n",
    "    cmapRGB = get_cmap(cmStr, num+1)\n",
    "    c = [cmapRGB(i)[:-1] for i in range(num+1)][:]\n",
    "    c = c[1:]\n",
    "    \n",
    "    if rgb:\n",
    "        return c\n",
    "    # the negative of the first color\n",
    "    c2 = [tuple(np.array((1, 1, 1)) - np.array(color)) for color in c]\n",
    "    c = ['#%02x%02x%02x' % tuple(int(255 * color[i]) for i in range(len(color))) for color in c]\n",
    "    c2 = ['#%02x%02x%02x' % tuple(int(255 * color[i]) for i in range(len(color))) for color in c2]\n",
    "    return c, c2\n"
   ]
  },
  {
   "cell_type": "code",
   "execution_count": 21,
   "id": "f0cdc1c2-3b66-4adc-bb8e-a2577c1c27e1",
   "metadata": {},
   "outputs": [
    {
     "ename": "NameError",
     "evalue": "name 'FS_symmetry_BO_states' is not defined",
     "output_type": "error",
     "traceback": [
      "\u001b[0;31m---------------------------------------------------------------------------\u001b[0m",
      "\u001b[0;31mNameError\u001b[0m                                 Traceback (most recent call last)",
      "Input \u001b[0;32mIn [21]\u001b[0m, in \u001b[0;36m<cell line: 8>\u001b[0;34m()\u001b[0m\n\u001b[1;32m      6\u001b[0m Rvals \u001b[38;5;241m=\u001b[39m np\u001b[38;5;241m.\u001b[39mlinspace( \u001b[38;5;241m20\u001b[39m \u001b[38;5;241m*\u001b[39m a_0 , \u001b[38;5;241m2000\u001b[39m \u001b[38;5;241m*\u001b[39m a_0, \u001b[38;5;241m3000\u001b[39m )\n\u001b[1;32m      7\u001b[0m eigvals_by_label \u001b[38;5;241m=\u001b[39m {}\n\u001b[0;32m----> 8\u001b[0m FS_symmetry_BO_states \u001b[38;5;241m=\u001b[39m {\u001b[38;5;241m*\u001b[39m\u001b[38;5;241m*\u001b[39m\u001b[43mFS_symmetry_BO_states\u001b[49m} \n\u001b[1;32m      9\u001b[0m linestyles\u001b[38;5;241m=\u001b[39m[\u001b[38;5;124m'\u001b[39m\u001b[38;5;124m:\u001b[39m\u001b[38;5;124m'\u001b[39m,\u001b[38;5;124m'\u001b[39m\u001b[38;5;124m-\u001b[39m\u001b[38;5;124m'\u001b[39m,\u001b[38;5;124m'\u001b[39m\u001b[38;5;124m-.\u001b[39m\u001b[38;5;124m'\u001b[39m,\u001b[38;5;124m'\u001b[39m\u001b[38;5;124m:\u001b[39m\u001b[38;5;124m'\u001b[39m,\u001b[38;5;124m'\u001b[39m\u001b[38;5;124m-\u001b[39m\u001b[38;5;124m'\u001b[39m,\u001b[38;5;124m'\u001b[39m\u001b[38;5;124m-.\u001b[39m\u001b[38;5;124m'\u001b[39m,\u001b[38;5;124m'\u001b[39m\u001b[38;5;124m:\u001b[39m\u001b[38;5;124m'\u001b[39m,\u001b[38;5;124m'\u001b[39m\u001b[38;5;124m-\u001b[39m\u001b[38;5;124m'\u001b[39m,\u001b[38;5;124m'\u001b[39m\u001b[38;5;124m-.\u001b[39m\u001b[38;5;124m'\u001b[39m,\u001b[38;5;124m'\u001b[39m\u001b[38;5;124m:\u001b[39m\u001b[38;5;124m'\u001b[39m,\u001b[38;5;124m'\u001b[39m\u001b[38;5;124m-\u001b[39m\u001b[38;5;124m'\u001b[39m,\u001b[38;5;124m'\u001b[39m\u001b[38;5;124m-.\u001b[39m\u001b[38;5;124m'\u001b[39m]\n\u001b[1;32m     10\u001b[0m colors, _ \u001b[38;5;241m=\u001b[39m getColors(\u001b[38;5;28mlen\u001b[39m(FS_symmetry_BO_states), cmStr\u001b[38;5;241m=\u001b[39m\u001b[38;5;124m'\u001b[39m\u001b[38;5;124mviridis\u001b[39m\u001b[38;5;124m'\u001b[39m)\n",
      "\u001b[0;31mNameError\u001b[0m: name 'FS_symmetry_BO_states' is not defined"
     ]
    },
    {
     "data": {
      "image/png": "[encoded data removed]",
      "text/plain": [
       "<Figure size 1440x864 with 4 Axes>"
      ]
     },
     "metadata": {
      "needs_background": "light"
     },
     "output_type": "display_data"
    }
   ],
   "source": [
    "a_0 = 0.52917721067e-10\n",
    "C3_val = 5.94492796981645e-48\n",
    "fig, axs = plt.subplots(2,2,figsize=(20,12))\n",
    "mpl.rcParams['font.size'] = 20\n",
    "\n",
    "Rvals = np.linspace( 20 * a_0 , 2000 * a_0, 3000 )\n",
    "eigvals_by_label = {}\n",
    "FS_symmetry_BO_states = {**FS_symmetry_BO_states} \n",
    "linestyles=[':','-','-.',':','-','-.',':','-','-.',':','-','-.']\n",
    "colors, _ = getColors(len(FS_symmetry_BO_states), cmStr='viridis')\n",
    "for label_num, (label, state) in enumerate(FS_symmetry_BO_states.items()):\n",
    "    for R in Rvals:\n",
    "        H_total = create_H_BO(C3_val, R, state) + H_fs_unsym[label]\n",
    "        if label not in eigvals_by_label:\n",
    "            eigvals_by_label[label]=[]\n",
    "        eigvals_by_label[label].append(sorted(np.linalg.eigvals(H_total)))\n",
    "        \n",
    "\n",
    "for ax in axs.flatten():\n",
    "    for num, label in enumerate(eigvals_by_label.keys()):\n",
    "        linestyle = linestyles[num]\n",
    "        linecolor = colors[num]\n",
    "        if len(np.array(eigvals_by_label[label]).shape) == 2 or len(np.array(eigvals_by_label[label]).shape) == 3:\n",
    "            eigvals_ordered = list(map(list, zip(*eigvals_by_label[label])))\n",
    "            for line_num, line_data in enumerate(eigvals_ordered):\n",
    "                ax.plot(Rvals*1e9, np.array(line_data) * 1e-9 / h, \n",
    "                        label=label if line_num == 0 else None, color=linecolor, linestyle=linestyle, lw=3)\n",
    "        else:\n",
    "            ax.plot(Rvals*1e9, np.array(mdata) * 1e-9 / h, \n",
    "                    label=name, color=linecolor, linestyle=linestyle)\n",
    "    # ax.grid(alpha=0.1)\n",
    "    # ax.axhline(0.1937408, alpha=0.2,color='r', label='F States')\n",
    "\n",
    "# plt.rcParams[\"figure.figsize\"] = [20, 12]\n",
    "# plt.rcParams[\"figure.autolayout\"] = True\n",
    "plt.rcParams[\"axes.edgecolor\"] = \"black\"\n",
    "plt.rcParams[\"axes.linewidth\"] = 1.50    \n",
    "axs[1,0].set_xlabel('Inter-nuclear distance (nm)')\n",
    "axs[1,1].set_xlabel('Inter-nuclear distance (nm)')\n",
    "axs[0,0].set_ylabel('Energy (GHz)')\n",
    "axs[1,0].set_ylabel('Energy (GHz)')\n",
    "axs[0,0].set_xlim(min(Rvals)*1e9,max(Rvals)*1e9/20)\n",
    "axs[0,0].legend(ncol=9, fontsize=15, bbox_to_anchor=[0.5,0.87,1,0.5], loc='center')\n",
    "axs[0,1].set_xlim(min(Rvals)*1e9,max(Rvals)*1e9/10)\n",
    "axs[0,1].set_ylim(-1000, 500)\n",
    "axs[1,1].set_xlim(min(Rvals)*1e9,max(Rvals)*1e9)\n",
    "axs[1,1].set_ylim(-0.35, 0.25)\n",
    "axs[1,0].set_xlim(min(Rvals)*1e9,max(Rvals)*1e9/10)\n",
    "axs[1,0].set_ylim(-8000, -6000);\n",
    "plt.rcParams['figure.dpi'] = 300\n",
    "font = {'family' : 'normal',\n",
    "        'size'   : 22}\n",
    "mpl.font_manager\n",
    "matplotlib.rc('font', **font)\n",
    "# fig.text(0.03, 0.5, \"Energy (GHz)\", rotation=90, verticalalignment='center')\n",
    "# fig.text(0.5, 0.03, \"Inter-Nuclear Distance (nm)\", horizontalalignment='center');\n",
    "# #plt.savefig('Movre-Pischler.png', dpi=200)www\n",
    "\n",
    "# plt.plot(Rval*1e9,Htot9,color = 'lightgray', label = 'S + P ')\n",
    "# plt.plot(Rval*1e9,Htot10,color = 'lightpink')\n",
    "# plt.legend(loc='upper center', mode = \"expand\", ncol = 8)\n",
    "# plt.legend(ncol=9, fontsize=20, bbox_to_anchor=[0.0,0.8,1,0.5], loc='center')"
   ]
  },
  {
   "cell_type": "markdown",
   "id": "6444c1ac-301f-465d-91f7-796aae5484e6",
   "metadata": {},
   "source": [
    "### Movre-Pichler and Born-Oppenheimer on same plot"
   ]
  },
  {
   "cell_type": "code",
   "execution_count": 80,
   "id": "b61aac1d-917b-4dd2-9cbf-c98ea6498cff",
   "metadata": {},
   "outputs": [
    {
     "data": {
      "image/png": "[encoded data removed]",
      "text/plain": [
       "<Figure size 2100x1200 with 1 Axes>"
      ]
     },
     "metadata": {
      "needs_background": "light"
     },
     "output_type": "display_data"
    }
   ],
   "source": [
    "C_3_val = C3_val\n",
    "Rval = np.linspace( 20 * a_0, 2000 * a_0, 1000 )\n",
    "# 3Pi_g, 1Pi_u\n",
    "Htot1 = []\n",
    "for a in Rval:\n",
    "    H = [C_3_val/a**3*1e-9/h]\n",
    "    Htot1.append(H)\n",
    "H1_e1 = Htot1\n",
    "# 1Pi_g, 3Pi_u\n",
    "Htot2 = []\n",
    "for a in Rval:\n",
    "    H = [-C_3_val/a**3*1e-9/h]\n",
    "    Htot2.append(H)    \n",
    "H2_e1 = Htot2  \n",
    "# 3E_g, 1E_u\n",
    "Htot3 = []\n",
    "for a in Rval:\n",
    "    H = [-2*C_3_val/a**3*1e-9/h]\n",
    "    Htot3.append(H);    \n",
    "H3_e1 = Htot3\n",
    "# 1E_g, 3E_u\n",
    "Htot4 = []\n",
    "for a in Rval:\n",
    "    H = [2*C_3_val/a**3*1e-9/h]\n",
    "    Htot4.append(H)\n",
    "    \n",
    "H4_e1 = Htot4\n",
    "a_0 = 0.52917721067e-10\n",
    "C3_val = 5.94492796981645e-48\n",
    "# fig, axs = plt.subplots(2,2,figsize=(20,12))\n",
    "from matplotlib.pyplot import figure\n",
    "figure(figsize=(7, 4))\n",
    "Rvals = np.linspace( 20 * a_0 , 2000 * a_0, 3000 )\n",
    "eigvals_by_label = {}\n",
    "FS_symmetry_BO_states = {**FS_symmetry_BO_states} \n",
    "linestyles=[':','-','-.',':','-','-.',':','-','-.',':','-','-.']\n",
    "colors, _ = getColors(len(FS_symmetry_BO_states), cmStr='viridis')\n",
    "for label_num, (label, state) in enumerate(FS_symmetry_BO_states.items()):\n",
    "    for R in Rvals:\n",
    "        H_total = create_H_BO(C3_val, R, state) + H_fs_unsym[label]\n",
    "        if label not in eigvals_by_label:\n",
    "            eigvals_by_label[label]=[]\n",
    "        eigvals_by_label[label].append(sorted(np.linalg.eigvals(H_total)))\n",
    "        \n",
    "\n",
    "\n",
    "for num, label in enumerate(eigvals_by_label.keys()):\n",
    "    linestyle = linestyles[num]\n",
    "    linecolor = colors[num]\n",
    "    if len(np.array(eigvals_by_label[label]).shape) == 2 or len(np.array(eigvals_by_label[label]).shape) == 3:\n",
    "        eigvals_ordered = list(map(list, zip(*eigvals_by_label[label])))\n",
    "        for line_num, line_data in enumerate(eigvals_ordered):\n",
    "            # print(line_num)\n",
    "            plt.plot(Rvals*1e9, np.array(line_data) * 1e-9 / h, \n",
    "                    label='Movre-Pichler' if line_num == 2 and label=='1g' else None, color='limegreen', linestyle= '-', lw=1)\n",
    "    else:\n",
    "        plt.plot(Rvals*1e9, np.array(mdata) * 1e-9 / h, \n",
    "                label=name, color=linecolor, linestyle=linestyle)\n",
    "    # ax.grid(alpha=0.1)\n",
    "    # ax.axhline(0.1937408, alpha=0.2,color='r', label='F States')\n",
    "\n",
    "bo_color = 'teal' \n",
    "bo_label = 'Born-Oppenheimer'\n",
    "plt.plot(Rval*1e9,H2_e1,color = bo_color, label = bo_label)\n",
    "plt.plot(Rval*1e9,H1_e1,color = bo_color )  \n",
    "plt.plot(Rval*1e9,H3_e1,color = bo_color)\n",
    "plt.plot(Rval*1e9,H4_e1,color = bo_color)\n",
    "plt.plot(Rval*1e9,H1_e1,color = bo_color) \n",
    "plt.plot(Rval*1e9,H2_e1,color = bo_color)\n",
    "plt.plot(Rval*1e9,H3_e1,color = bo_color) ### 0^g+ in Marks calc\n",
    "plt.plot(Rval*1e9,H4_e1,color = bo_color)\n",
    "plt.rcParams[\"axes.edgecolor\"] = \"black\"\n",
    "plt.rcParams[\"axes.linewidth\"] = 1.50    \n",
    "plt.legend()\n",
    "plt.xlim(1,5)\n",
    "plt.xlabel('Internuclear Distance (nm)')\n",
    "plt.ylabel('Energy/h (GHz)')\n",
    "plt.rcParams['figure.dpi'] = 300\n",
    "font = {'family' : 'normal',\n",
    "        'size'   : 12}\n",
    "mpl.font_manager\n",
    "matplotlib.rc('font', **font)"
   ]
  },
  {
   "cell_type": "code",
   "execution_count": null,
   "id": "8120dfb6-ab32-4d5d-8b9a-3e6116865c58",
   "metadata": {},
   "outputs": [],
   "source": []
  }
 ],
 "metadata": {
  "kernelspec": {
   "display_name": "Python 3 (ipykernel)",
   "language": "python",
   "name": "python3"
  },
  "language_info": {
   "codemirror_mode": {
    "name": "ipython",
    "version": 3
   },
   "file_extension": ".py",
   "mimetype": "text/x-python",
   "name": "python",
   "nbconvert_exporter": "python",
   "pygments_lexer": "ipython3",
   "version": "3.10.5"
  }
 },
 "nbformat": 4,
 "nbformat_minor": 5
}
