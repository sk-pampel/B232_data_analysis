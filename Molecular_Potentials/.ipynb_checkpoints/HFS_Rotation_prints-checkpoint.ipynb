version https://git-lfs.github.com/spec/v1
oid sha256:3eefaae1fbe6d148c2c9071b485092a5c7cd752ecbedb863d9619d87e4da501c
size 151867
