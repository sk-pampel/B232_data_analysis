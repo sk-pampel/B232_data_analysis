version https://git-lfs.github.com/spec/v1
oid sha256:df2a2435f882a33b3cb258c2a496118f5aee2d64fb44b5d41ae17b80b292ba97
size 1235334
