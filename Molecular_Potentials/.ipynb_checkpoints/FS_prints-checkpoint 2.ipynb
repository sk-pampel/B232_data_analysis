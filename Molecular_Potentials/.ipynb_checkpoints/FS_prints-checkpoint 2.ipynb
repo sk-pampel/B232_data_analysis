version https://git-lfs.github.com/spec/v1
oid sha256:da3e6e171e1a2acbce8c04acf28fc7432446caf34e883a8bda055b98f4179c60
size 3999131
