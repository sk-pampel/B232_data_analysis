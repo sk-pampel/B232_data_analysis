version https://git-lfs.github.com/spec/v1
oid sha256:e07827522a710b289b6468e6bf20a81ae74e723e38a6826e93d6c5f46a3a29f1
size 1864931
