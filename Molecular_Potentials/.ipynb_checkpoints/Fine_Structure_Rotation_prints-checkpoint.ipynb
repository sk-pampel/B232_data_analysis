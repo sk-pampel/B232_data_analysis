version https://git-lfs.github.com/spec/v1
oid sha256:83ad2fbf2e2f79a846095e600aa614bb932fdc3e0b1512bb6b755041bcd92584
size 1472740
