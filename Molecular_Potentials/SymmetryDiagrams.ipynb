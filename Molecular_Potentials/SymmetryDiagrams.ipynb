version https://git-lfs.github.com/spec/v1
oid sha256:fc5137ff0b4e3ab97ef9740ab89d22da26fcd947c76312c45f754c3b7b090961
size 1235334
