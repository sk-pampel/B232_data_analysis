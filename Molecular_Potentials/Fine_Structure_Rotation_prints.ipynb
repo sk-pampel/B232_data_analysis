version https://git-lfs.github.com/spec/v1
oid sha256:de1bf185a24e5ede9234f93ef6b8ea2164bc918e8cd8695c6f08570af1f7b3d9
size 1472740
