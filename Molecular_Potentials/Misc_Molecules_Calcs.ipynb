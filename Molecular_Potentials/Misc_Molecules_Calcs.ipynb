version https://git-lfs.github.com/spec/v1
oid sha256:9a2a8f8d376e76c801a8f47c5cbf3e941a248f76cfad9fd23265624e25228185
size 1871491
