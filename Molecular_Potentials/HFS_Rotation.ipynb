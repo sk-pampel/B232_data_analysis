version https://git-lfs.github.com/spec/v1
oid sha256:721e58f632e190b5ca6fcf070455ec857993a053526922e8051112c92b1e254b
size 152545
