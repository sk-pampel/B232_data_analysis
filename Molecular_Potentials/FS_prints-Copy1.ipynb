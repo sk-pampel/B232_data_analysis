version https://git-lfs.github.com/spec/v1
oid sha256:9b8d87950e216dd36280ffd534692cfa8c794b7e6e134842196b1a0bd8c9d547
size 3587660
