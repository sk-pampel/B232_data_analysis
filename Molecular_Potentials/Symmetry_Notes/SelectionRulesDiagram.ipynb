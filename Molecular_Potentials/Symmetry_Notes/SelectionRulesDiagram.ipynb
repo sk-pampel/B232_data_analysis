version https://git-lfs.github.com/spec/v1
oid sha256:31f49a4e55bc1f73fc11472d381dcdd42298f04966076ff3bce22797955c7e79
size 115882
