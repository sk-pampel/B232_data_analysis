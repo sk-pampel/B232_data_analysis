version https://git-lfs.github.com/spec/v1
oid sha256:006b055823279adb40c788f32963d486acfe2014305ffe79122586bb48fc3316
size 1255455
