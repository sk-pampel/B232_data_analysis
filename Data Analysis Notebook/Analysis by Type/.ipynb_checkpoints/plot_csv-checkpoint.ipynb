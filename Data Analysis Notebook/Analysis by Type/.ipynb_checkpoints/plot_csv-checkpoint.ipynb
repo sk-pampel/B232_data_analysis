{
 "cells": [
  {
   "cell_type": "code",
   "execution_count": 2,
   "metadata": {
    "ExecuteTime": {
     "end_time": "2018-02-28T17:06:46.067900Z",
     "start_time": "2018-02-28T17:06:31.753411Z"
    },
    "hidden": true,
    "tags": []
   },
   "outputs": [],
   "source": [
    "import sys\n",
    "sys.path.append(\"..\")\n",
    "from Analysis_Python_Files.fitters.Gaussian import dip, double_dip, bump, bump2, bump3, bump2r, gaussian, bump3_Sym, gaussian_2d\n",
    "from Analysis_Python_Files.fitters.Sinc_Squared import sinc_sq3_Sym, sinc_sq\n",
    "from Analysis_Python_Files.fitters import decaying_cos, exponential_decay_fixed_limit as decay, linear, LargeBeamMotExpansion, n1State\n",
    "import Analysis_Python_Files.PictureWindow as pw\n",
    "import Analysis_Python_Files.ExpFile as exp\n",
    "# exp.setPath(day, month, year)\n",
    "import Analysis_Python_Files.PlotlyPlotters as pp\n",
    "import Analysis_Python_Files.MatplotlibPlotters as mp\n",
    "import Analysis_Python_Files.MainAnalysis as ma\n",
    "import Analysis_Python_Files.AnalysisHelpers as ah\n",
    "import Analysis_Python_Files.Miscellaneous as misc\n",
    "import Analysis_Python_Files.PopulationAnalysis as pa\n",
    "import Analysis_Python_Files.MarksConstants as mc\n",
    "import Analysis_Python_Files.fitters as fitters\n",
    "import Analysis_Python_Files.LoadingFunctions as lf\n",
    "import Analysis_Python_Files.FreeSpaceImaging as fsi\n",
    "import Analysis_Python_Files.TransferAnalysis as ta\n",
    "import Analysis_Python_Files.LightShiftCalculations as lsc\n",
    "import Analysis_Python_Files.CalibrationAnalysis as ca\n",
    "# It's important to explicitly import calPoint here or else pickling doesn't work.\n",
    "from Analysis_Python_Files.CalibrationAnalysis import calPoint \n",
    "from Analysis_Python_Files.TransferAnalysisOptions import TransferAnalysisOptions as ao\n",
    "import Analysis_Python_Files.ThresholdOptions as to\n",
    "import Analysis_Python_Files.TransferAnalysisOptions as tao\n",
    "from scipy.optimize import curve_fit\n",
    "import matplotlib.pyplot as plt\n",
    "import numpy as np"
   ]
  },
  {
   "cell_type": "code",
   "execution_count": 57,
   "metadata": {},
   "outputs": [],
   "source": [
    "%matplotlib inline\n",
    "from matplotlib import rcParams\n",
    "rcParams['font.family'] = 'sans-serif';\n",
    "rcParams['axes.linewidth'] = 1.5;\n",
    "rcParams['axes.titlesize'] = 20\n",
    "rcParams['axes.labelsize'] = 20\n",
    "rcParams['xtick.labelsize'] = 15\n",
    "rcParams['xtick.major.width'] = 2\n",
    "rcParams['ytick.major.width'] = 2\n",
    "rcParams['ytick.labelsize'] = 15\n",
    "rcParams['lines.linewidth'] = 1.5\n",
    "rcParams['lines.color'] = 'k'\n",
    "plot_width = 8;\n",
    "plot_height = 5;"
   ]
  },
  {
   "cell_type": "code",
   "execution_count": 58,
   "metadata": {},
   "outputs": [
    {
     "name": "stderr",
     "output_type": "stream",
     "text": [
      "C:\\Users\\REGALL~1\\AppData\\Local\\Temp/ipykernel_2472/2317236596.py:23: MatplotlibDeprecationWarning:\n",
      "\n",
      "Adding an axes using the same arguments as a previous axes currently reuses the earlier instance.  In a future version, a new instance will always be created and returned.  Meanwhile, this warning can be suppressed, and the future behavior ensured, by passing a unique label to each axes instance.\n",
      "\n"
     ]
    },
    {
     "data": {
      "image/png": "[encoded data removed]",
      "text/plain": [
       "<Figure size 576x360 with 1 Axes>"
      ]
     },
     "metadata": {
      "needs_background": "light"
     },
     "output_type": "display_data"
    }
   ],
   "source": [
    "old_shutter_slope = 'C:\\\\Users\\\\Regal Lab\\\\Desktop\\\\Oscilliscope Data\\\\slope profile - shutter.csv'\n",
    "new_shutter_slope = 'C:\\\\Users\\\\Regal Lab\\\\Desktop\\\\Oscilliscope Data\\\\slope profile - new shutter.csv'\n",
    "\n",
    "from numpy import genfromtxt\n",
    "oss = genfromtxt(old_shutter_slope, delimiter=',')\n",
    "nss = genfromtxt(new_shutter_slope, delimiter=',')\n",
    "oss_xttl = oss[:,3]\n",
    "oss_yttl = oss[:,4]\n",
    "nss_xttl = nss[:,3]\n",
    "nss_yttl = nss[:,4]\n",
    "oss_xshut = oss[:,9]\n",
    "oss_yshut = oss[:,10]\n",
    "nss_xshut = nss[:,9]\n",
    "nss_yshut = nss[:,10]\n",
    "plt.plot(nss_x,nss_ttl)\n",
    "plt.plot(oss_xshut,oss_yshut)\n",
    "plt.plot(nss_xshut,nss_yshut)\n",
    "plt.xlabel('Variance')\n",
    "plt.ylabel('Average Counts')\n",
    "fig = plt.gcf();\n",
    "fig.set_size_inches(plot_width, plot_height);\n",
    "plt.grid(False)\n",
    "ax = plt.subplot()\n",
    "ax.tick_params(direction='in')\n",
    "ax.tick_params(bottom=True, top=True, left=True, right=True)"
   ]
  },
  {
   "cell_type": "code",
   "execution_count": null,
   "metadata": {},
   "outputs": [],
   "source": []
  }
 ],
 "metadata": {
  "anaconda-cloud": {},
  "hide_input": false,
  "kernelspec": {
   "display_name": "Python 3 (ipykernel)",
   "language": "python",
   "name": "python3"
  },
  "language_info": {
   "codemirror_mode": {
    "name": "ipython",
    "version": 3
   },
   "file_extension": ".py",
   "mimetype": "text/x-python",
   "name": "python",
   "nbconvert_exporter": "python",
   "pygments_lexer": "ipython3",
   "version": "3.8.8"
  },
  "nav_menu": {},
  "notify_time": "10",
  "record_timing": true,
  "toc": {
   "nav_menu": {},
   "number_sections": true,
   "sideBar": true,
   "skip_h1_title": false,
   "toc_cell": true,
   "toc_position": {
    "height": "780px",
    "left": "0px",
    "right": "1329.33px",
    "top": "107px",
    "width": "277px"
   },
   "toc_section_display": "none",
   "toc_window_display": false
  },
  "toc-autonumbering": true,
  "toc-showcode": false,
  "toc-showmarkdowntxt": false,
  "toc-showtags": false,
  "varInspector": {
   "cols": {
    "lenName": 16,
    "lenType": 16,
    "lenVar": 40
   },
   "kernels_config": {
    "python": {
     "delete_cmd_postfix": "",
     "delete_cmd_prefix": "del ",
     "library": "var_list.py",
     "varRefreshCmd": "print(var_dic_list())"
    },
    "r": {
     "delete_cmd_postfix": ") ",
     "delete_cmd_prefix": "rm(",
     "library": "var_list.r",
     "varRefreshCmd": "cat(var_dic_list()) "
    }
   },
   "types_to_exclude": [
    "module",
    "function",
    "builtin_function_or_method",
    "instance",
    "_Feature"
   ],
   "window_display": false
  }
 },
 "nbformat": 4,
 "nbformat_minor": 4
}
