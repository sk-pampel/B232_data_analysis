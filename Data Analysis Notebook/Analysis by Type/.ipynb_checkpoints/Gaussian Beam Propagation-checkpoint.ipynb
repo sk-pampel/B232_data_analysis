{
 "cells": [
  {
   "cell_type": "markdown",
   "id": "2486f3f2-626a-4ae7-a579-39e319d6e942",
   "metadata": {},
   "source": [
    "# Gaussian Beam Propagation"
   ]
  },
  {
   "cell_type": "markdown",
   "id": "f8f77707-4a8e-460a-8fbb-2024c14f44ea",
   "metadata": {},
   "source": [
    "### Imports "
   ]
  },
  {
   "cell_type": "code",
   "execution_count": 1,
   "id": "492a47c0-56db-42f0-b540-4377e6c5b2b9",
   "metadata": {},
   "outputs": [],
   "source": [
    "import matplotlib.pyplot as plt\n",
    "import numpy as np"
   ]
  },
  {
   "cell_type": "markdown",
   "id": "5b9d282a-8b83-40c1-b526-a57071c67136",
   "metadata": {},
   "source": [
    "### Spot Size Calculation"
   ]
  },
  {
   "cell_type": "code",
   "execution_count": 105,
   "id": "d6c39eb3-8b98-4cf2-a399-9f379724bc8e",
   "metadata": {},
   "outputs": [
    {
     "name": "stdout",
     "output_type": "stream",
     "text": [
      "spot size at focus = 0.028163079314507383 mm\n"
     ]
    }
   ],
   "source": [
    "# units in mm\n",
    "\n",
    "lmbda = 852e-6\n",
    "w_0 = 26/2 # collimated beam radius\n",
    "f_foc = 300 # focal length of lens\n",
    "M = 1.5 # propagation constant (1 for ideal Gaussian)\n",
    "w_F = lmbda*f_foc*M**2/(np.pi*w_0)  # beam radius at focal point\n",
    "s_F = 2*w_F # spot size at focus\n",
    "\n",
    "print(\"spot size at focus =\",s_F, \"mm\")"
   ]
  },
  {
   "cell_type": "code",
   "execution_count": null,
   "id": "f4507899-4a4e-4cba-b865-714a2f34294a",
   "metadata": {},
   "outputs": [],
   "source": []
  }
 ],
 "metadata": {
  "kernelspec": {
   "display_name": "Python 3 (ipykernel)",
   "language": "python",
   "name": "python3"
  },
  "language_info": {
   "codemirror_mode": {
    "name": "ipython",
    "version": 3
   },
   "file_extension": ".py",
   "mimetype": "text/x-python",
   "name": "python",
   "nbconvert_exporter": "python",
   "pygments_lexer": "ipython3",
   "version": "3.8.8"
  }
 },
 "nbformat": 4,
 "nbformat_minor": 5
}
