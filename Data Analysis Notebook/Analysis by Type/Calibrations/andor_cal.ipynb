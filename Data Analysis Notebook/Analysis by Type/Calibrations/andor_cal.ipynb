{
 "cells": [
  {
   "cell_type": "markdown",
   "metadata": {},
   "source": [
    "# Camera Calibrations 10/1/21"
   ]
  },
  {
   "cell_type": "markdown",
   "metadata": {
    "tags": []
   },
   "source": [
    "This notebook is based on the camera calibrations template notebook.\n",
    "\n",
    "This notebook analyzes a series of pictures and from them derives the photons/count rate of the camera for the given mode.\n",
    "\n",
    "It can do either averaging all pixels over a large picture (where we worry about spatial inhomogeneity) or averaging a single location over many pictures."
   ]
  },
  {
   "cell_type": "markdown",
   "metadata": {
    "heading_collapsed": true
   },
   "source": [
    "## Imports and Defines"
   ]
  },
  {
   "cell_type": "code",
   "execution_count": 3,
   "metadata": {
    "ExecuteTime": {
     "end_time": "2018-02-28T17:06:30.493587Z",
     "start_time": "2018-02-28T17:06:23.025745Z"
    },
    "hidden": true,
    "tags": []
   },
   "outputs": [],
   "source": [
    "import numpy as np\n",
    "import matplotlib.pyplot as plt\n",
    "import matplotlib as mpl\n",
    "import h5py as h5\n",
    "from scipy.optimize import curve_fit\n",
    "from scipy.stats import linregress\n",
    "%matplotlib inline\n",
    "from matplotlib import rcParams\n"
   ]
  },
  {
   "cell_type": "code",
   "execution_count": 4,
   "metadata": {},
   "outputs": [],
   "source": [
    "rcParams['font.family'] = 'sans-serif';\n",
    "rcParams['axes.linewidth'] = 1.5;\n",
    "rcParams['axes.titlesize'] = 20\n",
    "rcParams['axes.labelsize'] = 20\n",
    "rcParams['xtick.labelsize'] = 15\n",
    "rcParams['xtick.major.width'] = 2\n",
    "rcParams['ytick.major.width'] = 2\n",
    "rcParams['ytick.labelsize'] = 15\n",
    "rcParams['lines.linewidth'] = 2.5\n",
    "rcParams['lines.color'] = 'k'\n",
    "plot_width = 8;\n",
    "plot_height = 5;\n",
    "# plt.grid(False);"
   ]
  },
  {
   "cell_type": "markdown",
   "metadata": {
    "heading_collapsed": true,
    "tags": []
   },
   "source": [
    "## Analyze Single Picture"
   ]
  },
  {
   "cell_type": "code",
   "execution_count": 2,
   "metadata": {
    "jupyter": {
     "source_hidden": true
    },
    "tags": []
   },
   "outputs": [],
   "source": [
    "def analyzeSinglePicture(cal_type, firstRun, lastRun, printProgress=True):\n",
    "    \"\"\"\n",
    "    This function is for calculating averages of pictures, finding the average pixel signal and variance\n",
    "    of all pixel signals on the pictures.\n",
    "    \n",
    "    :return: This function returns the counts/photon\n",
    "\n",
    "    \"\"\"\n",
    "    allPictures = []\n",
    "    allAverages = []\n",
    "    allVariances = []\n",
    "    dataRepositoryPath = \"\\\\\\\\REGALB232EXP\\\\Local_Data_Repository\\\\2021\\\\andor_cal\\\\\"\n",
    "    for runInc in range(firstRun, lastRun + 1, 1):\n",
    "        dataPath = dataRepositoryPath + cal_type + \"\\\\data_\" + str(runInc) + \".h5\"\n",
    "        with h5.File(dataPath, \"r\") as hdf:\n",
    "            andor = hdf.get('Andor')\n",
    "            andor_items = list(andor.items())\n",
    "            allPictures = np.array(andor.get('Pictures'))\n",
    "        allPictures = [item for sublist in list(allPictures[0]) for item in sublist];\n",
    "        allAverages.append(np.mean(allPictures))\n",
    "        allVariances.append(np.std(allPictures)**2)\n",
    "        totalAverage = np.mean(allAverages)\n",
    "        totalVariance = np.mean(allVariances)\n",
    "        photonCount = totalAverage/totalVariance\n",
    "    return 'counts/photon =', photonCount\n",
    "    "
   ]
  },
  {
   "cell_type": "code",
   "execution_count": 3,
   "metadata": {
    "collapsed": true,
    "jupyter": {
     "outputs_hidden": true,
     "source_hidden": true
    },
    "tags": []
   },
   "outputs": [
    {
     "data": {
      "text/plain": [
       "('counts/photon =', 0.4955704939296838)"
      ]
     },
     "execution_count": 3,
     "metadata": {},
     "output_type": "execute_result"
    }
   ],
   "source": [
    "analyzeSinglePicture(\"conv_gain\",3,7)"
   ]
  },
  {
   "cell_type": "markdown",
   "metadata": {},
   "source": [
    "# Analyze Single Location"
   ]
  },
  {
   "cell_type": "code",
   "execution_count": 5,
   "metadata": {
    "ExecuteTime": {
     "end_time": "2016-09-08T03:35:23.443264",
     "start_time": "2016-09-08T03:35:23.358204"
    },
    "code_folding": [],
    "hidden": true,
    "tags": []
   },
   "outputs": [],
   "source": [
    "def line(x, a, b):\n",
    "    return a * x + b\n",
    "\n",
    "def analyzeSingleLocation(cal_type, firstRun, lastRun, location, printStatus=False, plot=False):\n",
    "    \"\"\"\n",
    "    Analyzes a single location, averaging over many pictures.\n",
    "    The function assumes that there is a data file for all runs in between firstrun and lastrun.\n",
    "    \n",
    "    :return: The function returns the fit object (i.e. an array of [a, b] for the linear fit y = a x + b) \n",
    "    and the covariance of said fit.\n",
    "    \"\"\"\n",
    "    allAverages = []\n",
    "    allVariances = []\n",
    "    dataRepositoryPath = \"\\\\\\\\REGALB232EXP\\\\Local_Data_Repository\\\\2021\\\\andor_cal\\\\\"\n",
    "\n",
    "    for runInc in range(firstRun, lastRun + 1, 1):\n",
    "        allPoints = []\n",
    "        dataPath = dataRepositoryPath + cal_type + \"\\\\data_\" + str(runInc) + \".h5\"\n",
    "        with h5.File(dataPath, \"r\") as hdf:\n",
    "            andor = hdf.get('Andor')\n",
    "            andor_items = list(andor.items())\n",
    "            dataFile = np.array(andor.get('Pictures'))   \n",
    "        for repInc in range(0, 2000):\n",
    "            allPoints.append(dataFile[repInc][location[0]][location[1]]) \n",
    "            print(allPoints)\n",
    "        allAverages.append(np.mean(allPoints))\n",
    "        allVariances.append(np.std(allPoints)**2)\n",
    "        \n",
    "    param, cov = curve_fit(line, allVariances, allAverages, [1, 0]) \n",
    "    return param, cov, param[0], allAverages, allVariances; "
   ]
  },
  {
   "cell_type": "markdown",
   "metadata": {
    "heading_collapsed": true,
    "tags": []
   },
   "source": [
    "### Load Conventional Gain Data"
   ]
  },
  {
   "cell_type": "code",
   "execution_count": 83,
   "metadata": {
    "ExecuteTime": {
     "end_time": "2016-09-08T02:00:24.264372",
     "start_time": "2016-09-08T01:53:03.524798"
    },
    "hidden": true,
    "tags": []
   },
   "outputs": [],
   "source": [
    "# initialize some arrays\n",
    "conv_1x1Fits = []\n",
    "conv_1x1Covs = []\n",
    "conv_1x1PhotonPerCounts = []\n",
    "conv_1x1Averages = []\n",
    "conv_1x1Variances = []\n",
    "\n",
    "# average over the four corners.\n",
    "for location in [[0, 0],[-1, 0], [0, -1], [-1, -1]]:\n",
    "#     print(location)\n",
    "    fit, cov, fit1, averages, variances = analyzeSingleLocation(\"conv_gain\", 3, 7, location, True)\n",
    "    conv_1x1Fits = np.append(conv_1x1Fits, fit)\n",
    "    conv_1x1Covs = np.append(conv_1x1Covs, cov)\n",
    "    conv_1x1PhotonPerCounts = np.append(conv_1x1PhotonPerCounts, fit1) # generate list of slopes for each pixel as defined in location\n",
    "    conv_1x1Averages = np.append(conv_1x1Averages, averages)\n",
    "    conv_1x1Variances = np.append(conv_1x1Variances, variances)"
   ]
  },
  {
   "cell_type": "code",
   "execution_count": 84,
   "metadata": {
    "tags": []
   },
   "outputs": [
    {
     "name": "stdout",
     "output_type": "stream",
     "text": [
      "counts/photon = 0.6367330158458274\n",
      "std dev = 0.01303050551334851\n"
     ]
    }
   ],
   "source": [
    "conv_1x1PhotonPerADCount = np.mean(conv_1x1PhotonPerCounts) # average slopes\n",
    "conv_1x1PhotonPerADstd = np.std(conv_1x1PhotonPerCounts)\n",
    "print('counts/photon =', conv_1x1PhotonPerADCount)\n",
    "print('std dev =', conv_1x1PhotonPerADstd)"
   ]
  },
  {
   "cell_type": "code",
   "execution_count": 129,
   "metadata": {},
   "outputs": [
    {
     "name": "stdout",
     "output_type": "stream",
     "text": [
      "r_value = 0.9985549912778052\n",
      "slope =  0.6349928295292211\n"
     ]
    },
    {
     "name": "stderr",
     "output_type": "stream",
     "text": [
      "C:\\Users\\REGALL~1\\AppData\\Local\\Temp/ipykernel_1856/2825264123.py:12: MatplotlibDeprecationWarning: Adding an axes using the same arguments as a previous axes currently reuses the earlier instance.  In a future version, a new instance will always be created and returned.  Meanwhile, this warning can be suppressed, and the future behavior ensured, by passing a unique label to each axes instance.\n",
      "  ax = plt.subplot()\n"
     ]
    },
    {
     "data": {
      "image/png": "[encoded data removed]",
      "text/plain": [
       "<Figure size 576x360 with 1 Axes>"
      ]
     },
     "metadata": {
      "needs_background": "light"
     },
     "output_type": "display_data"
    }
   ],
   "source": [
    "x = conv_1x1Variances\n",
    "y = conv_1x1Averages\n",
    "plt.scatter(x,y,s=100,c='0.8',edgecolors='k')\n",
    "plt.plot(np.unique(x), np.poly1d(np.polyfit(x, y, 1))(np.unique(x)),color='tab:blue');\n",
    "m, b = np.polyfit(x, y, 1)\n",
    "# plt.title('Andor - Conventional Gain',fontsize = title_font_size)\n",
    "plt.xlabel('Variance')\n",
    "plt.ylabel('Average Counts')\n",
    "fig = plt.gcf();\n",
    "fig.set_size_inches(plot_width, plot_height);\n",
    "plt.grid(False)\n",
    "ax = plt.subplot()\n",
    "ax.tick_params(direction='in')\n",
    "ax.tick_params(bottom=True, top=True, left=True, right=True)\n",
    "\n",
    "\n",
    "# plt.savefig('conv_gain.png',dpi=1000)\n",
    "# slope, intercept, r_value, p_value, std_err = linregress(x, y)\n",
    "print('r_value =',r_value)\n",
    "print('slope = ',slope)"
   ]
  },
  {
   "cell_type": "code",
   "execution_count": 39,
   "metadata": {
    "ExecuteTime": {
     "end_time": "2016-09-08T02:00:24.264372",
     "start_time": "2016-09-08T01:53:03.524798"
    },
    "hidden": true,
    "tags": []
   },
   "outputs": [],
   "source": [
    "# initialize some arrays\n",
    "EM_100_1x1Fits = []\n",
    "EM_100_1x1Covs = []\n",
    "EM_100_1x1PhotonPerCounts = []\n",
    "EM_100_1x1Averages = []\n",
    "EM_100_1x1Variances = []\n",
    "\n",
    "# average over the four corners.\n",
    "for location in [[0, 0],[-1, 0], [0, -1], [-1, -1]]:\n",
    "#     print(location)\n",
    "    fit, cov, fit1, averages, variances = analyzeSingleLocation(\"EM_100\", 3, 7, location, True)\n",
    "    EM_100_1x1Fits = np.append(EM_100_1x1Fits, fit)\n",
    "    EM_100_1x1Covs = np.append(EM_100_1x1Covs, cov)\n",
    "    EM_100_1x1PhotonPerCounts = np.append(EM_100_1x1PhotonPerCounts, fit1) # generate list of slopes for each pixel as defined in location\n",
    "    EM_100_1x1Averages = np.append(EM_100_1x1Averages, averages)\n",
    "    EM_100_1x1Variances = np.append(EM_100_1x1Variances, variances)"
   ]
  },
  {
   "cell_type": "code",
   "execution_count": 120,
   "metadata": {
    "tags": []
   },
   "outputs": [
    {
     "name": "stdout",
     "output_type": "stream",
     "text": [
      "counts/photon = 0.04064535581518338\n",
      "std dev = 0.003826935144717846\n",
      "counts/photon scaled = 4.064535581518338\n"
     ]
    }
   ],
   "source": [
    "EM_100_1x1PhotonPerADCount = np.mean(EM_100_1x1PhotonPerCounts)*2 # average slopes\n",
    "EM_100_1x1PhotonPerADstd = np.std(EM_100_1x1PhotonPerCounts)*2\n",
    "EM_100_1x1PhotonPerADCount_scaled = np.mean(EM_100_1x1PhotonPerCounts)*2*100 \n",
    "print('counts/photon =', EM_100_1x1PhotonPerADCount)\n",
    "print('std dev =', EM_100_1x1PhotonPerADstd*2)\n",
    "print('counts/photon scaled =', EM_100_1x1PhotonPerADCount_scaled)"
   ]
  },
  {
   "cell_type": "code",
   "execution_count": 133,
   "metadata": {},
   "outputs": [
    {
     "name": "stderr",
     "output_type": "stream",
     "text": [
      "C:\\Users\\REGALL~1\\AppData\\Local\\Temp/ipykernel_1856/2166503226.py:12: MatplotlibDeprecationWarning: Adding an axes using the same arguments as a previous axes currently reuses the earlier instance.  In a future version, a new instance will always be created and returned.  Meanwhile, this warning can be suppressed, and the future behavior ensured, by passing a unique label to each axes instance.\n",
      "  ax = plt.subplot()\n"
     ]
    },
    {
     "name": "stdout",
     "output_type": "stream",
     "text": [
      "slope =  0.020154439195143807\n"
     ]
    },
    {
     "data": {
      "image/png": "[encoded data removed]",
      "text/plain": [
       "<Figure size 576x360 with 1 Axes>"
      ]
     },
     "metadata": {
      "needs_background": "light"
     },
     "output_type": "display_data"
    }
   ],
   "source": [
    "x = EM_100_1x1Variances\n",
    "y = EM_100_1x1Averages\n",
    "plt.scatter(x,y,s=100,c='0.8',edgecolors='k')\n",
    "plt.plot(np.unique(x), np.poly1d(np.polyfit(x, y, 1))(np.unique(x)),color='tab:blue');\n",
    "m, b = np.polyfit(x, y, 1)\n",
    "# plt.title('Andor - Conventional Gain',fontsize = title_font_size)\n",
    "plt.xlabel('Variance')\n",
    "plt.ylabel('Average Counts')\n",
    "fig = plt.gcf();\n",
    "fig.set_size_inches(plot_width, plot_height);\n",
    "plt.grid(False)\n",
    "ax = plt.subplot()\n",
    "ax.tick_params(direction='in')\n",
    "ax.tick_params(bottom=True, top=True, left=True, right=True)\n",
    "plt.ticklabel_format(style='sci', axis='x', scilimits=(0,0))\n",
    "# plt.ticklabel_format(style='sci', axis='y', scilimits=(0,0))\n",
    "\n",
    "plt.savefig('EM100_gain.png',dpi=1000)\n",
    "print('slope = ',m)"
   ]
  },
  {
   "cell_type": "code",
   "execution_count": 44,
   "metadata": {
    "ExecuteTime": {
     "end_time": "2016-09-08T02:00:24.264372",
     "start_time": "2016-09-08T01:53:03.524798"
    },
    "hidden": true,
    "tags": []
   },
   "outputs": [],
   "source": [
    "# initialize some arrays\n",
    "EM_300_1x1Fits = []\n",
    "EM_300_1x1Covs = []\n",
    "EM_300_1x1PhotonPerCounts = []\n",
    "EM_300_1x1Averages = []\n",
    "EM_300_1x1Variances = []\n",
    "\n",
    "# average over the four corners.\n",
    "for location in [[0, 0],[-1, 0], [0, -1], [-1, -1]]:\n",
    "#     print(location)\n",
    "    fit, cov, fit1, averages, variances = analyzeSingleLocation(\"EM_300\", 9, 13, location, True)\n",
    "    EM_300_1x1Fits = np.append(EM_300_1x1Fits, fit)\n",
    "    EM_300_1x1Covs = np.append(EM_300_1x1Covs, cov)\n",
    "    EM_300_1x1PhotonPerCounts = np.append(EM_300_1x1PhotonPerCounts, fit1) # generate list of slopes for each pixel as defined in location\n",
    "    EM_300_1x1Averages = np.append(EM_300_1x1Averages, averages)\n",
    "    EM_300_1x1Variances = np.append(EM_300_1x1Variances, variances)"
   ]
  },
  {
   "cell_type": "code",
   "execution_count": null,
   "metadata": {},
   "outputs": [],
   "source": []
  },
  {
   "cell_type": "code",
   "execution_count": 137,
   "metadata": {
    "tags": []
   },
   "outputs": [
    {
     "name": "stdout",
     "output_type": "stream",
     "text": [
      "counts/photon = 0.013629068269407966\n",
      "std dev = 0.0002638596372574341\n",
      "counts/photon Scaled = 4.088720480822389\n"
     ]
    }
   ],
   "source": [
    "EM_300_1x1PhotonPerADCount = np.mean(EM_300_1x1PhotonPerCounts)*2 # average slopes\n",
    "EM_300_1x1PhotonPerADstd = np.std(EM_300_1x1PhotonPerCounts)*2\n",
    "EM_300_1x1PhotonPerADCount_scaled = np.mean(EM_300_1x1PhotonPerCounts)*2*300\n",
    "print('counts/photon =', EM_300_1x1PhotonPerADCount)\n",
    "print('std dev =', EM_300_1x1PhotonPerADstd)\n",
    "print('counts/photon Scaled =', EM_300_1x1PhotonPerADCount_scaled)"
   ]
  },
  {
   "cell_type": "code",
   "execution_count": 135,
   "metadata": {},
   "outputs": [
    {
     "name": "stderr",
     "output_type": "stream",
     "text": [
      "C:\\Users\\REGALL~1\\AppData\\Local\\Temp/ipykernel_1856/2716981000.py:12: MatplotlibDeprecationWarning: Adding an axes using the same arguments as a previous axes currently reuses the earlier instance.  In a future version, a new instance will always be created and returned.  Meanwhile, this warning can be suppressed, and the future behavior ensured, by passing a unique label to each axes instance.\n",
      "  ax = plt.subplot()\n"
     ]
    },
    {
     "name": "stdout",
     "output_type": "stream",
     "text": [
      "slope =  0.006808344261676491\n"
     ]
    },
    {
     "data": {
      "image/png": "[encoded data removed]",
      "text/plain": [
       "<Figure size 576x360 with 1 Axes>"
      ]
     },
     "metadata": {
      "needs_background": "light"
     },
     "output_type": "display_data"
    }
   ],
   "source": [
    "x = EM_300_1x1Variances\n",
    "y = EM_300_1x1Averages\n",
    "plt.scatter(x,y,s=100,c='0.8',edgecolors='k')\n",
    "plt.plot(np.unique(x), np.poly1d(np.polyfit(x, y, 1))(np.unique(x)),color='tab:blue');\n",
    "m, b = np.polyfit(x, y, 1)\n",
    "# plt.title('Andor - Conventional Gain',fontsize = title_font_size)\n",
    "plt.xlabel('Variance')\n",
    "plt.ylabel('Average Counts')\n",
    "fig = plt.gcf();\n",
    "fig.set_size_inches(plot_width, plot_height);\n",
    "plt.grid(False)\n",
    "ax = plt.subplot()\n",
    "ax.tick_params(direction='in')\n",
    "ax.tick_params(bottom=True, top=True, left=True, right=True)\n",
    "plt.ticklabel_format(style='sci', axis='x', scilimits=(0,0))\n",
    "# plt.ticklabel_format(style='sci', axis='y', scilimits=(0,0))\n",
    "plt.savefig('EM300_gain.png',dpi=1000)\n",
    "print('slope = ',m)"
   ]
  },
  {
   "cell_type": "markdown",
   "metadata": {},
   "source": [
    "# Photons per AD Count & per EM Count Calibration"
   ]
  },
  {
   "cell_type": "markdown",
   "metadata": {},
   "source": [
    "## Discussion of Normalization Factor"
   ]
  },
  {
   "cell_type": "markdown",
   "metadata": {},
   "source": [
    "Now I have the data, I need to normalize properly for the EM Gain mode. Consider that the EM Gain setting effectively multiplies each count by some number. So, since mean is defined as\n",
    "$$ \\bar n = \\frac{\\sum_{i=1}^{N}{n_i}}{N}$$\n",
    "Multiplying counts by the em Gain means\n",
    "$$\\bar n_{\\text{measured}} = \\frac{\\sum_{i=1}^{N}{G n_i}}{N} = G \\bar n$$ \n",
    "However, for the variance, since the variance is defined as\n",
    "$$ \\sigma_n^2 = \\frac{\\sum_{i=1}^N{(n_i-\\bar n)^2}}{N}$$\n",
    "In addition, however, For significant EM gains, there is noise due to the EM gain process. For EMCCD cameras this corresponds to a variance of the signal of $\\sqrt{2}$. See the Andor hardware guide (page 27?) for a few more details. The combined effect of this the EM Gain is\n",
    "$$ \\sigma_{n, \\text{observed}}^2 = \\frac{\\sum_{i=1}^N{(\\sqrt{2}(G n_i-G\\times\\bar n))^2}}{N} = 2G^2 \\sigma_n$$\n",
    "\n",
    "\n",
    "Therefore If I observe some slope\n",
    "$$ s_\\text{obs} = \\frac{\\bar n_\\text{obs}}{\\sigma_{n,\\text{obs}}} = \\frac{G\\bar n}{2G^2\\sigma_n} = \\frac{\\bar n}{2G \\sigma_n} = \\frac{1}{2G} s$$ \n",
    "It's off by a factor of $(2G)^{-1}$.\n",
    "\n",
    "This slope gives me photons per AD Counts (modifying for the EM Gain) which is the number quoted by Andor (that's the only reason we care about taking it into account)."
   ]
  }
 ],
 "metadata": {
  "anaconda-cloud": {},
  "hide_input": false,
  "kernelspec": {
   "display_name": "Python 3 (ipykernel)",
   "language": "python",
   "name": "python3"
  },
  "language_info": {
   "codemirror_mode": {
    "name": "ipython",
    "version": 3
   },
   "file_extension": ".py",
   "mimetype": "text/x-python",
   "name": "python",
   "nbconvert_exporter": "python",
   "pygments_lexer": "ipython3",
   "version": "3.8.8"
  },
  "nav_menu": {},
  "notify_time": "10",
  "record_timing": true,
  "toc": {
   "nav_menu": {},
   "number_sections": true,
   "sideBar": true,
   "skip_h1_title": false,
   "toc_cell": true,
   "toc_position": {
    "height": "780px",
    "left": "0px",
    "right": "1329.33px",
    "top": "107px",
    "width": "277px"
   },
   "toc_section_display": "none",
   "toc_window_display": false
  },
  "toc-autonumbering": true,
  "toc-showcode": false,
  "toc-showmarkdowntxt": false,
  "toc-showtags": false,
  "varInspector": {
   "cols": {
    "lenName": 16,
    "lenType": 16,
    "lenVar": 40
   },
   "kernels_config": {
    "python": {
     "delete_cmd_postfix": "",
     "delete_cmd_prefix": "del ",
     "library": "var_list.py",
     "varRefreshCmd": "print(var_dic_list())"
    },
    "r": {
     "delete_cmd_postfix": ") ",
     "delete_cmd_prefix": "rm(",
     "library": "var_list.r",
     "varRefreshCmd": "cat(var_dic_list()) "
    }
   },
   "types_to_exclude": [
    "module",
    "function",
    "builtin_function_or_method",
    "instance",
    "_Feature"
   ],
   "window_display": false
  }
 },
 "nbformat": 4,
 "nbformat_minor": 4
}
