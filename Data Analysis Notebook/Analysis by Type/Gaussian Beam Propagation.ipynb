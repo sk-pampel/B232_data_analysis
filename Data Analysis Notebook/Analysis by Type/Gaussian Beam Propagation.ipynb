{
 "cells": [
  {
   "cell_type": "markdown",
   "id": "2486f3f2-626a-4ae7-a579-39e319d6e942",
   "metadata": {},
   "source": [
    "# Gaussian Beam Propagation"
   ]
  },
  {
   "cell_type": "markdown",
   "id": "f8f77707-4a8e-460a-8fbb-2024c14f44ea",
   "metadata": {},
   "source": [
    "### Imports "
   ]
  },
  {
   "cell_type": "code",
   "execution_count": 56,
   "id": "492a47c0-56db-42f0-b540-4377e6c5b2b9",
   "metadata": {},
   "outputs": [],
   "source": [
    "import matplotlib.pyplot as plt\n",
    "import numpy as np"
   ]
  },
  {
   "cell_type": "markdown",
   "id": "5b9d282a-8b83-40c1-b526-a57071c67136",
   "metadata": {},
   "source": [
    "### Spot Size Calculation"
   ]
  },
  {
   "cell_type": "code",
   "execution_count": 92,
   "id": "d6c39eb3-8b98-4cf2-a399-9f379724bc8e",
   "metadata": {},
   "outputs": [
    {
     "name": "stdout",
     "output_type": "stream",
     "text": [
      "collimated beam radius = 2.34 mm\n",
      "collimated beam area 17.20210473399627 mm\n",
      "spot size at focus = 0.010814374338295454 mm\n",
      "intensity collimated = 1.7439726396219086 mW/cm^2\n",
      "intensity at focus = 81652.33052804685 mW/cm^2\n"
     ]
    }
   ],
   "source": [
    "# units in mm\n",
    "\n",
    "lmbda = 795e-6\n",
    "\n",
    "### collimated beam diameter\n",
    "\n",
    "f_col = 18 # focal length of collimating lens  c260=15.29  c230= 5.8  c280=18.4   c220 11 \n",
    "fiber_NA = 0.13 # nominal fiber numerical aperture\n",
    "beam_radius = f_col*fiber_NA\n",
    "print(\"collimated beam radius =\",beam_radius, \"mm\")\n",
    "\n",
    "### spot size at focus\n",
    "\n",
    "w_0 = beam_radius # collimated beam radius\n",
    "f_foc = 100 # focal length of lens\n",
    "M_2 = 1 # propagation constant (1 for ideal Gaussian)\n",
    "w_F = lmbda*f_foc*M_2/(np.pi*w_0)  # beam radius at focal point (spot size)\n",
    "\n",
    "beam_power = 3 # mW\n",
    "intensity_col = beam_power/(np.pi*w_0**2)\n",
    "intensity_foc = beam_power/(np.pi*w_F**2)\n",
    "\n",
    "print('collimated beam area',np.pi*w_0**2,'mm')\n",
    "print(\"spot size at focus =\",w_F, \"mm\")\n",
    "print(\"intensity collimated =\",intensity_col*10, \"mW/cm^2\")\n",
    "print(\"intensity at focus =\",intensity_foc*10, \"mW/cm^2\")\n"
   ]
  },
  {
   "cell_type": "code",
   "execution_count": 82,
   "id": "1d8e0052-0b47-453d-8114-b628bd8f0478",
   "metadata": {},
   "outputs": [
    {
     "data": {
      "text/plain": [
       "6.68"
      ]
     },
     "execution_count": 82,
     "metadata": {},
     "output_type": "execute_result"
    }
   ],
   "source": [
    "1.67*4"
   ]
  },
  {
   "cell_type": "code",
   "execution_count": null,
   "id": "680a11c9-792d-4720-86a0-33bf8b3e3fbe",
   "metadata": {},
   "outputs": [],
   "source": []
  }
 ],
 "metadata": {
  "kernelspec": {
   "display_name": "Python 3 (ipykernel)",
   "language": "python",
   "name": "python3"
  },
  "language_info": {
   "codemirror_mode": {
    "name": "ipython",
    "version": 3
   },
   "file_extension": ".py",
   "mimetype": "text/x-python",
   "name": "python",
   "nbconvert_exporter": "python",
   "pygments_lexer": "ipython3",
   "version": "3.10.5"
  }
 },
 "nbformat": 4,
 "nbformat_minor": 5
}
