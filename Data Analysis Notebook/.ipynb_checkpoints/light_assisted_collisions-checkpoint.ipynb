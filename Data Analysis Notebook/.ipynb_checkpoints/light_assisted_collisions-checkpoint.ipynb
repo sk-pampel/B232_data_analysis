{
 "cells": [
  {
   "cell_type": "code",
   "execution_count": 2,
   "id": "58e563fc",
   "metadata": {
    "ExecuteTime": {
     "end_time": "2022-09-14T18:03:54.169973Z",
     "start_time": "2022-09-14T18:03:51.817016Z"
    }
   },
   "outputs": [],
   "source": [
    "import numpy as np\n",
    "import scipy.constants as const\n",
    "from arc import *\n",
    "import random"
   ]
  },
  {
   "cell_type": "code",
   "execution_count": 2,
   "id": "45ced15a",
   "metadata": {
    "ExecuteTime": {
     "end_time": "2022-09-14T18:03:54.185045Z",
     "start_time": "2022-09-14T18:03:54.174325Z"
    }
   },
   "outputs": [],
   "source": [
    "def trap_depth_gaussian(pol, P, wx, wy):\n",
    "    \"\"\" trap depth for a focused gaussian beam\n",
    "        pol: polarizability in units of Hz m^2/W\n",
    "        P: power of the beam (W)\n",
    "        wx: waist along x direction in m\n",
    "        wy: waist along y direction in m\n",
    "        return trap depth in Hz\n",
    "    \"\"\"\n",
    "    I0_elliptical_xy= 2*P/ (np.pi* wx * wy) #multiply waists from um to cm such \n",
    "    U0_xy = - pol * I0_elliptical_xy/4 #in Hz. Divide by 4 because we used peak electric field in the calculation\n",
    "                                    #of polarizability instead of rms.\n",
    "    return U0_xy\n",
    "\n",
    "mass_Rb = 87*const.u"
   ]
  },
  {
   "attachments": {},
   "cell_type": "markdown",
   "id": "17ff662d",
   "metadata": {},
   "source": [
    "### Sanity check: Tweezer\n",
    "1.7 mW of 852nm focused on a round waist of 0.75 um, should yieald 1 mK trap depth"
   ]
  },
  {
   "cell_type": "code",
   "execution_count": 3,
   "id": "5a7bd0ab",
   "metadata": {},
   "outputs": [
    {
     "name": "stdout",
     "output_type": "stream",
     "text": [
      "Polarization of GS with 852nm = 3.884e-02 Hz m^2/W.\n",
      "Trap depth in uK:  -1044.5188181367255\n"
     ]
    }
   ],
   "source": [
    "atom = Rubidium87()\n",
    "calc = DynamicPolarizability(atom, atom.groundStateN, 0, 0.5)\n",
    "calc.defineBasis(atom.groundStateN, atom.groundStateN+15)\n",
    "\n",
    "alpha0_twz, alpha1_twz, alpha2_twz, core, dynamic, closestState = calc.getPolarizability(852e-9, units=\"SI\", accountForStateLifetime=True)\n",
    "\n",
    "tweez_polB_GS=2*alpha0_twz*1/(const.epsilon_0*const.speed_of_light) # units of Hz m^2/W. We consider only the scalar polarizability\n",
    "print(\"Polarization of GS with 852nm = %.3e Hz m^2/W.\" % (tweez_polB_GS))\n",
    "U0_tweezer = trap_depth_gaussian(tweez_polB_GS, 1.76e-3, 0.707e-6, 0.707e-6) #in Hz\n",
    "print(\"Trap depth in uK: \", U0_tweezer*const.h/const.k*1e6)"
   ]
  },
  {
   "cell_type": "markdown",
   "id": "09c3bfb3",
   "metadata": {},
   "source": [
    "# Light assisted two body loss rate"
   ]
  },
  {
   "cell_type": "code",
   "execution_count": 4,
   "id": "d26ac4f2",
   "metadata": {},
   "outputs": [],
   "source": [
    "def trap_volume(T0, omega_ax, omega_rad, mass=mass_Rb):\n",
    "    \"\"\"\n",
    "    T0 initial temperature in K\n",
    "    omega_ax (rad) axial (radial) trap fequencies\n",
    "    return in m^3\n",
    "    \"\"\"\n",
    "    omega = (omega_ax * omega_rad**2)**(1/3)\n",
    "    return (2*pi*const.k*T0/ (mass* omega**2))**(3/2)\n",
    "\n",
    "def calc_beta(gamma,V):\n",
    "    \"\"\"\n",
    "    gamma is the fitted two-body loss decay rate. \n",
    "    V trap volume\n",
    "    return in SI units m^3/s\n",
    "    \"\"\"\n",
    "    return gamma * 2* np.sqrt(2) * V"
   ]
  },
  {
   "cell_type": "markdown",
   "id": "127f1116",
   "metadata": {},
   "source": [
    "## Monte-Carlo simulation"
   ]
  },
  {
   "cell_type": "code",
   "execution_count": 24,
   "id": "82ba3684",
   "metadata": {},
   "outputs": [],
   "source": [
    "def dq_two_body(beta_prime, N, dt):\n",
    "    return beta_prime * N*(N-1)*dt/2\n",
    "\n",
    "def dq_one_body(gamma, N, dt):\n",
    "    return gamma * N *dt\n",
    "\n",
    "def P1(U, T0, alpha, t):\n",
    "    \"\"\" Survival probability of an atom due to heating. Assuming a harmonic trap and a Boltzmann energy distribution\n",
    "    U: trap depth in J\n",
    "    T0 initial temperature\n",
    "    alpha: heating rate\"\"\"\n",
    "    eta= U/ (const.k *(T0 + alpha*t))\n",
    "    return 1- (1+ eta + 1/2 * eta**2) * np.exp(-eta)\n",
    "\n",
    "def number_of_lost_atoms(key_name):\n",
    "    if key_name == 'no_loss':\n",
    "            return 0 # no loss\n",
    "    elif key_name== 'one_loss':\n",
    "            return 1 # one loss\n",
    "    elif key_name== 'two_loss':\n",
    "            return 2 # two loss"
   ]
  },
  {
   "cell_type": "code",
   "execution_count": 25,
   "id": "34537304",
   "metadata": {},
   "outputs": [
    {
     "data": {
      "text/plain": [
       "[<matplotlib.lines.Line2D at 0x177e30ca0>]"
      ]
     },
     "execution_count": 25,
     "metadata": {},
     "output_type": "execute_result"
    },
    {
     "data": {
      "image/png": "[encoded data removed]",
      "text/plain": [
       "<Figure size 640x480 with 1 Axes>"
      ]
     },
     "metadata": {},
     "output_type": "display_data"
    }
   ],
   "source": [
    "beta_prime = 1.2 *1e3 #atoms/ms\n",
    "gamma = 0 #fitted 1 body loss decay rate\n",
    "T= 15e-6\n",
    "# tweezer_depth= abs(U0_tweezer_inJ)\n",
    "trajectories = 700\n",
    "ts = np.linspace(0, 5e-3, 200)\n",
    "dt_step = ts[1]-ts[0]\n",
    "\n",
    "surv_sum_traj = np.zeros(len(ts))\n",
    "for j in np.arange(trajectories):\n",
    "    N0= 2 # intial number of atoms\n",
    "    surv_dts =np.zeros(len(ts))\n",
    "    surv_dts[0]= N0 \n",
    "    for i in range(len(ts)):\n",
    "        if (i==0):\n",
    "            num_atoms_at_this_step = surv_dts[0]\n",
    "        else:\n",
    "            num_atoms_at_this_step = surv_dts[i-1]\n",
    "\n",
    "        P_two_body_loss = dq_two_body(beta_prime, num_atoms_at_this_step, dt_step)\n",
    "        # P_one_body_loss= 0 # assuming no one body loss for now\n",
    "        P_one_body_loss= dq_one_body(gamma, num_atoms_at_this_step, dt_step)\n",
    "\n",
    "        prob_no_loss = (1-P_one_body_loss)*(1-P_two_body_loss)\n",
    "        prob_one_loss = P_one_body_loss*(1-P_two_body_loss)\n",
    "        prob_two_loss = (1-P_one_body_loss)*P_two_body_loss\n",
    "\n",
    "        prob_dict= {'no_loss': prob_no_loss, 'one_loss': prob_one_loss, 'two_loss': prob_two_loss }\n",
    "        #define a probability order\n",
    "        ordered_dict = (sorted(prob_dict.items(), key=lambda x:x[1])) # returns an ordered array, ordered by the probability value. eg. [('one_loss', 1), ('no_loss', 2), ('two_loss', 4)]\n",
    "\n",
    "        #now we choose which decay channel will happen using Monte Carlo\n",
    "        p_rand = random.random() \n",
    "\n",
    "        if p_rand < ordered_dict[0][1]: \n",
    "                surv_dts[i] = num_atoms_at_this_step - number_of_lost_atoms(ordered_dict[0][0])\n",
    "        elif p_rand > ordered_dict[0][1] and p_rand < ordered_dict[1][1] : \n",
    "                surv_dts[i] = num_atoms_at_this_step - number_of_lost_atoms(ordered_dict[1][0])\n",
    "        elif p_rand > ordered_dict[1][1]: \n",
    "                surv_dts[i] = num_atoms_at_this_step - number_of_lost_atoms(ordered_dict[2][0])\n",
    "    \n",
    "    #in theory this should be it. however in our experiment we apply a 2->1 collision if we still have two atoms at the end.\n",
    "    for k in range(len(surv_dts)):\n",
    "          if surv_dts[k] ==2:\n",
    "                surv_dts[k] -= 1\n",
    "\n",
    "    surv_sum_traj += surv_dts\n",
    "\n",
    "surv_average = surv_sum_traj/ trajectories\n",
    "\n",
    "plt.plot(ts, surv_average)\n",
    "plt.plot(ts, np.exp(-ts*beta_prime))\n"
   ]
  },
  {
   "cell_type": "code",
   "execution_count": 72,
   "id": "b9525a5e",
   "metadata": {},
   "outputs": [
    {
     "data": {
      "text/plain": [
       "2"
      ]
     },
     "execution_count": 72,
     "metadata": {},
     "output_type": "execute_result"
    }
   ],
   "source": [
    "a= np.arange(3)\n",
    "a[-1]"
   ]
  },
  {
   "attachments": {},
   "cell_type": "markdown",
   "id": "7c5264b5",
   "metadata": {},
   "source": [
    "## Antoine numbers (Fuhrmanek, PHYSICAL REVIEW A 85, 062708 (2012))"
   ]
  },
  {
   "cell_type": "code",
   "execution_count": 7,
   "id": "54fbf4a8",
   "metadata": {},
   "outputs": [
    {
     "name": "stdout",
     "output_type": "stream",
     "text": [
      "Trap volume: 0.73 um^3. From paper expect 0.7 um^3\n"
     ]
    }
   ],
   "source": [
    "T0_paris= 300e-6 # 200 uK\n",
    "omega_ax_paris = 2*pi* 25e3 # 2pi x 25 kHz\n",
    "omega_rad_paris = 2*pi* 130e3 # 2pi x 130 kHz\n",
    "volume_paris = trap_volume(T0_paris, omega_ax_paris,omega_rad_paris) \n",
    "print(\"Trap volume: \"+str(round(volume_paris * (1e6)**3, 2)) +\" um^3. From paper expect 0.7 um^3\")"
   ]
  },
  {
   "cell_type": "code",
   "execution_count": 8,
   "id": "a2735407",
   "metadata": {},
   "outputs": [
    {
     "name": "stdout",
     "output_type": "stream",
     "text": [
      "Beta: 2.48e-09 cm^3/s. From paper 2.4e-9 cm^3/s\n"
     ]
    }
   ],
   "source": [
    "beta_prime_paris = 1.2 *1e3 # atoms/s in the paper 1.2 atoms/ms\n",
    "beta_paris= calc_beta(beta_prime_paris, volume_paris)\n",
    "print(\"Beta: \"+str(round(beta_paris* (1e2)**3,11)) +\" cm^3/s. From paper 2.4e-9 cm^3/s\" )"
   ]
  },
  {
   "cell_type": "markdown",
   "id": "80b5a36a",
   "metadata": {},
   "source": [
    "## Our numbers"
   ]
  },
  {
   "cell_type": "markdown",
   "id": "f4cd6182",
   "metadata": {},
   "source": [
    "### Tweezer parameters"
   ]
  },
  {
   "cell_type": "code",
   "execution_count": 78,
   "id": "f31e341b",
   "metadata": {},
   "outputs": [
    {
     "name": "stdout",
     "output_type": "stream",
     "text": [
      "Polarizability of GS with 850nm = 3.993e-02 Hz m^2/W.\n",
      "Trap depth in uK:  933.5809029329741\n",
      "Trap frequency parallel: 37.12287033435295 kHz\n",
      "Trap frequency perpendicular: 135.82682006679235 kHz\n"
     ]
    }
   ],
   "source": [
    "lambda_l= 850e-9 \n",
    "k_l = 2*np.pi/lambda_l\n",
    "P= 1.5e-3; wx = 0.7e-6; wy= wx\n",
    "\n",
    "atom = Rubidium87()\n",
    "calc = DynamicPolarizability(atom, atom.groundStateN, 0, 0.5)\n",
    "calc.defineBasis(atom.groundStateN, atom.groundStateN+15)\n",
    "alpha0_twz, alpha1_twz, alpha2_twz, core, dynamic, closestState = calc.getPolarizability(lambda_l, units=\"SI\", accountForStateLifetime=True)\n",
    "\n",
    "tweez_polB_GS=2*alpha0_twz*1/(const.epsilon_0*const.speed_of_light) # units of Hz m^2/W. We consider only the scalar polarizability\n",
    "print(\"Polarizability of GS with 850nm = %.3e Hz m^2/W.\" % (tweez_polB_GS))\n",
    "U0_tweezer = trap_depth_gaussian(tweez_polB_GS, P, wx, wy) #in Hz\n",
    "U0_tweezer_inJ = U0_tweezer*const.h\n",
    "U0_tweezer_inK = abs(U0_tweezer*const.h/const.k)\n",
    "print(\"Trap depth in uK: \", abs(U0_tweezer*const.h/const.k*1e6))\n",
    "\n",
    "mass_Rb = 87*const.u\n",
    "zr= np.pi * wx**2/ lambda_l\n",
    "omega_parallel= np.sqrt(2* abs(U0_tweezer_inJ)/ (mass_Rb* zr**2))/ (2* np.pi)\n",
    "omega_perpendicular= np.sqrt(4* abs(U0_tweezer_inJ)/ (mass_Rb* wx**2))/ (2* np.pi)\n",
    "print(\"Trap frequency parallel: \"+ str(omega_parallel/1e3)+ \" kHz\")\n",
    "print(\"Trap frequency perpendicular: \"+ str(omega_perpendicular/1e3)+ \" kHz\")"
   ]
  },
  {
   "cell_type": "markdown",
   "id": "c25a20f6",
   "metadata": {},
   "source": [
    "### 2->0 collisions"
   ]
  },
  {
   "cell_type": "code",
   "execution_count": 77,
   "id": "012f6556",
   "metadata": {},
   "outputs": [
    {
     "name": "stdout",
     "output_type": "stream",
     "text": [
      "Trap volume: 0.016 um^3\n",
      "Beta: 1.3894630765388815e-09 cm^3/s\n"
     ]
    }
   ],
   "source": [
    "T0 =30e-6\n",
    "omega_ax = 2*pi* 35.44e3 # 2pi x 25 kHz\n",
    "omega_rad = 2*pi* 129.6e3 # 2pi x 130 kHz\n",
    "volume = trap_volume(T0, omega_ax,omega_rad) \n",
    "print(\"Trap volume: \"+str(round(volume * (1e6)**3, 3)) +\" um^3\")\n",
    "\n",
    "beta_prime = 30 *1e3 # atoms/s in the paper 1.2 atoms/ms\n",
    "beta= calc_beta(beta_prime, volume)\n",
    "print(\"Beta: \"+str(beta* (1e2)**3) +\" cm^3/s\" )"
   ]
  },
  {
   "attachments": {},
   "cell_type": "markdown",
   "id": "bc39e0e0",
   "metadata": {},
   "source": [
    "# Linear Heating: no cooling for atom in tweezers"
   ]
  },
  {
   "attachments": {},
   "cell_type": "markdown",
   "id": "018982f1",
   "metadata": {},
   "source": [
    "Here we assume to have an atom trapped in single tweezer that is not cooled. Following the thesis Scaling-up the Tweezer Platform - Trapping Arrays of Single Atoms in a Cryogenic Environment from Schymik"
   ]
  },
  {
   "cell_type": "code",
   "execution_count": 103,
   "id": "e68dc0b6",
   "metadata": {
    "ExecuteTime": {
     "end_time": "2022-09-14T18:10:20.900078Z",
     "start_time": "2022-09-14T18:10:20.736249Z"
    }
   },
   "outputs": [
    {
     "name": "stdout",
     "output_type": "stream",
     "text": [
      "Polarizability of GS with 826nm = 3.993e-02 Hz m^2/W.\n",
      "Trap depth in uK:  1030.1099097853044\n",
      "Trap frequency parallel: 35.85565918272112 kHz\n",
      "Trap frequency perpendicular: 136.81273221895654 kHz\n"
     ]
    }
   ],
   "source": [
    "# lambda_l= 826e-9 \n",
    "#P= 1.0e-3; wx = 0.75e-6; wy= 0.75e-6\n",
    "lambda_l= 850e-9 \n",
    "k_l = 2*np.pi/lambda_l\n",
    "P= 1.8e-3; wx = 0.73e-6; wy= wx\n",
    "\n",
    "# P= 0.3*1.45e-3; wx = 0.73e-6; wy= wx\n",
    "\n",
    "\n",
    "atom = Rubidium87()\n",
    "calc = DynamicPolarizability(atom, atom.groundStateN, 0, 0.5)\n",
    "calc.defineBasis(atom.groundStateN, atom.groundStateN+15)\n",
    "alpha0_twz, alpha1_twz, alpha2_twz, core, dynamic, closestState = calc.getPolarizability(lambda_l, units=\"SI\", accountForStateLifetime=True)\n",
    "\n",
    "tweez_polB_GS=2*alpha0_twz*1/(const.epsilon_0*const.speed_of_light) # units of Hz m^2/W. We consider only the scalar polarizability\n",
    "print(\"Polarizability of GS with 826nm = %.3e Hz m^2/W.\" % (tweez_polB_GS))\n",
    "U0_tweezer = trap_depth_gaussian(tweez_polB_GS, P, wx, wy) #in Hz\n",
    "U0_tweezer_inJ = U0_tweezer*const.h\n",
    "U0_tweezer_inK = abs(U0_tweezer*const.h/const.k)\n",
    "print(\"Trap depth in uK: \", abs(U0_tweezer*const.h/const.k*1e6))\n",
    "\n",
    "mass_Rb = 87*const.u\n",
    "zr= np.pi * wx**2/ lambda_l\n",
    "omega_parallel= np.sqrt(2* abs(U0_tweezer_inJ)/ (mass_Rb* zr**2))/ (2* np.pi)\n",
    "omega_perpendicular= np.sqrt(4* abs(U0_tweezer_inJ)/ (mass_Rb* wx**2))/ (2* np.pi)\n",
    "print(\"Trap frequency parallel: \"+ str(omega_parallel/1e3)+ \" kHz\")\n",
    "print(\"Trap frequency perpendicular: \"+ str(omega_perpendicular/1e3)+ \" kHz\")\n"
   ]
  },
  {
   "cell_type": "code",
   "execution_count": 104,
   "id": "59765c37",
   "metadata": {},
   "outputs": [
    {
     "name": "stdout",
     "output_type": "stream",
     "text": [
      "Scattering rate: 7.3 s^-1\n",
      "linaear heating rate: 2.23 uK/s\n"
     ]
    }
   ],
   "source": []
  },
  {
   "attachments": {},
   "cell_type": "markdown",
   "id": "09886779",
   "metadata": {
    "ExecuteTime": {
     "end_time": "2022-09-07T03:01:22.998988Z",
     "start_time": "2022-09-07T03:01:22.992195Z"
    }
   },
   "source": []
  },
  {
   "cell_type": "code",
   "execution_count": 6,
   "id": "5ced0bfa",
   "metadata": {},
   "outputs": [],
   "source": [
    "def P_survival_lin_heating(t, tau, alpha, U0= U0_tweezer_inK, T0=20e-6):\n",
    "    P_vacuum = np.exp(-t/tau)\n",
    "    P_heat = 1- np.exp(- U0/(T0 + alpha*t) ) * ( 1+ U0/(T0 + alpha*t) + U0**2/(2*(T0 + alpha*t)**2) )\n",
    "    return P_vacuum*P_heat"
   ]
  },
  {
   "cell_type": "code",
   "execution_count": 7,
   "id": "7a4c1111",
   "metadata": {},
   "outputs": [
    {
     "data": {
      "text/plain": [
       "Text(0.5, 1.0, 'lifetime: tau= 100 s, alpha = 137 uK s^-1')"
      ]
     },
     "execution_count": 7,
     "metadata": {},
     "output_type": "execute_result"
    },
    {
     "data": {
      "image/png": "[encoded data removed]",
      "text/plain": [
       "<Figure size 640x480 with 1 Axes>"
      ]
     },
     "metadata": {},
     "output_type": "display_data"
    }
   ],
   "source": [
    "time= np.linspace(0,10, 100)\n",
    "fig,ax = plt.subplots()\n",
    "ax.plot(time,P_survival_lin_heating(time, 300, 30e-6, U0=U0_tweezer_inK, T0=10e-6) )\n",
    "# ax.set_yscale('log')\n",
    "ax.set_xlabel( \"wait time (s)\")\n",
    "ax.set_ylabel(\"survival probability\")\n",
    "ax.set_title(\"lifetime: tau= 100 s, alpha = 137 uK s^-1\")"
   ]
  },
  {
   "attachments": {},
   "cell_type": "markdown",
   "id": "ceac2add",
   "metadata": {},
   "source": [
    "# Monte-Carlo simulations: release-recapture"
   ]
  },
  {
   "attachments": {},
   "cell_type": "markdown",
   "id": "17c75496",
   "metadata": {},
   "source": [
    "Following the procedure discussed in Tuchendler et al., 2008 Energy distribution and cooling of a single atom in an optical tweezer.\n",
    "\n",
    "For the simulation, the initial position and velocity are chosen according to normal distributions with widths σr,v, and we consider that an atom is lost if its kinetic energy is higher than the trap potential at the atom position after the time of flight."
   ]
  },
  {
   "cell_type": "code",
   "execution_count": 8,
   "id": "17da842a",
   "metadata": {},
   "outputs": [],
   "source": [
    "def delta_x_par (T, omega_par, mass= 87*const.u):\n",
    "    return np.sqrt(const.k*T / (mass * omega_par**2) )\n",
    "\n",
    "def delta_x_perp (T, omega_perp, mass= 87*const.u):\n",
    "    return np.sqrt(const.k*T / (mass * omega_perp**2) )\n",
    "\n",
    "def delta_v (T, mass= 87*const.u):\n",
    "    return np.sqrt(const.k * T/ mass)\n",
    "\n",
    "def get_initial_params(T, omega_par, omega_perp):\n",
    "    # in here we assume that the z direction is the tweezer axis -> omega parallel\n",
    "    (xi, yi)= np.random.normal(0, delta_x_perp(T, omega_perp), 2)\n",
    "    zi= np.random.normal(0, delta_x_par(T, omega_par))\n",
    "    (vxi, vyi, vzi) = np.random.normal(0, delta_v(T), 3)\n",
    "    return (xi, yi, zi, vxi, vyi, vzi)\n",
    "\n",
    "def get_final_params(dt, xi,yi,zi, vxi, vyi, vzi):\n",
    "    g= 9.8 # m/s\n",
    "    xf = xi + vxi*dt\n",
    "    yf = yi + vyi*dt - (g * dt**2)/2\n",
    "    zf = zi + vzi*dt\n",
    "    vxf = vxi\n",
    "    vyf = vyi - g*dt\n",
    "    vzf = vzi\n",
    "\n",
    "    return (xf, yf, zf, vxf, vyf, vzf )\n",
    "\n",
    "def get_final_K_energy (xf, yf, zf, vxf, vyf, vzf, omega_par, omega_perp, mass = 87*const.u):\n",
    "    return mass/2 * (vxf**2 + vyf**2 + vzf**2) + 1/2 * mass * ( (omega_par**2 * zf**2) + omega_perp**2 * (xf**2+ yf**2))\n",
    "\n"
   ]
  },
  {
   "cell_type": "code",
   "execution_count": 9,
   "id": "ca4da20f",
   "metadata": {},
   "outputs": [
    {
     "data": {
      "image/png": "[encoded data removed]",
      "text/plain": [
       "<Figure size 640x480 with 1 Axes>"
      ]
     },
     "metadata": {},
     "output_type": "display_data"
    }
   ],
   "source": [
    "T= 15e-6\n",
    "tweezer_depth= abs(U0_tweezer_inJ)\n",
    "# tweezer_depth= const.k *1.25e-3\n",
    "\n",
    "trajectories_per_time = 400\n",
    "dts = np.linspace(0, 50e-6, 30)\n",
    "\n",
    "surv_dts =np.zeros(len(dts))\n",
    "\n",
    "for j in range(len(dts)):\n",
    "    dt = dts[j]\n",
    "    surv1 = np.zeros(trajectories_per_time)\n",
    "    for i in range(trajectories_per_time):\n",
    "        initial_params = get_initial_params(T, omega_par= 2*pi*omega_parallel, omega_perp= 2*pi*omega_perpendicular)\n",
    "        final_params = get_final_params(dt, *initial_params)\n",
    "        final_K_energy= get_final_K_energy(*final_params, omega_par= 2*pi*omega_parallel, omega_perp= 2*pi*omega_perpendicular)\n",
    "        # print(final_K_energy)\n",
    "        if (final_K_energy < tweezer_depth):\n",
    "            surv1[i]+=1\n",
    "    surv_dts[j] = surv1.mean()\n",
    "\n",
    "fig,ax = plt.subplots()\n",
    "ax.plot(dts, surv_dts)\n",
    "ax.set_ylabel (\"capture probability\")\n",
    "ax.set_xlabel (\"release time (s)\")\n",
    "ax.set_title(\"release-capture, T= \"+str(T)+\" K, trap depth U= \" + str(round(abs(U0_tweezer*const.h/const.k*1e3), 1))+\" mK\"  )\n",
    "ax.grid()\n",
    "        "
   ]
  },
  {
   "cell_type": "code",
   "execution_count": 10,
   "id": "a9f67b58",
   "metadata": {},
   "outputs": [
    {
     "data": {
      "text/plain": [
       "(-3.0667869397460024e-06,\n",
       " -2.9974404437249587e-06,\n",
       " 8.91106603848814e-07,\n",
       " -0.06026108094238013,\n",
       " -0.058356305740611805,\n",
       " 0.017617406195244104)"
      ]
     },
     "execution_count": 10,
     "metadata": {},
     "output_type": "execute_result"
    }
   ],
   "source": [
    "final_params"
   ]
  },
  {
   "cell_type": "code",
   "execution_count": 12,
   "metadata": {},
   "outputs": [
    {
     "data": {
      "text/plain": [
       "0.0003618022144864041"
      ]
     },
     "execution_count": 12,
     "metadata": {},
     "output_type": "execute_result"
    }
   ],
   "source": [
    "mass_Rb = 87*const.u\n",
    "\n",
    "(((const.h * 1/780e-9)**2/(2*mass_Rb))/const.k)*2000"
   ]
  },
  {
   "cell_type": "code",
   "execution_count": 13,
   "metadata": {},
   "outputs": [
    {
     "data": {
      "text/plain": [
       "0.0003183098861837907"
      ]
     },
     "execution_count": 13,
     "metadata": {},
     "output_type": "execute_result"
    }
   ],
   "source": [
    "2000/(2*pi*1e6)"
   ]
  },
  {
   "cell_type": "code",
   "execution_count": 16,
   "metadata": {},
   "outputs": [
    {
     "name": "stderr",
     "output_type": "stream",
     "text": [
      "/var/folders/jl/hvyntvy9231cvzp80j5b6wrm0000gn/T/ipykernel_22497/686729322.py:4: RuntimeWarning: divide by zero encountered in divide\n",
      "  return 1- np.exp(- U0/(T0) ) * ( 1+ U0/(T0 ) + U0**2/(2*(T0)**2) )\n",
      "/var/folders/jl/hvyntvy9231cvzp80j5b6wrm0000gn/T/ipykernel_22497/686729322.py:4: RuntimeWarning: invalid value encountered in multiply\n",
      "  return 1- np.exp(- U0/(T0) ) * ( 1+ U0/(T0 ) + U0**2/(2*(T0)**2) )\n"
     ]
    },
    {
     "data": {
      "text/plain": [
       "[<matplotlib.lines.Line2D at 0x1417ebf10>]"
      ]
     },
     "execution_count": 16,
     "metadata": {},
     "output_type": "execute_result"
    },
    {
     "data": {
      "image/png": "[encoded data removed]",
      "text/plain": [
       "<Figure size 640x480 with 1 Axes>"
      ]
     },
     "metadata": {},
     "output_type": "display_data"
    }
   ],
   "source": [
    "U0= 1e-3\n",
    "\n",
    "def evaportation (T0):\n",
    "    return 1- np.exp(- U0/(T0) ) * ( 1+ U0/(T0 ) + U0**2/(2*(T0)**2) )\n",
    "\n",
    "temps= np.linspace(0, 500e-6)\n",
    "plt.plot(temps*1e6, 1-evaportation(temps))"
   ]
  },
  {
   "cell_type": "code",
   "execution_count": null,
   "metadata": {},
   "outputs": [],
   "source": []
  }
 ],
 "metadata": {
  "kernelspec": {
   "display_name": "Python 3 (ipykernel)",
   "language": "python",
   "name": "python3"
  },
  "language_info": {
   "codemirror_mode": {
    "name": "ipython",
    "version": 3
   },
   "file_extension": ".py",
   "mimetype": "text/x-python",
   "name": "python",
   "nbconvert_exporter": "python",
   "pygments_lexer": "ipython3",
   "version": "3.10.10"
  }
 },
 "nbformat": 4,
 "nbformat_minor": 5
}
