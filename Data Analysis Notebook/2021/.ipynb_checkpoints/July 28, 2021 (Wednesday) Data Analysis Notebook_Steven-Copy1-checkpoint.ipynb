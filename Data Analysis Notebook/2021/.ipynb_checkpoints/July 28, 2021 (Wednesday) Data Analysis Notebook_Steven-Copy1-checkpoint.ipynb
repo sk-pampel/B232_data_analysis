{
 "cells": [
  {
   "cell_type": "markdown",
   "metadata": {
    "toc-hr-collapsed": false
   },
   "source": [
    "# August 2, 2021 (Monday) Data Analysis Notebook"
   ]
  },
  {
   "cell_type": "code",
   "execution_count": 1,
   "metadata": {
    "ExecuteTime": {
     "end_time": "2018-02-28T17:05:43.686529Z",
     "start_time": "2018-02-28T17:05:43.682527Z"
    }
   },
   "outputs": [],
   "source": [
    "# current date, for retrieving data from proper location.\n",
    "year = \"2021\"\n",
    "month = \"August\"\n",
    "day = \"2\""
   ]
  },
  {
   "cell_type": "markdown",
   "metadata": {},
   "source": [
    "## Imports and initialization"
   ]
  },
  {
   "cell_type": "code",
   "execution_count": 2,
   "metadata": {},
   "outputs": [],
   "source": [
    "from matplotlib import gridspec"
   ]
  },
  {
   "cell_type": "code",
   "execution_count": 3,
   "metadata": {},
   "outputs": [],
   "source": [
    "import scipy.signal"
   ]
  },
  {
   "cell_type": "code",
   "execution_count": 4,
   "metadata": {
    "ExecuteTime": {
     "end_time": "2018-02-28T17:06:30.493587Z",
     "start_time": "2018-02-28T17:06:23.025745Z"
    },
    "hidden": true
   },
   "outputs": [
    {
     "data": {
      "text/html": [
       "        <script type=\"text/javascript\">\n",
       "        window.PlotlyConfig = {MathJaxConfig: 'local'};\n",
       "        if (window.MathJax) {MathJax.Hub.Config({SVG: {font: \"STIX-Web\"}});}\n",
       "        if (typeof require !== 'undefined') {\n",
       "        require.undef(\"plotly\");\n",
       "        requirejs.config({\n",
       "            paths: {\n",
       "                'plotly': ['https://cdn.plot.ly/plotly-latest.min']\n",
       "            }\n",
       "        });\n",
       "        require(['plotly'], function(Plotly) {\n",
       "            window._Plotly = Plotly;\n",
       "        });\n",
       "        }\n",
       "        </script>\n",
       "        "
      ]
     },
     "metadata": {},
     "output_type": "display_data"
    }
   ],
   "source": [
    "%config Completer.use_jedi = False\n",
    "import numpy as np \n",
    "from numpy import array as arr\n",
    "import pandas as pd\n",
    "import plotly.offline as pltly\n",
    "pltly.init_notebook_mode(connected=True)\n",
    "from plotly import graph_objs as go\n",
    "import math\n",
    "import scipy.optimize as opt\n",
    "from scipy import ndimage\n",
    "import matplotlib.pyplot as plt\n",
    "from matplotlib import cm\n",
    "from matplotlib.colors import ListedColormap\n",
    "import warnings \n",
    "warnings.filterwarnings('module')\n",
    "from datetime import datetime\n",
    "import uncertainties.unumpy\n",
    "import IPython\n",
    "import pandas as pd\n",
    "import pickle\n",
    "\n",
    "from matplotlib.pyplot import *\n",
    "from matplotlib import rcParams\n",
    "from matplotlib import style\n",
    "from mpl_toolkits.axes_grid1 import make_axes_locatable\n",
    "import matplotlib.pyplot as plt\n",
    "import matplotlib.dates as mdates\n",
    "%matplotlib inline\n",
    "\n",
    "# ## set matplotlib plot defaults :D\n",
    "# Style controls many default colors in matplotlib plots.\n",
    "# Change the following if you don't like dark backgrounds. Many other options.\n",
    "import matplotlib as mpl\n",
    "\n",
    "if False:\n",
    "    # My Dark Settings\n",
    "    style.use(['dark_background'])\n",
    "    c = '#0A0A0A'\n",
    "    mpl.rcParams['axes.facecolor'] = '#000000'\n",
    "    mpl.rcParams['figure.edgecolor'] = c\n",
    "    mpl.rcParams['figure.facecolor'] = c\n",
    "else:\n",
    "    # My Light Settings\n",
    "    style.use(['default'])\n",
    "    c = '#FFFFFF'\n",
    "    mpl.rcParams['axes.facecolor'] = c\n",
    "    mpl.rcParams['figure.edgecolor'] = c\n",
    "    mpl.rcParams['figure.facecolor'] = c  \n",
    "# the default cycling of colors in this mode isn't very good.\n",
    "#rcParams['axes.prop_cycle'] = (\"cycler('color', ['r','c','g','#FFFFFF','b']) + cycler('marker', ['o','v','<','>','^'])\")\n",
    "### General\n",
    "mpl.rcParams['figure.figsize'] = (25.0, 8.0)\n",
    "mpl.rcParams['axes.grid'] = True\n",
    "mpl.rcParams['axes.formatter.useoffset'] = False\n",
    "mpl.rcParams['grid.alpha'] = 0.15\n",
    "mpl.rcParams['axes.formatter.limits'] = (-3,3)\n",
    "mpl.rcParams['image.cmap'] = 'viridis'\n",
    "#rcParams['image.cmap'] = dark_viridis_cmap\n",
    "# to see all available options, decomment this line.\n",
    "# print(mpl.rcParams)\n",
    "mpl.rcParams['font.size'] = 14\n",
    "viridis = cm.get_cmap('viridis', 256)\n",
    "dark_viridis = []\n",
    "bl = 0.15\n",
    "for i in range(256):\n",
    "    dark_viridis.append(list(viridis(i)))\n",
    "    dark_viridis[-1][0] = dark_viridis[-1][0] *(bl+(1-bl)*i/255)\n",
    "    dark_viridis[-1][1] = dark_viridis[-1][1] *(bl+(1-bl)*i/255)\n",
    "    dark_viridis[-1][2] = dark_viridis[-1][2] *(bl+(1-bl)*i/255)\n",
    "dark_viridis_cmap = ListedColormap(dark_viridis)"
   ]
  },
  {
   "cell_type": "code",
   "execution_count": 5,
   "metadata": {},
   "outputs": [
    {
     "name": "stderr",
     "output_type": "stream",
     "text": [
      "//anaconda3/lib/python3.7/importlib/_bootstrap.py:219: RuntimeWarning:\n",
      "\n",
      "numpy.ufunc size changed, may indicate binary incompatibility. Expected 192 from C header, got 216 from PyObject\n",
      "\n",
      "//anaconda3/lib/python3.7/site-packages/pywt/_utils.py:6: DeprecationWarning:\n",
      "\n",
      "Using or importing the ABCs from 'collections' instead of from 'collections.abc' is deprecated, and in 3.8 it will stop working\n",
      "\n"
     ]
    }
   ],
   "source": [
    "import mpl_toolkits.axes_grid1\n",
    "import matplotlib.gridspec as gridspec\n",
    "from skimage.transform import iradon"
   ]
  },
  {
   "cell_type": "code",
   "execution_count": 6,
   "metadata": {},
   "outputs": [
    {
     "data": {
      "text/plain": [
       "<matplotlib.colors.ListedColormap at 0x1c22f799e8>"
      ]
     },
     "execution_count": 6,
     "metadata": {},
     "output_type": "execute_result"
    }
   ],
   "source": [
    "dark_viridis_cmap"
   ]
  },
  {
   "cell_type": "code",
   "execution_count": 7,
   "metadata": {
    "ExecuteTime": {
     "end_time": "2018-02-28T17:06:46.067900Z",
     "start_time": "2018-02-28T17:06:31.753411Z"
    },
    "hidden": true
   },
   "outputs": [],
   "source": [
    "import sys\n",
    "sys.path.append(\"..\")\n",
    "from Analysis_Python_Files.fitters.Gaussian import dip, double_dip, bump, bump2, bump3, bump2r, gaussian, bump3_Sym, gaussian_2d\n",
    "from Analysis_Python_Files.fitters.Sinc_Squared import sinc_sq3_Sym, sinc_sq\n",
    "from Analysis_Python_Files.fitters import decaying_cos, exponential_decay_fixed_limit as decay, linear, LargeBeamMotExpansion, n1State\n",
    "import Analysis_Python_Files.PictureWindow as pw\n",
    "import Analysis_Python_Files.ExpFile as exp\n",
    "exp.setPath(day, month, year)\n",
    "import Analysis_Python_Files.PlotlyPlotters as pp\n",
    "import Analysis_Python_Files.MatplotlibPlotters as mp\n",
    "import Analysis_Python_Files.MainAnalysis as ma\n",
    "import Analysis_Python_Files.AnalysisHelpers as ah\n",
    "import Analysis_Python_Files.Miscellaneous as misc\n",
    "import Analysis_Python_Files.PopulationAnalysis as pa\n",
    "import Analysis_Python_Files.MarksConstants as mc\n",
    "import Analysis_Python_Files.fitters as fitters\n",
    "import Analysis_Python_Files.LoadingFunctions as lf\n",
    "import Analysis_Python_Files.FreeSpaceImaging as fsi\n",
    "import Analysis_Python_Files.TransferAnalysis as ta\n",
    "import Analysis_Python_Files.LightShiftCalculations as lsc\n",
    "import Analysis_Python_Files.CalibrationAnalysis as ca\n",
    "# It's important to explicitly import calPoint here or else pickling doesn't work.\n",
    "from Analysis_Python_Files.CalibrationAnalysis import calPoint \n",
    "from Analysis_Python_Files.TransferAnalysisOptions import TransferAnalysisOptions as ao\n",
    "import Analysis_Python_Files.ThresholdOptions as to\n",
    "import Analysis_Python_Files.TransferAnalysisOptions as tao"
   ]
  },
  {
   "cell_type": "markdown",
   "metadata": {},
   "source": [
    "import imp\n",
    "def reloadAll(day_=None, diplsayErrors=False):\n",
    "    for module in sys.modules.values():\n",
    "        try:\n",
    "            reload(module)\n",
    "        except NotImplementedError:\n",
    "            if diplsayErrors:\n",
    "                print(module, 'NotImplementedError')\n",
    "        except AttributeError:\n",
    "            if diplsayErrors:\n",
    "                print(module, 'AttributeError')\n",
    "        except TypeError:\n",
    "            if diplsayErrors:\n",
    "                print(module, 'ValueError')\n",
    "        except ImportError:\n",
    "            if diplsayErrors:\n",
    "                print(module, 'ImportError')\n",
    "    if day_ is None:\n",
    "        day_ = day\n",
    "    setPath(day_,month,year)"
   ]
  },
  {
   "cell_type": "code",
   "execution_count": 8,
   "metadata": {},
   "outputs": [],
   "source": [
    "from importlib import reload\n",
    "def reloadMyModules(day_=None, month_=None, year_=None):\n",
    "    reload(exp)\n",
    "    if day_ is None:\n",
    "        day_ = day\n",
    "    if month_ is None:\n",
    "        month_ = month\n",
    "    if year_ is None:\n",
    "        year_ = year\n",
    "    exp.setPath(day_,month_,year_,sl=\"/\")\n",
    "    reload(lf)\n",
    "    reload(misc)\n",
    "    reload(ma)\n",
    "    reload(ah)\n",
    "    reload(pp)\n",
    "    reload(mp)\n",
    "    reload(fitters)\n",
    "    reload(fsi)\n",
    "    reload(ta)\n",
    "    reload(pa)\n",
    "    reload(tao)\n",
    "    reload(to)\n",
    "    reload(ca)\n",
    "reloadMyModules()"
   ]
  },
  {
   "cell_type": "markdown",
   "metadata": {
    "heading_collapsed": "true"
   },
   "source": [
    "## Standard Calibrations"
   ]
  },
  {
   "cell_type": "markdown",
   "metadata": {},
   "source": [
    "### Temperature"
   ]
  },
  {
   "cell_type": "markdown",
   "metadata": {},
   "source": [
    "#### Running Temperature"
   ]
  },
  {
   "cell_type": "code",
   "execution_count": null,
   "metadata": {},
   "outputs": [],
   "source": [
    "reload(ca)\n",
    "cTemps, cTimes = ca.loadAllTemperatureData()\n",
    "legends = ['1: Master Computer', '2: B236', '3: Auxiliary Table', '4: Main Exp. (Near Ion Pump)']\n",
    "fig, ax = plt.subplots(figsize=(20,10))\n",
    "for temp,lab in zip(misc.transpose(cTemps), legends):\n",
    "    ax.plot(cTimes,temp, label=lab, alpha=0.5, linewidth=1)\n",
    "ax.legend()\n",
    "ax.set_title('Lab Temperature Record');\n",
    "ax.set_ylim(20,30)"
   ]
  },
  {
   "cell_type": "code",
   "execution_count": null,
   "metadata": {},
   "outputs": [],
   "source": [
    "fig, ax = plt.subplots()\n",
    "for temp,lab in zip(misc.transpose(cTemps), legends):\n",
    "    ax.plot(cTimes[-50000:],temp[-50000:], label=lab, alpha=0.5, linewidth=1)\n"
   ]
  },
  {
   "cell_type": "markdown",
   "metadata": {},
   "source": [
    "#### Today's Temperature"
   ]
  },
  {
   "cell_type": "code",
   "execution_count": null,
   "metadata": {},
   "outputs": [],
   "source": [
    "reloadMyModules()\n",
    "ah.Temperature();"
   ]
  },
  {
   "cell_type": "markdown",
   "metadata": {},
   "source": [
    "## individual calibrations"
   ]
  },
  {
   "cell_type": "code",
   "execution_count": null,
   "metadata": {},
   "outputs": [],
   "source": [
    "sCalData = ca.std_analyzeAll()"
   ]
  },
  {
   "cell_type": "code",
   "execution_count": null,
   "metadata": {},
   "outputs": [],
   "source": [
    "with open(exp.dataAddress + 'CalibrationData.p','wb') as calFile:\n",
    "    pickle.dump(sCalData, calFile)"
   ]
  },
  {
   "cell_type": "markdown",
   "metadata": {
    "toc-hr-collapsed": true,
    "toc-nb-collapsed": true
   },
   "source": [
    "## Calibration Summmary"
   ]
  },
  {
   "cell_type": "code",
   "execution_count": null,
   "metadata": {},
   "outputs": [],
   "source": [
    "# load all past calibration data into a bigger strucutre.\n",
    "reloadMyModules()\n",
    "calData = ca.loadAllCalData()\n",
    "reloadMyModules(day_=day)"
   ]
  },
  {
   "cell_type": "code",
   "execution_count": null,
   "metadata": {},
   "outputs": [],
   "source": [
    "reload(ca)\n",
    "ca.checkData(calData)"
   ]
  },
  {
   "cell_type": "markdown",
   "metadata": {},
   "source": [
    "# Today's Work"
   ]
  },
  {
   "cell_type": "code",
   "execution_count": null,
   "metadata": {},
   "outputs": [],
   "source": []
  },
  {
   "cell_type": "code",
   "execution_count": 9,
   "metadata": {},
   "outputs": [],
   "source": [
    "reloadMyModules(28)"
   ]
  },
  {
   "cell_type": "markdown",
   "metadata": {},
   "source": [
    "### Optimizing Imaging"
   ]
  },
  {
   "cell_type": "markdown",
   "metadata": {},
   "source": [
    "#### Scan of the image_detuning"
   ]
  },
  {
   "cell_type": "code",
   "execution_count": 10,
   "metadata": {},
   "outputs": [],
   "source": [
    "atomlocs = [2, 2, 3, 7, 1]"
   ]
  }
 ],
 "metadata": {
  "anaconda-cloud": {},
  "hide_input": false,
  "kernelspec": {
   "display_name": "Python 3",
   "language": "python",
   "name": "python3"
  },
  "language_info": {
   "codemirror_mode": {
    "name": "ipython",
    "version": 3
   },
   "file_extension": ".py",
   "mimetype": "text/x-python",
   "name": "python",
   "nbconvert_exporter": "python",
   "pygments_lexer": "ipython3",
   "version": "3.7.3"
  },
  "nav_menu": {},
  "notify_time": "10",
  "record_timing": true,
  "toc": {
   "nav_menu": {},
   "number_sections": true,
   "sideBar": true,
   "skip_h1_title": false,
   "toc_cell": true,
   "toc_position": {
    "height": "780px",
    "left": "0px",
    "right": "1329.33px",
    "top": "107px",
    "width": "277px"
   },
   "toc_section_display": "none",
   "toc_window_display": false
  },
  "toc-autonumbering": true,
  "toc-showcode": false,
  "toc-showmarkdowntxt": false,
  "toc-showtags": false,
  "varInspector": {
   "cols": {
    "lenName": 16,
    "lenType": 16,
    "lenVar": 40
   },
   "kernels_config": {
    "python": {
     "delete_cmd_postfix": "",
     "delete_cmd_prefix": "del ",
     "library": "var_list.py",
     "varRefreshCmd": "print(var_dic_list())"
    },
    "r": {
     "delete_cmd_postfix": ") ",
     "delete_cmd_prefix": "rm(",
     "library": "var_list.r",
     "varRefreshCmd": "cat(var_dic_list()) "
    }
   },
   "types_to_exclude": [
    "module",
    "function",
    "builtin_function_or_method",
    "instance",
    "_Feature"
   ],
   "window_display": false
  }
 },
 "nbformat": 4,
 "nbformat_minor": 4
}
