{
 "cells": [
  {
   "cell_type": "code",
   "execution_count": 77,
   "metadata": {
    "ExecuteTime": {
     "end_time": "2018-02-28T17:06:46.067900Z",
     "start_time": "2018-02-28T17:06:31.753411Z"
    },
    "hidden": true,
    "tags": []
   },
   "outputs": [],
   "source": [
    "from scipy.optimize import curve_fit\n",
    "import matplotlib.pyplot as plt\n",
    "import numpy as np"
   ]
  },
  {
   "cell_type": "code",
   "execution_count": 78,
   "metadata": {},
   "outputs": [],
   "source": [
    "%matplotlib inline\n",
    "from matplotlib import rcParams\n",
    "rcParams['font.family'] = 'sans-serif';\n",
    "rcParams['axes.linewidth'] = 1.5;\n",
    "rcParams['axes.titlesize'] = 20\n",
    "rcParams['axes.labelsize'] = 20\n",
    "rcParams['xtick.labelsize'] = 15\n",
    "rcParams['xtick.major.width'] = 2\n",
    "rcParams['ytick.major.width'] = 2\n",
    "rcParams['ytick.labelsize'] = 15\n",
    "rcParams['lines.linewidth'] = 2.5\n",
    "rcParams['lines.color'] = 'k'\n",
    "plot_width = 8;\n",
    "plot_height = 5;"
   ]
  },
  {
   "cell_type": "markdown",
   "metadata": {},
   "source": [
    "## Slope of Shutter Response"
   ]
  },
  {
   "cell_type": "code",
   "execution_count": 89,
   "metadata": {},
   "outputs": [
    {
     "ename": "SyntaxError",
     "evalue": "invalid syntax (Temp/ipykernel_2472/3451400347.py, line 15)",
     "output_type": "error",
     "traceback": [
      "\u001b[1;36m  File \u001b[1;32m\"C:\\Users\\REGALL~1\\AppData\\Local\\Temp/ipykernel_2472/3451400347.py\"\u001b[1;36m, line \u001b[1;32m15\u001b[0m\n\u001b[1;33m    plt.plot(oss_xttl*1e3+.1,nss_yttl,color='tab:blue'label='TTL')\u001b[0m\n\u001b[1;37m                                                      ^\u001b[0m\n\u001b[1;31mSyntaxError\u001b[0m\u001b[1;31m:\u001b[0m invalid syntax\n"
     ]
    }
   ],
   "source": [
    "old_shutter_slope = 'C:\\\\Users\\\\Regal Lab\\\\Desktop\\\\Oscilliscope Data\\\\slope profile - shutter.csv'\n",
    "new_shutter_slope = 'C:\\\\Users\\\\Regal Lab\\\\Desktop\\\\Oscilliscope Data\\\\slope profile - new shutter.csv'\n",
    "\n",
    "from numpy import genfromtxt\n",
    "oss = genfromtxt(old_shutter_slope, delimiter=',')\n",
    "nss = genfromtxt(new_shutter_slope, delimiter=',')\n",
    "oss_xttl = oss[:,3] \n",
    "oss_yttl = oss[:,4] # ttl signal old shutter\n",
    "nss_xttl = nss[:,3]\n",
    "nss_yttl = nss[:,4] # ttl signal new shutter\n",
    "oss_xshut = oss[:,9]\n",
    "oss_yshut = oss[:,10] # scope signal old shutter\n",
    "nss_xshut = nss[:,9]\n",
    "nss_yshut = nss[:,10] # scope signal old shutter\n",
    "plt.plot(oss_xttl*1e3+.1,nss_yttl,color='tab:blue'label='TTL')\n",
    "plt.plot(oss_xttl*1e3+.1,oss_yshut,label='Aged Shutter')\n",
    "plt.plot(oss_xttl*1e3+.1,nss_yshut,label='New Shutter')\n",
    "plt.legend()\n",
    "plt.xlabel('ms')\n",
    "plt.ylabel('volts')\n",
    "fig = plt.gcf();\n",
    "fig.set_size_inches(plot_width, plot_height);\n",
    "plt.grid(True)\n",
    "ax = plt.subplot()\n",
    "ax.tick_params(direction='in')\n",
    "ax.tick_params(bottom=True, top=True, left=True, right=True)"
   ]
  },
  {
   "cell_type": "markdown",
   "metadata": {
    "tags": []
   },
   "source": [
    "## Profile of Shutter"
   ]
  },
  {
   "cell_type": "code",
   "execution_count": 87,
   "metadata": {},
   "outputs": [
    {
     "name": "stderr",
     "output_type": "stream",
     "text": [
      "C:\\Users\\REGALL~1\\AppData\\Local\\Temp/ipykernel_2472/4181908289.py:25: MatplotlibDeprecationWarning:\n",
      "\n",
      "Adding an axes using the same arguments as a previous axes currently reuses the earlier instance.  In a future version, a new instance will always be created and returned.  Meanwhile, this warning can be suppressed, and the future behavior ensured, by passing a unique label to each axes instance.\n",
      "\n"
     ]
    },
    {
     "data": {
      "image/png": "[encoded data removed]",
      "text/plain": [
       "<Figure size 576x360 with 1 Axes>"
      ]
     },
     "metadata": {
      "needs_background": "light"
     },
     "output_type": "display_data"
    }
   ],
   "source": [
    "old_shutter_slope = 'C:\\\\Users\\\\Regal Lab\\\\Desktop\\\\Oscilliscope Data\\\\whole profile - shutter.csv'\n",
    "new_shutter_slope = 'C:\\\\Users\\\\Regal Lab\\\\Desktop\\\\Oscilliscope Data\\\\whole profile - new shutter.csv'\n",
    "\n",
    "from numpy import genfromtxt\n",
    "osp = genfromtxt(old_shutter_slope, delimiter=',')\n",
    "nsp = genfromtxt(new_shutter_slope, delimiter=',')\n",
    "osp_xttl = osp[:,3] \n",
    "osp_yttl = osp[:,4] # ttl signal old shutter\n",
    "nsp_xttl = nsp[:,3]\n",
    "nsp_yttl = nsp[:,4] # ttl signal new shutter\n",
    "osp_xshut = osp[:,9]\n",
    "osp_yshut = osp[:,10] # scope signal old shutter\n",
    "nsp_xshut = nsp[:,9]\n",
    "nsp_yshut = nsp[:,10] # scope signal old shutter\n",
    "plt.plot(osp_xttl*1e3,nsp_yttl,label='TTL')\n",
    "plt.plot(osp_xttl*1e3,osp_yshut,label='Aged Shutter')\n",
    "plt.plot(osp_xttl*1e3,nsp_yshut,label='New Shutter')\n",
    "plt.legend()\n",
    "plt.xlabel('ms')\n",
    "plt.ylabel('volts')\n",
    "plt.xlim(0, 14)\n",
    "fig = plt.gcf();\n",
    "fig.set_size_inches(plot_width, plot_height);\n",
    "plt.grid(True)\n",
    "ax = plt.subplot()\n",
    "ax.tick_params(direction='in')\n",
    "ax.tick_params(bottom=True, top=True, left=True, right=True)"
   ]
  },
  {
   "cell_type": "code",
   "execution_count": null,
   "metadata": {},
   "outputs": [],
   "source": []
  }
 ],
 "metadata": {
  "anaconda-cloud": {},
  "hide_input": false,
  "kernelspec": {
   "display_name": "Python 3 (ipykernel)",
   "language": "python",
   "name": "python3"
  },
  "language_info": {
   "codemirror_mode": {
    "name": "ipython",
    "version": 3
   },
   "file_extension": ".py",
   "mimetype": "text/x-python",
   "name": "python",
   "nbconvert_exporter": "python",
   "pygments_lexer": "ipython3",
   "version": "3.8.8"
  },
  "nav_menu": {},
  "notify_time": "10",
  "record_timing": true,
  "toc": {
   "nav_menu": {},
   "number_sections": true,
   "sideBar": true,
   "skip_h1_title": false,
   "toc_cell": true,
   "toc_position": {
    "height": "780px",
    "left": "0px",
    "right": "1329.33px",
    "top": "107px",
    "width": "277px"
   },
   "toc_section_display": "none",
   "toc_window_display": false
  },
  "toc-autonumbering": true,
  "toc-showcode": false,
  "toc-showmarkdowntxt": false,
  "toc-showtags": false,
  "varInspector": {
   "cols": {
    "lenName": 16,
    "lenType": 16,
    "lenVar": 40
   },
   "kernels_config": {
    "python": {
     "delete_cmd_postfix": "",
     "delete_cmd_prefix": "del ",
     "library": "var_list.py",
     "varRefreshCmd": "print(var_dic_list())"
    },
    "r": {
     "delete_cmd_postfix": ") ",
     "delete_cmd_prefix": "rm(",
     "library": "var_list.r",
     "varRefreshCmd": "cat(var_dic_list()) "
    }
   },
   "types_to_exclude": [
    "module",
    "function",
    "builtin_function_or_method",
    "instance",
    "_Feature"
   ],
   "window_display": false
  }
 },
 "nbformat": 4,
 "nbformat_minor": 4
}
