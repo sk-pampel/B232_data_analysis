{
 "cells": [
  {
   "cell_type": "markdown",
   "metadata": {
    "toc-hr-collapsed": false
   },
   "source": [
    "# D1 Locking Calculations"
   ]
  },
  {
   "cell_type": "code",
   "execution_count": 4,
   "metadata": {
    "ExecuteTime": {
     "end_time": "2018-02-28T17:06:30.493587Z",
     "start_time": "2018-02-28T17:06:23.025745Z"
    },
    "hidden": true
   },
   "outputs": [
    {
     "data": {
      "text/html": [
       "        <script type=\"text/javascript\">\n",
       "        window.PlotlyConfig = {MathJaxConfig: 'local'};\n",
       "        if (window.MathJax) {MathJax.Hub.Config({SVG: {font: \"STIX-Web\"}});}\n",
       "        if (typeof require !== 'undefined') {\n",
       "        require.undef(\"plotly\");\n",
       "        requirejs.config({\n",
       "            paths: {\n",
       "                'plotly': ['https://cdn.plot.ly/plotly-2.2.0.min']\n",
       "            }\n",
       "        });\n",
       "        require(['plotly'], function(Plotly) {\n",
       "            window._Plotly = Plotly;\n",
       "        });\n",
       "        }\n",
       "        </script>\n",
       "        "
      ]
     },
     "metadata": {},
     "output_type": "display_data"
    }
   ],
   "source": [
    "from numpy import array as arr"
   ]
  },
  {
   "cell_type": "code",
   "execution_count": 29,
   "metadata": {},
   "outputs": [
    {
     "name": "stdout",
     "output_type": "stream",
     "text": [
      "SAS Locking Transition Frequency = 377.10604795248366 THz\n",
      "Offset Locking Transition Frequency = 377.10520674002095 THz\n",
      "Frequnecy difference = 841.21246275 MHz\n"
     ]
    }
   ],
   "source": [
    "### Rubidium 85 D1 \n",
    "Rb85_D1_S12_to_P12 = 377.107385690*1e12\n",
    "Rb85_D1_S12_F3_splitting = 1.2648885163*1e9\n",
    "Rb85_D1_P12_F3_splitting = 150.659*1e6\n",
    "\n",
    "\n",
    "### Rubidium 87 D1 \n",
    "Rb85_D1_S12_to_P12 = 377.1074635*1e12\n",
    "Rb85_D1_S12_F2_splitting = 2.56300597908911*1e9\n",
    "Rb85_D1_P12_F2_splitting = 306.246*1e6\n",
    "\n",
    "Rb85_D1_S12_F3_to_P12_F2 = (Rb85_D1_S12_to_P12 - Rb85_D1_S12_F3_splitting - Rb85_D1_P12_F3_splitting)\n",
    "\n",
    "Rb87_D1_S12_F2_to_P12_F2 = (Rb85_D1_S12_to_P12 - Rb85_D1_S12_F2_splitting + Rb85_D1_P12_F2_splitting)\n",
    "\n",
    "master_offset_splitting = Rb85_D1_S12_F3_to_P12_F2 - Rb87_D1_S12_F2_to_P12_F2\n",
    "\n",
    "print('SAS Locking Transition Frequency =',Rb85_D1_S12_F3_to_P12_F2*10**-12, 'THz')\n",
    "print('Offset Locking Transition Frequency =',Rb87_D1_S12_F2_to_P12_F2*10**-12, 'THz')\n",
    "print('Frequnecy difference =',master_offset_splitting*1e-6, 'MHz')"
   ]
  },
  {
   "cell_type": "code",
   "execution_count": null,
   "metadata": {},
   "outputs": [],
   "source": []
  }
 ],
 "metadata": {
  "anaconda-cloud": {},
  "hide_input": false,
  "kernelspec": {
   "display_name": "Python 3 (ipykernel)",
   "language": "python",
   "name": "python3"
  },
  "language_info": {
   "codemirror_mode": {
    "name": "ipython",
    "version": 3
   },
   "file_extension": ".py",
   "mimetype": "text/x-python",
   "name": "python",
   "nbconvert_exporter": "python",
   "pygments_lexer": "ipython3",
   "version": "3.8.8"
  },
  "nav_menu": {},
  "notify_time": "10",
  "record_timing": true,
  "toc": {
   "nav_menu": {},
   "number_sections": true,
   "sideBar": true,
   "skip_h1_title": false,
   "toc_cell": true,
   "toc_position": {
    "height": "780px",
    "left": "0px",
    "right": "1329.33px",
    "top": "107px",
    "width": "277px"
   },
   "toc_section_display": "none",
   "toc_window_display": false
  },
  "toc-autonumbering": true,
  "toc-showcode": false,
  "toc-showmarkdowntxt": false,
  "toc-showtags": false,
  "varInspector": {
   "cols": {
    "lenName": 16,
    "lenType": 16,
    "lenVar": 40
   },
   "kernels_config": {
    "python": {
     "delete_cmd_postfix": "",
     "delete_cmd_prefix": "del ",
     "library": "var_list.py",
     "varRefreshCmd": "print(var_dic_list())"
    },
    "r": {
     "delete_cmd_postfix": ") ",
     "delete_cmd_prefix": "rm(",
     "library": "var_list.r",
     "varRefreshCmd": "cat(var_dic_list()) "
    }
   },
   "types_to_exclude": [
    "module",
    "function",
    "builtin_function_or_method",
    "instance",
    "_Feature"
   ],
   "window_display": false
  }
 },
 "nbformat": 4,
 "nbformat_minor": 4
}
